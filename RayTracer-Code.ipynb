{
 "cells": [
  {
   "attachments": {
    "image.png": {
     "image/png": "[encoded data removed]"
    }
   },
   "cell_type": "markdown",
   "metadata": {},
   "source": [
    "# The Ray Tracer Challenge\n",
    "## A Test-Driven Guide to Your First 3D Renderer\n",
    "### by James Buck\n",
    "\n",
    ">Brace yourself for a fun challenge: build a photorealistic 3D renderer from scratch! It’s easier than you think. In just a couple of weeks, build a ray tracer that renders beautiful scenes with shadows, reflections, brilliant refraction effects, and subjects composed of various graphics primitives: spheres, cubes, cylinders, triangles, and more. With each chapter, implement another piece of the puzzle and move the renderer that much further forward. Do all of this in whichever language and environment you prefer, and do it entirely test-first, so you know it’s correct. Recharge yourself with this project’s immense potential for personal exploration, experimentation, and discovery.\n",
    "\n",
    "Opening quote from the beta ebook copy, September 2018. Publication due November 2018 (now February 2019). For details, see\n",
    "\n",
    "https://pragprog.com/book/jbtracer/the-ray-tracer-challenge\n",
    "\n",
    "This Jupyter notebook will serve as a software definition of the ray tracer described in the above book. Code developed in earlier notebooks will be organized, documented and optimized. The workspace exported from this notebook can be used in the test cases defined in the book or used with a set of demonstration scenes associated with each chapter of the book.\n",
    "\n",
    "![image.png](attachment:image.png)\n"
   ]
  },
  {
   "cell_type": "markdown",
   "metadata": {},
   "source": [
    "## Conventions\n",
    "Some of the functions called for in this book are quite simple, and needn't actually be coded as separate functions. The code within them could easily be inserted directly into where the functions are used. To denote this, simple substitutable functions will be referred to as Macros in the function description list. The APL function names will for the most part be the same as those given in the book.\n",
    "\n",
    "The data structures defined in the book will be represented by nested vectors. For each element of the vector data structure a constant will be defined whose value is the index of the element. These constants will be defined in the form\n",
    "\n",
    "*object* _ **attribute**\n",
    "\n",
    "This indexing form will be used throughout, in test cases and in functions. When the code is ready for optimization then the named indices will be replaced by integers."
   ]
  },
  {
   "cell_type": "markdown",
   "metadata": {},
   "source": [
    "## Development Approach\n",
    "This is my third time through the book to produce a ray tracer in Dyalog APL. In this notebook I'll take the code developed in the previous test driven development approach and try to organize and standardize the code. I've managed to work my way up to Chapter 15 of the book, but not all of the functionality in that chapter was completed. I took a quite different approach to Groups defined in Chapter 14. Although Triangles were implemented in Chapter 15, a complete parsing of OBJ 3D files was not completed. Chapter 16, Constructive Solid Geometry was the last remaining chapter, and has not yet been attempted.\n",
    "\n",
    "I've noted the main problem with the book *The Ray Tracer Challenge* in earlier notebooks. The author develops code and data structures in an iterative fashion which can result in changes to data structures and functions. This in turn can force earlier tests to be rewritten to accomodate changes in function signature. I've decided now to consolidate what has been written into something that is well documented and more understandable on its own. I'll place all of the Chapter tests in a separate notebook for code validation, just as the Demo programs were put in a separate notebook in the last iteration through the book.\n",
    "\n",
    "The approach I plan to take this time through is to divide the code notebook into three main sections;\n",
    "\n",
    "- A ***Data Structures*** section that deals with the basic object representations in the ray tracer\n",
    "- A ***Library Functions*** section devoted to functions that operate on the ray tracer data structures, and\n",
    "- A ***Ray Tracer Program*** section that defines the ray tracer processing code itself\n",
    "\n",
    "Keeping the data structure and library functions for ray tracer scenes separate would be worthwhile because of the way the author emphasized an object-oriented approach to developing the ray tracer. Dyalog APL supports OO programming so keeping these together would make an OO rewrite easier. The data structures and library functions themselves will still be in their separate sections but they will be kept together within each section.\n",
    "\n",
    "Finally, the functions defined here in this notebook are described in some detail in the *Ray Tracer Challenge* book and the pseudo-code for most functions can be found in the Test Cases notebook."
   ]
  },
  {
   "cell_type": "markdown",
   "metadata": {},
   "source": [
    "## Lessons\n",
    "Here's a good place to keep track of things I learn about APL along the way.\n",
    "\n",
    "1) I was delighted to discover that you can do arithmetic with enclosed arrays (seems I've forgotten the definition of a scalar function!).\n",
    "\n",
    "Prior to that I would generally disclose, perform the processing then enclose the result. What I found in the **prepare_computations** function was that I could do the following two expressions\n",
    "\n",
    "```\n",
    "   Z[hit_point] +← Z[hit_normalv]×EPSILON ⍝ Added for acne\n",
    "   Z[hit_reflectv]← R[ray_direction] reflect Z[hit_normalv]\n",
    "```\n",
    "\n",
    "The five values in the above two expressions are all enclosed values in nested vectors. Neat! I'll have to review my old code and fix it up.\n",
    "\n",
    "2) I discovered that def'ns are tail recursive; Great news!\n",
    "This may be a means of implementing the recursive limit on calls without the RECURSE external variable, or at least something that can be used in the future.\n",
    "\n",
    "3) I finally remembered the command for accessing an element from a nested array: **Pick**. Go back to my code and tests and use Pick instead of various Index arrangements. For example\n",
    "\n",
    "```\n",
    "1 1 group_members ⊃ parser_output\n",
    "```\n",
    "\n",
    "4) I was looking for a way to update a value in a nested array and Pick does the trick in an assignment statement. Many of my earlier tests involves extracting a nested structure, updating it, then reinserting it into its parent array. Now I need only do\n",
    "\n",
    "```\n",
    "(obj_material material_transparency ⊃ obj)← 0.9\n",
    "```\n",
    "\n",
    "5) It looks like I can use the Each (¨) command to turn a function that operates on a scalar into one that operates on an array. For example, to create a list of identity matrices, use\n",
    "\n",
    "```\n",
    "idents←{identity¨,⍵}\n",
    "```\n",
    "\n",
    "6) A similar way to access nested array elements is **Reach Indexing**.<br>\n",
    "This method uses a set of indices within parentheses to access elements. So an example similar to the above use of Pick would be as shown below. It has the advantage of accepting a list of indices the same as with Simple Indexing.\n",
    "\n",
    "```\n",
    "obj[(obj_material material_reflective)(obj_material material_transparency)]← 0.9 0.9\n",
    "```\n",
    "\n",
    "7)Functions defined within dfns don't need braces?<br>\n",
    "Found an interesting example in the Dyalog forum. The sample function created functions within its body but did not enclose them in braces when assigning them to a local variable. What's more, the two inner functions were invoked within a parenthesized expression that took the argument of the main function. The code was as shown below. Note that '≡/' is really the equal underbar slash character.\n",
    "\n",
    "```\n",
    "avg2←{sum←+⌿ ⋄ num←≢ ⋄ (sum÷num)⍵}\n",
    "avg3←{sum←+⌿ ⋄ num←≢  ⋄ avg←sum÷num ⋄ avg ⍵}\n",
    "```"
   ]
  },
  {
   "cell_type": "markdown",
   "metadata": {},
   "source": [
    "## Open Questions/Learning Opportunities\n",
    "1) I have ***got*** to get a grasp of nested arrays, enclose and disclose! There must be a way of boiling things down to a few simple rules because I spend 90% of my debugging time on this issue! Much of it is a result of trying to build a list, so I think if I look at a list support package I'll get a better idea of how things work. Perhaps even use the package itself.\n",
    "\n",
    "**Answer:** Indexing returns an enclosed value, Pick returns the unenclosed value."
   ]
  },
  {
   "cell_type": "markdown",
   "metadata": {},
   "source": [
    "\n",
    "2) What is the means by which I can replace elements in a nested array? I know I can use dyadic Pick (⊃) to extract a single element. There is I believe a means of doing selective assignment. I'm not sure there is a way to do so via a series of indices though. The **Pick** function is one function for which selective assignment is appropriate, so play with that a bit.<br>\n",
    "\n",
    "**Answer:** Use a Pick expression in parentheses and assign value(s) to it. Note that the assignment is different from an indexed assignment, which must enclose a non-scalar value. If assigning to an element that is a vector, the vector value doesn't need to be enclosed."
   ]
  },
  {
   "cell_type": "markdown",
   "metadata": {},
   "source": [
    "3) How can I place a generalized function reference in a nested vector? I would like to let a user define their own pattern function, but I don't know how to treat a function as a first class object in APL. I'd want the **pattern_at** and **pattern_at_shape** functions to invoke the function a user has defined for their own custom pattern."
   ]
  },
  {
   "cell_type": "markdown",
   "metadata": {},
   "source": [
    "## Optimization\n",
    "When testing is complete, the code can be optimized by\n",
    "\n",
    "- replacing the \"constants\" with their numeric values\n",
    "- combining several expressions into one (initially separated for readability)\n",
    "- eliminate unnecessary disclose/enclose\n",
    "- nested indexing in place of disassemble/assemble\n",
    "- incorporating simple \"macros\" like point() into the code that uses them\n",
    "- converting functions used in loops to accept array inputs\n",
    "\n",
    "I'm quite reluctant to implement the first item in the above list because the use of meaningful variable names in place of numeric index values makes the code much more readable and maintainable. perhaps the support advantages greatly outweigh any speed advantages. I suspect replacing functions like point in other procedures won't help that much if function compilation already does that for me, much like inlining a function. Definitely need to delve into the documentation a bit more.\n",
    "\n",
    "The real key to improving performance will be to stop thinking in terms of scalar precedural languages and start thinking in terms of array processing. For instance, can an entire image array be processed, or processed a row at a time? How about using the Each operator ¨ in place of a loop? It took years for me to stop writing functional programs in procedural fashion, so I expect the same learning curve for APL."
   ]
  },
  {
   "cell_type": "markdown",
   "metadata": {},
   "source": [
    "### Other Ideas\n",
    "Another idea for optimization comes from the authors web site: cache the inverse of the transform matrix for an object! Simple, given how often it is used. Just need to add an extra field to an object nested vector for the inverse and initialize it to null. In use, check to see if it exists and if so use it; if not create it."
   ]
  },
  {
   "cell_type": "markdown",
   "metadata": {},
   "source": [
    "## Managing Tasks\n",
    "I'll start with a list of tasks to improve the ray tracer code and add notes as the tasks are addressed.\n",
    "\n",
    "1) ***Swap row and column usage in the canvas data structure.*** - Done<br>\n",
    "This will impact the **render** function as well as the **canvas_to_ppm** function.\n",
    "\n",
    "In the *canvas* function I reversed the width and height values (⌽⍵) so that the array would be rows high and columns wide. In the **canvas_to_ppm** function I removed the initial transpose of the canvas because it was no longer needed, but I did need to transpose the shape of the canvas (⍴⍵) when writing out the canvas height and width. In the **render** function, all I needed to do was reverse the indices of the canvas to Z[y+1;x+1] to correctly access the canvas array. I should now be ready to process a row at a time and to put the canvas in an inverted array format."
   ]
  },
  {
   "cell_type": "markdown",
   "metadata": {},
   "source": [
    "2) ***Eliminate argument counting residue from function redefinitions.*** - Done<br>\n",
    "The author redefined the arguments for several functions like **prepare_computations** and **lighting** which would have forced a rewrite of earlier tests. Rather than do that I checked how many arguments were passed and set defaults for some that were not there. Time to fix these two!\n",
    "\n",
    "The **lighting** function was easy to fix since it is only used in one place and all arguments are supplied. Test cases will need to be modified to add the additional arguments. I'll wait on changing **prepare_computations** until I have refraction working."
   ]
  },
  {
   "cell_type": "markdown",
   "metadata": {},
   "source": [
    "3) ***Convert procedural functions to defined functions (d'funs).*** - Mostly done<br>\n",
    "Candidate conversions include; pattern_at, pattern_at_shape, flatten_group, intersect_world, prepare_computations, lighting and schlick. The **cylinder_intersect** and **cone_intersect** have fairly deep conditional nesting. I'd need to define functions within the main function to properly decompose these into simple d'fns.\n",
    "\n",
    "The **pattern_at** function was a bit tricky because I rewrote some of the conditional expression, and because the comparisons had to be zero equals and 0 not equal. The **pattern_at_shape** was a no-brainer. The **prepare_computations** function was not too bad. With the **lighting** function I started out with an embedded function but found a better way to code the conditional if-then-else section.\n",
    "\n",
    "The **intersect_world** function was truely a badass to get working. I had to turn a list of intersection pairs and nulls into a flat list with nulls removed and then sort by intersection distance. I think it would be worthwhile trying to implement this as a tail-recursive function inside an intersect_world wrapper! The **flatten_group** function is also an obvious recursive candidate.\n",
    "\n",
    "I timed the two versions of **intersect_world** (procedural and dfun) and they took the same amount of time. So I guess it's a matter of taste which approach to use."
   ]
  },
  {
   "cell_type": "markdown",
   "metadata": {},
   "source": [
    "4) ***Combine multiple expressions into fewer expressions and temporary variables.*** - Skip<br>\n",
    "While first writing code I pretty much followed the pseudocode written in the book with all of their short expressions and assignments. I should reduce the number of intermediate expressions and variables and hopefully speed things up.\n",
    "\n",
    "The **ray_for_pixel** function is a good starting point because it is called for every point in a canvas. Any improvement should be measurable on a large enough canvas. Turns out the smaller version is about 1% *slower* than the longer version. The difference is likely due to differences in starting the stopwatch, so I might as well skip this optimization approach."
   ]
  },
  {
   "cell_type": "markdown",
   "metadata": {},
   "source": [
    "5) ***Round color values to zero that are less than EPSILON.*** - Done<br>\n",
    "After getting refraction working I found the **canvas_to_ppm** function was throwing a DOMAIN ERROR when trying to format (⍕) the color values in the canvas array. There must be some sort of non-numeric value in the canvas. A complex number will cause format to throw a DOMAIN ERROR, so I need to find where that is happening. While examining the data I noticed a lot of very small integer values, so I should probably set any value less than EPSILON to zero. That would also eliminate possible negative values (which shouldn't happen)."
   ]
  },
  {
   "cell_type": "markdown",
   "metadata": {},
   "source": [
    "6) ***Change the canvas array to an Inverted Table.*** - Done<br>\n",
    "There was a good presentation on Inverted Tables that demonstrated significant space savings and better processing times. Since I'm processing a canvas a row at a time, I could represent a canvas as a vector of rows and then perform an Each style process on the row. This data representation would make it a little easier to implement anti-aliasing.\n",
    "\n",
    "I have this working now and it does show some improvement in rendering time, and the improvement improves with the size of the canvas being rendered. For a given test scene a 400 by 200 canvas rendered 30% faster, while an 800 by 400 improved by 103%. Perhaps rather than creating a blank canvas and then replacing pixels, I should try building the canvas on the fly.\n",
    "\n",
    "Building the canvas data structure a row at a time provided only a small speedup. I'll keep the change anyway. I suspect I can't beat the APL interpreter at optimizing the code I write unless I read more about idioms."
   ]
  },
  {
   "cell_type": "markdown",
   "metadata": {},
   "source": [
    "7) ***Update shade_hit to process multiple light sources.***<br>\n",
    "Multiple **point_light** sources can create interesting shadow patterns. Grouped together, they are a way to implement area light sources so that shadows are diffuse rather than sharp."
   ]
  },
  {
   "cell_type": "markdown",
   "metadata": {},
   "source": [
    "8) ***Return a single intersection for shapes that generate only one.*** - Done<br>\n",
    "Early on in developing the code some shapes like Plane only produced one ray intersection but I was returning two intersections with identical values. I did this to be compatible with the first Sphere shape but also because I was having problems with producing a list with only one element. Go back and generate a single hit list.\n",
    "\n",
    "I had to return to the original procedural function code to accomplish this. Now **plane_intersect** returns an intersection list with one entry, and **cylinder_intersect/cone_intersect** return only a list of valid intersections, even if just one."
   ]
  },
  {
   "cell_type": "markdown",
   "metadata": {},
   "source": [
    "9) ***Implement the true recursive call with recurse limits for color_at.*** - Done!<br>\n",
    "The author had an unfortunate solution to a recursive loop involving **color_at**, **shade_hit** and the two **reflected_color**/**refracted_color** functions. I've implemented something slightly different that seems to work. I'm thus not too sure this task adds anything to functionality, but it does get rid of a global variable. Might also make a useful exercise in processing multiple arguments, because function forms would change from\n",
    "\n",
    "- *world* **color_at** *ray* → *color*\n",
    "- *world* **shade_hit** hit → *color*\n",
    "- *world* **reflected_color** *comps* → *color*\n",
    "- *world* **refracted_color** *comps* → *color*\n",
    "\n",
    "to\n",
    "\n",
    "- *world* **color_at** *ray* remaining → *color*\n",
    "- *world* **shade_hit** hit remaining → *color*\n",
    "- *world* **reflected_color** *comps* *remaining* → *color*\n",
    "- *world* **refracted_color** *comps* *remaining* → *color*\n",
    "\n",
    "The first call to **color_at** in **render** will be the one to set the *remaining* argument value to the maximum recursion limit.\n",
    "\n",
    "This change fixed the problem I was having with objects that were both reflective and transparent. The recursion counting I was using seemed to peter out with the reflection chain and fail to backtrack to the transparency chain. Now it is working, but the time for the Chapter 11 demoprogram at 800x600 increased from 15 minutes to 19 minutes, so time for some speedup changes!"
   ]
  },
  {
   "cell_type": "markdown",
   "metadata": {},
   "source": [
    "10) ***Convert code to put everything in a namespace.*** - Done<br>\n",
    "Quite a number of things, like default shapes, are represented as variables rather than as functions. The problem is that if I put all code into a namespace then I can't access these variables implicitly by setting the search path variable ⎕PATH. So creating a sphere would have to be something like ```s← #.RayTracer.sphere``` which is explicitly tied to the namespace containing the code.\n",
    "\n",
    "There aren't that many items that need to change, and this would be a good preparatory steps towards an object-oriented implementation of the ray tracer. As a bonus I could save the code content to a file using the SALT code management system. I'd need functions for all Shapes, Patterns, Identity4 matrix and World."
   ]
  },
  {
   "cell_type": "markdown",
   "metadata": {},
   "source": [
    "11) ***Add a precomputed inverse transform field to shapes and materials.*** - Done<br>\n",
    "The most significant way to speed up rendering time is to precompute the inverse of transformation matrix at object definition time rather than repeatedly computing it during rendering. Thie has the added advantage of throwing a DOMAIN ERROR during scene definition should the matrix have no inverse rather than in the middle of rendering.\n",
    "\n",
    "Objects with transform matrices:\n",
    "+ Shapes: Sphere, Glass Sphere, Plane, Cube, Cylinder, Cone, Group, Triangle, Smooth Triangle\n",
    "+ Patterns: Stripe, Gradient, Ring, Checker\n",
    "+ Camera\n",
    "\n",
    "Functions that use the inverse transform matrix\n",
    "+ Set matrix: default_world, flatten_group\n",
    "+ Invert matrix: pattern_at_shape, sphere_normal_at, intersect, normal_at, ray_for_pixel\n",
    "\n",
    "The results of eliminating all of the transform matrix inversions during rendering and replacing them with precomputed lookups did not have as big an improvement in rendering time as I had hoped. The demo scene from Chapter 11 with Reflection and Transparency at 600x800 went from 19:12 minutes to 17:03 minutes, about a 11% improvement. It requires a little extra work during scene description to have both matrix assignments, so I'll add helper functions.\n",
    "\n",
    "+ *shape* **add_shape_transform** *transform_matrix* → *shape*\n",
    "+ *pattern* **add_pattern_transform** *transform_matrix* → *pattern*\n",
    "\n",
    "These helper functions will assign the given transform matrix and its inverse and return the updated object."
   ]
  },
  {
   "cell_type": "markdown",
   "metadata": {},
   "source": [
    "12) ***Profile code to find areas for optimization.***<br>\n",
    "Learning to use the Dyalog APL profiling tools would be very useful, and here's a chance to start."
   ]
  },
  {
   "cell_type": "markdown",
   "metadata": {},
   "source": [
    "## Program Profiling\n",
    "Program profiling is fairly simple to do. The following command sequence can be used to profile a typical rendering task.\n",
    "\n",
    "```\n",
    "⎕PROFILE 'start'\n",
    "im← w render c\n",
    "⎕PROFILE 'stop'\n",
    "]Profile\n",
    "```\n",
    "\n",
    "The last statement will pop up a graphic window showing profile data in tabular or piechart form, and will allow you to drill down into each function to see how much time is spent in each statement line.\n",
    "\n",
    "Single statements can also be profiled. This is useful in testing changes to a single function. For example\n",
    "\n",
    "```\n",
    "r← (point 0 0 ¯1) #.RayTracer.ray vector 0 0 1\n",
    "]runtime \"{#.RayTracer.sphere #.RayTracer.sphere_intersect r}¨⍳100000\"\n",
    "```"
   ]
  },
  {
   "cell_type": "markdown",
   "metadata": {},
   "source": [
    "Two functions rose to the top duing profile, **dot** and **transform**. Since the **dot** function is simply the ```+.×``` expression, the function can be directly replaced with the expression in the seven places it occurs. The **transform** function is a bit more complex but is only used by the **intersect** function. Inlining the two functions seems to have an effect when benchmarking in isolation using ```]runtime``` but has only a small, less than 1% impact on overall rendering time.\n",
    "\n",
    "One thing that helps is to rewrite the **transform** function to a more efficient form AND substitute it into the **intersect** function. That should result in about a 4% improvement in rendering time. The **transform** function is rewritten from\n",
    "\n",
    "```transform← {(⍺ +.× ⊃⍵[ray_origin]) (⍺ +.× ⊃⍵[ray_direction])}```\n",
    "\n",
    "to\n",
    "\n",
    "```transform← {tm←⍺⋄{tm+.×⍵}¨⍵}```\n",
    "\n",
    "Note: ***Rewriting individual computations on elements of an array so that is function is applied to each of the elements should provide a guiding example for other optimizations.***"
   ]
  },
  {
   "cell_type": "markdown",
   "metadata": {},
   "source": [
    "Another interesting takeaway from profiling. I had written the **check_axis** function for cube rendering as taking two arguments on the righthand side. Profiling showed extracting the two arguments as ```(o d)← ⍵``` was taking a significant amount of time, so I rewrote  **check_axis** to do the usual lefthand and righthand argument approach. The result was a nearly 9% improvement in rendering time for the simple Chapter12 demo! See if there are any other simple wins like that."
   ]
  },
  {
   "cell_type": "markdown",
   "metadata": {},
   "source": [
    "# Work Environment\n",
    "Let's put everything into a separate workspace called (naturally) RayTracer. Create the namespace then change into it so that all subsequent variables and functions are created within it. Might as well also name our workspace while we're at it!"
   ]
  },
  {
   "cell_type": "code",
   "execution_count": 1,
   "metadata": {},
   "outputs": [
    {
     "data": {
      "text/html": [
       "<span style=\"white-space:pre; font-family: monospace\">clear ws\n",
       "</span>"
      ]
     },
     "execution_count": 1,
     "metadata": {},
     "output_type": "execute_result"
    },
    {
     "data": {
      "text/html": [
       "<span style=\"white-space:pre; font-family: monospace\">was CLEAR WS\n",
       "</span>"
      ]
     },
     "execution_count": 1,
     "metadata": {},
     "output_type": "execute_result"
    },
    {
     "data": {
      "text/html": [
       "<span style=\"white-space:pre; font-family: monospace\">#.RayTracer\n",
       "</span>"
      ]
     },
     "execution_count": 1,
     "metadata": {},
     "output_type": "execute_result"
    },
    {
     "data": {
      "text/html": [
       "<span style=\"white-space:pre; font-family: monospace\">#.RayTracer\n",
       "</span>"
      ]
     },
     "execution_count": 1,
     "metadata": {},
     "output_type": "execute_result"
    }
   ],
   "source": [
    ")clear\n",
    ")WSID rtcode_ws\n",
    ")NS RayTracer\n",
    ")CS RayTracer"
   ]
  },
  {
   "cell_type": "markdown",
   "metadata": {},
   "source": [
    "# Data Structures\n",
    "In this section any data structure that will be used in the definition of a scene will be defined as an APL procedural function or direct function depending on circumstances. I've had many problems with direct functions that do not process arguments, so data structures like *material* or the various Shapes will be implemented as procedural functions."
   ]
  },
  {
   "cell_type": "markdown",
   "metadata": {},
   "source": [
    "These are constants or global variables used in the ray tracer code. Some of the so-called data structures in this section are actually APL functions that accept arguments, but are treated as though they are just data structures because they could be implemented as Abstract Data Types in other languages."
   ]
  },
  {
   "cell_type": "code",
   "execution_count": 2,
   "metadata": {},
   "outputs": [
    {
     "data": {
      "text/html": [
       "<span style=\"white-space:pre; font-family: monospace\">0.00001\n",
       "</span>"
      ]
     },
     "execution_count": 2,
     "metadata": {},
     "output_type": "execute_result"
    },
    {
     "data": {
      "text/html": [
       "<span style=\"white-space:pre; font-family: monospace\">9.9E99\n",
       "</span>"
      ]
     },
     "execution_count": 2,
     "metadata": {},
     "output_type": "execute_result"
    }
   ],
   "source": [
    "FALSE←     0\n",
    "TRUE←      1\n",
    "+EPSILON←  0.00001\n",
    "+INFINITY← 9.9e99\n",
    "MAX_RECURSION← 5"
   ]
  },
  {
   "cell_type": "markdown",
   "metadata": {},
   "source": [
    "Here are a few global flags to control code execution. Setting flags for evaluating reflection and refraction to FALSE can save rendering time if one or both of these attributes are not present in a scene being rendered."
   ]
  },
  {
   "cell_type": "code",
   "execution_count": 3,
   "metadata": {},
   "outputs": [],
   "source": [
    "EVAL_REFLECTION← TRUE\n",
    "EVAL_REFRACTION← TRUE"
   ]
  },
  {
   "cell_type": "markdown",
   "metadata": {},
   "source": [
    "## Defining the Ray Tracer Space\n",
    "A ray tracer operates in a three dimensional space referred to as a scene. Defining that space begins with data structures representing position (*point*) and direction (*vector*). Next, a *ray* is represented by its point of origin (a light source) and its direction. When a ray strikes a scene object, it is characterized as an *intersection* which consists of the object that was struck by a ray and the distance from the ray's origin. For scene processing, this intersection is augmented with additional computed values and referred to as a *hit* which extend the size of the intersection nested vector."
   ]
  },
  {
   "cell_type": "markdown",
   "metadata": {},
   "source": [
    "- **point** *x y z*  → x y z 1\n",
    "- **vector** *x y z* → x y z 0\n",
    "- *point* **ray** *vector* → ⊂point ⊂vector\n",
    "- *object* **intersection** *distance* → ⊂object, distance\n",
    "- **intersections** *intersection* ... *intersection* → sorted intersection list by distance"
   ]
  },
  {
   "cell_type": "markdown",
   "metadata": {},
   "source": [
    "These are sets of vector index values or identifying constants whose name makes the code context easier to understand. It would be nice if APL had a means of defining true immutable constants. When optimizing inner loops I'll likely leave the original statement as a comment and replace these names with their actual value."
   ]
  },
  {
   "cell_type": "code",
   "execution_count": 4,
   "metadata": {},
   "outputs": [],
   "source": [
    "⍝ Ray related constants\n",
    "ray_origin←    1\n",
    "ray_direction← 2\n",
    "\n",
    "⍝ Intersection (hit) related constants\n",
    "hit_object←   1\n",
    "hit_distance← 2\n",
    "⍝ These attributes are added by the prepare_computations function\n",
    "hit_point←    3\n",
    "hit_eyev←     4\n",
    "hit_normalv←  5\n",
    "hit_inside←   6\n",
    "hit_reflectv← 7\n",
    "hit_overpt←   8\n",
    "hit_underpt←  9\n",
    "hit_n1←      10\n",
    "hit_n2←      11"
   ]
  },
  {
   "cell_type": "code",
   "execution_count": 5,
   "metadata": {},
   "outputs": [],
   "source": [
    "⍝ These are like data structures with initial values\n",
    "point←{⍵,1}\n",
    "vector←{⍵,0}\n",
    "\n",
    "ray← {⍺⍵}\n",
    "intersection← {⍺⍵}\n",
    "intersections← {⍵[⍋hit_distance⊃¨⍵]}"
   ]
  },
  {
   "cell_type": "markdown",
   "metadata": {},
   "source": [
    "## Ray Tracer Object Attributes\n",
    "The main attributes of objects in a ray tracer scene are color, material, and pattern. Color is represented as a trio of values, Red, Green and Blue (RGB) with a range from 0.0 to 1.0 inclusive. APL will represent a color as a three element numeric array. Given its simplicity no constructor is needed, though it is useful to define a few constants."
   ]
  },
  {
   "cell_type": "code",
   "execution_count": 6,
   "metadata": {},
   "outputs": [],
   "source": [
    "red←     1 0 0\n",
    "green←   0 1 0\n",
    "blue←    0 0 1\n",
    "yellow←  1 1 0\n",
    "cyan←    0 1 1\n",
    "magenta← 1 0 1\n",
    "black←   0 0 0\n",
    "white←   1 1 1"
   ]
  },
  {
   "cell_type": "markdown",
   "metadata": {},
   "source": [
    "The identity matrix will appear later in the definition of patterns and scene objects.\n",
    "\n",
    "- **identity** *n* → n×n identity matrix\n",
    "- *identity4* → 4×4 identity matrix"
   ]
  },
  {
   "cell_type": "code",
   "execution_count": 7,
   "metadata": {},
   "outputs": [],
   "source": [
    "identity← {⍵ ⍵⍴1,⍵⍴0}"
   ]
  },
  {
   "cell_type": "code",
   "execution_count": 8,
   "metadata": {},
   "outputs": [],
   "source": [
    "∇Z← identity4\n",
    "  Z← identity 4\n",
    "∇"
   ]
  },
  {
   "cell_type": "code",
   "execution_count": 9,
   "metadata": {},
   "outputs": [
    {
     "data": {
      "text/html": [
       "<span style=\"white-space:pre; font-family: monospace\">1 0 0 0\n",
       "0 1 0 0\n",
       "0 0 1 0\n",
       "0 0 0 1\n",
       "</span>"
      ]
     },
     "execution_count": 9,
     "metadata": {},
     "output_type": "execute_result"
    }
   ],
   "source": [
    "identity4"
   ]
  },
  {
   "cell_type": "markdown",
   "metadata": {},
   "source": [
    "- **material** → *color* *ambient diffuse specular shininess* *reflective refractive transparency*\n",
    "\n",
    "A material is a key attribute of any shape in a ray tracer scene, and is the basis for color, reflectivity and transparency. This data structure mutated as new attributes were added in the chapters following its first definition. Luckily I could just tack the new attributes on the end of the original nested vector.\n",
    "\n",
    "I chose to store the *pattern* attribute in the same place as the *color* attribute that it overrides. That means any code processing a material needs to distinguish between the color and material data structures."
   ]
  },
  {
   "cell_type": "code",
   "execution_count": 10,
   "metadata": {},
   "outputs": [],
   "source": [
    "⍝ Material indices\n",
    "material_color←        1\n",
    "material_ambient←      2\n",
    "material_diffuse←      3\n",
    "material_specular←     4\n",
    "material_shininess←    5\n",
    "material_pattern←      material_color\n",
    "material_reflective←   6  ⍝ Reflective 0.0 to 1.0\n",
    "material_refractive←   7  ⍝ Refractive Index\n",
    "material_transparency← 8  ⍝ Reflective 0.0 to 1.0\n",
    "\n",
    "⍝ Default material and a specific one\n",
    "⍝ material← (1 1 1) 0.1 0.9 0.9 200 0 1.0 0\n",
    "⍝ glass←    (1 1 1) 0.1 0.9 0.9 200 0 1.5 1"
   ]
  },
  {
   "cell_type": "code",
   "execution_count": 11,
   "metadata": {},
   "outputs": [],
   "source": [
    "∇Z← material\n",
    "  Z← (1 1 1) 0.1 0.9 0.9 200 0 1.0 0\n",
    "∇"
   ]
  },
  {
   "cell_type": "code",
   "execution_count": 12,
   "metadata": {},
   "outputs": [],
   "source": [
    "∇Z← glass\n",
    "  Z← (1 1 1) 0.1 0.9 0.9 200 0 1.5 1\n",
    "∇"
   ]
  },
  {
   "cell_type": "code",
   "execution_count": 13,
   "metadata": {},
   "outputs": [
    {
     "data": {
      "text/html": [
       "<span style=\"white-space:pre; font-family: monospace\">┌─────┬───┬───┬───┬───┬─┬─┬─┐\n",
       "│1 1 1│0.1│0.9│0.9│200│0│1│0│\n",
       "└─────┴───┴───┴───┴───┴─┴─┴─┘\n",
       "</span>"
      ]
     },
     "execution_count": 13,
     "metadata": {},
     "output_type": "execute_result"
    },
    {
     "data": {
      "text/html": [
       "<span style=\"white-space:pre; font-family: monospace\">┌─────┬───┬───┬───┬───┬─┬───┬─┐\n",
       "│1 1 1│0.1│0.9│0.9│200│0│1.5│1│\n",
       "└─────┴───┴───┴───┴───┴─┴───┴─┘\n",
       "</span>"
      ]
     },
     "execution_count": 13,
     "metadata": {},
     "output_type": "execute_result"
    }
   ],
   "source": [
    "material\n",
    "glass"
   ]
  },
  {
   "cell_type": "markdown",
   "metadata": {},
   "source": [
    "Patterns are nested arrays with an ID in the first position to identify what type of pattern it is. Chapter 10 suggests creating your own additional patterns, and also allowing patterns to nest so that the color1 and color2 fields could be patterns. Another idea is a pattern with two patterns that are blended together at a given point, i.e. two stripe patterns at 90 degree angles. That could get pretty interesting!\n",
    "\n",
    "POV-Ray allows you to define your own pattern function. Just add that definition and patterns could be externalized.\n",
    "\n",
    "- *color* **stripe_pattern** *color* → *pattern*\n",
    "- *color* **gradient_pattern** *color* → *pattern*\n",
    "- *color* **ring_pattern** *color* → *pattern*\n",
    "- *color* **checker_pattern** *color* → *pattern*\n",
    "- *pattern* **add_pattern_transform** *transform_matrix* → *pattern*"
   ]
  },
  {
   "cell_type": "code",
   "execution_count": 14,
   "metadata": {},
   "outputs": [
    {
     "data": {
      "text/html": [
       "<span style=\"white-space:pre; font-family: monospace\">┌─┬───────┬───────┬─────┬─────┐\n",
       "│1│1 0 0 0│1 0 0 0│1 1 1│0 0 0│\n",
       "│ │0 1 0 0│0 1 0 0│     │     │\n",
       "│ │0 0 1 0│0 0 1 0│     │     │\n",
       "│ │0 0 0 1│0 0 0 1│     │     │\n",
       "└─┴───────┴───────┴─────┴─────┘\n",
       "</span>"
      ]
     },
     "execution_count": 14,
     "metadata": {},
     "output_type": "execute_result"
    }
   ],
   "source": [
    "⍝ Pattern array indices\n",
    "pattern_type←      1\n",
    "pattern_transform← 2\n",
    "pattern_inverse←   3\n",
    "pattern_color1←    4\n",
    "pattern_color2←    5\n",
    "\n",
    "⍝ Pattern Type IDs\n",
    "pat_test←          0\n",
    "pat_stripe←        1\n",
    "pat_gradient←      2\n",
    "pat_ring←          3\n",
    "pat_checker←       4\n",
    "\n",
    "⍝ Patterns\n",
    "⍝ test_pattern←      pat_test identity4 (0 0 0) (1 1 1)\n",
    "stripe_pattern←    {pat_stripe identity4 identity4 ⍺ ⍵}\n",
    "gradient_pattern←  {pat_gradient identity4 identity4 ⍺ ⍵}\n",
    "ring_pattern←      {pat_ring identity4 identity4 ⍺ ⍵}\n",
    "checker_pattern←   {pat_checker identity4 identity4 ⍺ ⍵}\n",
    "\n",
    "1 1 1 stripe_pattern 0 0 0"
   ]
  },
  {
   "cell_type": "code",
   "execution_count": 15,
   "metadata": {},
   "outputs": [],
   "source": [
    "∇Z← test_pattern\n",
    "  Z← pat_test identity4 identity4 (0 0 0) (1 1 1)\n",
    "∇"
   ]
  },
  {
   "cell_type": "code",
   "execution_count": 16,
   "metadata": {},
   "outputs": [
    {
     "data": {
      "text/html": [
       "<span style=\"white-space:pre; font-family: monospace\">┌─┬───────┬───────┬─────┬─────┐\n",
       "│0│1 0 0 0│1 0 0 0│0 0 0│1 1 1│\n",
       "│ │0 1 0 0│0 1 0 0│     │     │\n",
       "│ │0 0 1 0│0 0 1 0│     │     │\n",
       "│ │0 0 0 1│0 0 0 1│     │     │\n",
       "└─┴───────┴───────┴─────┴─────┘\n",
       "</span>"
      ]
     },
     "execution_count": 16,
     "metadata": {},
     "output_type": "execute_result"
    }
   ],
   "source": [
    "test_pattern"
   ]
  },
  {
   "cell_type": "markdown",
   "metadata": {},
   "source": [
    "Now that the code uses precomputed inverse transform matrices, this helper function is added so that both the transform matrix and its inverse can be added at the same time."
   ]
  },
  {
   "cell_type": "code",
   "execution_count": 17,
   "metadata": {},
   "outputs": [],
   "source": [
    "]dinput\n",
    "add_pattern_transform←{\n",
    "  ⍝ pattern  pattern_transform  pattern → pattern\n",
    "  p← ⍺\n",
    "  p[pattern_transform]← ⊂⍵\n",
    "  p[pattern_inverse]← ⊂⌹⍵\n",
    "  p\n",
    "  }"
   ]
  },
  {
   "cell_type": "markdown",
   "metadata": {},
   "source": [
    "## Ray Tracer Scene Objects"
   ]
  },
  {
   "cell_type": "markdown",
   "metadata": {},
   "source": [
    "The various objects in a ray tracer scene and the constants associated with them. All of these objects are defined as being situated at the origin of a scene with default dimensions. A transform matrix is used to translate, scale or rotate the object to its actual position in a scene, or so you might think as a scene designer. When rendering a scene though, the ray from a point light source is transformed instead, and a check is made to see if the ray intersects the object.\n",
    "\n",
    "- *sphere* → obj_sphere identity4 material\n",
    "- *plane* → obj_plane identity4 material\n",
    "- *cube* → obj_cube identity4 material\n",
    "- *cylinder* → obj_cylinder identity4 material min max false\n",
    "- *cone* → obj_cone identity4 material min max false\n",
    "- *group* → obj_group identity4 ⍬ ⍬\n",
    "- *shape* **add_shape_transform** *transform_matrix* → *shape*\n",
    "\n",
    "Note that these shapes are not implemented as functions taking parameterized attributes. Might not be a bad idea though to specify a material at the time a shape is created."
   ]
  },
  {
   "cell_type": "code",
   "execution_count": 18,
   "metadata": {},
   "outputs": [],
   "source": [
    "⍝ Object identifier constants\n",
    "shape_test←       0\n",
    "shape_sphere←     1\n",
    "shape_plane←      2\n",
    "shape_cube←       3\n",
    "shape_cylinder←   4\n",
    "shape_cone←       5\n",
    "shape_group←      6\n",
    "shape_triangle←   7\n",
    "shape_smtriangle← 8\n",
    "\n",
    "⍝ Object index constants\n",
    "obj_tag←       1\n",
    "obj_transform← 2\n",
    "obj_inverse←   3\n",
    "obj_material←  4\n",
    "\n",
    "cylinder_minimum← 5\n",
    "cylinder_maximum← 6\n",
    "cylinder_closed←  7\n",
    "\n",
    "cone_minimum← 5\n",
    "cone_maximum← 6\n",
    "cone_closed←  7\n",
    "\n",
    "triangle_points← 5\n",
    "triangle_edges←  6\n",
    "triangle_normal← 7\n",
    "\n",
    "group_members← 5"
   ]
  },
  {
   "cell_type": "code",
   "execution_count": 19,
   "metadata": {},
   "outputs": [],
   "source": [
    "∇Z← test_shape\n",
    "  Z← shape_test identity4 identity4 material\n",
    "∇"
   ]
  },
  {
   "cell_type": "code",
   "execution_count": 20,
   "metadata": {},
   "outputs": [],
   "source": [
    "∇Z← sphere\n",
    "  Z← shape_sphere identity4 identity4 material\n",
    "∇"
   ]
  },
  {
   "cell_type": "code",
   "execution_count": 21,
   "metadata": {},
   "outputs": [],
   "source": [
    "∇Z← glass_sphere\n",
    "  Z← shape_sphere identity4 identity4 glass\n",
    "∇"
   ]
  },
  {
   "cell_type": "code",
   "execution_count": 22,
   "metadata": {},
   "outputs": [],
   "source": [
    "∇Z← plane\n",
    "  Z← shape_plane identity4 identity4 material\n",
    "∇"
   ]
  },
  {
   "cell_type": "code",
   "execution_count": 23,
   "metadata": {},
   "outputs": [],
   "source": [
    "∇Z← cube\n",
    "  Z← shape_cube identity4 identity4 material\n",
    "∇"
   ]
  },
  {
   "cell_type": "code",
   "execution_count": 24,
   "metadata": {},
   "outputs": [],
   "source": [
    "∇Z← cylinder\n",
    "  Z← shape_cylinder identity4 identity4 material (¯1×INFINITY) INFINITY FALSE\n",
    "∇"
   ]
  },
  {
   "cell_type": "code",
   "execution_count": 25,
   "metadata": {},
   "outputs": [],
   "source": [
    "∇Z← cone\n",
    "  Z← shape_cone identity4 identity4 material (¯1×INFINITY) INFINITY FALSE\n",
    "∇"
   ]
  },
  {
   "cell_type": "code",
   "execution_count": 26,
   "metadata": {},
   "outputs": [],
   "source": [
    "∇Z← group\n",
    "  Z← shape_group identity4 identity4 ⍬ ⍬\n",
    "∇"
   ]
  },
  {
   "cell_type": "code",
   "execution_count": 27,
   "metadata": {},
   "outputs": [
    {
     "data": {
      "text/html": [
       "<span style=\"white-space:pre; font-family: monospace\">┌─┬───────┬───────┬─────────────────────────────┐\n",
       "│0│1 0 0 0│1 0 0 0│┌─────┬───┬───┬───┬───┬─┬─┬─┐│\n",
       "│ │0 1 0 0│0 1 0 0││1 1 1│0.1│0.9│0.9│200│0│1│0││\n",
       "│ │0 0 1 0│0 0 1 0│└─────┴───┴───┴───┴───┴─┴─┴─┘│\n",
       "│ │0 0 0 1│0 0 0 1│                             │\n",
       "└─┴───────┴───────┴─────────────────────────────┘\n",
       "</span>"
      ]
     },
     "execution_count": 27,
     "metadata": {},
     "output_type": "execute_result"
    },
    {
     "data": {
      "text/html": [
       "<span style=\"white-space:pre; font-family: monospace\">┌─┬───────┬───────┬─────────────────────────────┐\n",
       "│1│1 0 0 0│1 0 0 0│┌─────┬───┬───┬───┬───┬─┬─┬─┐│\n",
       "│ │0 1 0 0│0 1 0 0││1 1 1│0.1│0.9│0.9│200│0│1│0││\n",
       "│ │0 0 1 0│0 0 1 0│└─────┴───┴───┴───┴───┴─┴─┴─┘│\n",
       "│ │0 0 0 1│0 0 0 1│                             │\n",
       "└─┴───────┴───────┴─────────────────────────────┘\n",
       "</span>"
      ]
     },
     "execution_count": 27,
     "metadata": {},
     "output_type": "execute_result"
    },
    {
     "data": {
      "text/html": [
       "<span style=\"white-space:pre; font-family: monospace\">┌─┬───────┬───────┬───────────────────────────────┐\n",
       "│1│1 0 0 0│1 0 0 0│┌─────┬───┬───┬───┬───┬─┬───┬─┐│\n",
       "│ │0 1 0 0│0 1 0 0││1 1 1│0.1│0.9│0.9│200│0│1.5│1││\n",
       "│ │0 0 1 0│0 0 1 0│└─────┴───┴───┴───┴───┴─┴───┴─┘│\n",
       "│ │0 0 0 1│0 0 0 1│                               │\n",
       "└─┴───────┴───────┴───────────────────────────────┘\n",
       "</span>"
      ]
     },
     "execution_count": 27,
     "metadata": {},
     "output_type": "execute_result"
    },
    {
     "data": {
      "text/html": [
       "<span style=\"white-space:pre; font-family: monospace\">┌─┬───────┬───────┬─────────────────────────────┐\n",
       "│2│1 0 0 0│1 0 0 0│┌─────┬───┬───┬───┬───┬─┬─┬─┐│\n",
       "│ │0 1 0 0│0 1 0 0││1 1 1│0.1│0.9│0.9│200│0│1│0││\n",
       "│ │0 0 1 0│0 0 1 0│└─────┴───┴───┴───┴───┴─┴─┴─┘│\n",
       "│ │0 0 0 1│0 0 0 1│                             │\n",
       "└─┴───────┴───────┴─────────────────────────────┘\n",
       "</span>"
      ]
     },
     "execution_count": 27,
     "metadata": {},
     "output_type": "execute_result"
    },
    {
     "data": {
      "text/html": [
       "<span style=\"white-space:pre; font-family: monospace\">┌─┬───────┬───────┬─────────────────────────────┐\n",
       "│3│1 0 0 0│1 0 0 0│┌─────┬───┬───┬───┬───┬─┬─┬─┐│\n",
       "│ │0 1 0 0│0 1 0 0││1 1 1│0.1│0.9│0.9│200│0│1│0││\n",
       "│ │0 0 1 0│0 0 1 0│└─────┴───┴───┴───┴───┴─┴─┴─┘│\n",
       "│ │0 0 0 1│0 0 0 1│                             │\n",
       "└─┴───────┴───────┴─────────────────────────────┘\n",
       "</span>"
      ]
     },
     "execution_count": 27,
     "metadata": {},
     "output_type": "execute_result"
    },
    {
     "data": {
      "text/html": [
       "<span style=\"white-space:pre; font-family: monospace\">┌─┬───────┬───────┬─────────────────────────────┬───────┬──────┬─┐\n",
       "│4│1 0 0 0│1 0 0 0│┌─────┬───┬───┬───┬───┬─┬─┬─┐│¯9.9E99│9.9E99│0│\n",
       "│ │0 1 0 0│0 1 0 0││1 1 1│0.1│0.9│0.9│200│0│1│0││       │      │ │\n",
       "│ │0 0 1 0│0 0 1 0│└─────┴───┴───┴───┴───┴─┴─┴─┘│       │      │ │\n",
       "│ │0 0 0 1│0 0 0 1│                             │       │      │ │\n",
       "└─┴───────┴───────┴─────────────────────────────┴───────┴──────┴─┘\n",
       "</span>"
      ]
     },
     "execution_count": 27,
     "metadata": {},
     "output_type": "execute_result"
    },
    {
     "data": {
      "text/html": [
       "<span style=\"white-space:pre; font-family: monospace\">┌─┬───────┬───────┬─────────────────────────────┬───────┬──────┬─┐\n",
       "│5│1 0 0 0│1 0 0 0│┌─────┬───┬───┬───┬───┬─┬─┬─┐│¯9.9E99│9.9E99│0│\n",
       "│ │0 1 0 0│0 1 0 0││1 1 1│0.1│0.9│0.9│200│0│1│0││       │      │ │\n",
       "│ │0 0 1 0│0 0 1 0│└─────┴───┴───┴───┴───┴─┴─┴─┘│       │      │ │\n",
       "│ │0 0 0 1│0 0 0 1│                             │       │      │ │\n",
       "└─┴───────┴───────┴─────────────────────────────┴───────┴──────┴─┘\n",
       "</span>"
      ]
     },
     "execution_count": 27,
     "metadata": {},
     "output_type": "execute_result"
    },
    {
     "data": {
      "text/html": [
       "<span style=\"white-space:pre; font-family: monospace\">┌─┬───────┬───────┬┬┐\n",
       "│6│1 0 0 0│1 0 0 0│││\n",
       "│ │0 1 0 0│0 1 0 0│││\n",
       "│ │0 0 1 0│0 0 1 0│││\n",
       "│ │0 0 0 1│0 0 0 1│││\n",
       "└─┴───────┴───────┴┴┘\n",
       "</span>"
      ]
     },
     "execution_count": 27,
     "metadata": {},
     "output_type": "execute_result"
    }
   ],
   "source": [
    "test_shape\n",
    "sphere\n",
    "glass_sphere\n",
    "plane\n",
    "cube\n",
    "cylinder\n",
    "cone\n",
    "group"
   ]
  },
  {
   "cell_type": "markdown",
   "metadata": {},
   "source": [
    "- **triangle** *point1* *point2* *point3* → shape_triangle identity4 material points edges normalv\n",
    "\n",
    "The triangle shape is implemented as a function since it must be instantiated with the three points that define the triangle. The fact that a triangle doesn't take default values is because additional attributes are computed at the time of instantiation based on points supplied."
   ]
  },
  {
   "cell_type": "code",
   "execution_count": 28,
   "metadata": {},
   "outputs": [],
   "source": [
    "]dinput\n",
    "triangle←{\n",
    "  ⍝ triangle  p1 p2 p3 → shape_triangle identity4 material points edges normalv\n",
    "  edges← (⍵[2]-⍵[1]), (⍵[3]-⍵[1])\n",
    "  normv← normalize (⊃edges[2]) cross ⊃edges[1]\n",
    "  shape_triangle identity4 identity4 material (⍵) edges normv\n",
    "  }"
   ]
  },
  {
   "cell_type": "markdown",
   "metadata": {},
   "source": [
    "Now that the code uses precomputed inverse transform matrices, this helper function is added so that both the transform matrix and its inverse can be added at the same time."
   ]
  },
  {
   "cell_type": "code",
   "execution_count": 29,
   "metadata": {},
   "outputs": [],
   "source": [
    "]dinput\n",
    "add_shape_transform←{\n",
    "  ⍝ pattern  pattern_transform  pattern → pattern\n",
    "  s← ⍺\n",
    "  s[obj_transform]← ⊂⍵\n",
    "  s[obj_inverse]← ⊂⌹⍵\n",
    "  s\n",
    "  }"
   ]
  },
  {
   "cell_type": "markdown",
   "metadata": {},
   "source": [
    "## Ray Tracer Visualization Objects\n",
    "When one describes a scene for a ray tracer there are objects that are needed for rendering, like a light source, camera, and a canvas. These have no physical representation within a scene but are necessary for rendering the scene. A collection of scene objects is referred to as a *world* for the ray tracer."
   ]
  },
  {
   "cell_type": "markdown",
   "metadata": {},
   "source": [
    "- **world** → ⍬ ⍬\n",
    "- **default_world** → (⊂⊂*point_light*) ((*sphere*) (*sphere*))\n",
    "\n",
    "The *default_world* data structure is only used during testing so it could be discarded from a final ray tracer implementation."
   ]
  },
  {
   "cell_type": "code",
   "execution_count": 30,
   "metadata": {},
   "outputs": [],
   "source": [
    "∇Z← world\n",
    "  Z← ⍬ ⍬\n",
    "∇"
   ]
  },
  {
   "cell_type": "code",
   "execution_count": 31,
   "metadata": {},
   "outputs": [
    {
     "data": {
      "text/html": [
       "<span style=\"white-space:pre; font-family: monospace\">┌┬┐\n",
       "│││\n",
       "└┴┘\n",
       "</span>"
      ]
     },
     "execution_count": 31,
     "metadata": {},
     "output_type": "execute_result"
    }
   ],
   "source": [
    "world"
   ]
  },
  {
   "cell_type": "code",
   "execution_count": 32,
   "metadata": {},
   "outputs": [],
   "source": [
    "∇Z←default_world ;light;s1;s2;m\n",
    "   light← (point ¯10 10 ¯10) point_light 1 1 1\n",
    "   s1← sphere\n",
    "   m← material\n",
    "   m[material_color material_diffuse material_specular]← (0.8 1.0 0.6) 0.7 0.2\n",
    "   s1[obj_material]← ⊂m\n",
    "   s2← sphere\n",
    "   s2[obj_transform]← ⊂scaling 0.5 0.5 0.5\n",
    "   s2[obj_inverse]← ⊂⌹scaling 0.5 0.5 0.5\n",
    "   Z← world\n",
    "   Z[1],← ⊂⊂light\n",
    "   Z[2]← ⊂⊂s1  ⍝ Have to enclose twice!\n",
    "   Z[2],← ⊂⊂s2\n",
    "∇"
   ]
  },
  {
   "cell_type": "markdown",
   "metadata": {},
   "source": [
    "A *canvas* is not an object in a ray tracer scene per se, but it is a part of how one represents a scene.\n",
    "\n",
    "- **canvas** *width height* → nested matrix of ⍴ = height width, each element being the enclosed color vector (0 0 0)\n",
    "\n",
    "I reversed the width & height arguments to shape an array, which means width is the number of columns and height is the number of rows. I should consider doing an inverted array to improve speed and storage use."
   ]
  },
  {
   "cell_type": "markdown",
   "metadata": {},
   "source": [
    "canvas←{(⌽⍵)⍴⊂0 0 0}\n",
    "\n",
    "Let's take the old version of canvas and change it to create an inverted matrix."
   ]
  },
  {
   "cell_type": "code",
   "execution_count": 33,
   "metadata": {},
   "outputs": [
    {
     "data": {
      "text/html": [
       "<span style=\"white-space:pre; font-family: monospace\">┌───────────────────┬───────────────────┐\n",
       "│┌─────┬─────┬─────┐│┌─────┬─────┬─────┐│\n",
       "││0 0 0│0 0 0│0 0 0│││0 0 0│0 0 0│0 0 0││\n",
       "│└─────┴─────┴─────┘│└─────┴─────┴─────┘│\n",
       "└───────────────────┴───────────────────┘\n",
       "</span>"
      ]
     },
     "execution_count": 33,
     "metadata": {},
     "output_type": "execute_result"
    }
   ],
   "source": [
    "canvas←{(1↓⍵)⍴⊂(1↑⍵)⍴⊂0 0 0}\n",
    "canvas 3 2"
   ]
  },
  {
   "cell_type": "markdown",
   "metadata": {},
   "source": [
    "Both *point_light* and *camera* should be considered scene objects, but they are used to render a scene rather than appear in one. Both are treated as data structures because they are usually not modified after creation.\n",
    "\n",
    "- *point* **point_light** *color* → ⊂*point* ⊂*color*\n",
    "- **camera** hsize vsize fview → *camera object*"
   ]
  },
  {
   "cell_type": "code",
   "execution_count": 34,
   "metadata": {},
   "outputs": [],
   "source": [
    "⍝ point light indices\n",
    "light_point← 1\n",
    "light_color← 2\n",
    "\n",
    "⍝ Camera indices\n",
    "camera_hsize←      1\n",
    "camera_vsize←      2\n",
    "camera_fview←      3\n",
    "camera_transform←  4\n",
    "camera_inverse←    5\n",
    "camera_psize←      6\n",
    "camera_halfw←      7\n",
    "camera_halfh←      8"
   ]
  },
  {
   "cell_type": "code",
   "execution_count": 35,
   "metadata": {},
   "outputs": [],
   "source": [
    "⍝ point_light is also a data structure\n",
    "point_light←{⍺⍵}"
   ]
  },
  {
   "cell_type": "code",
   "execution_count": 36,
   "metadata": {},
   "outputs": [],
   "source": [
    "∇Z← camera W;half_view;aspect;halfh;halfv;psize\n",
    "   ⍝ camera  hsize vsize field_of_view → camera_structure\n",
    "   (hsize vsize fview)← W\n",
    "   Z←hsize vsize fview (identity 4) (identity 4)\n",
    "   half_view← 3 ○ 0.5×fview\n",
    "   aspect← hsize÷vsize\n",
    "   :If aspect ≥ 1\n",
    "      halfw← half_view\n",
    "      halfh← half_view÷aspect\n",
    "   :Else\n",
    "      halfw← half_view×aspect\n",
    "      halfh← half_view\n",
    "   :EndIf\n",
    "   psize← 2×halfw÷hsize\n",
    "   Z←Z,psize,halfw,halfh\n",
    "   ∇"
   ]
  },
  {
   "cell_type": "markdown",
   "metadata": {},
   "source": [
    "# Library Functions\n",
    "These are the functions the author defines in the ray tracer book. I've reorganized the functions so they no longer follow the order in which they were defined in the book. Instead I start with general library functions and place those specifically associated with scene objects at the end of this section. Functions that are directly involved in rendering a scene rather than simply defining it are placed in their own section."
   ]
  },
  {
   "cell_type": "markdown",
   "metadata": {},
   "source": [
    "First up are some vector manipulation functions. These are used fairly extensively during rendering.\n",
    "\n",
    "- **magnitude** *vector* → numeric scalar\n",
    "- **normalize** *vector* → vector\n",
    "- *vector* **dot** *vector* → numeric scalar\n",
    "- *vector* **cross** *vector* → vector"
   ]
  },
  {
   "cell_type": "code",
   "execution_count": 37,
   "metadata": {},
   "outputs": [],
   "source": [
    "magnitude←{(+/⍵*2)*0.5}\n",
    "normalize←{⍵÷(+/(⍵*2))*0.5}\n",
    "dot←{⍺+.×⍵}"
   ]
  },
  {
   "cell_type": "code",
   "execution_count": 38,
   "metadata": {},
   "outputs": [],
   "source": [
    "]dinput\n",
    "cross←{\n",
    "   ⍝ vector  cross  vector → vector\n",
    "   a←(⍺[2]×⍵[3])-⍺[3]×⍵[2]\n",
    "   b←(⍺[3]×⍵[1])-⍺[1]×⍵[3]\n",
    "   c←(⍺[1]×⍵[2])-⍺[2]×⍵[1]\n",
    "   a,b,c,0\n",
    "}"
   ]
  },
  {
   "cell_type": "markdown",
   "metadata": {},
   "source": [
    "These functions are used once in setting up a scene and so would not provide much benefit by being optimized. They are used to build a transform matrix associated with each scene object. It should be noted that a series of matrix multiplications in the book are right associative, that is, A * B * C is evaluated as A * (B * C) which fits APL like a glove. In APL, the above would be written as\n",
    "\n",
    "A +.× B +.× C\n",
    "\n",
    "- **translation** *x y z* → 4×4 translation matrix\n",
    "- **scaling** *x y z* → 4×4 scaling matrix\n",
    "- **rotation_x** *angle* → 4×4 rotation matrix about the x axis\n",
    "- **rotation_y** *angle* → 4×4 rotation matrix about the y axis\n",
    "- **rotation_z** *angle* → 4×4 rotation matrix about the z axis\n",
    "- **shearing** *xy xz yx yz zx zy* → 4×4 shearing matrix"
   ]
  },
  {
   "cell_type": "code",
   "execution_count": 39,
   "metadata": {},
   "outputs": [],
   "source": [
    "]dinput\n",
    "translation←{\n",
    "   ⍝ translation  x y z → transform_matrix\n",
    "   idn← identity4\n",
    "   idn[(1 4) (2 4) (3 4)] ← ⍵\n",
    "   idn\n",
    "   }"
   ]
  },
  {
   "cell_type": "code",
   "execution_count": 40,
   "metadata": {},
   "outputs": [],
   "source": [
    "]dinput\n",
    "scaling←{\n",
    "   ⍝ scaling  x y z → transform_matrix\n",
    "   idn← identity4\n",
    "   idn[(1 1) (2 2) (3 3)] ← ⍵\n",
    "   idn\n",
    "   }"
   ]
  },
  {
   "cell_type": "code",
   "execution_count": 41,
   "metadata": {},
   "outputs": [],
   "source": [
    "]dinput\n",
    "rotation_x←{\n",
    "   ⍝ rotation_x  angle_in_radians → transform_matrix\n",
    "   idn← identity4\n",
    "   idn[(2 2) (2 3) (3 2) (3 3)]← (2○⍵) (-(1○⍵)) (1○⍵) (2○⍵)\n",
    "   idn\n",
    "   }"
   ]
  },
  {
   "cell_type": "code",
   "execution_count": 42,
   "metadata": {},
   "outputs": [],
   "source": [
    "]dinput\n",
    "rotation_y←{\n",
    "   ⍝ rotation_x  angle_in_radians → transform_matrix\n",
    "   idn← identity4\n",
    "   idn[(1 1) (1 3) (3 1) (3 3)]← (2○⍵) (1○⍵) (-(1○⍵)) (2○⍵)\n",
    "   idn\n",
    "   }"
   ]
  },
  {
   "cell_type": "code",
   "execution_count": 43,
   "metadata": {},
   "outputs": [],
   "source": [
    "]dinput\n",
    "rotation_z←{\n",
    "   ⍝ rotation_x  angle_in_radians → transform_matrix\n",
    "   idn← identity4\n",
    "   idn[(1 1) (1 2) (2 1) (2 2)]← (2○⍵) (-(1○⍵)) (1○⍵) (2○⍵)\n",
    "   idn\n",
    "   }"
   ]
  },
  {
   "cell_type": "code",
   "execution_count": 44,
   "metadata": {},
   "outputs": [],
   "source": [
    "]dinput\n",
    "shearing←{\n",
    "   ⍝ shearing  xy xz yx yz zx zy → transform_matrix\n",
    "   idn← identity4\n",
    "   idn[(1 2) (1 3) (2 1) (2 3) (3 1) (3 2)]← ⍵\n",
    "   idn\n",
    "   }"
   ]
  },
  {
   "cell_type": "markdown",
   "metadata": {},
   "source": [
    "These functions are used extensively during rendering and so should be examined for improvement. The **position** function takes a ray and returns the point that is a given distance from the ray origin. The **reflect** function computes the new direction of a ray as it bounces off the surface of an object given the vector perpendicular (normal) to the object surface. The **transform** function applies a given transform matrix to both the origin and direction of a ray and returns the new altered ray. Finally, the **hit** function scans a sorted list of intersections and returns the first intersection with a positive distance, or null (⍬) if there aren't any.\n",
    "\n",
    "- *ray* **position** *time* → point\n",
    "- *vector* **reflect** *normal* → *vector*\n",
    "- *tmatrix* **transform** *ray* → new ray\n",
    "- **hit** *intersection list* → intersection | ⍬"
   ]
  },
  {
   "cell_type": "code",
   "execution_count": 45,
   "metadata": {},
   "outputs": [],
   "source": [
    "position← {(⊃⍺[ray_origin])+⍵×⊃⍺[ray_direction]}\n",
    "reflect←{⍺-⍵×2× ⍺ dot ⍵}\n",
    "⍝transform← {(⍺ +.× ⊃⍵[ray_origin]) (⍺ +.× ⊃⍵[ray_direction])}\n",
    "transform← {tm←⍺⋄{tm+.×⍵}¨⍵}"
   ]
  },
  {
   "cell_type": "code",
   "execution_count": 46,
   "metadata": {},
   "outputs": [],
   "source": [
    "]dinput\n",
    "hit← {\n",
    "  ⍝ hit  intersection_list → ⍬ or intersection\n",
    "  ⍬≡⍵:⍬                ⍝ No list, no hit\n",
    "  l←0≤hit_distance⌷¨⍵  ⍝ Positive distances\n",
    "  0=∨/l:⍬              ⍝ Return null if none\n",
    "  ⊃l/⍵                 ⍝ Return first from positives\n",
    "  }"
   ]
  },
  {
   "cell_type": "markdown",
   "metadata": {},
   "source": [
    "- **view_transform** from to up → *transform matrix*\n",
    "\n",
    "The **view_transform** function is used when setting up a camera in a scene. It is used nowhere else. Perhaps it should be incorporated into the *camera* declaration by providing the three additional arguments view_transform accepts."
   ]
  },
  {
   "cell_type": "code",
   "execution_count": 47,
   "metadata": {},
   "outputs": [],
   "source": [
    "]dinput\n",
    "view_transform←{\n",
    "   ⍝ view_transform from to up → transform_matrix\n",
    "   (from to up)← ⍵\n",
    "   forward← normalize to-from\n",
    "   left← forward cross normalize up\n",
    "   true_up← left cross forward\n",
    "   orientation← left[1], left[2], left[3], 0, true_up[1], true_up[2], true_up[3], 0\n",
    "   orientation,← (-forward[1 2 3]), 0, 0, 0, 0, 1\n",
    "   orientation← 4 4⍴orientation\n",
    "   orientation +.× translation -from[1 2 3]\n",
    "   } "
   ]
  },
  {
   "cell_type": "markdown",
   "metadata": {},
   "source": [
    "Patterns are an area where additions can be made to the ray tracer defined by the author. Several suggestions are made, and the POV-RAY ray tracer might be a good place to find more patterns.\n",
    "\n",
    "- *pattern* **pattern_at** *point* → *color*\n",
    "- *pattern* **pattern_at_shape** shape *point* → *color*\n",
    "\n",
    "Both the **pattern_at** and **pattern_at_shape** function would be a good candidate for conversion to a defined function (d'fn)."
   ]
  },
  {
   "cell_type": "code",
   "execution_count": 48,
   "metadata": {},
   "outputs": [],
   "source": [
    "]dinput\n",
    "pattern_at←{\n",
    "  ⍝ pattern  pattern_at  point → color\n",
    "  tag← pattern_type⊃⍺\n",
    "  c1← pattern_color1⊃⍺\n",
    "  c2← pattern_color2⊃⍺\n",
    "  ⍝ Pattern used during testing\n",
    "  tag=pat_test: 3↑⍵\n",
    "  ⍝ Stripe pattern\n",
    "  (tag=pat_stripe)^0=⌊2|⍵[1]: c1\n",
    "  (tag=pat_stripe)^0≠⌊2|⍵[1]: c2\n",
    "  ⍝ Gradient pattern\n",
    "  tag=pat_gradient: c1+(c2-c1)×⍵[1]-⌊⍵[1]\n",
    "  ⍝ Ring pattern\n",
    "  (tag=pat_ring)^0=⌊2|(+/⍵[1 3]×⍵[1 3])*0.5: c1\n",
    "  (tag=pat_ring)^0≠⌊2|(+/⍵[1 3]×⍵[1 3])*0.5: c2\n",
    "  ⍝ Checker pattern\n",
    "  (tag=pat_checker)^0=2|+/⌊3↑⍵: c1\n",
    "  (tag=pat_checker)^0≠2|+/⌊3↑⍵: c2\n",
    "  }"
   ]
  },
  {
   "cell_type": "code",
   "execution_count": 49,
   "metadata": {},
   "outputs": [],
   "source": [
    "]dinput\n",
    "pattern_at_shape←{\n",
    "  ⍝ pattern  pattern_at_shape  object point → color\n",
    "  (obj wpoint)← ⍵\n",
    "  ⍝ ⍺ pattern_at (⌹⊃⍺[pattern_transform]) +.× (⌹⊃obj[obj_transform]) +.× wpoint\n",
    "  ⍺ pattern_at (⊃⍺[pattern_inverse]) +.× (⊃obj[obj_inverse]) +.× wpoint\n",
    "  }"
   ]
  },
  {
   "cell_type": "markdown",
   "metadata": {},
   "source": [
    "### Scene Object Functions\n",
    "These functions are directly associated with scene objects and thus would be implemented as object methods if an OO approach is used."
   ]
  },
  {
   "cell_type": "markdown",
   "metadata": {},
   "source": [
    "Functions for computing the intersection of a ray with a sphere and the surface normal of a sphere. Each shape requires its own pair of such functions. This might be where the APL class capability could be used to good effect.\n",
    "\n",
    "- *sphere* **sphere_intersect** *ray* → ⍬ | intersection intersection\n",
    "- *sphere* **sphere_normal_at** *point* → *vector*"
   ]
  },
  {
   "cell_type": "code",
   "execution_count": 50,
   "metadata": {},
   "outputs": [],
   "source": [
    "]dinput\n",
    "sphere_intersect← {\n",
    "  ⍝ sphere  intersect  ray → ⍬ or intersection_list\n",
    "  s2r← (⊃⍵[ray_origin]) - 0 0 0 1\n",
    "  a← (⊃⍵[ray_direction]) dot ⊃⍵[ray_direction]\n",
    "  b← 2× (⊃⍵[ray_direction]) dot s2r\n",
    "  c← ¯1+ s2r dot s2r\n",
    "  d← (b×b)-4×a×c\n",
    "  d<0: ⍬\n",
    "  t1← ((-b)-d*0.5)÷2×a  ⍝ Clean this up!!!\n",
    "  t2← ((-b)+d*0.5)÷2×a\n",
    "  (⍺ t1) (⍺ t2)\n",
    "  }"
   ]
  },
  {
   "cell_type": "code",
   "execution_count": 51,
   "metadata": {},
   "outputs": [],
   "source": [
    "]dinput\n",
    "sphere_normal_at←{\n",
    "  ⍝ ⍺=sphere  normal_at  ⍵=point → vector\n",
    "  on← ⍵ - 0 0 0 1         ⍝ Creates vector from origin\n",
    "  ⍝ wn← (⍉⌹⊃⍺[obj_transform]) +.× on\n",
    "  wn← (⍉⊃⍺[obj_inverse]) +.× on\n",
    "  wn[4]← 0                ⍝ Make world_normal a vector\n",
    "  normalize wn\n",
    "  }"
   ]
  },
  {
   "cell_type": "markdown",
   "metadata": {},
   "source": [
    "A plane always has a fixed normal, so its' **plane_normal_at** function just returns a constant and ignores any arguments. Watch out for using it as a niladic function though!\n",
    "\n",
    "- *plane* **plane_intersect** *ray* → ⍬ or *intersection* *intersection*\n",
    "- *plane* **plane_normal_at** *ray* → *vector*"
   ]
  },
  {
   "cell_type": "code",
   "execution_count": 52,
   "metadata": {},
   "outputs": [],
   "source": [
    "]dinput\n",
    "plane_intersect←{\n",
    "   ⍝ plane plane_intersect ray → ⍬ or intersection_list\n",
    "   ⍝ Must return a list of intersections\n",
    "   o← ⊃⍵[ray_origin]         ⍝ Ray origin\n",
    "   d← ⊃⍵[ray_direction]      ⍝ Ray direction\n",
    "   EPSILON>|d[2]: ⍬          ⍝ No intersection\n",
    "   t← -(o[2])÷d[2]           ⍝ Distance\n",
    "   ⍝ Return two instead of one for compatibility with sphere et al\n",
    "   ⍝ (⍺ t) (⍺ t)               ⍝ Intersection\n",
    "   ⊂ ⍺ t\n",
    "   }"
   ]
  },
  {
   "cell_type": "markdown",
   "metadata": {},
   "source": [
    "The Plane normal_at function accepts a Plane object and a ray, but always returns a constant."
   ]
  },
  {
   "cell_type": "code",
   "execution_count": 53,
   "metadata": {},
   "outputs": [],
   "source": [
    "∇Z← OBJ plane_normal_at R\n",
    "  ⍝ plane  plane_normal_at  ray → vector\n",
    "  Z←0 1 0 0\n",
    "  ∇"
   ]
  },
  {
   "cell_type": "markdown",
   "metadata": {},
   "source": [
    "The cube object has corner cases (har har!) when a ray strikes the edge or corner of the cube. The **check_axis** function is used to check for the condition.\n",
    "\n",
    "- **check_axis** numeric numeric → numeric numeric\n",
    "- *cube* **cube_intersection** *ray* → ⍬ or intersection intersection\n",
    "- *cube* **cube_normal_at** *point* → vector"
   ]
  },
  {
   "cell_type": "code",
   "execution_count": 54,
   "metadata": {},
   "outputs": [],
   "source": [
    "]dinput\n",
    "check_axis←{\n",
    "  ⍝ numeric  check_axis  numeric → numeric numeric\n",
    "  emin← INFINITY×¯1-⍺\n",
    "  emax← INFINITY×1-⍺\n",
    "  (EPSILON>|⍵)^emin>emax: emax emin\n",
    "  EPSILON>|⍵: emax emin\n",
    "  tmin← (¯1-⍺)÷⍵\n",
    "  tmax← (1-⍺)÷⍵\n",
    "  tmin>tmax: tmax tmin\n",
    "  tmin tmax\n",
    "  }"
   ]
  },
  {
   "cell_type": "code",
   "execution_count": 55,
   "metadata": {},
   "outputs": [],
   "source": [
    "]dinput\n",
    "cube_intersect←{\n",
    "  ⍝ cube  cube_intersect  ray → intersection intersection\n",
    "  ori← ⊃⍵[1]\n",
    "  dir← ⊃⍵[2]\n",
    "  xm←  ori[1] check_axis dir[1]\n",
    "  ym←  ori[2] check_axis dir[2]\n",
    "  zm←  ori[3] check_axis dir[3]\n",
    "  tmin← ⌈/xm[1], ym[1], zm[1]\n",
    "  tmax← ⌊/xm[2], ym[2], zm[2]\n",
    "  tmin>tmax: ⍬\n",
    "  (⍺ tmin)(⍺ tmax)\n",
    "  }"
   ]
  },
  {
   "cell_type": "code",
   "execution_count": 56,
   "metadata": {},
   "outputs": [],
   "source": [
    "]dinput\n",
    "cube_normal_at←{\n",
    "  ⍝ cube  cube_normal_at  point → vector\n",
    "  maxc← ⌈/|⍵[1 2 3]\n",
    "  maxc=|⍵[1]: (⍵[1]) 0 0 0 ⍝ vector ⍵[1] 0 0\n",
    "  maxc=|⍵[2]: 0 (⍵[2]) 0 0 ⍝ vector 0 ⍵[2] 0\n",
    "  0 0 (⍵[3]) 0             ⍝ vector 0 0 ⍵[3]\n",
    "  }"
   ]
  },
  {
   "cell_type": "markdown",
   "metadata": {},
   "source": [
    "Cylinders are somewhat more complex objects. They are oriented so that they are parallel to the y axis (up) and normally extend to infinity in either direction from their origin. When created, the cylinder extents can be defined, and they can be given a cap on the ends rather than being hollow and open. This makes the task of computing an intersection or normal a bit more difficult, with the **check_cap** function being used for end caps.\n",
    "\n",
    "- *ray* **check_cap** distance → Boolean\n",
    "- *cylinder* **cylinder_intersection** *ray* → ⍬ or intersection intersection\n",
    "- *cylinder* **cylinder_normal_at** *point* → vector\n"
   ]
  },
  {
   "cell_type": "code",
   "execution_count": 57,
   "metadata": {},
   "outputs": [],
   "source": [
    "]dinput\n",
    "check_cap←{\n",
    "  ⍝ ray  check_cap  distance → Boolean\n",
    "  x← (ray_origin 1⊃⍺) + ⍵× ray_direction 1⊃⍺\n",
    "  z← (ray_origin 3⊃⍺) + ⍵× ray_direction 3⊃⍺\n",
    "  1≥(x×x)+z×z\n",
    "  }"
   ]
  },
  {
   "cell_type": "code",
   "execution_count": 58,
   "metadata": {},
   "outputs": [],
   "source": [
    "∇Z← CYL intersect_caps R;t\n",
    "  Z← ⍬\n",
    "  ⍝ cylinder  intersect_caps  ray → ⍬ or intersection intersection\n",
    "  :If (0=CYL[cylinder_closed]) ∨ EPSILON>|ray_direction 2⊃R\n",
    "    :Return\n",
    "  :EndIf\n",
    "  ⍝ Check for intersection with lower end\n",
    "  t← (CYL[cylinder_minimum]-ray_origin 2⊃R)÷ray_direction 2⊃R\n",
    "  :If R check_cap t\n",
    "    Z← Z,⊂CYL intersection t\n",
    "  :EndIf\n",
    "  t← (CYL[cylinder_maximum]-ray_origin 2⊃R)÷ray_direction 2⊃R\n",
    "  :If R check_cap t\n",
    "    Z← Z,⊂CYL intersection t\n",
    "  :EndIf\n",
    "  ∇"
   ]
  },
  {
   "cell_type": "markdown",
   "metadata": {},
   "source": [
    "The number of nested conditionals in the **cylinder_intersect** function would make it a challenge to convert it to a defined function."
   ]
  },
  {
   "cell_type": "code",
   "execution_count": 59,
   "metadata": {},
   "outputs": [],
   "source": [
    "∇Z← CYL cylinder_intersect R;a;b;c;disc;t0;t1;y0;y1;t\n",
    "  ⍝ cylinder  cylinder_intersect  ray → ⍬ or intersection intersection\n",
    "  Z← ⍬\n",
    "  a← ((ray_direction 1⊃R)*2)+(ray_direction 3⊃R)*2\n",
    "  :If EPSILON<|a\n",
    "    b← (2×(ray_origin 1⊃R)×ray_direction 1⊃R)+2×(ray_origin 3⊃R)×ray_direction 3⊃R\n",
    "    c← ¯1+((ray_origin 1⊃R)*2)+(ray_origin 3⊃R)*2\n",
    "    disc← (b*2)-4×a×c\n",
    "    :If 0<disc\n",
    "      t0← ((-b)-disc*0.5)÷2×a\n",
    "      t1← ((-b)+disc*0.5)÷2×a\n",
    "      :If t0>t1\n",
    "        t0 t1← t1 t0\n",
    "      :EndIf\n",
    "      y0← (ray_origin 2⊃R)+t0×ray_direction 2⊃R\n",
    "      :If (y0>CYL[cylinder_minimum])^y0<CYL[cylinder_maximum]\n",
    "        Z← ⊂ CYL intersection t0\n",
    "      :EndIf\n",
    "      y1← (ray_origin 2⊃R)+t1×ray_direction 2⊃R\n",
    "      :If (y1>CYL[cylinder_minimum])^y1<CYL[cylinder_maximum]\n",
    "        Z← Z,⊂ CYL intersection t1\n",
    "      :EndIf\n",
    "    :EndIf\n",
    "  :EndIf\n",
    "\n",
    "  ⍝ Check for intersection with caps of closed cylinder\n",
    "  ⍝ :If CYL[cylinder_closed]^(EPSILON<|2⌷⊃R[ray_direction])\n",
    "  :If CYL[cylinder_closed]^EPSILON<|ray_direction 2⊃R\n",
    "    t← (CYL[cylinder_minimum]-ray_origin 2⊃R)÷ray_direction 2⊃R\n",
    "    :If R check_cap t\n",
    "      Z← Z,⊂CYL intersection t\n",
    "    :EndIf\n",
    "    t← (CYL[cylinder_maximum]-ray_origin 2⊃R)÷ray_direction 2⊃R\n",
    "    :If R check_cap t\n",
    "      Z← Z,⊂CYL intersection t\n",
    "    :EndIf\n",
    "  :EndIf\n",
    "  ∇"
   ]
  },
  {
   "cell_type": "code",
   "execution_count": 60,
   "metadata": {},
   "outputs": [],
   "source": [
    "]dinput\n",
    "cylinder_normal_at←{\n",
    "  ⍝ cylinder  cylinder_normal_at  point → vector\n",
    "  ⍝ dist← (⍵[1]*2)+⍵[3]*2\n",
    "  dist← +/⍵[1 3]*2\n",
    "  (⍺[cylinder_closed])^(1>dist) ^ ⍵[2]≥⍺[cylinder_maximum]-EPSILON: vector 0 1 0\n",
    "  (⍺[cylinder_closed])^(1>dist) ^ ⍵[2]≤EPSILON+⍺[cylinder_minimum]: vector 0 ¯1 0\n",
    "  vector (⍵[1]) 0 (⍵[3])\n",
    "  }"
   ]
  },
  {
   "cell_type": "markdown",
   "metadata": {},
   "source": [
    "- *ray* **check_cap2** distance radius → Boolean\n",
    "- *cone* **cone_intersection** *ray* → ⍬ or intersection intersection\n",
    "- *cone* **cone_normal_at** *point* → vector\n"
   ]
  },
  {
   "cell_type": "code",
   "execution_count": 61,
   "metadata": {},
   "outputs": [],
   "source": [
    "]dinput\n",
    "check_cap2←{\n",
    "  ⍝ ray  check_cap2  distance radius → Boolean\n",
    "  (d r)← ⍵\n",
    "  x← (ray_origin 1⊃⍺) + d×ray_direction 1⊃⍺\n",
    "  z← (ray_origin 3⊃⍺) + d×ray_direction 3⊃⍺\n",
    "  (r×r)≥(x×x)+z×z\n",
    "  }"
   ]
  },
  {
   "cell_type": "code",
   "execution_count": 62,
   "metadata": {},
   "outputs": [],
   "source": [
    "∇Z← C cone_intersect R;a;b;c;disc;t0;t1;y0;y1;t\n",
    "  ⍝ cone  cone_intersect  ray → ⍬ or intersection intersection\n",
    "  Z← ⍬\n",
    "  a← -/(⊃R[ray_direction])*2\n",
    "  b← -/2×(⊃R[ray_origin])×⊃R[ray_direction]\n",
    "  c← ⊃R[ray_origin]\n",
    "  c← -/c[1 2 3]*2\n",
    "  :If (EPSILON>|a) ^ EPSILON<|b\n",
    "    t← -c÷2×b\n",
    "    Z← ⊂C intersection t\n",
    "  :ElseIf EPSILON<|a\n",
    "    disc← (b*2)-4×a×c\n",
    "    :If 0≤disc\n",
    "      t0← ((-b)-disc*0.5)÷2×a\n",
    "      t1← ((-b)+disc*0.5)÷2×a\n",
    "      :If t0>t1\n",
    "        t0 t1← t1 t0\n",
    "      :EndIf\n",
    "      y0← (ray_origin 2⊃R)+t0×ray_direction 2⊃R\n",
    "      :If (y0>C[cone_minimum])^y0<C[cone_maximum]\n",
    "        Z← ⊂ C intersection t0\n",
    "      :EndIf\n",
    "      y1← (ray_origin 2⊃R)+t1×ray_direction 2⊃R\n",
    "      :If (y1>C[cone_minimum])^y1<C[cone_maximum]\n",
    "        Z← Z,⊂ C intersection t1\n",
    "      :EndIf\n",
    "    :EndIf\n",
    "  :EndIf\n",
    "\n",
    "  ⍝ Check for intersection with caps of closed cylinder\n",
    "  :If C[cone_closed]^(EPSILON<|ray_direction 2⊃R)\n",
    "    t← (C[cone_minimum]-ray_origin 2⊃R)÷ray_direction 2⊃R\n",
    "    :If R check_cap2 t, C[cone_minimum]\n",
    "      Z← Z,⊂C intersection t\n",
    "    :EndIf\n",
    "    t← (C[cone_maximum]-ray_origin 2⊃R)÷ray_direction 2⊃R\n",
    "    :If R check_cap2 t, C[cone_maximum]\n",
    "      Z← Z,⊂C intersection t\n",
    "    :EndIf\n",
    "  :EndIf\n",
    "  ∇"
   ]
  },
  {
   "cell_type": "code",
   "execution_count": 63,
   "metadata": {},
   "outputs": [],
   "source": [
    "]dinput\n",
    "cone_normal_at←{\n",
    "  ⍝ cone  cone_normal_at  point → vector\n",
    "  dist← (⍵[1]*2)+⍵[3]*2\n",
    "  (⍺[cone_closed]) ^ (1>dist) ^ ⍵[2]≥⍺[cylinder_maximum]-EPSILON: vector 0 1 0\n",
    "  (⍺[cone_closed]) ^ (1>dist) ^ ⍵[2]≤⍺[cylinder_minimum]+EPSILON: vector 0 ¯1 0\n",
    "  y← (+/⍵[1 3]*2)*0.5\n",
    "  ⍵[2]>0: vector (⍵[1]) (¯1×y) (⍵[3])\n",
    "  vector (⍵[1]) y (⍵[3])\n",
    "  }"
   ]
  },
  {
   "cell_type": "markdown",
   "metadata": {},
   "source": [
    "These two functions might be considered a general object superclass method that invokes the specific object method defined earlier.\n",
    "\n",
    "- object **intersect** *ray* → ⍬ or *intersection* *intersection*\n",
    "- object **normal_at** *ray* → *vector*\n"
   ]
  },
  {
   "cell_type": "code",
   "execution_count": 64,
   "metadata": {},
   "outputs": [],
   "source": [
    "]dinput\n",
    "intersect←{\n",
    "   ⍝ object  intersect  ray → ⍬ or intersection list\n",
    "   t←⍺[obj_tag]\n",
    "   ⍝ m←⊃⍺[obj_transform]\n",
    "   ⍝ local_ray← (⌹m) transform ⍵\n",
    "   ⍝ local_ray← (⊃⍺[obj_inverse]) transform ⍵\n",
    "   tm← ⊃⍺[obj_inverse]\n",
    "   local_ray← {tm+.×⍵}¨⍵\n",
    "   shape_test=t:       local_ray\n",
    "   shape_sphere=t:     ⍺ sphere_intersect   local_ray\n",
    "   shape_plane=t:      ⍺ plane_intersect    local_ray\n",
    "   shape_cube=t:       ⍺ cube_intersect     local_ray\n",
    "   shape_cylinder=t:   ⍺ cylinder_intersect local_ray\n",
    "   shape_cone=t:       ⍺ cone_intersect     local_ray\n",
    "   ⍬\n",
    "   }"
   ]
  },
  {
   "cell_type": "code",
   "execution_count": 65,
   "metadata": {},
   "outputs": [],
   "source": [
    "]dinput\n",
    "normal_at←{\n",
    "   ⍝ shape normal_at point → vector\n",
    "   fixup←{\n",
    "     ⍝ wn← (⍉(⌹⊃⍺[obj_transform])) +.× ⍵\n",
    "     wn← (⍉⊃⍺[obj_inverse]) +.× ⍵\n",
    "     wn[4]← 0\n",
    "     normalize wn\n",
    "     }\n",
    "   ⍝ lp← ⍵⌹⊃⍺[obj_transform]   Doesn't work!?\n",
    "   ⍝ lp← (⌹⊃⍺[obj_transform]) +.× ⍵\n",
    "   lp← (⊃⍺[obj_inverse]) +.× ⍵\n",
    "   t←⍺[obj_tag]\n",
    "   shape_test=t:       ⍺ fixup vector lp[1 2 3]  ⍝ Here, or at end?\n",
    "   shape_sphere=t:     ⍺ fixup ⍺ sphere_normal_at   lp\n",
    "   ⍝ Is this correct? plane_normal_at is a constant!\n",
    "   shape_plane=t:      ⍺ fixup ⍺ plane_normal_at    lp\n",
    "   shape_cube=t:       ⍺ fixup ⍺ cube_normal_at     lp\n",
    "   shape_cylinder=t:   ⍺ fixup ⍺ cylinder_normal_at lp\n",
    "   shape_cone=t:       ⍺ fixup ⍺ cone_normal_at     lp\n",
    "   shape_triangle=t:   ⍺ triangle_normal_at         lp\n",
    "   shape_smtriangle=t: ⍺ smtriangle_normal_at       lp\n",
    "   0 0 0 0\n",
    "   }"
   ]
  },
  {
   "cell_type": "markdown",
   "metadata": {},
   "source": [
    "Groups are an object, and Groups can contain other Groups. I really wasn't willing to implement groups the way the author defines them.\n",
    "\n",
    "- *group*  **flatten_group**  *transform_matrix* → ⍬ or shape list\n",
    "\n",
    "This function is used in place of the scheme outlined by the author. The author wants every object to point to a possible parent, which would be a group. During rendering, you'd need to check for a parent and apply the parent's transform before doing the object's transform. And this can be recursive. To avoid all of those matrix multiplications during rendering I've added this function that applies the transform to objects in a group and returns an object list ready to be added to a World. This way all the transforms can be precomputed before rendering.\n",
    "\n",
    "Something I may consider adding is a group *material* which is by default null (⍬). If the attribute is populated though, I could apply it to every object in the group. I would do this to support material for triangle groups from Chapter 15. Should it override a material defined in a subgroup though? I think not, unless the subgroup lacks its own material definition.\n",
    "\n",
    "This really should be rewritten as a d'fns using the Each operator or as a tail-recursive function."
   ]
  },
  {
   "cell_type": "code",
   "execution_count": 66,
   "metadata": {},
   "outputs": [],
   "source": [
    "∇ Z← G flatten_group T;gt;objs;objs\n",
    "  ⍝ group  flatten_group  transform → list_of_shapes\n",
    "  Z← ⍬\n",
    "  objs← ⊃G[group_members]\n",
    "  gt← ⊃G[obj_transform]\n",
    "  :For obj :In objs\n",
    "    :If shape_group=obj[obj_tag]\n",
    "      Z,← obj flatten_group gt\n",
    "    :Else\n",
    "      obj[obj_transform]← ⊂T +.× gt +.× ⊃obj[obj_transform]\n",
    "      obj[obj_inverse]← ⊂⌹⊃obj[obj_transform]\n",
    "      Z,← ⊂obj\n",
    "    :EndIf\n",
    "  :EndFor\n",
    "  ∇"
   ]
  },
  {
   "cell_type": "markdown",
   "metadata": {},
   "source": [
    "The **group_intersect** is included here even though I don't plan to use it anywhere. Might be useful though if I implement the author's group scheme (unlikely!)."
   ]
  },
  {
   "cell_type": "code",
   "execution_count": 67,
   "metadata": {},
   "outputs": [],
   "source": [
    "∇ Z← G group_intersect R;obj\n",
    "  ⍝ group  group_intersect  ray → ⍬ or intersection_list\n",
    "  Z← ⍬\n",
    "  :If ⍬≢⊃G[group_members]\n",
    "    :For obj :In ⊃G[group_members]\n",
    "      Z,← obj intersect R\n",
    "    :EndFor\n",
    "    :If ⍬≢Z\n",
    "      Z← Z[⍋2⌷¨Z]\n",
    "    :EndIf\n",
    "  :EndIf\n",
    "  ∇"
   ]
  },
  {
   "cell_type": "markdown",
   "metadata": {},
   "source": [
    "# Ray Tracer Program\n",
    "The functions in this section, starting with the **render** function, are directly involved in rendering a scene and saving the result to a PPM graphic file."
   ]
  },
  {
   "cell_type": "markdown",
   "metadata": {},
   "source": [
    "One of the first things the author chose to do was implement functions to create a PPM graphics file. The way a canvas is defined should probably be altered to eliminate the use of the transpose function in the **canvas_to_ppm** function.\n",
    "\n",
    "- **canvas_to_ppm** *canvas* → textual representation of a PPM file\n",
    "- *filename* **savePPM** *ppm* → file.ppm written to file system"
   ]
  },
  {
   "cell_type": "markdown",
   "metadata": {},
   "source": [
    "```\n",
    "]dinput\n",
    "canvas_to_ppm←{\n",
    "   ⍝ Truncate negative numbers to zero, limit maximum to 255\n",
    "   nums← ⊃,/,255⌊⌈255×0⌈⍵\n",
    "   shape← (⌊(⍴nums)÷15),15\n",
    "   head← 4 0 ⍕ shape ⍴ nums\n",
    "   tail← 4 0 ⍕ (-(⍴nums)-×/shape)↑nums\n",
    "   ⍝ Must transpose ⍴⍵ to get width/height from columns/rows\n",
    "   0=⍴tail: 4 1 ⍴ 'P3' (⍕⌽⍴⍵) '255' head\n",
    "   5 1⍴ 'P3' (⍕⍴⍵) '255' head tail\n",
    "}\n",
    "```\n",
    "\n",
    "To process the new inverted matrix canvas data structure we need to change the way the numeric values are flattened to create *num* and the way the width and height dimensions are determined."
   ]
  },
  {
   "cell_type": "code",
   "execution_count": 68,
   "metadata": {},
   "outputs": [],
   "source": [
    "]dinput\n",
    "canvas_to_ppm←{\n",
    "   ⍝ Truncate negative numbers to zero, limit maximum to 255\n",
    "   nums← ⊃,/⊃,/255⌊⌈255×0⌈⍵\n",
    "   shape← (⌊(⍴nums)÷15),15\n",
    "   head← 4 0 ⍕ shape ⍴ nums\n",
    "   tail← 4 0 ⍕ (-(⍴nums)-×/shape)↑nums\n",
    "   ⍝ Must transpose ⍴⍵ to get width/height from columns/rows\n",
    "   0=⍴tail: 4 1 ⍴ 'P3' (⍕(⍴⊃⍵[1]),⍴⍵) '255' head\n",
    "   5 1⍴ 'P3' (⍕(⍴⊃⍵[1]),⍴⍵) '255' head tail\n",
    "}"
   ]
  },
  {
   "cell_type": "code",
   "execution_count": 69,
   "metadata": {},
   "outputs": [],
   "source": [
    "∇ r←text PutText name;tn\n",
    "     ⍝ Write text to file (must be single byte text)\n",
    "\n",
    " :Trap 0\n",
    "     tn←name ⎕NCREATE 0\n",
    " :Else\n",
    "     tn←name ⎕NTIE 0\n",
    "     0 ⎕NRESIZE tn\n",
    " :EndTrap\n",
    "\n",
    " r←text ⎕NAPPEND tn(⎕DR' ')\n",
    " ⎕NUNTIE tn\n",
    "∇"
   ]
  },
  {
   "cell_type": "code",
   "execution_count": 70,
   "metadata": {},
   "outputs": [],
   "source": [
    "]dinput\n",
    "savePPM←{\n",
    "   ⍝ filename  savePPM  output_data\n",
    "   (s,((1↑⍴s←⍕⍵),1)⍴⎕UCS 10)PutText ⍺\n",
    "   }"
   ]
  },
  {
   "cell_type": "markdown",
   "metadata": {},
   "source": [
    "These functions are used extensively during rendering and so should be examined for improvement. In particular, the **render** function is a double-nested loop that wouldn't be out of place in a BASIC program.\n",
    "\n",
    "- *world* **intersect_world** *ray* → (*intersection*) (*intersection*) ...\n",
    "- *hit* **prepare_computations** *ray* → augmented *hit*\n",
    "- **lighting** *m light position eyev normalv* → *color*\n",
    "- *world* **shade_hit** *ray* → *lighting*\n",
    "- *world* **color_at** *ray* → *color*\n",
    "- *camera* **ray_for_pixel** pixel_X pixel_Y → *ray*\n",
    "- *world* **render** *camera* → *canvas*\n"
   ]
  },
  {
   "cell_type": "markdown",
   "metadata": {},
   "source": [
    "```\n",
    "∇Z← W render C;x;y;r;c\n",
    "   ⍝ world  render  camera → canvas\n",
    "   Z← canvas C[camera_hsize], C[camera_vsize]\n",
    "   ⍝ I changed from ⍳N to ¯1+⍳N and it worked\n",
    "   :For y :In ¯1+⍳C[camera_vsize]\n",
    "      :For x :In ¯1+⍳C[camera_hsize]\n",
    "         ⍝ When this was C ray_for_pixel x-1,y-1 data was skewed\n",
    "         ⍝ I guess it should have been (x-1),y-1 eh?\n",
    "         r← C ray_for_pixel x y\n",
    "         RECURSE← MAX_RECURSION\n",
    "         c← W color_at r\n",
    "         ⍝ x=columns, y=rows. Small values to zero.\n",
    "         Z[y+1;x+1]← ⊂{⍵<EPSILON:0⋄⍵}¨c\n",
    "      :EndFor\n",
    "   :EndFor\n",
    "   ∇\n",
    "```\n",
    "\n",
    "Now we need to access individual canvas pixels differently, by first extracting the row, then iterating through the elements of the row. Instead of allocating the entire canvas first (as seen in the 2 commented out lines) I'm allocating one row at a time. Slightly faster."
   ]
  },
  {
   "cell_type": "code",
   "execution_count": 71,
   "metadata": {},
   "outputs": [],
   "source": [
    "∇Z← W render C;x;y;r;c;row\n",
    "   ⍝ world  render  camera → canvas\n",
    "   ⍝ Z← canvas C[camera_hsize], C[camera_vsize]\n",
    "   Z← C[camera_vsize]⍴0\n",
    "   ⍝ I changed from ⍳N to ¯1+⍳N and it worked\n",
    "   :For y :In ¯1+⍳C[camera_vsize]\n",
    "      ⍝ row← (y+1)⊃Z\n",
    "      row← C[camera_hsize]⍴⊂0.0 0.0 0.0\n",
    "      :For x :In ¯1+⍳C[camera_hsize]\n",
    "         ⍝ When this was C ray_for_pixel x-1,y-1 data was skewed\n",
    "         ⍝ I guess it should have been (x-1),y-1 eh?\n",
    "         r← C ray_for_pixel x y\n",
    "         c← W color_at r MAX_RECURSION\n",
    "         ⍝ x=columns, y=rows. Small values to zero.\n",
    "         row[x+1]← ⊂{⍵<EPSILON:0⋄⍵}¨c\n",
    "      :EndFor\n",
    "      Z[y+1]← ⊂row\n",
    "   :EndFor\n",
    "   ∇"
   ]
  },
  {
   "cell_type": "code",
   "execution_count": 72,
   "metadata": {},
   "outputs": [],
   "source": [
    "]dinput\n",
    "ray_for_pixel←{\n",
    "   ⍝ camera ray_for_pixel x y → ray\n",
    "   (px py)← ⍵\n",
    "   xoffset← ⍺[camera_psize]×px+0.5\n",
    "   yoffset← ⍺[camera_psize]×py+0.5\n",
    "   world_x← ⍺[camera_halfw]-xoffset\n",
    "   world_y← ⍺[camera_halfh]-yoffset\n",
    "   ⍝ This is actually slightly slower than the above!\n",
    "   ⍝ world_x← ⍺[camera_halfw]-⍺[camera_psize]×px+0.5\n",
    "   ⍝ world_y← ⍺[camera_halfh]-⍺[camera_psize]×py+0.5\n",
    "   ⍝ it←      ⌹⊃⍺[camera_transform]\n",
    "   it←      ⊃⍺[camera_inverse]\n",
    "   pixel←   it +.× point world_x world_y ¯1\n",
    "   origin←  it +.× point 0 0 0\n",
    "   directn← normalize pixel-origin\n",
    "   origin ray directn\n",
    "   }"
   ]
  },
  {
   "cell_type": "markdown",
   "metadata": {},
   "source": [
    "From testing in Chapter 9 I found that **intersect_world** could return all negative distances, so **hit** would return a null. I wasn't checking for that in **color_at**, which caused prepare_computations to blow up when it called normal_at."
   ]
  },
  {
   "cell_type": "code",
   "execution_count": 73,
   "metadata": {},
   "outputs": [],
   "source": [
    "]dinput\n",
    "color_at←{\n",
    "   ⍝ world  color_at  ray remaining → color\n",
    "   (wray remaining)← ⍵\n",
    "   inter← ⍺ intersect_world wray\n",
    "   ⍝ Return black if no intersections\n",
    "   ⍝ 0=≢inter: 0 0 0\n",
    "   ⍝ Take first positive intersection as the hit\n",
    "   h← hit inter\n",
    "   ⍝ Return black if no hit\n",
    "   0=≢h: 0 0 0\n",
    "   comps← h prepare_computations wray\n",
    "   comps← comps compute_n1n2 inter h\n",
    "   ⍺ shade_hit comps remaining\n",
    "   }"
   ]
  },
  {
   "cell_type": "markdown",
   "metadata": {},
   "source": [
    "```∇ Z← W intersect_world R;objs;obj;inter;d;idx\n",
    "   ⍝ world  intersect_world  ray → intersection_list\n",
    "   objs←⊃W[2]   ⍝ List of objects\n",
    "   Z←⍬\n",
    "   d←⍬\n",
    "   :For obj :In objs\n",
    "     inter← obj intersect R\n",
    "     ⍝:If 2=≢inter\n",
    "     :If ⍬≢inter   ⍝ Allows for differing # of returned intersections\n",
    "        ⍝ Z,← inter[1] ⋄ d,← hit_distance⌷⊃inter[1]\n",
    "        ⍝ Z,← inter[2] ⋄ d,← hit_distance⌷⊃inter[2]\n",
    "        :For i :In inter\n",
    "          Z,← ⊂i\n",
    "          d,← i[hit_distance]\n",
    "        :EndFor\n",
    "     :EndIf\n",
    "   :EndFor\n",
    "   :If 0≠≢Z\n",
    "      idx← ⍋d\n",
    "      Z← Z[idx]\n",
    "    :EndIf\n",
    "   ∇```"
   ]
  },
  {
   "cell_type": "markdown",
   "metadata": {},
   "source": [
    "I've spent hours with this trying to make a d'fun! The dyadic Each took some time to understand and use. Then unpacking the list returned by intersect Each took quite some time to figure out. Now I'm stuck getting rid of nulls and then determining if I have nothing to return. Finally got it working, but only by trial and error! ***Study This!!!***\n",
    "\n",
    "Used Unique to eliminate duplicate hits from intersect functions that should return one hit but return two instead."
   ]
  },
  {
   "cell_type": "markdown",
   "metadata": {},
   "source": [
    "```\n",
    "]dinput\n",
    "intersect_world←{\n",
    "  ⍝ world  intersect_world  ray → ⍬ or sorted intersection list\n",
    "     ilist←((⍴2⊃⍺)⍴⊂⍵)intersect⍨¨2⊃⍺  ⍝ List of intersection pairs and nulls\n",
    "     ilist←(~ilist∊⊂⍬)/ilist          ⍝ Remove nulls\n",
    "     0=≢ilist: ⍬                      ⍝ Return null if no intersections at all\n",
    "     ilist←(⊃¨1↑¨ilist),⊃¨1↓¨ilist    ⍝ Remove intersections from pairs\n",
    "     ∪ilist[⍋hit_distance⊃¨ilist]     ⍝ Sort by distance\n",
    "  }\n",
    "```"
   ]
  },
  {
   "cell_type": "markdown",
   "metadata": {},
   "source": [
    "```\n",
    "⍝ Code to test above function\n",
    "w← default_world\n",
    "r← (point 0 0 ¯5) ray vector 0 0 1\n",
    "w intersect_world r\n",
    "```"
   ]
  },
  {
   "cell_type": "markdown",
   "metadata": {},
   "source": [
    "Another attempt to turn intersect_world into a d'fn! This is about the same speed as the procedural function depending on context. Sometimes faster, sometimes slower but doesn't seem to vary more than 1%. I'll keep the function written as a d'fn because it's shorter (and a d'fn!) Constructing the intersection list as a side effect is a bit weird though!"
   ]
  },
  {
   "cell_type": "code",
   "execution_count": 74,
   "metadata": {},
   "outputs": [],
   "source": [
    "]dinput\n",
    "intersect_world←{\n",
    "   ⍝ world  intersect_world  ray → intersection list\n",
    "     Z←⍬\n",
    "     objs←⊃⍺[2]\n",
    "     r←⍵\n",
    "     fun←{~⍬≡⍵:{Z,←⊂⍵}¨⍵ ⋄ ⍵}\n",
    "     x←fun¨{⍵ intersect r}¨objs\n",
    "     ~⍬≡Z:Z[⍋2⊃¨Z]\n",
    "     ⍬\n",
    "}\n"
   ]
  },
  {
   "cell_type": "markdown",
   "metadata": {},
   "source": [
    "- *intersection* **prepare_computations** *ray* intersection_list → augmented intersection\n",
    "- *computations* **compute_n1n2** intersection_list *intersection* → *computations*\n",
    "\n",
    "In the book, the computation done by **compute_n1n2** was done inside of **prepare_computations** but this was a later extension of the prepare_computations function that would have forced the rewrite of earlier tests. I should go ahead and combine things in this notebook. The **color_at** function would need to be suitably modified."
   ]
  },
  {
   "cell_type": "markdown",
   "metadata": {},
   "source": [
    "***Finally found a nasty problem computing the hit_reflectv component.*** I forgot to disclose the two arrays before passing them to the **reflect** function. As a result the reflect vector was incorrect. No idea why this didn't cause a fault down the line."
   ]
  },
  {
   "cell_type": "code",
   "execution_count": 75,
   "metadata": {},
   "outputs": [],
   "source": [
    "]dinput\n",
    "prepare_computations←{\n",
    "⍝ intersection  prepare_computations  ray → hit\n",
    "   Z← ⍺,0,0,0,0,0,0,0,0,0\n",
    "   Z[hit_point]←   ⊂ ⍵ position Z[hit_distance]\n",
    "   Z[hit_eyev]←    -⍵[ray_direction]\n",
    "   Z[hit_normalv]← ⊂ (⊃Z[hit_object]) normal_at ⊃Z[hit_point]\n",
    "\n",
    "   Z[hit_inside]← 0> (⊃Z[hit_normalv]) dot ⊃Z[hit_eyev]\n",
    "   ⍝ Z[hit_normalv]← Z[hit_normalv]×(1 ¯1)[1+hit_inside⊃Z]\n",
    "   Z[hit_normalv]×← (1 ¯1)[1+hit_inside⊃Z]\n",
    "   ⍝ Note the arithmetic with enclosed vectors!\n",
    "   Z[hit_overpt] ←  Z[hit_point]+Z[hit_normalv]×EPSILON ⍝ Added for acne\n",
    "   Z[hit_underpt] ← Z[hit_point]-Z[hit_normalv]×EPSILON ⍝ Added for acne\n",
    "   ⍝ I forgot to disclose, causing failure in reflection!\n",
    "   Z[hit_reflectv]← ⊂ (⊃⍵[ray_direction]) reflect ⊃Z[hit_normalv]\n",
    "   Z\n",
    "   }"
   ]
  },
  {
   "cell_type": "code",
   "execution_count": 76,
   "metadata": {},
   "outputs": [],
   "source": [
    "∇ Z← COMPS compute_n1n2 ARGS;XS;H;i;con;p;obj;last\n",
    "  ⍝ COMPS  compute_n1n2  XS HIT → COMPS\n",
    "  ⍝ Compute the n1 and n2 attributes\n",
    "  ⍝ for a result returned by prepare_computations\n",
    "  ⍝ Use immediately after prepare_computations\n",
    "  (XS H)←ARGS\n",
    "  Z← COMPS\n",
    "  :If ~EVAL_REFRACTION\n",
    "    :Return\n",
    "  :EndIf\n",
    "  con← ⍬\n",
    "  :For i :In XS\n",
    "    obj←⊃i\n",
    "    ⍝ Compute n1\n",
    "    :If H≡i\n",
    "      :If 0=≢con\n",
    "        Z[hit_n1]← 1.0\n",
    "      :Else\n",
    "        last← ⊃¯1↑con\n",
    "        Z[hit_n1]← ⊂obj_material material_refractive⊃last\n",
    "      :EndIf\n",
    "    :EndIf\n",
    "    ⍝ container and hit\n",
    "    :If ⍬≡con\n",
    "      con← ⊂obj  ⍝ containers empty\n",
    "    :Else\n",
    "      p← con∊⊂obj  ⍝ see if object already in container\n",
    "      :If 0=∨/p\n",
    "        con,← ⊂obj\n",
    "      :Else\n",
    "        con← (~p)/con\n",
    "      :EndIf\n",
    "    :EndIf\n",
    "    ⍝ Compute n2\n",
    "    :If H≡i\n",
    "      :If 0=≢con\n",
    "        Z[hit_n2]← 1.0\n",
    "      :Else\n",
    "        last← ⊃¯1↑con\n",
    "        Z[hit_n2]← ⊂obj_material material_refractive⊃last\n",
    "      :EndIf\n",
    "      :Leave\n",
    "    :EndIf\n",
    "  :EndFor\n",
    "  ∇"
   ]
  },
  {
   "cell_type": "code",
   "execution_count": 77,
   "metadata": {},
   "outputs": [],
   "source": [
    "∇Z← lighting Args;matl;point;eyev;normalv;insh;obj;ec;lv;am;ldn;di;f;sp;rv;rde\n",
    "  (matl light point eyev normalv insh obj)← Args\n",
    "  :If 3=≢⊃matl[material_color]\n",
    "    clr← ⊃matl[material_color]\n",
    "  :Else\n",
    "    ⍝ None of the earlier test cases have materials with patterns\n",
    "    clr← (⊃matl[material_color]) pattern_at_shape obj point\n",
    "  :EndIf\n",
    "  ec← clr × ⊃light[light_color]      ⍝ Effective color\n",
    "  lv← normalize (⊃light[light_point])-point\n",
    "  am← ec × matl[material_ambient]\n",
    "  ldn← lv dot normalv\n",
    "  :If insh ∨ ldn<0   ⍝ A little bit quicker checking insh than zeroing above\n",
    "    di← 0 0 0\n",
    "    sp← 0 0 0\n",
    "  :Else\n",
    "    di← ec×matl[material_diffuse]×ldn\n",
    "    rv← (-lv) reflect normalv\n",
    "    rde← (rv dot eyev)\n",
    "    :If rde ≤ 0\n",
    "      sp← 0 0 0\n",
    "    :Else\n",
    "      f← rde*matl[material_shininess]\n",
    "      sp← matl[material_specular]×f×⊃light[light_color]\n",
    "    :EndIf\n",
    "  :EndIf\n",
    "  Z← am+di+sp\n",
    "  ∇"
   ]
  },
  {
   "cell_type": "markdown",
   "metadata": {},
   "source": [
    "- *world* **is_shadowed** *point* → *Boolean*"
   ]
  },
  {
   "cell_type": "code",
   "execution_count": 78,
   "metadata": {},
   "outputs": [],
   "source": [
    "]dinput\n",
    "is_shadowed←{\n",
    "   ⍝ world  is_shadowed  point → Boolean\n",
    "   l← ⊃⊃⍺[1]\n",
    "   v← (⊃l[light_point])-⍵\n",
    "   dist← magnitude v\n",
    "   dir← normalize v\n",
    "   r← ⍵ ray dir\n",
    "   inter← ⍺ intersect_world r\n",
    "   h← hit inter\n",
    "   0=≢h: 0\n",
    "   h[hit_distance]<dist\n",
    "   }"
   ]
  },
  {
   "cell_type": "markdown",
   "metadata": {},
   "source": [
    "- *world* **shade_hit** augmented intersection → *color*\n",
    "- *world* **reflected_color** *comps* → *color*\n",
    "- *world* **refracted_color** *comps* → *color*\n",
    "- **schlick** *computations* → scalar"
   ]
  },
  {
   "cell_type": "markdown",
   "metadata": {},
   "source": [
    "**Note:** One extension to the ray tracer would be support for multiple lighting sources. For that reason, I made the first element of a World data structure a list of *point_light* structures rather than just a single light source. The **shade_hit** function should iterate through the list of lights, presumably averaging the *surface* value returned by **lighting**."
   ]
  },
  {
   "cell_type": "code",
   "execution_count": 79,
   "metadata": {},
   "outputs": [],
   "source": [
    "]dinput\n",
    "shade_hit←{\n",
    "⍝ world  shade_hit  comps remaining → color\n",
    "(comps remaining)← ⍵\n",
    "   wlight← ⊃⊃⍺[1]\n",
    "   obj← ⊃comps[hit_object]\n",
    "   mtrl← ⊃obj[obj_material]\n",
    "   insh← ⍺ is_shadowed ⊃comps[hit_overpt]\n",
    "   surface← lighting mtrl wlight (⊃comps[hit_overpt]) (⊃comps[hit_eyev]) (⊃comps[hit_normalv]) insh obj\n",
    "   reflected← ⍺ reflected_color ⍵\n",
    "   refracted← ⍺ refracted_color ⍵\n",
    "   flag← ^/0<mtrl[material_reflective material_transparency]\n",
    "   reflectance← schlick comps\n",
    "   1=flag: surface+(refracted×1-reflectance)+reflected×reflectance\n",
    "   surface+reflected+refracted\n",
    "   }"
   ]
  },
  {
   "cell_type": "code",
   "execution_count": 80,
   "metadata": {},
   "outputs": [],
   "source": [
    "]dinput\n",
    "reflected_color←{\n",
    "   ⍝ world  reflected_color  comps remaining → color\n",
    "   ~EVAL_REFLECTION: 0 0 0\n",
    "   ⍝ Limit recursion. Set RECURSE before calling\n",
    "   (comps remaining)← ⍵\n",
    "   0≥remaining: 0 0 0   ⍝ black if too deep\n",
    "   ⍝\n",
    "   o← ⊃comps[hit_object]\n",
    "   m← ⊃o[obj_material]\n",
    "   0=m[material_reflective]: 0 0 0\n",
    "   rray← (⊃comps[hit_overpt]) ray ⊃comps[hit_reflectv]\n",
    "   c← ⍺ color_at rray (remaining-1)\n",
    "   c × m[material_reflective]\n",
    "   }"
   ]
  },
  {
   "cell_type": "code",
   "execution_count": 81,
   "metadata": {},
   "outputs": [],
   "source": [
    "]dinput\n",
    "refracted_color←{\n",
    "  ⍝ world  refracted_color  comps → color\n",
    "  ~EVAL_REFRACTION: 0 0 0\n",
    "  ⍝ Fixes #5 but breaks #8\n",
    "  ⍝ Infinite loop: refracted_color, color_at, shade_hit\n",
    "  (comps remaining)← ⍵\n",
    "  0≥remaining: 0 0 0  ⍝ Added for Test#5\n",
    "  ⍝ Black if object is opaque\n",
    "  0=hit_object obj_material material_transparency⊃comps: 0 0 0\n",
    "\n",
    "  n_ratio← (hit_n1⊃comps)÷hit_n2⊃comps\n",
    "  cos_i← (hit_eyev⊃comps) dot hit_normalv⊃comps\n",
    "  sin2_t← (1-cos_i*2)×n_ratio*2\n",
    "  ⍝\n",
    "  1<sin2_t: 0 0 0\n",
    "  ⍝\n",
    "  cos_t← (1-sin2_t)*0.5\n",
    "  dir← ((hit_normalv⊃comps)×((n_ratio×cos_i)-cos_t))-(hit_eyev⊃comps)×n_ratio\n",
    "  rray← (hit_underpt⊃comps) ray dir\n",
    "  color← ⍺ color_at rray (remaining-1)\n",
    "  (hit_object obj_material material_transparency⊃comps) × color\n",
    "  }"
   ]
  },
  {
   "cell_type": "code",
   "execution_count": 82,
   "metadata": {},
   "outputs": [],
   "source": [
    "∇ Z← schlick COMPS;cos;n;sin2_t;cos_t;r0\n",
    "  ⍝ schlick  comps (updated by compute_n1n2)\n",
    "  cos← (⊃COMPS[hit_eyev]) dot ⊃COMPS[hit_normalv]\n",
    "  :If COMPS[hit_n1]>COMPS[hit_n2]\n",
    "    n← COMPS[hit_n1]÷COMPS[hit_n2]\n",
    "    sin2_t← (1-cos*2)×n*2\n",
    "    :If sin2_t>1.0\n",
    "      Z← 1\n",
    "      :Return\n",
    "    :EndIf\n",
    "    cos← (1-sin2_t)*0.5\n",
    "  :EndIf\n",
    "  r0← ((COMPS[hit_n1]-COMPS[hit_n2])÷(COMPS[hit_n1]+COMPS[hit_n2]))*2\n",
    "  Z← r0+(1-r0)×(1-cos)*5\n",
    "  ∇"
   ]
  },
  {
   "cell_type": "markdown",
   "metadata": {},
   "source": [
    "# Workspace Management\n",
    "I can load and save a workspace, which may be the means by which I can separate notebooks containing test cases from a code development notebook. One thing seems notable; reducing the number of cells in a notebook reduces the time it takes to load the notebook. I've been combining multiple related test cases into a single markdown cell and their implementation in another code cell. Well worth continuing to do so.\n",
    "\n",
    "This workspace save preserves the Namespace arrangement that I've added for the ray tracer code."
   ]
  },
  {
   "cell_type": "code",
   "execution_count": 83,
   "metadata": {},
   "outputs": [
    {
     "data": {
      "text/html": [
       "<span style=\"white-space:pre; font-family: monospace\">C:/Users/Mark/Jupyter/\n",
       "</span>"
      ]
     },
     "execution_count": 83,
     "metadata": {},
     "output_type": "execute_result"
    },
    {
     "data": {
      "text/html": [
       "<span style=\"white-space:pre; font-family: monospace\">#\n",
       "</span>"
      ]
     },
     "execution_count": 83,
     "metadata": {},
     "output_type": "execute_result"
    },
    {
     "data": {
      "text/html": [
       "<span style=\"white-space:pre; font-family: monospace\">was rtcode_ws.dws\n",
       "</span>"
      ]
     },
     "execution_count": 83,
     "metadata": {},
     "output_type": "execute_result"
    },
    {
     "data": {
      "text/html": [
       "<span style=\"white-space:pre; font-family: monospace\">rtcode_ws.dws saved Mon Apr 29 16:25:09 2019\n",
       "</span>"
      ]
     },
     "execution_count": 83,
     "metadata": {},
     "output_type": "execute_result"
    },
    {
     "data": {
      "text/html": [
       "<span style=\"white-space:pre; font-family: monospace\">RayTracer       \n",
       "</span>"
      ]
     },
     "execution_count": 83,
     "metadata": {},
     "output_type": "execute_result"
    }
   ],
   "source": [
    "⊃1 ⎕NPARTS ''\n",
    ")cs #\n",
    ")wsid rtcode_ws\n",
    ")save\n",
    ")objects\n",
    ")fns\n",
    ")vars\n",
    "\n",
    "⎕PATH←'RayTracer'"
   ]
  },
  {
   "cell_type": "markdown",
   "metadata": {},
   "source": [
    "To save time while working on the code in a chapter, I can load up the previously saved workspace instead of executing all of the above cells. Now that I've put everything in a namespace, I can't seem to load that namespace! I'm now having to load the SALT text file instead. Not a good things since I'm currently creating that file externally in the Dyalog GUI.\n",
    "\n",
    "A straightforward workspace load does not preserve the Namespace structure of the previously stored workspace!"
   ]
  },
  {
   "cell_type": "code",
   "execution_count": 1,
   "metadata": {
    "scrolled": true
   },
   "outputs": [
    {
     "data": {
      "text/html": [
       "<span style=\"white-space:pre; font-family: monospace\">C:/Users/Mark/Jupyter/\n",
       "</span>"
      ]
     },
     "execution_count": 1,
     "metadata": {},
     "output_type": "execute_result"
    },
    {
     "data": {
      "text/html": [
       "<span style=\"white-space:pre; font-family: monospace\">.\\rtcode_ws.dws saved Fri Mar 29 17:58:40 2019\n",
       "</span>"
      ]
     },
     "execution_count": 1,
     "metadata": {},
     "output_type": "execute_result"
    },
    {
     "data": {
      "text/html": [
       "<span style=\"white-space:pre; font-family: monospace\">#\n",
       "</span>"
      ]
     },
     "execution_count": 1,
     "metadata": {},
     "output_type": "execute_result"
    },
    {
     "data": {
      "text/html": [
       "<span style=\"white-space:pre; font-family: monospace\">RayTracer       \n",
       "</span>"
      ]
     },
     "execution_count": 1,
     "metadata": {},
     "output_type": "execute_result"
    }
   ],
   "source": [
    "⊃1 ⎕NPARTS ''\n",
    "\n",
    ")load rtcode_ws\n",
    ")cs\n",
    ")objects\n",
    ")fns\n",
    ")vars"
   ]
  },
  {
   "cell_type": "markdown",
   "metadata": {},
   "source": [
    "If I use SALT to load a previously saved script file, I can recover the Namespace structure of the ray tracer code."
   ]
  },
  {
   "cell_type": "code",
   "execution_count": 2,
   "metadata": {
    "scrolled": true
   },
   "outputs": [
    {
     "data": {
      "text/html": [
       "<span style=\"white-space:pre; font-family: monospace\">C:/Users/Mark/Jupyter/\n",
       "</span>"
      ]
     },
     "execution_count": 2,
     "metadata": {},
     "output_type": "execute_result"
    },
    {
     "data": {
      "text/html": [
       "<span style=\"white-space:pre; font-family: monospace\">#\n",
       "</span>"
      ]
     },
     "execution_count": 2,
     "metadata": {},
     "output_type": "execute_result"
    },
    {
     "data": {
      "text/html": [
       "<span style=\"white-space:pre; font-family: monospace\">RayTracer       \n",
       "</span>"
      ]
     },
     "execution_count": 2,
     "metadata": {},
     "output_type": "execute_result"
    },
    {
     "data": {
      "text/html": [
       "<span style=\"white-space:pre; font-family: monospace\">hereDir \n",
       "</span>"
      ]
     },
     "execution_count": 2,
     "metadata": {},
     "output_type": "execute_result"
    }
   ],
   "source": [
    "⊃1 ⎕NPARTS ''\n",
    "\n",
    "⎕SE.SALT.Load 'rtcode_ws'\n",
    ")cs\n",
    ")objects\n",
    ")fns\n",
    ")vars\n",
    "⎕PATH←'RayTracer'"
   ]
  },
  {
   "cell_type": "markdown",
   "metadata": {},
   "source": [
    "It's also worthwhile loading some Dyalog utilities."
   ]
  },
  {
   "cell_type": "code",
   "execution_count": 84,
   "metadata": {},
   "outputs": [
    {
     "data": {
      "text/html": [
       "<span style=\"white-space:pre; font-family: monospace\">E:\\Mark\\APL\\Dyalog\\APL_Files\\dfns.dws saved Sat May  5 02:58:11 2018\n",
       "</span>"
      ]
     },
     "execution_count": 84,
     "metadata": {},
     "output_type": "execute_result"
    }
   ],
   "source": [
    "⍝ )copy display\n",
    ")copy dfns time"
   ]
  },
  {
   "cell_type": "markdown",
   "metadata": {},
   "source": [
    "# Test Code"
   ]
  },
  {
   "cell_type": "code",
   "execution_count": 85,
   "metadata": {},
   "outputs": [
    {
     "data": {
      "text/html": [
       "<span style=\"white-space:pre; font-family: monospace\">#\n",
       "</span>"
      ]
     },
     "execution_count": 85,
     "metadata": {},
     "output_type": "execute_result"
    }
   ],
   "source": [
    ")CS #\n",
    "⎕PATH← 'RayTracer'\n",
    "\n",
    "floor← plane\n",
    "p← 0.5 0.5 0.5 checker_pattern 0.75 0.75 0.75\n",
    "p← p add_pattern_transform (rotation_y 0.3) +.× scaling 0.25 0.25 0.25\n",
    "m← material\n",
    "m[RayTracer.material_pattern]← ⊂p\n",
    "m[RayTracer.material_ambient RayTracer.material_diffuse RayTracer.material_specular]← 0.2 0.9 0\n",
    "floor[RayTracer.obj_material]← ⊂m\n",
    "\n",
    "cyl1← cylinder\n",
    "cyl1[RayTracer.cylinder_minimum RayTracer.cylinder_maximum RayTracer.cylinder_closed]← 0 0.75 1\n",
    "cyl1← cyl1 add_shape_transform (translation ¯1 0 1) +.× scaling 0.5 1 0.5\n",
    "m← material\n",
    "m[RayTracer.material_color RayTracer.material_diffuse]← (0 0 0.6) 0.1\n",
    "m[RayTracer.material_specular RayTracer.material_shininess]← 0.9 300\n",
    "m[RayTracer.material_reflective]← 0.9\n",
    "cyl1[RayTracer.obj_material]← ⊂m\n",
    "\n",
    "⍝ Concentric cylinders\n",
    "cyl2← cylinder\n",
    "cyl2[RayTracer.cylinder_minimum RayTracer.cylinder_maximum RayTracer.cylinder_closed]← 0 0.2 0\n",
    "cyl2← cyl2 add_shape_transform (translation 1 0 0) +.× scaling 0.8 1 0.8\n",
    "m← material\n",
    "m[RayTracer.material_color RayTracer.material_ambient]← (1 1 0.3) 0.1\n",
    "m[RayTracer.material_diffuse RayTracer.material_specular RayTracer.material_shininess]← 0.8 0.9 300\n",
    "cyl2[RayTracer.obj_material]← ⊂m\n",
    "\n",
    "cyl3← cylinder\n",
    "cyl3[RayTracer.cylinder_minimum RayTracer.cylinder_maximum RayTracer.cylinder_closed]← 0 0.3 0\n",
    "cyl3← cyl3 add_shape_transform (translation 1 0 0) +.× scaling 0.6 1 0.6\n",
    "m← material\n",
    "m[RayTracer.material_color RayTracer.material_ambient]← (1 0.9 0.4) 0.1\n",
    "m[RayTracer.material_diffuse RayTracer.material_specular RayTracer.material_shininess]← 0.8 0.9 300\n",
    "cyl3[RayTracer.obj_material]← ⊂m\n",
    "\n",
    "cyl4← cylinder\n",
    "cyl4[RayTracer.cylinder_minimum RayTracer.cylinder_maximum RayTracer.cylinder_closed]← 0 0.4 0\n",
    "cyl4← cyl4 add_shape_transform (translation 1 0 0) +.× scaling 0.4 1 0.4\n",
    "m← material\n",
    "m[RayTracer.material_color RayTracer.material_ambient]← (1 0.8 0.5) 0.1\n",
    "m[RayTracer.material_diffuse RayTracer.material_specular RayTracer.material_shininess]← 0.8 0.9 300\n",
    "cyl4[RayTracer.obj_material]← ⊂m\n",
    "\n",
    "cyl5← cylinder\n",
    "cyl5[RayTracer.cylinder_minimum RayTracer.cylinder_maximum RayTracer.cylinder_closed]← 0 0.5 1\n",
    "cyl5← cyl5 add_shape_transform (translation 1 0 0) +.× scaling 0.2 1 0.2\n",
    "m← material\n",
    "m[RayTracer.material_color RayTracer.material_ambient]← (1 0.7 0.6) 0.1\n",
    "m[RayTracer.material_diffuse RayTracer.material_specular RayTracer.material_shininess]← 0.8 0.9 300\n",
    "cyl5[RayTracer.obj_material]← ⊂m\n",
    "\n",
    "⍝ Decorative cylinders\n",
    "cyl10← cylinder\n",
    "cyl10[RayTracer.cylinder_minimum RayTracer.cylinder_maximum RayTracer.cylinder_closed]← 0 0.3 1\n",
    "cyl10← cyl10 add_shape_transform (translation 0 0 ¯0.75) +.× scaling 0.05 1 0.05\n",
    "m← material\n",
    "m[RayTracer.material_color RayTracer.material_ambient]← (1 0 0) 0.1\n",
    "m[RayTracer.material_diffuse RayTracer.material_specular RayTracer.material_shininess]← 0.9 0.9 300\n",
    "cyl10[RayTracer.obj_material]← ⊂m\n",
    "\n",
    "cyl11← cylinder\n",
    "cyl11[RayTracer.cylinder_minimum RayTracer.cylinder_maximum RayTracer.cylinder_closed]← 0 0.3 1\n",
    "t← (translation 0 0 ¯2.25) +.× (rotation_y ¯0.15) +.× (translation 0 0 1.5) +.× scaling 0.05 1 0.05\n",
    "cyl11← cyl11 add_shape_transform t\n",
    "m← material\n",
    "m[RayTracer.material_color RayTracer.material_ambient]← (1 1 0) 0.1\n",
    "m[RayTracer.material_diffuse RayTracer.material_specular RayTracer.material_shininess]← 0.9 0.9 300\n",
    "cyl11[RayTracer.obj_material]← ⊂m\n",
    "\n",
    "cyl12← cylinder\n",
    "cyl12[RayTracer.cylinder_minimum RayTracer.cylinder_maximum RayTracer.cylinder_closed]← 0 0.3 1\n",
    "t← (translation 0 0 ¯2.25) +.× (rotation_y ¯0.3) +.× (translation 0 0 1.5) +.× scaling 0.05 1 0.05\n",
    "cyl12← cyl12 add_shape_transform t\n",
    "m← material\n",
    "m[RayTracer.material_color RayTracer.material_ambient]← (0 1 0) 0.1\n",
    "m[RayTracer.material_diffuse RayTracer.material_specular RayTracer.material_shininess]← 0.9 0.9 300\n",
    "cyl12[RayTracer.obj_material]← ⊂m\n",
    "\n",
    "cyl13← cylinder\n",
    "cyl13[RayTracer.cylinder_minimum RayTracer.cylinder_maximum RayTracer.cylinder_closed]← 0 0.3 1\n",
    "t← (translation 0 0 ¯2.25) +.× (rotation_y ¯0.45) +.× (translation 0 0 1.5) +.× scaling 0.05 1 0.05\n",
    "cyl13← cyl13 add_shape_transform t\n",
    "m← material\n",
    "m[RayTracer.material_color RayTracer.material_ambient]← (0 1 1) 0.1\n",
    "m[RayTracer.material_diffuse RayTracer.material_specular RayTracer.material_shininess]← 0.9 0.9 300\n",
    "cyl13[RayTracer.obj_material]← ⊂m\n",
    "\n",
    "⍝ Glass cylinder\n",
    "cyl20← cylinder\n",
    "cyl20[RayTracer.cylinder_minimum RayTracer.cylinder_maximum RayTracer.cylinder_closed]← 0.0001 0.5 1\n",
    "cyl20← cyl20 add_shape_transform (translation 0 0 ¯1.5) +.× scaling 0.33 1 0.33\n",
    "m← material\n",
    "m[RayTracer.material_color RayTracer.material_diffuse]← (0.25 0 0) 0.1\n",
    "m[RayTracer.material_specular RayTracer.material_shininess]← 0.9 300\n",
    "m[RayTracer.material_reflective RayTracer.material_transparency RayTracer.material_refractive]← 0.9 0.9 1.5\n",
    "cyl20[RayTracer.obj_material]← ⊂m\n"
   ]
  },
  {
   "cell_type": "code",
   "execution_count": 86,
   "metadata": {},
   "outputs": [],
   "source": [
    "w← world\n",
    "w[1]← ⊂⊂ (point 1 6.9 ¯4.9) RayTracer.point_light 1 1 1\n",
    "w[2]← ⊂  floor cyl1 cyl2 cyl3 cyl4 cyl5 cyl10 cyl11 cyl12 cyl13 cyl20\n",
    "\n",
    "c← camera 800 400 (○ 0.1)\n",
    "c[RayTracer.camera_transform]← ⊂ view_transform (point 8 3.5 ¯9) (point 0 0.3 0) (vector 0 1 0)\n",
    "c[RayTracer.camera_inverse]← ⊂ ⌹view_transform (point 8 3.5 ¯9) (point 0 0.3 0) (vector 0 1 0)"
   ]
  },
  {
   "cell_type": "code",
   "execution_count": 87,
   "metadata": {},
   "outputs": [
    {
     "data": {
      "text/html": [
       "<span style=\"white-space:pre; font-family: monospace\">03:25.25\n",
       "</span>"
      ]
     },
     "execution_count": 87,
     "metadata": {},
     "output_type": "execute_result"
    }
   ],
   "source": [
    "im← w render #.time c"
   ]
  },
  {
   "cell_type": "code",
   "execution_count": 88,
   "metadata": {},
   "outputs": [
    {
     "data": {
      "text/html": [
       "<span style=\"white-space:pre; font-family: monospace\">4032189\n",
       "</span>"
      ]
     },
     "execution_count": 88,
     "metadata": {},
     "output_type": "execute_result"
    }
   ],
   "source": [
    "ppm← canvas_to_ppm im\n",
    "'cylinders.ppm' savePPM ppm"
   ]
  },
  {
   "cell_type": "markdown",
   "metadata": {},
   "source": [
    "I can't seem to get reflection of cylinders correct!\n",
    "\n",
    "<img src=\"cylinders2.jpg\">\n",
    "\n",
    "The same obviously holds true of cones.\n",
    "\n",
    "<img src=\"cylinders-cone.jpg\">\n",
    "\n",
    "Aha! Problem applied to all objects except Planes. The **Prepare_computations** function wasn't computing the reflection vector reflecv component correctly! Here's the corrected image.\n",
    "\n",
    "<img src=\"cylinders.jpg\">"
   ]
  },
  {
   "cell_type": "markdown",
   "metadata": {},
   "source": [
    "## Reflection Test Case\n",
    "Here's a simple test with different objects to see what is wrong with cylinder reflection"
   ]
  },
  {
   "cell_type": "code",
   "execution_count": 52,
   "metadata": {},
   "outputs": [
    {
     "data": {
      "text/html": [
       "<span style=\"white-space:pre; font-family: monospace\">#\n",
       "</span>"
      ]
     },
     "execution_count": 52,
     "metadata": {},
     "output_type": "execute_result"
    }
   ],
   "source": [
    ")CS #\n",
    "⎕PATH← 'RayTracer'\n",
    "\n",
    "⍝ floor← cylinder  ⍝ Cube reflects OK\n",
    "⍝ floor← cube  ⍝ Cube reflects OK\n",
    "⍝ floor← sphere  ⍝ Sphere reflects OK\n",
    "⍝ floor← floor add_shape_transform (scaling 3 0.1 3)⍝ +.× rotation_x ○ 0.5\n",
    "\n",
    "floor← plane  ⍝ Plane reflects OK\n",
    "p← 0.5 0.5 0.5 checker_pattern 0.75 0.75 0.75\n",
    "p← p add_pattern_transform (rotation_y 0.3) +.× scaling 0.25 0.25 0.25\n",
    "m← material\n",
    "m[RayTracer.material_pattern]← ⊂p\n",
    "m[RayTracer.material_ambient RayTracer.material_diffuse RayTracer.material_specular]← 0.2 0.9 0\n",
    "m[RayTracer.material_reflective]← 0.9\n",
    "floor[RayTracer.obj_material]← ⊂m\n",
    "\n",
    "cyl1← cylinder\n",
    "cyl1[RayTracer.cylinder_minimum RayTracer.cylinder_maximum RayTracer.cylinder_closed]← 0 0.75 1\n",
    "cyl1← cyl1 add_shape_transform (translation ¯1 0.5 0) +.× (rotation_x ○ 0.5) +.× scaling 0.5 1 0.5\n",
    "⍝ cyl1← cyl1 add_shape_transform (translation ¯1 0.5 1) +.× scaling 0.5 1 0.5\n",
    "m← material\n",
    "m[RayTracer.material_color RayTracer.material_diffuse]← (0 0 0.6) 0.1\n",
    "m[RayTracer.material_specular RayTracer.material_shininess]← 0.9 300\n",
    "m[RayTracer.material_reflective]← 0.9\n",
    "cyl1[RayTracer.obj_material]← ⊂m\n",
    "\n",
    "⍝ Decorative cylinders\n",
    "cyl10← cylinder\n",
    "cyl10[RayTracer.cylinder_minimum RayTracer.cylinder_maximum RayTracer.cylinder_closed]← 0 0.3 1\n",
    "cyl10← cyl10 add_shape_transform (translation ¯1.5 0 ¯0.75) +.× scaling 0.05 1 0.05\n",
    "m← material\n",
    "m[RayTracer.material_color RayTracer.material_ambient]← (1 0 0) 0.1\n",
    "m[RayTracer.material_diffuse RayTracer.material_specular RayTracer.material_shininess]← 0.9 0.9 300\n",
    "m[RayTracer.material_reflective]← 0.9\n",
    "cyl10[RayTracer.obj_material]← ⊂m\n",
    "\n",
    "cyl11← cylinder\n",
    "cyl11[RayTracer.cylinder_minimum RayTracer.cylinder_maximum RayTracer.cylinder_closed]← 0 0.3 1\n",
    "t← (translation 0 0 ¯0.75) +.× (rotation_y ¯0.15) +.× (translation 0 0 1.5) +.× scaling 0.05 1 0.05\n",
    "cyl11← cyl11 add_shape_transform t\n",
    "m← material\n",
    "m[RayTracer.material_color RayTracer.material_ambient]← (1 1 0) 0.1\n",
    "m[RayTracer.material_diffuse RayTracer.material_specular RayTracer.material_shininess]← 0.9 0.9 300\n",
    "cyl11[RayTracer.obj_material]← ⊂m\n",
    "\n",
    "cyl12← cylinder\n",
    "cyl12[RayTracer.cylinder_minimum RayTracer.cylinder_maximum RayTracer.cylinder_closed]← 0 0.3 1\n",
    "t← (translation 0 0 0.25) +.× (rotation_y ¯0.3) +.× (translation 0 0 1.5) +.× scaling 0.05 1 0.05\n",
    "cyl12← cyl12 add_shape_transform t\n",
    "m← material\n",
    "m[RayTracer.material_color RayTracer.material_ambient]← (0 1 0) 0.1\n",
    "m[RayTracer.material_diffuse RayTracer.material_specular RayTracer.material_shininess]← 0.9 0.9 300\n",
    "cyl12[RayTracer.obj_material]← ⊂m\n"
   ]
  },
  {
   "cell_type": "code",
   "execution_count": 53,
   "metadata": {},
   "outputs": [],
   "source": [
    "w← world\n",
    "w[1]← ⊂⊂ (point 1 6.9 ¯4.9) RayTracer.point_light 1 1 1\n",
    "w[2]← ⊂  floor cyl1 cyl10 cyl11 cyl12\n",
    "\n",
    "c← camera 800 400 (○ 0.1)\n",
    "c[RayTracer.camera_transform]← ⊂ view_transform (point 8 3.5 ¯9) (point 0 0.3 0) (vector 0 1 0)\n",
    "c[RayTracer.camera_inverse]← ⊂ ⌹view_transform (point 8 3.5 ¯9) (point 0 0.3 0) (vector 0 1 0)"
   ]
  },
  {
   "cell_type": "code",
   "execution_count": 54,
   "metadata": {},
   "outputs": [
    {
     "data": {
      "text/html": [
       "<span style=\"white-space:pre; font-family: monospace\">02:20.53\n",
       "</span>"
      ]
     },
     "execution_count": 54,
     "metadata": {},
     "output_type": "execute_result"
    }
   ],
   "source": [
    "im← w render #.time c"
   ]
  },
  {
   "cell_type": "code",
   "execution_count": 55,
   "metadata": {},
   "outputs": [
    {
     "data": {
      "text/html": [
       "<span style=\"white-space:pre; font-family: monospace\">4032189\n",
       "</span>"
      ]
     },
     "execution_count": 55,
     "metadata": {},
     "output_type": "execute_result"
    }
   ],
   "source": [
    "ppm← canvas_to_ppm im\n",
    "'refltest.ppm' savePPM ppm"
   ]
  },
  {
   "cell_type": "code",
   "execution_count": null,
   "metadata": {},
   "outputs": [],
   "source": []
  }
 ],
 "metadata": {
  "kernelspec": {
   "display_name": "Dyalog APL",
   "language": "apl",
   "name": "dyalog-kernel"
  },
  "language_info": {
   "file_extension": ".apl",
   "mimetype": "text/apl",
   "name": "APL"
  }
 },
 "nbformat": 4,
 "nbformat_minor": 2
}
