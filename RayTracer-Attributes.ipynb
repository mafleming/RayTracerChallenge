{
 "cells": [
  {
   "cell_type": "markdown",
   "metadata": {},
   "source": [
    "# RayTracer Attributes\n",
    "This notebook contains a collection of color attributes and material definitions taken mostly from POV-Ray. Since these are variables they will need to be referred to by their namespace path.\n",
    "\n",
    "The license for the file content:\n",
    "```\n",
    "// This work is licensed under the Creative Commons Attribution-ShareAlike 3.0 Unported License.\n",
    "// To view a copy of this license, visit http://creativecommons.org/licenses/by-sa/3.0/ or send a\n",
    "// letter to Creative Commons, 444 Castro Street, Suite 900, Mountain View, California, 94041, USA.\n",
    "```"
   ]
  },
  {
   "cell_type": "markdown",
   "metadata": {},
   "source": [
    "## Namespace Setup\n",
    "RayTracer attributes will be placed in a sub-namespace of the main RayTracer namespace. When referring to attributes, the full namespace path is needed, as in ```#.RayTracer.Attributes.Aquamarine```\n",
    "\n",
    "We first need to load the RayTracer code workspace so that we can access the material data structure and associated constants. Then our own namespace needs to be created."
   ]
  },
  {
   "cell_type": "code",
   "execution_count": 1,
   "metadata": {},
   "outputs": [
    {
     "data": {
      "text/html": [
       "<span style=\"white-space:pre; font-family: monospace\">C:/Users/Mark/Jupyter/\n",
       "</span>"
      ]
     },
     "execution_count": 1,
     "metadata": {},
     "output_type": "execute_result"
    },
    {
     "data": {
      "text/html": [
       "<span style=\"white-space:pre; font-family: monospace\">.\\rtcode_ws.dws saved Fri May 31 15:15:10 2019\n",
       "</span>"
      ]
     },
     "execution_count": 1,
     "metadata": {},
     "output_type": "execute_result"
    }
   ],
   "source": [
    "⊃1 ⎕NPARTS ''\n",
    "\n",
    ")load rtcode_ws\n",
    "⎕PATH← '#.RayTracer'"
   ]
  },
  {
   "cell_type": "markdown",
   "metadata": {},
   "source": [
    "Then we need to create the namespace where all of our variables will appear."
   ]
  },
  {
   "cell_type": "code",
   "execution_count": 2,
   "metadata": {},
   "outputs": [
    {
     "data": {
      "text/html": [
       "<span style=\"white-space:pre; font-family: monospace\">#.RayTracer.Attributes\n",
       "</span>"
      ]
     },
     "execution_count": 2,
     "metadata": {},
     "output_type": "execute_result"
    },
    {
     "data": {
      "text/html": [
       "<span style=\"white-space:pre; font-family: monospace\">#.RayTracer.Attributes\n",
       "</span>"
      ]
     },
     "execution_count": 2,
     "metadata": {},
     "output_type": "execute_result"
    }
   ],
   "source": [
    ")NS #.RayTracer.Attributes\n",
    ")CS #.RayTracer.Attributes"
   ]
  },
  {
   "cell_type": "markdown",
   "metadata": {},
   "source": [
    "## Color Definitions\n",
    "These variable values are taken from the POV-Ray colors.inc file.\n",
    "\n",
    "```\n",
    "//    Persistence of Vision Ray Tracer version 3.5 Include File\n",
    "//    File: colors.inc\n",
    "//    Last updated: 2012.5.23\n",
    "//    Description: This file contains pre-defined colors and color-manipulation macros.\n",
    "```"
   ]
  },
  {
   "cell_type": "code",
   "execution_count": 3,
   "metadata": {},
   "outputs": [
    {
     "data": {
      "text/html": [
       "<span style=\"white-space:pre; font-family: monospace\">#.RayTracer.Attributes\n",
       "</span>"
      ]
     },
     "execution_count": 3,
     "metadata": {},
     "output_type": "execute_result"
    },
    {
     "data": {
      "text/html": [
       "<span style=\"white-space:pre; font-family: monospace\">0.95 0.95 0.95\n",
       "</span>"
      ]
     },
     "execution_count": 3,
     "metadata": {},
     "output_type": "execute_result"
    },
    {
     "data": {
      "text/html": [
       "<span style=\"white-space:pre; font-family: monospace\">0.15 0.15 0.15\n",
       "</span>"
      ]
     },
     "execution_count": 3,
     "metadata": {},
     "output_type": "execute_result"
    }
   ],
   "source": [
    ")CS #.RayTracer.Attributes\n",
    "white← 1 1 1\n",
    "black← 0 0 0\n",
    "\n",
    "⍝ Percentage Grays\n",
    "Gray05 Gray10 Gray15 Gray20 Gray25 Gray30← (⊂white)×0.05×⍳6\n",
    "Gray35 Gray40 Gray45 Gray50 Gray55 Gray60← (⊂white)×0.30+0.05×⍳6\n",
    "Gray65 Gray70 Gray75 Gray80 Gray85 Gray90← (⊂white)×0.60+0.05×⍳6\n",
    "+Gray95← white×0.95\n",
    "Gray15\n",
    "\n",
    "⍝ Other Grays\n",
    "DimGray←    0.329412 0.329412 0.329412\n",
    "DimGrey←    0.329412 0.329412 0.329412\n",
    "Gray←       0.752941 0.752941 0.752941\n",
    "Grey←       0.752941 0.752941 0.752941\n",
    "LightGray←  0.658824 0.658824 0.658824\n",
    "LightGrey←  0.658824 0.658824 0.658824\n",
    "VLightGray← 0.80     0.80     0.80\n",
    "VLightGrey← 0.80     0.80     0.80"
   ]
  },
  {
   "cell_type": "code",
   "execution_count": 4,
   "metadata": {},
   "outputs": [
    {
     "data": {
      "text/html": [
       "<span style=\"white-space:pre; font-family: monospace\">#.RayTracer.Attributes\n",
       "</span>"
      ]
     },
     "execution_count": 4,
     "metadata": {},
     "output_type": "execute_result"
    }
   ],
   "source": [
    ")CS #.RayTracer.Attributes\n",
    "Aquamarine← 0.439216 0.858824 0.576471\n",
    "BlueViolet← 0.62352 0.372549 0.623529\n",
    "Brown← 0.647059 0.164706 0.164706\n",
    "CadetBlue← 0.372549 0.623529 0.623529\n",
    "Coral← 1.0 0.498039 0.0\n",
    "CornflowerBlue← 0.258824 0.258824 0.435294\n",
    "DarkGreen← 0.184314 0.309804 0.184314\n",
    "DarkOliveGreen← 0.309804 0.309804 0.184314\n",
    "DarkOrchid← 0.6 0.196078 0.8\n",
    "DarkSlateBlue← 0.119608 0.137255 0.556863\n",
    "DarkSlateGray← 0.184314 0.309804 0.309804\n",
    "DarkSlateGrey← 0.184314 0.309804 0.309804\n",
    "DarkTurquoise← 0.439216 0.576471 0.858824\n",
    "Firebrick← 0.556863 0.137255 0.137255\n",
    "ForestGreen← 0.137255 0.556863 0.137255\n",
    "Gold← 0.8 0.498039 0.196078\n",
    "Goldenrod← 0.858824 0.858824 0.439216\n",
    "GreenYellow← 0.576471 0.858824 0.439216\n",
    "IndianRed← 0.309804 0.184314 0.184314\n",
    "Khaki← 0.623529 0.623529 0.372549\n",
    "LightBlue← 0.74902 0.847059 0.847059\n",
    "LightSteelBlue← 0.560784 0.560784 0.737255\n",
    "LimeGreen← 0.196078 0.8 0.196078\n",
    "Maroon← 0.556863 0.137255 0.419608\n",
    "MediumAquamarine← 0.196078 0.8 0.6\n",
    "MediumBlue← 0.196078 0.196078 0.8\n",
    "MediumForestGreen← 0.419608 0.556863 0.137255\n",
    "MediumGoldenrod← 0.917647 0.917647 0.678431\n",
    "MediumOrchid← 0.576471 0.439216 0.858824\n",
    "MediumSeaGreen← 0.258824 0.435294 0.258824\n",
    "MediumSlateBlue← 0.498039 0 1.0\n",
    "MediumSpringGreen← 0.498039 1.0 0\n",
    "MediumTurquoise← 0.439216 0.858824 0.858824\n",
    "MediumVioletRed← 0.858824 0.439216 0.576471\n",
    "MidnightBlue← 0.184314 0.184314 0.309804\n",
    "Navy← 0.137255 0.137255 0.556863\n",
    "NavyBlue← 0.137255 0.137255 0.556863\n",
    "Orange← 1 0.5 0.0\n",
    "OrangeRed← 1.0 0.25 0\n",
    "Orchid← 0.858824 0.439216 0.858824\n",
    "PaleGreen← 0.560784 0.737255 0.560784\n",
    "Pink← 0.737255 0.560784 0.560784\n",
    "Plum← 0.917647 0.678431 0.917647\n",
    "Salmon← 0.435294 0.258824 0.258824\n",
    "SeaGreen← 0.137255 0.556863 0.419608\n",
    "Sienna← 0.556863 0.419608 0.137255\n",
    "SkyBlue← 0.196078 0.6 0.8\n",
    "SlateBlue← 0 0.498039 1.0\n",
    "SpringGreen← 0 1.0 0.498039\n",
    "SteelBlue← 0.137255 0.419608 0.556863\n",
    "Tan← 0.858824 0.576471 0.439216\n",
    "Thistle← 0.847059 0.74902 0.847059\n",
    "Turquoise← 0.678431 0.917647 0.917647\n",
    "Violet← 0.309804 0.184314 0.309804\n",
    "VioletRed← 0.8 0.196078 0.6\n",
    "Wheat← 0.847059 0.847059 0.74902\n",
    "YellowGreen← 0.6 0.8 0.196078\n",
    "SummerSky← 0.22 0.69 0.87\n",
    "RichBlue← 0.35 0.35 0.67\n",
    "Brass← 0.71 0.65 0.26\n",
    "Copper← 0.72 0.45 0.20\n",
    "Bronze← 0.55 0.47 0.14\n",
    "Bronze2← 0.65 0.49 0.24\n",
    "Silver← 0.90 0.91 0.98\n",
    "BrightGold← 0.85 0.85 0.10\n",
    "OldGold← 0.81 0.71 0.23\n",
    "Feldspar← 0.82 0.57 0.46\n",
    "Quartz← 0.85 0.85 0.95\n",
    "Mica← black  ⍝// needed in textures.inc\n",
    "NeonPink← 1.00 0.43 0.78\n",
    "DarkPurple← 0.53 0.12 0.47\n",
    "NeonBlue← 0.30 0.30 1.00\n",
    "CoolCopper← 0.85 0.53 0.10\n",
    "MandarinOrange← 0.89 0.47 0.20\n",
    "LightWood← 0.91 0.76 0.65\n",
    "MediumWood← 0.65 0.50 0.39\n",
    "DarkWood← 0.52 0.37 0.26\n",
    "SpicyPink← 1.00 0.11 0.68\n",
    "SemiSweetChoc← 0.42 0.26 0.15\n",
    "BakersChoc← 0.36 0.20 0.09\n",
    "Flesh← 0.96 0.80 0.69\n",
    "NewTan← 0.92 0.78 0.62\n",
    "NewMidnightBlue← 0.00 0.00 0.61\n",
    "VeryDarkBrown← 0.35 0.16 0.14\n",
    "DarkBrown← 0.36 0.25 0.20\n",
    "DarkTan← 0.59 0.41 0.31\n",
    "GreenCopper← 0.32 0.49 0.46\n",
    "DkGreenCopper← 0.29 0.46 0.43\n",
    "DustyRose← 0.52 0.39 0.39\n",
    "HuntersGreen← 0.13 0.37 0.31\n",
    "Scarlet← 0.55 0.09 0.09\n",
    "\n",
    "Med_Purple← 0.73 0.16 0.96\n",
    "Light_Purple← 0.87 0.58 0.98\n",
    "Very_Light_Purple← 0.94 0.81 0.99"
   ]
  },
  {
   "cell_type": "markdown",
   "metadata": {},
   "source": [
    "### Glass colors and materials\n",
    "Taken from the glass.inc file.\n",
    "```\n",
    "//    Persistence of Vision Ray Tracer version 3.5 Include File\n",
    "//    File: glass.inc\n",
    "//    Last updated: 2001.8.19\n",
    "//\t   Author: Christoph Hormann\n",
    "//    Description: Glass materials using new POV 3.5 features.\n",
    "//\n",
    "//    Upated: 07Aug2008 (jh)\n",
    "//    Use these pigments, finishes and interiors to make a glass \"material\"\n",
    "//    Converted glass_old textures to materials.\n",
    "//    See glass_old.inc for examples\n",
    "```"
   ]
  },
  {
   "cell_type": "code",
   "execution_count": 5,
   "metadata": {},
   "outputs": [
    {
     "data": {
      "text/html": [
       "<span style=\"white-space:pre; font-family: monospace\">#.RayTracer.Attributes\n",
       "</span>"
      ]
     },
     "execution_count": 5,
     "metadata": {},
     "output_type": "execute_result"
    }
   ],
   "source": [
    ")CS #.RayTracer.Attributes\n",
    "⍝ colors derived from old glass.inc include file\n",
    "\n",
    "Col_Winebottle← 0.4 0.72 0.4\n",
    "Col_Beerbottle← 0.7 0.5 0.1\n",
    "Col_Ruby← 0.9 0.1 0.2\n",
    "Col_Green← 0.8 1 0.95\n",
    "Col_Dark_Green← 0.1 0.7 0.8\n",
    "Col_Yellow← 0.8 0.8 0.2\n",
    "Col_Orange← 1.0 0.5 0.0\n",
    "Col_Vicksbottle← 0.1 0.15 0.5\n",
    "\n",
    "⍝ additional colors\n",
    "\n",
    "Col_Red_01← 0.85 0.10 0.20\n",
    "Col_Red_02← 0.85 0.35 0.10\n",
    "Col_Red_03← 0.75 0.20 0.25\n",
    "Col_Red_04← 0.50 0.10 0.10\n",
    "\n",
    "Col_Green_01← 0.10 0.85 0.20\n",
    "Col_Green_02← 0.35 0.85 0.10\n",
    "Col_Green_03← 0.20 0.75 0.25\n",
    "Col_Green_04← 0.10 0.50 0.10\n",
    "\n",
    "Col_Blue_01← 0.35 0.42 0.85\n",
    "Col_Blue_02← 0.35 0.65 0.85\n",
    "Col_Blue_03← 0.35 0.40 0.75\n",
    "Col_Blue_04← 0.10 0.10 0.50\n",
    "\n",
    "Col_Yellow_01← 0.85 0.85 0.20\n",
    "Col_Yellow_02← 0.75 0.78 0.10\n",
    "Col_Yellow_03← 0.78 0.75 0.10\n",
    "Col_Yellow_04← 0.50 0.50 0.10\n",
    "\n",
    "⍝ colors of common minerals\n",
    "\n",
    "Col_Amethyst_01← 0.4392 0.1765 0.3137\n",
    "Col_Amethyst_02← 0.5843 0.3686 0.4941\n",
    "Col_Amethyst_03← 0.6980 0.5059 0.6157\n",
    "Col_Amethyst_04← 0.9059 0.7176 0.8471\n",
    "Col_Amethyst_05← 0.8902 0.4549 0.7059\n",
    "Col_Amethyst_06← 0.4980 0.2902 0.4235\n",
    "\n",
    "Col_Apatite_01← 0.0549 0.3451 0.4314\n",
    "Col_Apatite_02← 0.2941 0.5765 0.5647\n",
    "Col_Apatite_03← 0.5176 0.7333 0.7020\n",
    "Col_Apatite_04← 0.3412 0.5961 0.4118\n",
    "Col_Apatite_05← 0.3647 0.8196 0.7451\n",
    "\n",
    "Col_Aquamarine_01← 0.5333 0.6157 0.6196\n",
    "Col_Aquamarine_02← 0.6627 0.7020 0.7255\n",
    "Col_Aquamarine_03← 0.7412 0.8235 0.8431\n",
    "Col_Aquamarine_04← 0.6039 0.7216 0.7882\n",
    "Col_Aquamarine_05← 0.5804 0.7098 0.7765\n",
    "Col_Aquamarine_06← 0.7255 0.8510 0.9176\n",
    "\n",
    "Col_Azurite_01← 0.2863 0.3569 0.7216\n",
    "Col_Azurite_02← 0.5333 0.6549 0.9059\n",
    "Col_Azurite_03← 0.3020 0.3529 0.6314\n",
    "Col_Azurite_04← 0.1137 0.1569 0.4471\n",
    "\n",
    "Col_Citrine_01← 0.3020 0.2314 0.1529\n",
    "Col_Citrine_02← 0.4667 0.3804 0.2980\n",
    "Col_Citrine_03← 0.5020 0.4118 0.3529\n",
    "\n",
    "Col_Emerald_01← 0.0471 0.4000 0.2549\n",
    "Col_Emerald_02← 0.2157 0.6353 0.4902\n",
    "Col_Emerald_03← 0.3216 0.6627 0.5961\n",
    "Col_Emerald_04← 0.1843 0.4549 0.3843\n",
    "Col_Emerald_05← 0.2863 0.6431 0.4431\n",
    "Col_Emerald_06← 0.2353 0.5922 0.3804\n",
    "Col_Emerald_07← 0.4392 0.7725 0.5804\n",
    "\n",
    "Col_Fluorite_01← 0.5098 0.3294 0.4039\n",
    "Col_Fluorite_02← 0.3020 0.1569 0.2431\n",
    "Col_Fluorite_03← 0.5098 0.2902 0.2745\n",
    "Col_Fluorite_04← 0.5373 0.3098 0.0902\n",
    "Col_Fluorite_05← 0.7020 0.5529 0.7294\n",
    "Col_Fluorite_06← 0.4745 0.2627 0.4824\n",
    "Col_Fluorite_07← 0.2314 0.0784 0.2902\n",
    "Col_Fluorite_08← 0.5804 0.6235 0.6745\n",
    "Col_Fluorite_09← 0.4392 0.4745 0.5333\n",
    "\n",
    "Col_Gypsum_01← 0.9020 0.8824 0.7882\n",
    "Col_Gypsum_02← 0.8039 0.8667 0.8157\n",
    "Col_Gypsum_03← 0.7098 0.6863 0.6000\n",
    "Col_Gypsum_04← 0.8275 0.8078 0.5765\n",
    "Col_Gypsum_05← 0.8196 0.7373 0.5294\n",
    "Col_Gypsum_06← 0.5961 0.4941 0.3020\n",
    "\n",
    "Col_Ruby_01← 0.4980 0.0824 0.2275\n",
    "Col_Ruby_02← 0.6235 0.1490 0.3137\n",
    "Col_Ruby_03← 0.7412 0.3294 0.4745\n",
    "Col_Ruby_04← 0.8039 0.2039 0.5569\n",
    "Col_Ruby_05← 0.5882 0.1255 0.4784\n",
    "\n",
    "Col_Sapphire_01← 0.2118 0.3020 0.4980\n",
    "Col_Sapphire_02← 0.0588 0.2000 0.5569\n",
    "Col_Sapphire_03← 0.0392 0.2353 0.5686\n",
    "\n",
    "Col_Topaz_01← 0.7333 0.7451 0.6980\n",
    "Col_Topaz_02← 0.5922 0.6196 0.5922\n",
    "Col_Topaz_03← 0.5922 0.6157 0.6510\n",
    "\n",
    "Col_Tourmaline_01← 0.3725 0.4235 0.2941\n",
    "Col_Tourmaline_02← 0.2745 0.3490 0.2235\n",
    "Col_Tourmaline_03← 0.2627 0.2549 0.1451\n",
    "Col_Tourmaline_04← 0.1333 0.4706 0.3412\n",
    "Col_Tourmaline_05← 0.0627 0.2980 0.2118\n",
    "Col_Tourmaline_06← 0.0196 0.2706 0.1961\n",
    "\n",
    "Col_Amber_01← 0.3725 0.4235 0.2941\n",
    "Col_Amber_02← 0.8941 0.6863 0.2902\n",
    "Col_Amber_03← 0.7412 0.4235 0.2588\n",
    "Col_Amber_04← 0.7059 0.3961 0.1216\n",
    "Col_Amber_05← 0.5647 0.2392 0.0745\n",
    "Col_Amber_06← 0.8157 0.6549 0.2392\n",
    "Col_Amber_07← 0.9882 0.6941 0.0431\n",
    "Col_Amber_08← 0.8549 0.4706 0.1294\n",
    "Col_Amber_09← 0.5294 0.2431 0.1529"
   ]
  },
  {
   "cell_type": "markdown",
   "metadata": {},
   "source": [
    "Various glass materials whose POV-ray values have been mapped to Ray Tracer Challenge material attributes."
   ]
  },
  {
   "cell_type": "code",
   "execution_count": 6,
   "metadata": {},
   "outputs": [
    {
     "data": {
      "text/html": [
       "<span style=\"white-space:pre; font-family: monospace\">#.RayTracer.Attributes\n",
       "</span>"
      ]
     },
     "execution_count": 6,
     "metadata": {},
     "output_type": "execute_result"
    }
   ],
   "source": [
    ")CS #.RayTracer.Attributes\n",
    "⍝ Glass finishes\n",
    "F_Glass5← glass\n",
    "F_Glass5[##.material_specular ##.material_ambient ##.material_diffuse]← 0.7 0 0\n",
    "F_Glass5[##.material_reflective]← 1.0 ⍝ should vary between 0.2 and 1.0\n",
    "\n",
    "F_Glass6← glass\n",
    "F_Glass6[##.material_specular ##.material_ambient ##.material_diffuse]← 0.6 0 0.1\n",
    "F_Glass6[##.material_shininess]← 300  ⍝ This is brilliance 5\n",
    "F_Glass6[##.material_reflective]← 1.0 ⍝ should vary between 0.1 and 1.0\n",
    "\n",
    "F_Glass7← glass\n",
    "F_Glass7[##.material_specular ##.material_ambient ##.material_diffuse]← 0.9 0 0.15\n",
    "F_Glass7[##.material_reflective]← 1.0 ⍝ should vary between 0.2 and 1.0\n",
    "\n",
    "F_Glass8← glass\n",
    "F_Glass8[##.material_specular ##.material_ambient ##.material_diffuse]← 0.6 0 0.15\n",
    "F_Glass8[##.material_shininess]← 250  ⍝ This is brilliance 4\n",
    "F_Glass8[##.material_reflective]← 1.0 ⍝ should vary between 0.2 and 1.0\n",
    "\n",
    "F_Glass9← glass\n",
    "F_Glass9[##.material_specular ##.material_ambient ##.material_diffuse]← 0.8 0 0\n",
    "F_Glass9[##.material_reflective]← 1.0 ⍝ should vary between 0.05 and 1.0\n",
    "\n",
    "F_Glass10← glass\n",
    "F_Glass10[##.material_specular ##.material_ambient ##.material_diffuse]← 0.6 0 0.1\n",
    "F_Glass10[##.material_reflective]← 1.0 ⍝ should vary between 0.05 and 1.0\n"
   ]
  },
  {
   "cell_type": "markdown",
   "metadata": {},
   "source": [
    "# Save Workspace\n",
    "Once all color and material variables are defined it is time to save the workspace for later use."
   ]
  },
  {
   "cell_type": "code",
   "execution_count": 7,
   "metadata": {},
   "outputs": [
    {
     "data": {
      "text/html": [
       "<span style=\"white-space:pre; font-family: monospace\">C:/Users/Mark/Jupyter/\n",
       "</span>"
      ]
     },
     "execution_count": 7,
     "metadata": {},
     "output_type": "execute_result"
    },
    {
     "data": {
      "text/html": [
       "<span style=\"white-space:pre; font-family: monospace\">was .\\rtcode_ws.dws\n",
       "</span>"
      ]
     },
     "execution_count": 7,
     "metadata": {},
     "output_type": "execute_result"
    },
    {
     "data": {
      "text/html": [
       "<span style=\"white-space:pre; font-family: monospace\">rtattrib_ws.dws saved Sat Jun  1 18:17:30 2019\n",
       "</span>"
      ]
     },
     "execution_count": 7,
     "metadata": {},
     "output_type": "execute_result"
    },
    {
     "data": {
      "text/html": [
       "<span style=\"white-space:pre; font-family: monospace\">Aquamarine      BakersChoc      BlueViolet      Brass   BrightGold      Bronze  Bronze2 Brown   CadetBlue       \n",
       "Col_Amber_01    Col_Amber_02    Col_Amber_03    Col_Amber_04    Col_Amber_05    Col_Amber_06    Col_Amber_07    \n",
       "Col_Amber_08    Col_Amber_09    Col_Amethyst_01 Col_Amethyst_02 Col_Amethyst_03 Col_Amethyst_04 Col_Amethyst_05 \n",
       "Col_Amethyst_06 Col_Apatite_01  Col_Apatite_02  Col_Apatite_03  Col_Apatite_04  Col_Apatite_05  Col_Aquamarine_01       \n",
       "Col_Aquamarine_02       Col_Aquamarine_03       Col_Aquamarine_04       Col_Aquamarine_05       Col_Aquamarine_06       \n",
       "Col_Azurite_01  Col_Azurite_02  Col_Azurite_03  Col_Azurite_04  Col_Beerbottle  Col_Blue_01     Col_Blue_02     \n",
       "Col_Blue_03     Col_Blue_04     Col_Citrine_01  Col_Citrine_02  Col_Citrine_03  Col_Dark_Green  Col_Emerald_01  \n",
       "Col_Emerald_02  Col_Emerald_03  Col_Emerald_04  Col_Emerald_05  Col_Emerald_06  Col_Emerald_07  Col_Fluorite_01 \n",
       "Col_Fluorite_02 Col_Fluorite_03 Col_Fluorite_04 Col_Fluorite_05 Col_Fluorite_06 Col_Fluorite_07 Col_Fluorite_08 \n",
       "Col_Fluorite_09 Col_Green       Col_Green_01    Col_Green_02    Col_Green_03    Col_Green_04    Col_Gypsum_01   \n",
       "Col_Gypsum_02   Col_Gypsum_03   Col_Gypsum_04   Col_Gypsum_05   Col_Gypsum_06   Col_Orange      Col_Red_01      Col_Red_02\n",
       "Col_Red_03      Col_Red_04      Col_Ruby        Col_Ruby_01     Col_Ruby_02     Col_Ruby_03     Col_Ruby_04     \n",
       "Col_Ruby_05     Col_Sapphire_01 Col_Sapphire_02 Col_Sapphire_03 Col_Topaz_01    Col_Topaz_02    Col_Topaz_03    \n",
       "Col_Tourmaline_01       Col_Tourmaline_02       Col_Tourmaline_03       Col_Tourmaline_04       Col_Tourmaline_05       \n",
       "Col_Tourmaline_06       Col_Vicksbottle Col_Winebottle  Col_Yellow      Col_Yellow_01   Col_Yellow_02   Col_Yellow_03   \n",
       "Col_Yellow_04   CoolCopper      Copper  Coral   CornflowerBlue  DarkBrown       DarkGreen       DarkOliveGreen  DarkOrchid\n",
       "DarkPurple      DarkSlateBlue   DarkSlateGray   DarkSlateGrey   DarkTan DarkTurquoise   DarkWood        DimGray DimGrey \n",
       "DkGreenCopper   DustyRose       F_Glass10       F_Glass5        F_Glass6        F_Glass7        F_Glass8        F_Glass9\n",
       "Feldspar        Firebrick       Flesh   ForestGreen     Gold    Goldenrod       Gray    Gray05  Gray10  Gray15  Gray20  \n",
       "Gray25  Gray30  Gray35  Gray40  Gray45  Gray50  Gray55  Gray60  Gray65  Gray70  Gray75  Gray80  Gray85  Gray90  Gray95  \n",
       "GreenCopper     GreenYellow     Grey    HuntersGreen    IndianRed       Khaki   LightBlue       LightGray       LightGrey\n",
       "LightSteelBlue  LightWood       Light_Purple    LimeGreen       MandarinOrange  Maroon  Med_Purple      MediumAquamarine\n",
       "MediumBlue      MediumForestGreen       MediumGoldenrod MediumOrchid    MediumSeaGreen  MediumSlateBlue MediumSpringGreen\n",
       "MediumTurquoise MediumVioletRed MediumWood      Mica    MidnightBlue    Navy    NavyBlue        NeonBlue        NeonPink\n",
       "NewMidnightBlue NewTan  OldGold Orange  OrangeRed       Orchid  PaleGreen       Pink    Plum    Quartz  RichBlue        \n",
       "Salmon  Scarlet SeaGreen        SemiSweetChoc   Sienna  Silver  SkyBlue SlateBlue       SpicyPink       SpringGreen     \n",
       "SteelBlue       SummerSky       Tan     Thistle Turquoise       VLightGray      VLightGrey      VeryDarkBrown   \n",
       "Very_Light_Purple       Violet  VioletRed       Wheat   YellowGreen     black   white   \n",
       "</span>"
      ]
     },
     "execution_count": 7,
     "metadata": {},
     "output_type": "execute_result"
    }
   ],
   "source": [
    "⊃1 ⎕NPARTS ''\n",
    "⍝ )cs #\n",
    ")wsid rtattrib_ws\n",
    ")save\n",
    ")objects\n",
    ")fns\n",
    ")vars\n"
   ]
  },
  {
   "cell_type": "markdown",
   "metadata": {},
   "source": [
    "## Quick Test Demos\n",
    "Here's a quick way to test the above definitions."
   ]
  },
  {
   "cell_type": "code",
   "execution_count": 8,
   "metadata": {},
   "outputs": [
    {
     "data": {
      "text/html": [
       "<span style=\"white-space:pre; font-family: monospace\">#\n",
       "</span>"
      ]
     },
     "execution_count": 8,
     "metadata": {},
     "output_type": "execute_result"
    }
   ],
   "source": [
    "⎕PATH←'#.RayTracer'\n",
    ")CS #\n",
    "\n",
    "floor← plane\n",
    "⍝ floor[obj_transform]← ⊂ scaling 10 0.01 10\n",
    "m← material\n",
    "p← #.RayTracer.Attributes.Col_Ruby_03 checker_pattern #.RayTracer.Attributes.Col_Tourmaline_04\n",
    "p← p add_pattern_transform scaling .25 0.25 .25\n",
    "m[#.RayTracer.material_color]← ⊂p\n",
    "m[#.RayTracer.material_specular]← 0\n",
    "floor[#.RayTracer.obj_material]← ⊂m\n",
    "\n",
    "left_wall← sphere\n",
    "⍝ left_wall[obj_transform]← ⊂(translation 0 0 5) +.× (rotation_y ○ ¯0.25) +.× (rotation_x ○ 0.5) +.× scaling 10 0.01 10\n",
    "t← (translation 0 0 5) +.× (rotation_y ○ ¯0.25) +.× (rotation_x ○ 0.5) +.× scaling 10 0.01 10\n",
    "left_wall← left_wall add_shape_transform t\n",
    "m← material\n",
    "m[#.RayTracer.material_color]← ⊂1 0.9 0.9\n",
    "m[#.RayTracer.material_specular]← 0\n",
    "left_wall[#.RayTracer.obj_material]← ⊂m\n",
    "\n",
    "right_wall← sphere\n",
    "⍝ right_wall[obj_transform]← ⊂(translation 0 0 5) +.× (rotation_y ○ 0.25) +.× (rotation_x ○ 0.5) +.× scaling 10 0.01 10\n",
    "t← (translation 0 0 5) +.× (rotation_y ○ 0.25) +.× (rotation_x ○ 0.5) +.× scaling 10 0.01 10\n",
    "right_wall← right_wall add_shape_transform t\n",
    "right_wall[#.RayTracer.obj_material]← left_wall[#.RayTracer.obj_material]\n",
    "\n",
    "middle← sphere\n",
    "m← #.RayTracer.Attributes.F_Glass5\n",
    "⍝ m[#.RayTracer.material_reflective]← 0.1\n",
    "middle[#.RayTracer.obj_material]← ⊂m\n",
    "⍝ middle[obj_transform]← ⊂translation ¯0.5 1 0.5\n",
    "middle← middle add_shape_transform translation ¯0.5 1 0.5\n",
    "\n",
    "right← sphere\n",
    "right[#.RayTracer.obj_material]← ⊂#.RayTracer.Attributes.F_Glass6\n",
    "⍝ right[obj_transform]← ⊂ (translation 1.5 0.5 ¯0.5) +.× scaling 0.5 0.5 0.5\n",
    "right← right add_shape_transform (translation 1.5 0.5 ¯0.5) +.× scaling 0.5 0.5 0.5\n",
    "\n",
    "left← sphere\n",
    "left[#.RayTracer.obj_material]← ⊂#.RayTracer.Attributes.F_Glass7 ⍝ Not enclosed\n",
    "⍝ left[obj_transform]← ⊂ (translation ¯1.5 0.33 ¯0.75) +.× scaling 0.33 0.33 0.33\n",
    "left← left add_shape_transform (translation ¯1.5 0.33 ¯0.75) +.× scaling 0.33 0.33 0.33\n",
    "\n",
    "w← world\n",
    "w[1]← ⊂⊂ (point ¯10 10 ¯10) #.RayTracer.point_light 1 1 1\n",
    "w[2]← ⊂ floor left_wall right_wall middle left right\n"
   ]
  },
  {
   "cell_type": "code",
   "execution_count": 9,
   "metadata": {},
   "outputs": [],
   "source": [
    "c← camera 800 600 (○ ÷3)\n",
    "c[#.RayTracer.camera_transform]← ⊂ view_transform (point 0 1.5 ¯5) (point 0 1 0) (vector 0 1 0)\n",
    "c[#.RayTracer.camera_inverse]← ⊂ ⌹view_transform (point 0 1.5 ¯5) (point 0 1 0) (vector 0 1 0)\n"
   ]
  },
  {
   "cell_type": "code",
   "execution_count": 10,
   "metadata": {},
   "outputs": [],
   "source": [
    "im← w render c"
   ]
  },
  {
   "cell_type": "code",
   "execution_count": 11,
   "metadata": {},
   "outputs": [
    {
     "data": {
      "text/html": [
       "<span style=\"white-space:pre; font-family: monospace\">6048189\n",
       "</span>"
      ]
     },
     "execution_count": 11,
     "metadata": {},
     "output_type": "execute_result"
    }
   ],
   "source": [
    "ppm← canvas_to_ppm im\n",
    "'POVglass.ppm' savePPM ppm"
   ]
  },
  {
   "cell_type": "code",
   "execution_count": 12,
   "metadata": {},
   "outputs": [
    {
     "data": {
      "text/html": [
       "<span style=\"white-space:pre; font-family: monospace\">#\n",
       "</span>"
      ]
     },
     "execution_count": 12,
     "metadata": {},
     "output_type": "execute_result"
    }
   ],
   "source": [
    "⎕PATH←'#.RayTracer'\n",
    ")CS #\n",
    "\n",
    "m← #.RayTracer.Attributes.F_Glass8\n",
    "⍝ m[#.RayTracer.material_reflective]← 0.1\n",
    "middle[#.RayTracer.obj_material]← ⊂m\n",
    "\n",
    "right[#.RayTracer.obj_material]← ⊂#.RayTracer.Attributes.F_Glass9\n",
    "\n",
    "left[#.RayTracer.obj_material]← ⊂#.RayTracer.Attributes.F_Glass10 ⍝ Not enclosed\n",
    "\n",
    "w← world\n",
    "w[1]← ⊂⊂ (point ¯10 10 ¯10) #.RayTracer.point_light 1 1 1\n",
    "w[2]← ⊂ floor left_wall right_wall middle left right\n"
   ]
  },
  {
   "cell_type": "code",
   "execution_count": 13,
   "metadata": {},
   "outputs": [],
   "source": [
    "im← w render c"
   ]
  },
  {
   "cell_type": "code",
   "execution_count": 14,
   "metadata": {},
   "outputs": [
    {
     "data": {
      "text/html": [
       "<span style=\"white-space:pre; font-family: monospace\">6048189\n",
       "</span>"
      ]
     },
     "execution_count": 14,
     "metadata": {},
     "output_type": "execute_result"
    }
   ],
   "source": [
    "ppm← canvas_to_ppm im\n",
    "'POVglass2.ppm' savePPM ppm"
   ]
  },
  {
   "cell_type": "markdown",
   "metadata": {},
   "source": [
    "Here's what the two images look like: POVglass has F_Glass5/6/7 and POVglass2 has F_Flass8/9/10\n",
    "\n",
    "<img src=\"POVglass.jpg\">\n",
    "\n",
    "<img src=\"POVglass2.jpg\">"
   ]
  },
  {
   "cell_type": "code",
   "execution_count": null,
   "metadata": {},
   "outputs": [],
   "source": []
  }
 ],
 "metadata": {
  "kernelspec": {
   "display_name": "Dyalog APL",
   "language": "apl",
   "name": "dyalog-kernel"
  },
  "language_info": {
   "file_extension": ".apl",
   "mimetype": "text/apl",
   "name": "APL"
  }
 },
 "nbformat": 4,
 "nbformat_minor": 2
}
