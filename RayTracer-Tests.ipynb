{
 "cells": [
  {
   "attachments": {
    "image.png": {
     "image/png": "[encoded data removed]"
    }
   },
   "cell_type": "markdown",
   "metadata": {},
   "source": [
    "# The Ray Tracer Challenge\n",
    "## A Test-Driven Guide to Your First 3D Renderer\n",
    "### by James Buck\n",
    "\n",
    ">Brace yourself for a fun challenge: build a photorealistic 3D renderer from scratch! It’s easier than you think. In just a couple of weeks, build a ray tracer that renders beautiful scenes with shadows, reflections, brilliant refraction effects, and subjects composed of various graphics primitives: spheres, cubes, cylinders, triangles, and more. With each chapter, implement another piece of the puzzle and move the renderer that much further forward. Do all of this in whichever language and environment you prefer, and do it entirely test-first, so you know it’s correct. Recharge yourself with this project’s immense potential for personal exploration, experimentation, and discovery.\n",
    "\n",
    "Opening quote from the beta ebook copy, September 2018. Publication due November 2018 (now February 2019). For details, see\n",
    "\n",
    "https://pragprog.com/book/jbtracer/the-ray-tracer-challenge\n",
    "\n",
    "This Jupyter notebook will contain the tests defined in the book and serve as a validation test suite for code developed and maintained in a different notebook. Code to be tested is saved as a workspace from a code notebook and then the workspace is loaded here prior to testing. If anything goes wrong that needs debugging, then the test workspace can be saved and loaded into the regular Dyalog IDE.\n",
    "\n",
    "![image.png](attachment:image.png)\n"
   ]
  },
  {
   "cell_type": "markdown",
   "metadata": {},
   "source": [
    "# Test Failures and Implementation Notes\n",
    "\n",
    "The following test cases are failing at the moment\n",
    "\n",
    "- Chapter 6, Scenario: Computing the normal on a transformed sphere\n",
    "- Chapter 9, Scenario: Computing the normal on a transformed shape\n",
    "- Chapter 15, Preparing the normal on a smooth triangle\n",
    "\n",
    "The failure in the test from Chapter 9 was repaired. It only affected processing of test shapes anyway. The failure in Chapter 15 is because the code itself remains incomplete and has not yet been incorporated into the main code notebook.\n",
    "\n",
    "\n",
    "The following changes were made in the course of development or at the end of development.\n",
    "\n",
    "- Canvas dimensioning changed from ```width height ⍴``` to ```height width ⍴```\n",
    "- The lighting function was checking for the number of arguments given to avoid test rewrite, but now expects all required arguments\n",
    "\n",
    "# Bugs and Problems\n",
    "Currentlt the demo scene for Chapter 11 doesn't produce a correct result when refraction is included in color computation. Specifically, the four background balls appear white instead of their assigned colors. They appear correctly when EVAL_REFRACTION is set to FALSE. I thought it might be due to returning two identical hits for Plane (and other) shapes, but removing the walls didn't help."
   ]
  },
  {
   "cell_type": "markdown",
   "metadata": {},
   "source": [
    "# Workspace Management\n",
    "I can load and save a workspace, which may be the means by which I can separate notebooks containing test cases from a code development notebook. One thing seems notable; reducing the number of cells in a notebook reduces the time it takes to load the notebook. I've been combining multiple related test cases into a single markdown cell and their implementation in another code cell. Well worth continuing to do so."
   ]
  },
  {
   "cell_type": "markdown",
   "metadata": {},
   "source": [
    "After executing the previous cell with test related functions I would load my workspace containing the ray tracer code to test.."
   ]
  },
  {
   "cell_type": "code",
   "execution_count": 1,
   "metadata": {},
   "outputs": [
    {
     "data": {
      "text/html": [
       "<span style=\"white-space:pre; font-family: monospace\">C:/Users/Mark/Jupyter/\n",
       "</span>"
      ]
     },
     "execution_count": 1,
     "metadata": {},
     "output_type": "execute_result"
    },
    {
     "data": {
      "text/html": [
       "<span style=\"white-space:pre; font-family: monospace\">was \n",
       "</span>"
      ]
     },
     "execution_count": 1,
     "metadata": {},
     "output_type": "execute_result"
    },
    {
     "name": "stderr",
     "output_type": "stream",
     "text": [
      ".\\rtcode_ws.dws saved Wed Mar  6 16:58:35 2019\n",
      "FILE NAME ERROR: Unable to open file (\"The system cannot find the file specified.\")\n",
      "      hereDir←⊃⎕NPARTS ⎕WSID ⋄ (⍎{1=≡⍵:⍵ ⋄ ⊃⍵}2 ⎕FIX'file://',hereDir,'init.dyalog')hereDir ⋄ ⎕WSID←''\n",
      "                                                ∧\n"
     ]
    },
    {
     "data": {
      "text/html": [
       "<span style=\"white-space:pre; font-family: monospace\">PutText camera  canvas  canvas_to_ppm   check_axis      check_cap       check_cap2      checker_pattern color_at        \n",
       "compute_n1n2    cone_intersect  cone_normal_at  cross   cube_intersect  cube_normal_at  cylinder_intersect      \n",
       "cylinder_normal_at      default_world   dot     flatten_group   gradient_pattern        group_intersect hit     identity\n",
       "intersect       intersect_world intersection    intersections   is_shadowed     lighting        magnitude       normal_at\n",
       "normalize       pattern_at      pattern_at_shape        plane_intersect plane_normal_at point   point_light     position\n",
       "prepare_computations    ray     ray_for_pixel   reflect reflected_color refracted_color render  ring_pattern    rotation_x\n",
       "rotation_y      rotation_z      savePPM scaling schlick shade_hit       shearing        sphere_intersect        \n",
       "sphere_normal_at        stripe_pattern  transform       translation     triangle        vector  view_transform  \n",
       "</span>"
      ]
     },
     "execution_count": 1,
     "metadata": {},
     "output_type": "execute_result"
    },
    {
     "data": {
      "text/html": [
       "<span style=\"white-space:pre; font-family: monospace\">EPSILON EVAL_REFLECTION EVAL_REFRACTION FALSE   INFINITY        MAX_RECURSION   RECURSE TRUE    black   camera_fview    \n",
       "camera_halfh    camera_halfw    camera_hsize    camera_psize    camera_transform        camera_vsize    cone    \n",
       "cone_closed     cone_maximum    cone_minimum    cube    cylinder        cylinder_closed cylinder_maximum        \n",
       "cylinder_minimum        glass   glass_sphere    group   group_members   hereDir hit_distance    hit_eyev        hit_inside\n",
       "hit_n1  hit_n2  hit_normalv     hit_object      hit_overpt      hit_point       hit_reflectv    hit_underpt     identity4\n",
       "light_color     light_point     material        material_ambient        material_color  material_diffuse        \n",
       "material_pattern        material_reflective     material_refractive     material_shininess      material_specular       \n",
       "material_transparency   obj_material    obj_tag obj_transform   pat_checker     pat_gradient    pat_ring        pat_stripe\n",
       "pat_test        pattern_color1  pattern_color2  pattern_transform       pattern_type    plane   ray_direction   ray_origin\n",
       "shape_cone      shape_cube      shape_cylinder  shape_group     shape_plane     shape_smtriangle        shape_sphere    \n",
       "shape_test      shape_triangle  sphere  test_pattern    test_shape      triangle_edges  triangle_normal triangle_points \n",
       "white   world   \n",
       "</span>"
      ]
     },
     "execution_count": 1,
     "metadata": {},
     "output_type": "execute_result"
    }
   ],
   "source": [
    "⊃1 ⎕NPARTS ''\n",
    ")WSID rtcode_ws\n",
    ")load rtcode_ws\n",
    ")fns\n",
    ")vars"
   ]
  },
  {
   "cell_type": "markdown",
   "metadata": {},
   "source": [
    "It's also worthwhile loading some Dyalog utilities."
   ]
  },
  {
   "cell_type": "code",
   "execution_count": 2,
   "metadata": {},
   "outputs": [],
   "source": [
    "⍝)copy display"
   ]
  },
  {
   "cell_type": "markdown",
   "metadata": {},
   "source": [
    "Should I need to debug code within the regular Dyalog GUI, I can save my test workspace from here."
   ]
  },
  {
   "cell_type": "code",
   "execution_count": 3,
   "metadata": {},
   "outputs": [],
   "source": [
    "⍝)wsid debug\n",
    "⍝)save "
   ]
  },
  {
   "cell_type": "markdown",
   "metadata": {},
   "source": [
    "# Preliminaries\n",
    "Let's create a few functions that can be used to simplify testing. The *yesno* function will compare its left and right arguments for equality and output a yes or no string. The function could just as easily return 'Pass' or 'Fail' instead. The *round0* function is something recommended by the book because floating point arithmetic does not always result in exact answers. The book suggests rounding values to within plus or minus 1e-5. Alternatively, if the absolute difference between two values is less than 1e-5 then the values can be considered equal.\n",
    "\n",
    "Pseudocode for a comparison function would be\n",
    "```\n",
    "constant EPSILON ← 0.00001\n",
    "\n",
    "function equal(a, b)\n",
    "  if abs(a - b) < EPSILON\n",
    "    return true\n",
    "  else\n",
    "    return false\n",
    "  end if\n",
    "end function\n",
    "```"
   ]
  },
  {
   "cell_type": "code",
   "execution_count": 4,
   "metadata": {},
   "outputs": [
    {
     "data": {
      "text/html": [
       "<span style=\"white-space:pre; font-family: monospace\">1.2346 12.34\n",
       "</span>"
      ]
     },
     "execution_count": 4,
     "metadata": {},
     "output_type": "execute_result"
    }
   ],
   "source": [
    "yesno←{('No' 'Yes')[1+⍺≡⍵]}\n",
    "truefalse←{('False' 'True')[1+⍵]}\n",
    "passfail←{('Fail' 'Pass')[1+⍵]}\n",
    "round0←{1e¯5×⌊1e5×⍵}\n",
    "equal←{('false' 'true')[1+EPSILON>|⍺-⍵]}\n",
    "roundMN←{⍎ ⍺ ⍕ ⍵}\n",
    "\n",
    "8 4 roundMN 1.23456 12.34"
   ]
  },
  {
   "cell_type": "markdown",
   "metadata": {},
   "source": [
    "# Chapter 1. Tuples, Points, and Vectors\n",
    "APL makes it easy to deal with tuples; they are just vectors! No fancy constructor needed. Below are functions that create and manipulate tuples, and some test scenarios for them."
   ]
  },
  {
   "cell_type": "markdown",
   "metadata": {},
   "source": [
    "## APL Code Chapter 1\n",
    "Introducing the code at the beginning of a series of tests seems to be backwards for Test Driven Development. In actuality though, the tests are written first, then the code is added to the cells below. Two functions mentioned in the book, *tuple* and *color*, are not needed since each are just APL vectors. The functions defined in Chapter 1 for manipulating the vector representation of points and vectors are described here.\n",
    "\n",
    "Note that here and throughout the remaining chapters I will refer to something as a *Macro* if it is a constant or a very simple function that can be directly substituted with its code where ever it is used. The **point** and **vector** functions are a perfect example since they just append a 0 or 1 to the end of a three element vector.\n",
    "\n",
    "* Macro **point(x,y,z)** accepts a three element tuple and appends a one to form a four element tuple representing a point\n",
    "* Macro **vector(x,y,z)** accepts a three element tuple and appends a zero to form a four element tuple representing a vector\n",
    "* Macro **magnitude(v)** returns the magnitude of a vector as a numeric value\n",
    "* Macro **normalize(v)** returns a scaled vector of the input vector such that the return vector has a magnitude of 1\n",
    "* Macro **dot(v,v)** computes the dot product of two vector inputs giving a scalar result\n",
    "* Function **cross(v,v)** computes the cross product of two vectors giving a vector result\n",
    "\n",
    "When implementing a function I will favor doing so as a D'fn rather than a traditional APL function."
   ]
  },
  {
   "cell_type": "markdown",
   "metadata": {},
   "source": [
    "## Chapter 1 Implementation\n",
    "The above APL function definition names are in **bold** while their arguments are in *italic*. Function results are given following the rightward arrow.\n",
    "\n",
    "- **point** *x y z*  → x y z 1\n",
    "- **vector** *x y z* → x y z 0\n",
    "- **magnitude** *vector* → numeric scalar\n",
    "- **normalize** *vector* → vector\n",
    "- *vector* **dot** *vector* → numeric scalar\n",
    "- *vector* **cross** *vector* → vector\n",
    "\n",
    "Although they are APL functions, *point* and *vector* can be thought of as data structures parameterized by initialization values when instantiated."
   ]
  },
  {
   "cell_type": "markdown",
   "metadata": {},
   "source": [
    "The pseudocode implementation of normalize is\n",
    "```\n",
    "function normalize(v)\n",
    "  return tuple(v.x / magnitude(v),\n",
    "               v.y / magnitude(v),\n",
    "               v.z / magnitude(v),\n",
    "               v.w / magnitude(v))\n",
    "end function\n",
    "```\n",
    "The pseudocode implementation of the dot product is\n",
    "```\n",
    "function dot(a, b)\n",
    "  return a.x * b.x +\n",
    "         a.y * b.y +\n",
    "         a.z * b.z +\n",
    "         a.w * b.w\n",
    "end function\n",
    "```"
   ]
  },
  {
   "cell_type": "markdown",
   "metadata": {},
   "source": [
    "The pseudocode specification for cross product is\n",
    "```\n",
    "function cross(a, b)\n",
    "  return vector(a.y * b.z - a.z * b.y,\n",
    "                a.z * b.x - a.x * b.z,\n",
    "                a.x * b.y - a.y * b.x)\n",
    "end function\n",
    "```"
   ]
  },
  {
   "cell_type": "markdown",
   "metadata": {},
   "source": [
    "## Chapter 1 Test Cases"
   ]
  },
  {
   "cell_type": "markdown",
   "metadata": {},
   "source": [
    "```\n",
    "Scenario: A tuple with w=1.0 is a point\n",
    "  Given a ← tuple(4.3, -4.2, 3.1, 1.0)\n",
    "  Then a.x = 4.3\n",
    "    And a.y = -4.2\n",
    "    And a.z = 3.1\n",
    "    And a.w = 1.0\n",
    "    And a is a point\n",
    "    And a is not a vector\n",
    "```"
   ]
  },
  {
   "cell_type": "code",
   "execution_count": 5,
   "metadata": {},
   "outputs": [
    {
     "data": {
      "text/html": [
       "<span style=\"white-space:pre; font-family: monospace\">4.3 ¯4.2 3.1 1\n",
       "</span>"
      ]
     },
     "execution_count": 5,
     "metadata": {},
     "output_type": "execute_result"
    },
    {
     "data": {
      "text/html": [
       "<span style=\"white-space:pre; font-family: monospace\">┌───┐\n",
       "│Yes│\n",
       "└───┘\n",
       "</span>"
      ]
     },
     "execution_count": 5,
     "metadata": {},
     "output_type": "execute_result"
    }
   ],
   "source": [
    "+a← point 4.3 ¯4.2 3.1\n",
    "1 yesno a[4]"
   ]
  },
  {
   "cell_type": "markdown",
   "metadata": {},
   "source": [
    "```\n",
    "Scenario: A tuple with w=0 is a vector\n",
    "  Given a ← tuple(4.3, -4.2, 3.1, 0.0)\n",
    "  Then a.x = 4.3\n",
    "    And a.y = -4.2\n",
    "    And a.z = 3.1\n",
    "    And a.w = 0.0\n",
    "    And a is not a point\n",
    "    And a is a vector\n",
    "```"
   ]
  },
  {
   "cell_type": "code",
   "execution_count": 6,
   "metadata": {},
   "outputs": [
    {
     "data": {
      "text/html": [
       "<span style=\"white-space:pre; font-family: monospace\">4.3 ¯4.2 3.1 0\n",
       "</span>"
      ]
     },
     "execution_count": 6,
     "metadata": {},
     "output_type": "execute_result"
    },
    {
     "data": {
      "text/html": [
       "<span style=\"white-space:pre; font-family: monospace\">┌───┐\n",
       "│Yes│\n",
       "└───┘\n",
       "</span>"
      ]
     },
     "execution_count": 6,
     "metadata": {},
     "output_type": "execute_result"
    }
   ],
   "source": [
    "+a← vector 4.3 ¯4.2 3.1\n",
    "0 yesno a[4]"
   ]
  },
  {
   "cell_type": "markdown",
   "metadata": {},
   "source": [
    "```\n",
    "Scenario: point() creates tuples with w=1\n",
    "  Given p ← point(4, -4, 3)\n",
    "  Then p = tuple(4, -4, 3, 1)\n",
    "```"
   ]
  },
  {
   "cell_type": "code",
   "execution_count": 7,
   "metadata": {},
   "outputs": [
    {
     "data": {
      "text/html": [
       "<span style=\"white-space:pre; font-family: monospace\">4 ¯4 3 1\n",
       "</span>"
      ]
     },
     "execution_count": 7,
     "metadata": {},
     "output_type": "execute_result"
    },
    {
     "data": {
      "text/html": [
       "<span style=\"white-space:pre; font-family: monospace\">┌───┐\n",
       "│Yes│\n",
       "└───┘\n",
       "</span>"
      ]
     },
     "execution_count": 7,
     "metadata": {},
     "output_type": "execute_result"
    }
   ],
   "source": [
    "+p← point 4 ¯4 3\n",
    "p yesno 4 ¯4 3 1"
   ]
  },
  {
   "cell_type": "markdown",
   "metadata": {},
   "source": [
    "```\n",
    "Scenario: vector() creates tuples with w=0\n",
    "  Given v ← vector(4, -4, 3)\n",
    "  Then v = tuple(4, -4, 3, 0)\n",
    "```"
   ]
  },
  {
   "cell_type": "code",
   "execution_count": 8,
   "metadata": {},
   "outputs": [
    {
     "data": {
      "text/html": [
       "<span style=\"white-space:pre; font-family: monospace\">4 ¯4 3 0\n",
       "</span>"
      ]
     },
     "execution_count": 8,
     "metadata": {},
     "output_type": "execute_result"
    },
    {
     "data": {
      "text/html": [
       "<span style=\"white-space:pre; font-family: monospace\">┌───┐\n",
       "│Yes│\n",
       "└───┘\n",
       "</span>"
      ]
     },
     "execution_count": 8,
     "metadata": {},
     "output_type": "execute_result"
    }
   ],
   "source": [
    "+v← vector 4 ¯4 3\n",
    "v yesno 4 ¯4 3 0"
   ]
  },
  {
   "cell_type": "markdown",
   "metadata": {},
   "source": [
    "```\n",
    "Scenario: Adding two tuples\n",
    "  Given a1 ← tuple(3, -2, 5, 1)\n",
    "    And a2 ← tuple(-2, 3, 1, 0)\n",
    "   Then a1 + a2 = tuple(1, 1, 6, 1)\n",
    "```"
   ]
  },
  {
   "cell_type": "code",
   "execution_count": 9,
   "metadata": {},
   "outputs": [
    {
     "data": {
      "text/html": [
       "<span style=\"white-space:pre; font-family: monospace\">3 ¯2 5 1\n",
       "</span>"
      ]
     },
     "execution_count": 9,
     "metadata": {},
     "output_type": "execute_result"
    },
    {
     "data": {
      "text/html": [
       "<span style=\"white-space:pre; font-family: monospace\">¯2 3 1 0\n",
       "</span>"
      ]
     },
     "execution_count": 9,
     "metadata": {},
     "output_type": "execute_result"
    },
    {
     "data": {
      "text/html": [
       "<span style=\"white-space:pre; font-family: monospace\">1 1 6 1\n",
       "</span>"
      ]
     },
     "execution_count": 9,
     "metadata": {},
     "output_type": "execute_result"
    },
    {
     "data": {
      "text/html": [
       "<span style=\"white-space:pre; font-family: monospace\">┌───┐\n",
       "│Yes│\n",
       "└───┘\n",
       "</span>"
      ]
     },
     "execution_count": 9,
     "metadata": {},
     "output_type": "execute_result"
    }
   ],
   "source": [
    "+a1← 3 ¯2 5 1\n",
    "+a2← ¯2 3 1 0\n",
    "a1+a2\n",
    "1 1 6 1 yesno a1+a2"
   ]
  },
  {
   "cell_type": "markdown",
   "metadata": {},
   "source": [
    "```\n",
    "Scenario: Subtracting two points\n",
    "  Given p1 ← point(3, 2, 1)\n",
    "    And p2 ← point(5, 6, 7)\n",
    "  Then p1 - p2 = vector(-2, -4, -6)\n",
    "\n",
    "Scenario: Subtracting a vector from a point\n",
    "  Given p ← point(3, 2, 1)\n",
    "    And v ← vector(5, 6, 7)\n",
    "  Then p - v = point(-2, -4, -6)\n",
    "\n",
    "Scenario: Subtracting two vectors\n",
    "  Given v1 ← vector(3, 2, 1)\n",
    "    And v2 ← vector(5, 6, 7)\n",
    "  Then v1 - v2 = vector(-2, -4, -6)\n",
    "\n",
    "Scenario: Subtracting a vector from the zero vector\n",
    "  Given zero ← vector(0, 0, 0)\n",
    "    And v ← vector(1, -2, 3)\n",
    "  Then zero - v = vector(-1, 2, -3)\n",
    "\n",
    "Scenario: Negating a tuple\n",
    "  Given a ← tuple(1, -2, 3, -4)\n",
    "  Then -a = tuple(-1, 2, -3, 4)\n",
    "```"
   ]
  },
  {
   "cell_type": "code",
   "execution_count": 10,
   "metadata": {},
   "outputs": [
    {
     "data": {
      "text/html": [
       "<span style=\"white-space:pre; font-family: monospace\">¯2 ¯4 ¯6 0\n",
       "</span>"
      ]
     },
     "execution_count": 10,
     "metadata": {},
     "output_type": "execute_result"
    },
    {
     "data": {
      "text/html": [
       "<span style=\"white-space:pre; font-family: monospace\">┌───┐\n",
       "│Yes│\n",
       "└───┘\n",
       "</span>"
      ]
     },
     "execution_count": 10,
     "metadata": {},
     "output_type": "execute_result"
    },
    {
     "data": {
      "text/html": [
       "<span style=\"white-space:pre; font-family: monospace\">¯2 ¯4 ¯6 1\n",
       "</span>"
      ]
     },
     "execution_count": 10,
     "metadata": {},
     "output_type": "execute_result"
    },
    {
     "data": {
      "text/html": [
       "<span style=\"white-space:pre; font-family: monospace\">┌───┐\n",
       "│Yes│\n",
       "└───┘\n",
       "</span>"
      ]
     },
     "execution_count": 10,
     "metadata": {},
     "output_type": "execute_result"
    },
    {
     "data": {
      "text/html": [
       "<span style=\"white-space:pre; font-family: monospace\">¯2 ¯4 ¯6 0\n",
       "</span>"
      ]
     },
     "execution_count": 10,
     "metadata": {},
     "output_type": "execute_result"
    },
    {
     "data": {
      "text/html": [
       "<span style=\"white-space:pre; font-family: monospace\">┌───┐\n",
       "│Yes│\n",
       "└───┘\n",
       "</span>"
      ]
     },
     "execution_count": 10,
     "metadata": {},
     "output_type": "execute_result"
    },
    {
     "data": {
      "text/html": [
       "<span style=\"white-space:pre; font-family: monospace\">¯1 2 ¯3 0\n",
       "</span>"
      ]
     },
     "execution_count": 10,
     "metadata": {},
     "output_type": "execute_result"
    },
    {
     "data": {
      "text/html": [
       "<span style=\"white-space:pre; font-family: monospace\">┌───┐\n",
       "│Yes│\n",
       "└───┘\n",
       "</span>"
      ]
     },
     "execution_count": 10,
     "metadata": {},
     "output_type": "execute_result"
    },
    {
     "data": {
      "text/html": [
       "<span style=\"white-space:pre; font-family: monospace\">¯1 2 ¯3 4\n",
       "</span>"
      ]
     },
     "execution_count": 10,
     "metadata": {},
     "output_type": "execute_result"
    },
    {
     "data": {
      "text/html": [
       "<span style=\"white-space:pre; font-family: monospace\">┌───┐\n",
       "│Yes│\n",
       "└───┘\n",
       "</span>"
      ]
     },
     "execution_count": 10,
     "metadata": {},
     "output_type": "execute_result"
    }
   ],
   "source": [
    "p1← point 3 2 1\n",
    "p2← point 5 6 7\n",
    "p1-p2\n",
    "(vector ¯2 ¯4 ¯6) yesno p1-p2\n",
    "⍝\n",
    "p← point 3 2 1\n",
    "v← vector 5 6 7\n",
    "p - v\n",
    "(point ¯2 ¯4 ¯6) yesno p - v\n",
    "⍝\n",
    "v1← vector 3 2 1\n",
    "v2← vector 5 6 7\n",
    "v1 - v2\n",
    "(vector ¯2 ¯4 ¯6) yesno v1-v2\n",
    "⍝\n",
    "zero← vector 0 0 0\n",
    "v← vector 1 ¯2 3\n",
    "zero - v\n",
    "(vector ¯1 2 ¯3) yesno zero-v\n",
    "⍝\n",
    "a← 1 ¯2 3 ¯4\n",
    "-a\n",
    "¯1 2 ¯3 4 yesno -a"
   ]
  },
  {
   "cell_type": "markdown",
   "metadata": {},
   "source": [
    "```\n",
    "Scenario: Multiplying a tuple by a scalar\n",
    "  Given a ← tuple(1, -2, 3, -4)\n",
    "  Then a * 3.5 = tuple(3.5, -7, 10.5, -14)\n",
    "\n",
    "Scenario: Multiplying a tuple by a fraction\n",
    "  Given a ← tuple(1, -2, 3, -4)\n",
    "  Then a * 0.5 = tuple(0.5, -1, 1.5, -2)\n",
    "\n",
    "Scenario: Dividing a tuple by a scalar\n",
    "  Given a ← tuple(1, -2, 3, -4)\n",
    "  Then a / 2 = tuple(0.5, -1, 1.5, -2)\n",
    "```"
   ]
  },
  {
   "cell_type": "code",
   "execution_count": 11,
   "metadata": {},
   "outputs": [
    {
     "data": {
      "text/html": [
       "<span style=\"white-space:pre; font-family: monospace\">3.5 ¯7 10.5 ¯14\n",
       "</span>"
      ]
     },
     "execution_count": 11,
     "metadata": {},
     "output_type": "execute_result"
    },
    {
     "data": {
      "text/html": [
       "<span style=\"white-space:pre; font-family: monospace\">┌───┐\n",
       "│Yes│\n",
       "└───┘\n",
       "</span>"
      ]
     },
     "execution_count": 11,
     "metadata": {},
     "output_type": "execute_result"
    },
    {
     "data": {
      "text/html": [
       "<span style=\"white-space:pre; font-family: monospace\">0.5 ¯1 1.5 ¯2\n",
       "</span>"
      ]
     },
     "execution_count": 11,
     "metadata": {},
     "output_type": "execute_result"
    },
    {
     "data": {
      "text/html": [
       "<span style=\"white-space:pre; font-family: monospace\">┌───┐\n",
       "│Yes│\n",
       "└───┘\n",
       "</span>"
      ]
     },
     "execution_count": 11,
     "metadata": {},
     "output_type": "execute_result"
    },
    {
     "data": {
      "text/html": [
       "<span style=\"white-space:pre; font-family: monospace\">0.5 ¯1 1.5 ¯2\n",
       "</span>"
      ]
     },
     "execution_count": 11,
     "metadata": {},
     "output_type": "execute_result"
    },
    {
     "data": {
      "text/html": [
       "<span style=\"white-space:pre; font-family: monospace\">┌───┐\n",
       "│Yes│\n",
       "└───┘\n",
       "</span>"
      ]
     },
     "execution_count": 11,
     "metadata": {},
     "output_type": "execute_result"
    }
   ],
   "source": [
    "a← 1 ¯2 3 ¯4\n",
    "a×3.5\n",
    "3.5 ¯7 10.5 ¯14 yesno a×3.5\n",
    "⍝\n",
    "a← 1 ¯2 3 ¯4\n",
    "a×0.5\n",
    "0.5 ¯1 1.5 ¯2 yesno a×0.5\n",
    "⍝\n",
    "a← 1 ¯2 3 ¯4\n",
    "a÷2\n",
    "0.5 ¯1 1.5 ¯2 yesno a÷2"
   ]
  },
  {
   "cell_type": "markdown",
   "metadata": {},
   "source": [
    "```\n",
    "Scenario: Computing the magnitude of vector(1, 0, 0)\n",
    "  Given v ← vector(1, 0, 0)\n",
    "  Then magnitude(v) = 1\n",
    "\n",
    "Scenario: Computing the magnitude of vector(0, 1, 0)\n",
    "  Given v ← vector(0, 1, 0)\n",
    "  Then magnitude(v) = 1\n",
    "\n",
    "Scenario: Computing the magnitude of vector(0, 0, 1)\n",
    "  Given v ← vector(0, 0, 1)\n",
    "  Then magnitude(v) = 1\n",
    "\n",
    "Scenario: Computing the magnitude of vector(1, 2, 3)\n",
    "  Given v ← vector(1, 2, 3)\n",
    "  Then magnitude(v) = √14\n",
    "\n",
    "Scenario: Computing the magnitude of vector(-1, -2, -3)\n",
    "  Given v ← vector(-1, -2, -3)\n",
    "  Then magnitude(v) = √14\n",
    "```"
   ]
  },
  {
   "cell_type": "code",
   "execution_count": 12,
   "metadata": {},
   "outputs": [
    {
     "data": {
      "text/html": [
       "<span style=\"white-space:pre; font-family: monospace\">1\n",
       "</span>"
      ]
     },
     "execution_count": 12,
     "metadata": {},
     "output_type": "execute_result"
    },
    {
     "data": {
      "text/html": [
       "<span style=\"white-space:pre; font-family: monospace\">┌───┐\n",
       "│Yes│\n",
       "└───┘\n",
       "</span>"
      ]
     },
     "execution_count": 12,
     "metadata": {},
     "output_type": "execute_result"
    },
    {
     "data": {
      "text/html": [
       "<span style=\"white-space:pre; font-family: monospace\">1\n",
       "</span>"
      ]
     },
     "execution_count": 12,
     "metadata": {},
     "output_type": "execute_result"
    },
    {
     "data": {
      "text/html": [
       "<span style=\"white-space:pre; font-family: monospace\">┌───┐\n",
       "│Yes│\n",
       "└───┘\n",
       "</span>"
      ]
     },
     "execution_count": 12,
     "metadata": {},
     "output_type": "execute_result"
    },
    {
     "data": {
      "text/html": [
       "<span style=\"white-space:pre; font-family: monospace\">1\n",
       "</span>"
      ]
     },
     "execution_count": 12,
     "metadata": {},
     "output_type": "execute_result"
    },
    {
     "data": {
      "text/html": [
       "<span style=\"white-space:pre; font-family: monospace\">┌───┐\n",
       "│Yes│\n",
       "└───┘\n",
       "</span>"
      ]
     },
     "execution_count": 12,
     "metadata": {},
     "output_type": "execute_result"
    },
    {
     "data": {
      "text/html": [
       "<span style=\"white-space:pre; font-family: monospace\">3.74166\n",
       "</span>"
      ]
     },
     "execution_count": 12,
     "metadata": {},
     "output_type": "execute_result"
    },
    {
     "data": {
      "text/html": [
       "<span style=\"white-space:pre; font-family: monospace\">┌───┐\n",
       "│Yes│\n",
       "└───┘\n",
       "</span>"
      ]
     },
     "execution_count": 12,
     "metadata": {},
     "output_type": "execute_result"
    },
    {
     "data": {
      "text/html": [
       "<span style=\"white-space:pre; font-family: monospace\">3.74166\n",
       "</span>"
      ]
     },
     "execution_count": 12,
     "metadata": {},
     "output_type": "execute_result"
    },
    {
     "data": {
      "text/html": [
       "<span style=\"white-space:pre; font-family: monospace\">┌───┐\n",
       "│Yes│\n",
       "└───┘\n",
       "</span>"
      ]
     },
     "execution_count": 12,
     "metadata": {},
     "output_type": "execute_result"
    }
   ],
   "source": [
    "v← vector 1 0 0\n",
    "magnitude v\n",
    "1 yesno magnitude v\n",
    "⍝\n",
    "v← vector 0 1 0\n",
    "magnitude v\n",
    "1 yesno magnitude v\n",
    "⍝\n",
    "v← vector 0 0 1\n",
    "magnitude v\n",
    "1 yesno magnitude v\n",
    "⍝\n",
    "v← vector 1 2 3\n",
    "magnitude v\n",
    "(14*0.5) yesno magnitude v\n",
    "⍝\n",
    "v← vector ¯1 ¯2 ¯3\n",
    "magnitude v\n",
    "(14*0.5) yesno magnitude v"
   ]
  },
  {
   "cell_type": "markdown",
   "metadata": {},
   "source": [
    "```\n",
    "Scenario: Normalizing vector(4, 0, 0) gives (1, 0, 0)\n",
    "  Given v ← vector(4, 0, 0)\n",
    "  Then normalize(v) = vector(1, 0, 0)\n",
    "\n",
    "Scenario: Normalizing vector(1, 2, 3)\n",
    "  Given v ← vector(1, 2, 3)\n",
    "                                  # vector(1/√14,   2/√14,   3/√14)\n",
    "  Then normalize(v) = approximately vector(0.26726, 0.53452, 0.80178)\n",
    "\n",
    "Scenario: The magnitude of a normalized vector\n",
    "  Given v ← vector(1, 2, 3)\n",
    "  When norm ← normalize(v)\n",
    "  Then magnitude(norm) = 1\n",
    "```"
   ]
  },
  {
   "cell_type": "code",
   "execution_count": 13,
   "metadata": {},
   "outputs": [
    {
     "data": {
      "text/html": [
       "<span style=\"white-space:pre; font-family: monospace\">1 0 0 0\n",
       "</span>"
      ]
     },
     "execution_count": 13,
     "metadata": {},
     "output_type": "execute_result"
    },
    {
     "data": {
      "text/html": [
       "<span style=\"white-space:pre; font-family: monospace\">┌───┐\n",
       "│Yes│\n",
       "└───┘\n",
       "</span>"
      ]
     },
     "execution_count": 13,
     "metadata": {},
     "output_type": "execute_result"
    },
    {
     "data": {
      "text/html": [
       "<span style=\"white-space:pre; font-family: monospace\">0.267261 0.534522 0.801784 0\n",
       "</span>"
      ]
     },
     "execution_count": 13,
     "metadata": {},
     "output_type": "execute_result"
    },
    {
     "data": {
      "text/html": [
       "<span style=\"white-space:pre; font-family: monospace\">┌───┐\n",
       "│Yes│\n",
       "└───┘\n",
       "</span>"
      ]
     },
     "execution_count": 13,
     "metadata": {},
     "output_type": "execute_result"
    },
    {
     "data": {
      "text/html": [
       "<span style=\"white-space:pre; font-family: monospace\">1\n",
       "</span>"
      ]
     },
     "execution_count": 13,
     "metadata": {},
     "output_type": "execute_result"
    },
    {
     "data": {
      "text/html": [
       "<span style=\"white-space:pre; font-family: monospace\">┌───┐\n",
       "│Yes│\n",
       "└───┘\n",
       "</span>"
      ]
     },
     "execution_count": 13,
     "metadata": {},
     "output_type": "execute_result"
    }
   ],
   "source": [
    "v← vector 4 0 0\n",
    "normalize v\n",
    "(vector 1 0 0) yesno normalize v\n",
    "⍝\n",
    "v← vector 1 2 3\n",
    "normalize v\n",
    "(vector (÷14*0.5) (2÷14*0.5) (3÷14*0.5)) yesno normalize v\n",
    "⍝\n",
    "v← vector 1 2 3\n",
    "norm← normalize v\n",
    "magnitude norm\n",
    "1 yesno magnitude norm"
   ]
  },
  {
   "cell_type": "markdown",
   "metadata": {},
   "source": [
    "```\n",
    "Scenario: The dot product of two tuples\n",
    "  Given a ← vector(1, 2, 3)\n",
    "    And b ← vector(2, 3, 4)\n",
    "  Then dot(a, b) = 20\n",
    "\n",
    "Scenario: The cross product of two vectors\n",
    "  Given a ← vector(1, 2, 3)\n",
    "    And b ← vector(2, 3, 4)\n",
    "  Then cross(a, b) = vector(-1, 2, -1)\n",
    "    And cross(b, a) = vector(1, -2, 1)\n",
    "```"
   ]
  },
  {
   "cell_type": "code",
   "execution_count": 14,
   "metadata": {},
   "outputs": [
    {
     "data": {
      "text/html": [
       "<span style=\"white-space:pre; font-family: monospace\">20\n",
       "</span>"
      ]
     },
     "execution_count": 14,
     "metadata": {},
     "output_type": "execute_result"
    },
    {
     "data": {
      "text/html": [
       "<span style=\"white-space:pre; font-family: monospace\">┌───┐\n",
       "│Yes│\n",
       "└───┘\n",
       "</span>"
      ]
     },
     "execution_count": 14,
     "metadata": {},
     "output_type": "execute_result"
    },
    {
     "data": {
      "text/html": [
       "<span style=\"white-space:pre; font-family: monospace\">¯1 2 ¯1 0\n",
       "</span>"
      ]
     },
     "execution_count": 14,
     "metadata": {},
     "output_type": "execute_result"
    },
    {
     "data": {
      "text/html": [
       "<span style=\"white-space:pre; font-family: monospace\">┌───┐\n",
       "│Yes│\n",
       "└───┘\n",
       "</span>"
      ]
     },
     "execution_count": 14,
     "metadata": {},
     "output_type": "execute_result"
    },
    {
     "data": {
      "text/html": [
       "<span style=\"white-space:pre; font-family: monospace\">1 ¯2 1 0\n",
       "</span>"
      ]
     },
     "execution_count": 14,
     "metadata": {},
     "output_type": "execute_result"
    },
    {
     "data": {
      "text/html": [
       "<span style=\"white-space:pre; font-family: monospace\">┌───┐\n",
       "│Yes│\n",
       "└───┘\n",
       "</span>"
      ]
     },
     "execution_count": 14,
     "metadata": {},
     "output_type": "execute_result"
    }
   ],
   "source": [
    "a← vector 1 2 3\n",
    "b← vector 2 3 4\n",
    "a dot b\n",
    "20 yesno a dot b\n",
    "⍝\n",
    "a cross b\n",
    "(vector ¯1 2 ¯1) yesno a cross b\n",
    "b cross a\n",
    "(vector 1 ¯2 1) yesno b cross a"
   ]
  },
  {
   "cell_type": "markdown",
   "metadata": {},
   "source": [
    "# Chapter 2. Drawing on a Canvas\n",
    "This chapter focuses on representing color, a three element vector representing Red, Green and Blue color values. Each color value ranges from 0.0 to 1.0. A canvas is a matrix of color vectors, specified in terms of Height and Width. The primary functions developed in this chapter deal with a canvas and converting the canvas to a PPM image format.\n",
    "\n",
    "The Chapter deals first with operations that can be performed on colors. These operations are necessary when dealing with transparency and reflection. The remainder of the Chapter is given over to creating a canvas and converting it to a PPM image, then saving that image to a file."
   ]
  },
  {
   "cell_type": "markdown",
   "metadata": {},
   "source": [
    "## APL Code Chapter 2\n",
    "* Macro **canvas(w,h)** creates a canvas of width w, height h, initialized to color (0,0,0)\n",
    "* Function **canvas_to_ppm(c)** processes a canvas and produces a text representation of a PPM graphics file\n",
    "* Function **savePPM(file,ppm)** outputs a PPM result to a named file"
   ]
  },
  {
   "cell_type": "markdown",
   "metadata": {},
   "source": [
    "## Implementation\n",
    "- **canvas** *width height* → nested matrix of ⍴ = height width, each element being the enclosed vector (0 0 0)\n",
    "- **canvas_to_ppm** *canvas* → textual representation of a PPM file\n",
    "- *filename* **savePPM** *ppm* → file.ppm written to file system\n",
    "\n",
    "Previously I used the width & height arguments to shape an array, which means width is the number of rows and height is the number of columns. This happens to match the way the author indexes a canvas by specifying x and y values in a write_pixel() function. Hence, width is x is rows, and y is height is columns. This matches the indexing form of an APL two dimensional array, specified as c[x ; y]. ***I've since reversed the dimensioning, height is rows and width is columns.*** Only a few functions and tests were affected by the change.\n",
    "\n",
    "***Update:*** I've now implemented a canvas as an inverted matrix. A canvas is a vector whose length is equal to the height (# of rows) with each element being a vector whose length is equal to the width (# of columns) of colors. You pick the row, then the column from that row using ```row column⊃canvas```\n",
    "\n",
    "Since a canvas is an array of colors, a color value must be enclosed before being assigned to a canvas element and disclosed when a color element is extracted. Enclosure is certain to be the source of numerous errors in development!\n",
    "\n",
    "The implementation of **canvas_to_ppm** would probably be faster and more efficient if written as a regular procedural function with a loop to process the raveled, disclosed color elements from the canvas input. It would also result in a nested array with the same number of rows as lines of output. I may need to circle back at a later time. As implemented, it will not produce an output that matches the format given in the test scenarios.\n",
    "\n",
    "I'm using a separate function **savePPM** to write the ppm result to a file for the moment. It could, perhaps should, be incorporated directly into the **canvas_to_ppm** function. I'm also using a preexisting function **PutText** from the *File* workspace for now. This dependency should be removed later by implementing my own file output routine."
   ]
  },
  {
   "cell_type": "markdown",
   "metadata": {},
   "source": [
    "## Chapter 2 Test Cases"
   ]
  },
  {
   "cell_type": "markdown",
   "metadata": {},
   "source": [
    "```\n",
    "Scenario: Colors are (red, green, blue) tuples\n",
    "  Given c ← color(-0.5, 0.4, 1.7)\n",
    "  Then c.red = -0.5\n",
    "    And c.green = 0.4\n",
    "    And c.blue = 1.7\n",
    "\n",
    "Scenario: Adding colors\n",
    "  Given c1 ← color(0.9, 0.6, 0.75)\n",
    "    And c2 ← color(0.7, 0.1, 0.25)\n",
    "   Then c1 + c2 = color(1.6, 0.7, 1.0)\n",
    "\n",
    "Scenario: Subtracting colors\n",
    "  Given c1 ← color(0.9, 0.6, 0.75)\n",
    "    And c2 ← color(0.7, 0.1, 0.25)\n",
    "   Then c1 - c2 = color(0.2, 0.5, 0.5)\n",
    "\n",
    "Scenario: Multiplying a color by a scalar\n",
    "  Given c ← color(0.2, 0.3, 0.4)\n",
    "  Then c * 2 = color(0.4, 0.6, 0.8)\n",
    "\n",
    "Scenario: Multiplying colors\n",
    "  Given c1 ← color(1, 0.2, 0.4)\n",
    "    And c2 ← color(0.9, 1, 0.1)\n",
    "   Then c1 * c2 = color(0.9, 0.2, 0.04)\n",
    "```"
   ]
  },
  {
   "cell_type": "code",
   "execution_count": 15,
   "metadata": {},
   "outputs": [
    {
     "data": {
      "text/html": [
       "<span style=\"white-space:pre; font-family: monospace\">¯0.5 0.4 1.7\n",
       "</span>"
      ]
     },
     "execution_count": 15,
     "metadata": {},
     "output_type": "execute_result"
    },
    {
     "data": {
      "text/html": [
       "<span style=\"white-space:pre; font-family: monospace\">┌───┐\n",
       "│Yes│\n",
       "└───┘\n",
       "</span>"
      ]
     },
     "execution_count": 15,
     "metadata": {},
     "output_type": "execute_result"
    },
    {
     "data": {
      "text/html": [
       "<span style=\"white-space:pre; font-family: monospace\">1.6 0.7 1\n",
       "</span>"
      ]
     },
     "execution_count": 15,
     "metadata": {},
     "output_type": "execute_result"
    },
    {
     "data": {
      "text/html": [
       "<span style=\"white-space:pre; font-family: monospace\">┌───┐\n",
       "│Yes│\n",
       "└───┘\n",
       "</span>"
      ]
     },
     "execution_count": 15,
     "metadata": {},
     "output_type": "execute_result"
    },
    {
     "data": {
      "text/html": [
       "<span style=\"white-space:pre; font-family: monospace\">0.2 0.5 0.5\n",
       "</span>"
      ]
     },
     "execution_count": 15,
     "metadata": {},
     "output_type": "execute_result"
    },
    {
     "data": {
      "text/html": [
       "<span style=\"white-space:pre; font-family: monospace\">┌───┐\n",
       "│Yes│\n",
       "└───┘\n",
       "</span>"
      ]
     },
     "execution_count": 15,
     "metadata": {},
     "output_type": "execute_result"
    },
    {
     "data": {
      "text/html": [
       "<span style=\"white-space:pre; font-family: monospace\">0.4 0.6 0.8\n",
       "</span>"
      ]
     },
     "execution_count": 15,
     "metadata": {},
     "output_type": "execute_result"
    },
    {
     "data": {
      "text/html": [
       "<span style=\"white-space:pre; font-family: monospace\">┌───┐\n",
       "│Yes│\n",
       "└───┘\n",
       "</span>"
      ]
     },
     "execution_count": 15,
     "metadata": {},
     "output_type": "execute_result"
    },
    {
     "data": {
      "text/html": [
       "<span style=\"white-space:pre; font-family: monospace\">0.9 0.2 0.04\n",
       "</span>"
      ]
     },
     "execution_count": 15,
     "metadata": {},
     "output_type": "execute_result"
    },
    {
     "data": {
      "text/html": [
       "<span style=\"white-space:pre; font-family: monospace\">┌───┐\n",
       "│Yes│\n",
       "└───┘\n",
       "</span>"
      ]
     },
     "execution_count": 15,
     "metadata": {},
     "output_type": "execute_result"
    }
   ],
   "source": [
    "+c← ¯0.5 0.4 1.7\n",
    "c yesno ¯0.5 0.4 1.7\n",
    "⍝\n",
    "c1← 0.9 0.6 0.75\n",
    "c2← 0.7 0.1 0.25\n",
    "c1+c2\n",
    "1.6 0.7 1.0 yesno c1+c2\n",
    "⍝\n",
    "c1← 0.9 0.6 0.75\n",
    "c2← 0.7 0.1 0.25\n",
    "c1-c2\n",
    "0.2 0.5 0.5 yesno c1-c2\n",
    "⍝\n",
    "c← 0.2 0.3 0.4\n",
    "c×2\n",
    "0.4 0.6 0.8 yesno c×2\n",
    "⍝\n",
    "c1← 1 0.2 0.4\n",
    "c2← 0.9 1 0.1\n",
    "c1×c2\n",
    "0.9 0.2 0.04 yesno c1×c2\n",
    "⍝"
   ]
  },
  {
   "cell_type": "markdown",
   "metadata": {},
   "source": [
    "```\n",
    "Scenario: Creating a canvas\n",
    "  Given c ← canvas(10, 20)\n",
    "  Then c.width = 10\n",
    "    And c.height = 20\n",
    "    And every pixel of c is color(0, 0, 0)\n",
    "```"
   ]
  },
  {
   "cell_type": "code",
   "execution_count": 18,
   "metadata": {},
   "outputs": [
    {
     "data": {
      "text/html": [
       "<span style=\"white-space:pre; font-family: monospace\">20\n",
       "</span>"
      ]
     },
     "execution_count": 18,
     "metadata": {},
     "output_type": "execute_result"
    },
    {
     "data": {
      "text/html": [
       "<span style=\"white-space:pre; font-family: monospace\">10\n",
       "</span>"
      ]
     },
     "execution_count": 18,
     "metadata": {},
     "output_type": "execute_result"
    },
    {
     "data": {
      "text/html": [
       "<span style=\"white-space:pre; font-family: monospace\">┌───┐\n",
       "│Yes│\n",
       "└───┘\n",
       "</span>"
      ]
     },
     "execution_count": 18,
     "metadata": {},
     "output_type": "execute_result"
    },
    {
     "data": {
      "text/html": [
       "<span style=\"white-space:pre; font-family: monospace\">┌───┐\n",
       "│Yes│\n",
       "└───┘\n",
       "</span>"
      ]
     },
     "execution_count": 18,
     "metadata": {},
     "output_type": "execute_result"
    },
    {
     "data": {
      "text/html": [
       "<span style=\"white-space:pre; font-family: monospace\">┌───┐\n",
       "│Yes│\n",
       "└───┘\n",
       "</span>"
      ]
     },
     "execution_count": 18,
     "metadata": {},
     "output_type": "execute_result"
    }
   ],
   "source": [
    "c← canvas 10 20\n",
    "⍴c\n",
    "⍴⊃c[1]\n",
    "20 yesno ⊃⍴c\n",
    "10 yesno ⊃⍴⊃c[1]\n",
    "0 yesno ∨/⊃,/⊃,/c"
   ]
  },
  {
   "cell_type": "markdown",
   "metadata": {},
   "source": [
    "```\n",
    "Scenario: Writing pixels to a canvas\n",
    "  Given c ← canvas(10, 20)\n",
    "    And red ← color(1, 0, 0)\n",
    "  When write_pixel(c, 2, 3, red)\n",
    "  Then pixel_at(c, 2, 3) = red\n",
    "```"
   ]
  },
  {
   "cell_type": "code",
   "execution_count": 29,
   "metadata": {},
   "outputs": [
    {
     "data": {
      "text/html": [
       "<span style=\"white-space:pre; font-family: monospace\">1 0 0\n",
       "</span>"
      ]
     },
     "execution_count": 29,
     "metadata": {},
     "output_type": "execute_result"
    },
    {
     "data": {
      "text/html": [
       "<span style=\"white-space:pre; font-family: monospace\">┌───┐\n",
       "│Yes│\n",
       "└───┘\n",
       "</span>"
      ]
     },
     "execution_count": 29,
     "metadata": {},
     "output_type": "execute_result"
    }
   ],
   "source": [
    "c← canvas 10 20\n",
    "red← 1 0 0\n",
    "(4 3⊃c)← red\n",
    "4 3⊃c\n",
    "red yesno 4 3⊃c"
   ]
  },
  {
   "cell_type": "markdown",
   "metadata": {},
   "source": [
    "```\n",
    "Scenario: Constructing the PPM header\n",
    "  Given c ← canvas(5, 3)\n",
    "  When ppm ← canvas_to_ppm(c)\n",
    "  Then lines 1-3 of ppm are\n",
    "    \"\"\"\n",
    "    P3\n",
    "    5 3\n",
    "    255\n",
    "    \"\"\"\n",
    "```"
   ]
  },
  {
   "cell_type": "code",
   "execution_count": 21,
   "metadata": {},
   "outputs": [
    {
     "data": {
      "text/html": [
       "<span style=\"white-space:pre; font-family: monospace\">┌───┐\n",
       "│P3 │\n",
       "├───┤\n",
       "│5 3│\n",
       "├───┤\n",
       "│255│\n",
       "└───┘\n",
       "</span>"
      ]
     },
     "execution_count": 21,
     "metadata": {},
     "output_type": "execute_result"
    },
    {
     "data": {
      "text/html": [
       "<span style=\"white-space:pre; font-family: monospace\">4 1\n",
       "</span>"
      ]
     },
     "execution_count": 21,
     "metadata": {},
     "output_type": "execute_result"
    }
   ],
   "source": [
    "c← canvas 5 3\n",
    "ppm← canvas_to_ppm c\n",
    "ppm[1 2 3;]\n",
    "⍴ppm"
   ]
  },
  {
   "cell_type": "markdown",
   "metadata": {},
   "source": [
    "```\n",
    "Scenario: Constructing the PPM pixel data\n",
    "  Given c ← canvas(5, 3)\n",
    "    And c1 ← color(1.5, 0, 0)\n",
    "    And c2 ← color(0, 0.5, 0)\n",
    "    And c3 ← color(-0.5, 0, 1)\n",
    "  When write_pixel(c, 0, 0, c1)\n",
    "    And write_pixel(c, 2, 1, c2)\n",
    "    And write_pixel(c, 4, 2, c3)\n",
    "    And ppm ← canvas_to_ppm(c)\n",
    "  Then lines 4-6 of ppm are\n",
    "    \"\"\"\n",
    "    255 0 0 0 0 0 0 0 0 0 0 0 0 0 0\n",
    "    0 0 0 0 0 0 0 128 0 0 0 0 0 0 0\n",
    "    0 0 0 0 0 0 0 0 0 0 0 0 0 0 255\n",
    "    \"\"\"\n",
    "```"
   ]
  },
  {
   "cell_type": "code",
   "execution_count": 30,
   "metadata": {},
   "outputs": [
    {
     "data": {
      "text/html": [
       "<span style=\"white-space:pre; font-family: monospace\">┌─────────────────────────────────┬─────────────────────────────────┬──────────────────────────────────┐\n",
       "│┌───────┬─────┬─────┬─────┬─────┐│┌─────┬─────┬───────┬─────┬─────┐│┌─────┬─────┬─────┬─────┬────────┐│\n",
       "││1.5 0 0│0 0 0│0 0 0│0 0 0│0 0 0│││0 0 0│0 0 0│0 0.5 0│0 0 0│0 0 0│││0 0 0│0 0 0│0 0 0│0 0 0│¯0.5 0 1││\n",
       "│└───────┴─────┴─────┴─────┴─────┘│└─────┴─────┴───────┴─────┴─────┘│└─────┴─────┴─────┴─────┴────────┘│\n",
       "└─────────────────────────────────┴─────────────────────────────────┴──────────────────────────────────┘\n",
       "</span>"
      ]
     },
     "execution_count": 30,
     "metadata": {},
     "output_type": "execute_result"
    },
    {
     "data": {
      "text/html": [
       "<span style=\"white-space:pre; font-family: monospace\">┌────────────────────────────────────────────────────────────┐\n",
       "│ 255   0   0   0   0   0   0   0   0   0   0   0   0   0   0│\n",
       "│   0   0   0   0   0   0   0 128   0   0   0   0   0   0   0│\n",
       "│   0   0   0   0   0   0   0   0   0   0   0   0   0   0 255│\n",
       "└────────────────────────────────────────────────────────────┘\n",
       "</span>"
      ]
     },
     "execution_count": 30,
     "metadata": {},
     "output_type": "execute_result"
    }
   ],
   "source": [
    "c← canvas 5 3\n",
    "c1← 1.5 0 0\n",
    "c2← 0 0.5 0\n",
    "c3← ¯0.5 0 1\n",
    "(1 1⊃c)← c1\n",
    "(2 3⊃c)← c2\n",
    "(3 5⊃c)← c3\n",
    "c\n",
    "ppm← canvas_to_ppm c\n",
    "ppm[4;]"
   ]
  },
  {
   "cell_type": "markdown",
   "metadata": {},
   "source": [
    "```\n",
    "Scenario: Splitting long lines in PPM files\n",
    "  Given c ← canvas(10, 2)\n",
    "  When every pixel of c is set to color(1, 0.8, 0.6)\n",
    "    And ppm ← canvas_to_ppm(c)\n",
    "  Then lines 4-7 of ppm are\n",
    "    \"\"\"\n",
    "    255 204 153 255 204 153 255 204 153 255 204 153 255 204 153 255 204\n",
    "    153 255 204 153 255 204 153 255 204 153 255 204 153\n",
    "    255 204 153 255 204 153 255 204 153 255 204 153 255 204 153 255 204\n",
    "    153 255 204 153 255 204 153 255 204 153 255 204 153\n",
    "    \"\"\"\n",
    "```"
   ]
  },
  {
   "cell_type": "code",
   "execution_count": 31,
   "metadata": {},
   "outputs": [
    {
     "data": {
      "text/html": [
       "<span style=\"white-space:pre; font-family: monospace\">┌────────────────────────────────────────────────────────────┐\n",
       "│ 255 204 153 255 204 153 255 204 153 255 204 153 255 204 153│\n",
       "│ 255 204 153 255 204 153 255 204 153 255 204 153 255 204 153│\n",
       "│ 255 204 153 255 204 153 255 204 153 255 204 153 255 204 153│\n",
       "│ 255 204 153 255 204 153 255 204 153 255 204 153 255 204 153│\n",
       "└────────────────────────────────────────────────────────────┘\n",
       "</span>"
      ]
     },
     "execution_count": 31,
     "metadata": {},
     "output_type": "execute_result"
    },
    {
     "data": {
      "text/html": [
       "<span style=\"white-space:pre; font-family: monospace\">1\n",
       "</span>"
      ]
     },
     "execution_count": 31,
     "metadata": {},
     "output_type": "execute_result"
    }
   ],
   "source": [
    "c← canvas 10 2\n",
    "c[(⍳2)∘.,⍳10]← ⊂1 0.8 0.6\n",
    "ppm← canvas_to_ppm c\n",
    "ppm[4;]\n",
    "⍴ppm[4;]"
   ]
  },
  {
   "cell_type": "markdown",
   "metadata": {},
   "source": [
    "```\n",
    "Scenario: PPM files are terminated by a newline\n",
    "  Given c ← canvas(5, 3)\n",
    "  When ppm ← canvas_to_ppm(c)\n",
    "  Then the last character of ppm is a newline\n",
    "```"
   ]
  },
  {
   "cell_type": "markdown",
   "metadata": {},
   "source": [
    "# Chapter 3. Matrices\n",
    "This section is where APL shines. A good deal of the chapter is devoted to constructing the means to invert a matrix. That code will not be written or tested thanks to the APL *domino* (⌹) function."
   ]
  },
  {
   "cell_type": "markdown",
   "metadata": {},
   "source": [
    "## APL Code Chapter 3\n",
    "Functions implemented in this chapter include\n",
    "* Function **identity(n)** that returns an n×n identity matrix\n",
    "* Data structure *identity4* that is a 4×4 identity matrix"
   ]
  },
  {
   "cell_type": "markdown",
   "metadata": {},
   "source": [
    "## Implementation\n",
    "\n",
    "- **identity** *n* → n×n identity matrix\n",
    "- *identity4* → 4×4 identity matrix"
   ]
  },
  {
   "cell_type": "markdown",
   "metadata": {},
   "source": [
    "## Chapter 3 Test Cases\n",
    "Throughout the book the author assumes vectors and matrices are indexed starting at zero, but APL by default indexes arrays beginning with 1."
   ]
  },
  {
   "cell_type": "markdown",
   "metadata": {},
   "source": [
    "```\n",
    "Scenario: A 2x2 matrix ought to be representable\n",
    "  Given the following 2x2 matrix M:\n",
    "    | -3 |  5 |\n",
    "    |  1 | -2 |\n",
    "  Then M[0,0] = -3\n",
    "    And M[0,1] = 5\n",
    "    And M[1,0] = 1\n",
    "    And M[1,1] = -2\n",
    "\n",
    "Scenario: A 3x3 matrix ought to be representable\n",
    "  Given the following 3x3 matrix M:\n",
    "    | -3 |  5 |  0 |\n",
    "    |  1 | -2 | -7 |\n",
    "    |  0 |  1 |  1 |\n",
    "  Then M[0,0] = -3\n",
    "    And M[1,1] = -2\n",
    "    And M[2,2] = 1\n",
    "```"
   ]
  },
  {
   "cell_type": "code",
   "execution_count": 21,
   "metadata": {},
   "outputs": [
    {
     "data": {
      "text/html": [
       "<span style=\"white-space:pre; font-family: monospace\">¯3  5\n",
       " 1 ¯2\n",
       "</span>"
      ]
     },
     "execution_count": 21,
     "metadata": {},
     "output_type": "execute_result"
    },
    {
     "data": {
      "text/html": [
       "<span style=\"white-space:pre; font-family: monospace\">┌───┐\n",
       "│Yes│\n",
       "└───┘\n",
       "</span>"
      ]
     },
     "execution_count": 21,
     "metadata": {},
     "output_type": "execute_result"
    },
    {
     "data": {
      "text/html": [
       "<span style=\"white-space:pre; font-family: monospace\">¯3  5  0\n",
       " 1 ¯2 ¯7\n",
       " 0  1  1\n",
       "</span>"
      ]
     },
     "execution_count": 21,
     "metadata": {},
     "output_type": "execute_result"
    },
    {
     "data": {
      "text/html": [
       "<span style=\"white-space:pre; font-family: monospace\">┌───┐\n",
       "│Yes│\n",
       "└───┘\n",
       "</span>"
      ]
     },
     "execution_count": 21,
     "metadata": {},
     "output_type": "execute_result"
    }
   ],
   "source": [
    "+m← 2 2⍴ ¯3 5 1 ¯2\n",
    "¯3 5 1 ¯2 yesno m[(1 1) (1 2) (2 1) (2 2)]\n",
    "⍝\n",
    "+m←3 3⍴ ¯3 5 0 1 ¯2 ¯7 0 1 1\n",
    "¯3 ¯2 1 yesno m[(1 1) (2 2) (3 3)]"
   ]
  },
  {
   "cell_type": "markdown",
   "metadata": {},
   "source": [
    "```\n",
    "Scenario: Matrix equality with identical matrices\n",
    "  Given the following matrix A:\n",
    "      | 1 | 2 | 3 | 4 |\n",
    "      | 5 | 6 | 7 | 8 |\n",
    "      | 9 | 8 | 7 | 6 |\n",
    "      | 5 | 4 | 3 | 2 |\n",
    "    And the following matrix B:\n",
    "      | 1 | 2 | 3 | 4 |\n",
    "      | 5 | 6 | 7 | 8 |\n",
    "      | 9 | 8 | 7 | 6 |\n",
    "      | 5 | 4 | 3 | 2 |\n",
    "  Then A = B\n",
    "\n",
    "Scenario: Matrix equality with different matrices\n",
    "  Given the following matrix A:\n",
    "      | 1 | 2 | 3 | 4 |\n",
    "      | 5 | 6 | 7 | 8 |\n",
    "      | 9 | 8 | 7 | 6 |\n",
    "      | 5 | 4 | 3 | 2 |\n",
    "    And the following matrix B:\n",
    "      | 2 | 3 | 4 | 5 |\n",
    "      | 6 | 7 | 8 | 9 |\n",
    "      | 8 | 7 | 6 | 5 |\n",
    "      | 4 | 3 | 2 | 1 |\n",
    "  Then A != B\n",
    "```"
   ]
  },
  {
   "cell_type": "code",
   "execution_count": 22,
   "metadata": {},
   "outputs": [
    {
     "data": {
      "text/html": [
       "<span style=\"white-space:pre; font-family: monospace\">┌───┐\n",
       "│Yes│\n",
       "└───┘\n",
       "</span>"
      ]
     },
     "execution_count": 22,
     "metadata": {},
     "output_type": "execute_result"
    },
    {
     "data": {
      "text/html": [
       "<span style=\"white-space:pre; font-family: monospace\">┌───┐\n",
       "│Yes│\n",
       "└───┘\n",
       "</span>"
      ]
     },
     "execution_count": 22,
     "metadata": {},
     "output_type": "execute_result"
    }
   ],
   "source": [
    "A← 4 4⍴ 1 2 3 4 5 6 7 8 9 8 7 6 5 4 3 2\n",
    "B← 4 4⍴ 1 2 3 4 5 6 7 8 9 8 7 6 5 4 3 2\n",
    "1 yesno A≡B\n",
    "⍝\n",
    "B← 4 4⍴ 2 3 4 5 6 7 8 9 8 7 6 5 4 3 2 1\n",
    "1 yesno A≢B"
   ]
  },
  {
   "cell_type": "markdown",
   "metadata": {},
   "source": [
    "```\n",
    "Scenario: Multiplying two matrices\n",
    "  Given the following matrix A:\n",
    "      | 1 | 2 | 3 | 4 |\n",
    "      | 5 | 6 | 7 | 8 |\n",
    "      | 9 | 8 | 7 | 6 |\n",
    "      | 5 | 4 | 3 | 2 |\n",
    "    And the following matrix B:\n",
    "      | -2 | 1 | 2 |  3 |\n",
    "      |  3 | 2 | 1 | -1 |\n",
    "      |  4 | 3 | 6 |  5 |\n",
    "      |  1 | 2 | 7 |  8 |\n",
    "  Then A * B is the following 4x4 matrix:\n",
    "      | 20|  22 |  50 |  48 |\n",
    "      | 44|  54 | 114 | 108 |\n",
    "      | 40|  58 | 110 | 102 |\n",
    "      | 16|  26 |  46 |  42 |\n",
    "\n",
    "Scenario: A matrix multiplied by a tuple\n",
    "  Given the following matrix A:\n",
    "      | 1 | 2 | 3 | 4 |\n",
    "      | 2 | 4 | 4 | 2 |\n",
    "      | 8 | 6 | 4 | 1 |\n",
    "      | 0 | 0 | 0 | 1 |\n",
    "    And b ← tuple(1, 2, 3, 1)\n",
    "  Then A * b = tuple(18, 24, 33, 1)\n",
    "\n",
    "Scenario: Multiplying a matrix by the identity matrix\n",
    "  Given the following matrix A:\n",
    "    | 0 | 1 |  2 |  4 |\n",
    "    | 1 | 2 |  4 |  8 |\n",
    "    | 2 | 4 |  8 | 16 |\n",
    "    | 4 | 8 | 16 | 32 |\n",
    "  Then A * identity_matrix = A\n",
    "\n",
    "Scenario: Multiplying the identity matrix by a tuple\n",
    "  Given a ← tuple(1, 2, 3, 4)\n",
    "  Then identity_matrix * a = a\n",
    "```"
   ]
  },
  {
   "cell_type": "code",
   "execution_count": 23,
   "metadata": {},
   "outputs": [
    {
     "data": {
      "text/html": [
       "<span style=\"white-space:pre; font-family: monospace\">20 22  50  48\n",
       "44 54 114 108\n",
       "40 58 110 102\n",
       "16 26  46  42\n",
       "</span>"
      ]
     },
     "execution_count": 23,
     "metadata": {},
     "output_type": "execute_result"
    },
    {
     "data": {
      "text/html": [
       "<span style=\"white-space:pre; font-family: monospace\">┌───┐\n",
       "│Yes│\n",
       "└───┘\n",
       "</span>"
      ]
     },
     "execution_count": 23,
     "metadata": {},
     "output_type": "execute_result"
    },
    {
     "data": {
      "text/html": [
       "<span style=\"white-space:pre; font-family: monospace\">18 24 33 1\n",
       "</span>"
      ]
     },
     "execution_count": 23,
     "metadata": {},
     "output_type": "execute_result"
    },
    {
     "data": {
      "text/html": [
       "<span style=\"white-space:pre; font-family: monospace\">┌───┐\n",
       "│Yes│\n",
       "└───┘\n",
       "</span>"
      ]
     },
     "execution_count": 23,
     "metadata": {},
     "output_type": "execute_result"
    },
    {
     "data": {
      "text/html": [
       "<span style=\"white-space:pre; font-family: monospace\">0 1  2  4\n",
       "1 2  4  8\n",
       "2 4  8 16\n",
       "4 8 16 32\n",
       "</span>"
      ]
     },
     "execution_count": 23,
     "metadata": {},
     "output_type": "execute_result"
    },
    {
     "data": {
      "text/html": [
       "<span style=\"white-space:pre; font-family: monospace\">┌───┐\n",
       "│Yes│\n",
       "└───┘\n",
       "</span>"
      ]
     },
     "execution_count": 23,
     "metadata": {},
     "output_type": "execute_result"
    },
    {
     "data": {
      "text/html": [
       "<span style=\"white-space:pre; font-family: monospace\">1 2 3 4\n",
       "</span>"
      ]
     },
     "execution_count": 23,
     "metadata": {},
     "output_type": "execute_result"
    },
    {
     "data": {
      "text/html": [
       "<span style=\"white-space:pre; font-family: monospace\">┌───┐\n",
       "│Yes│\n",
       "└───┘\n",
       "</span>"
      ]
     },
     "execution_count": 23,
     "metadata": {},
     "output_type": "execute_result"
    }
   ],
   "source": [
    "A← 4 4⍴ 1 2 3 4 5 6 7 8 9 8 7 6 5 4 3 2\n",
    "B← 4 4⍴ ¯2 1 2 3 3 2 1 ¯1 4 3 6 5 1 2 7 8\n",
    "A +.× B\n",
    "(A +.× B) yesno 4 4⍴ 20 22 50 48 44 54 114 108 40 58 110 102 16 26 46 42\n",
    "⍝\n",
    "A← 4 4⍴ 1 2 3 4 2 4 4 2 8 6 4 1 0 0 0 1\n",
    "b← 1 2 3 1\n",
    "A +.× b\n",
    "18 24 33 1 yesno A +.× b\n",
    "⍝\n",
    "A← 4 4⍴ 0 1 2 4 1 2 4 8 2 4 8 16 4 8 16 32\n",
    "A +.× identity4\n",
    "A yesno A +.× identity4\n",
    "⍝\n",
    "a← 1 2 3 4\n",
    "identity4 +.× a\n",
    "a yesno identity4 +.× a"
   ]
  },
  {
   "cell_type": "markdown",
   "metadata": {},
   "source": [
    "```\n",
    "Scenario: Transposing a matrix\n",
    "  Given the following matrix A:\n",
    "    | 0 | 9 | 3 | 0 |\n",
    "    | 9 | 8 | 0 | 8 |\n",
    "    | 1 | 8 | 5 | 3 |\n",
    "    | 0 | 0 | 5 | 8 |\n",
    "  Then transpose(A) is the following matrix:\n",
    "    | 0 | 9 | 1 | 0 |\n",
    "    | 9 | 8 | 8 | 0 |\n",
    "    | 3 | 0 | 5 | 5 |\n",
    "    | 0 | 8 | 3 | 8 |\n",
    "\n",
    "Scenario: Transposing the identity matrix\n",
    "  Given A ← transpose(identity_matrix)\n",
    "  Then A = identity_matrix\n",
    "```"
   ]
  },
  {
   "cell_type": "code",
   "execution_count": 24,
   "metadata": {},
   "outputs": [
    {
     "data": {
      "text/html": [
       "<span style=\"white-space:pre; font-family: monospace\">0 9 1 0\n",
       "9 8 8 0\n",
       "3 0 5 5\n",
       "0 8 3 8\n",
       "</span>"
      ]
     },
     "execution_count": 24,
     "metadata": {},
     "output_type": "execute_result"
    },
    {
     "data": {
      "text/html": [
       "<span style=\"white-space:pre; font-family: monospace\">┌───┐\n",
       "│Yes│\n",
       "└───┘\n",
       "</span>"
      ]
     },
     "execution_count": 24,
     "metadata": {},
     "output_type": "execute_result"
    },
    {
     "data": {
      "text/html": [
       "<span style=\"white-space:pre; font-family: monospace\">1 0 0 0\n",
       "0 1 0 0\n",
       "0 0 1 0\n",
       "0 0 0 1\n",
       "</span>"
      ]
     },
     "execution_count": 24,
     "metadata": {},
     "output_type": "execute_result"
    },
    {
     "data": {
      "text/html": [
       "<span style=\"white-space:pre; font-family: monospace\">┌───┐\n",
       "│Yes│\n",
       "└───┘\n",
       "</span>"
      ]
     },
     "execution_count": 24,
     "metadata": {},
     "output_type": "execute_result"
    }
   ],
   "source": [
    "A← 4 4⍴ 0 9 3 0 9 8 0 8 1 8 5 3 0 0 5 8\n",
    "⍉A\n",
    "(⍉A) yesno 4 4⍴ 0 9 1 0 9 8 8 0 3 0 5 5 0 8 3 8\n",
    "⍝\n",
    "⍉ identity4\n",
    "identity4 yesno ⍉identity4"
   ]
  },
  {
   "cell_type": "markdown",
   "metadata": {},
   "source": [
    "```\n",
    "Scenario: Calculating the inverse of another matrix\n",
    "  Given the following 4x4 matrix A:\n",
    "    |  8 | -5 |  9 |  2 |\n",
    "    |  7 |  5 |  6 |  1 |\n",
    "    | -6 |  0 |  9 |  6 |\n",
    "    | -3 |  0 | -9 | -4 |\n",
    "  Then inverse(A) is the following 4x4 matrix:\n",
    "    | -0.15385 | -0.15385 | -0.28205 | -0.53846 |\n",
    "    | -0.07692 |  0.12308 |  0.02564 |  0.03077 |\n",
    "    |  0.35897 |  0.35897 |  0.43590 |  0.92308 |\n",
    "    | -0.69231 | -0.69231 | -0.76923 | -1.92308 |\n",
    "\n",
    "Scenario: Calculating the inverse of a third matrix\n",
    "  Given the following 4x4 matrix A:\n",
    "    |  9 |  3 |  0 |  9 |\n",
    "    | -5 | -2 | -6 | -3 |\n",
    "    | -4 |  9 |  6 |  4 |\n",
    "    | -7 |  6 |  6 |  2 |\n",
    "  Then inverse(A) is the following 4x4 matrix:\n",
    "    | -0.04074 | -0.07778 |  0.14444 | -0.22222 |\n",
    "    | -0.07778 |  0.03333 |  0.36667 | -0.33333 |\n",
    "    | -0.02901 | -0.14630 | -0.10926 |  0.12963 |\n",
    "    |  0.17778 |  0.06667 | -0.26667 |  0.33333 |\n",
    "\n",
    "Scenario: Multiplying a product by its inverse\n",
    "  Given the following 4x4 matrix A:\n",
    "      |  3 | -9 |  7 |  3 |\n",
    "      |  3 | -8 |  2 | -9 |\n",
    "      | -4 |  4 |  4 |  1 |\n",
    "      | -6 |  5 | -1 |  1 |\n",
    "    And the following 4x4 matrix B:\n",
    "      |  8 |  2 |  2 |  2 |\n",
    "      |  3 | -1 |  7 |  0 |\n",
    "      |  7 |  0 |  5 |  4 |\n",
    "      |  6 | -2 |  0 |  5 |\n",
    "    And C ← A * B\n",
    "  Then C * inverse(B) = A\n",
    "```"
   ]
  },
  {
   "cell_type": "code",
   "execution_count": 25,
   "metadata": {},
   "outputs": [
    {
     "data": {
      "text/html": [
       "<span style=\"white-space:pre; font-family: monospace\">¯0.15385 ¯0.15385 ¯0.28205 ¯0.53846\n",
       "¯0.07692  0.12308  0.02564  0.03077\n",
       " 0.35897  0.35897  0.4359   0.92308\n",
       "¯0.69231 ¯0.69231 ¯0.76923 ¯1.92308\n",
       "</span>"
      ]
     },
     "execution_count": 25,
     "metadata": {},
     "output_type": "execute_result"
    },
    {
     "data": {
      "text/html": [
       "<span style=\"white-space:pre; font-family: monospace\">┌───┐\n",
       "│Yes│\n",
       "└───┘\n",
       "</span>"
      ]
     },
     "execution_count": 25,
     "metadata": {},
     "output_type": "execute_result"
    },
    {
     "data": {
      "text/html": [
       "<span style=\"white-space:pre; font-family: monospace\">¯0.04074 ¯0.07778  0.14444 ¯0.22222\n",
       "¯0.07778  0.03333  0.36667 ¯0.33333\n",
       "¯0.02901 ¯0.1463  ¯0.10926  0.12963\n",
       " 0.17778  0.06667 ¯0.26667  0.33333\n",
       "</span>"
      ]
     },
     "execution_count": 25,
     "metadata": {},
     "output_type": "execute_result"
    },
    {
     "data": {
      "text/html": [
       "<span style=\"white-space:pre; font-family: monospace\">┌───┐\n",
       "│Yes│\n",
       "└───┘\n",
       "</span>"
      ]
     },
     "execution_count": 25,
     "metadata": {},
     "output_type": "execute_result"
    },
    {
     "data": {
      "text/html": [
       "<span style=\"white-space:pre; font-family: monospace\"> 3 ¯9  7  3\n",
       " 3 ¯8  2 ¯9\n",
       "¯4  4  4  1\n",
       "¯6  5 ¯1  1\n",
       "</span>"
      ]
     },
     "execution_count": 25,
     "metadata": {},
     "output_type": "execute_result"
    },
    {
     "data": {
      "text/html": [
       "<span style=\"white-space:pre; font-family: monospace\">┌───┐\n",
       "│Yes│\n",
       "└───┘\n",
       "</span>"
      ]
     },
     "execution_count": 25,
     "metadata": {},
     "output_type": "execute_result"
    }
   ],
   "source": [
    "A← 4 4⍴ 8 ¯5 9 2 7 5 6 1 ¯6 0 9 6 ¯3 0 ¯9 ¯4\n",
    "4 4⍴ 9 5 roundMN ,⌹A\n",
    "Z← ¯0.15385 ¯0.15385 ¯0.28205 ¯0.53846 ¯0.07692 0.12308 0.02564 0.03077\n",
    "Z,← 0.35897 0.35897 0.43590 0.92308 ¯0.69231 ¯0.69231 ¯0.76923 ¯1.92308\n",
    "Z yesno 9 5 roundMN ,⌹A\n",
    "⍝\n",
    "A← 4 4⍴ 9 3 0 9 ¯5 ¯2 ¯6 ¯3 ¯4 9 6 4 ¯7 6 6 2\n",
    "4 4⍴ 9 5 roundMN ,⌹A\n",
    "Z← ¯0.04074 ¯0.07778 0.14444 ¯0.22222 ¯0.07778 0.03333 0.36667 ¯0.33333\n",
    "Z,← ¯0.02901 ¯0.14630 ¯0.10926 0.12963 0.17778 0.06667 ¯0.26667 0.33333\n",
    "Z yesno 9 5 roundMN ,⌹A\n",
    "⍝\n",
    "A← 4 4⍴ 3 ¯9 7 3 3 ¯8 2 ¯9 ¯4 4 4 1 ¯6 5 ¯1 1\n",
    "B← 4 4⍴ 8 2 2 2 3 ¯1 7 0 7 0 5 4 6 ¯2 0 5\n",
    "C← A +.× B\n",
    "C +.× ⌹B\n",
    "A yesno C +.× ⌹B"
   ]
  },
  {
   "cell_type": "markdown",
   "metadata": {},
   "source": [
    "# Chapter 4. Matrix Transformations\n",
    "This chapter introduces the idea of the transform matrix. Multiplying a 4 by 4 matrix and a 4-tuple point or vector can translate, scale, rotate or some other alteration of the original point or vector. The author doesn't really explain the purpose of the transform matrix or how it affects the design of the ray tracer. Basically, all shapes will be defined as centered at the origin and of unit size. Each shape will have its own transform matrix, and that matrix will be used to move and reshape the object to fit a scene. The transform matrix will be the result of chaining a series of transform matrices defined in this chapter.\n",
    "\n",
    "When chaining operations on an object, ordering is important. If A, B, and C are transformation matrices and O is an object, then a chain of operations would be represented as\n",
    "\n",
    "C * (B * (A * O)\n",
    "\n",
    "which just happens to be the order for the APL expression\n",
    "\n",
    "C +.× B +.× A +.× O\n",
    "\n",
    "The author also notes that matrix multiplication is associative *but not commutative*, hence the order in which the transformations are applied is important."
   ]
  },
  {
   "cell_type": "markdown",
   "metadata": {},
   "source": [
    "## APL Code Chapter 4\n",
    "Functions implemented in this chapter include\n",
    "* Function **translation(x,y,z)** that returns a 4×4 translation matrix\n",
    "* Function **scaling(x,y,z)** that returns a 4×4 scaling matrix\n",
    "* Function **rotation_x(angle)** that returns a 4×4 rotation matrix about the x axis\n",
    "* Function **rotation_y(angle)** that returns a 4×4 rotation matrix about the y axis\n",
    "* Function **rotation_z(angle)** that returns a 4×4 rotation matrix about the z axis\n",
    "* Function **shearing(xy,xz,yx,yz,zx,zy)** that returns a 4×4 shearing matrix\n",
    "\n",
    "Although implemented as APL functions, these could just as easily be considered data structures with initialization values. For now they will probably end up in the Functions part of the code section."
   ]
  },
  {
   "cell_type": "markdown",
   "metadata": {},
   "source": [
    "## Chapter 4 Implementation\n",
    "\n",
    "- **translation** *x y z* → 4×4 translation matrix\n",
    "- **scaling** *x y z* → 4×4 scaling matrix\n",
    "- **rotation_x** *angle* → 4×4 rotation matrix about the x axis\n",
    "- **rotation_y** *angle* → 4×4 rotation matrix about the y axis\n",
    "- **rotation_z** *angle* → 4×4 rotation matrix about the z axis\n",
    "- **shearing** *xy xz yx yz zx zy* → 4×4 shearing matrix"
   ]
  },
  {
   "cell_type": "markdown",
   "metadata": {},
   "source": [
    "## Chapter 4 Test Cases"
   ]
  },
  {
   "cell_type": "markdown",
   "metadata": {},
   "source": [
    "```\n",
    "Scenario: Multiplying by a translation matrix\n",
    "  Given transform ← translation(5, -3, 2)\n",
    "    And p ← point(-3, 4, 5)\n",
    "   Then transform * p = point(2, 1, 7)\n",
    "\n",
    "Scenario: Multiplying by the inverse of a translation matrix\n",
    "  Given transform ← translation(5, -3, 2)\n",
    "    And inv ← inverse(transform)\n",
    "    And p ← point(-3, 4, 5)\n",
    "   Then inv * p = point(-8, 7, 3)\n",
    "\n",
    "Scenario: Translation does not affect vectors\n",
    "  Given transform ← translation(5, -3, 2)\n",
    "    And v ← vector(-3, 4, 5)\n",
    "   Then transform * v = v\n",
    "```"
   ]
  },
  {
   "cell_type": "code",
   "execution_count": 26,
   "metadata": {},
   "outputs": [
    {
     "data": {
      "text/html": [
       "<span style=\"white-space:pre; font-family: monospace\">2 1 7 1\n",
       "</span>"
      ]
     },
     "execution_count": 26,
     "metadata": {},
     "output_type": "execute_result"
    },
    {
     "data": {
      "text/html": [
       "<span style=\"white-space:pre; font-family: monospace\">┌───┐\n",
       "│Yes│\n",
       "└───┘\n",
       "</span>"
      ]
     },
     "execution_count": 26,
     "metadata": {},
     "output_type": "execute_result"
    },
    {
     "data": {
      "text/html": [
       "<span style=\"white-space:pre; font-family: monospace\">¯8 7 3 1\n",
       "</span>"
      ]
     },
     "execution_count": 26,
     "metadata": {},
     "output_type": "execute_result"
    },
    {
     "data": {
      "text/html": [
       "<span style=\"white-space:pre; font-family: monospace\">¯8 7 3 1\n",
       "</span>"
      ]
     },
     "execution_count": 26,
     "metadata": {},
     "output_type": "execute_result"
    },
    {
     "data": {
      "text/html": [
       "<span style=\"white-space:pre; font-family: monospace\">┌───┐\n",
       "│Yes│\n",
       "└───┘\n",
       "</span>"
      ]
     },
     "execution_count": 26,
     "metadata": {},
     "output_type": "execute_result"
    },
    {
     "data": {
      "text/html": [
       "<span style=\"white-space:pre; font-family: monospace\">¯3 4 5 0\n",
       "</span>"
      ]
     },
     "execution_count": 26,
     "metadata": {},
     "output_type": "execute_result"
    },
    {
     "data": {
      "text/html": [
       "<span style=\"white-space:pre; font-family: monospace\">┌───┐\n",
       "│Yes│\n",
       "└───┘\n",
       "</span>"
      ]
     },
     "execution_count": 26,
     "metadata": {},
     "output_type": "execute_result"
    }
   ],
   "source": [
    "t← translation 5 ¯3 2\n",
    "p← point ¯3 4 5\n",
    "t +.× p\n",
    "(point 2 1 7) yesno t +.× p\n",
    "⍝\n",
    "t← translation 5 ¯3 2\n",
    "inv← ⌹t\n",
    "p← point ¯3 4 5\n",
    "inv +.× p\n",
    "p⌹t        ⍝ Equivalent to above\n",
    "(point ¯8 7 3) yesno inv +.× p\n",
    "⍝\n",
    "t← translation 5 ¯3 2\n",
    "v← vector ¯3 4 5\n",
    "t +.× v\n",
    "v yesno t +.× v"
   ]
  },
  {
   "cell_type": "markdown",
   "metadata": {},
   "source": [
    "```\n",
    "Scenario: A scaling matrix applied to a point\n",
    "  Given transform ← scaling(2, 3, 4)\n",
    "    And p ← point(-4, 6, 8)\n",
    "   Then transform * p = point(-8, 18, 32)\n",
    "\n",
    "Scenario: A scaling matrix applied to a vector\n",
    "  Given transform ← scaling(2, 3, 4)\n",
    "    And v ← vector(-4, 6, 8)\n",
    "   Then transform * v = vector(-8, 18, 32)\n",
    "\n",
    "Scenario: Multiplying by the inverse of a scaling matrix\n",
    "  Given transform ← scaling(2, 3, 4)\n",
    "    And inv ← inverse(transform)\n",
    "    And v ← vector(-4, 6, 8)\n",
    "   Then inv * v = vector(-2, 2, 2)\n",
    "\n",
    "Scenario: Reflection is scaling by a negative value\n",
    "  Given transform ← scaling(-1, 1, 1)\n",
    "    And p ← point(2, 3, 4)\n",
    "   Then transform * p = point(-2, 3, 4)\n",
    "```"
   ]
  },
  {
   "cell_type": "code",
   "execution_count": 27,
   "metadata": {},
   "outputs": [
    {
     "data": {
      "text/html": [
       "<span style=\"white-space:pre; font-family: monospace\">¯8 18 32 1\n",
       "</span>"
      ]
     },
     "execution_count": 27,
     "metadata": {},
     "output_type": "execute_result"
    },
    {
     "data": {
      "text/html": [
       "<span style=\"white-space:pre; font-family: monospace\">┌───┐\n",
       "│Yes│\n",
       "└───┘\n",
       "</span>"
      ]
     },
     "execution_count": 27,
     "metadata": {},
     "output_type": "execute_result"
    },
    {
     "data": {
      "text/html": [
       "<span style=\"white-space:pre; font-family: monospace\">¯8 18 32 0\n",
       "</span>"
      ]
     },
     "execution_count": 27,
     "metadata": {},
     "output_type": "execute_result"
    },
    {
     "data": {
      "text/html": [
       "<span style=\"white-space:pre; font-family: monospace\">┌───┐\n",
       "│Yes│\n",
       "└───┘\n",
       "</span>"
      ]
     },
     "execution_count": 27,
     "metadata": {},
     "output_type": "execute_result"
    },
    {
     "data": {
      "text/html": [
       "<span style=\"white-space:pre; font-family: monospace\">¯2 2 2 0\n",
       "</span>"
      ]
     },
     "execution_count": 27,
     "metadata": {},
     "output_type": "execute_result"
    },
    {
     "data": {
      "text/html": [
       "<span style=\"white-space:pre; font-family: monospace\">¯2 2 2 0\n",
       "</span>"
      ]
     },
     "execution_count": 27,
     "metadata": {},
     "output_type": "execute_result"
    },
    {
     "data": {
      "text/html": [
       "<span style=\"white-space:pre; font-family: monospace\">┌───┐\n",
       "│Yes│\n",
       "└───┘\n",
       "</span>"
      ]
     },
     "execution_count": 27,
     "metadata": {},
     "output_type": "execute_result"
    },
    {
     "data": {
      "text/html": [
       "<span style=\"white-space:pre; font-family: monospace\">¯2 3 4 1\n",
       "</span>"
      ]
     },
     "execution_count": 27,
     "metadata": {},
     "output_type": "execute_result"
    },
    {
     "data": {
      "text/html": [
       "<span style=\"white-space:pre; font-family: monospace\">┌───┐\n",
       "│Yes│\n",
       "└───┘\n",
       "</span>"
      ]
     },
     "execution_count": 27,
     "metadata": {},
     "output_type": "execute_result"
    }
   ],
   "source": [
    "t← scaling 2 3 4\n",
    "p← point ¯4 6 8\n",
    "t +.× p\n",
    "(point ¯8 18 32) yesno t +.× p\n",
    "⍝\n",
    "t← scaling 2 3 4\n",
    "v← vector ¯4 6 8\n",
    "t +.× v\n",
    "(vector ¯8 18 32) yesno t +.× v\n",
    "⍝\n",
    "t← scaling 2 3 4\n",
    "inv← ⌹t\n",
    "v← vector ¯4 6 8\n",
    "inv +.× v\n",
    "v⌹t           ⍝ Equivalent to above\n",
    "(vector ¯2 2 2) yesno inv +.× v\n",
    "⍝\n",
    "t← scaling ¯1 1 1\n",
    "p← point 2 3 4\n",
    "t +.× p\n",
    "(point ¯2 3 4) yesno t +.× p"
   ]
  },
  {
   "cell_type": "markdown",
   "metadata": {},
   "source": [
    "```\n",
    "Scenario: Rotating a point around the x axis\n",
    "  Given p ← point(0, 1, 0)\n",
    "    And half_quarter ← rotation_x(π / 4)\n",
    "    And full_quarter ← rotation_x(π / 2)\n",
    "  Then half_quarter * p = point(0, √2/2, √2/2)\n",
    "    And full_quarter * p = point(0, 0, 1)\n",
    "\n",
    "Scenario: The inverse of an x-rotation rotates in the opposite direction\n",
    "  Given p ← point(0, 1, 0)\n",
    "    And half_quarter ← rotation_x(π / 4)\n",
    "    And inv ← inverse(half_quarter)\n",
    "  Then inv * p = point(0, √2/2, -√2/2)\n",
    "\n",
    "Scenario: Rotating a point around the y axis\n",
    "  Given p ← point(0, 0, 1)\n",
    "    And half_quarter ← rotation_y(π / 4)\n",
    "    And full_quarter ← rotation_y(π / 2)\n",
    "  Then half_quarter * p = point(√2/2, 0, √2/2)\n",
    "    And full_quarter * p = point(1, 0, 0)\n",
    "\n",
    "Scenario: Rotating a point around the z axis\n",
    "  Given p ← point(0, 1, 0)\n",
    "    And half_quarter ← rotation_z(π / 4)\n",
    "    And full_quarter ← rotation_z(π / 2)\n",
    "  Then half_quarter * p = point(-√2/2, √2/2, 0)\n",
    "    And full_quarter * p = point(-1, 0, 0)\n",
    "```"
   ]
  },
  {
   "cell_type": "code",
   "execution_count": 28,
   "metadata": {},
   "outputs": [
    {
     "data": {
      "text/html": [
       "<span style=\"white-space:pre; font-family: monospace\">0 0.707107 0.707107 1\n",
       "</span>"
      ]
     },
     "execution_count": 28,
     "metadata": {},
     "output_type": "execute_result"
    },
    {
     "data": {
      "text/html": [
       "<span style=\"white-space:pre; font-family: monospace\">┌───┐\n",
       "│Yes│\n",
       "└───┘\n",
       "</span>"
      ]
     },
     "execution_count": 28,
     "metadata": {},
     "output_type": "execute_result"
    },
    {
     "data": {
      "text/html": [
       "<span style=\"white-space:pre; font-family: monospace\">0 6.12323E¯17 1 1\n",
       "</span>"
      ]
     },
     "execution_count": 28,
     "metadata": {},
     "output_type": "execute_result"
    },
    {
     "data": {
      "text/html": [
       "<span style=\"white-space:pre; font-family: monospace\">┌───┐\n",
       "│Yes│\n",
       "└───┘\n",
       "</span>"
      ]
     },
     "execution_count": 28,
     "metadata": {},
     "output_type": "execute_result"
    },
    {
     "data": {
      "text/html": [
       "<span style=\"white-space:pre; font-family: monospace\">0 0.707107 ¯0.707107 1\n",
       "</span>"
      ]
     },
     "execution_count": 28,
     "metadata": {},
     "output_type": "execute_result"
    },
    {
     "data": {
      "text/html": [
       "<span style=\"white-space:pre; font-family: monospace\">0 0.707107 ¯0.707107 1\n",
       "</span>"
      ]
     },
     "execution_count": 28,
     "metadata": {},
     "output_type": "execute_result"
    },
    {
     "data": {
      "text/html": [
       "<span style=\"white-space:pre; font-family: monospace\">┌───┐\n",
       "│Yes│\n",
       "└───┘\n",
       "</span>"
      ]
     },
     "execution_count": 28,
     "metadata": {},
     "output_type": "execute_result"
    },
    {
     "data": {
      "text/html": [
       "<span style=\"white-space:pre; font-family: monospace\">0.707107 0 0.707107 1\n",
       "</span>"
      ]
     },
     "execution_count": 28,
     "metadata": {},
     "output_type": "execute_result"
    },
    {
     "data": {
      "text/html": [
       "<span style=\"white-space:pre; font-family: monospace\">┌───┐\n",
       "│Yes│\n",
       "└───┘\n",
       "</span>"
      ]
     },
     "execution_count": 28,
     "metadata": {},
     "output_type": "execute_result"
    },
    {
     "data": {
      "text/html": [
       "<span style=\"white-space:pre; font-family: monospace\">1 0 6.12323E¯17 1\n",
       "</span>"
      ]
     },
     "execution_count": 28,
     "metadata": {},
     "output_type": "execute_result"
    },
    {
     "data": {
      "text/html": [
       "<span style=\"white-space:pre; font-family: monospace\">┌───┐\n",
       "│Yes│\n",
       "└───┘\n",
       "</span>"
      ]
     },
     "execution_count": 28,
     "metadata": {},
     "output_type": "execute_result"
    },
    {
     "data": {
      "text/html": [
       "<span style=\"white-space:pre; font-family: monospace\">¯0.707107 0.707107 0 1\n",
       "</span>"
      ]
     },
     "execution_count": 28,
     "metadata": {},
     "output_type": "execute_result"
    },
    {
     "data": {
      "text/html": [
       "<span style=\"white-space:pre; font-family: monospace\">┌───┐\n",
       "│Yes│\n",
       "└───┘\n",
       "</span>"
      ]
     },
     "execution_count": 28,
     "metadata": {},
     "output_type": "execute_result"
    },
    {
     "data": {
      "text/html": [
       "<span style=\"white-space:pre; font-family: monospace\">¯1 6.12323E¯17 0 1\n",
       "</span>"
      ]
     },
     "execution_count": 28,
     "metadata": {},
     "output_type": "execute_result"
    },
    {
     "data": {
      "text/html": [
       "<span style=\"white-space:pre; font-family: monospace\">┌───┐\n",
       "│Yes│\n",
       "└───┘\n",
       "</span>"
      ]
     },
     "execution_count": 28,
     "metadata": {},
     "output_type": "execute_result"
    }
   ],
   "source": [
    "⍝ Rotating a point around the x axis\n",
    "p← point 0 1 0\n",
    "hq← rotation_x ○ 0.25\n",
    "fq← rotation_x ○ 0.5\n",
    "hq +.× p\n",
    "(point 0 (0.5×2*0.5) (0.5×2*0.5)) yesno hq +.× p\n",
    "fq +.× p\n",
    "(point 0 0 1) yesno round0 fq +.× p\n",
    "⍝ The inverse of an x-rotation rotates in the opposite direction\n",
    "p← point 0 1 0\n",
    "hq← rotation_x ○ 0.25\n",
    "inv← ⌹hq\n",
    "inv +.× p\n",
    "p⌹hq       ⍝ Equivalent to above\n",
    "(point 0 (0.5×2*0.5) (¯0.5×2*0.5)) yesno inv +.× p\n",
    "⍝ Rotating a point around the y axis\n",
    "p← point 0 0 1\n",
    "hq← rotation_y ○ 0.25\n",
    "fq← rotation_y ○ 0.5\n",
    "hq +.× p\n",
    "(point (0.5×2*0.5) 0 (0.5×2*0.5)) yesno hq +.× p\n",
    "fq +.× p\n",
    "(point 1 0 0) yesno round0 fq +.× p\n",
    "⍝ Rotating a point around the z axis\n",
    "p← point 0 1 0\n",
    "hq← rotation_z ○ 0.25\n",
    "fq← rotation_z ○ 0.5\n",
    "hq +.× p\n",
    "(point (¯0.5×2*0.5) (0.5×2*0.5) 0) yesno hq +.× p\n",
    "fq +.× p\n",
    "(point ¯1 0 0) yesno round0 fq +.× p"
   ]
  },
  {
   "cell_type": "markdown",
   "metadata": {},
   "source": [
    "```\n",
    "Scenario: A shearing transformation moves x in proportion to y\n",
    "  Given transform ← shearing(1, 0, 0, 0, 0, 0)\n",
    "    And p ← point(2, 3, 4)\n",
    "  Then transform * p = point(5, 3, 4)\n",
    "\n",
    "Scenario: A shearing transformation moves x in proportion to z\n",
    "  Given transform ← shearing(0, 1, 0, 0, 0, 0)\n",
    "    And p ← point(2, 3, 4)\n",
    "  Then transform * p = point(6, 3, 4)\n",
    "\n",
    "Scenario: A shearing transformation moves y in proportion to x\n",
    "  Given transform ← shearing(0, 0, 1, 0, 0, 0)\n",
    "    And p ← point(2, 3, 4)\n",
    "  Then transform * p = point(2, 5, 4)\n",
    "\n",
    "Scenario: A shearing transformation moves y in proportion to z\n",
    "  Given transform ← shearing(0, 0, 0, 1, 0, 0)\n",
    "    And p ← point(2, 3, 4)\n",
    "  Then transform * p = point(2, 7, 4)\n",
    "\n",
    "Scenario: A shearing transformation moves z in proportion to x\n",
    "  Given transform ← shearing(0, 0, 0, 0, 1, 0)\n",
    "    And p ← point(2, 3, 4)\n",
    "  Then transform * p = point(2, 3, 6)\n",
    "\n",
    "Scenario: A shearing transformation moves z in proportion to y\n",
    "  Given transform ← shearing(0, 0, 0, 0, 0, 1)\n",
    "    And p ← point(2, 3, 4)\n",
    "  Then transform * p = point(2, 3, 7)\n",
    "```"
   ]
  },
  {
   "cell_type": "code",
   "execution_count": 29,
   "metadata": {},
   "outputs": [
    {
     "data": {
      "text/html": [
       "<span style=\"white-space:pre; font-family: monospace\">1 2 0 0\n",
       "0 1 0 0\n",
       "0 0 1 0\n",
       "0 0 0 1\n",
       "</span>"
      ]
     },
     "execution_count": 29,
     "metadata": {},
     "output_type": "execute_result"
    },
    {
     "data": {
      "text/html": [
       "<span style=\"white-space:pre; font-family: monospace\">┌───┐\n",
       "│Yes│\n",
       "└───┘\n",
       "</span>"
      ]
     },
     "execution_count": 29,
     "metadata": {},
     "output_type": "execute_result"
    },
    {
     "data": {
      "text/html": [
       "<span style=\"white-space:pre; font-family: monospace\">1 0 2 0\n",
       "0 1 0 0\n",
       "0 0 1 0\n",
       "0 0 0 1\n",
       "</span>"
      ]
     },
     "execution_count": 29,
     "metadata": {},
     "output_type": "execute_result"
    },
    {
     "data": {
      "text/html": [
       "<span style=\"white-space:pre; font-family: monospace\">┌───┐\n",
       "│Yes│\n",
       "└───┘\n",
       "</span>"
      ]
     },
     "execution_count": 29,
     "metadata": {},
     "output_type": "execute_result"
    },
    {
     "data": {
      "text/html": [
       "<span style=\"white-space:pre; font-family: monospace\">1 0 0 0\n",
       "2 1 0 0\n",
       "0 0 1 0\n",
       "0 0 0 1\n",
       "</span>"
      ]
     },
     "execution_count": 29,
     "metadata": {},
     "output_type": "execute_result"
    },
    {
     "data": {
      "text/html": [
       "<span style=\"white-space:pre; font-family: monospace\">┌───┐\n",
       "│Yes│\n",
       "└───┘\n",
       "</span>"
      ]
     },
     "execution_count": 29,
     "metadata": {},
     "output_type": "execute_result"
    },
    {
     "data": {
      "text/html": [
       "<span style=\"white-space:pre; font-family: monospace\">1 0 0 0\n",
       "0 1 2 0\n",
       "0 0 1 0\n",
       "0 0 0 1\n",
       "</span>"
      ]
     },
     "execution_count": 29,
     "metadata": {},
     "output_type": "execute_result"
    },
    {
     "data": {
      "text/html": [
       "<span style=\"white-space:pre; font-family: monospace\">┌───┐\n",
       "│Yes│\n",
       "└───┘\n",
       "</span>"
      ]
     },
     "execution_count": 29,
     "metadata": {},
     "output_type": "execute_result"
    },
    {
     "data": {
      "text/html": [
       "<span style=\"white-space:pre; font-family: monospace\">1 0 0 0\n",
       "0 1 0 0\n",
       "2 0 1 0\n",
       "0 0 0 1\n",
       "</span>"
      ]
     },
     "execution_count": 29,
     "metadata": {},
     "output_type": "execute_result"
    },
    {
     "data": {
      "text/html": [
       "<span style=\"white-space:pre; font-family: monospace\">┌───┐\n",
       "│Yes│\n",
       "└───┘\n",
       "</span>"
      ]
     },
     "execution_count": 29,
     "metadata": {},
     "output_type": "execute_result"
    },
    {
     "data": {
      "text/html": [
       "<span style=\"white-space:pre; font-family: monospace\">1 0 0 0\n",
       "0 1 0 0\n",
       "0 2 1 0\n",
       "0 0 0 1\n",
       "</span>"
      ]
     },
     "execution_count": 29,
     "metadata": {},
     "output_type": "execute_result"
    },
    {
     "data": {
      "text/html": [
       "<span style=\"white-space:pre; font-family: monospace\">┌───┐\n",
       "│Yes│\n",
       "└───┘\n",
       "</span>"
      ]
     },
     "execution_count": 29,
     "metadata": {},
     "output_type": "execute_result"
    }
   ],
   "source": [
    "⍝ A shearing transformation moves x in proportion to y\n",
    "t← shearing 1 0 0 0 0 0\n",
    "p← point 2 3 4\n",
    "t +.× t\n",
    "(point 5 3 4) yesno t +.× p\n",
    "⍝ A shearing transformation moves x in proportion to z\n",
    "t← shearing 0 1 0 0 0 0\n",
    "p← point 2 3 4\n",
    "t +.× t\n",
    "(point 6 3 4) yesno t +.× p\n",
    "⍝ A shearing transformation moves y in proportion to x\n",
    "t← shearing 0 0 1 0 0 0\n",
    "p← point 2 3 4\n",
    "t +.× t\n",
    "(point 2 5 4) yesno t +.× p\n",
    "⍝ A shearing transformation moves y in proportion to z\n",
    "t← shearing 0 0 0 1 0 0\n",
    "p← point 2 3 4\n",
    "t +.× t\n",
    "(point 2 7 4) yesno t +.× p\n",
    "⍝ A shearing transformation moves z in proportion to x\n",
    "t← shearing 0 0 0 0 1 0\n",
    "p← point 2 3 4\n",
    "t +.× t\n",
    "(point 2 3 6) yesno t +.× p\n",
    "⍝ A shearing transformation moves z in proportion to y\n",
    "t← shearing 0 0 0 0 0 1\n",
    "p← point 2 3 4\n",
    "t +.× t\n",
    "(point 2 3 7) yesno t +.× p"
   ]
  },
  {
   "cell_type": "markdown",
   "metadata": {},
   "source": [
    "```\n",
    "Scenario: Individual transformations are applied in sequence\n",
    "  Given p ← point(1, 0, 1)\n",
    "    And A ← rotation_x(π / 2)\n",
    "    And B ← scaling(5, 5, 5)\n",
    "    And C ← translation(10, 5, 7)\n",
    "  # apply rotation first\n",
    "  When p2 ← A * p\n",
    "  Then p2 = point(1, -1, 0)\n",
    "  # then apply scaling\n",
    "  When p3 ← B * p2\n",
    "  Then p3 = point(5, -5, 0)\n",
    "  # then apply translation\n",
    "  When p4 ← C * p3\n",
    "  Then p4 = point(15, 0, 7)\n",
    "\n",
    "Scenario: Chained transformations must be applied in reverse order\n",
    "  Given p ← point(1, 0, 1)\n",
    "    And A ← rotation_x(π / 2)\n",
    "    And B ← scaling(5, 5, 5)\n",
    "    And C ← translation(10, 5, 7)\n",
    "  When T ← C * B * A\n",
    "  Then T * p = point(15, 0, 7)\n",
    "```"
   ]
  },
  {
   "cell_type": "code",
   "execution_count": 30,
   "metadata": {},
   "outputs": [
    {
     "data": {
      "text/html": [
       "<span style=\"white-space:pre; font-family: monospace\">1 ¯1 6.12323E¯17 1\n",
       "</span>"
      ]
     },
     "execution_count": 30,
     "metadata": {},
     "output_type": "execute_result"
    },
    {
     "data": {
      "text/html": [
       "<span style=\"white-space:pre; font-family: monospace\">┌───┐\n",
       "│Yes│\n",
       "└───┘\n",
       "</span>"
      ]
     },
     "execution_count": 30,
     "metadata": {},
     "output_type": "execute_result"
    },
    {
     "data": {
      "text/html": [
       "<span style=\"white-space:pre; font-family: monospace\">5 ¯5 3.06162E¯16 1\n",
       "</span>"
      ]
     },
     "execution_count": 30,
     "metadata": {},
     "output_type": "execute_result"
    },
    {
     "data": {
      "text/html": [
       "<span style=\"white-space:pre; font-family: monospace\">┌───┐\n",
       "│Yes│\n",
       "└───┘\n",
       "</span>"
      ]
     },
     "execution_count": 30,
     "metadata": {},
     "output_type": "execute_result"
    },
    {
     "data": {
      "text/html": [
       "<span style=\"white-space:pre; font-family: monospace\">15 0 7 1\n",
       "</span>"
      ]
     },
     "execution_count": 30,
     "metadata": {},
     "output_type": "execute_result"
    },
    {
     "data": {
      "text/html": [
       "<span style=\"white-space:pre; font-family: monospace\">┌───┐\n",
       "│Yes│\n",
       "└───┘\n",
       "</span>"
      ]
     },
     "execution_count": 30,
     "metadata": {},
     "output_type": "execute_result"
    },
    {
     "data": {
      "text/html": [
       "<span style=\"white-space:pre; font-family: monospace\">15 0 7 1\n",
       "</span>"
      ]
     },
     "execution_count": 30,
     "metadata": {},
     "output_type": "execute_result"
    },
    {
     "data": {
      "text/html": [
       "<span style=\"white-space:pre; font-family: monospace\">┌───┐\n",
       "│Yes│\n",
       "└───┘\n",
       "</span>"
      ]
     },
     "execution_count": 30,
     "metadata": {},
     "output_type": "execute_result"
    }
   ],
   "source": [
    "⍝ Individual transformations are applied in sequence\n",
    "p← point 1 0 1\n",
    "A← rotation_x ○ 0.5\n",
    "B← scaling 5 5 5\n",
    "C← translation 10 5 7\n",
    "+p2← A +.× p\n",
    "(round0 p2) yesno point 1 ¯1 0\n",
    "+p3← B +.× p2\n",
    "(round0 p3) yesno point 5 ¯5 0\n",
    "+p4← C +.× p3\n",
    "p4 yesno point 15 0 7\n",
    "⍝ Chained transformations must be applied in reverse order\n",
    "T← C +.× B +.× A\n",
    "T +.× p\n",
    "(T +.× p) yesno point 15 0 7"
   ]
  },
  {
   "cell_type": "markdown",
   "metadata": {},
   "source": [
    "# Chapter 5. Ray/Sphere Intersections\n",
    "This chapter marks the end of the basic support functions and the beginnings of an actual ray tracer. This chapter is all about casting rays and finding intersections with objects in a scene. This is also the point where PPM files are created and viewed to confirm the code is operating correctly.\n",
    "\n",
    "One thing that becomes obvious with this and the previous Chapter is that a scene is not created by scaling and translating a set of objects as one might expect. Instead, standard objects are created and then given a transformation matrix that is not applied to itself in world space, but rather to rays instead. An interesting mirror image of what one might visualize in a scene.\n",
    "\n",
    "This is also the main beginning of the author defining and redefining data structures such as Sphere and functions such as **normal_at**. I'll apply the lessons of my previous pass through the book chapters so I can reduce some of the work the authors' style imposes."
   ]
  },
  {
   "cell_type": "markdown",
   "metadata": {},
   "source": [
    "## APL Code Chapter 5\n",
    "Functions implemented in this chapter include\n",
    "* Macro **ray(origin,direction)** that returns a ray representation\n",
    "* Constant **sphere** that returns a sphere object at origin (0,0,0) with radius 1\n",
    "* Function **position(ray,t)** that returns a point at a given distance t from ray origin\n",
    "* Function **discriminant(s,r)** that returns a value to indicate whether a ray intersects a sphere\n",
    "* Function **transform(r,m)** applies the transformation matrix m to the components of ray r\n",
    "* Function **intersect(s,r)** that returns the set of intersection points between sphere s and ray r\n",
    "* Macro **intersection(t,object)** encasulates an object and a distance t\n",
    "* Function **intersections(intersection list)** yields a sorted list of intersection objects\n",
    "* Function **hit(list)** tests a list of intersections and returns the lowest positive distance or null\n",
    "\n",
    "Note that APL functions designated as \"Macros\" could easily be replaced wherever used by the code in the function body itself. The *sphere* structure will have additional attributes added over the course of this and other chapters. Knowing that there will eventually be a class of objects besides the sphere, the first element of an object mixed vector will be a tag field identifying what kind of object it is."
   ]
  },
  {
   "cell_type": "markdown",
   "metadata": {},
   "source": [
    "Pseudo-code for the various functions are as follows\n",
    "\n",
    "```\n",
    "function position(ray, t)\n",
    "  return ray.origin + ray.direction * t\n",
    "end function\n",
    "```\n",
    "The author over the course of the next few chapters will expand upon the attributes of an *intersection* until it becomes what he refers to as a *hit*.\n",
    "```\n",
    "function intersect(sphere, ray)\n",
    "  # the vector from the sphere's center, to the ray origin\n",
    "  # remember: the sphere is centered at the world origin\n",
    "  sphere_to_ray ← ray.origin - point(0, 0, 0)\n",
    "\n",
    "  a ← dot(ray.direction, ray.direction)\n",
    "  b ← 2 * dot(ray.direction, sphere_to_ray)\n",
    "  c ← dot(sphere_to_ray, sphere_to_ray) - 1\n",
    "\n",
    "  discriminant ← b² - 4 * a * c\n",
    "\n",
    "  if discriminant < 0 then\n",
    "    return ()\n",
    "  end if\n",
    "\n",
    "  t1 ← (-b - √(discriminant)) / (2 * a)\n",
    "  t2 ← (-b + √(discriminant)) / (2 * a)\n",
    "\n",
    "  return (t1, t2)\n",
    "end function\n",
    "```\n",
    "\n",
    "Typical of the author, he adds code to the beginning of the **intersect** function and makes changes to internal calculations and output as well. Rather than just a pair of distances, the result becomes a pair of object and distance pairs.\n",
    "```\n",
    "function intersect(sphere, ray)\n",
    "  ray2 ← transform(ray, inverse(sphere.transform))\n",
    "\n",
    "  # ...\n",
    "end function\n",
    "```"
   ]
  },
  {
   "cell_type": "markdown",
   "metadata": {},
   "source": [
    "## Chapter 5 Implementation\n",
    "The following functions are implemented in this chapter\n",
    "\n",
    "- *point* **ray** *vector* → ⊂point ⊂vector\n",
    "- *sphere* → (point 0 0 0) 1 identity4\n",
    "- *ray* **position** *time* → point\n",
    "- *tmatrix* **transform** *ray* → new ray\n",
    "- *sphere* **intersect** *ray* → ⍬ | intersection intersection\n",
    "- *object* **intersection** *distance* → ⊂object, distance\n",
    "- **intersections** *intersection* ... *intersection* → sorted intersection list\n",
    "- **hit** *intersection list* → intersection | ⍬\n",
    "\n",
    "Data structures for objects are also important at this point in development. A **ray** object for example will be a two element mixed vector where the first element is the origin (*point*) and the second element is the direction (*vector*). A **sphere** object will also be a mixed vector. It will consist of just the spheres' tag and transform matrix for the moment. Origin and radius are assumed to be (0,0,0) and 1 respectively by the book when creating a sphere.\n",
    "\n",
    "An **intersection** is a mixed array that encapsulates a general object (*sphere* for now) and a distance t (numeric). The **intersections** function creates a mixed array of **intersection** objects whose length is the number of **intersection** objects it contains. It looks as though the **intersections** function will be used in Chapter 11, Reflection and Refraction. For now I'll implement the function and optimize it away later if not needed.\n",
    "\n",
    "When dealing with **intersections**, the book defines the *Intersect* function as returning the distance from the ray origin to the **intersection** point, then later in the chapter redefines it as a structure containing the object that was hit and the distance value. This function and the Sphere data structure illustrates the value of implementing all of the test cases ***first** before writing code*. That way you don't go back and make changes within the same chapter. The author will still force you to do so in later chapters.\n",
    "\n",
    "The **hit** function would return the first element of a sorted intersection list from the **intersections** function or, if the intersections function is not used, it will sort and return the first non-negative distance intersection."
   ]
  },
  {
   "cell_type": "markdown",
   "metadata": {},
   "source": [
    "## Chapter 5 Test Cases"
   ]
  },
  {
   "cell_type": "markdown",
   "metadata": {},
   "source": [
    "```\n",
    "Scenario: Creating and querying a ray\n",
    "  Given origin ← point(1, 2, 3)\n",
    "    And direction ← vector(4, 5, 6)\n",
    "  When r ← ray(origin, direction)\n",
    "  Then r.origin = origin\n",
    "    And r.direction = direction\n",
    "\n",
    "Scenario: Computing a point from a distance\n",
    "  Given r ← ray(point(2, 3, 4), vector(1, 0, 0))\n",
    "  Then position(r, 0) = point(2, 3, 4)\n",
    "    And position(r, 1) = point(3, 3, 4)\n",
    "    And position(r, -1) = point(1, 3, 4)\n",
    "    And position(r, 2.5) = point(4.5, 3, 4)\n",
    "```"
   ]
  },
  {
   "cell_type": "code",
   "execution_count": 31,
   "metadata": {},
   "outputs": [
    {
     "data": {
      "text/html": [
       "<span style=\"white-space:pre; font-family: monospace\">┌───────┬───────┐\n",
       "│1 2 3 1│4 5 6 0│\n",
       "└───────┴───────┘\n",
       "</span>"
      ]
     },
     "execution_count": 31,
     "metadata": {},
     "output_type": "execute_result"
    },
    {
     "data": {
      "text/html": [
       "<span style=\"white-space:pre; font-family: monospace\">┌───┐\n",
       "│Yes│\n",
       "└───┘\n",
       "</span>"
      ]
     },
     "execution_count": 31,
     "metadata": {},
     "output_type": "execute_result"
    },
    {
     "data": {
      "text/html": [
       "<span style=\"white-space:pre; font-family: monospace\">┌───┐\n",
       "│Yes│\n",
       "└───┘\n",
       "</span>"
      ]
     },
     "execution_count": 31,
     "metadata": {},
     "output_type": "execute_result"
    },
    {
     "data": {
      "text/html": [
       "<span style=\"white-space:pre; font-family: monospace\">┌───────┬───────┐\n",
       "│2 3 4 1│1 0 0 0│\n",
       "└───────┴───────┘\n",
       "</span>"
      ]
     },
     "execution_count": 31,
     "metadata": {},
     "output_type": "execute_result"
    },
    {
     "data": {
      "text/html": [
       "<span style=\"white-space:pre; font-family: monospace\">2 3 4 1\n",
       "</span>"
      ]
     },
     "execution_count": 31,
     "metadata": {},
     "output_type": "execute_result"
    },
    {
     "data": {
      "text/html": [
       "<span style=\"white-space:pre; font-family: monospace\">┌───┐\n",
       "│Yes│\n",
       "└───┘\n",
       "</span>"
      ]
     },
     "execution_count": 31,
     "metadata": {},
     "output_type": "execute_result"
    },
    {
     "data": {
      "text/html": [
       "<span style=\"white-space:pre; font-family: monospace\">3 3 4 1\n",
       "</span>"
      ]
     },
     "execution_count": 31,
     "metadata": {},
     "output_type": "execute_result"
    },
    {
     "data": {
      "text/html": [
       "<span style=\"white-space:pre; font-family: monospace\">┌───┐\n",
       "│Yes│\n",
       "└───┘\n",
       "</span>"
      ]
     },
     "execution_count": 31,
     "metadata": {},
     "output_type": "execute_result"
    },
    {
     "data": {
      "text/html": [
       "<span style=\"white-space:pre; font-family: monospace\">1 3 4 1\n",
       "</span>"
      ]
     },
     "execution_count": 31,
     "metadata": {},
     "output_type": "execute_result"
    },
    {
     "data": {
      "text/html": [
       "<span style=\"white-space:pre; font-family: monospace\">┌───┐\n",
       "│Yes│\n",
       "└───┘\n",
       "</span>"
      ]
     },
     "execution_count": 31,
     "metadata": {},
     "output_type": "execute_result"
    },
    {
     "data": {
      "text/html": [
       "<span style=\"white-space:pre; font-family: monospace\">4.5 3 4 1\n",
       "</span>"
      ]
     },
     "execution_count": 31,
     "metadata": {},
     "output_type": "execute_result"
    },
    {
     "data": {
      "text/html": [
       "<span style=\"white-space:pre; font-family: monospace\">┌───┐\n",
       "│Yes│\n",
       "└───┘\n",
       "</span>"
      ]
     },
     "execution_count": 31,
     "metadata": {},
     "output_type": "execute_result"
    }
   ],
   "source": [
    "⍝ Creating and querying a ray\n",
    "origin← point 1 2 3\n",
    "direction← vector 4 5 6\n",
    "+r← origin ray direction\n",
    "(point 1 2 3) yesno ⊃r[ray_origin]\n",
    "(vector 4 5 6) yesno ⊃r[ray_direction]\n",
    "⍝ Computing a point from a distance\n",
    "+r← (point 2 3 4) ray vector 1 0 0\n",
    "r position 0\n",
    "(point 2 3 4) yesno r position 0\n",
    "r position 1\n",
    "(point 3 3 4) yesno r position 1\n",
    "r position ¯1\n",
    "(point 1 3 4) yesno r position ¯1\n",
    "r position 2.5\n",
    "(point 4.5 3 4) yesno r position 2.5\n"
   ]
  },
  {
   "cell_type": "markdown",
   "metadata": {},
   "source": [
    "```\n",
    "Scenario: A ray intersects a sphere at two points\n",
    "  Given r ← ray(point(0, 0, -5), vector(0, 0, 1))\n",
    "    And s ← sphere()\n",
    "  When xs ← intersect(s, r)\n",
    "  Then xs.count = 2\n",
    "    And xs[0] = 4.0\n",
    "    And xs[1] = 6.0\n",
    "\n",
    "Scenario: A ray intersects a sphere at a tangent\n",
    "  Given r ← ray(point(0, 1, -5), vector(0, 0, 1))\n",
    "    And s ← sphere()\n",
    "  When xs ← intersect(s, r)\n",
    "  Then xs.count = 2\n",
    "    And xs[0] = 5.0\n",
    "    And xs[1] = 5.0\n",
    "\n",
    "Scenario: A ray misses a sphere\n",
    "  Given r ← ray(point(0, 2, -5), vector(0, 0, 1))\n",
    "    And s ← sphere()\n",
    "  When xs ← intersect(s, r)\n",
    "  Then xs.count = 0\n",
    "\n",
    "Scenario: A ray originates inside a sphere\n",
    "  Given r ← ray(point(0, 0, 0), vector(0, 0, 1))\n",
    "    And s ← sphere()\n",
    "  When xs ← intersect(s, r)\n",
    "  Then xs.count = 2\n",
    "    And xs[0] = -1.0\n",
    "    And xs[1] = 1.0\n",
    "\n",
    "Scenario: A sphere is behind a ray\n",
    "  Given r ← ray(point(0, 0, 5), vector(0, 0, 1))\n",
    "    And s ← sphere()\n",
    "  When xs ← intersect(s, r)\n",
    "  Then xs.count = 2\n",
    "    And xs[0] = -6.0\n",
    "    And xs[1] = -4.0\n",
    "```"
   ]
  },
  {
   "cell_type": "code",
   "execution_count": 32,
   "metadata": {},
   "outputs": [
    {
     "data": {
      "text/html": [
       "<span style=\"white-space:pre; font-family: monospace\">┌─────────────────────────────────────────────┬─────────────────────────────────────────────┐\n",
       "│┌─────────────────────────────────────────┬─┐│┌─────────────────────────────────────────┬─┐│\n",
       "││┌─┬───────┬─────────────────────────────┐│4│││┌─┬───────┬─────────────────────────────┐│6││\n",
       "│││1│1 0 0 0│┌─────┬───┬───┬───┬───┬─┬─┬─┐││ ││││1│1 0 0 0│┌─────┬───┬───┬───┬───┬─┬─┬─┐││ ││\n",
       "│││ │0 1 0 0││1 1 1│0.1│0.9│0.9│200│0│1│0│││ ││││ │0 1 0 0││1 1 1│0.1│0.9│0.9│200│0│1│0│││ ││\n",
       "│││ │0 0 1 0│└─────┴───┴───┴───┴───┴─┴─┴─┘││ ││││ │0 0 1 0│└─────┴───┴───┴───┴───┴─┴─┴─┘││ ││\n",
       "│││ │0 0 0 1│                             ││ ││││ │0 0 0 1│                             ││ ││\n",
       "││└─┴───────┴─────────────────────────────┘│ │││└─┴───────┴─────────────────────────────┘│ ││\n",
       "│└─────────────────────────────────────────┴─┘│└─────────────────────────────────────────┴─┘│\n",
       "└─────────────────────────────────────────────┴─────────────────────────────────────────────┘\n",
       "</span>"
      ]
     },
     "execution_count": 32,
     "metadata": {},
     "output_type": "execute_result"
    },
    {
     "data": {
      "text/html": [
       "<span style=\"white-space:pre; font-family: monospace\">2\n",
       "</span>"
      ]
     },
     "execution_count": 32,
     "metadata": {},
     "output_type": "execute_result"
    },
    {
     "data": {
      "text/html": [
       "<span style=\"white-space:pre; font-family: monospace\">4 6\n",
       "</span>"
      ]
     },
     "execution_count": 32,
     "metadata": {},
     "output_type": "execute_result"
    },
    {
     "data": {
      "text/html": [
       "<span style=\"white-space:pre; font-family: monospace\">1 1\n",
       "</span>"
      ]
     },
     "execution_count": 32,
     "metadata": {},
     "output_type": "execute_result"
    },
    {
     "data": {
      "text/html": [
       "<span style=\"white-space:pre; font-family: monospace\">┌───┐\n",
       "│Yes│\n",
       "└───┘\n",
       "</span>"
      ]
     },
     "execution_count": 32,
     "metadata": {},
     "output_type": "execute_result"
    },
    {
     "data": {
      "text/html": [
       "<span style=\"white-space:pre; font-family: monospace\">4\n",
       "</span>"
      ]
     },
     "execution_count": 32,
     "metadata": {},
     "output_type": "execute_result"
    },
    {
     "data": {
      "text/html": [
       "<span style=\"white-space:pre; font-family: monospace\">┌───┐\n",
       "│Yes│\n",
       "└───┘\n",
       "</span>"
      ]
     },
     "execution_count": 32,
     "metadata": {},
     "output_type": "execute_result"
    },
    {
     "data": {
      "text/html": [
       "<span style=\"white-space:pre; font-family: monospace\">6\n",
       "</span>"
      ]
     },
     "execution_count": 32,
     "metadata": {},
     "output_type": "execute_result"
    },
    {
     "data": {
      "text/html": [
       "<span style=\"white-space:pre; font-family: monospace\">┌───┐\n",
       "│Yes│\n",
       "└───┘\n",
       "</span>"
      ]
     },
     "execution_count": 32,
     "metadata": {},
     "output_type": "execute_result"
    },
    {
     "data": {
      "text/html": [
       "<span style=\"white-space:pre; font-family: monospace\">┌─────────────────────────────────────────────┬─────────────────────────────────────────────┐\n",
       "│┌─────────────────────────────────────────┬─┐│┌─────────────────────────────────────────┬─┐│\n",
       "││┌─┬───────┬─────────────────────────────┐│5│││┌─┬───────┬─────────────────────────────┐│5││\n",
       "│││1│1 0 0 0│┌─────┬───┬───┬───┬───┬─┬─┬─┐││ ││││1│1 0 0 0│┌─────┬───┬───┬───┬───┬─┬─┬─┐││ ││\n",
       "│││ │0 1 0 0││1 1 1│0.1│0.9│0.9│200│0│1│0│││ ││││ │0 1 0 0││1 1 1│0.1│0.9│0.9│200│0│1│0│││ ││\n",
       "│││ │0 0 1 0│└─────┴───┴───┴───┴───┴─┴─┴─┘││ ││││ │0 0 1 0│└─────┴───┴───┴───┴───┴─┴─┴─┘││ ││\n",
       "│││ │0 0 0 1│                             ││ ││││ │0 0 0 1│                             ││ ││\n",
       "││└─┴───────┴─────────────────────────────┘│ │││└─┴───────┴─────────────────────────────┘│ ││\n",
       "│└─────────────────────────────────────────┴─┘│└─────────────────────────────────────────┴─┘│\n",
       "└─────────────────────────────────────────────┴─────────────────────────────────────────────┘\n",
       "</span>"
      ]
     },
     "execution_count": 32,
     "metadata": {},
     "output_type": "execute_result"
    },
    {
     "data": {
      "text/html": [
       "<span style=\"white-space:pre; font-family: monospace\">2\n",
       "</span>"
      ]
     },
     "execution_count": 32,
     "metadata": {},
     "output_type": "execute_result"
    },
    {
     "data": {
      "text/html": [
       "<span style=\"white-space:pre; font-family: monospace\">┌───┐\n",
       "│Yes│\n",
       "└───┘\n",
       "</span>"
      ]
     },
     "execution_count": 32,
     "metadata": {},
     "output_type": "execute_result"
    },
    {
     "data": {
      "text/html": [
       "<span style=\"white-space:pre; font-family: monospace\">5\n",
       "</span>"
      ]
     },
     "execution_count": 32,
     "metadata": {},
     "output_type": "execute_result"
    },
    {
     "data": {
      "text/html": [
       "<span style=\"white-space:pre; font-family: monospace\">┌───┐\n",
       "│Yes│\n",
       "└───┘\n",
       "</span>"
      ]
     },
     "execution_count": 32,
     "metadata": {},
     "output_type": "execute_result"
    },
    {
     "data": {
      "text/html": [
       "<span style=\"white-space:pre; font-family: monospace\">5\n",
       "</span>"
      ]
     },
     "execution_count": 32,
     "metadata": {},
     "output_type": "execute_result"
    },
    {
     "data": {
      "text/html": [
       "<span style=\"white-space:pre; font-family: monospace\">┌───┐\n",
       "│Yes│\n",
       "└───┘\n",
       "</span>"
      ]
     },
     "execution_count": 32,
     "metadata": {},
     "output_type": "execute_result"
    },
    {
     "data": {
      "text/html": [
       "<span style=\"white-space:pre; font-family: monospace\">\n",
       "</span>"
      ]
     },
     "execution_count": 32,
     "metadata": {},
     "output_type": "execute_result"
    },
    {
     "data": {
      "text/html": [
       "<span style=\"white-space:pre; font-family: monospace\">0\n",
       "</span>"
      ]
     },
     "execution_count": 32,
     "metadata": {},
     "output_type": "execute_result"
    },
    {
     "data": {
      "text/html": [
       "<span style=\"white-space:pre; font-family: monospace\">┌───┐\n",
       "│Yes│\n",
       "└───┘\n",
       "</span>"
      ]
     },
     "execution_count": 32,
     "metadata": {},
     "output_type": "execute_result"
    },
    {
     "data": {
      "text/html": [
       "<span style=\"white-space:pre; font-family: monospace\">┌──────────────────────────────────────────────┬─────────────────────────────────────────────┐\n",
       "│┌─────────────────────────────────────────┬──┐│┌─────────────────────────────────────────┬─┐│\n",
       "││┌─┬───────┬─────────────────────────────┐│¯1│││┌─┬───────┬─────────────────────────────┐│1││\n",
       "│││1│1 0 0 0│┌─────┬───┬───┬───┬───┬─┬─┬─┐││  ││││1│1 0 0 0│┌─────┬───┬───┬───┬───┬─┬─┬─┐││ ││\n",
       "│││ │0 1 0 0││1 1 1│0.1│0.9│0.9│200│0│1│0│││  ││││ │0 1 0 0││1 1 1│0.1│0.9│0.9│200│0│1│0│││ ││\n",
       "│││ │0 0 1 0│└─────┴───┴───┴───┴───┴─┴─┴─┘││  ││││ │0 0 1 0│└─────┴───┴───┴───┴───┴─┴─┴─┘││ ││\n",
       "│││ │0 0 0 1│                             ││  ││││ │0 0 0 1│                             ││ ││\n",
       "││└─┴───────┴─────────────────────────────┘│  │││└─┴───────┴─────────────────────────────┘│ ││\n",
       "│└─────────────────────────────────────────┴──┘│└─────────────────────────────────────────┴─┘│\n",
       "└──────────────────────────────────────────────┴─────────────────────────────────────────────┘\n",
       "</span>"
      ]
     },
     "execution_count": 32,
     "metadata": {},
     "output_type": "execute_result"
    },
    {
     "data": {
      "text/html": [
       "<span style=\"white-space:pre; font-family: monospace\">2\n",
       "</span>"
      ]
     },
     "execution_count": 32,
     "metadata": {},
     "output_type": "execute_result"
    },
    {
     "data": {
      "text/html": [
       "<span style=\"white-space:pre; font-family: monospace\">┌───┐\n",
       "│Yes│\n",
       "└───┘\n",
       "</span>"
      ]
     },
     "execution_count": 32,
     "metadata": {},
     "output_type": "execute_result"
    },
    {
     "data": {
      "text/html": [
       "<span style=\"white-space:pre; font-family: monospace\">¯1\n",
       "</span>"
      ]
     },
     "execution_count": 32,
     "metadata": {},
     "output_type": "execute_result"
    },
    {
     "data": {
      "text/html": [
       "<span style=\"white-space:pre; font-family: monospace\">┌───┐\n",
       "│Yes│\n",
       "└───┘\n",
       "</span>"
      ]
     },
     "execution_count": 32,
     "metadata": {},
     "output_type": "execute_result"
    },
    {
     "data": {
      "text/html": [
       "<span style=\"white-space:pre; font-family: monospace\">1\n",
       "</span>"
      ]
     },
     "execution_count": 32,
     "metadata": {},
     "output_type": "execute_result"
    },
    {
     "data": {
      "text/html": [
       "<span style=\"white-space:pre; font-family: monospace\">┌───┐\n",
       "│Yes│\n",
       "└───┘\n",
       "</span>"
      ]
     },
     "execution_count": 32,
     "metadata": {},
     "output_type": "execute_result"
    },
    {
     "data": {
      "text/html": [
       "<span style=\"white-space:pre; font-family: monospace\">┌──────────────────────────────────────────────┬──────────────────────────────────────────────┐\n",
       "│┌─────────────────────────────────────────┬──┐│┌─────────────────────────────────────────┬──┐│\n",
       "││┌─┬───────┬─────────────────────────────┐│¯6│││┌─┬───────┬─────────────────────────────┐│¯4││\n",
       "│││1│1 0 0 0│┌─────┬───┬───┬───┬───┬─┬─┬─┐││  ││││1│1 0 0 0│┌─────┬───┬───┬───┬───┬─┬─┬─┐││  ││\n",
       "│││ │0 1 0 0││1 1 1│0.1│0.9│0.9│200│0│1│0│││  ││││ │0 1 0 0││1 1 1│0.1│0.9│0.9│200│0│1│0│││  ││\n",
       "│││ │0 0 1 0│└─────┴───┴───┴───┴───┴─┴─┴─┘││  ││││ │0 0 1 0│└─────┴───┴───┴───┴───┴─┴─┴─┘││  ││\n",
       "│││ │0 0 0 1│                             ││  ││││ │0 0 0 1│                             ││  ││\n",
       "││└─┴───────┴─────────────────────────────┘│  │││└─┴───────┴─────────────────────────────┘│  ││\n",
       "│└─────────────────────────────────────────┴──┘│└─────────────────────────────────────────┴──┘│\n",
       "└──────────────────────────────────────────────┴──────────────────────────────────────────────┘\n",
       "</span>"
      ]
     },
     "execution_count": 32,
     "metadata": {},
     "output_type": "execute_result"
    },
    {
     "data": {
      "text/html": [
       "<span style=\"white-space:pre; font-family: monospace\">2\n",
       "</span>"
      ]
     },
     "execution_count": 32,
     "metadata": {},
     "output_type": "execute_result"
    },
    {
     "data": {
      "text/html": [
       "<span style=\"white-space:pre; font-family: monospace\">┌───┐\n",
       "│Yes│\n",
       "└───┘\n",
       "</span>"
      ]
     },
     "execution_count": 32,
     "metadata": {},
     "output_type": "execute_result"
    },
    {
     "data": {
      "text/html": [
       "<span style=\"white-space:pre; font-family: monospace\">¯6\n",
       "</span>"
      ]
     },
     "execution_count": 32,
     "metadata": {},
     "output_type": "execute_result"
    },
    {
     "data": {
      "text/html": [
       "<span style=\"white-space:pre; font-family: monospace\">┌───┐\n",
       "│Yes│\n",
       "└───┘\n",
       "</span>"
      ]
     },
     "execution_count": 32,
     "metadata": {},
     "output_type": "execute_result"
    },
    {
     "data": {
      "text/html": [
       "<span style=\"white-space:pre; font-family: monospace\">¯4\n",
       "</span>"
      ]
     },
     "execution_count": 32,
     "metadata": {},
     "output_type": "execute_result"
    },
    {
     "data": {
      "text/html": [
       "<span style=\"white-space:pre; font-family: monospace\">┌───┐\n",
       "│Yes│\n",
       "└───┘\n",
       "</span>"
      ]
     },
     "execution_count": 32,
     "metadata": {},
     "output_type": "execute_result"
    }
   ],
   "source": [
    "⍝ A ray intersects a sphere at two points\n",
    "r← (point 0 0 ¯5) ray vector 0 0 1\n",
    "s← sphere\n",
    "+xs← s intersect r\n",
    "≢xs\n",
    "2⌷¨xs\n",
    "0≤2⌷¨xs\n",
    "2 yesno ≢xs\n",
    "1↓⊃xs[1]\n",
    "4 yesno ⊃1↓⊃xs[1]\n",
    "1↓⊃xs[2]\n",
    "6 yesno ⊃1↓⊃xs[2]\n",
    "⍝ A ray intersects a sphere at a tangent\n",
    "r← (point 0 1 ¯5) ray vector 0 0 1\n",
    "+xs← s intersect r\n",
    "≢xs\n",
    "2 yesno ≢xs\n",
    "1↓⊃xs[1]\n",
    "5 yesno ⊃1↓⊃xs[1]\n",
    "1↓⊃xs[2]\n",
    "5 yesno ⊃1↓⊃xs[2]\n",
    "⍝ A ray misses a sphere\n",
    "r← (point 0 2 ¯5) ray vector 0 0 1\n",
    "+xs← s intersect r\n",
    "≢xs\n",
    "0 yesno ≢xs\n",
    "⍝ A ray originates inside a sphere\n",
    "r← (point 0 0 0) ray vector 0 0 1\n",
    "+xs← s intersect r\n",
    "≢xs\n",
    "2 yesno ≢xs\n",
    "1↓⊃xs[1]\n",
    "¯1 yesno ⊃1↓⊃xs[1]\n",
    "1↓⊃xs[2]\n",
    "1 yesno ⊃1↓⊃xs[2]\n",
    "⍝ A sphere is behind a ray\n",
    "r← (point 0 0 5) ray vector 0 0 1\n",
    "+xs← s intersect r\n",
    "≢xs\n",
    "2 yesno ≢xs\n",
    "1↓⊃xs[1]\n",
    "¯6 yesno ⊃1↓⊃xs[1]\n",
    "1↓⊃xs[2]\n",
    "¯4 yesno ⊃1↓⊃xs[2]\n"
   ]
  },
  {
   "cell_type": "markdown",
   "metadata": {},
   "source": [
    "```\n",
    "Scenario: An intersection encapsulates t and object\n",
    "  Given s ← sphere()\n",
    "  When i ← intersection(3.5, s)\n",
    "  Then i.t = 3.5\n",
    "    And i.object = s\n",
    "\n",
    "Scenario: Aggregating intersections\n",
    "  Given s ← sphere()\n",
    "    And i1 ← intersection(1, s)\n",
    "    And i2 ← intersection(2, s)\n",
    "  When xs ← intersections(i1, i2)\n",
    "  Then xs.count = 2\n",
    "    And xs[0].t = 1\n",
    "    And xs[1].t = 2\n",
    "\n",
    "Scenario: Intersect sets the object on the intersection\n",
    "  Given r ← ray(point(0, 0, -5), vector(0, 0, 1))\n",
    "    And s ← sphere()\n",
    "  When xs ← intersect(s, r)\n",
    "  Then xs.count = 2\n",
    "    And xs[0].object = s\n",
    "    And xs[1].object = s\n",
    "```"
   ]
  },
  {
   "cell_type": "code",
   "execution_count": 33,
   "metadata": {},
   "outputs": [
    {
     "data": {
      "text/html": [
       "<span style=\"white-space:pre; font-family: monospace\">┌─────────────────────────────────────────┬───┐\n",
       "│┌─┬───────┬─────────────────────────────┐│3.5│\n",
       "││1│1 0 0 0│┌─────┬───┬───┬───┬───┬─┬─┬─┐││   │\n",
       "││ │0 1 0 0││1 1 1│0.1│0.9│0.9│200│0│1│0│││   │\n",
       "││ │0 0 1 0│└─────┴───┴───┴───┴───┴─┴─┴─┘││   │\n",
       "││ │0 0 0 1│                             ││   │\n",
       "│└─┴───────┴─────────────────────────────┘│   │\n",
       "└─────────────────────────────────────────┴───┘\n",
       "</span>"
      ]
     },
     "execution_count": 33,
     "metadata": {},
     "output_type": "execute_result"
    },
    {
     "data": {
      "text/html": [
       "<span style=\"white-space:pre; font-family: monospace\">┌───┐\n",
       "│Yes│\n",
       "└───┘\n",
       "</span>"
      ]
     },
     "execution_count": 33,
     "metadata": {},
     "output_type": "execute_result"
    },
    {
     "data": {
      "text/html": [
       "<span style=\"white-space:pre; font-family: monospace\">┌───┐\n",
       "│Yes│\n",
       "└───┘\n",
       "</span>"
      ]
     },
     "execution_count": 33,
     "metadata": {},
     "output_type": "execute_result"
    },
    {
     "data": {
      "text/html": [
       "<span style=\"white-space:pre; font-family: monospace\">┌─────────────────────────────────────────────┬─────────────────────────────────────────────┐\n",
       "│┌─────────────────────────────────────────┬─┐│┌─────────────────────────────────────────┬─┐│\n",
       "││┌─┬───────┬─────────────────────────────┐│1│││┌─┬───────┬─────────────────────────────┐│2││\n",
       "│││1│1 0 0 0│┌─────┬───┬───┬───┬───┬─┬─┬─┐││ ││││1│1 0 0 0│┌─────┬───┬───┬───┬───┬─┬─┬─┐││ ││\n",
       "│││ │0 1 0 0││1 1 1│0.1│0.9│0.9│200│0│1│0│││ ││││ │0 1 0 0││1 1 1│0.1│0.9│0.9│200│0│1│0│││ ││\n",
       "│││ │0 0 1 0│└─────┴───┴───┴───┴───┴─┴─┴─┘││ ││││ │0 0 1 0│└─────┴───┴───┴───┴───┴─┴─┴─┘││ ││\n",
       "│││ │0 0 0 1│                             ││ ││││ │0 0 0 1│                             ││ ││\n",
       "││└─┴───────┴─────────────────────────────┘│ │││└─┴───────┴─────────────────────────────┘│ ││\n",
       "│└─────────────────────────────────────────┴─┘│└─────────────────────────────────────────┴─┘│\n",
       "└─────────────────────────────────────────────┴─────────────────────────────────────────────┘\n",
       "</span>"
      ]
     },
     "execution_count": 33,
     "metadata": {},
     "output_type": "execute_result"
    },
    {
     "data": {
      "text/html": [
       "<span style=\"white-space:pre; font-family: monospace\">2\n",
       "</span>"
      ]
     },
     "execution_count": 33,
     "metadata": {},
     "output_type": "execute_result"
    },
    {
     "data": {
      "text/html": [
       "<span style=\"white-space:pre; font-family: monospace\">┌───┐\n",
       "│Yes│\n",
       "└───┘\n",
       "</span>"
      ]
     },
     "execution_count": 33,
     "metadata": {},
     "output_type": "execute_result"
    },
    {
     "data": {
      "text/html": [
       "<span style=\"white-space:pre; font-family: monospace\">1\n",
       "</span>"
      ]
     },
     "execution_count": 33,
     "metadata": {},
     "output_type": "execute_result"
    },
    {
     "data": {
      "text/html": [
       "<span style=\"white-space:pre; font-family: monospace\">┌───┐\n",
       "│Yes│\n",
       "└───┘\n",
       "</span>"
      ]
     },
     "execution_count": 33,
     "metadata": {},
     "output_type": "execute_result"
    },
    {
     "data": {
      "text/html": [
       "<span style=\"white-space:pre; font-family: monospace\">2\n",
       "</span>"
      ]
     },
     "execution_count": 33,
     "metadata": {},
     "output_type": "execute_result"
    },
    {
     "data": {
      "text/html": [
       "<span style=\"white-space:pre; font-family: monospace\">┌───┐\n",
       "│Yes│\n",
       "└───┘\n",
       "</span>"
      ]
     },
     "execution_count": 33,
     "metadata": {},
     "output_type": "execute_result"
    },
    {
     "data": {
      "text/html": [
       "<span style=\"white-space:pre; font-family: monospace\">2\n",
       "</span>"
      ]
     },
     "execution_count": 33,
     "metadata": {},
     "output_type": "execute_result"
    },
    {
     "data": {
      "text/html": [
       "<span style=\"white-space:pre; font-family: monospace\">┌───┐\n",
       "│Yes│\n",
       "└───┘\n",
       "</span>"
      ]
     },
     "execution_count": 33,
     "metadata": {},
     "output_type": "execute_result"
    },
    {
     "data": {
      "text/html": [
       "<span style=\"white-space:pre; font-family: monospace\">┌─────────────────────────────────────────┬─┐\n",
       "│┌─┬───────┬─────────────────────────────┐│4│\n",
       "││1│1 0 0 0│┌─────┬───┬───┬───┬───┬─┬─┬─┐││ │\n",
       "││ │0 1 0 0││1 1 1│0.1│0.9│0.9│200│0│1│0│││ │\n",
       "││ │0 0 1 0│└─────┴───┴───┴───┴───┴─┴─┴─┘││ │\n",
       "││ │0 0 0 1│                             ││ │\n",
       "│└─┴───────┴─────────────────────────────┘│ │\n",
       "└─────────────────────────────────────────┴─┘\n",
       "</span>"
      ]
     },
     "execution_count": 33,
     "metadata": {},
     "output_type": "execute_result"
    },
    {
     "data": {
      "text/html": [
       "<span style=\"white-space:pre; font-family: monospace\">┌───┐\n",
       "│Yes│\n",
       "└───┘\n",
       "</span>"
      ]
     },
     "execution_count": 33,
     "metadata": {},
     "output_type": "execute_result"
    },
    {
     "data": {
      "text/html": [
       "<span style=\"white-space:pre; font-family: monospace\">┌─────────────────────────────────────────┬─┐\n",
       "│┌─┬───────┬─────────────────────────────┐│6│\n",
       "││1│1 0 0 0│┌─────┬───┬───┬───┬───┬─┬─┬─┐││ │\n",
       "││ │0 1 0 0││1 1 1│0.1│0.9│0.9│200│0│1│0│││ │\n",
       "││ │0 0 1 0│└─────┴───┴───┴───┴───┴─┴─┴─┘││ │\n",
       "││ │0 0 0 1│                             ││ │\n",
       "│└─┴───────┴─────────────────────────────┘│ │\n",
       "└─────────────────────────────────────────┴─┘\n",
       "</span>"
      ]
     },
     "execution_count": 33,
     "metadata": {},
     "output_type": "execute_result"
    },
    {
     "data": {
      "text/html": [
       "<span style=\"white-space:pre; font-family: monospace\">┌───┐\n",
       "│Yes│\n",
       "└───┘\n",
       "</span>"
      ]
     },
     "execution_count": 33,
     "metadata": {},
     "output_type": "execute_result"
    }
   ],
   "source": [
    "⍝ An intersection encapsulates t and object\n",
    "s← sphere\n",
    "+i← s intersection 3.5\n",
    "s yesno ⊃i[hit_object]\n",
    "3.5 yesno i[hit_distance]\n",
    "⍝ Aggregating intersections\n",
    "i1← s intersection 1\n",
    "i2← s intersection 2\n",
    "+xs← intersections i1 i2\n",
    "≢xs\n",
    "2 yesno ≢xs\n",
    "hit_distance⌷⊃xs[1]\n",
    "1 yesno ⊃hit_distance⌷⊃xs[1]  ⍝ Double indexing\n",
    "hit_distance⌷⊃xs[2]\n",
    "2 yesno ⊃hit_distance⌷⊃xs[2]\n",
    "⍝ Intersect sets the object on the intersection\n",
    "r← (point 0 0 ¯5) ray vector 0 0 1\n",
    "xs← s intersect r\n",
    "≢xs\n",
    "2 yesno ≢xs\n",
    "⊃xs[1]\n",
    "s yesno ⊃⊃xs[1]\n",
    "⊃xs[2]\n",
    "s yesno ⊃⊃xs[2]"
   ]
  },
  {
   "cell_type": "markdown",
   "metadata": {},
   "source": [
    "```\n",
    "Scenario: The hit, when all intersections have positive t\n",
    "  Given s ← sphere()\n",
    "    And i1 ← intersection(1, s)\n",
    "    And i2 ← intersection(2, s)\n",
    "    And xs ← intersections(i2, i1)\n",
    "  When i ← hit(xs)\n",
    "  Then i = i1\n",
    "\n",
    "Scenario: The hit, when some intersections have negative t\n",
    "  Given s ← sphere()\n",
    "    And i1 ← intersection(-1, s)\n",
    "    And i2 ← intersection(1, s)\n",
    "    And xs ← intersections(i2, i1)\n",
    "  When i ← hit(xs)\n",
    "  Then i = i2\n",
    "\n",
    "Scenario: The hit, when all intersections have negative t\n",
    "  Given s ← sphere()\n",
    "    And i1 ← intersection(-2, s)\n",
    "    And i2 ← intersection(-1, s)\n",
    "    And xs ← intersections(i2, i1)\n",
    "  When i ← hit(xs)\n",
    "  Then i is nothing\n",
    "\n",
    "Scenario: The hit is always the lowest non-negative intersection\n",
    "  Given s ← sphere()\n",
    "  And i1 ← intersection(5, s)\n",
    "  And i2 ← intersection(7, s)\n",
    "  And i3 ← intersection(-3, s)\n",
    "  And i4 ← intersection(2, s)\n",
    "  And xs ← intersections(i1, i2, i3, i4)\n",
    "When i ← hit(xs)\n",
    "Then i = i4\n",
    "```"
   ]
  },
  {
   "cell_type": "code",
   "execution_count": 34,
   "metadata": {},
   "outputs": [
    {
     "data": {
      "text/html": [
       "<span style=\"white-space:pre; font-family: monospace\">┌─────────────────────────────────────────┬─┐\n",
       "│┌─┬───────┬─────────────────────────────┐│1│\n",
       "││1│1 0 0 0│┌─────┬───┬───┬───┬───┬─┬─┬─┐││ │\n",
       "││ │0 1 0 0││1 1 1│0.1│0.9│0.9│200│0│1│0│││ │\n",
       "││ │0 0 1 0│└─────┴───┴───┴───┴───┴─┴─┴─┘││ │\n",
       "││ │0 0 0 1│                             ││ │\n",
       "│└─┴───────┴─────────────────────────────┘│ │\n",
       "└─────────────────────────────────────────┴─┘\n",
       "</span>"
      ]
     },
     "execution_count": 34,
     "metadata": {},
     "output_type": "execute_result"
    },
    {
     "data": {
      "text/html": [
       "<span style=\"white-space:pre; font-family: monospace\">┌───┐\n",
       "│Yes│\n",
       "└───┘\n",
       "</span>"
      ]
     },
     "execution_count": 34,
     "metadata": {},
     "output_type": "execute_result"
    },
    {
     "data": {
      "text/html": [
       "<span style=\"white-space:pre; font-family: monospace\">┌─────────────────────────────────────────┬─┐\n",
       "│┌─┬───────┬─────────────────────────────┐│1│\n",
       "││1│1 0 0 0│┌─────┬───┬───┬───┬───┬─┬─┬─┐││ │\n",
       "││ │0 1 0 0││1 1 1│0.1│0.9│0.9│200│0│1│0│││ │\n",
       "││ │0 0 1 0│└─────┴───┴───┴───┴───┴─┴─┴─┘││ │\n",
       "││ │0 0 0 1│                             ││ │\n",
       "│└─┴───────┴─────────────────────────────┘│ │\n",
       "└─────────────────────────────────────────┴─┘\n",
       "</span>"
      ]
     },
     "execution_count": 34,
     "metadata": {},
     "output_type": "execute_result"
    },
    {
     "data": {
      "text/html": [
       "<span style=\"white-space:pre; font-family: monospace\">┌───┐\n",
       "│Yes│\n",
       "└───┘\n",
       "</span>"
      ]
     },
     "execution_count": 34,
     "metadata": {},
     "output_type": "execute_result"
    },
    {
     "data": {
      "text/html": [
       "<span style=\"white-space:pre; font-family: monospace\">\n",
       "</span>"
      ]
     },
     "execution_count": 34,
     "metadata": {},
     "output_type": "execute_result"
    },
    {
     "data": {
      "text/html": [
       "<span style=\"white-space:pre; font-family: monospace\">┌───┐\n",
       "│Yes│\n",
       "└───┘\n",
       "</span>"
      ]
     },
     "execution_count": 34,
     "metadata": {},
     "output_type": "execute_result"
    },
    {
     "data": {
      "text/html": [
       "<span style=\"white-space:pre; font-family: monospace\">┌─────────────────────────────────────────┬─┐\n",
       "│┌─┬───────┬─────────────────────────────┐│2│\n",
       "││1│1 0 0 0│┌─────┬───┬───┬───┬───┬─┬─┬─┐││ │\n",
       "││ │0 1 0 0││1 1 1│0.1│0.9│0.9│200│0│1│0│││ │\n",
       "││ │0 0 1 0│└─────┴───┴───┴───┴───┴─┴─┴─┘││ │\n",
       "││ │0 0 0 1│                             ││ │\n",
       "│└─┴───────┴─────────────────────────────┘│ │\n",
       "└─────────────────────────────────────────┴─┘\n",
       "</span>"
      ]
     },
     "execution_count": 34,
     "metadata": {},
     "output_type": "execute_result"
    },
    {
     "data": {
      "text/html": [
       "<span style=\"white-space:pre; font-family: monospace\">┌───┐\n",
       "│Yes│\n",
       "└───┘\n",
       "</span>"
      ]
     },
     "execution_count": 34,
     "metadata": {},
     "output_type": "execute_result"
    }
   ],
   "source": [
    "⍝ The hit, when all intersections have positive t\n",
    "s← sphere\n",
    "i1← s intersection 1\n",
    "i2← s intersection 2\n",
    "xs← intersections i2 i1\n",
    "+i← hit xs\n",
    "i yesno i1\n",
    "⍝ The hit, when some intersections have negative t\n",
    "i1← s intersection ¯1\n",
    "i2← s intersection 1\n",
    "xs← intersections i2 i1\n",
    "+i← hit xs\n",
    "i yesno i2\n",
    "⍝ The hit, when all intersections have negative t\n",
    "i1← s intersection ¯2\n",
    "i2← s intersection ¯1\n",
    "xs← intersections i2 i1\n",
    "+i← hit xs\n",
    "i yesno ⍬\n",
    "⍝  The hit is always the lowest non-negative intersection\n",
    "i1← s intersection 5\n",
    "i2← s intersection 7\n",
    "i3← s intersection ¯3\n",
    "i4← s intersection 2\n",
    "xs← intersections i1 i2 i3 i4\n",
    "+i← hit xs\n",
    "i yesno i4"
   ]
  },
  {
   "cell_type": "markdown",
   "metadata": {},
   "source": [
    "```\n",
    "Scenario: Translating a ray\n",
    "  Given r ← ray(point(1, 2, 3), vector(0, 1, 0))\n",
    "    And m ← translation(3, 4, 5)\n",
    "  When r2 ← transform(r, m)\n",
    "  Then r2.origin = point(4, 6, 8)\n",
    "    And r2.direction = vector(0, 1, 0)\n",
    "\n",
    "Scenario: Scaling a ray\n",
    "  Given r ← ray(point(1, 2, 3), vector(0, 1, 0))\n",
    "    And m ← scaling(2, 3, 4)\n",
    "  When r2 ← transform(r, m)\n",
    "  Then r2.origin = point(2, 6, 12)\n",
    "    And r2.direction = vector(0, 3, 0)\n",
    "```"
   ]
  },
  {
   "cell_type": "code",
   "execution_count": 35,
   "metadata": {},
   "outputs": [
    {
     "data": {
      "text/html": [
       "<span style=\"white-space:pre; font-family: monospace\">┌───────┬───────┐\n",
       "│4 6 8 1│0 1 0 0│\n",
       "└───────┴───────┘\n",
       "</span>"
      ]
     },
     "execution_count": 35,
     "metadata": {},
     "output_type": "execute_result"
    },
    {
     "data": {
      "text/html": [
       "<span style=\"white-space:pre; font-family: monospace\">┌───┐\n",
       "│Yes│\n",
       "└───┘\n",
       "</span>"
      ]
     },
     "execution_count": 35,
     "metadata": {},
     "output_type": "execute_result"
    },
    {
     "data": {
      "text/html": [
       "<span style=\"white-space:pre; font-family: monospace\">┌───┐\n",
       "│Yes│\n",
       "└───┘\n",
       "</span>"
      ]
     },
     "execution_count": 35,
     "metadata": {},
     "output_type": "execute_result"
    },
    {
     "data": {
      "text/html": [
       "<span style=\"white-space:pre; font-family: monospace\">┌────────┬───────┐\n",
       "│2 6 12 1│0 3 0 0│\n",
       "└────────┴───────┘\n",
       "</span>"
      ]
     },
     "execution_count": 35,
     "metadata": {},
     "output_type": "execute_result"
    },
    {
     "data": {
      "text/html": [
       "<span style=\"white-space:pre; font-family: monospace\">┌───┐\n",
       "│Yes│\n",
       "└───┘\n",
       "</span>"
      ]
     },
     "execution_count": 35,
     "metadata": {},
     "output_type": "execute_result"
    },
    {
     "data": {
      "text/html": [
       "<span style=\"white-space:pre; font-family: monospace\">┌───┐\n",
       "│Yes│\n",
       "└───┘\n",
       "</span>"
      ]
     },
     "execution_count": 35,
     "metadata": {},
     "output_type": "execute_result"
    }
   ],
   "source": [
    "⍝ Translating a ray\n",
    "r← (point 1 2 3) ray vector 0 1 0\n",
    "m← translation 3 4 5\n",
    "+r2← m transform r\n",
    "(point 4 6 8) yesno ⊃r2[ray_origin]\n",
    "(vector 0 1 0) yesno ⊃r2[ray_direction]\n",
    "⍝ Scaling a ray\n",
    "m← scaling 2 3 4\n",
    "+r2← m transform r\n",
    "(point 2 6 12) yesno ⊃r2[ray_origin]\n",
    "(vector 0 3 0) yesno ⊃r2[ray_direction]"
   ]
  },
  {
   "cell_type": "markdown",
   "metadata": {},
   "source": [
    "```\n",
    "Scenario: A sphere's default transformation\n",
    "  Given s ← sphere()\n",
    "  Then s.transform = identity_matrix\n",
    "\n",
    "Scenario: Changing a sphere's transformation\n",
    "  Given s ← sphere()\n",
    "    And t ← translation(2, 3, 4)\n",
    "  When set_transform(s, t)\n",
    "  Then s.transform = t\n",
    "\n",
    "Scenario: Intersecting a scaled sphere with a ray\n",
    "  Given r ← ray(point(0, 0, -5), vector(0, 0, 1))\n",
    "    And s ← sphere()\n",
    "  When set_transform(s, scaling(2, 2, 2))\n",
    "    And xs ← intersect(s, r)\n",
    "  Then xs.count = 2\n",
    "    And xs[0].t = 3\n",
    "    And xs[1].t = 7\n",
    "\n",
    "Scenario: Intersecting a translated sphere with a ray\n",
    "  Given r ← ray(point(0, 0, -5), vector(0, 0, 1))\n",
    "    And s ← sphere()\n",
    "  When set_transform(s, translation(5, 0, 0))\n",
    "    And xs ← intersect(s, r)\n",
    "  Then xs.count = 0\n",
    "```"
   ]
  },
  {
   "cell_type": "code",
   "execution_count": 36,
   "metadata": {},
   "outputs": [
    {
     "data": {
      "text/html": [
       "<span style=\"white-space:pre; font-family: monospace\">┌───────┐\n",
       "│1 0 0 0│\n",
       "│0 1 0 0│\n",
       "│0 0 1 0│\n",
       "│0 0 0 1│\n",
       "└───────┘\n",
       "</span>"
      ]
     },
     "execution_count": 36,
     "metadata": {},
     "output_type": "execute_result"
    },
    {
     "data": {
      "text/html": [
       "<span style=\"white-space:pre; font-family: monospace\">┌───┐\n",
       "│Yes│\n",
       "└───┘\n",
       "</span>"
      ]
     },
     "execution_count": 36,
     "metadata": {},
     "output_type": "execute_result"
    },
    {
     "data": {
      "text/html": [
       "<span style=\"white-space:pre; font-family: monospace\">┌─┬───────┬─────────────────────────────┐\n",
       "│1│1 0 0 2│┌─────┬───┬───┬───┬───┬─┬─┬─┐│\n",
       "│ │0 1 0 3││1 1 1│0.1│0.9│0.9│200│0│1│0││\n",
       "│ │0 0 1 4│└─────┴───┴───┴───┴───┴─┴─┴─┘│\n",
       "│ │0 0 0 1│                             │\n",
       "└─┴───────┴─────────────────────────────┘\n",
       "</span>"
      ]
     },
     "execution_count": 36,
     "metadata": {},
     "output_type": "execute_result"
    },
    {
     "data": {
      "text/html": [
       "<span style=\"white-space:pre; font-family: monospace\">┌───┐\n",
       "│Yes│\n",
       "└───┘\n",
       "</span>"
      ]
     },
     "execution_count": 36,
     "metadata": {},
     "output_type": "execute_result"
    },
    {
     "data": {
      "text/html": [
       "<span style=\"white-space:pre; font-family: monospace\">┌─────────────────────────────────────────────┬─────────────────────────────────────────────┐\n",
       "│┌─────────────────────────────────────────┬─┐│┌─────────────────────────────────────────┬─┐│\n",
       "││┌─┬───────┬─────────────────────────────┐│3│││┌─┬───────┬─────────────────────────────┐│7││\n",
       "│││1│2 0 0 0│┌─────┬───┬───┬───┬───┬─┬─┬─┐││ ││││1│2 0 0 0│┌─────┬───┬───┬───┬───┬─┬─┬─┐││ ││\n",
       "│││ │0 2 0 0││1 1 1│0.1│0.9│0.9│200│0│1│0│││ ││││ │0 2 0 0││1 1 1│0.1│0.9│0.9│200│0│1│0│││ ││\n",
       "│││ │0 0 2 0│└─────┴───┴───┴───┴───┴─┴─┴─┘││ ││││ │0 0 2 0│└─────┴───┴───┴───┴───┴─┴─┴─┘││ ││\n",
       "│││ │0 0 0 1│                             ││ ││││ │0 0 0 1│                             ││ ││\n",
       "││└─┴───────┴─────────────────────────────┘│ │││└─┴───────┴─────────────────────────────┘│ ││\n",
       "│└─────────────────────────────────────────┴─┘│└─────────────────────────────────────────┴─┘│\n",
       "└─────────────────────────────────────────────┴─────────────────────────────────────────────┘\n",
       "</span>"
      ]
     },
     "execution_count": 36,
     "metadata": {},
     "output_type": "execute_result"
    },
    {
     "data": {
      "text/html": [
       "<span style=\"white-space:pre; font-family: monospace\">2\n",
       "</span>"
      ]
     },
     "execution_count": 36,
     "metadata": {},
     "output_type": "execute_result"
    },
    {
     "data": {
      "text/html": [
       "<span style=\"white-space:pre; font-family: monospace\">┌───┐\n",
       "│Yes│\n",
       "└───┘\n",
       "</span>"
      ]
     },
     "execution_count": 36,
     "metadata": {},
     "output_type": "execute_result"
    },
    {
     "data": {
      "text/html": [
       "<span style=\"white-space:pre; font-family: monospace\">┌───┐\n",
       "│Yes│\n",
       "└───┘\n",
       "</span>"
      ]
     },
     "execution_count": 36,
     "metadata": {},
     "output_type": "execute_result"
    },
    {
     "data": {
      "text/html": [
       "<span style=\"white-space:pre; font-family: monospace\">\n",
       "</span>"
      ]
     },
     "execution_count": 36,
     "metadata": {},
     "output_type": "execute_result"
    },
    {
     "data": {
      "text/html": [
       "<span style=\"white-space:pre; font-family: monospace\">┌───┐\n",
       "│Yes│\n",
       "└───┘\n",
       "</span>"
      ]
     },
     "execution_count": 36,
     "metadata": {},
     "output_type": "execute_result"
    }
   ],
   "source": [
    "⍝ A sphere's default transformation\n",
    "s← sphere\n",
    "s[obj_transform]\n",
    "identity4 yesno ⊃s[obj_transform]\n",
    "\n",
    "⍝ Changing a sphere's transformation\n",
    "t← translation 2 3 4\n",
    "s[obj_transform]← ⊂t\n",
    "s\n",
    "t yesno ⊃s[obj_transform]\n",
    "\n",
    "⍝ Intersecting a scaled sphere with a ray\n",
    "r← (point 0 0 ¯5) ray vector 0 0 1\n",
    "s← sphere\n",
    "s[obj_transform]← ⊂scaling 2 2 2\n",
    "+xs← s intersect r\n",
    "⍴xs\n",
    "3 yesno ⊃hit_distance⌷⊃xs[1]\n",
    "7 yesno ⊃hit_distance⌷⊃xs[2]\n",
    "\n",
    "⍝ Intersecting a translated sphere with a ray\n",
    "s[obj_transform]← ⊂translation 5 0 0\n",
    "+xs← s intersect r\n",
    "⍬ yesno xs"
   ]
  },
  {
   "cell_type": "markdown",
   "metadata": {},
   "source": [
    "# Chapter 6. Light and Shading\n",
    "This chapter considers lighting, material and viewpoint. In modeling a scene, a source of light is specified. A shading algorithm is used to determine how material is illuminated. An important calculation is a *surface normal* a vector that is perpendicular to a point on an objects' surface."
   ]
  },
  {
   "cell_type": "markdown",
   "metadata": {},
   "source": [
    "## APL Code Chapter 6\n",
    "The functions called for in this Chapter are\n",
    "* Function **normal_at(s, p)** returns a normal vector at point p on sphere s\n",
    "* Function **reflect(in, norm)** returns the reflected ray *in* about the normal *norm*\n",
    "* Macro **point_light(position,intensity)** returns a point light source aggregate of position & intensity\n",
    "* Constant **material** is a nested vector with default attributes for color, ambient, diffuse, specular, and shininess\n",
    "* Function **lighting(m, light, position, eyev, normalv)** returns a color based on material illuminated by lighting and eye position\n",
    "\n",
    "Note that **normal_at** is specific to a Sphere and will be renamed sphere_normal_at. The **lighting** function will take additional arguments and new internal code in later chapters."
   ]
  },
  {
   "cell_type": "markdown",
   "metadata": {},
   "source": [
    "## Chapter 6 Implementation\n",
    "The implementation and arrangement of arguments for the functions are as follows\n",
    "\n",
    "- *sphere* **normal_at** *point* → *vector*\n",
    "- *vector* **reflect** *normal* → *vector*\n",
    "- *point* **point_light** *color* → ⊂*point* ⊂*color*\n",
    "- **material** *color* → ⊂*color* *ambient diffuse specular shininess*\n",
    "- **lighting** *m light position eyev normalv* → *color*"
   ]
  },
  {
   "cell_type": "markdown",
   "metadata": {},
   "source": [
    "The pseudo-code for the reflect function is\n",
    "\n",
    "```\n",
    "function reflect(in, normal)\n",
    "  return in - normal * 2 * dot(in, normal)\n",
    "end function\n",
    "```"
   ]
  },
  {
   "cell_type": "markdown",
   "metadata": {},
   "source": [
    "The pseudo-code for normal_at is\n",
    "\n",
    "```\n",
    "function normal_at(sphere, world_point)\n",
    "  object_point ← inverse(sphere.transform) * world_point\n",
    "  object_normal ← object_point - point(0, 0, 0)\n",
    "  world_normal ← transpose(inverse(sphere.transform)) * object_normal\n",
    "  world_normal.w ← 0\n",
    "  return normalize(world_normal)\n",
    "end function\n",
    "```"
   ]
  },
  {
   "cell_type": "markdown",
   "metadata": {},
   "source": [
    "The peudo-code for lighting is\n",
    "\n",
    "```\n",
    "function lighting(material, light, point, eyev, normalv)\n",
    "  # combine the surface color with the light's color/intensity\n",
    "  effective_color ← material.color * light.intensity\n",
    "\n",
    "  # find the direction to the light source\n",
    "  lightv ← normalize(light.position - point)\n",
    "\n",
    "  # compute the ambient contribution\n",
    "  ambient ← effective_color * material.ambient\n",
    "\n",
    "  # light_dot_normal represents the cosine of the angle between the\n",
    "  # light vector and the normal vector. A negative number means the\n",
    "  # light is on the other side of the surface.\n",
    "  light_dot_normal ← dot(lightv, normalv)\n",
    "  if light_dot_normal < 0\n",
    "    diffuse ← black\n",
    "    specular ← black\n",
    "\n",
    "  else\n",
    "    # compute the diffuse contribution\n",
    "    diffuse ← effective_color * material.diffuse * light_dot_normal\n",
    "\n",
    "    # reflect_dot_eye represents the cosine of the angle between the\n",
    "    # reflection vector and the eye vector. A negative number means the\n",
    "    # light reflects away from the eye.\n",
    "    reflectv ← reflect(-lightv, normalv)\n",
    "    reflect_dot_eye ← dot(reflectv, eyev)\n",
    "\n",
    "    if reflect_dot_eye <= 0\n",
    "      specular ← black\n",
    "    else\n",
    "      # compute the specular contribution\n",
    "      factor ← pow(reflect_dot_eye, material.shininess)\n",
    "      specular ← light.intensity * material.specular * factor\n",
    "    end if\n",
    "  end if\n",
    "\n",
    "  # Add the three contributions together to get the final shading\n",
    "  return ambient + diffuse + specular\n",
    "end function\n",
    "```"
   ]
  },
  {
   "cell_type": "markdown",
   "metadata": {},
   "source": [
    "## Chapter 6 Test Cases"
   ]
  },
  {
   "cell_type": "markdown",
   "metadata": {},
   "source": [
    "```\n",
    "Scenario: The normal on a sphere at a point on the x axis\n",
    "  Given s ← sphere()\n",
    "  When n ← normal_at(s, point(1, 0, 0))\n",
    "  Then n = vector(1, 0, 0)\n",
    "\n",
    "Scenario: The normal on a sphere at a point on the y axis\n",
    "  Given s ← sphere()\n",
    "  When n ← normal_at(s, point(0, 1, 0))\n",
    "  Then n = vector(0, 1, 0)\n",
    "\n",
    "Scenario: The normal on a sphere at a point on the z axis\n",
    "  Given s ← sphere()\n",
    "  When n ← normal_at(s, point(0, 0, 1))\n",
    "  Then n = vector(0, 0, 1)\n",
    "\n",
    "Scenario: The normal on a sphere at a non-axial point\n",
    "  Given s ← sphere()\n",
    "  When n ← normal_at(s, point(√3/3, √3/3, √3/3))\n",
    "  Then n = vector(√3/3, √3/3, √3/3)\n",
    "\n",
    "Scenario: The normal is a normalized vector\n",
    "  Given s ← sphere()\n",
    "  When n ← normal_at(s, point(√3/3, √3/3, √3/3))\n",
    "  Then n = normalize(n)\n",
    "```"
   ]
  },
  {
   "cell_type": "code",
   "execution_count": 37,
   "metadata": {},
   "outputs": [
    {
     "data": {
      "text/html": [
       "<span style=\"white-space:pre; font-family: monospace\">1 0 0 0\n",
       "</span>"
      ]
     },
     "execution_count": 37,
     "metadata": {},
     "output_type": "execute_result"
    },
    {
     "data": {
      "text/html": [
       "<span style=\"white-space:pre; font-family: monospace\">┌───┐\n",
       "│Yes│\n",
       "└───┘\n",
       "</span>"
      ]
     },
     "execution_count": 37,
     "metadata": {},
     "output_type": "execute_result"
    },
    {
     "data": {
      "text/html": [
       "<span style=\"white-space:pre; font-family: monospace\">0 1 0 0\n",
       "</span>"
      ]
     },
     "execution_count": 37,
     "metadata": {},
     "output_type": "execute_result"
    },
    {
     "data": {
      "text/html": [
       "<span style=\"white-space:pre; font-family: monospace\">┌───┐\n",
       "│Yes│\n",
       "└───┘\n",
       "</span>"
      ]
     },
     "execution_count": 37,
     "metadata": {},
     "output_type": "execute_result"
    },
    {
     "data": {
      "text/html": [
       "<span style=\"white-space:pre; font-family: monospace\">0 0 1 0\n",
       "</span>"
      ]
     },
     "execution_count": 37,
     "metadata": {},
     "output_type": "execute_result"
    },
    {
     "data": {
      "text/html": [
       "<span style=\"white-space:pre; font-family: monospace\">┌───┐\n",
       "│Yes│\n",
       "└───┘\n",
       "</span>"
      ]
     },
     "execution_count": 37,
     "metadata": {},
     "output_type": "execute_result"
    },
    {
     "data": {
      "text/html": [
       "<span style=\"white-space:pre; font-family: monospace\">0.57735 0.57735 0.57735 0\n",
       "</span>"
      ]
     },
     "execution_count": 37,
     "metadata": {},
     "output_type": "execute_result"
    },
    {
     "data": {
      "text/html": [
       "<span style=\"white-space:pre; font-family: monospace\">┌───┐\n",
       "│Yes│\n",
       "└───┘\n",
       "</span>"
      ]
     },
     "execution_count": 37,
     "metadata": {},
     "output_type": "execute_result"
    },
    {
     "data": {
      "text/html": [
       "<span style=\"white-space:pre; font-family: monospace\">┌───┐\n",
       "│Yes│\n",
       "└───┘\n",
       "</span>"
      ]
     },
     "execution_count": 37,
     "metadata": {},
     "output_type": "execute_result"
    }
   ],
   "source": [
    "⍝ The normal on a sphere at a point on the x axis\n",
    "s← sphere\n",
    "+n← s normal_at point 1 0 0\n",
    "n yesno vector 1 0 0\n",
    "⍝ The normal on a sphere at a point on the y axis\n",
    "+n← s normal_at point 0 1 0\n",
    "n yesno vector 0 1 0\n",
    "⍝ The normal on a sphere at a point on the z axis\n",
    "+n← s normal_at point 0 0 1\n",
    "n yesno vector 0 0 1\n",
    "⍝ The normal on a sphere at a non-axial point\n",
    "+n← s normal_at point ((3*0.5)÷3) ((3*0.5)÷3) ((3*0.5)÷3)\n",
    "n yesno vector ((3*0.5)÷3) ((3*0.5)÷3) ((3*0.5)÷3)\n",
    "⍝ The normal is a normalized vector\n",
    "n yesno normalize n"
   ]
  },
  {
   "cell_type": "markdown",
   "metadata": {},
   "source": [
    "```\n",
    "Scenario: Computing the normal on a translated sphere\n",
    "  Given s ← sphere()\n",
    "    And set_transform(s, translation(0, 1, 0))\n",
    "  When n ← normal_at(s, point(0, 1.70711, -0.70711))\n",
    "  Then n = vector(0, 0.70711, -0.70711)\n",
    "\n",
    "Scenario: Computing the normal on a transformed sphere\n",
    "  Given s ← sphere()\n",
    "    And m ← scaling(1, 0.5, 1) * rotation_z(π/5)\n",
    "    And set_transform(s, m)\n",
    "  When n ← normal_at(s, point(0, √2/2, -√2/2))\n",
    "  Then n = vector(0, 0.97014, -0.24254)\n",
    "```\n",
    "\n",
    "**Why does this** ***fail*** **here?**"
   ]
  },
  {
   "cell_type": "code",
   "execution_count": 38,
   "metadata": {},
   "outputs": [
    {
     "data": {
      "text/html": [
       "<span style=\"white-space:pre; font-family: monospace\">0 0.707107 ¯0.707107 0\n",
       "</span>"
      ]
     },
     "execution_count": 38,
     "metadata": {},
     "output_type": "execute_result"
    },
    {
     "data": {
      "text/html": [
       "<span style=\"white-space:pre; font-family: monospace\">┌───┐\n",
       "│Yes│\n",
       "└───┘\n",
       "</span>"
      ]
     },
     "execution_count": 38,
     "metadata": {},
     "output_type": "execute_result"
    },
    {
     "data": {
      "text/html": [
       "<span style=\"white-space:pre; font-family: monospace\">¯0.337895 0.930146 ¯0.143716 0\n",
       "</span>"
      ]
     },
     "execution_count": 38,
     "metadata": {},
     "output_type": "execute_result"
    },
    {
     "data": {
      "text/html": [
       "<span style=\"white-space:pre; font-family: monospace\">┌──┐\n",
       "│No│\n",
       "└──┘\n",
       "</span>"
      ]
     },
     "execution_count": 38,
     "metadata": {},
     "output_type": "execute_result"
    }
   ],
   "source": [
    "⍝ Computing the normal on a translated sphere\n",
    "s← sphere\n",
    "s[obj_transform]← ⊂translation 0 1 0\n",
    "+n← s normal_at point 0 1.70711 ¯0.70711\n",
    "(9 5 roundMN n) yesno vector 0 0.70711 ¯0.70711\n",
    "⍝ Computing the normal on a transformed sphere\n",
    "s← sphere\n",
    "s[obj_transform]← ⊂(scaling 1 0.5 1) +.× rotation_z ○ 0.2\n",
    "⍝ s[obj_transform]← ⊂(rotation_z ○ 0.2) +.× scaling 1 0.5 1\n",
    "+n← s normal_at point 0 (0.5×2*0.5) (¯0.5×2*0.5)\n",
    "(9 5 roundMN n) yesno vector 0 0.97014 ¯0.24254"
   ]
  },
  {
   "cell_type": "markdown",
   "metadata": {},
   "source": [
    "```\n",
    "Scenario: Reflecting a vector approaching at 45°\n",
    "  Given v ← vector(1, -1, 0)\n",
    "    And n ← vector(0, 1, 0)\n",
    "  When r ← reflect(v, n)\n",
    "  Then r = vector(1, 1, 0)\n",
    "\n",
    "Scenario: Reflecting a vector off a slanted surface\n",
    "  Given v ← vector(0, -1, 0)\n",
    "    And n ← vector(√2/2, √2/2, 0)\n",
    "  When r ← reflect(v, n)\n",
    "  Then r = vector(1, 0, 0)\n",
    "```"
   ]
  },
  {
   "cell_type": "code",
   "execution_count": 39,
   "metadata": {},
   "outputs": [
    {
     "data": {
      "text/html": [
       "<span style=\"white-space:pre; font-family: monospace\">1 1 0 0\n",
       "</span>"
      ]
     },
     "execution_count": 39,
     "metadata": {},
     "output_type": "execute_result"
    },
    {
     "data": {
      "text/html": [
       "<span style=\"white-space:pre; font-family: monospace\">┌───┐\n",
       "│Yes│\n",
       "└───┘\n",
       "</span>"
      ]
     },
     "execution_count": 39,
     "metadata": {},
     "output_type": "execute_result"
    },
    {
     "data": {
      "text/html": [
       "<span style=\"white-space:pre; font-family: monospace\">1 2.22045E¯16 0 0\n",
       "</span>"
      ]
     },
     "execution_count": 39,
     "metadata": {},
     "output_type": "execute_result"
    },
    {
     "data": {
      "text/html": [
       "<span style=\"white-space:pre; font-family: monospace\">┌───┐\n",
       "│Yes│\n",
       "└───┘\n",
       "</span>"
      ]
     },
     "execution_count": 39,
     "metadata": {},
     "output_type": "execute_result"
    }
   ],
   "source": [
    "⍝ Reflecting a vector approaching at 45°\n",
    "v← vector 1 ¯1 0\n",
    "n← vector 0 1 0\n",
    "+r← v reflect n\n",
    "r yesno vector 1 1 0\n",
    "⍝ Reflecting a vector off a slanted surface\n",
    "v← vector 0 ¯1 0\n",
    "n← vector (0.5×2*0.5) (0.5×2*0.5) 0\n",
    "+r← v reflect n\n",
    "(round0 r) yesno vector 1 0 0"
   ]
  },
  {
   "cell_type": "markdown",
   "metadata": {},
   "source": [
    "```\n",
    "Scenario: A point light has a position and intensity\n",
    "  Given intensity ← color(1, 1, 1)\n",
    "    And position ← point(0, 0, 0)\n",
    "  When light ← point_light(position, intensity)\n",
    "  Then light.position = position\n",
    "    And light.intensity = intensity\n",
    "```"
   ]
  },
  {
   "cell_type": "code",
   "execution_count": 40,
   "metadata": {},
   "outputs": [
    {
     "data": {
      "text/html": [
       "<span style=\"white-space:pre; font-family: monospace\">┌───────┬─────┐\n",
       "│0 0 0 1│1 1 1│\n",
       "└───────┴─────┘\n",
       "</span>"
      ]
     },
     "execution_count": 40,
     "metadata": {},
     "output_type": "execute_result"
    },
    {
     "data": {
      "text/html": [
       "<span style=\"white-space:pre; font-family: monospace\">┌───┐\n",
       "│Yes│\n",
       "└───┘\n",
       "</span>"
      ]
     },
     "execution_count": 40,
     "metadata": {},
     "output_type": "execute_result"
    },
    {
     "data": {
      "text/html": [
       "<span style=\"white-space:pre; font-family: monospace\">┌───┐\n",
       "│Yes│\n",
       "└───┘\n",
       "</span>"
      ]
     },
     "execution_count": 40,
     "metadata": {},
     "output_type": "execute_result"
    }
   ],
   "source": [
    "+l← (point 0 0 0) point_light 1 1 1\n",
    "(point 0 0 0) yesno ⊃l[light_point]\n",
    "1 1 1 yesno ⊃l[light_color]"
   ]
  },
  {
   "cell_type": "markdown",
   "metadata": {},
   "source": [
    "```\n",
    "  Given m ← material()\n",
    "    And position ← point(0, 0, 0)\n",
    "\n",
    "Scenario: The default material\n",
    "  Given m ← material()\n",
    "  Then m.color = color(1, 1, 1)\n",
    "    And m.ambient = 0.1\n",
    "    And m.diffuse = 0.9\n",
    "    And m.specular = 0.9\n",
    "    And m.shininess = 200.0\n",
    "\n",
    "Scenario: A sphere has a default material\n",
    "  Given s ← sphere()\n",
    "  When m ← s.material\n",
    "  Then m = material()\n",
    "\n",
    "Scenario: A sphere may be assigned a material\n",
    "  Given s ← sphere()\n",
    "    And m ← material()\n",
    "    And m.ambient ← 1\n",
    "  When s.material ← m\n",
    "  Then s.material = m\n",
    "```"
   ]
  },
  {
   "cell_type": "code",
   "execution_count": 41,
   "metadata": {},
   "outputs": [
    {
     "data": {
      "text/html": [
       "<span style=\"white-space:pre; font-family: monospace\">┌─────┬───┬───┬───┬───┬─┬─┬─┐\n",
       "│1 1 1│0.1│0.9│0.9│200│0│1│0│\n",
       "└─────┴───┴───┴───┴───┴─┴─┴─┘\n",
       "</span>"
      ]
     },
     "execution_count": 41,
     "metadata": {},
     "output_type": "execute_result"
    },
    {
     "data": {
      "text/html": [
       "<span style=\"white-space:pre; font-family: monospace\">┌───┐\n",
       "│Yes│\n",
       "└───┘\n",
       "</span>"
      ]
     },
     "execution_count": 41,
     "metadata": {},
     "output_type": "execute_result"
    },
    {
     "data": {
      "text/html": [
       "<span style=\"white-space:pre; font-family: monospace\">┌───┐\n",
       "│Yes│\n",
       "└───┘\n",
       "</span>"
      ]
     },
     "execution_count": 41,
     "metadata": {},
     "output_type": "execute_result"
    },
    {
     "data": {
      "text/html": [
       "<span style=\"white-space:pre; font-family: monospace\">┌───┐\n",
       "│Yes│\n",
       "└───┘\n",
       "</span>"
      ]
     },
     "execution_count": 41,
     "metadata": {},
     "output_type": "execute_result"
    },
    {
     "data": {
      "text/html": [
       "<span style=\"white-space:pre; font-family: monospace\">┌───┐\n",
       "│Yes│\n",
       "└───┘\n",
       "</span>"
      ]
     },
     "execution_count": 41,
     "metadata": {},
     "output_type": "execute_result"
    },
    {
     "data": {
      "text/html": [
       "<span style=\"white-space:pre; font-family: monospace\">┌───┐\n",
       "│Yes│\n",
       "└───┘\n",
       "</span>"
      ]
     },
     "execution_count": 41,
     "metadata": {},
     "output_type": "execute_result"
    }
   ],
   "source": [
    "⍝ The default material\n",
    "+m← material\n",
    "1 1 1 yesno ⊃m[material_color]\n",
    "0.1 yesno m[material_ambient]\n",
    "0.9 yesno m[material_diffuse]\n",
    "0.9 yesno m[material_specular]\n",
    "200 yesno m[material_shininess]"
   ]
  },
  {
   "cell_type": "markdown",
   "metadata": {},
   "source": [
    "```\n",
    "  Given m ← material()\n",
    "    And position ← point(0, 0, 0)\n",
    "\n",
    "Scenario: Lighting with the eye between the light and the surface\n",
    "  Given eyev ← vector(0, 0, -1)\n",
    "    And normalv ← vector(0, 0, -1)\n",
    "    And light ← point_light(point(0, 0, -10), color(1, 1, 1))\n",
    "  When result ← lighting(m, light, position, eyev, normalv)\n",
    "  Then result = color(1.9, 1.9, 1.9)\n",
    "\n",
    "Scenario: Lighting with the eye between light and surface, eye offset 45°\n",
    "  Given eyev ← vector(0, √2/2, -√2/2)\n",
    "    And normalv ← vector(0, 0, -1)\n",
    "    And light ← point_light(point(0, 0, -10), color(1, 1, 1))\n",
    "  When result ← lighting(m, light, position, eyev, normalv)\n",
    "  Then result = color(1.0, 1.0, 1.0)\n",
    "\n",
    "Scenario: Lighting with eye opposite surface, light offset 45°\n",
    "  Given eyev ← vector(0, 0, -1)\n",
    "    And normalv ← vector(0, 0, -1)\n",
    "    And light ← point_light(point(0, 10, -10), color(1, 1, 1))\n",
    "  When result ← lighting(m, light, position, eyev, normalv)\n",
    "  Then result = color(0.7364, 0.7364, 0.7364)\n",
    "\n",
    "Scenario: Lighting with eye in the path of the reflection vector\n",
    "  Given eyev ← vector(0, -√2/2, -√2/2)\n",
    "    And normalv ← vector(0, 0, -1)\n",
    "    And light ← point_light(point(0, 10, -10), color(1, 1, 1))\n",
    "  When result ← lighting(m, light, position, eyev, normalv)\n",
    "  Then result = color(1.6364, 1.6364, 1.6364)\n",
    "\n",
    "Scenario: Lighting with the light behind the surface\n",
    "  Given eyev ← vector(0, 0, -1)\n",
    "    And normalv ← vector(0, 0, -1)\n",
    "    And light ← point_light(point(0, 0, 10), color(1, 1, 1))\n",
    "  When result ← lighting(m, light, position, eyev, normalv)\n",
    "  Then result = color(0.1, 0.1, 0.1)\n",
    "```"
   ]
  },
  {
   "cell_type": "code",
   "execution_count": 42,
   "metadata": {},
   "outputs": [
    {
     "data": {
      "text/html": [
       "<span style=\"white-space:pre; font-family: monospace\">1.9 1.9 1.9\n",
       "</span>"
      ]
     },
     "execution_count": 42,
     "metadata": {},
     "output_type": "execute_result"
    },
    {
     "data": {
      "text/html": [
       "<span style=\"white-space:pre; font-family: monospace\">┌───┐\n",
       "│Yes│\n",
       "└───┘\n",
       "</span>"
      ]
     },
     "execution_count": 42,
     "metadata": {},
     "output_type": "execute_result"
    },
    {
     "data": {
      "text/html": [
       "<span style=\"white-space:pre; font-family: monospace\">1 1 1\n",
       "</span>"
      ]
     },
     "execution_count": 42,
     "metadata": {},
     "output_type": "execute_result"
    },
    {
     "data": {
      "text/html": [
       "<span style=\"white-space:pre; font-family: monospace\">┌───┐\n",
       "│Yes│\n",
       "└───┘\n",
       "</span>"
      ]
     },
     "execution_count": 42,
     "metadata": {},
     "output_type": "execute_result"
    },
    {
     "data": {
      "text/html": [
       "<span style=\"white-space:pre; font-family: monospace\">0.736396 0.736396 0.736396\n",
       "</span>"
      ]
     },
     "execution_count": 42,
     "metadata": {},
     "output_type": "execute_result"
    },
    {
     "data": {
      "text/html": [
       "<span style=\"white-space:pre; font-family: monospace\">┌───┐\n",
       "│Yes│\n",
       "└───┘\n",
       "</span>"
      ]
     },
     "execution_count": 42,
     "metadata": {},
     "output_type": "execute_result"
    },
    {
     "data": {
      "text/html": [
       "<span style=\"white-space:pre; font-family: monospace\">1.6364 1.6364 1.6364\n",
       "</span>"
      ]
     },
     "execution_count": 42,
     "metadata": {},
     "output_type": "execute_result"
    },
    {
     "data": {
      "text/html": [
       "<span style=\"white-space:pre; font-family: monospace\">┌───┐\n",
       "│Yes│\n",
       "└───┘\n",
       "</span>"
      ]
     },
     "execution_count": 42,
     "metadata": {},
     "output_type": "execute_result"
    },
    {
     "data": {
      "text/html": [
       "<span style=\"white-space:pre; font-family: monospace\">0.1 0.1 0.1\n",
       "</span>"
      ]
     },
     "execution_count": 42,
     "metadata": {},
     "output_type": "execute_result"
    },
    {
     "data": {
      "text/html": [
       "<span style=\"white-space:pre; font-family: monospace\">┌───┐\n",
       "│Yes│\n",
       "└───┘\n",
       "</span>"
      ]
     },
     "execution_count": 42,
     "metadata": {},
     "output_type": "execute_result"
    }
   ],
   "source": [
    "m← material\n",
    "p← point 0 0 0\n",
    "⍝ Lighting with the eye between the light and the surface\n",
    "eyev← vector 0 0 ¯1\n",
    "normalv← vector 0 0 ¯1\n",
    "l← (point 0 0 ¯10) point_light 1 1 1\n",
    "+r← lighting m l p eyev normalv 0 sphere\n",
    "r yesno 1.9 1.9 1.9\n",
    "⍝ Lighting with the eye between light and surface, eye offset 45°\n",
    "eyev← vector 0 (0.5×2*0.5) (¯0.5×2*0.5)\n",
    "normalv← vector 0 0 ¯1\n",
    "l← (point 0 0 ¯10) point_light 1 1 1\n",
    "+r← lighting m l p eyev normalv 0 sphere\n",
    "r yesno 1 1 1\n",
    "⍝ Lighting with eye opposite surface, light offset 45°\n",
    "eyev← vector 0 0 ¯1\n",
    "normalv← vector 0 0 ¯1\n",
    "l← (point 0 10 ¯10) point_light 1 1 1\n",
    "+r← lighting m l p eyev normalv 0 sphere\n",
    "(9 4 roundMN r) yesno 0.7364 0.7364 0.7364\n",
    "⍝ Lighting with eye in the path of the reflection vector\n",
    "eyev← vector 0 (¯0.5×2*0.5) (¯0.5×2*0.5)\n",
    "normalv← vector 0 0 ¯1\n",
    "l← (point 0 10 ¯10) point_light 1 1 1\n",
    "+r← lighting m l p eyev normalv 0 sphere\n",
    "(9 4 roundMN r) yesno 1.6364 1.6364 1.6364\n",
    "⍝ Lighting with the light behind the surface\n",
    "eyev← vector 0 0 ¯1\n",
    "normalv← vector 0 0 ¯1\n",
    "l← (point 0 0 10) point_light 1 1 1\n",
    "+r← lighting m l p eyev normalv 0 sphere\n",
    "r yesno 0.1 0.1 0.1"
   ]
  },
  {
   "cell_type": "markdown",
   "metadata": {},
   "source": [
    "# Chapter 7. Making a Scene\n",
    "This chapter creates the parts needed to create a scene - camera, light source, and world."
   ]
  },
  {
   "cell_type": "markdown",
   "metadata": {},
   "source": [
    "## Chapter 7 APL Code\n",
    "Functions implemented in this chapter include\n",
    "\n",
    "- Data structure **world** that is initially empty but will hold objects and light sources\n",
    "- Data structure **default_world** that returns a *world* object with predefined initializations\n",
    "- Function **intersect_world(world, ray)** returns the list of intersections of *ray* with each object in *world*\n",
    "- Function **prepare_computations(hit, ray)** returns a *hit* structure based on *intersection* and *ray*\n",
    "- Function **shade_hit(world, hit)** returns a *lighting* structure for the object hit by a ray\n",
    "- Function **color_at(world,ray)** returns the color value where the ray hits, or black\n",
    "- Function **view_transform(from,to,up)** has the effect of orienting the eye in a given direction\n",
    "- Function **camera(hsize,vsize,fview)** creates a camera of with a given background size and field of view\n",
    "- Function **ray_for_pixel(c,px,py)** returns a ray that passes from a camera to a pixel's coordinates\n",
    "- Function **render(c,w)** returns a canvas resulting from rendering a world by a camera"
   ]
  },
  {
   "cell_type": "markdown",
   "metadata": {},
   "source": [
    "## Chapter 7 Implementation\n",
    "The arguments and return values of functions are defined in APL as follows\n",
    "\n",
    "- **world** → ⍬ ⍬\n",
    "- **default_world** → (⊂⊂*point_light*) ((*sphere*) (*sphere*))\n",
    "- *world* **intersect_world** *ray* → (*intersection*) (*intersection*) ...\n",
    "- *hit* **prepare_computations** *ray* → augmented *hit*\n",
    "- *world* **shade_hit** *ray* → *lighting*\n",
    "- *world* **color_at** *ray* → *color*\n",
    "- **view_transform** from to up → *transform matrix*\n",
    "- **camera** hsize vsize fview → *camera object*\n",
    "- *camera* **ray_for_pixel** pixel_X pixel_Y → *ray*\n",
    "- *world* **render** *camera* → *canvas*\n",
    "\n",
    "An *intersection* consists of an object and a distance in a two element mixed vector. The result of **Intersect_world** would be a vector of enclosed *intersection* objects. The **prepare_computations** takes an intersection and adds additional information to produce a *hit* data structure."
   ]
  },
  {
   "cell_type": "markdown",
   "metadata": {},
   "source": [
    "```The **intersect_world** function should iterate over all of the\n",
    "objects that have been added to the world, intersecting each of them with the\n",
    "ray, and aggregating the intersections into a single collection. Note that in\n",
    "order for the test to pass, intersect_world() must return the intersections in\n",
    "sorted order.\n",
    "```\n",
    "\n",
    "This is where I should use the intersections function?"
   ]
  },
  {
   "cell_type": "markdown",
   "metadata": {},
   "source": [
    "```\n",
    "function prepare_computations(intersection, ray)\n",
    "  # instantiate a data structure for storing some precomputed values\n",
    "  comps ← new computations data structure\n",
    "\n",
    "  # copy the intersection's properties, for convenience\n",
    "  comps.t       ← intersection.t\n",
    "  comps.object  ← intersection.object\n",
    "\n",
    "  # precompute some useful values\n",
    "  comps.point   ← position(ray, comps.t)\n",
    "  comps.eyev    ← -ray.direction\n",
    "  comps.normalv ← normal_at(comps.object, comps.point)\n",
    "\n",
    "  if dot(comps.normalv, comps.eyev) < 0\n",
    "    comps.inside ← true\n",
    "    comps.normalv ← -comps.normalv\n",
    "  else\n",
    "    comps.inside ← false\n",
    "  end if\n",
    "  return comps\n",
    "end function\n",
    "```"
   ]
  },
  {
   "cell_type": "markdown",
   "metadata": {},
   "source": [
    "```\n",
    "function shade_hit(world, comps)\n",
    "  return lighting(comps.object.material,\n",
    "                  world.light,\n",
    "                  comps.point, comps.eyev, comps.normalv)\n",
    "end function\n",
    "```"
   ]
  },
  {
   "cell_type": "markdown",
   "metadata": {},
   "source": [
    "```\n",
    "Your color_at() function should:\n",
    "  1. Call intersect_world to find the intersections of the given ray with the given world.\n",
    "  2. Find the hit from the resulting intersections.\n",
    "  3. Return the color black if there is no such intersection.\n",
    "  4. Otherwise, precompute the necessary values with prepare_computations.\n",
    "  5. Finally, call shade_hit to find the color at the hit.\n",
    "```\n",
    "\n",
    "Don't forget to use **hit** in step 2 to return only positive distances in the intersection list."
   ]
  },
  {
   "cell_type": "markdown",
   "metadata": {},
   "source": [
    "```\n",
    "function view_transform(from, to, up)\n",
    "  forward ← normalize(to - from)\n",
    "  upn ← normalize(up)\n",
    "  left ← cross(forward, upn)\n",
    "  true_up ← cross(left, forward)\n",
    "\n",
    "  orientation ← matrix( left.x,     left.y,     left.z,    0,\n",
    "                         true_up.x,  true_up.y,  true_up.z, 0,\n",
    "                        -forward.x, -forward.y, -forward.z, 0,\n",
    "                         0,          0,          0,         1)\n",
    "\n",
    "  return orientation * translation(-from.x, -from.y, -from.z)\n",
    "end function\n",
    "```"
   ]
  },
  {
   "cell_type": "markdown",
   "metadata": {},
   "source": [
    "```\n",
    "function camera(hsize, vsize, field_of_view)\n",
    "  half_view ← tan(camera.field_of_view / 2)\n",
    "  aspect ← camera.hsize / camera.vsize\n",
    "  if aspect >= 1 then\n",
    "    camera.half_width ← half_view\n",
    "    camera.half_height ← half_view / aspect\n",
    "  else\n",
    "    camera.half_width ← half_view * aspect\n",
    "    camera.half_height ← half_view\n",
    "  end if\n",
    "  camera.pixel_size ← (camera.half_width * 2) / camera.hsize\n",
    "end function\n",
    "```"
   ]
  },
  {
   "cell_type": "markdown",
   "metadata": {},
   "source": [
    "```\n",
    "function ray_for_pixel(camera, px, py)\n",
    "  # the offset from the edge of the canvas to the pixel's center\n",
    "  xoffset ← (px + 0.5) * camera.pixel_size\n",
    "  yoffset ← (py + 0.5) * camera.pixel_size\n",
    "\n",
    "  # the untransformed coordinates of the pixel in world-space.\n",
    "  # (remember that the camera looks toward -z, so +x is to the *left*.)\n",
    "  world_x ← camera.half_width - xoffset\n",
    "  world_y ← camera.half_height - yoffset\n",
    "\n",
    "  # using the camera matrix, transform the canvas point and the origin,\n",
    "  # and then compute the ray's direction vector.\n",
    "  # (remember that the canvas is at z=-1)\n",
    "  pixel ← inverse(camera.transform) * point(world_x, world_y, -1)\n",
    "  origin ← inverse(camera.transform) * point(0, 0, 0)\n",
    "  direction ← normalize(pixel - origin)\n",
    "\n",
    "  return ray(origin, direction)\n",
    "end function\n",
    "```"
   ]
  },
  {
   "cell_type": "markdown",
   "metadata": {},
   "source": [
    "```\n",
    "function render(camera, world)\n",
    "  image ← canvas(camera.hsize, camera.vsize)\n",
    "\n",
    "  for y ← 0 to camera.vsize - 1\n",
    "    for x ← 0 to camera.hsize - 1\n",
    "      ray ← ray_for_pixel(camera, x, y)\n",
    "      color ← color_at(world, ray)\n",
    "      write_pixel(image, x, y, color)\n",
    "    end for\n",
    "  end for\n",
    "\n",
    "  return image\n",
    "end function\n",
    "```"
   ]
  },
  {
   "cell_type": "markdown",
   "metadata": {},
   "source": [
    "## Chapter 7 Test Cases"
   ]
  },
  {
   "cell_type": "markdown",
   "metadata": {},
   "source": [
    "```\n",
    "Scenario: Creating a world\n",
    "  Given w ← world()\n",
    "  Then w contains no objects\n",
    "    And w has no light source\n",
    "\n",
    "Scenario: The default world\n",
    "  Given light ← point_light(point(-10, 10, -10), color(1, 1, 1))\n",
    "    And s1 ← sphere() with:\n",
    "      | material.color     | (0.8, 1.0, 0.6)        |\n",
    "      | material.diffuse   | 0.7                    |\n",
    "      | material.specular  | 0.2                    |\n",
    "    And s2 ← sphere() with:\n",
    "      | transform | scaling(0.5, 0.5, 0.5) |\n",
    "  When w ← default_world()\n",
    "  Then w.light = light\n",
    "    And w contains s1\n",
    "    And w contains s2\n",
    "\n",
    "Scenario: Intersect a world with a ray\n",
    "  Given w ← default_world()\n",
    "    And r ← ray(point(0, 0, -5), vector(0, 0, 1))\n",
    "  When xs ← intersect_world(w, r)\n",
    "  Then xs.count = 4\n",
    "    And xs[0].t = 4\n",
    "    And xs[1].t = 4.5\n",
    "    And xs[2].t = 5.5\n",
    "    And xs[3].t = 6\n",
    "```"
   ]
  },
  {
   "cell_type": "code",
   "execution_count": 43,
   "metadata": {},
   "outputs": [
    {
     "data": {
      "text/html": [
       "<span style=\"white-space:pre; font-family: monospace\">┌┬┐\n",
       "│││\n",
       "└┴┘\n",
       "</span>"
      ]
     },
     "execution_count": 43,
     "metadata": {},
     "output_type": "execute_result"
    },
    {
     "data": {
      "text/html": [
       "<span style=\"white-space:pre; font-family: monospace\">\n",
       "</span>"
      ]
     },
     "execution_count": 43,
     "metadata": {},
     "output_type": "execute_result"
    },
    {
     "data": {
      "text/html": [
       "<span style=\"white-space:pre; font-family: monospace\">┌──────────────────────┬───────────────────────────────────────────────────────────────────────────────────────────────┐\n",
       "│┌────────────────────┐│┌─────────────────────────────────────────────┬───────────────────────────────────────────────┐│\n",
       "││┌────────────┬─────┐│││┌─┬───────┬─────────────────────────────────┐│┌─┬─────────────┬─────────────────────────────┐││\n",
       "│││¯10 10 ¯10 1│1 1 1│││││1│1 0 0 0│┌─────────┬───┬───┬───┬───┬─┬─┬─┐│││1│0.5 0   0   0│┌─────┬───┬───┬───┬───┬─┬─┬─┐│││\n",
       "││└────────────┴─────┘││││ │0 1 0 0││0.8 1 0.6│0.1│0.7│0.2│200│0│1│0││││ │0   0.5 0   0││1 1 1│0.1│0.9│0.9│200│0│1│0││││\n",
       "│└────────────────────┘│││ │0 0 1 0│└─────────┴───┴───┴───┴───┴─┴─┴─┘│││ │0   0   0.5 0│└─────┴───┴───┴───┴───┴─┴─┴─┘│││\n",
       "│                      │││ │0 0 0 1│                                 │││ │0   0   0   1│                             │││\n",
       "│                      ││└─┴───────┴─────────────────────────────────┘│└─┴─────────────┴─────────────────────────────┘││\n",
       "│                      │└─────────────────────────────────────────────┴───────────────────────────────────────────────┘│\n",
       "└──────────────────────┴───────────────────────────────────────────────────────────────────────────────────────────────┘\n",
       "</span>"
      ]
     },
     "execution_count": 43,
     "metadata": {},
     "output_type": "execute_result"
    },
    {
     "data": {
      "text/html": [
       "<span style=\"white-space:pre; font-family: monospace\">┌───┐\n",
       "│Yes│\n",
       "└───┘\n",
       "</span>"
      ]
     },
     "execution_count": 43,
     "metadata": {},
     "output_type": "execute_result"
    },
    {
     "data": {
      "text/html": [
       "<span style=\"white-space:pre; font-family: monospace\">┌─┬───────┬─────────────────────────────────┐\n",
       "│1│1 0 0 0│┌─────────┬───┬───┬───┬───┬─┬─┬─┐│\n",
       "│ │0 1 0 0││0.8 1 0.6│0.1│0.7│0.2│200│0│1│0││\n",
       "│ │0 0 1 0│└─────────┴───┴───┴───┴───┴─┴─┴─┘│\n",
       "│ │0 0 0 1│                                 │\n",
       "└─┴───────┴─────────────────────────────────┘\n",
       "</span>"
      ]
     },
     "execution_count": 43,
     "metadata": {},
     "output_type": "execute_result"
    },
    {
     "data": {
      "text/html": [
       "<span style=\"white-space:pre; font-family: monospace\">┌───┐\n",
       "│Yes│\n",
       "└───┘\n",
       "</span>"
      ]
     },
     "execution_count": 43,
     "metadata": {},
     "output_type": "execute_result"
    },
    {
     "data": {
      "text/html": [
       "<span style=\"white-space:pre; font-family: monospace\">┌─┬─────────────┬─────────────────────────────┐\n",
       "│1│0.5 0   0   0│┌─────┬───┬───┬───┬───┬─┬─┬─┐│\n",
       "│ │0   0.5 0   0││1 1 1│0.1│0.9│0.9│200│0│1│0││\n",
       "│ │0   0   0.5 0│└─────┴───┴───┴───┴───┴─┴─┴─┘│\n",
       "│ │0   0   0   1│                             │\n",
       "└─┴─────────────┴─────────────────────────────┘\n",
       "</span>"
      ]
     },
     "execution_count": 43,
     "metadata": {},
     "output_type": "execute_result"
    },
    {
     "data": {
      "text/html": [
       "<span style=\"white-space:pre; font-family: monospace\">┌───┐\n",
       "│Yes│\n",
       "└───┘\n",
       "</span>"
      ]
     },
     "execution_count": 43,
     "metadata": {},
     "output_type": "execute_result"
    },
    {
     "data": {
      "text/html": [
       "<span style=\"white-space:pre; font-family: monospace\">┌─────────────────────────────────────────────────┬─────────────────────────────────────────────────────┬─────────────────\n",
       "│┌─────────────────────────────────────────────┬─┐│┌───────────────────────────────────────────────┬───┐│┌────────────────\n",
       "││┌─┬───────┬─────────────────────────────────┐│4│││┌─┬─────────────┬─────────────────────────────┐│4.5│││┌─┬─────────────\n",
       "│││1│1 0 0 0│┌─────────┬───┬───┬───┬───┬─┬─┬─┐││ ││││1│0.5 0   0   0│┌─────┬───┬───┬───┬───┬─┬─┬─┐││   ││││1│0.5 0   0   0\n",
       "│││ │0 1 0 0││0.8 1 0.6│0.1│0.7│0.2│200│0│1│0│││ ││││ │0   0.5 0   0││1 1 1│0.1│0.9│0.9│200│0│1│0│││   ││││ │0   0.5 0   0\n",
       "│││ │0 0 1 0│└─────────┴───┴───┴───┴───┴─┴─┴─┘││ ││││ │0   0   0.5 0│└─────┴───┴───┴───┴───┴─┴─┴─┘││   ││││ │0   0   0.5 0\n",
       "│││ │0 0 0 1│                                 ││ ││││ │0   0   0   1│                             ││   ││││ │0   0   0   1\n",
       "││└─┴───────┴─────────────────────────────────┘│ │││└─┴─────────────┴─────────────────────────────┘│   │││└─┴─────────────\n",
       "│└─────────────────────────────────────────────┴─┘│└───────────────────────────────────────────────┴───┘│└────────────────\n",
       "└─────────────────────────────────────────────────┴─────────────────────────────────────────────────────┴─────────────────\n",
       "\n",
       "      ────────────────────────────────────┬─────────────────────────────────────────────────┐\n",
       "      ───────────────────────────────┬───┐│┌─────────────────────────────────────────────┬─┐│\n",
       "      ┬─────────────────────────────┐│5.5│││┌─┬───────┬─────────────────────────────────┐│6││\n",
       "      │┌─────┬───┬───┬───┬───┬─┬─┬─┐││   ││││1│1 0 0 0│┌─────────┬───┬───┬───┬───┬─┬─┬─┐││ ││\n",
       "      ││1 1 1│0.1│0.9│0.9│200│0│1│0│││   ││││ │0 1 0 0││0.8 1 0.6│0.1│0.7│0.2│200│0│1│0│││ ││\n",
       "      │└─────┴───┴───┴───┴───┴─┴─┴─┘││   ││││ │0 0 1 0│└─────────┴───┴───┴───┴───┴─┴─┴─┘││ ││\n",
       "      │                             ││   ││││ │0 0 0 1│                                 ││ ││\n",
       "      ┴─────────────────────────────┘│   │││└─┴───────┴─────────────────────────────────┘│ ││\n",
       "      ───────────────────────────────┴───┘│└─────────────────────────────────────────────┴─┘│\n",
       "      ────────────────────────────────────┴─────────────────────────────────────────────────┘\n",
       "</span>"
      ]
     },
     "execution_count": 43,
     "metadata": {},
     "output_type": "execute_result"
    },
    {
     "data": {
      "text/html": [
       "<span style=\"white-space:pre; font-family: monospace\">┌───┐\n",
       "│Yes│\n",
       "└───┘\n",
       "</span>"
      ]
     },
     "execution_count": 43,
     "metadata": {},
     "output_type": "execute_result"
    },
    {
     "data": {
      "text/html": [
       "<span style=\"white-space:pre; font-family: monospace\">┌───┐\n",
       "│Yes│\n",
       "└───┘\n",
       "</span>"
      ]
     },
     "execution_count": 43,
     "metadata": {},
     "output_type": "execute_result"
    },
    {
     "data": {
      "text/html": [
       "<span style=\"white-space:pre; font-family: monospace\">┌───┐\n",
       "│Yes│\n",
       "└───┘\n",
       "</span>"
      ]
     },
     "execution_count": 43,
     "metadata": {},
     "output_type": "execute_result"
    },
    {
     "data": {
      "text/html": [
       "<span style=\"white-space:pre; font-family: monospace\">┌───┐\n",
       "│Yes│\n",
       "└───┘\n",
       "</span>"
      ]
     },
     "execution_count": 43,
     "metadata": {},
     "output_type": "execute_result"
    },
    {
     "data": {
      "text/html": [
       "<span style=\"white-space:pre; font-family: monospace\">┌───┐\n",
       "│Yes│\n",
       "└───┘\n",
       "</span>"
      ]
     },
     "execution_count": 43,
     "metadata": {},
     "output_type": "execute_result"
    }
   ],
   "source": [
    "⍝ Creating a world\n",
    "+w← world\n",
    "⍴w[2]\n",
    "⍝ The default world\n",
    "+w← default_world\n",
    "((point ¯10 10 ¯10) point_light 1 1 1) yesno ⊃⊃w[1]\n",
    "objs← ⊃w[2]\n",
    "+s1← ⊃objs[1]\n",
    "m← ⊃s1[obj_material]\n",
    "(0.8 1 0.6) 0.7 0.2 yesno m[material_color material_diffuse material_specular]\n",
    "+s2← ⊃objs[2]\n",
    "(scaling 0.5 0.5 0.5) yesno ⊃s2[obj_transform]\n",
    "⍝ Intersect a world with a ray\n",
    "r← (point 0 0 ¯5) ray vector 0 0 1\n",
    "+xs← w intersect_world r\n",
    "4 yesno ≢xs\n",
    "4 yesno hit_distance⌷⊃xs[1]\n",
    "4.5 yesno hit_distance⌷⊃xs[2]\n",
    "5.5 yesno hit_distance⌷⊃xs[3]\n",
    "6 yesno hit_distance⌷⊃xs[4]"
   ]
  },
  {
   "cell_type": "markdown",
   "metadata": {},
   "source": [
    "```\n",
    "Scenario: Precomputing the state of an intersection\n",
    "  Given r ← ray(point(0, 0, -5), vector(0, 0, 1))\n",
    "    And shape ← sphere()\n",
    "    And i ← intersection(4, shape)\n",
    "  When comps ← prepare_computations(i, r)\n",
    "  Then comps.t = i.t\n",
    "    And comps.object = i.object\n",
    "    And comps.point = point(0, 0, -1)\n",
    "    And comps.eyev = vector(0, 0, -1)\n",
    "    And comps.normalv = vector(0, 0, -1)\n",
    "\n",
    "Scenario: The hit, when an intersection occurs on the outside\n",
    "  Given r ← ray(point(0, 0, -5), vector(0, 0, 1))\n",
    "    And shape ← sphere()\n",
    "    And i ← intersection(4, shape)\n",
    "  When comps ← prepare_computations(i, r)\n",
    "  Then comps.inside = false\n",
    "\n",
    "Scenario: The hit, when an intersection occurs on the inside\n",
    "  Given r ← ray(point(0, 0, 0), vector(0, 0, 1))\n",
    "    And shape ← sphere()\n",
    "    And i ← intersection(1, shape)\n",
    "  When comps ← prepare_computations(i, r)\n",
    "  Then comps.point = point(0, 0, 1)\n",
    "    And comps.eyev = vector(0, 0, -1)\n",
    "    And comps.inside = true\n",
    "      # normal would have been (0, 0, 1), but is inverted!\n",
    "    And comps.normalv = vector(0, 0, -1)\n",
    "```"
   ]
  },
  {
   "cell_type": "code",
   "execution_count": 44,
   "metadata": {},
   "outputs": [
    {
     "data": {
      "text/html": [
       "<span style=\"white-space:pre; font-family: monospace\">┌─────────────────────────────────────────┬─┬────────┬────────┬────────┬─┬────────┬──────────────┬──────────────┬─┬─┐\n",
       "│┌─┬───────┬─────────────────────────────┐│4│0 0 ¯1 1│0 0 ¯1 0│0 0 ¯1 0│0│0 0 ¯1 0│0 0 ¯1.00001 1│0 0 ¯0.99999 1│0│0│\n",
       "││1│1 0 0 0│┌─────┬───┬───┬───┬───┬─┬─┬─┐││ │        │        │        │ │        │              │              │ │ │\n",
       "││ │0 1 0 0││1 1 1│0.1│0.9│0.9│200│0│1│0│││ │        │        │        │ │        │              │              │ │ │\n",
       "││ │0 0 1 0│└─────┴───┴───┴───┴───┴─┴─┴─┘││ │        │        │        │ │        │              │              │ │ │\n",
       "││ │0 0 0 1│                             ││ │        │        │        │ │        │              │              │ │ │\n",
       "│└─┴───────┴─────────────────────────────┘│ │        │        │        │ │        │              │              │ │ │\n",
       "└─────────────────────────────────────────┴─┴────────┴────────┴────────┴─┴────────┴──────────────┴──────────────┴─┴─┘\n",
       "</span>"
      ]
     },
     "execution_count": 44,
     "metadata": {},
     "output_type": "execute_result"
    },
    {
     "data": {
      "text/html": [
       "<span style=\"white-space:pre; font-family: monospace\">┌───┐\n",
       "│Yes│\n",
       "└───┘\n",
       "</span>"
      ]
     },
     "execution_count": 44,
     "metadata": {},
     "output_type": "execute_result"
    },
    {
     "data": {
      "text/html": [
       "<span style=\"white-space:pre; font-family: monospace\">┌───┐\n",
       "│Yes│\n",
       "└───┘\n",
       "</span>"
      ]
     },
     "execution_count": 44,
     "metadata": {},
     "output_type": "execute_result"
    },
    {
     "data": {
      "text/html": [
       "<span style=\"white-space:pre; font-family: monospace\">┌───┐\n",
       "│Yes│\n",
       "└───┘\n",
       "</span>"
      ]
     },
     "execution_count": 44,
     "metadata": {},
     "output_type": "execute_result"
    },
    {
     "data": {
      "text/html": [
       "<span style=\"white-space:pre; font-family: monospace\">┌───┐\n",
       "│Yes│\n",
       "└───┘\n",
       "</span>"
      ]
     },
     "execution_count": 44,
     "metadata": {},
     "output_type": "execute_result"
    },
    {
     "data": {
      "text/html": [
       "<span style=\"white-space:pre; font-family: monospace\">┌───┐\n",
       "│Yes│\n",
       "└───┘\n",
       "</span>"
      ]
     },
     "execution_count": 44,
     "metadata": {},
     "output_type": "execute_result"
    },
    {
     "data": {
      "text/html": [
       "<span style=\"white-space:pre; font-family: monospace\">┌─────┐\n",
       "│False│\n",
       "└─────┘\n",
       "</span>"
      ]
     },
     "execution_count": 44,
     "metadata": {},
     "output_type": "execute_result"
    },
    {
     "data": {
      "text/html": [
       "<span style=\"white-space:pre; font-family: monospace\">┌─────────────────────────────────────────┬─┬───────┬────────┬────────┬─┬────────┬─────────────┬─────────────┬─┬─┐\n",
       "│┌─┬───────┬─────────────────────────────┐│1│0 0 1 1│0 0 ¯1 0│0 0 ¯1 0│1│0 0 ¯1 0│0 0 0.99999 1│0 0 1.00001 1│0│0│\n",
       "││1│1 0 0 0│┌─────┬───┬───┬───┬───┬─┬─┬─┐││ │       │        │        │ │        │             │             │ │ │\n",
       "││ │0 1 0 0││1 1 1│0.1│0.9│0.9│200│0│1│0│││ │       │        │        │ │        │             │             │ │ │\n",
       "││ │0 0 1 0│└─────┴───┴───┴───┴───┴─┴─┴─┘││ │       │        │        │ │        │             │             │ │ │\n",
       "││ │0 0 0 1│                             ││ │       │        │        │ │        │             │             │ │ │\n",
       "│└─┴───────┴─────────────────────────────┘│ │       │        │        │ │        │             │             │ │ │\n",
       "└─────────────────────────────────────────┴─┴───────┴────────┴────────┴─┴────────┴─────────────┴─────────────┴─┴─┘\n",
       "</span>"
      ]
     },
     "execution_count": 44,
     "metadata": {},
     "output_type": "execute_result"
    },
    {
     "data": {
      "text/html": [
       "<span style=\"white-space:pre; font-family: monospace\">┌───┐\n",
       "│Yes│\n",
       "└───┘\n",
       "</span>"
      ]
     },
     "execution_count": 44,
     "metadata": {},
     "output_type": "execute_result"
    },
    {
     "data": {
      "text/html": [
       "<span style=\"white-space:pre; font-family: monospace\">┌───┐\n",
       "│Yes│\n",
       "└───┘\n",
       "</span>"
      ]
     },
     "execution_count": 44,
     "metadata": {},
     "output_type": "execute_result"
    },
    {
     "data": {
      "text/html": [
       "<span style=\"white-space:pre; font-family: monospace\">┌───┐\n",
       "│Yes│\n",
       "└───┘\n",
       "</span>"
      ]
     },
     "execution_count": 44,
     "metadata": {},
     "output_type": "execute_result"
    },
    {
     "data": {
      "text/html": [
       "<span style=\"white-space:pre; font-family: monospace\">┌────┐\n",
       "│True│\n",
       "└────┘\n",
       "</span>"
      ]
     },
     "execution_count": 44,
     "metadata": {},
     "output_type": "execute_result"
    }
   ],
   "source": [
    "⍝ Precomputing the state of an intersection\n",
    "r← (point 0 0 ¯5) ray vector 0 0 1\n",
    "s← sphere\n",
    "i← s intersection 4\n",
    "+comps← i prepare_computations r\n",
    "i[hit_distance] yesno comps[hit_distance]\n",
    "(⊃i[hit_object]) yesno ⊃comps[hit_object]\n",
    "(point 0 0 ¯1) yesno 9 4 roundMN ⊃comps[hit_point]\n",
    "(vector 0 0 ¯1) yesno ⊃comps[hit_eyev]\n",
    "(vector 0 0 ¯1) yesno ⊃comps[hit_normalv]\n",
    "⍝ The hit, when an intersection occurs on the outside\n",
    "('False' 'True')[1+comps[hit_inside]]\n",
    "⍝ The hit, when an intersection occurs on the inside\n",
    "r← (point 0 0 0) ray vector 0 0 1\n",
    "i← s intersection 1\n",
    "+comps← i prepare_computations r\n",
    "(point 0 0 1) yesno 9 4 roundMN ⊃comps[hit_point]\n",
    "(vector 0 0 ¯1) yesno ⊃comps[hit_eyev]\n",
    "(vector 0 0 ¯1) yesno ⊃comps[hit_normalv]\n",
    "('False' 'True')[1+comps[hit_inside]]"
   ]
  },
  {
   "cell_type": "markdown",
   "metadata": {},
   "source": [
    "```\n",
    "Scenario: Shading an intersection\n",
    "  Given w ← default_world()\n",
    "    And r ← ray(point(0, 0, -5), vector(0, 0, 1))\n",
    "    And shape ← the first object in w\n",
    "    And i ← intersection(4, shape)\n",
    "  When comps ← prepare_computations(i, r)\n",
    "    And c ← shade_hit(w, comps)\n",
    "  Then c = color(0.38066, 0.47583, 0.2855)\n",
    "\n",
    "Scenario: Shading an intersection from the inside\n",
    "  Given w ← default_world()\n",
    "    And w.light ← point_light(point(0, 0.25, 0), color(1, 1, 1))\n",
    "    And r ← ray(point(0, 0, 0), vector(0, 0, 1))\n",
    "    And shape ← the second object in w\n",
    "    And i ← intersection(0.5, shape)\n",
    "  When comps ← prepare_computations(i, r)\n",
    "    And c ← shade_hit(w, comps)\n",
    "  Then c = color(0.90498, 0.90498, 0.90498)\n",
    "```"
   ]
  },
  {
   "cell_type": "code",
   "execution_count": 45,
   "metadata": {},
   "outputs": [
    {
     "data": {
      "text/html": [
       "<span style=\"white-space:pre; font-family: monospace\">┌─┬───────┬─────────────────────────────────┐\n",
       "│1│1 0 0 0│┌─────────┬───┬───┬───┬───┬─┬─┬─┐│\n",
       "│ │0 1 0 0││0.8 1 0.6│0.1│0.7│0.2│200│0│1│0││\n",
       "│ │0 0 1 0│└─────────┴───┴───┴───┴───┴─┴─┴─┘│\n",
       "│ │0 0 0 1│                                 │\n",
       "└─┴───────┴─────────────────────────────────┘\n",
       "</span>"
      ]
     },
     "execution_count": 45,
     "metadata": {},
     "output_type": "execute_result"
    },
    {
     "data": {
      "text/html": [
       "<span style=\"white-space:pre; font-family: monospace\">0.380661 0.475826 0.285496\n",
       "</span>"
      ]
     },
     "execution_count": 45,
     "metadata": {},
     "output_type": "execute_result"
    },
    {
     "data": {
      "text/html": [
       "<span style=\"white-space:pre; font-family: monospace\">┌───┐\n",
       "│Yes│\n",
       "└───┘\n",
       "</span>"
      ]
     },
     "execution_count": 45,
     "metadata": {},
     "output_type": "execute_result"
    },
    {
     "data": {
      "text/html": [
       "<span style=\"white-space:pre; font-family: monospace\">┌─┬─────────────┬─────────────────────────────┐\n",
       "│1│0.5 0   0   0│┌─────┬───┬───┬───┬───┬─┬─┬─┐│\n",
       "│ │0   0.5 0   0││1 1 1│0.1│0.9│0.9│200│0│1│0││\n",
       "│ │0   0   0.5 0│└─────┴───┴───┴───┴───┴─┴─┴─┘│\n",
       "│ │0   0   0   1│                             │\n",
       "└─┴─────────────┴─────────────────────────────┘\n",
       "</span>"
      ]
     },
     "execution_count": 45,
     "metadata": {},
     "output_type": "execute_result"
    },
    {
     "data": {
      "text/html": [
       "<span style=\"white-space:pre; font-family: monospace\">0.904981 0.904981 0.904981\n",
       "</span>"
      ]
     },
     "execution_count": 45,
     "metadata": {},
     "output_type": "execute_result"
    },
    {
     "data": {
      "text/html": [
       "<span style=\"white-space:pre; font-family: monospace\">┌───┐\n",
       "│Yes│\n",
       "└───┘\n",
       "</span>"
      ]
     },
     "execution_count": 45,
     "metadata": {},
     "output_type": "execute_result"
    }
   ],
   "source": [
    "⍝ Shading an intersection\n",
    "w← default_world\n",
    "r← (point 0 0 ¯5) ray vector 0 0 1\n",
    "+s← ⊃1⌷⊃w[2]\n",
    "i← s intersection 4\n",
    "comps← i prepare_computations r\n",
    "+c← w shade_hit comps\n",
    "0.38066 0.47583 0.2855 yesno 9 5 roundMN c\n",
    "\n",
    "⍝ Shading an intersection from the inside\n",
    "w[1]← ⊂⊂ (point 0 0.25 0) point_light 1 1 1\n",
    "r← (point 0 0 0) ray vector 0 0 1\n",
    "+s← ⊃2⌷⊃w[2]\n",
    "i← s intersection 0.5\n",
    "comps← i prepare_computations r\n",
    "+c← w shade_hit comps\n",
    "0.90498 0.90498 0.90498 yesno 9 5 roundMN c"
   ]
  },
  {
   "cell_type": "markdown",
   "metadata": {},
   "source": [
    "```\n",
    "Scenario: The color when a ray misses\n",
    "  Given w ← default_world()\n",
    "    And r ← ray(point(0, 0, -5), vector(0, 1, 0))\n",
    "  When c ← color_at(w, r)\n",
    "  Then c = color(0, 0, 0)\n",
    "\n",
    "Scenario: The color when a ray hits\n",
    "  Given w ← default_world()\n",
    "    And r ← ray(point(0, 0, -5), vector(0, 0, 1))\n",
    "  When c ← color_at(w, r)\n",
    "  Then c = color(0.38066, 0.47583, 0.2855)\n",
    "\n",
    "Scenario: The color with an intersection behind the ray\n",
    "  Given w ← default_world()\n",
    "    And outer ← the first object in w\n",
    "    And outer.material.ambient ← 1\n",
    "    And inner ← the second object in w\n",
    "    And inner.material.ambient ← 1\n",
    "    And r ← ray(point(0, 0, 0.75), vector(0, 0, -1))\n",
    "  When c ← color_at(w, r)\n",
    "  Then c = inner.material.color\n",
    "```"
   ]
  },
  {
   "cell_type": "code",
   "execution_count": 46,
   "metadata": {},
   "outputs": [
    {
     "data": {
      "text/html": [
       "<span style=\"white-space:pre; font-family: monospace\">0 0 0\n",
       "</span>"
      ]
     },
     "execution_count": 46,
     "metadata": {},
     "output_type": "execute_result"
    },
    {
     "data": {
      "text/html": [
       "<span style=\"white-space:pre; font-family: monospace\">┌───┐\n",
       "│Yes│\n",
       "└───┘\n",
       "</span>"
      ]
     },
     "execution_count": 46,
     "metadata": {},
     "output_type": "execute_result"
    },
    {
     "data": {
      "text/html": [
       "<span style=\"white-space:pre; font-family: monospace\">0.380661 0.475826 0.285496\n",
       "</span>"
      ]
     },
     "execution_count": 46,
     "metadata": {},
     "output_type": "execute_result"
    },
    {
     "data": {
      "text/html": [
       "<span style=\"white-space:pre; font-family: monospace\">┌───┐\n",
       "│Yes│\n",
       "└───┘\n",
       "</span>"
      ]
     },
     "execution_count": 46,
     "metadata": {},
     "output_type": "execute_result"
    },
    {
     "data": {
      "text/html": [
       "<span style=\"white-space:pre; font-family: monospace\">1 1 1\n",
       "</span>"
      ]
     },
     "execution_count": 46,
     "metadata": {},
     "output_type": "execute_result"
    },
    {
     "data": {
      "text/html": [
       "<span style=\"white-space:pre; font-family: monospace\">┌───┐\n",
       "│Yes│\n",
       "└───┘\n",
       "</span>"
      ]
     },
     "execution_count": 46,
     "metadata": {},
     "output_type": "execute_result"
    }
   ],
   "source": [
    "⍝ The color when a ray misses\n",
    "w← default_world\n",
    "r← (point 0 0 ¯5) ray vector 0 1 0\n",
    "+c← w color_at r\n",
    "c yesno 0 0 0\n",
    "\n",
    "⍝ The color when a ray hits\n",
    "r← (point 0 0 ¯5) ray vector 0 0 1\n",
    "+c← w color_at r\n",
    "0.38066 0.47583 0.2855 yesno 9 5 roundMN c\n",
    "\n",
    "⍝ The color with an intersection behind the ray\n",
    "objs← ⊃w[2]\n",
    "outer← ⊃objs[1]\n",
    "m← ⊃outer[obj_material]\n",
    "m[material_ambient]← 1\n",
    "outer[obj_material]← ⊂m\n",
    "objs[1]← ⊂outer\n",
    "inner← ⊃objs[2]\n",
    "m← ⊃inner[obj_material]\n",
    "m[material_ambient]← 1\n",
    "inner[obj_material]← ⊂m\n",
    "objs[2]←⊂inner\n",
    "w[2]← ⊂objs\n",
    "r← (point 0 0 0.75) ray vector 0 0 ¯1\n",
    "+c← w color_at r\n",
    "c yesno ⊃m[material_color]"
   ]
  },
  {
   "cell_type": "markdown",
   "metadata": {},
   "source": [
    "```\n",
    "Scenario: The transformation matrix for the default orientation\n",
    "  Given from ← point(0, 0, 0)\n",
    "    And to ← point(0, 0, -1)\n",
    "    And up ← vector(0, 1, 0)\n",
    "  When t ← view_transform(from, to, up)\n",
    "  Then t = identity_matrix\n",
    "\n",
    "Scenario: A view transformation matrix looking in positive z direction\n",
    "  Given from ← point(0, 0, 0)\n",
    "    And to ← point(0, 0, 1)\n",
    "    And up ← vector(0, 1, 0)\n",
    "  When t ← view_transform(from, to, up)\n",
    "  Then t = scaling(-1, 1, -1)\n",
    "\n",
    "Scenario: The view transformation moves the world\n",
    "  Given from ← point(0, 0, 8)\n",
    "    And to ← point(0, 0, 0)\n",
    "    And up ← vector(0, 1, 0)\n",
    "  When t ← view_transform(from, to, up)\n",
    "  Then t = translation(0, 0, -8)\n",
    "\n",
    "Scenario: An arbitrary view transformation\n",
    "  Given from ← point(1, 3, 2)\n",
    "    And to ← point(4, -2, 8)\n",
    "    And up ← vector(1, 1, 0)\n",
    "  When t ← view_transform(from, to, up)\n",
    "  Then t is the following 4x4 matrix:\n",
    "      | -0.50709 | 0.50709 |  0.67612 | -2.36643 |\n",
    "      |  0.76772 | 0.60609 |  0.12122 | -2.82843 |\n",
    "      | -0.35857 | 0.59761 | -0.71714 |  0.00000 |\n",
    "      |  0.00000 | 0.00000 |  0.00000 |  1.00000 |\n",
    "```"
   ]
  },
  {
   "cell_type": "code",
   "execution_count": 47,
   "metadata": {},
   "outputs": [
    {
     "data": {
      "text/html": [
       "<span style=\"white-space:pre; font-family: monospace\">1 0 0 0\n",
       "0 1 0 0\n",
       "0 0 1 0\n",
       "0 0 0 1\n",
       "</span>"
      ]
     },
     "execution_count": 47,
     "metadata": {},
     "output_type": "execute_result"
    },
    {
     "data": {
      "text/html": [
       "<span style=\"white-space:pre; font-family: monospace\">┌───┐\n",
       "│Yes│\n",
       "└───┘\n",
       "</span>"
      ]
     },
     "execution_count": 47,
     "metadata": {},
     "output_type": "execute_result"
    },
    {
     "data": {
      "text/html": [
       "<span style=\"white-space:pre; font-family: monospace\">¯1 0  0 0\n",
       " 0 1  0 0\n",
       " 0 0 ¯1 0\n",
       " 0 0  0 1\n",
       "</span>"
      ]
     },
     "execution_count": 47,
     "metadata": {},
     "output_type": "execute_result"
    },
    {
     "data": {
      "text/html": [
       "<span style=\"white-space:pre; font-family: monospace\">┌───┐\n",
       "│Yes│\n",
       "└───┘\n",
       "</span>"
      ]
     },
     "execution_count": 47,
     "metadata": {},
     "output_type": "execute_result"
    },
    {
     "data": {
      "text/html": [
       "<span style=\"white-space:pre; font-family: monospace\">1 0 0  0\n",
       "0 1 0  0\n",
       "0 0 1 ¯8\n",
       "0 0 0  1\n",
       "</span>"
      ]
     },
     "execution_count": 47,
     "metadata": {},
     "output_type": "execute_result"
    },
    {
     "data": {
      "text/html": [
       "<span style=\"white-space:pre; font-family: monospace\">┌───┐\n",
       "│Yes│\n",
       "└───┘\n",
       "</span>"
      ]
     },
     "execution_count": 47,
     "metadata": {},
     "output_type": "execute_result"
    },
    {
     "data": {
      "text/html": [
       "<span style=\"white-space:pre; font-family: monospace\">¯0.50709 0.50709  0.67612 ¯2.36643\n",
       " 0.76772 0.60609  0.12122 ¯2.82843\n",
       "¯0.35857 0.59761 ¯0.71714  0      \n",
       " 0       0        0        1      \n",
       "</span>"
      ]
     },
     "execution_count": 47,
     "metadata": {},
     "output_type": "execute_result"
    }
   ],
   "source": [
    "⍝ The transformation matrix for the default orientation\n",
    "from← point 0 0 0\n",
    "to← point 0 0 ¯1\n",
    "up← vector 0 1 0\n",
    "+t← view_transform from to up\n",
    "t yesno identity4\n",
    "⍝ A view transformation matrix looking in positive z direction\n",
    "from← point 0 0 0\n",
    "to← point 0 0 1\n",
    "up← vector 0 1 0\n",
    "+t← view_transform from to up\n",
    "t yesno scaling ¯1 1 ¯1\n",
    "⍝ The view transformation moves the world\n",
    "from← point 0 0 8\n",
    "to← point 0 0 0\n",
    "up← vector 0 1 0\n",
    "+t← view_transform from to up\n",
    "t yesno translation 0 0 ¯8\n",
    "⍝ An arbitrary view transformation\n",
    "from← point 1 3 2\n",
    "to← point 4 ¯2 8\n",
    "up← vector 1 1 0\n",
    "t← view_transform from to up\n",
    "4 4⍴ 9 5 roundMN ,t"
   ]
  },
  {
   "cell_type": "markdown",
   "metadata": {},
   "source": [
    "```\n",
    "Scenario: Constructing a camera\n",
    "  Given hsize ← 160\n",
    "    And vsize ← 120\n",
    "    And field_of_view ← π/2\n",
    "  When c ← camera(hsize, vsize, field_of_view)\n",
    "  Then c.hsize = 160\n",
    "    And c.vsize = 120\n",
    "    And c.field_of_view = π/2\n",
    "    And c.transform = identity_matrix\n",
    "\n",
    "Scenario: The pixel size for a horizontal canvas\n",
    "  Given c ← camera(200, 125, π/2)\n",
    "  Then c.pixel_size = 0.01\n",
    "\n",
    "Scenario: The pixel size for a vertical canvas\n",
    "  Given c ← camera(125, 200, π/2)\n",
    "  Then c.pixel_size = 0.01\n",
    "```"
   ]
  },
  {
   "cell_type": "code",
   "execution_count": 48,
   "metadata": {},
   "outputs": [
    {
     "data": {
      "text/html": [
       "<span style=\"white-space:pre; font-family: monospace\">┌───┬───┬──────┬───────┬──────┬─┬────┐\n",
       "│160│120│1.5708│1 0 0 0│0.0125│1│0.75│\n",
       "│   │   │      │0 1 0 0│      │ │    │\n",
       "│   │   │      │0 0 1 0│      │ │    │\n",
       "│   │   │      │0 0 0 1│      │ │    │\n",
       "└───┴───┴──────┴───────┴──────┴─┴────┘\n",
       "</span>"
      ]
     },
     "execution_count": 48,
     "metadata": {},
     "output_type": "execute_result"
    },
    {
     "data": {
      "text/html": [
       "<span style=\"white-space:pre; font-family: monospace\">┌───┐\n",
       "│Yes│\n",
       "└───┘\n",
       "</span>"
      ]
     },
     "execution_count": 48,
     "metadata": {},
     "output_type": "execute_result"
    },
    {
     "data": {
      "text/html": [
       "<span style=\"white-space:pre; font-family: monospace\">┌───┬───┬──────┬───────┬────┬─┬─────┐\n",
       "│200│125│1.5708│1 0 0 0│0.01│1│0.625│\n",
       "│   │   │      │0 1 0 0│    │ │     │\n",
       "│   │   │      │0 0 1 0│    │ │     │\n",
       "│   │   │      │0 0 0 1│    │ │     │\n",
       "└───┴───┴──────┴───────┴────┴─┴─────┘\n",
       "</span>"
      ]
     },
     "execution_count": 48,
     "metadata": {},
     "output_type": "execute_result"
    },
    {
     "data": {
      "text/html": [
       "<span style=\"white-space:pre; font-family: monospace\">┌───┐\n",
       "│Yes│\n",
       "└───┘\n",
       "</span>"
      ]
     },
     "execution_count": 48,
     "metadata": {},
     "output_type": "execute_result"
    },
    {
     "data": {
      "text/html": [
       "<span style=\"white-space:pre; font-family: monospace\">┌───┬───┬──────┬───────┬────┬─────┬─┐\n",
       "│125│200│1.5708│1 0 0 0│0.01│0.625│1│\n",
       "│   │   │      │0 1 0 0│    │     │ │\n",
       "│   │   │      │0 0 1 0│    │     │ │\n",
       "│   │   │      │0 0 0 1│    │     │ │\n",
       "└───┴───┴──────┴───────┴────┴─────┴─┘\n",
       "</span>"
      ]
     },
     "execution_count": 48,
     "metadata": {},
     "output_type": "execute_result"
    },
    {
     "data": {
      "text/html": [
       "<span style=\"white-space:pre; font-family: monospace\">┌───┐\n",
       "│Yes│\n",
       "└───┘\n",
       "</span>"
      ]
     },
     "execution_count": 48,
     "metadata": {},
     "output_type": "execute_result"
    }
   ],
   "source": [
    "⍝ Constructing a camera\n",
    "hsize← 160\n",
    "vsize← 120\n",
    "field_of_view← ○ 0.5\n",
    "+c← camera hsize vsize field_of_view\n",
    "160 120 field_of_view identity4 yesno c[camera_hsize camera_vsize camera_fview camera_transform]\n",
    "\n",
    "⍝ The pixel size for a horizontal canvas\n",
    "+c← camera 200 125 (○ 0.5)\n",
    "0.01 yesno c[camera_psize]\n",
    "\n",
    "⍝ The pixel size for a vertical canvas\n",
    "+c← camera 125 200 (○ 0.5)\n",
    "0.01 yesno c[camera_psize]"
   ]
  },
  {
   "cell_type": "markdown",
   "metadata": {},
   "source": [
    "```\n",
    "Scenario: Constructing a ray through the center of the canvas\n",
    "  Given c ← camera(201, 101, π/2)\n",
    "  When r ← ray_for_pixel(c, 100, 50)\n",
    "  Then r.origin = point(0, 0, 0)\n",
    "    And r.direction = vector(0, 0, -1)\n",
    "\n",
    "Scenario: Constructing a ray through a corner of the canvas\n",
    "  Given c ← camera(201, 101, π/2)\n",
    "  When r ← ray_for_pixel(c, 0, 0)\n",
    "  Then r.origin = point(0, 0, 0)\n",
    "    And r.direction = vector(0.66519, 0.33259, -0.66851)\n",
    "\n",
    "Scenario: Constructing a ray when the camera is transformed\n",
    "  Given c ← camera(201, 101, π/2)\n",
    "  When c.transform ← rotation_y(π/4) * translation(0, -2, 5)\n",
    "    And r ← ray_for_pixel(c, 100, 50)\n",
    "  Then r.origin = point(0, 2, -5)\n",
    "    And r.direction = vector(√2/2, 0, -√2/2)\n",
    "\n",
    "Scenario: Rendering a world with a camera\n",
    "  Given w ← default_world()\n",
    "    And c ← camera(11, 11, π/2)\n",
    "    And from ← point(0, 0, -5)\n",
    "    And to ← point(0, 0, 0)\n",
    "    And up ← vector(0, 1, 0)\n",
    "    And c.transform ← view_transform(from, to, up)\n",
    "  When image ← render(c, w)\n",
    "  Then pixel_at(image, 5, 5) = color(0.38066, 0.47583, 0.2855)\n",
    "```"
   ]
  },
  {
   "cell_type": "code",
   "execution_count": 49,
   "metadata": {},
   "outputs": [
    {
     "data": {
      "text/html": [
       "<span style=\"white-space:pre; font-family: monospace\">┌───────┬──────────────────┐\n",
       "│0 0 0 1│1.11022E¯16 0 ¯1 0│\n",
       "└───────┴──────────────────┘\n",
       "</span>"
      ]
     },
     "execution_count": 49,
     "metadata": {},
     "output_type": "execute_result"
    },
    {
     "data": {
      "text/html": [
       "<span style=\"white-space:pre; font-family: monospace\">┌───┐\n",
       "│Yes│\n",
       "└───┘\n",
       "</span>"
      ]
     },
     "execution_count": 49,
     "metadata": {},
     "output_type": "execute_result"
    },
    {
     "data": {
      "text/html": [
       "<span style=\"white-space:pre; font-family: monospace\">┌───┐\n",
       "│Yes│\n",
       "└───┘\n",
       "</span>"
      ]
     },
     "execution_count": 49,
     "metadata": {},
     "output_type": "execute_result"
    },
    {
     "data": {
      "text/html": [
       "<span style=\"white-space:pre; font-family: monospace\">┌───────┬─────────────────────────────┐\n",
       "│0 0 0 1│0.665186 0.332593 ¯0.668512 0│\n",
       "└───────┴─────────────────────────────┘\n",
       "</span>"
      ]
     },
     "execution_count": 49,
     "metadata": {},
     "output_type": "execute_result"
    },
    {
     "data": {
      "text/html": [
       "<span style=\"white-space:pre; font-family: monospace\">┌───┐\n",
       "│Yes│\n",
       "└───┘\n",
       "</span>"
      ]
     },
     "execution_count": 49,
     "metadata": {},
     "output_type": "execute_result"
    },
    {
     "data": {
      "text/html": [
       "<span style=\"white-space:pre; font-family: monospace\">┌───┐\n",
       "│Yes│\n",
       "└───┘\n",
       "</span>"
      ]
     },
     "execution_count": 49,
     "metadata": {},
     "output_type": "execute_result"
    },
    {
     "data": {
      "text/html": [
       "<span style=\"white-space:pre; font-family: monospace\">┌────────┬──────────────────────┐\n",
       "│0 2 ¯5 1│0.707107 0 ¯0.707107 0│\n",
       "└────────┴──────────────────────┘\n",
       "</span>"
      ]
     },
     "execution_count": 49,
     "metadata": {},
     "output_type": "execute_result"
    },
    {
     "data": {
      "text/html": [
       "<span style=\"white-space:pre; font-family: monospace\">┌───┐\n",
       "│Yes│\n",
       "└───┘\n",
       "</span>"
      ]
     },
     "execution_count": 49,
     "metadata": {},
     "output_type": "execute_result"
    },
    {
     "data": {
      "text/html": [
       "<span style=\"white-space:pre; font-family: monospace\">┌───┐\n",
       "│Yes│\n",
       "└───┘\n",
       "</span>"
      ]
     },
     "execution_count": 49,
     "metadata": {},
     "output_type": "execute_result"
    },
    {
     "data": {
      "text/html": [
       "<span style=\"white-space:pre; font-family: monospace\">0.380661 0.475826 0.285496\n",
       "</span>"
      ]
     },
     "execution_count": 49,
     "metadata": {},
     "output_type": "execute_result"
    },
    {
     "data": {
      "text/html": [
       "<span style=\"white-space:pre; font-family: monospace\">┌───┐\n",
       "│Yes│\n",
       "└───┘\n",
       "</span>"
      ]
     },
     "execution_count": 49,
     "metadata": {},
     "output_type": "execute_result"
    }
   ],
   "source": [
    "⍝ Constructing a ray through the center of the canvas\n",
    "c← camera 201 101 (○ 0.5)\n",
    "+r← c ray_for_pixel 100 50\n",
    "(point 0 0 0) yesno ⊃r[ray_origin]\n",
    "(vector 0 0 ¯1) yesno round0 ⊃r[ray_direction]\n",
    "\n",
    "⍝ Constructing a ray through a corner of the canvas\n",
    "+r← c ray_for_pixel 0 0\n",
    "(point 0 0 0) yesno ⊃r[ray_origin]\n",
    "(vector 0.66519 0.33259 ¯0.66851) yesno 9 5 roundMN ⊃r[ray_direction]\n",
    "\n",
    "⍝ Constructing a ray when the camera is transformed\n",
    "c[camera_transform]← ⊂(rotation_y ○ 0.25) +.× translation 0 ¯2 5\n",
    "+r← c ray_for_pixel 100 50\n",
    "(point 0 2 ¯5) yesno ⊃r[ray_origin]\n",
    "(vector (0.5×2*0.5) 0 (¯0.5×2*0.5)) yesno ⊃r[ray_direction]\n",
    "\n",
    "⍝ Rendering a world with a camera\n",
    "w← default_world\n",
    "c← camera 11 11 (○ 0.5)\n",
    "from← point 0 0 ¯5\n",
    "to← point 0 0 0\n",
    "up← vector 0 1 0\n",
    "c[camera_transform]← ⊂view_transform from to up\n",
    "image← w render c\n",
    "⊃image[6;6]\n",
    "0.38066 0.47583 0.2855 yesno 9 5 roundMN ⊃image[6;6]"
   ]
  },
  {
   "cell_type": "markdown",
   "metadata": {},
   "source": [
    "# Chapter 8. Shadows\n",
    "Building upon chapter 7, this chapter will determine the resulting color found by a ray as determined by shadows cast by objects in a scene."
   ]
  },
  {
   "cell_type": "markdown",
   "metadata": {},
   "source": [
    "## APL Code Chapter 8\n",
    "Once again, the book's author changes a function or data structure, and that forces a change to previous regression tests! In this case he adds an extra argument to the **lighting** function defined in Chapter 6. he also modifies the **shade_hit** function to check whether or not a point is in shadow and pass the result to the **lighting** function. The **prepare_hit** function is also modified to avoid the phenomenon known as *acne* that leaves speckled dots on a surface.\n",
    "\n",
    "In **lighting** I can add a test for number of arguments and give a default value for the new argument if it is not supplied. The other two functions can be modified internally as well.\n",
    "\n",
    "Functions implemented or modified in this chapter include\n",
    "\n",
    "- Function **is_shadowed(world,point)** that returns Boolean true/false if point is in a world object shadow\n",
    "- Function **lighting(m, light, position, eyev, normalv, in_shadow)** returns a color based on material illuminated by lighting and eye position\n",
    "- Function **shade_hit(world,ray)** returns a color\n",
    "- Function **prepare_hit(hit,ray)** returns an augmented hit"
   ]
  },
  {
   "cell_type": "markdown",
   "metadata": {},
   "source": [
    "## Implementation\n",
    "The arguments and return values of functions are defined in APL as follows\n",
    "\n",
    "- *world* **is_shadowed** *point* → *Boolean*\n",
    "- **lighting** m light position eyev normalv *and optionally* in_shadow → *color*\n",
    "- *world* **shade_hit** *ray* → *color*\n",
    "- *hit* **prepare_hit** *ray* → *hit*"
   ]
  },
  {
   "cell_type": "markdown",
   "metadata": {},
   "source": [
    "```\n",
    "function is_shadowed(world, point)\n",
    "  v ← world.light.position - point\n",
    "  distance ← magnitude(v)\n",
    "  direction ← normalize(v)\n",
    "\n",
    "  r ← ray(point, direction)\n",
    "  intersections ← intersect_world(world, r)\n",
    "\n",
    "  h ← hit(intersections)\n",
    "  if h is present and h.t < distance\n",
    "    return true\n",
    "  else\n",
    "    return false\n",
    "  end if\n",
    "end function\n",
    "```"
   ]
  },
  {
   "cell_type": "markdown",
   "metadata": {},
   "source": [
    "You may need to fix your other tests to accommodate the addition of that new\n",
    "parameter. Go ahead and address that, and then make this new test pass as\n",
    "well by making your **lighting()** function ignore the specular and diffuse components\n",
    "when in_shadow is true."
   ]
  },
  {
   "cell_type": "markdown",
   "metadata": {},
   "source": [
    "Next, modify your shade_hit() function so that it invokes is_shadowed() with the\n",
    "hit’s newly offset over_point attribute, and then call the lighting() function (again\n",
    "with over_point) with the result. In pseudocode:\n",
    "```\n",
    "function shade_hit(world, comps)\n",
    "shadowed ← is_shadowed(world, comps.over_point)\n",
    "return lighting(comps.object.material,\n",
    "world.light,\n",
    "comps.over_point, comps.eyev, comps.normalv,\n",
    "shadowed)\n",
    "end function\n",
    "```"
   ]
  },
  {
   "cell_type": "markdown",
   "metadata": {},
   "source": [
    "In pseudocode, your prepare_computations() function will need to do something\n",
    "like this:\n",
    "```\n",
    "\\# after computing and (if appropriate) negating\n",
    "\\# the normal vector...\n",
    "comps.over_point ← comps.point + comps.normalv * EPSILON\n",
    "```\n",
    "\n",
    "EPSILON is the tiny number discussed in Comparing Floating Point Numbers,\n",
    "on page 5, and is used here to bump the point just a bit in the direction of\n",
    "the normal."
   ]
  },
  {
   "cell_type": "markdown",
   "metadata": {},
   "source": [
    "## Chapter 8 Test Cases"
   ]
  },
  {
   "cell_type": "markdown",
   "metadata": {},
   "source": [
    "```\n",
    "Scenario: Lighting with the surface in shadow\n",
    "  Given eyev ← vector(0, 0, -1)\n",
    "    And normalv ← vector(0, 0, -1)\n",
    "    And light ← point_light(point(0, 0, -10), color(1, 1, 1))\n",
    "    And in_shadow ← true\n",
    "  When result ← lighting(m, light, position, eyev, normalv, in_shadow)\n",
    "  Then result = color(0.1, 0.1, 0.1)\n",
    "```"
   ]
  },
  {
   "cell_type": "code",
   "execution_count": 50,
   "metadata": {},
   "outputs": [
    {
     "data": {
      "text/html": [
       "<span style=\"white-space:pre; font-family: monospace\">0.1 0.1 0.1\n",
       "</span>"
      ]
     },
     "execution_count": 50,
     "metadata": {},
     "output_type": "execute_result"
    },
    {
     "data": {
      "text/html": [
       "<span style=\"white-space:pre; font-family: monospace\">┌───┐\n",
       "│Yes│\n",
       "└───┘\n",
       "</span>"
      ]
     },
     "execution_count": 50,
     "metadata": {},
     "output_type": "execute_result"
    }
   ],
   "source": [
    "m← material\n",
    "p← point 0 0 0\n",
    "eyev← vector 0 0 ¯1\n",
    "normalv← vector 0 0 ¯1\n",
    "l← (point 0 0 ¯10) point_light 1 1 1\n",
    "ins← 1\n",
    "+r← lighting m l p eyev normalv ins sphere\n",
    "r yesno 0.1 0.1 0.1"
   ]
  },
  {
   "cell_type": "markdown",
   "metadata": {},
   "source": [
    "```\n",
    "Scenario: There is no shadow when nothing is collinear with point and light\n",
    "  Given w ← default_world()\n",
    "    And p ← point(0, 10, 0)\n",
    "   Then is_shadowed(w, p) is false\n",
    "\n",
    "Scenario: The shadow when an object is between the point and the light\n",
    "  Given w ← default_world()\n",
    "    And p ← point(10, -10, 10)\n",
    "   Then is_shadowed(w, p) is true\n",
    "\n",
    "Scenario: There is no shadow when an object is behind the light\n",
    "  Given w ← default_world()\n",
    "    And p ← point(-20, 20, -20)\n",
    "   Then is_shadowed(w, p) is false\n",
    "\n",
    "Scenario: There is no shadow when an object is behind the point\n",
    "  Given w ← default_world()\n",
    "    And p ← point(-2, 2, -2)\n",
    "   Then is_shadowed(w, p) is false\n",
    "```"
   ]
  },
  {
   "cell_type": "code",
   "execution_count": 51,
   "metadata": {},
   "outputs": [
    {
     "data": {
      "text/html": [
       "<span style=\"white-space:pre; font-family: monospace\">0\n",
       "</span>"
      ]
     },
     "execution_count": 51,
     "metadata": {},
     "output_type": "execute_result"
    },
    {
     "data": {
      "text/html": [
       "<span style=\"white-space:pre; font-family: monospace\">┌─────┐\n",
       "│False│\n",
       "└─────┘\n",
       "</span>"
      ]
     },
     "execution_count": 51,
     "metadata": {},
     "output_type": "execute_result"
    },
    {
     "data": {
      "text/html": [
       "<span style=\"white-space:pre; font-family: monospace\">1\n",
       "</span>"
      ]
     },
     "execution_count": 51,
     "metadata": {},
     "output_type": "execute_result"
    },
    {
     "data": {
      "text/html": [
       "<span style=\"white-space:pre; font-family: monospace\">┌────┐\n",
       "│True│\n",
       "└────┘\n",
       "</span>"
      ]
     },
     "execution_count": 51,
     "metadata": {},
     "output_type": "execute_result"
    },
    {
     "data": {
      "text/html": [
       "<span style=\"white-space:pre; font-family: monospace\">0\n",
       "</span>"
      ]
     },
     "execution_count": 51,
     "metadata": {},
     "output_type": "execute_result"
    },
    {
     "data": {
      "text/html": [
       "<span style=\"white-space:pre; font-family: monospace\">┌─────┐\n",
       "│False│\n",
       "└─────┘\n",
       "</span>"
      ]
     },
     "execution_count": 51,
     "metadata": {},
     "output_type": "execute_result"
    },
    {
     "data": {
      "text/html": [
       "<span style=\"white-space:pre; font-family: monospace\">0\n",
       "</span>"
      ]
     },
     "execution_count": 51,
     "metadata": {},
     "output_type": "execute_result"
    },
    {
     "data": {
      "text/html": [
       "<span style=\"white-space:pre; font-family: monospace\">┌─────┐\n",
       "│False│\n",
       "└─────┘\n",
       "</span>"
      ]
     },
     "execution_count": 51,
     "metadata": {},
     "output_type": "execute_result"
    }
   ],
   "source": [
    "⍝ There is no shadow when nothing is collinear with point and light\n",
    "w← default_world\n",
    "p← point 0 10 0\n",
    "+r← w is_shadowed p\n",
    "truefalse r\n",
    "\n",
    "⍝ The shadow when an object is between the point and the light\n",
    "p← point 10 ¯10 10\n",
    "+r← w is_shadowed p\n",
    "truefalse r\n",
    "\n",
    "⍝ There is no shadow when an object is behind the light\n",
    "p← point ¯20 20 ¯20\n",
    "+r← w is_shadowed p\n",
    "truefalse r\n",
    "\n",
    "⍝ There is no shadow when an object is behind the point\n",
    "p← point ¯2 2 ¯2\n",
    "+r← w is_shadowed p\n",
    "truefalse r"
   ]
  },
  {
   "cell_type": "markdown",
   "metadata": {},
   "source": [
    "```\n",
    "Scenario: shade_hit() is given an intersection in shadow\n",
    "  Given w ← world()\n",
    "    And w.light ← point_light(point(0, 0, -10), color(1, 1, 1))\n",
    "    And s1 ← sphere()\n",
    "    And s1 is added to w\n",
    "    And s2 ← sphere() with:\n",
    "      | transform | translation(0, 0, 10) |\n",
    "    And s2 is added to w\n",
    "    And r ← ray(point(0, 0, 5), vector(0, 0, 1))\n",
    "    And i ← intersection(4, s2)\n",
    "  When comps ← prepare_computations(i, r)\n",
    "    And c ← shade_hit(w, comps)\n",
    "  Then c = color(0.1, 0.1, 0.1)\n",
    "```"
   ]
  },
  {
   "cell_type": "code",
   "execution_count": 52,
   "metadata": {},
   "outputs": [
    {
     "data": {
      "text/html": [
       "<span style=\"white-space:pre; font-family: monospace\">┌──────────────────────────────────────────┬─┬───────┬────────┬────────┬─┬────────┬─────────────┬─────────────┬─┬─┐\n",
       "│┌─┬────────┬─────────────────────────────┐│4│0 0 9 1│0 0 ¯1 0│0 0 ¯1 0│0│0 0 ¯1 0│0 0 8.99999 1│0 0 9.00001 1│0│0│\n",
       "││1│1 0 0  0│┌─────┬───┬───┬───┬───┬─┬─┬─┐││ │       │        │        │ │        │             │             │ │ │\n",
       "││ │0 1 0  0││1 1 1│0.1│0.9│0.9│200│0│1│0│││ │       │        │        │ │        │             │             │ │ │\n",
       "││ │0 0 1 10│└─────┴───┴───┴───┴───┴─┴─┴─┘││ │       │        │        │ │        │             │             │ │ │\n",
       "││ │0 0 0  1│                             ││ │       │        │        │ │        │             │             │ │ │\n",
       "│└─┴────────┴─────────────────────────────┘│ │       │        │        │ │        │             │             │ │ │\n",
       "└──────────────────────────────────────────┴─┴───────┴────────┴────────┴─┴────────┴─────────────┴─────────────┴─┴─┘\n",
       "</span>"
      ]
     },
     "execution_count": 52,
     "metadata": {},
     "output_type": "execute_result"
    },
    {
     "data": {
      "text/html": [
       "<span style=\"white-space:pre; font-family: monospace\">0.1 0.1 0.1\n",
       "</span>"
      ]
     },
     "execution_count": 52,
     "metadata": {},
     "output_type": "execute_result"
    },
    {
     "data": {
      "text/html": [
       "<span style=\"white-space:pre; font-family: monospace\">┌───┐\n",
       "│Yes│\n",
       "└───┘\n",
       "</span>"
      ]
     },
     "execution_count": 52,
     "metadata": {},
     "output_type": "execute_result"
    }
   ],
   "source": [
    "w← world\n",
    "w[1]← ⊂⊂ (point 0 0 ¯10) point_light 1 1 1\n",
    "s1← sphere\n",
    "w[2],← ⊂⊂s1\n",
    "s2← sphere\n",
    "s2[obj_transform]← ⊂translation 0 0 10\n",
    "w[2],← ⊂⊂s2\n",
    "r← (point 0 0 5) ray vector 0 0 1\n",
    "i← s2 intersection 4\n",
    "+comps← i prepare_computations r\n",
    "+c← w shade_hit comps\n",
    "c yesno 0.1 0.1 0.1"
   ]
  },
  {
   "cell_type": "markdown",
   "metadata": {},
   "source": [
    "```\n",
    "Scenario: The hit should offset the point\n",
    "  Given r ← ray(point(0, 0, -5), vector(0, 0, 1))\n",
    "    And shape ← sphere() with:\n",
    "      | transform | translation(0, 0, 1) |\n",
    "    And i ← intersection(5, shape)\n",
    "  When comps ← prepare_computations(i, r)\n",
    "  Then comps.over_point.z < -EPSILON/2\n",
    "    And comps.point.z > comps.over_point.z\n",
    "```"
   ]
  },
  {
   "cell_type": "code",
   "execution_count": 53,
   "metadata": {},
   "outputs": [
    {
     "data": {
      "text/html": [
       "<span style=\"white-space:pre; font-family: monospace\">┌─────────────────────────────────────────┬─┬───────┬────────┬────────┬─┬────────┬──────────────┬─────────────┬─┬─┐\n",
       "│┌─┬───────┬─────────────────────────────┐│5│0 0 0 1│0 0 ¯1 0│0 0 ¯1 0│0│0 0 ¯1 0│0 0 ¯0.00001 1│0 0 0.00001 1│0│0│\n",
       "││1│1 0 0 0│┌─────┬───┬───┬───┬───┬─┬─┬─┐││ │       │        │        │ │        │              │             │ │ │\n",
       "││ │0 1 0 0││1 1 1│0.1│0.9│0.9│200│0│1│0│││ │       │        │        │ │        │              │             │ │ │\n",
       "││ │0 0 1 1│└─────┴───┴───┴───┴───┴─┴─┴─┘││ │       │        │        │ │        │              │             │ │ │\n",
       "││ │0 0 0 1│                             ││ │       │        │        │ │        │              │             │ │ │\n",
       "│└─┴───────┴─────────────────────────────┘│ │       │        │        │ │        │              │             │ │ │\n",
       "└─────────────────────────────────────────┴─┴───────┴────────┴────────┴─┴────────┴──────────────┴─────────────┴─┴─┘\n",
       "</span>"
      ]
     },
     "execution_count": 53,
     "metadata": {},
     "output_type": "execute_result"
    },
    {
     "data": {
      "text/html": [
       "<span style=\"white-space:pre; font-family: monospace\">0 0 0 1\n",
       "</span>"
      ]
     },
     "execution_count": 53,
     "metadata": {},
     "output_type": "execute_result"
    },
    {
     "data": {
      "text/html": [
       "<span style=\"white-space:pre; font-family: monospace\">0 0 ¯0.00001 1\n",
       "</span>"
      ]
     },
     "execution_count": 53,
     "metadata": {},
     "output_type": "execute_result"
    },
    {
     "data": {
      "text/html": [
       "<span style=\"white-space:pre; font-family: monospace\">┌────┐\n",
       "│True│\n",
       "└────┘\n",
       "</span>"
      ]
     },
     "execution_count": 53,
     "metadata": {},
     "output_type": "execute_result"
    },
    {
     "data": {
      "text/html": [
       "<span style=\"white-space:pre; font-family: monospace\">┌────┐\n",
       "│True│\n",
       "└────┘\n",
       "</span>"
      ]
     },
     "execution_count": 53,
     "metadata": {},
     "output_type": "execute_result"
    }
   ],
   "source": [
    "r← (point 0 0 ¯5) ray vector 0 0 1\n",
    "s← sphere\n",
    "s[obj_transform]← ⊂translation 0 0 1\n",
    "i← s intersection 5\n",
    "+comps← i prepare_computations r\n",
    "+p← ⊃comps[hit_point]\n",
    "+op← ⊃comps[hit_overpt]\n",
    "truefalse op[3]<¯0.5×EPSILON\n",
    "truefalse p[3]>op[3]"
   ]
  },
  {
   "cell_type": "markdown",
   "metadata": {},
   "source": [
    "# Chapter 9. Planes\n",
    "This chapter introduces the first of several new objects that can appear in scenes. The author finally talks of refactoring to acknowledge the evolving definition of functions and data structures. This is the point where common object attributes are considered. The author identifies two attributes, the **transformation matrix** and the **material** attributes of an object. There is definitely a object-oriented view by the author.\n",
    "\n",
    "Since this is my second pass through the book, I've anticipated these changes to minimize restructuring. I will need to rename some functions, like **normal_at** becomes **sphere_normal_at** and then a new normal_at fnction is defined that will call object-specific normal functions."
   ]
  },
  {
   "cell_type": "markdown",
   "metadata": {},
   "source": [
    "## Chapter 9 APL Code\n",
    "Functions defined in this chapter include\n",
    "\n",
    "- Constant *test_shape* has the default shape attributes of tag, transform matrix and material\n",
    "- Function **intersect** accepts a shape and *ray*, returning null or two *intersection* structures\n",
    "- Function **normal_at** accepts a shape and *ray*, returning a *vector* normal to the given shape\n",
    "- Constant *plane* returns a default shape with a Plane tag\n",
    "- Function **plane_intersect** accepts a *plane* shape and *ray*, returning null or two *intersection* objects\n",
    "- Function **plane_normal_at** accepts a *plane* and *ray*, returning a *vector* normal to the given Plane\n",
    "\n",
    "The previous **normal_at** and **intersect** are renamed **sphere_normal_at** and **sphere_intersect**.\n",
    "\n",
    "Note that **plane_interact** returns two intersections rather than one in order to be compatible with **sphere_intersect** and likely all other shape intersect functions."
   ]
  },
  {
   "cell_type": "markdown",
   "metadata": {},
   "source": [
    "## Chapter 9 Implementation\n",
    "The argument and return value format of functions in this Chapter are as follows\n",
    "\n",
    "- *plane* **plane_intersect** *ray* → ⍬ or *intersection* *intersection*\n",
    "- *plane* **plane_normal_at** *ray* → *vector*\n",
    "- object **intersect** *ray* → ⍬ or *intersection* *intersection*\n",
    "- object **normal_at** *ray* → *vector*"
   ]
  },
  {
   "cell_type": "markdown",
   "metadata": {},
   "source": [
    "```\n",
    "function intersect(shape, ray)\n",
    "  local_ray ← transform(ray, inverse(shape.transform))\n",
    "  return local_intersect(shape, local_ray)\n",
    "end function\n",
    "```"
   ]
  },
  {
   "cell_type": "markdown",
   "metadata": {},
   "source": [
    "```\n",
    "function normal_at(shape, point)\n",
    "  local_point  ← inverse(shape.transform) * point\n",
    "  local_normal ← local_normal_at(shape, local_point)\n",
    "  world_normal ← transpose(inverse(shape.transform)) * local_normal\n",
    "  world_normal.w ← 0\n",
    "\n",
    "  return normalize(world_normal)\n",
    "end function\n",
    "```"
   ]
  },
  {
   "cell_type": "markdown",
   "metadata": {},
   "source": [
    "Because a plane has no curvature, it’s normal vector is constant everywhere—\n",
    "it doesn’t change. Every single point on the plane has the same normal:\n",
    "vector(0, 1, 0)."
   ]
  },
  {
   "cell_type": "markdown",
   "metadata": {},
   "source": [
    "```\n",
    "function local_intersect(ray, plane)\n",
    "  if abs(ray.direction.y) < EPSILON\n",
    "    return () # empty set -- no intersections\n",
    "  end if\n",
    "\n",
    "  t ← -ray.origin.y / ray.direction.y\n",
    "  return ( intersection(t, plane) )\n",
    "end function\n",
    "```"
   ]
  },
  {
   "cell_type": "markdown",
   "metadata": {},
   "source": [
    "## Chapter 9 Test Cases"
   ]
  },
  {
   "cell_type": "markdown",
   "metadata": {},
   "source": [
    "```\n",
    "Scenario: The default transformation\n",
    "  Given s ← test_shape()\n",
    "  Then s.transform = identity_matrix\n",
    "\n",
    "Scenario: Assigning a transformation\n",
    "  Given s ← test_shape()\n",
    "  When set_transform(s, translation(2, 3, 4))\n",
    "  Then s.transform = translation(2, 3, 4)\n",
    "\n",
    "Scenario: The default material\n",
    "  Given s ← test_shape()\n",
    "  When m ← s.material\n",
    "  Then m = material()\n",
    "\n",
    "Scenario: Assigning a material\n",
    "  Given s ← test_shape()\n",
    "    And m ← material()\n",
    "    And m.ambient ← 1\n",
    "  When s.material ← m\n",
    "  Then s.material = m\n",
    "```"
   ]
  },
  {
   "cell_type": "code",
   "execution_count": 54,
   "metadata": {},
   "outputs": [
    {
     "data": {
      "text/html": [
       "<span style=\"white-space:pre; font-family: monospace\">┌─┬───────┬─────────────────────────────┐\n",
       "│0│1 0 0 0│┌─────┬───┬───┬───┬───┬─┬─┬─┐│\n",
       "│ │0 1 0 0││1 1 1│0.1│0.9│0.9│200│0│1│0││\n",
       "│ │0 0 1 0│└─────┴───┴───┴───┴───┴─┴─┴─┘│\n",
       "│ │0 0 0 1│                             │\n",
       "└─┴───────┴─────────────────────────────┘\n",
       "</span>"
      ]
     },
     "execution_count": 54,
     "metadata": {},
     "output_type": "execute_result"
    },
    {
     "data": {
      "text/html": [
       "<span style=\"white-space:pre; font-family: monospace\">┌───┐\n",
       "│Yes│\n",
       "└───┘\n",
       "</span>"
      ]
     },
     "execution_count": 54,
     "metadata": {},
     "output_type": "execute_result"
    },
    {
     "data": {
      "text/html": [
       "<span style=\"white-space:pre; font-family: monospace\">┌───┐\n",
       "│Yes│\n",
       "└───┘\n",
       "</span>"
      ]
     },
     "execution_count": 54,
     "metadata": {},
     "output_type": "execute_result"
    },
    {
     "data": {
      "text/html": [
       "<span style=\"white-space:pre; font-family: monospace\">┌─────┬───┬───┬───┬───┬─┬─┬─┐\n",
       "│1 1 1│0.1│0.9│0.9│200│0│1│0│\n",
       "└─────┴───┴───┴───┴───┴─┴─┴─┘\n",
       "</span>"
      ]
     },
     "execution_count": 54,
     "metadata": {},
     "output_type": "execute_result"
    },
    {
     "data": {
      "text/html": [
       "<span style=\"white-space:pre; font-family: monospace\">┌───┐\n",
       "│Yes│\n",
       "└───┘\n",
       "</span>"
      ]
     },
     "execution_count": 54,
     "metadata": {},
     "output_type": "execute_result"
    },
    {
     "data": {
      "text/html": [
       "<span style=\"white-space:pre; font-family: monospace\">┌───┐\n",
       "│Yes│\n",
       "└───┘\n",
       "</span>"
      ]
     },
     "execution_count": 54,
     "metadata": {},
     "output_type": "execute_result"
    }
   ],
   "source": [
    "⍝ The default transformation\n",
    "+s← test_shape\n",
    "identity4 yesno ⊃s[obj_transform]\n",
    "\n",
    "⍝ Assigning a transformation\n",
    "s← test_shape\n",
    "s[obj_transform]← ⊂translation 2 3 4\n",
    "(⊃s[obj_transform]) yesno translation 2 3 4\n",
    "\n",
    "⍝ The default material\n",
    "s← test_shape\n",
    "+m← ⊃s[obj_material]\n",
    "m yesno material\n",
    "\n",
    "⍝ Assigning a material\n",
    "s← test_shape\n",
    "m← material\n",
    "m[material_ambient]← 1\n",
    "s[obj_material]← ⊂m\n",
    "m yesno ⊃s[obj_material]"
   ]
  },
  {
   "cell_type": "markdown",
   "metadata": {},
   "source": [
    "```\n",
    "Scenario: Intersecting a scaled shape with a ray\n",
    "  Given r ← ray(point(0, 0, -5), vector(0, 0, 1))\n",
    "    And s ← test_shape()\n",
    "  When set_transform(s, scaling(2, 2, 2))\n",
    "    And xs ← intersect(s, r)\n",
    "  Then s.saved_ray.origin = point(0, 0, -2.5)\n",
    "    And s.saved_ray.direction = vector(0, 0, 0.5)\n",
    "\n",
    "Scenario: Intersecting a translated shape with a ray\n",
    "  Given r ← ray(point(0, 0, -5), vector(0, 0, 1))\n",
    "    And s ← test_shape()\n",
    "  When set_transform(s, translation(5, 0, 0))\n",
    "    And xs ← intersect(s, r)\n",
    "  Then s.saved_ray.origin = point(-5, 0, -5)\n",
    "    And s.saved_ray.direction = vector(0, 0, 1)\n",
    "```"
   ]
  },
  {
   "cell_type": "code",
   "execution_count": 55,
   "metadata": {},
   "outputs": [
    {
     "data": {
      "text/html": [
       "<span style=\"white-space:pre; font-family: monospace\">┌──────────┬─────────┐\n",
       "│0 0 ¯2.5 1│0 0 0.5 0│\n",
       "└──────────┴─────────┘\n",
       "</span>"
      ]
     },
     "execution_count": 55,
     "metadata": {},
     "output_type": "execute_result"
    },
    {
     "data": {
      "text/html": [
       "<span style=\"white-space:pre; font-family: monospace\">┌───┐\n",
       "│Yes│\n",
       "└───┘\n",
       "</span>"
      ]
     },
     "execution_count": 55,
     "metadata": {},
     "output_type": "execute_result"
    },
    {
     "data": {
      "text/html": [
       "<span style=\"white-space:pre; font-family: monospace\">┌───┐\n",
       "│Yes│\n",
       "└───┘\n",
       "</span>"
      ]
     },
     "execution_count": 55,
     "metadata": {},
     "output_type": "execute_result"
    },
    {
     "data": {
      "text/html": [
       "<span style=\"white-space:pre; font-family: monospace\">┌─────────┬───────┐\n",
       "│¯5 0 ¯5 1│0 0 1 0│\n",
       "└─────────┴───────┘\n",
       "</span>"
      ]
     },
     "execution_count": 55,
     "metadata": {},
     "output_type": "execute_result"
    },
    {
     "data": {
      "text/html": [
       "<span style=\"white-space:pre; font-family: monospace\">┌───┐\n",
       "│Yes│\n",
       "└───┘\n",
       "</span>"
      ]
     },
     "execution_count": 55,
     "metadata": {},
     "output_type": "execute_result"
    },
    {
     "data": {
      "text/html": [
       "<span style=\"white-space:pre; font-family: monospace\">┌───┐\n",
       "│Yes│\n",
       "└───┘\n",
       "</span>"
      ]
     },
     "execution_count": 55,
     "metadata": {},
     "output_type": "execute_result"
    }
   ],
   "source": [
    "⍝ Intersecting a scaled shape with a ray\n",
    "r← (point 0 0 ¯5) ray vector 0 0 1\n",
    "s← test_shape\n",
    "s[obj_transform]← ⊂scaling 2 2 2\n",
    "+xs← s intersect r\n",
    "(⊃xs[ray_origin]) yesno point 0 0 ¯2.5\n",
    "(⊃xs[ray_direction]) yesno vector 0 0 0.5\n",
    "\n",
    "⍝ Intersecting a translated shape with a ray\n",
    "s[obj_transform]← ⊂translation 5 0 0\n",
    "+xs← s intersect r\n",
    "(⊃xs[ray_origin]) yesno point ¯5 0 ¯5\n",
    "(⊃xs[ray_direction]) yesno vector 0 0 1"
   ]
  },
  {
   "cell_type": "markdown",
   "metadata": {},
   "source": [
    "```\n",
    "Scenario: Computing the normal on a translated shape\n",
    "  Given s ← test_shape()\n",
    "  When set_transform(s, translation(0, 1, 0))\n",
    "    And n ← normal_at(s, point(0, 1.70711, -0.70711))\n",
    "  Then n = vector(0, 0.70711, -0.70711)\n",
    "\n",
    "Scenario: Computing the normal on a transformed shape\n",
    "  Given s ← test_shape()\n",
    "    And m ← scaling(1, 0.5, 1) * rotation_z(π/5)\n",
    "  When set_transform(s, m)\n",
    "    And n ← normal_at(s, point(0, √2/2, -√2/2))\n",
    "  Then n = vector(0, 0.97014, -0.24254)\n",
    "```\n",
    "\n",
    "***The second test fails! Not yet understood.*** This was failing because I didn't apply the internal fixup function to the result defined by the author."
   ]
  },
  {
   "cell_type": "code",
   "execution_count": 56,
   "metadata": {},
   "outputs": [
    {
     "data": {
      "text/html": [
       "<span style=\"white-space:pre; font-family: monospace\">0 0.707107 ¯0.707107 0\n",
       "</span>"
      ]
     },
     "execution_count": 56,
     "metadata": {},
     "output_type": "execute_result"
    },
    {
     "data": {
      "text/html": [
       "<span style=\"white-space:pre; font-family: monospace\">0 0.70711 ¯0.70711 0\n",
       "</span>"
      ]
     },
     "execution_count": 56,
     "metadata": {},
     "output_type": "execute_result"
    },
    {
     "data": {
      "text/html": [
       "<span style=\"white-space:pre; font-family: monospace\">┌───┐\n",
       "│Yes│\n",
       "└───┘\n",
       "</span>"
      ]
     },
     "execution_count": 56,
     "metadata": {},
     "output_type": "execute_result"
    },
    {
     "data": {
      "text/html": [
       "<span style=\"white-space:pre; font-family: monospace\">3.80803E¯17 0.970143 ¯0.242536 0\n",
       "</span>"
      ]
     },
     "execution_count": 56,
     "metadata": {},
     "output_type": "execute_result"
    },
    {
     "data": {
      "text/html": [
       "<span style=\"white-space:pre; font-family: monospace\">0 0.97014 ¯0.24254 0\n",
       "</span>"
      ]
     },
     "execution_count": 56,
     "metadata": {},
     "output_type": "execute_result"
    },
    {
     "data": {
      "text/html": [
       "<span style=\"white-space:pre; font-family: monospace\">┌───┐\n",
       "│Yes│\n",
       "└───┘\n",
       "</span>"
      ]
     },
     "execution_count": 56,
     "metadata": {},
     "output_type": "execute_result"
    }
   ],
   "source": [
    "⍝ Computing the normal on a translated shape\n",
    "s← test_shape\n",
    "s[obj_transform]← ⊂translation 0 1 0\n",
    "+n← s normal_at point 0 1.70711 ¯0.70711\n",
    "9 5 roundMN n\n",
    "(9 5 roundMN n) yesno vector 0 0.70711 ¯0.70711\n",
    "\n",
    "⍝ Computing the normal on a transformed shape\n",
    "s← test_shape\n",
    "s[obj_transform]← ⊂(scaling 1 0.5 1) +.× rotation_z ○ 0.2\n",
    "⍝ s[obj_transform]← ⊂(rotation_z ○ 0.2) +.× scaling 1 0.5 1\n",
    "+n← s normal_at point 0 (0.5×2*0.5) (¯0.5×2*0.5)\n",
    "9 5 roundMN n\n",
    "(9 5 roundMN n) yesno vector 0 0.97014 ¯0.24254"
   ]
  },
  {
   "cell_type": "markdown",
   "metadata": {},
   "source": [
    "```\n",
    "Scenario: The normal of a plane is constant everywhere\n",
    "  Given p ← plane()\n",
    "  When n1 ← local_normal_at(p, point(0, 0, 0))\n",
    "    And n2 ← local_normal_at(p, point(10, 0, -10))\n",
    "    And n3 ← local_normal_at(p, point(-5, 0, 150))\n",
    "  Then n1 = vector(0, 1, 0)\n",
    "    And n2 = vector(0, 1, 0)\n",
    "    And n3 = vector(0, 1, 0)\n",
    "\n",
    "Scenario: Intersect with a ray parallel to the plane\n",
    "  Given p ← plane()\n",
    "    And r ← ray(point(0, 10, 0), vector(0, 0, 1))\n",
    "  When xs ← local_intersect(p, r)\n",
    "  Then xs is empty\n",
    "\n",
    "Scenario: Intersect with a coplanar ray\n",
    "  Given p ← plane()\n",
    "    And r ← ray(point(0, 0, 0), vector(0, 0, 1))\n",
    "  When xs ← local_intersect(p, r)\n",
    "  Then xs is empty\n",
    "\n",
    "Scenario: A ray intersecting a plane from above\n",
    "  Given p ← plane()\n",
    "    And r ← ray(point(0, 1, 0), vector(0, -1, 0))\n",
    "  When xs ← local_intersect(p, r)\n",
    "  Then xs.count = 1\n",
    "    And xs[0].t = 1\n",
    "    And xs[0].object = p\n",
    "\n",
    "Scenario: A ray intersecting a plane from below\n",
    "  Given p ← plane()\n",
    "    And r ← ray(point(0, -1, 0), vector(0, 1, 0))\n",
    "  When xs ← local_intersect(p, r)\n",
    "  Then xs.count = 1\n",
    "    And xs[0].t = 1\n",
    "    And xs[0].object = p\n",
    "```"
   ]
  },
  {
   "cell_type": "code",
   "execution_count": 57,
   "metadata": {},
   "outputs": [
    {
     "data": {
      "text/html": [
       "<span style=\"white-space:pre; font-family: monospace\">┌─┬───────┬─────────────────────────────┐\n",
       "│2│1 0 0 0│┌─────┬───┬───┬───┬───┬─┬─┬─┐│\n",
       "│ │0 1 0 0││1 1 1│0.1│0.9│0.9│200│0│1│0││\n",
       "│ │0 0 1 0│└─────┴───┴───┴───┴───┴─┴─┴─┘│\n",
       "│ │0 0 0 1│                             │\n",
       "└─┴───────┴─────────────────────────────┘\n",
       "</span>"
      ]
     },
     "execution_count": 57,
     "metadata": {},
     "output_type": "execute_result"
    },
    {
     "data": {
      "text/html": [
       "<span style=\"white-space:pre; font-family: monospace\">0 1 0 0\n",
       "</span>"
      ]
     },
     "execution_count": 57,
     "metadata": {},
     "output_type": "execute_result"
    },
    {
     "data": {
      "text/html": [
       "<span style=\"white-space:pre; font-family: monospace\">┌───┐\n",
       "│Yes│\n",
       "└───┘\n",
       "</span>"
      ]
     },
     "execution_count": 57,
     "metadata": {},
     "output_type": "execute_result"
    },
    {
     "data": {
      "text/html": [
       "<span style=\"white-space:pre; font-family: monospace\">0 1 0 0\n",
       "</span>"
      ]
     },
     "execution_count": 57,
     "metadata": {},
     "output_type": "execute_result"
    },
    {
     "data": {
      "text/html": [
       "<span style=\"white-space:pre; font-family: monospace\">┌───┐\n",
       "│Yes│\n",
       "└───┘\n",
       "</span>"
      ]
     },
     "execution_count": 57,
     "metadata": {},
     "output_type": "execute_result"
    },
    {
     "data": {
      "text/html": [
       "<span style=\"white-space:pre; font-family: monospace\">0 1 0 0\n",
       "</span>"
      ]
     },
     "execution_count": 57,
     "metadata": {},
     "output_type": "execute_result"
    },
    {
     "data": {
      "text/html": [
       "<span style=\"white-space:pre; font-family: monospace\">┌───┐\n",
       "│Yes│\n",
       "└───┘\n",
       "</span>"
      ]
     },
     "execution_count": 57,
     "metadata": {},
     "output_type": "execute_result"
    },
    {
     "data": {
      "text/html": [
       "<span style=\"white-space:pre; font-family: monospace\">\n",
       "</span>"
      ]
     },
     "execution_count": 57,
     "metadata": {},
     "output_type": "execute_result"
    },
    {
     "data": {
      "text/html": [
       "<span style=\"white-space:pre; font-family: monospace\">┌───┐\n",
       "│Yes│\n",
       "└───┘\n",
       "</span>"
      ]
     },
     "execution_count": 57,
     "metadata": {},
     "output_type": "execute_result"
    },
    {
     "data": {
      "text/html": [
       "<span style=\"white-space:pre; font-family: monospace\">\n",
       "</span>"
      ]
     },
     "execution_count": 57,
     "metadata": {},
     "output_type": "execute_result"
    },
    {
     "data": {
      "text/html": [
       "<span style=\"white-space:pre; font-family: monospace\">┌───┐\n",
       "│Yes│\n",
       "└───┘\n",
       "</span>"
      ]
     },
     "execution_count": 57,
     "metadata": {},
     "output_type": "execute_result"
    },
    {
     "data": {
      "text/html": [
       "<span style=\"white-space:pre; font-family: monospace\">┌─────────────────────────────────────────────┬─────────────────────────────────────────────┐\n",
       "│┌─────────────────────────────────────────┬─┐│┌─────────────────────────────────────────┬─┐│\n",
       "││┌─┬───────┬─────────────────────────────┐│1│││┌─┬───────┬─────────────────────────────┐│1││\n",
       "│││2│1 0 0 0│┌─────┬───┬───┬───┬───┬─┬─┬─┐││ ││││2│1 0 0 0│┌─────┬───┬───┬───┬───┬─┬─┬─┐││ ││\n",
       "│││ │0 1 0 0││1 1 1│0.1│0.9│0.9│200│0│1│0│││ ││││ │0 1 0 0││1 1 1│0.1│0.9│0.9│200│0│1│0│││ ││\n",
       "│││ │0 0 1 0│└─────┴───┴───┴───┴───┴─┴─┴─┘││ ││││ │0 0 1 0│└─────┴───┴───┴───┴───┴─┴─┴─┘││ ││\n",
       "│││ │0 0 0 1│                             ││ ││││ │0 0 0 1│                             ││ ││\n",
       "││└─┴───────┴─────────────────────────────┘│ │││└─┴───────┴─────────────────────────────┘│ ││\n",
       "│└─────────────────────────────────────────┴─┘│└─────────────────────────────────────────┴─┘│\n",
       "└─────────────────────────────────────────────┴─────────────────────────────────────────────┘\n",
       "</span>"
      ]
     },
     "execution_count": 57,
     "metadata": {},
     "output_type": "execute_result"
    },
    {
     "data": {
      "text/html": [
       "<span style=\"white-space:pre; font-family: monospace\">┌───┐\n",
       "│Yes│\n",
       "└───┘\n",
       "</span>"
      ]
     },
     "execution_count": 57,
     "metadata": {},
     "output_type": "execute_result"
    },
    {
     "data": {
      "text/html": [
       "<span style=\"white-space:pre; font-family: monospace\">┌───┐\n",
       "│Yes│\n",
       "└───┘\n",
       "</span>"
      ]
     },
     "execution_count": 57,
     "metadata": {},
     "output_type": "execute_result"
    },
    {
     "data": {
      "text/html": [
       "<span style=\"white-space:pre; font-family: monospace\">┌─────────────────────────────────────────────┬─────────────────────────────────────────────┐\n",
       "│┌─────────────────────────────────────────┬─┐│┌─────────────────────────────────────────┬─┐│\n",
       "││┌─┬───────┬─────────────────────────────┐│1│││┌─┬───────┬─────────────────────────────┐│1││\n",
       "│││2│1 0 0 0│┌─────┬───┬───┬───┬───┬─┬─┬─┐││ ││││2│1 0 0 0│┌─────┬───┬───┬───┬───┬─┬─┬─┐││ ││\n",
       "│││ │0 1 0 0││1 1 1│0.1│0.9│0.9│200│0│1│0│││ ││││ │0 1 0 0││1 1 1│0.1│0.9│0.9│200│0│1│0│││ ││\n",
       "│││ │0 0 1 0│└─────┴───┴───┴───┴───┴─┴─┴─┘││ ││││ │0 0 1 0│└─────┴───┴───┴───┴───┴─┴─┴─┘││ ││\n",
       "│││ │0 0 0 1│                             ││ ││││ │0 0 0 1│                             ││ ││\n",
       "││└─┴───────┴─────────────────────────────┘│ │││└─┴───────┴─────────────────────────────┘│ ││\n",
       "│└─────────────────────────────────────────┴─┘│└─────────────────────────────────────────┴─┘│\n",
       "└─────────────────────────────────────────────┴─────────────────────────────────────────────┘\n",
       "</span>"
      ]
     },
     "execution_count": 57,
     "metadata": {},
     "output_type": "execute_result"
    },
    {
     "data": {
      "text/html": [
       "<span style=\"white-space:pre; font-family: monospace\">┌───┐\n",
       "│Yes│\n",
       "└───┘\n",
       "</span>"
      ]
     },
     "execution_count": 57,
     "metadata": {},
     "output_type": "execute_result"
    },
    {
     "data": {
      "text/html": [
       "<span style=\"white-space:pre; font-family: monospace\">┌───┐\n",
       "│Yes│\n",
       "└───┘\n",
       "</span>"
      ]
     },
     "execution_count": 57,
     "metadata": {},
     "output_type": "execute_result"
    }
   ],
   "source": [
    "⍝ The normal of a plane is constant everywhere\n",
    "+p← plane\n",
    "+n1← p plane_normal_at point 0 0 0\n",
    "n1 yesno vector 0 1 0\n",
    "+n2← p plane_normal_at point 10 0 ¯10\n",
    "n2 yesno vector 0 1 0\n",
    "+n3← p plane_normal_at point ¯5 0 150\n",
    "n3 yesno vector 0 1 0\n",
    "\n",
    "⍝ Intersect with a ray parallel to the plane\n",
    "r← (point 0 10 0) ray vector 0 0 1\n",
    "+xs← p plane_intersect r\n",
    "0 yesno ≢xs\n",
    "\n",
    "⍝ Intersect with a coplanar ray\n",
    "r← (point 0 0 0) ray vector 0 0 1\n",
    "+xs← p plane_intersect r\n",
    "0 yesno ≢xs\n",
    "\n",
    "⍝ A ray intersecting a plane from above\n",
    "r← (point 0 1 0) ray vector 0 ¯1 0\n",
    "+xs← p plane_intersect r\n",
    "p yesno ⊃1⌷⊃xs[1]\n",
    "1 yesno 2⌷⊃xs[1]\n",
    "\n",
    "⍝ A ray intersecting a plane from below\n",
    "r← (point 0 ¯1 0) ray vector 0 1 0\n",
    "+xs← p plane_intersect r\n",
    "p yesno ⊃1⌷⊃xs[1]\n",
    "1 yesno 2⌷⊃xs[1]"
   ]
  },
  {
   "cell_type": "markdown",
   "metadata": {},
   "source": [
    "# Chapter 10. Patterns\n",
    "Adding patterns to shapes, rather than just a uniform color. Four patterns are defined; stripe, gradient, ring and checker. This will extend the *material* data structure to include a pattern field. Since the existing color field would be overridden by a new pattern field, I'll just reused the existing color field."
   ]
  },
  {
   "cell_type": "markdown",
   "metadata": {},
   "source": [
    "## Pattern Data Structures\n",
    "The author really chooses to get messy here by repeatedly redefining what the basic *pattern* data structure is. And of course, each pattern type (stripe, checker, etc.) is identifiable and uses different coloring functions. Do you think the author intended the ray tracer to be implemented in an object-oriented language?\n",
    "\n",
    "Pattern fields are\n",
    "\n",
    "- The tag field, indicating the pattern type\n",
    "- The transformation field containing a transformation matrix\n",
    "- The color1 field\n",
    "- The color2 field\n",
    "\n",
    "The tag field is needed so that a specific coloring function can be invoked. No mention is made of a null pattern. Assuming the author doesn't screw around with the *material* data structure any further, I can use the length of the data structure to determine if a color or pattern is present."
   ]
  },
  {
   "cell_type": "markdown",
   "metadata": {},
   "source": [
    "## Chapter 10 Functions\n",
    "Naturally, the author needs to modify the **lighting** function in order to take into account the newly added pattern attribute of the *material* data structure. No changes to the argument list, thankfully. Here are the new functions related to patterning:\n",
    "\n",
    "- Function **stripe_pattern(color1,color2)** returns a stripe pattern\n",
    "- Function **gradient_pattern(color1,color2)** returns a gradient pattern\n",
    "- Function **ring_pattern(color1,color2)** returns a ring pattern\n",
    "- Function **checkers_pattern(color1,color2)** returns a checkers pattern\n",
    "- Function **pattern_at_shape(pattern,shape,point)** returns the color at a point on a shape\n",
    "- Function **pattern_at(pattern,point)** returns a color at a point along a given pattern\n",
    "- Function **lighting** is modified internally\n",
    "\n",
    "There is an intermediate function **stripe_at_object(pattern,point)** that implements coloring of an object point using a stripe pattern. This function gets generalized later via inheritance to become the **pattern_at_object** function (see what I mean about an OO orientation!) There are a couple of functions that will be ignored and tests possibly dropped that use them."
   ]
  },
  {
   "cell_type": "markdown",
   "metadata": {},
   "source": [
    "## Chapter 10 APL Code Implementation\n",
    "Function argument and return values are\n",
    "\n",
    "- *color* **stripe_pattern** *color* → *pattern*\n",
    "- *color* **gradient_pattern** *color* → *pattern*\n",
    "- *color* **ring_pattern** *color* → *pattern*\n",
    "- *color* **checker_pattern** *color* → *pattern*\n",
    "- *pattern* **pattern_at_shape** shape *point* → *color*\n",
    "- *pattern* **pattern_at** *point* → *color*\n",
    "- **lighting** *material* *point_light* *point* *vector* *vector* scalar → *color*\n",
    "\n",
    "The author uses object and shape interchangably in some of the functions referenced in the test cases, and also develops pattern-specific functions before generalizing them. Much the same annoying habit displayed in the Plane chapter that refactored shapes. I'll just define the two generalized functions and use them in the test cases."
   ]
  },
  {
   "cell_type": "markdown",
   "metadata": {},
   "source": [
    "```\n",
    "function lighting(material, light, point, eyev, normalv, in_shadow)\n",
    "  if material has a pattern\n",
    "    color ← stripe_at(material.pattern, point)\n",
    "  else\n",
    "    color ← material.color\n",
    "  end if\n",
    "\n",
    "  # then, compute the lighting as usual, using `color`\n",
    "  # instead of `material.color`\n",
    "\n",
    "  # ...\n",
    "end function\n",
    "```\n",
    "\n",
    "Now make your program actually use this new function by\n",
    "changing your lighting() and shade_hit() functions as follows:\n",
    "\n",
    "1. Add object as yet another parameter for your lighting() function. The tests\n",
    "and pseudocode in this book assume the new function signature is lighting(\n",
    "material, object, light, point, eyev, normalv, in_shadow).\n",
    "2. Modify the implementation of the lighting() function so that it calls\n",
    "stripe_at_object() instead of stripe_at().\n",
    "3. Modify shade_hit() so that it passes the hit’s object property to lighting().\n",
    "4. Fix your lighting() tests so that they create an object (a sphere is fine—it’s\n",
    "just a placeholder for those tests, anyway) and pass it to lighting().\n"
   ]
  },
  {
   "cell_type": "markdown",
   "metadata": {},
   "source": [
    "To make life easier, I'm just going to add 'object' to the end of the argument list instead of putting it in earlier. To avoid rewriting previous test cases though, I'll again check the length of the color argument."
   ]
  },
  {
   "cell_type": "markdown",
   "metadata": {},
   "source": [
    "```\n",
    "function stripe_at_object(pattern, object, world_point)\n",
    "  object_point  ← inverse(object.transform) * world_point\n",
    "  pattern_point ← inverse(pattern.transform) * object_point\n",
    "\n",
    "  return stripe_at(pattern, pattern_point)\n",
    "end function\n",
    "```"
   ]
  },
  {
   "cell_type": "markdown",
   "metadata": {},
   "source": [
    "A generalized function that applies any pattern to a given object is:"
   ]
  },
  {
   "cell_type": "markdown",
   "metadata": {},
   "source": [
    "```\n",
    "function gradient_pattern_at(gradient, point)\n",
    "  distance ← gradient.b - gradient.a\n",
    "  fraction ← point.x - floor(point.x)\n",
    "\n",
    "  return gradient.a + distance * fraction\n",
    "end\n",
    "```\n",
    "The generalized pattern_at function is:"
   ]
  },
  {
   "cell_type": "markdown",
   "metadata": {},
   "source": [
    "## Chapter 10 Test Cases"
   ]
  },
  {
   "cell_type": "markdown",
   "metadata": {},
   "source": [
    "```\n",
    "Background:\n",
    "  Given black ← color(0, 0, 0)\n",
    "    And white ← color(1, 1, 1)\n",
    "\n",
    "Scenario: Creating a stripe pattern\n",
    "  Given pattern ← stripe_pattern(white, black)\n",
    "  Then pattern.a = white\n",
    "    And pattern.b = black\n",
    "\n",
    "Scenario: A stripe pattern is constant in y\n",
    "  Given pattern ← stripe_pattern(white, black)\n",
    "  Then stripe_at(pattern, point(0, 0, 0)) = white\n",
    "    And stripe_at(pattern, point(0, 1, 0)) = white\n",
    "    And stripe_at(pattern, point(0, 2, 0)) = white\n",
    "\n",
    "Scenario: A stripe pattern is constant in z\n",
    "  Given pattern ← stripe_pattern(white, black)\n",
    "  Then stripe_at(pattern, point(0, 0, 0)) = white\n",
    "    And stripe_at(pattern, point(0, 0, 1)) = white\n",
    "    And stripe_at(pattern, point(0, 0, 2)) = white\n",
    "\n",
    "Scenario: A stripe pattern alternates in x\n",
    "  Given pattern ← stripe_pattern(white, black)\n",
    "  Then stripe_at(pattern, point(0, 0, 0)) = white\n",
    "    And stripe_at(pattern, point(0.9, 0, 0)) = white\n",
    "    And stripe_at(pattern, point(1, 0, 0)) = black\n",
    "    And stripe_at(pattern, point(-0.1, 0, 0)) = black\n",
    "    And stripe_at(pattern, point(-1, 0, 0)) = black\n",
    "    And stripe_at(pattern, point(-1.1, 0, 0)) = white\n",
    "```"
   ]
  },
  {
   "cell_type": "code",
   "execution_count": 58,
   "metadata": {},
   "outputs": [
    {
     "data": {
      "text/html": [
       "<span style=\"white-space:pre; font-family: monospace\">┌─┬───────┬─────┬─────┐\n",
       "│1│1 0 0 0│1 1 1│0 0 0│\n",
       "│ │0 1 0 0│     │     │\n",
       "│ │0 0 1 0│     │     │\n",
       "│ │0 0 0 1│     │     │\n",
       "└─┴───────┴─────┴─────┘\n",
       "</span>"
      ]
     },
     "execution_count": 58,
     "metadata": {},
     "output_type": "execute_result"
    },
    {
     "data": {
      "text/html": [
       "<span style=\"white-space:pre; font-family: monospace\">┌───┐\n",
       "│Yes│\n",
       "└───┘\n",
       "</span>"
      ]
     },
     "execution_count": 58,
     "metadata": {},
     "output_type": "execute_result"
    },
    {
     "data": {
      "text/html": [
       "<span style=\"white-space:pre; font-family: monospace\">┌───┐\n",
       "│Yes│\n",
       "└───┘\n",
       "</span>"
      ]
     },
     "execution_count": 58,
     "metadata": {},
     "output_type": "execute_result"
    },
    {
     "data": {
      "text/html": [
       "<span style=\"white-space:pre; font-family: monospace\">┌───┐\n",
       "│Yes│\n",
       "└───┘\n",
       "</span>"
      ]
     },
     "execution_count": 58,
     "metadata": {},
     "output_type": "execute_result"
    },
    {
     "data": {
      "text/html": [
       "<span style=\"white-space:pre; font-family: monospace\">┌───┐\n",
       "│Yes│\n",
       "└───┘\n",
       "</span>"
      ]
     },
     "execution_count": 58,
     "metadata": {},
     "output_type": "execute_result"
    },
    {
     "data": {
      "text/html": [
       "<span style=\"white-space:pre; font-family: monospace\">┌───┐\n",
       "│Yes│\n",
       "└───┘\n",
       "</span>"
      ]
     },
     "execution_count": 58,
     "metadata": {},
     "output_type": "execute_result"
    },
    {
     "data": {
      "text/html": [
       "<span style=\"white-space:pre; font-family: monospace\">┌───┐\n",
       "│Yes│\n",
       "└───┘\n",
       "</span>"
      ]
     },
     "execution_count": 58,
     "metadata": {},
     "output_type": "execute_result"
    },
    {
     "data": {
      "text/html": [
       "<span style=\"white-space:pre; font-family: monospace\">┌───┐\n",
       "│Yes│\n",
       "└───┘\n",
       "</span>"
      ]
     },
     "execution_count": 58,
     "metadata": {},
     "output_type": "execute_result"
    },
    {
     "data": {
      "text/html": [
       "<span style=\"white-space:pre; font-family: monospace\">┌───┐\n",
       "│Yes│\n",
       "└───┘\n",
       "</span>"
      ]
     },
     "execution_count": 58,
     "metadata": {},
     "output_type": "execute_result"
    },
    {
     "data": {
      "text/html": [
       "<span style=\"white-space:pre; font-family: monospace\">┌───┐\n",
       "│Yes│\n",
       "└───┘\n",
       "</span>"
      ]
     },
     "execution_count": 58,
     "metadata": {},
     "output_type": "execute_result"
    },
    {
     "data": {
      "text/html": [
       "<span style=\"white-space:pre; font-family: monospace\">┌───┐\n",
       "│Yes│\n",
       "└───┘\n",
       "</span>"
      ]
     },
     "execution_count": 58,
     "metadata": {},
     "output_type": "execute_result"
    },
    {
     "data": {
      "text/html": [
       "<span style=\"white-space:pre; font-family: monospace\">┌───┐\n",
       "│Yes│\n",
       "└───┘\n",
       "</span>"
      ]
     },
     "execution_count": 58,
     "metadata": {},
     "output_type": "execute_result"
    },
    {
     "data": {
      "text/html": [
       "<span style=\"white-space:pre; font-family: monospace\">┌───┐\n",
       "│Yes│\n",
       "└───┘\n",
       "</span>"
      ]
     },
     "execution_count": 58,
     "metadata": {},
     "output_type": "execute_result"
    },
    {
     "data": {
      "text/html": [
       "<span style=\"white-space:pre; font-family: monospace\">┌───┐\n",
       "│Yes│\n",
       "└───┘\n",
       "</span>"
      ]
     },
     "execution_count": 58,
     "metadata": {},
     "output_type": "execute_result"
    },
    {
     "data": {
      "text/html": [
       "<span style=\"white-space:pre; font-family: monospace\">┌───┐\n",
       "│Yes│\n",
       "└───┘\n",
       "</span>"
      ]
     },
     "execution_count": 58,
     "metadata": {},
     "output_type": "execute_result"
    }
   ],
   "source": [
    "black← 0 0 0\n",
    "white← 1 1 1\n",
    "⍝ Creating a stripe pattern\n",
    "+p← white stripe_pattern black\n",
    "white yesno ⊃p[pattern_color1]\n",
    "black yesno ⊃p[pattern_color2]\n",
    "\n",
    "⍝ A stripe pattern is constant in y\n",
    "white yesno p pattern_at point 0 0 0\n",
    "white yesno p pattern_at point 0 1 0\n",
    "white yesno p pattern_at point 0 2 0\n",
    "\n",
    "⍝ A stripe pattern is constant in z\n",
    "white yesno p pattern_at point 0 0 0\n",
    "white yesno p pattern_at point 0 0 1\n",
    "white yesno p pattern_at point 0 0 2\n",
    "\n",
    "⍝ A stripe pattern alternates in x\n",
    "white yesno p pattern_at point 0 0 0\n",
    "white yesno p pattern_at point 0.9 0 0\n",
    "black yesno p pattern_at point 1 0 0\n",
    "black yesno p pattern_at point ¯0.1 0 0\n",
    "black yesno p pattern_at point ¯1 0 0\n",
    "white yesno p pattern_at point ¯1.1 0 0"
   ]
  },
  {
   "cell_type": "markdown",
   "metadata": {},
   "source": [
    "```\n",
    "Scenario: Lighting with a pattern applied\n",
    "  Given m.pattern ← stripe_pattern(color(1, 1, 1), color(0, 0, 0))\n",
    "    And m.ambient ← 1\n",
    "    And m.diffuse ← 0\n",
    "    And m.specular ← 0\n",
    "    And eyev ← vector(0, 0, -1)\n",
    "    And normalv ← vector(0, 0, -1)\n",
    "    And light ← point_light(point(0, 0, -10), color(1, 1, 1))\n",
    "  When c1 ← lighting(m, light, point(0.9, 0, 0), eyev, normalv, false)\n",
    "    And c2 ← lighting(m, light, point(1.1, 0, 0), eyev, normalv, false)\n",
    "  Then c1 = color(1, 1, 1)\n",
    "    And c2 = color(0, 0, 0)\n",
    "```\n",
    "This test violates the changes the author called for in **lighting** - there is no object!"
   ]
  },
  {
   "cell_type": "code",
   "execution_count": 59,
   "metadata": {},
   "outputs": [
    {
     "data": {
      "text/html": [
       "<span style=\"white-space:pre; font-family: monospace\">1 1 1\n",
       "</span>"
      ]
     },
     "execution_count": 59,
     "metadata": {},
     "output_type": "execute_result"
    },
    {
     "data": {
      "text/html": [
       "<span style=\"white-space:pre; font-family: monospace\">0 0 0\n",
       "</span>"
      ]
     },
     "execution_count": 59,
     "metadata": {},
     "output_type": "execute_result"
    },
    {
     "data": {
      "text/html": [
       "<span style=\"white-space:pre; font-family: monospace\">┌───┐\n",
       "│Yes│\n",
       "└───┘\n",
       "</span>"
      ]
     },
     "execution_count": 59,
     "metadata": {},
     "output_type": "execute_result"
    },
    {
     "data": {
      "text/html": [
       "<span style=\"white-space:pre; font-family: monospace\">┌───┐\n",
       "│Yes│\n",
       "└───┘\n",
       "</span>"
      ]
     },
     "execution_count": 59,
     "metadata": {},
     "output_type": "execute_result"
    }
   ],
   "source": [
    "m← material\n",
    "m[material_color]← ⊂1 1 1 stripe_pattern 0 0 0\n",
    "m[material_ambient material_diffuse material_specular]← 1 0 0\n",
    "eyev← vector 0 0 ¯1\n",
    "normalv← vector 0 0 ¯1\n",
    "l← (point 0 0 ¯10) point_light 1 1 1\n",
    "+c1← lighting m l (point 0.9 0 0) eyev normalv 0 sphere\n",
    "+c2← lighting m l (point 1.1 0 0) eyev normalv 0 sphere\n",
    "c1 yesno 1 1 1\n",
    "c2 yesno 0 0 0"
   ]
  },
  {
   "cell_type": "markdown",
   "metadata": {},
   "source": [
    "```\n",
    "Scenario: Stripes with an object transformation\n",
    "  Given object ← sphere()\n",
    "    And set_transform(object, scaling(2, 2, 2))\n",
    "    And pattern ← stripe_pattern(white, black)\n",
    "  When c ← stripe_at_object(pattern, object, point(1.5, 0, 0))\n",
    "  Then c = white\n",
    "\n",
    "Scenario: Stripes with a pattern transformation\n",
    "  Given object ← sphere()\n",
    "    And pattern ← stripe_pattern(white, black)\n",
    "    And set_pattern_transform(pattern, scaling(2, 2, 2))\n",
    "  When c ← stripe_at_object(pattern, object, point(1.5, 0, 0))\n",
    "  Then c = white\n",
    "\n",
    "Scenario: Stripes with both an object and a pattern transformation\n",
    "  Given object ← sphere()\n",
    "    And set_transform(object, scaling(2, 2, 2))\n",
    "    And pattern ← stripe_pattern(white, black)\n",
    "    And set_pattern_transform(pattern, translation(0.5, 0, 0))\n",
    "  When c ← stripe_at_object(pattern, object, point(2.5, 0, 0))\n",
    "  Then c = white\n",
    "```"
   ]
  },
  {
   "cell_type": "code",
   "execution_count": 60,
   "metadata": {},
   "outputs": [
    {
     "data": {
      "text/html": [
       "<span style=\"white-space:pre; font-family: monospace\">1 1 1\n",
       "</span>"
      ]
     },
     "execution_count": 60,
     "metadata": {},
     "output_type": "execute_result"
    },
    {
     "data": {
      "text/html": [
       "<span style=\"white-space:pre; font-family: monospace\">┌───┐\n",
       "│Yes│\n",
       "└───┘\n",
       "</span>"
      ]
     },
     "execution_count": 60,
     "metadata": {},
     "output_type": "execute_result"
    },
    {
     "data": {
      "text/html": [
       "<span style=\"white-space:pre; font-family: monospace\">1 1 1\n",
       "</span>"
      ]
     },
     "execution_count": 60,
     "metadata": {},
     "output_type": "execute_result"
    },
    {
     "data": {
      "text/html": [
       "<span style=\"white-space:pre; font-family: monospace\">┌───┐\n",
       "│Yes│\n",
       "└───┘\n",
       "</span>"
      ]
     },
     "execution_count": 60,
     "metadata": {},
     "output_type": "execute_result"
    },
    {
     "data": {
      "text/html": [
       "<span style=\"white-space:pre; font-family: monospace\">1 1 1\n",
       "</span>"
      ]
     },
     "execution_count": 60,
     "metadata": {},
     "output_type": "execute_result"
    },
    {
     "data": {
      "text/html": [
       "<span style=\"white-space:pre; font-family: monospace\">┌───┐\n",
       "│Yes│\n",
       "└───┘\n",
       "</span>"
      ]
     },
     "execution_count": 60,
     "metadata": {},
     "output_type": "execute_result"
    }
   ],
   "source": [
    "⍝ Stripes with an object transformation\n",
    "obj← sphere\n",
    "obj[obj_transform]← ⊂scaling 2 2 2\n",
    "p← white stripe_pattern black\n",
    "+c← p pattern_at_shape obj (point 1.5 0 0)\n",
    "white yesno c\n",
    "\n",
    "⍝ Stripes with a pattern transformation\n",
    "obj← sphere\n",
    "p← white stripe_pattern black\n",
    "p[pattern_transform]← ⊂scaling 2 2 2\n",
    "+c← p pattern_at_shape obj (point 1.5 0 0)\n",
    "white yesno c\n",
    "\n",
    "⍝ Stripes with both an object and a pattern transformation\n",
    "obj← sphere\n",
    "obj[obj_transform]← ⊂scaling 2 2 2\n",
    "p← white stripe_pattern black\n",
    "p[pattern_transform]← ⊂translation 0.5 0 0\n",
    "+c← p pattern_at_shape obj (point 2.5 0 0)\n",
    "white yesno c"
   ]
  },
  {
   "cell_type": "markdown",
   "metadata": {},
   "source": [
    "```\n",
    "Scenario: The default pattern transformation\n",
    "  Given pattern ← test_pattern()\n",
    "  Then pattern.transform = identity_matrix\n",
    "\n",
    "Scenario: Assigning a transformation\n",
    "  Given pattern ← test_pattern()\n",
    "  When set_pattern_transform(pattern, translation(1, 2, 3))\n",
    "  Then pattern.transform = translation(1, 2, 3)\n",
    "\n",
    "Scenario: A pattern with an object transformation\n",
    "  Given shape ← sphere()\n",
    "    And set_transform(shape, scaling(2, 2, 2))\n",
    "    And pattern ← test_pattern()\n",
    "  When c ← pattern_at_shape(pattern, shape, point(2, 3, 4))\n",
    "  Then c = color(1, 1.5, 2)\n",
    "\n",
    "Scenario: A pattern with a pattern transformation\n",
    "  Given shape ← sphere()\n",
    "    And pattern ← test_pattern()\n",
    "    And set_pattern_transform(pattern, scaling(2, 2, 2))\n",
    "  When c ← pattern_at_shape(pattern, shape, point(2, 3, 4))\n",
    "  Then c = color(1, 1.5, 2)\n",
    "\n",
    "Scenario: A pattern with both an object and a pattern transformation\n",
    "  Given shape ← sphere()\n",
    "    And set_transform(shape, scaling(2, 2, 2))\n",
    "    And pattern ← test_pattern()\n",
    "    And set_pattern_transform(pattern, translation(0.5, 1, 1.5))\n",
    "  When c ← pattern_at_shape(pattern, shape, point(2.5, 3, 3.5))\n",
    "  Then c = color(0.75, 0.5, 0.25)\n",
    "```"
   ]
  },
  {
   "cell_type": "code",
   "execution_count": 61,
   "metadata": {},
   "outputs": [
    {
     "data": {
      "text/html": [
       "<span style=\"white-space:pre; font-family: monospace\">┌─┬───────┬─────┬─────┐\n",
       "│0│1 0 0 0│0 0 0│1 1 1│\n",
       "│ │0 1 0 0│     │     │\n",
       "│ │0 0 1 0│     │     │\n",
       "│ │0 0 0 1│     │     │\n",
       "└─┴───────┴─────┴─────┘\n",
       "</span>"
      ]
     },
     "execution_count": 61,
     "metadata": {},
     "output_type": "execute_result"
    },
    {
     "data": {
      "text/html": [
       "<span style=\"white-space:pre; font-family: monospace\">┌───┐\n",
       "│Yes│\n",
       "└───┘\n",
       "</span>"
      ]
     },
     "execution_count": 61,
     "metadata": {},
     "output_type": "execute_result"
    },
    {
     "data": {
      "text/html": [
       "<span style=\"white-space:pre; font-family: monospace\">┌─┬───────┬─────┬─────┐\n",
       "│0│1 0 0 1│0 0 0│1 1 1│\n",
       "│ │0 1 0 2│     │     │\n",
       "│ │0 0 1 3│     │     │\n",
       "│ │0 0 0 1│     │     │\n",
       "└─┴───────┴─────┴─────┘\n",
       "</span>"
      ]
     },
     "execution_count": 61,
     "metadata": {},
     "output_type": "execute_result"
    },
    {
     "data": {
      "text/html": [
       "<span style=\"white-space:pre; font-family: monospace\">┌───┐\n",
       "│Yes│\n",
       "└───┘\n",
       "</span>"
      ]
     },
     "execution_count": 61,
     "metadata": {},
     "output_type": "execute_result"
    },
    {
     "data": {
      "text/html": [
       "<span style=\"white-space:pre; font-family: monospace\">1 1.5 2\n",
       "</span>"
      ]
     },
     "execution_count": 61,
     "metadata": {},
     "output_type": "execute_result"
    },
    {
     "data": {
      "text/html": [
       "<span style=\"white-space:pre; font-family: monospace\">┌───┐\n",
       "│Yes│\n",
       "└───┘\n",
       "</span>"
      ]
     },
     "execution_count": 61,
     "metadata": {},
     "output_type": "execute_result"
    },
    {
     "data": {
      "text/html": [
       "<span style=\"white-space:pre; font-family: monospace\">1 1.5 2\n",
       "</span>"
      ]
     },
     "execution_count": 61,
     "metadata": {},
     "output_type": "execute_result"
    },
    {
     "data": {
      "text/html": [
       "<span style=\"white-space:pre; font-family: monospace\">┌───┐\n",
       "│Yes│\n",
       "└───┘\n",
       "</span>"
      ]
     },
     "execution_count": 61,
     "metadata": {},
     "output_type": "execute_result"
    },
    {
     "data": {
      "text/html": [
       "<span style=\"white-space:pre; font-family: monospace\">0.75 0.5 0.25\n",
       "</span>"
      ]
     },
     "execution_count": 61,
     "metadata": {},
     "output_type": "execute_result"
    },
    {
     "data": {
      "text/html": [
       "<span style=\"white-space:pre; font-family: monospace\">┌───┐\n",
       "│Yes│\n",
       "└───┘\n",
       "</span>"
      ]
     },
     "execution_count": 61,
     "metadata": {},
     "output_type": "execute_result"
    }
   ],
   "source": [
    "⍝ The default pattern transformation\n",
    "+p← test_pattern\n",
    "identity4 yesno ⊃p[pattern_transform]\n",
    "\n",
    "⍝ Assigning a transformation\n",
    "p[pattern_transform]← ⊂translation 1 2 3\n",
    "p\n",
    "(⊃p[pattern_transform]) yesno translation 1 2 3\n",
    "\n",
    "⍝ A pattern with an object transformation\n",
    "s← sphere\n",
    "s[obj_transform]← ⊂scaling 2 2 2\n",
    "p← test_pattern\n",
    "+c← p pattern_at_shape s (point 2 3 4)\n",
    "c yesno 1 1.5 2\n",
    "\n",
    "⍝ A pattern with a pattern transformation\n",
    "s← sphere\n",
    "p← test_pattern\n",
    "p[pattern_transform]← ⊂scaling 2 2 2\n",
    "+c← p pattern_at_shape s (point 2 3 4)\n",
    "c yesno 1 1.5 2\n",
    "\n",
    "⍝ A pattern with both an object and a pattern transformation\n",
    "s← sphere\n",
    "s[obj_transform]← ⊂scaling 2 2 2\n",
    "p← test_pattern\n",
    "p[pattern_transform]← ⊂translation 0.5 1 1.5\n",
    "+c← p pattern_at_shape s (point 2.5 3 3.5)\n",
    "c yesno 0.75 0.5 0.25"
   ]
  },
  {
   "cell_type": "markdown",
   "metadata": {},
   "source": [
    "```\n",
    "Scenario: A gradient linearly interpolates between colors\n",
    "  Given pattern ← gradient_pattern(white, black)\n",
    "  Then pattern_at(pattern, point(0, 0, 0)) = white\n",
    "    And pattern_at(pattern, point(0.25, 0, 0)) = color(0.75, 0.75, 0.75)\n",
    "    And pattern_at(pattern, point(0.5, 0, 0)) = color(0.5, 0.5, 0.5)\n",
    "    And pattern_at(pattern, point(0.75, 0, 0)) = color(0.25, 0.25, 0.25)\n",
    "\n",
    "Scenario: A ring should extend in both x and z\n",
    "  Given pattern ← ring_pattern(white, black)\n",
    "  Then pattern_at(pattern, point(0, 0, 0)) = white\n",
    "    And pattern_at(pattern, point(1, 0, 0)) = black\n",
    "    And pattern_at(pattern, point(0, 0, 1)) = black\n",
    "    # 0.708 = just slightly more than √2/2\n",
    "    And pattern_at(pattern, point(0.708, 0, 0.708)) = black\n",
    "```"
   ]
  },
  {
   "cell_type": "code",
   "execution_count": 62,
   "metadata": {},
   "outputs": [
    {
     "data": {
      "text/html": [
       "<span style=\"white-space:pre; font-family: monospace\">┌───┐\n",
       "│Yes│\n",
       "└───┘\n",
       "</span>"
      ]
     },
     "execution_count": 62,
     "metadata": {},
     "output_type": "execute_result"
    },
    {
     "data": {
      "text/html": [
       "<span style=\"white-space:pre; font-family: monospace\">┌───┐\n",
       "│Yes│\n",
       "└───┘\n",
       "</span>"
      ]
     },
     "execution_count": 62,
     "metadata": {},
     "output_type": "execute_result"
    },
    {
     "data": {
      "text/html": [
       "<span style=\"white-space:pre; font-family: monospace\">┌───┐\n",
       "│Yes│\n",
       "└───┘\n",
       "</span>"
      ]
     },
     "execution_count": 62,
     "metadata": {},
     "output_type": "execute_result"
    },
    {
     "data": {
      "text/html": [
       "<span style=\"white-space:pre; font-family: monospace\">┌───┐\n",
       "│Yes│\n",
       "└───┘\n",
       "</span>"
      ]
     },
     "execution_count": 62,
     "metadata": {},
     "output_type": "execute_result"
    },
    {
     "data": {
      "text/html": [
       "<span style=\"white-space:pre; font-family: monospace\">┌───┐\n",
       "│Yes│\n",
       "└───┘\n",
       "</span>"
      ]
     },
     "execution_count": 62,
     "metadata": {},
     "output_type": "execute_result"
    },
    {
     "data": {
      "text/html": [
       "<span style=\"white-space:pre; font-family: monospace\">┌───┐\n",
       "│Yes│\n",
       "└───┘\n",
       "</span>"
      ]
     },
     "execution_count": 62,
     "metadata": {},
     "output_type": "execute_result"
    },
    {
     "data": {
      "text/html": [
       "<span style=\"white-space:pre; font-family: monospace\">┌───┐\n",
       "│Yes│\n",
       "└───┘\n",
       "</span>"
      ]
     },
     "execution_count": 62,
     "metadata": {},
     "output_type": "execute_result"
    },
    {
     "data": {
      "text/html": [
       "<span style=\"white-space:pre; font-family: monospace\">┌───┐\n",
       "│Yes│\n",
       "└───┘\n",
       "</span>"
      ]
     },
     "execution_count": 62,
     "metadata": {},
     "output_type": "execute_result"
    }
   ],
   "source": [
    "⍝ A gradient linearly interpolates between colors\n",
    "p← white gradient_pattern black\n",
    "white yesno p pattern_at point 0 0 0\n",
    "0.75 0.75 0.75 yesno p pattern_at point 0.25 0 0\n",
    "0.5 0.5 0.5 yesno p pattern_at point 0.5 0 0\n",
    "0.25 0.25 0.25 yesno p pattern_at point 0.75 0 0\n",
    "\n",
    "⍝ A ring should extend in both x and z\n",
    "p← white ring_pattern black\n",
    "white yesno p pattern_at point 0 0 0\n",
    "black yesno p pattern_at point 1 0 0\n",
    "black yesno p pattern_at point 0 0 1\n",
    "black yesno p pattern_at point 0.708 0 0.708"
   ]
  },
  {
   "cell_type": "markdown",
   "metadata": {},
   "source": [
    "```\n",
    "Scenario: Checkers should repeat in x\n",
    "  Given pattern ← checkers_pattern(white, black)\n",
    "  Then pattern_at(pattern, point(0, 0, 0)) = white\n",
    "    And pattern_at(pattern, point(0.99, 0, 0)) = white\n",
    "    And pattern_at(pattern, point(1.01, 0, 0)) = black\n",
    "\n",
    "Scenario: Checkers should repeat in y\n",
    "  Given pattern ← checkers_pattern(white, black)\n",
    "  Then pattern_at(pattern, point(0, 0, 0)) = white\n",
    "    And pattern_at(pattern, point(0, 0.99, 0)) = white\n",
    "    And pattern_at(pattern, point(0, 1.01, 0)) = black\n",
    "\n",
    "Scenario: Checkers should repeat in z\n",
    "  Given pattern ← checkers_pattern(white, black)\n",
    "  Then pattern_at(pattern, point(0, 0, 0)) = white\n",
    "    And pattern_at(pattern, point(0, 0, 0.99)) = white\n",
    "    And pattern_at(pattern, point(0, 0, 1.01)) = black\n",
    "```"
   ]
  },
  {
   "cell_type": "code",
   "execution_count": 63,
   "metadata": {},
   "outputs": [
    {
     "data": {
      "text/html": [
       "<span style=\"white-space:pre; font-family: monospace\">┌───┐\n",
       "│Yes│\n",
       "└───┘\n",
       "</span>"
      ]
     },
     "execution_count": 63,
     "metadata": {},
     "output_type": "execute_result"
    },
    {
     "data": {
      "text/html": [
       "<span style=\"white-space:pre; font-family: monospace\">┌───┐\n",
       "│Yes│\n",
       "└───┘\n",
       "</span>"
      ]
     },
     "execution_count": 63,
     "metadata": {},
     "output_type": "execute_result"
    },
    {
     "data": {
      "text/html": [
       "<span style=\"white-space:pre; font-family: monospace\">┌───┐\n",
       "│Yes│\n",
       "└───┘\n",
       "</span>"
      ]
     },
     "execution_count": 63,
     "metadata": {},
     "output_type": "execute_result"
    },
    {
     "data": {
      "text/html": [
       "<span style=\"white-space:pre; font-family: monospace\">┌───┐\n",
       "│Yes│\n",
       "└───┘\n",
       "</span>"
      ]
     },
     "execution_count": 63,
     "metadata": {},
     "output_type": "execute_result"
    },
    {
     "data": {
      "text/html": [
       "<span style=\"white-space:pre; font-family: monospace\">┌───┐\n",
       "│Yes│\n",
       "└───┘\n",
       "</span>"
      ]
     },
     "execution_count": 63,
     "metadata": {},
     "output_type": "execute_result"
    },
    {
     "data": {
      "text/html": [
       "<span style=\"white-space:pre; font-family: monospace\">┌───┐\n",
       "│Yes│\n",
       "└───┘\n",
       "</span>"
      ]
     },
     "execution_count": 63,
     "metadata": {},
     "output_type": "execute_result"
    },
    {
     "data": {
      "text/html": [
       "<span style=\"white-space:pre; font-family: monospace\">┌───┐\n",
       "│Yes│\n",
       "└───┘\n",
       "</span>"
      ]
     },
     "execution_count": 63,
     "metadata": {},
     "output_type": "execute_result"
    },
    {
     "data": {
      "text/html": [
       "<span style=\"white-space:pre; font-family: monospace\">┌───┐\n",
       "│Yes│\n",
       "└───┘\n",
       "</span>"
      ]
     },
     "execution_count": 63,
     "metadata": {},
     "output_type": "execute_result"
    },
    {
     "data": {
      "text/html": [
       "<span style=\"white-space:pre; font-family: monospace\">┌───┐\n",
       "│Yes│\n",
       "└───┘\n",
       "</span>"
      ]
     },
     "execution_count": 63,
     "metadata": {},
     "output_type": "execute_result"
    }
   ],
   "source": [
    "⍝ Checkers should repeat in x\n",
    "p← white checker_pattern black\n",
    "white yesno p pattern_at point 0 0 0\n",
    "white yesno p pattern_at point 0.99 0 0\n",
    "black yesno p pattern_at point 1.01 0 0\n",
    "\n",
    "⍝ Checkers should repeat in y\n",
    "p← white checker_pattern black\n",
    "white yesno p pattern_at point 0 0 0\n",
    "white yesno p pattern_at point 0 0.99 0\n",
    "black yesno p pattern_at point 0 1.01 0\n",
    "\n",
    "⍝ Checkers should repeat in z\n",
    "p← white checker_pattern black\n",
    "white yesno p pattern_at point 0 0 0\n",
    "white yesno p pattern_at point 0 0 0.99\n",
    "black yesno p pattern_at point 0 0 1.01\n"
   ]
  },
  {
   "cell_type": "markdown",
   "metadata": {},
   "source": [
    "# Chapter 11. Reflection and Refraction\n",
    "This is probably the most complicated chapter of the book in the way it modifies already developed functions to support reflection and refraction. Reflective, refractive and transparency index attributes are added to the *material* data structure. This will necessitate changes to a number of functions developed earlier, such as the **color_at** function. With rays reflecting from object to object, some form of termination test is needed. Recursion is also used, which could be space consuming given Dyalog APL doesn't do tail recursion."
   ]
  },
  {
   "cell_type": "markdown",
   "metadata": {},
   "source": [
    "## Chapter 11 Functions\n",
    "New functions and old modified functions include\n",
    "\n",
    "- Function **reflected_color(world,comps)** returns the reflected color from a ray hit\n",
    "- Function **refracted_color(world,comps)** returns the refracted color from a ray hit\n",
    "- Function **prepare_computations(intersection,ray)** is modified quite a bit\n",
    "- Function **shade_hit(world,comps)** now takes the result of **prepare_computations** instead of a *point*\n",
    "\n",
    "The **prepare_computations** function formalizes advice given in Chapter 8 and uses a parameter EPSILON to indicate how close two values need to be in order to be considered equal. I'll need to replace the hardcoded version with this function because the function will be extended to support reflection."
   ]
  },
  {
   "cell_type": "markdown",
   "metadata": {},
   "source": [
    "## Chapter 11 APL Code Implementation\n",
    "The form of the functions and arguments are\n",
    "\n",
    "- *intersection* **prepare_computations** *ray* intersection_list → augmented intersection\n",
    "- *computations* **compute_n1n2** intersection_list *intersection* → *computations*\n",
    "- *world* **shade_hit** augmented intersection → *color*\n",
    "- *world* **reflected_color** *comps* → *color*\n",
    "- *world* **refracted_color** *comps* → *color*\n",
    "- **schlick** *computations* → scalar\n",
    "\n",
    "The **prepare_computations** function seems to add a reflection vector to the augmented intersection (hit) argument produced by the **prepare_hit** function. The **shade_hit** function is altered so that it invokes **reflected_color** to add in the effect of reflection.\n",
    "\n",
    "Because reflected_color() calls color_at() that calls shade_hit() that calls reflected_color(), an infinite loop can occur. The suggested solution is a bit ugly. The three functions take an additional count value that is initialized by the color_at() call from render(), is decremented in the color_at() call in reflected_color(), and terminiates in reflected_color() when the recursion count hits zero.\n",
    "\n",
    "It looks like **color_at** is being used in two different ways - to compute the color from a ray leaving a light source, and to compute the color from a ray reflected off a reflective surface. An infinite loop would not occur if a reflective ray did not strike an object and reflected_color() returns Black. The recursion count terminates a condition where the reflected rays keeps bouncing around in the scene. Rather than passing an additional parameter, I could just use a global variable instead.\n",
    "\n",
    "### Correction\n",
    "The author talked of computing an *over_point* attribute in the **prepare_computations** function by adding a small offset to the *point* attribute. Rather than create another attribute I just overwrote the existing point attribute value. That now appear to be wrong because the author is now creating an *under_point* attribute! Guess I'll have to make the change, alter all involved tests, and retest everything!\n"
   ]
  },
  {
   "cell_type": "markdown",
   "metadata": {},
   "source": [
    "```\n",
    "function reflected_color(world, comps)\n",
    "  if comps.object.material.reflective = 0\n",
    "    return color(0, 0, 0)\n",
    "  end if\n",
    "\n",
    "  reflect_ray ← ray(comps.over_point, comps.reflectv)\n",
    "  color ← color_at(world, reflect_ray)\n",
    "\n",
    "  return color * comps.object.material.reflective\n",
    "end function\n",
    "```"
   ]
  },
  {
   "cell_type": "markdown",
   "metadata": {},
   "source": [
    "The initial **refracted_color** function\n",
    "```\n",
    "function refracted_color(world, comps, remaining)\n",
    "  if comps.object.material.transparency = 0\n",
    "    return color(0, 0, 0)\n",
    "  end if\n",
    "\n",
    "  return color(1, 1, 1)\n",
    "end function\n",
    "```\n",
    "\n",
    "Is later augmented with\n",
    "```\n",
    "# Find the ratio of first index of refraction to the second.\n",
    "# (Yup, this is inverted from the definition of Snell's Law.)\n",
    "n_ratio ← comps.n1 / comps.n2\n",
    "# cos(theta_i) is the same as the dot product of the two vectors\n",
    "cos_i ← dot(comps.eyev, comps.normalv)\n",
    "# Find sin(theta_t)^2 via trigonometric identity\n",
    "sin2_t ← n_ratio^2 * (1 - cos_i^2)\n",
    "```\n",
    "\n",
    "*If sin2_t is greater than 1, then you’ve got some total internal reflection going\n",
    "on. Go ahead and update your refracted_color() function to check for this case,\n",
    "and return the color black when it does.*\n",
    "\n",
    "And then the author adds\n",
    "```\n",
    "# Find cos(theta_t) via trigonometric identity\n",
    "cos_t ← sqrt(1.0 - sin2_t)\n",
    "# Compute the direction of the refracted ray\n",
    "direction ← comps.normalv * (n_ratio * cos_i - cos_t) -\n",
    "comps.eyev * n_ratio\n",
    "# Create the refracted ray\n",
    "refract_ray ← ray(comps.under_point, direction)\n",
    "# Find the color of the refracted ray, making sure to multiply\n",
    "# by the transparency value to account for any opacity\n",
    "color ← color_at(world, refract_ray, remaining - 1) *\n",
    "comps.object.material.transparency\n",
    "```"
   ]
  },
  {
   "cell_type": "markdown",
   "metadata": {},
   "source": [
    "```\n",
    "]dinput\n",
    "refracted_color←{\n",
    "  ⍝ world  refracted_color  comps → color\n",
    "  ~EVAL_REFRACTION: 0 0 0\n",
    "  ⍝ The code needed to support refraction is so poorly explained\n",
    "  ⍝ that I will just make a stub of this function\n",
    "  ⍝ 0=hit_object obj_material material_transparency⊃⍵: 0 0 0\n",
    "  ⍝ 1 1 1\n",
    "  ⍝ Fixes #5 but breaks #8\n",
    "  ⍝ Infinite loop: refracted_color, color_at, shade_hit\n",
    "  0≥RECURSE: 0 0 0  ⍝ Added for Test#5\n",
    "  n_ratio← (hit_n1⊃⍵)÷hit_n2⊃⍵\n",
    "  cos_i← (hit_eyev⊃⍵) dot hit_normalv⊃⍵\n",
    "  sin2_t← (1-cos_i*2)×n_ratio*2\n",
    "  ⍝\n",
    "  1<sin2_t: 0 0 0\n",
    "  ⍝\n",
    "  cos_t← (1-sin2_t)*0.5\n",
    "  dir← ((hit_normalv⊃⍵)×((n_ratio×cos_i)-cos_t))-(hit_eyev⊃⍵)×n_ratio\n",
    "  rray← (hit_underpt⊃⍵) ray dir\n",
    "  (hit_object obj_material material_transparency⊃⍵) × ⍺ color_at rray\n",
    "  }\n",
    "  ```"
   ]
  },
  {
   "cell_type": "markdown",
   "metadata": {},
   "source": [
    "```\n",
    "function schlick(comps)\n",
    "  # find the cosine of the angle between the eye and normal vectors\n",
    "  cos ← dot(comps.eyev, comps.normalv)\n",
    "\n",
    "  # total internal reflection can only occur if n1 > n2\n",
    "  if comps.n1 > comps.n2\n",
    "    n ← comps.n1 / comps.n2\n",
    "    sin2_t = n^2 * (1.0 - cos^2)\n",
    "    return 1.0 if sin2_t > 1.0\n",
    "\n",
    "    # compute cosine of theta_t using trig identity\n",
    "    cos_t ← sqrt(1.0 - sin2_t)\n",
    "\n",
    "    # when n1 > n2, use cos(theta_t) instead\n",
    "    cos ← cos_t\n",
    "  end if\n",
    "\n",
    "  r0 ← ((comps.n1 - comps.n2) / (comps.n1 + comps.n2))^2\n",
    "  return r0 + (1 - r0) * (1 - cos)^5\n",
    "end function\n",
    "```\n",
    "Poorly designed code with two exit points! I really need to rewrite this."
   ]
  },
  {
   "cell_type": "markdown",
   "metadata": {},
   "source": [
    "From the book...\n",
    "\n",
    "*Compute reflectv in prepare_computations() by reflecting the ray’s direction vector\n",
    "around the object’s normal vector, like this:*\n",
    "\n",
    "```\n",
    "# after negating the normal, if necessary\n",
    "comps.reflectv ← reflect(ray.direction, comps.normalv)\n",
    "```\n",
    "\n",
    "*It’s just like you did in your lighting() function, in The Phong Reflection Model,\n",
    "on page 86, when you computed the light’s reflection vector. Here, though,\n",
    "you’re reflecting the ray, and not the light.*"
   ]
  },
  {
   "cell_type": "markdown",
   "metadata": {},
   "source": [
    "As usual, the author modifies this function to support reflections by adding another parameter to its argument list. That messes up all previous tests using **prepare_computations**! Thankfully there aren't that many tests affected by this change. There ends up being a good deal of additional code involved as well, as shown by the following pseudo-code. This is terribly difficult to understand!\n",
    "\n",
    "```\n",
    "containers ← empty list\n",
    "\n",
    "for i ← each intersection in xs\n",
    "  if i = hit then\n",
    "    if containers is empty\n",
    "      comps.n1 ← 1.0\n",
    "    else\n",
    "      comps.n1 ← last(containers).material.refractive_index\n",
    "    end if\n",
    "  end if\n",
    "\n",
    "  if containers includes i.object then\n",
    "    remove i.object from containers\n",
    "  else\n",
    "    append i.object onto containers\n",
    "  end if\n",
    "\n",
    "  if i = hit then\n",
    "    if containers is empty\n",
    "      comps.n2 ← 1.0\n",
    "    else\n",
    "      comps.n2 ← last(containers).material.refractive_index\n",
    "    end if\n",
    "\n",
    "    terminate loop\n",
    "  end if\n",
    "end for\n",
    "```\n",
    "\n",
    "I'm going to try to implement this as a separate function that accepts an intersection list *xs* and the result from the **prepare_computations** function *comps* and returns the *comps* value with n1 and n2 plugged in. The function will be of the form\n",
    "\n",
    "- *xs* **compute_n1n2** *comps* → *comps* with n1 and n2\n",
    "\n",
    "I should be able to chain the result as\n",
    "\n",
    "xs compute_n1n2 xs(i) prepare_computations r\n",
    "\n",
    "The author uses hit in the pseudo-code, but it is ***not*** the **hit** function! It is the particular intersection passed to the prepare_computations function!"
   ]
  },
  {
   "cell_type": "markdown",
   "metadata": {},
   "source": [
    "**Note:** *This is so utterly confusing and poorly explained that I'm going to just skip implementing refraction for now!* The **color_at** function invokes **prepare_computations** but the author doesn't show how it is modified!"
   ]
  },
  {
   "cell_type": "markdown",
   "metadata": {},
   "source": [
    "Function **shade_hit** is later changed to\n",
    "```\n",
    "function shade_hit(world, comps, remaining)\n",
    "  shadowed ← is_shadowed(world, comps.over_point)\n",
    "\n",
    "  surface ← lighting(comps.object.material,\n",
    "                     comps.object,\n",
    "                     world.light,\n",
    "                     comps.over_point, comps.eyev, comps.normalv,\n",
    "                     shadowed)\n",
    "\n",
    "  reflected ← reflected_color(world, comps, remaining)\n",
    "  refracted ← refracted_color(world, comps, remaining)\n",
    "\n",
    "  material ← comps.object.material\n",
    "  if material.reflective > 0 && material.transparency > 0\n",
    "    reflectance ← schlick(comps)\n",
    "    return surface + reflected * reflectance +\n",
    "                     refracted * (1 - reflectance)\n",
    "  else\n",
    "    return surface + reflected + refracted\n",
    "  end\n",
    "end function\n",
    "```"
   ]
  },
  {
   "cell_type": "markdown",
   "metadata": {},
   "source": [
    "Here's a terrible idea: three functions end up calling each other in a circular fashion, and it's possible the recursive looping won't terminate. So, let's pass a counter to each to keep track of recursion depth! Ugly. I'm not sure exactly where the loop counter is initialized. The lighting function? This might be a good justification for side effects using a global variable.\n",
    "\n",
    "```\n",
    "function color_at(world, ray, remaining)\n",
    "  # ...\n",
    "  color ← shade_hit(world, comps, remaining)\n",
    "  # ...\n",
    "end function\n",
    "\n",
    "function shade_hit(world, comps, remaining)\n",
    "  # ...\n",
    "  reflected ← reflected_color(world, comps, remaining)\n",
    "  # ...\n",
    "end function\n",
    "\n",
    "function reflected_color(world, comps, remaining)\n",
    "  if remaining <= 0\n",
    "    return color(0, 0, 0)\n",
    "  end if\n",
    "\n",
    "  # ...\n",
    "  color ← color_at(world, reflect_ray, remaining - 1)\n",
    "  # ...\n",
    "end function\n",
    "```"
   ]
  },
  {
   "cell_type": "markdown",
   "metadata": {},
   "source": [
    "## Chapter 11 Test Cases"
   ]
  },
  {
   "cell_type": "markdown",
   "metadata": {},
   "source": [
    "```\n",
    "Scenario: Reflectivity for the default material\n",
    "  Given m ← material()\n",
    "  Then m.reflective = 0.0\n",
    "  \n",
    "  Scenario: Precomputing the reflection vector\n",
    "  Given shape ← plane()\n",
    "    And r ← ray(point(0, 1, -1), vector(0, -√2/2, √2/2)) \n",
    "    And i ← intersection(√2, shape)                      \n",
    "  When comps ← prepare_computations(i, r)\n",
    "  Then comps.reflectv = vector(0, √2/2, √2/2)                \n",
    "\n",
    "```"
   ]
  },
  {
   "cell_type": "code",
   "execution_count": 32,
   "metadata": {},
   "outputs": [
    {
     "data": {
      "text/html": [
       "<span style=\"white-space:pre; font-family: monospace\">┌─────┬───┬───┬───┬───┬─┬─┬─┐\n",
       "│1 1 1│0.1│0.9│0.9│200│0│1│0│\n",
       "└─────┴───┴───┴───┴───┴─┴─┴─┘\n",
       "</span>"
      ]
     },
     "execution_count": 32,
     "metadata": {},
     "output_type": "execute_result"
    },
    {
     "data": {
      "text/html": [
       "<span style=\"white-space:pre; font-family: monospace\">┌───┐\n",
       "│Yes│\n",
       "└───┘\n",
       "</span>"
      ]
     },
     "execution_count": 32,
     "metadata": {},
     "output_type": "execute_result"
    },
    {
     "data": {
      "text/html": [
       "<span style=\"white-space:pre; font-family: monospace\">┌─────────────────────┐\n",
       "│0 0.707107 0.707107 0│\n",
       "└─────────────────────┘\n",
       "</span>"
      ]
     },
     "execution_count": 32,
     "metadata": {},
     "output_type": "execute_result"
    },
    {
     "data": {
      "text/html": [
       "<span style=\"white-space:pre; font-family: monospace\">┌───┐\n",
       "│Yes│\n",
       "└───┘\n",
       "</span>"
      ]
     },
     "execution_count": 32,
     "metadata": {},
     "output_type": "execute_result"
    }
   ],
   "source": [
    "⍝ Reflectivity for the default material\n",
    "+m← material\n",
    "0 yesno m[material_reflective]\n",
    "\n",
    "⍝ Precomputing the reflection vector\n",
    "s← plane\n",
    "r← (point 0 1 ¯1) ray vector 0 (¯0.5×2*0.5) (0.5×2*0.5)\n",
    "i← s intersection 2*0.5\n",
    "comps← i prepare_computations r\n",
    "comps[hit_reflectv]\n",
    "(vector 0 (0.5×2*0.5) (0.5×2*0.5)) yesno ⊃comps[hit_reflectv]"
   ]
  },
  {
   "cell_type": "markdown",
   "metadata": {},
   "source": [
    "```\n",
    "Scenario: The reflected color for a non-reflective material\n",
    "  Given w ← default_world()\n",
    "    And r ← ray(point(0, 0, 0), vector(0, 0, 1))\n",
    "    And shape ← the second object in w\n",
    "    And shape.material.ambient ← 1\n",
    "    And i ← intersection(1, shape)\n",
    "  When comps ← prepare_computations(i, r)\n",
    "    And color ← reflected_color(w, comps)\n",
    "  Then color = color(0, 0, 0)\n",
    "\n",
    "Scenario: The reflected color for a reflective material\n",
    "  Given w ← default_world()\n",
    "    And shape ← plane() with:                 \n",
    "      | material.reflective | 0.5                   |\n",
    "      | transform           | translation(0, -1, 0) |   \n",
    "    And shape is added to w\n",
    "    And r ← ray(point(0, 0, -3), vector(0, -√2/2, √2/2))\n",
    "    And i ← intersection(√2, shape)\n",
    "  When comps ← prepare_computations(i, r)\n",
    "    And color ← reflected_color(w, comps)\n",
    "  Then color = color(0.19032, 0.2379, 0.14274)\n",
    "```\n",
    "\n",
    "The expected answer in the second test seems to imply truncation of the computed result, so I modified the values use in the comparison to match rounding off."
   ]
  },
  {
   "cell_type": "code",
   "execution_count": 33,
   "metadata": {},
   "outputs": [
    {
     "data": {
      "text/html": [
       "<span style=\"white-space:pre; font-family: monospace\">┌─┬─────────────┬─────────────────────────────┐\n",
       "│1│0.5 0   0   0│┌─────┬───┬───┬───┬───┬─┬─┬─┐│\n",
       "│ │0   0.5 0   0││1 1 1│0.1│0.9│0.9│200│0│1│0││\n",
       "│ │0   0   0.5 0│└─────┴───┴───┴───┴───┴─┴─┴─┘│\n",
       "│ │0   0   0   1│                             │\n",
       "└─┴─────────────┴─────────────────────────────┘\n",
       "</span>"
      ]
     },
     "execution_count": 33,
     "metadata": {},
     "output_type": "execute_result"
    },
    {
     "data": {
      "text/html": [
       "<span style=\"white-space:pre; font-family: monospace\">0 0 0\n",
       "</span>"
      ]
     },
     "execution_count": 33,
     "metadata": {},
     "output_type": "execute_result"
    },
    {
     "data": {
      "text/html": [
       "<span style=\"white-space:pre; font-family: monospace\">┌───┐\n",
       "│Yes│\n",
       "└───┘\n",
       "</span>"
      ]
     },
     "execution_count": 33,
     "metadata": {},
     "output_type": "execute_result"
    },
    {
     "data": {
      "text/html": [
       "<span style=\"white-space:pre; font-family: monospace\">0.190332 0.237915 0.142749\n",
       "</span>"
      ]
     },
     "execution_count": 33,
     "metadata": {},
     "output_type": "execute_result"
    },
    {
     "data": {
      "text/html": [
       "<span style=\"white-space:pre; font-family: monospace\">0.19033 0.23792 0.14275\n",
       "</span>"
      ]
     },
     "execution_count": 33,
     "metadata": {},
     "output_type": "execute_result"
    },
    {
     "data": {
      "text/html": [
       "<span style=\"white-space:pre; font-family: monospace\">┌───┐\n",
       "│Yes│\n",
       "└───┘\n",
       "</span>"
      ]
     },
     "execution_count": 33,
     "metadata": {},
     "output_type": "execute_result"
    }
   ],
   "source": [
    "⍝ The reflected color for a non-reflective material\n",
    "w← default_world\n",
    "r← (point 0 0 0) ray vector 0 0 1\n",
    "objs← ⊃w[2]\n",
    "+s← ⊃objs[2]\n",
    "m← ⊃s[obj_material]\n",
    "m[material_ambient]← 1\n",
    "s[obj_material]← ⊂m\n",
    "objs[2]← ⊂s\n",
    "w[2]← ⊂objs\n",
    "i← s intersection 1\n",
    "comps← i prepare_computations r\n",
    "RECURSE← MAX_RECURSION\n",
    "+c← w reflected_color comps\n",
    "c yesno 0 0 0\n",
    "\n",
    "⍝ The reflected color for a reflective material\n",
    "w← default_world\n",
    "s← plane\n",
    "m← ⊃s[obj_material]\n",
    "m[material_reflective]← 0.5\n",
    "s[obj_transform]← ⊂translation 0 ¯1 0\n",
    "s[obj_material]← ⊂m\n",
    "w[2],← ⊂⊂s\n",
    "r← (point 0 0 ¯3) ray vector 0 (¯0.5×2*0.5) (0.5×2*0.5)\n",
    "i← s intersection 2*0.5\n",
    "comps← i prepare_computations r\n",
    "RECURSE← MAX_RECURSION\n",
    "+c← w reflected_color comps\n",
    "9 5 roundMN c\n",
    "(9 5 roundMN c) yesno 0.19033 0.23792 0.14275"
   ]
  },
  {
   "cell_type": "markdown",
   "metadata": {},
   "source": [
    "```\n",
    "Scenario: shade_hit() with a reflective material\n",
    "  Given w ← default_world()\n",
    "    And shape ← plane() with:\n",
    "      | material.reflective | 0.5                   |\n",
    "      | transform           | translation(0, -1, 0) |\n",
    "    And shape is added to w\n",
    "    And r ← ray(point(0, 0, -3), vector(0, -√2/2, √2/2))\n",
    "    And i ← intersection(√2, shape)\n",
    "  When comps ← prepare_computations(i, r)\n",
    "    And color ← shade_hit(w, comps)\n",
    "  Then color = color(0.87677, 0.92436, 0.82918)\n",
    "\n",
    "Scenario: color_at() with mutually reflective surfaces\n",
    "  Given w ← world()\n",
    "    And w.light ← point_light(point(0, 0, 0), color(1, 1, 1))\n",
    "    And lower ← plane() with:\n",
    "      | material.reflective | 1                     |\n",
    "      | transform           | translation(0, -1, 0) |\n",
    "    And lower is added to w\n",
    "    And upper ← plane() with:\n",
    "      | material.reflective | 1                    |\n",
    "      | transform           | translation(0, 1, 0) |\n",
    "    And upper is added to w\n",
    "    And r ← ray(point(0, 0, 0), vector(0, 1, 0))\n",
    "  Then color_at(w, r) should terminate successfully\n",
    "```"
   ]
  },
  {
   "cell_type": "code",
   "execution_count": 34,
   "metadata": {},
   "outputs": [
    {
     "data": {
      "text/html": [
       "<span style=\"white-space:pre; font-family: monospace\">0.876757 0.92434 0.829174\n",
       "</span>"
      ]
     },
     "execution_count": 34,
     "metadata": {},
     "output_type": "execute_result"
    },
    {
     "data": {
      "text/html": [
       "<span style=\"white-space:pre; font-family: monospace\">0.87676 0.92434 0.82917\n",
       "</span>"
      ]
     },
     "execution_count": 34,
     "metadata": {},
     "output_type": "execute_result"
    },
    {
     "data": {
      "text/html": [
       "<span style=\"white-space:pre; font-family: monospace\">┌───┐\n",
       "│Yes│\n",
       "└───┘\n",
       "</span>"
      ]
     },
     "execution_count": 34,
     "metadata": {},
     "output_type": "execute_result"
    },
    {
     "data": {
      "text/html": [
       "<span style=\"white-space:pre; font-family: monospace\">11.4 11.4 11.4\n",
       "</span>"
      ]
     },
     "execution_count": 34,
     "metadata": {},
     "output_type": "execute_result"
    }
   ],
   "source": [
    "⍝ shade_hit() with a reflective material\n",
    "w← default_world\n",
    "s← plane\n",
    "m← ⊃s[obj_material]\n",
    "m[material_reflective]← 0.5\n",
    "s[obj_transform]← ⊂translation 0 ¯1 0\n",
    "s[obj_material]← ⊂m\n",
    "w[2],← ⊂⊂s\n",
    "r← (point 0 0 ¯3) ray vector 0 (¯0.5×2*0.5) (0.5×2*0.5)\n",
    "i← s intersection 2*0.5\n",
    "comps← i prepare_computations r\n",
    "RECURSE← MAX_RECURSION\n",
    "+c← w shade_hit comps\n",
    "9 5 roundMN c\n",
    "(9 5 roundMN c) yesno 0.87676 0.92434 0.82917\n",
    "\n",
    "⍝ color_at() with mutually reflective surfaces\n",
    "RECURSE← MAX_RECURSION\n",
    "w← world\n",
    "w[1]← ⊂⊂ (point 0 0 0) point_light 1 1 1\n",
    "m← material\n",
    "m[material_reflective]← 1\n",
    "lower← plane\n",
    "lower[obj_material]← ⊂m\n",
    "lower[obj_transform]← ⊂translation 0 ¯1 0\n",
    "w[2],← ⊂⊂lower\n",
    "upper← plane\n",
    "upper[obj_material]← ⊂m\n",
    "upper[obj_transform]← ⊂translation 0 1 0\n",
    "w[2],← ⊂⊂upper\n",
    "r← (point 0 0 0) ray vector 0 1 0\n",
    "+c← w color_at r"
   ]
  },
  {
   "cell_type": "markdown",
   "metadata": {},
   "source": [
    "```\n",
    "Scenario: The reflected color at the maximum recursive depth\n",
    "  Given w ← default_world()\n",
    "    And shape ← plane() with:\n",
    "      | material.reflective | 0.5                   |\n",
    "      | transform           | translation(0, -1, 0) |\n",
    "    And shape is added to w\n",
    "    And r ← ray(point(0, 0, -3), vector(0, -√2/2, √2/2))\n",
    "    And i ← intersection(√2, shape)\n",
    "  When comps ← prepare_computations(i, r)\n",
    "    And color ← reflected_color(w, comps, 0)    \n",
    "  Then color = color(0, 0, 0)\n",
    "```"
   ]
  },
  {
   "cell_type": "code",
   "execution_count": 35,
   "metadata": {},
   "outputs": [
    {
     "data": {
      "text/html": [
       "<span style=\"white-space:pre; font-family: monospace\">0 0 0\n",
       "</span>"
      ]
     },
     "execution_count": 35,
     "metadata": {},
     "output_type": "execute_result"
    },
    {
     "data": {
      "text/html": [
       "<span style=\"white-space:pre; font-family: monospace\">┌───┐\n",
       "│Yes│\n",
       "└───┘\n",
       "</span>"
      ]
     },
     "execution_count": 35,
     "metadata": {},
     "output_type": "execute_result"
    }
   ],
   "source": [
    "w← default_world\n",
    "s← plane\n",
    "m← material\n",
    "m[material_reflective]← 0.5\n",
    "s[obj_material]← ⊂m\n",
    "s[obj_transform]← ⊂translation 0 ¯1 0\n",
    "r← (point 0 0 ¯3) ray vector 0 (¯0.5×2*0.5) (0.5×2*0.5)\n",
    "i← s intersection 2*0.5\n",
    "comps← i prepare_computations r\n",
    "RECURSE← 0\n",
    "+c← w reflected_color comps\n",
    "c yesno 0 0 0"
   ]
  },
  {
   "cell_type": "markdown",
   "metadata": {},
   "source": [
    "```\n",
    "Scenario: Transparency and Refractive Index for the default material\n",
    "  Given m ← material()\n",
    "  Then m.transparency = 0.0\n",
    "    And m.refractive_index = 1.0\n",
    "    \n",
    "    Scenario: A helper for producing a sphere with a glassy material\n",
    "  Given s ← glass_sphere()\n",
    "  Then s.transform = identity_matrix\n",
    "    And s.material.transparency = 1.0\n",
    "    And s.material.refractive_index = 1.5\n",
    "```"
   ]
  },
  {
   "cell_type": "code",
   "execution_count": 36,
   "metadata": {},
   "outputs": [
    {
     "data": {
      "text/html": [
       "<span style=\"white-space:pre; font-family: monospace\">┌───┐\n",
       "│Yes│\n",
       "└───┘\n",
       "</span>"
      ]
     },
     "execution_count": 36,
     "metadata": {},
     "output_type": "execute_result"
    },
    {
     "data": {
      "text/html": [
       "<span style=\"white-space:pre; font-family: monospace\">┌───┐\n",
       "│Yes│\n",
       "└───┘\n",
       "</span>"
      ]
     },
     "execution_count": 36,
     "metadata": {},
     "output_type": "execute_result"
    },
    {
     "data": {
      "text/html": [
       "<span style=\"white-space:pre; font-family: monospace\">┌─┬───────┬───────────────────────────────┐\n",
       "│1│1 0 0 0│┌─────┬───┬───┬───┬───┬─┬───┬─┐│\n",
       "│ │0 1 0 0││1 1 1│0.1│0.9│0.9│200│0│1.5│1││\n",
       "│ │0 0 1 0│└─────┴───┴───┴───┴───┴─┴───┴─┘│\n",
       "│ │0 0 0 1│                               │\n",
       "└─┴───────┴───────────────────────────────┘\n",
       "</span>"
      ]
     },
     "execution_count": 36,
     "metadata": {},
     "output_type": "execute_result"
    },
    {
     "data": {
      "text/html": [
       "<span style=\"white-space:pre; font-family: monospace\">┌───┐\n",
       "│Yes│\n",
       "└───┘\n",
       "</span>"
      ]
     },
     "execution_count": 36,
     "metadata": {},
     "output_type": "execute_result"
    },
    {
     "data": {
      "text/html": [
       "<span style=\"white-space:pre; font-family: monospace\">┌───┐\n",
       "│Yes│\n",
       "└───┘\n",
       "</span>"
      ]
     },
     "execution_count": 36,
     "metadata": {},
     "output_type": "execute_result"
    },
    {
     "data": {
      "text/html": [
       "<span style=\"white-space:pre; font-family: monospace\">┌───┐\n",
       "│Yes│\n",
       "└───┘\n",
       "</span>"
      ]
     },
     "execution_count": 36,
     "metadata": {},
     "output_type": "execute_result"
    }
   ],
   "source": [
    "EVAL_REFRACTION← TRUE\n",
    "⍝ Transparency and Refractive Index for the default material\n",
    "m← material\n",
    "0 yesno m[material_transparency]\n",
    "1 yesno m[material_refractive]\n",
    "\n",
    "⍝ A helper for producing a sphere with a glassy material\n",
    "+s← glass_sphere\n",
    "identity4 yesno ⊃s[obj_transform]\n",
    "m← ⊃s[obj_material]\n",
    "1 yesno m[material_transparency]\n",
    "1.5 yesno m[material_refractive]"
   ]
  },
  {
   "cell_type": "markdown",
   "metadata": {},
   "source": [
    "```\n",
    "Scenario Outline: Finding n1 and n2 at various intersections\n",
    "  Given A ← glass_sphere() with:\n",
    "      | transform                 | scaling(2, 2, 2) |\n",
    "      | material.refractive_index | 1.5              |\n",
    "    And B ← glass_sphere() with:\n",
    "      | transform                 | translation(0, 0, -0.25) |\n",
    "      | material.refractive_index | 2.0                      |\n",
    "    And C ← glass_sphere() with:\n",
    "      | transform                 | translation(0, 0, 0.25) |\n",
    "      | material.refractive_index | 2.5                     |\n",
    "    And r ← ray(point(0, 0, -4), vector(0, 0, 1))\n",
    "    And xs ← intersections(2:A, 2.75:B, 3.25:C, 4.75:B, 5.25:C, 6:A)\n",
    "  When comps ← prepare_computations(xs[<index>], r, xs)  \n",
    "  Then comps.n1 = <n1>\n",
    "    And comps.n2 = <n2>             \n",
    "\n",
    "  Examples:\n",
    "    | index | n1  | n2  |\n",
    "    | 0     | 1.0 | 1.5 |                 \n",
    "    | 1     | 1.5 | 2.0 |\n",
    "    | 2     | 2.0 | 2.5 |\n",
    "    | 3     | 2.5 | 2.5 |\n",
    "    | 4     | 2.5 | 1.5 |\n",
    "    | 5     | 1.5 | 1.0 |\n",
    "```"
   ]
  },
  {
   "cell_type": "code",
   "execution_count": 37,
   "metadata": {},
   "outputs": [
    {
     "data": {
      "text/html": [
       "<span style=\"white-space:pre; font-family: monospace\">1 1.5\n",
       "</span>"
      ]
     },
     "execution_count": 37,
     "metadata": {},
     "output_type": "execute_result"
    },
    {
     "data": {
      "text/html": [
       "<span style=\"white-space:pre; font-family: monospace\">┌───┐\n",
       "│Yes│\n",
       "└───┘\n",
       "</span>"
      ]
     },
     "execution_count": 37,
     "metadata": {},
     "output_type": "execute_result"
    },
    {
     "data": {
      "text/html": [
       "<span style=\"white-space:pre; font-family: monospace\">1.5 2\n",
       "</span>"
      ]
     },
     "execution_count": 37,
     "metadata": {},
     "output_type": "execute_result"
    },
    {
     "data": {
      "text/html": [
       "<span style=\"white-space:pre; font-family: monospace\">┌───┐\n",
       "│Yes│\n",
       "└───┘\n",
       "</span>"
      ]
     },
     "execution_count": 37,
     "metadata": {},
     "output_type": "execute_result"
    },
    {
     "data": {
      "text/html": [
       "<span style=\"white-space:pre; font-family: monospace\">2 2.5\n",
       "</span>"
      ]
     },
     "execution_count": 37,
     "metadata": {},
     "output_type": "execute_result"
    },
    {
     "data": {
      "text/html": [
       "<span style=\"white-space:pre; font-family: monospace\">┌───┐\n",
       "│Yes│\n",
       "└───┘\n",
       "</span>"
      ]
     },
     "execution_count": 37,
     "metadata": {},
     "output_type": "execute_result"
    },
    {
     "data": {
      "text/html": [
       "<span style=\"white-space:pre; font-family: monospace\">2.5 2.5\n",
       "</span>"
      ]
     },
     "execution_count": 37,
     "metadata": {},
     "output_type": "execute_result"
    },
    {
     "data": {
      "text/html": [
       "<span style=\"white-space:pre; font-family: monospace\">┌───┐\n",
       "│Yes│\n",
       "└───┘\n",
       "</span>"
      ]
     },
     "execution_count": 37,
     "metadata": {},
     "output_type": "execute_result"
    },
    {
     "data": {
      "text/html": [
       "<span style=\"white-space:pre; font-family: monospace\">2.5 1.5\n",
       "</span>"
      ]
     },
     "execution_count": 37,
     "metadata": {},
     "output_type": "execute_result"
    },
    {
     "data": {
      "text/html": [
       "<span style=\"white-space:pre; font-family: monospace\">┌───┐\n",
       "│Yes│\n",
       "└───┘\n",
       "</span>"
      ]
     },
     "execution_count": 37,
     "metadata": {},
     "output_type": "execute_result"
    },
    {
     "data": {
      "text/html": [
       "<span style=\"white-space:pre; font-family: monospace\">1.5 1\n",
       "</span>"
      ]
     },
     "execution_count": 37,
     "metadata": {},
     "output_type": "execute_result"
    },
    {
     "data": {
      "text/html": [
       "<span style=\"white-space:pre; font-family: monospace\">┌───┐\n",
       "│Yes│\n",
       "└───┘\n",
       "</span>"
      ]
     },
     "execution_count": 37,
     "metadata": {},
     "output_type": "execute_result"
    }
   ],
   "source": [
    "EVAL_REFRACTION← TRUE\n",
    "a← glass_sphere\n",
    "a[obj_transform]← ⊂scaling 2 2 2\n",
    "m← material\n",
    "m[material_refractive]← 1.5\n",
    "a[obj_material]← ⊂m\n",
    "\n",
    "b← glass_sphere\n",
    "b[obj_transform]← ⊂translation 0 0 ¯0.25\n",
    "m← material\n",
    "m[material_refractive]← 2\n",
    "b[obj_material]← ⊂m\n",
    "\n",
    "c← glass_sphere\n",
    "c[obj_transform]← ⊂translation 0 0 0.24\n",
    "m← material\n",
    "m[material_refractive]← 2.5\n",
    "c[obj_material]← ⊂m\n",
    "\n",
    "⍝ - a\n",
    "r← (point 0 0 ¯4) ray vector 0 0 0.25\n",
    "xs← (a 2) (b 2.75) (c 3.25) (b 4.75) (c 5.25) (a 6)\n",
    "comps← (⊃xs[1]) prepare_computations r\n",
    "ncomps← comps compute_n1n2 xs (⊃xs[1])\n",
    "ncomps[hit_n1 hit_n2]\n",
    "1 1.5 yesno ncomps[hit_n1 hit_n2]\n",
    "\n",
    "⍝ a b\n",
    "comps← (⊃xs[2]) prepare_computations r\n",
    "ncomps← comps compute_n1n2 xs (⊃xs[2])\n",
    "ncomps[hit_n1 hit_n2]\n",
    "1.5 2 yesno ncomps[hit_n1 hit_n2]\n",
    "\n",
    "⍝ b c\n",
    "comps← (⊃xs[3]) prepare_computations r\n",
    "ncomps← comps compute_n1n2 xs (⊃xs[3])\n",
    "ncomps[hit_n1 hit_n2]\n",
    "2 2.5 yesno ncomps[hit_n1 hit_n2]\n",
    "\n",
    "⍝ c c\n",
    "comps← (⊃xs[4]) prepare_computations r\n",
    "ncomps← comps compute_n1n2 xs (⊃xs[4])\n",
    "ncomps[hit_n1 hit_n2]\n",
    "2.5 2.5 yesno ncomps[hit_n1 hit_n2]\n",
    "\n",
    "⍝ c a\n",
    "comps← (⊃xs[5]) prepare_computations r\n",
    "ncomps← comps compute_n1n2 xs (⊃xs[5])\n",
    "ncomps[hit_n1 hit_n2]\n",
    "2.5 1.5 yesno ncomps[hit_n1 hit_n2]\n",
    "\n",
    "⍝ a -\n",
    "comps← (⊃xs[6]) prepare_computations r\n",
    "ncomps← comps compute_n1n2 xs (⊃xs[6])\n",
    "ncomps[hit_n1 hit_n2]\n",
    "1.5 1 yesno ncomps[hit_n1 hit_n2]"
   ]
  },
  {
   "cell_type": "markdown",
   "metadata": {},
   "source": [
    "```\n",
    "Scenario: The under point is offset below the surface\n",
    "  Given r ← ray(point(0, 0, -5), vector(0, 0, 1))\n",
    "    And shape ← glass_sphere() with:\n",
    "      | transform | translation(0, 0, 1) |\n",
    "    And i ← intersection(5, shape)\n",
    "    And xs ← intersections(i)\n",
    "  When comps ← prepare_computations(i, r, xs)\n",
    "  Then comps.under_point.z > EPSILON/2\n",
    "    And comps.point.z < comps.under_point.z\n",
    "```"
   ]
  },
  {
   "cell_type": "code",
   "execution_count": 38,
   "metadata": {},
   "outputs": [
    {
     "data": {
      "text/html": [
       "<span style=\"white-space:pre; font-family: monospace\">0 0 0.00001 1\n",
       "</span>"
      ]
     },
     "execution_count": 38,
     "metadata": {},
     "output_type": "execute_result"
    },
    {
     "data": {
      "text/html": [
       "<span style=\"white-space:pre; font-family: monospace\">0 0 0 1\n",
       "</span>"
      ]
     },
     "execution_count": 38,
     "metadata": {},
     "output_type": "execute_result"
    },
    {
     "data": {
      "text/html": [
       "<span style=\"white-space:pre; font-family: monospace\">┌────┐\n",
       "│True│\n",
       "└────┘\n",
       "</span>"
      ]
     },
     "execution_count": 38,
     "metadata": {},
     "output_type": "execute_result"
    },
    {
     "data": {
      "text/html": [
       "<span style=\"white-space:pre; font-family: monospace\">┌────┐\n",
       "│True│\n",
       "└────┘\n",
       "</span>"
      ]
     },
     "execution_count": 38,
     "metadata": {},
     "output_type": "execute_result"
    }
   ],
   "source": [
    "r← (point 0 0 ¯5) ray vector 0 0 1\n",
    "s← glass_sphere\n",
    "s[obj_transform]← ⊂translation 0 0 1\n",
    "i← s intersection 5\n",
    "xs← i i\n",
    "comps← i prepare_computations r ⍝xs\n",
    "+up← ⊃comps[hit_underpt]\n",
    "+p← ⊃comps[hit_point]\n",
    "truefalse up[3] > 0.5×EPSILON\n",
    "truefalse p[3] < up[3]"
   ]
  },
  {
   "cell_type": "markdown",
   "metadata": {},
   "source": [
    "```\n",
    "Scenario: The refracted color with an opaque surface\n",
    "  Given w ← default_world()\n",
    "    And shape ← the first object in w\n",
    "    And r ← ray(point(0, 0, -5), vector(0, 0, 1))\n",
    "    And xs ← intersections(4:shape, 6:shape)\n",
    "  When comps ← prepare_computations(xs[0], r, xs)\n",
    "    And c ← refracted_color(w, comps, 5)\n",
    "  Then c = color(0, 0, 0)\n",
    "\n",
    "Scenario: The refracted color at the maximum recursive depth\n",
    "  Given w ← default_world()\n",
    "    And shape ← the first object in w\n",
    "    And shape has:\n",
    "      | material.transparency     | 1.0 |\n",
    "      | material.refractive_index | 1.5 |\n",
    "    And r ← ray(point(0, 0, -5), vector(0, 0, 1))\n",
    "    And xs ← intersections(4:shape, 6:shape)\n",
    "  When comps ← prepare_computations(xs[0], r, xs)\n",
    "    And c ← refracted_color(w, comps, 0)\n",
    "  Then c = color(0, 0, 0)\n",
    "```"
   ]
  },
  {
   "cell_type": "code",
   "execution_count": 39,
   "metadata": {},
   "outputs": [
    {
     "data": {
      "text/html": [
       "<span style=\"white-space:pre; font-family: monospace\">0 0 0\n",
       "</span>"
      ]
     },
     "execution_count": 39,
     "metadata": {},
     "output_type": "execute_result"
    },
    {
     "data": {
      "text/html": [
       "<span style=\"white-space:pre; font-family: monospace\">┌───┐\n",
       "│Yes│\n",
       "└───┘\n",
       "</span>"
      ]
     },
     "execution_count": 39,
     "metadata": {},
     "output_type": "execute_result"
    },
    {
     "data": {
      "text/html": [
       "<span style=\"white-space:pre; font-family: monospace\">0 0 0\n",
       "</span>"
      ]
     },
     "execution_count": 39,
     "metadata": {},
     "output_type": "execute_result"
    },
    {
     "data": {
      "text/html": [
       "<span style=\"white-space:pre; font-family: monospace\">┌───┐\n",
       "│Yes│\n",
       "└───┘\n",
       "</span>"
      ]
     },
     "execution_count": 39,
     "metadata": {},
     "output_type": "execute_result"
    }
   ],
   "source": [
    "EVAL_REFRACTION← TRUE\n",
    "⍝ The refracted color with an opaque surface\n",
    "w← default_world\n",
    "s← 2 1⊃w\n",
    "r← (point 0 0 ¯5) ray vector 0 0 1\n",
    "xs← (s 4)(s 6)\n",
    "comps← (⊃xs[1]) prepare_computations r\n",
    "ncomps← comps compute_n1n2 xs (⊃xs[1])\n",
    "RECURSE← 5\n",
    "+c← w refracted_color ncomps\n",
    "c yesno 0 0 0\n",
    "\n",
    "⍝ The refracted color at the maximum recursive depth\n",
    "w← default_world\n",
    "s← 2 1⊃w\n",
    "m← ⊃s[obj_material]\n",
    "m[material_transparency material_refractive]← 1 1.5\n",
    "s[obj_material]← ⊂m\n",
    "objs← 2⊃w\n",
    "objs[1]← ⊂s\n",
    "w[2]← ⊂objs\n",
    "xs← (s 4)(s 6)\n",
    "comps← (⊃xs[1]) prepare_computations r\n",
    "ncomps← comps compute_n1n2 xs (⊃xs[1])\n",
    "RECURSE← 0\n",
    "+c← w refracted_color ncomps\n",
    "c yesno 0 0 0"
   ]
  },
  {
   "cell_type": "markdown",
   "metadata": {},
   "source": [
    "```\n",
    "Scenario: The refracted color under total internal reflection\n",
    "  Given w ← default_world()\n",
    "    And shape ← the first object in w\n",
    "    And shape has:\n",
    "      | material.transparency     | 1.0 |\n",
    "      | material.refractive_index | 1.5 |\n",
    "    And r ← ray(point(0, 0, √2/2), vector(0, 1, 0))\n",
    "    And xs ← intersections(-√2/2:shape, √2/2:shape)\n",
    "  # NOTE: this time you're inside the sphere, so you need\n",
    "  # to look at the second intersection, xs[1], not xs[0]\n",
    "  When comps ← prepare_computations(xs[1], r, xs)\n",
    "    And c ← refracted_color(w, comps, 5)\n",
    "  Then c = color(0, 0, 0)\n",
    "\n",
    "Scenario: The refracted color with a refracted ray\n",
    "  Given w ← default_world()\n",
    "    And A ← the first object in w\n",
    "    And A has:\n",
    "      | material.ambient | 1.0            |\n",
    "      | material.pattern | test_pattern() |\n",
    "    And B ← the second object in w\n",
    "    And B has:\n",
    "      | material.transparency     | 1.0 |\n",
    "      | material.refractive_index | 1.5 |\n",
    "    And r ← ray(point(0, 0, 0.1), vector(0, 1, 0))\n",
    "    And xs ← intersections(-0.9899:A, -0.4899:B, 0.4899:B, 0.9899:A)\n",
    "  When comps ← prepare_computations(xs[2], r, xs)\n",
    "    And c ← refracted_color(w, comps, 5)\n",
    "  Then c = color(0, 0.99888, 0.04725)\n",
    "```\n",
    "\n",
    "**Fixed the problem here.** Wrong comparison with RECURSE and zero in **reflected_color** caused it to exit immediately."
   ]
  },
  {
   "cell_type": "code",
   "execution_count": 40,
   "metadata": {},
   "outputs": [
    {
     "data": {
      "text/html": [
       "<span style=\"white-space:pre; font-family: monospace\">0 0 0\n",
       "</span>"
      ]
     },
     "execution_count": 40,
     "metadata": {},
     "output_type": "execute_result"
    },
    {
     "data": {
      "text/html": [
       "<span style=\"white-space:pre; font-family: monospace\">┌───┐\n",
       "│Yes│\n",
       "└───┘\n",
       "</span>"
      ]
     },
     "execution_count": 40,
     "metadata": {},
     "output_type": "execute_result"
    },
    {
     "data": {
      "text/html": [
       "<span style=\"white-space:pre; font-family: monospace\">┌─────────────────────────────────────────────────────────────────────────────────────────────────────────────┐\n",
       "│┌─────────────────────────────────────────────────────────┬─────────────────────────────────────────────────┐│\n",
       "││┌─┬───────┬─────────────────────────────────────────────┐│┌─┬─────────────┬───────────────────────────────┐││\n",
       "│││1│1 0 0 0│┌───────────────────────┬─┬───┬───┬───┬─┬─┬─┐│││1│0.5 0   0   0│┌─────┬───┬───┬───┬───┬─┬───┬─┐│││\n",
       "│││ │0 1 0 0││┌─┬───────┬─────┬─────┐│1│0.7│0.2│200│0│1│0││││ │0   0.5 0   0││1 1 1│0.1│0.9│0.9│200│0│1.5│1││││\n",
       "│││ │0 0 1 0│││0│1 0 0 0│0 0 0│1 1 1││ │   │   │   │ │ │ ││││ │0   0   0.5 0│└─────┴───┴───┴───┴───┴─┴───┴─┘│││\n",
       "│││ │0 0 0 1│││ │0 1 0 0│     │     ││ │   │   │   │ │ │ ││││ │0   0   0   1│                               │││\n",
       "│││ │       │││ │0 0 1 0│     │     ││ │   │   │   │ │ │ │││└─┴─────────────┴───────────────────────────────┘││\n",
       "│││ │       │││ │0 0 0 1│     │     ││ │   │   │   │ │ │ │││                                                 ││\n",
       "│││ │       ││└─┴───────┴─────┴─────┘│ │   │   │   │ │ │ │││                                                 ││\n",
       "│││ │       │└───────────────────────┴─┴───┴───┴───┴─┴─┴─┘││                                                 ││\n",
       "││└─┴───────┴─────────────────────────────────────────────┘│                                                 ││\n",
       "│└─────────────────────────────────────────────────────────┴─────────────────────────────────────────────────┘│\n",
       "└─────────────────────────────────────────────────────────────────────────────────────────────────────────────┘\n",
       "</span>"
      ]
     },
     "execution_count": 40,
     "metadata": {},
     "output_type": "execute_result"
    },
    {
     "data": {
      "text/html": [
       "<span style=\"white-space:pre; font-family: monospace\">0 0.998875 0.047219\n",
       "</span>"
      ]
     },
     "execution_count": 40,
     "metadata": {},
     "output_type": "execute_result"
    },
    {
     "data": {
      "text/html": [
       "<span style=\"white-space:pre; font-family: monospace\">0 0.99887 0.04722\n",
       "</span>"
      ]
     },
     "execution_count": 40,
     "metadata": {},
     "output_type": "execute_result"
    },
    {
     "data": {
      "text/html": [
       "<span style=\"white-space:pre; font-family: monospace\">┌───┐\n",
       "│Yes│\n",
       "└───┘\n",
       "</span>"
      ]
     },
     "execution_count": 40,
     "metadata": {},
     "output_type": "execute_result"
    }
   ],
   "source": [
    "EVAL_REFRACTION← TRUE\n",
    "⍝ The refracted color under total internal reflection\n",
    "w← default_world\n",
    "s← 2 1⊃w\n",
    "m← obj_material ⊃s\n",
    "m[material_transparency material_refractive]← 1 1.5\n",
    "s[obj_material]← ⊂m\n",
    "objs← 2⊃w\n",
    "objs[1]← ⊂s\n",
    "w[2]← ⊂objs\n",
    "r← (point 0 0 (0.5×2*0.5)) ray vector 0 1 0\n",
    "xs← (s (¯0.5×2*0.5))(s (0.5×2*0.5))\n",
    "comps← (⊃xs[2]) prepare_computations r\n",
    "ncomps← comps compute_n1n2 xs (⊃xs[2])\n",
    "RECURSE← 5\n",
    "+c← w refracted_color ncomps\n",
    "c yesno 0 0 0\n",
    "\n",
    "⍝ The refracted color with a refracted ray\n",
    "w← default_world\n",
    "a← 2 1⊃w\n",
    "m← obj_material⊃a\n",
    "m[material_ambient material_pattern]← 1 test_pattern\n",
    "a[obj_material]← ⊂m\n",
    "b← 2 2⊃w\n",
    "m← obj_material⊃b\n",
    "m[material_transparency material_refractive]← 1 1.5\n",
    "b[obj_material]← ⊂m\n",
    "objs← 2⊃w\n",
    "objs[1]← ⊂a\n",
    "objs[2]← ⊂b\n",
    "+w[2]← ⊂objs\n",
    "r← (point 0 0 0.1) ray vector 0 1 0\n",
    "xs← (a ¯0.9899) (b ¯0.4899) (b 0.4899) (a 0.9899)\n",
    "comps← (⊃xs[3]) prepare_computations r\n",
    "ncomps← comps compute_n1n2 xs (⊃xs[3])\n",
    "RECURSE← 5\n",
    "+c← w refracted_color ncomps\n",
    "9 5 roundMN c\n",
    "0 0.99887 0.04722 yesno 9 5 roundMN c"
   ]
  },
  {
   "cell_type": "markdown",
   "metadata": {},
   "source": [
    "```\n",
    "Scenario: shade_hit() with a transparent material\n",
    "  Given w ← default_world()\n",
    "    And floor ← plane() with:\n",
    "      | transform                 | translation(0, -1, 0) |\n",
    "      | material.transparency     | 0.5                   |\n",
    "      | material.refractive_index | 1.5                   |\n",
    "    And floor is added to w\n",
    "    And ball ← sphere() with:\n",
    "      | material.color     | (1, 0, 0)                  |\n",
    "      | material.ambient   | 0.5                        |\n",
    "      | transform          | translation(0, -3.5, -0.5) |\n",
    "    And ball is added to w\n",
    "    And r ← ray(point(0, 0, -3), vector(0, -√2/2, √2/2))\n",
    "    And xs ← intersections(√2:floor)\n",
    "  When comps ← prepare_computations(xs[0], r, xs)\n",
    "    And color ← shade_hit(w, comps, 5)\n",
    "  Then color = color(0.93642, 0.68642, 0.68642)\n",
    "```\n",
    "\n",
    "**The returned n1/n2 values are wrong!** The function **compute_n1n2** should never alter the reflective values in the objects in an intersection list. Never mind, test setup error. Problem was the xs expression was taking the square root of *floor*!"
   ]
  },
  {
   "cell_type": "code",
   "execution_count": 41,
   "metadata": {},
   "outputs": [
    {
     "data": {
      "text/html": [
       "<span style=\"white-space:pre; font-family: monospace\">1 1.5\n",
       "</span>"
      ]
     },
     "execution_count": 41,
     "metadata": {},
     "output_type": "execute_result"
    },
    {
     "data": {
      "text/html": [
       "<span style=\"white-space:pre; font-family: monospace\">0.936425 0.686425 0.686425\n",
       "</span>"
      ]
     },
     "execution_count": 41,
     "metadata": {},
     "output_type": "execute_result"
    },
    {
     "data": {
      "text/html": [
       "<span style=\"white-space:pre; font-family: monospace\">┌───┐\n",
       "│Yes│\n",
       "└───┘\n",
       "</span>"
      ]
     },
     "execution_count": 41,
     "metadata": {},
     "output_type": "execute_result"
    }
   ],
   "source": [
    "EVAL_REFRACTION← TRUE\n",
    "w← default_world\n",
    "floor← plane\n",
    "floor[obj_transform]← ⊂translation 0 ¯1 0\n",
    "m← obj_material⊃floor\n",
    "m[material_transparency material_refractive]← 0.5 1.5\n",
    "floor[obj_material]← ⊂m\n",
    "ball← sphere\n",
    "ball[obj_transform]← ⊂translation 0 ¯3.5 ¯0.5\n",
    "m← obj_material⊃ball\n",
    "m[material_color material_ambient]← (1 0 0) 0.5\n",
    "ball[obj_material]← ⊂m\n",
    "objs← 2 ⊃w\n",
    "objs,← ⊂floor\n",
    "objs,← ⊂ball\n",
    "w[2]← ⊂objs\n",
    "r← (point 0 0 ¯3) ray vector 0 (¯0.5×2*0.5) (0.5×2*0.5)\n",
    "⍝ xs← (floor 2*0.5)(floor 2*0.5) Wrong, wrong, wrong! sqrt(floor)\n",
    "xs← (floor (2*0.5))(floor (2*0.5))\n",
    "comps← (⊃xs[1]) prepare_computations r\n",
    "ncomps← comps compute_n1n2 xs (⊃xs[1])\n",
    "ncomps[hit_n1 hit_n2]\n",
    "RECURSE← 5\n",
    "+c← w shade_hit ncomps\n",
    "0.93643 0.68643 0.68643 yesno 9 5 roundMN c"
   ]
  },
  {
   "cell_type": "markdown",
   "metadata": {},
   "source": [
    "```\n",
    "Scenario: The Schlick approximation under total internal reflection\n",
    "  Given shape ← glass_sphere()\n",
    "    And r ← ray(point(0, 0, √2/2), vector(0, 1, 0))\n",
    "    And xs ← intersections(-√2/2:shape, √2/2:shape)\n",
    "  When comps ← prepare_computations(xs[1], r, xs)\n",
    "    And reflectance ← schlick(comps)\n",
    "  Then reflectance = 1.0\n",
    "\n",
    "Scenario: The Schlick approximation with a perpendicular viewing angle\n",
    "  Given shape ← glass_sphere()\n",
    "    And r ← ray(point(0, 0, 0), vector(0, 1, 0))\n",
    "    And xs ← intersections(-1:shape, 1:shape)\n",
    "  When comps ← prepare_computations(xs[1], r, xs)\n",
    "    And reflectance ← schlick(comps)\n",
    "  Then reflectance = 0.04\n",
    "\n",
    "Scenario: The Schlick approximation with small angle and n2 > n1\n",
    "  Given shape ← glass_sphere()\n",
    "    And r ← ray(point(0, 0.99, -2), vector(0, 0, 1))\n",
    "    And xs ← intersections(1.8589:shape)\n",
    "  When comps ← prepare_computations(xs[0], r, xs)\n",
    "    And reflectance ← schlick(comps)\n",
    "  Then reflectance = 0.48873\n",
    "```\n",
    "\n",
    "The second test is failing because **compute_n1n2** is returning the exit condition for the ray. The ray starts in the center of the sphere and exits from the top. Shouldn't this be correct? Debug! Nevermind, working now."
   ]
  },
  {
   "cell_type": "code",
   "execution_count": 42,
   "metadata": {},
   "outputs": [
    {
     "data": {
      "text/html": [
       "<span style=\"white-space:pre; font-family: monospace\">1.5 1\n",
       "</span>"
      ]
     },
     "execution_count": 42,
     "metadata": {},
     "output_type": "execute_result"
    },
    {
     "data": {
      "text/html": [
       "<span style=\"white-space:pre; font-family: monospace\">1\n",
       "</span>"
      ]
     },
     "execution_count": 42,
     "metadata": {},
     "output_type": "execute_result"
    },
    {
     "data": {
      "text/html": [
       "<span style=\"white-space:pre; font-family: monospace\">┌───┐\n",
       "│Yes│\n",
       "└───┘\n",
       "</span>"
      ]
     },
     "execution_count": 42,
     "metadata": {},
     "output_type": "execute_result"
    },
    {
     "data": {
      "text/html": [
       "<span style=\"white-space:pre; font-family: monospace\">1.5 1\n",
       "</span>"
      ]
     },
     "execution_count": 42,
     "metadata": {},
     "output_type": "execute_result"
    },
    {
     "data": {
      "text/html": [
       "<span style=\"white-space:pre; font-family: monospace\">0.04\n",
       "</span>"
      ]
     },
     "execution_count": 42,
     "metadata": {},
     "output_type": "execute_result"
    },
    {
     "data": {
      "text/html": [
       "<span style=\"white-space:pre; font-family: monospace\">┌───┐\n",
       "│Yes│\n",
       "└───┘\n",
       "</span>"
      ]
     },
     "execution_count": 42,
     "metadata": {},
     "output_type": "execute_result"
    },
    {
     "data": {
      "text/html": [
       "<span style=\"white-space:pre; font-family: monospace\">1 1.5\n",
       "</span>"
      ]
     },
     "execution_count": 42,
     "metadata": {},
     "output_type": "execute_result"
    },
    {
     "data": {
      "text/html": [
       "<span style=\"white-space:pre; font-family: monospace\">0.488731\n",
       "</span>"
      ]
     },
     "execution_count": 42,
     "metadata": {},
     "output_type": "execute_result"
    },
    {
     "data": {
      "text/html": [
       "<span style=\"white-space:pre; font-family: monospace\">┌───┐\n",
       "│Yes│\n",
       "└───┘\n",
       "</span>"
      ]
     },
     "execution_count": 42,
     "metadata": {},
     "output_type": "execute_result"
    }
   ],
   "source": [
    "EVAL_REFRACTION← TRUE\n",
    "⍝ The Schlick approximation under total internal reflection\n",
    "s← glass_sphere\n",
    "r← (point 0 0 (0.5×2*0.5)) ray vector 0 1 0\n",
    "xs← (s (¯0.5×2*0.5)) (s (0.5×2*0.5))\n",
    "comps← (⊃xs[2]) prepare_computations r\n",
    "ncomps← comps compute_n1n2 xs (⊃xs[2])\n",
    "ncomps[hit_n1 hit_n2]\n",
    "+ref← schlick ncomps\n",
    "ref yesno 1.0\n",
    "\n",
    "⍝ The Schlick approximation with a perpendicular viewing angle\n",
    "r← (point 0 0 0) ray vector 0 1 0\n",
    "xs← (s ¯1) (s 1)\n",
    "comps← (⊃xs[2]) prepare_computations r\n",
    "ncomps← comps compute_n1n2 xs (⊃xs[2])\n",
    "⍝ n1, n2 values seem to be swapped\n",
    "ncomps[hit_n1 hit_n2]   ⍝← ncomps[hit_n2 hit_n1]\n",
    "+ref← schlick ncomps\n",
    "0.04 yesno 9 2 roundMN ref\n",
    "\n",
    "⍝ The Schlick approximation with small angle and n2 > n1\n",
    "r← (point 0 0.99 ¯2) ray vector 0 0 1\n",
    "xs← (s 1.8589)(s 1.8589)\n",
    "comps← (⊃xs[1]) prepare_computations r\n",
    "ncomps← comps compute_n1n2 xs (⊃xs[1])\n",
    "ncomps[hit_n1 hit_n2]\n",
    "+ref← schlick ncomps\n",
    "0.48873 yesno 9 5 roundMN ref"
   ]
  },
  {
   "cell_type": "markdown",
   "metadata": {},
   "source": [
    "```\n",
    "Scenario: shade_hit() with a reflective, transparent material\n",
    "  Given w ← default_world()\n",
    "    And r ← ray(point(0, 0, -3), vector(0, -√2/2, √2/2))\n",
    "    And floor ← plane() with:\n",
    "      | transform                 | translation(0, -1, 0) |\n",
    "      | material.reflective       | 0.5                   |\n",
    "      | material.transparency     | 0.5                   |\n",
    "      | material.refractive_index | 1.5                   |\n",
    "    And floor is added to w\n",
    "    And ball ← sphere() with:\n",
    "      | material.color     | (1, 0, 0)                  |\n",
    "      | material.ambient   | 0.5                        |\n",
    "      | transform          | translation(0, -3.5, -0.5) |\n",
    "    And ball is added to w\n",
    "    And xs ← intersections(√2:floor)\n",
    "  When comps ← prepare_computations(xs[0], r, xs)\n",
    "    And color ← shade_hit(w, comps, 5)\n",
    "  Then color = color(0.93391, 0.69643, 0.69243)\n",
    "```"
   ]
  },
  {
   "cell_type": "code",
   "execution_count": 75,
   "metadata": {},
   "outputs": [
    {
     "data": {
      "text/html": [
       "<span style=\"white-space:pre; font-family: monospace\">1 1.5\n",
       "</span>"
      ]
     },
     "execution_count": 75,
     "metadata": {},
     "output_type": "execute_result"
    },
    {
     "data": {
      "text/html": [
       "<span style=\"white-space:pre; font-family: monospace\">0.933915 0.696434 0.69243\n",
       "</span>"
      ]
     },
     "execution_count": 75,
     "metadata": {},
     "output_type": "execute_result"
    },
    {
     "data": {
      "text/html": [
       "<span style=\"white-space:pre; font-family: monospace\">┌───┐\n",
       "│Yes│\n",
       "└───┘\n",
       "</span>"
      ]
     },
     "execution_count": 75,
     "metadata": {},
     "output_type": "execute_result"
    }
   ],
   "source": [
    "EVAL_REFRACTION← TRUE\n",
    "w← default_world\n",
    "r← (point 0 0 ¯3) ray vector 0 (¯0.5×2*0.5) (0.5×2*0.5)\n",
    "floor← plane\n",
    "floor[obj_transform]← ⊂translation 0 ¯1 0\n",
    "m← obj_material⊃floor\n",
    "m[material_reflective material_transparency material_refractive]← 0.5 0.5 1.5\n",
    "floor[obj_material]← ⊂m\n",
    "ball← sphere\n",
    "ball[obj_transform]← ⊂translation 0 ¯3.5 ¯0.5\n",
    "m← obj_material⊃ball\n",
    "m[material_color material_ambient]← (1 0 0) 0.5\n",
    "ball[obj_material]← ⊂m\n",
    "objs← 2 ⊃w\n",
    "objs,← ⊂floor\n",
    "objs,← ⊂ball\n",
    "w[2]← ⊂objs\n",
    "xs← (floor (2*0.5))(floor (2*0.5))  ⍝ Can't seem to get a list of one intersection\n",
    "comps← (⊃xs[1]) prepare_computations r\n",
    "ncomps← comps compute_n1n2 xs (⊃xs[1])\n",
    "ncomps[hit_n1 hit_n2]\n",
    "RECURSE← 5\n",
    "+c← w shade_hit ncomps\n",
    "0.93391 0.69643 0.69243 yesno 9 5 roundMN c"
   ]
  },
  {
   "cell_type": "markdown",
   "metadata": {},
   "source": []
  },
  {
   "cell_type": "markdown",
   "metadata": {},
   "source": [
    "# Chapter 12. Cubes\n",
    "A new shape is added, the cube. This will require shape specific funnctions like cube_normal_at."
   ]
  },
  {
   "cell_type": "markdown",
   "metadata": {},
   "source": [
    "## Chapter 12 Functions\n",
    "New functions and old modified functions include\n",
    "\n",
    "- Macro *cube* is a standard cube object with default material and transform matric\n",
    "- Function **check_axis(origin,direction)** returns a pair of distances\n",
    "- Function **cube_intersection(cube,ray)** → returns null or a pair of intersections\n",
    "- Function **cube_normal_at(cube,point)** returns a vector that is normal to the cube at a point\n"
   ]
  },
  {
   "cell_type": "markdown",
   "metadata": {},
   "source": [
    "## Chapter 12 APL Code Implementation\n",
    "The form of the functions and arguments are\n",
    "\n",
    "- **check_axis** numeric numeric → numeric numeric\n",
    "- *cube* **cube_intersection** *ray* → ⍬ or intersection intersection\n",
    "- *cube* **cube_normal_at** *point* → vector\n"
   ]
  },
  {
   "cell_type": "markdown",
   "metadata": {},
   "source": [
    "```\n",
    "function check_axis(origin, direction)\n",
    "  if abs(direction) > EPSILON\n",
    "    tmin ← (-1 - origin) / direction\n",
    "    tmax ← (1 - origin) / direction\n",
    "    if tmin > tmax then swap(tmin, tmax)\n",
    "  else\n",
    "    tmin ← (-1 - origin) * INFINITY\n",
    "    tmax ← (1 - origin) * INFINITY\n",
    "  end if\n",
    "\n",
    "  return tmin, tmax\n",
    "end function\n",
    "```"
   ]
  },
  {
   "cell_type": "markdown",
   "metadata": {},
   "source": [
    "```\n",
    "function local_intersect(cube, ray)\n",
    "  xtmin, xtmax ← check_axis(ray.origin.x, ray.direction.x)\n",
    "  ytmin, ytmax ← check_axis(ray.origin.y, ray.direction.y)\n",
    "  ztmin, ztmax ← check_axis(ray.origin.z, ray.direction.z)\n",
    "\n",
    "  tmin ← max(xtmin, ytmin, ztmin)\n",
    "  tmax ← min(xtmax, ytmax, ztmax)\n",
    "\n",
    "  return () if tmin > tmax\n",
    "\n",
    "  return ( intersection(tmin, cube), intersection(tmax, cube) )\n",
    "end function\n",
    "```"
   ]
  },
  {
   "cell_type": "markdown",
   "metadata": {},
   "source": [
    "```\n",
    "function local_normal_at(cube, point)\n",
    "  maxc ← max(abs(point.x), abs(point.y), abs(point.z))\n",
    "\n",
    "  if maxc = abs(point.x) then\n",
    "    return vector(point.x, 0, 0)\n",
    "  else if maxc = abs(point.y) then\n",
    "    return vector(0, point.y, 0)\n",
    "  end if\n",
    "\n",
    "  return vector(0, 0, point.z)\n",
    "end function\n",
    "```"
   ]
  },
  {
   "cell_type": "markdown",
   "metadata": {},
   "source": [
    "## Chapter 12 Test Cases"
   ]
  },
  {
   "cell_type": "markdown",
   "metadata": {},
   "source": [
    "```\n",
    "Scenario Outline: A ray intersects a cube\n",
    "  Given c ← cube()\n",
    "    And r ← ray(<origin>, <direction>)\n",
    "  When xs ← local_intersect(c, r)\n",
    "  Then xs.count = 2\n",
    "    And xs[0].t = <t1>\n",
    "    And xs[1].t = <t2>\n",
    "\n",
    "  Examples:\n",
    "    |        | origin            | direction        | t1 | t2 |\n",
    "    | +x     | point(5, 0.5, 0)  | vector(-1, 0, 0) |  4 |  6 |\n",
    "    | -x     | point(-5, 0.5, 0) | vector(1, 0, 0)  |  4 |  6 |\n",
    "    | +y     | point(0.5, 5, 0)  | vector(0, -1, 0) |  4 |  6 |\n",
    "    | -y     | point(0.5, -5, 0) | vector(0, 1, 0)  |  4 |  6 |\n",
    "    | +z     | point(0.5, 0, 5)  | vector(0, 0, -1) |  4 |  6 |\n",
    "    | -z     | point(0.5, 0, -5) | vector(0, 0, 1)  |  4 |  6 |\n",
    "    | inside | point(0, 0.5, 0)  | vector(0, 0, 1)  | -1 |  1 |\n",
    "```"
   ]
  },
  {
   "cell_type": "code",
   "execution_count": 76,
   "metadata": {},
   "outputs": [
    {
     "data": {
      "text/html": [
       "<span style=\"white-space:pre; font-family: monospace\">┌─────────────────────────────────────────────┬─────────────────────────────────────────────┐\n",
       "│┌─────────────────────────────────────────┬─┐│┌─────────────────────────────────────────┬─┐│\n",
       "││┌─┬───────┬─────────────────────────────┐│4│││┌─┬───────┬─────────────────────────────┐│6││\n",
       "│││3│1 0 0 0│┌─────┬───┬───┬───┬───┬─┬─┬─┐││ ││││3│1 0 0 0│┌─────┬───┬───┬───┬───┬─┬─┬─┐││ ││\n",
       "│││ │0 1 0 0││1 1 1│0.1│0.9│0.9│200│0│1│0│││ ││││ │0 1 0 0││1 1 1│0.1│0.9│0.9│200│0│1│0│││ ││\n",
       "│││ │0 0 1 0│└─────┴───┴───┴───┴───┴─┴─┴─┘││ ││││ │0 0 1 0│└─────┴───┴───┴───┴───┴─┴─┴─┘││ ││\n",
       "│││ │0 0 0 1│                             ││ ││││ │0 0 0 1│                             ││ ││\n",
       "││└─┴───────┴─────────────────────────────┘│ │││└─┴───────┴─────────────────────────────┘│ ││\n",
       "│└─────────────────────────────────────────┴─┘│└─────────────────────────────────────────┴─┘│\n",
       "└─────────────────────────────────────────────┴─────────────────────────────────────────────┘\n",
       "</span>"
      ]
     },
     "execution_count": 76,
     "metadata": {},
     "output_type": "execute_result"
    },
    {
     "data": {
      "text/html": [
       "<span style=\"white-space:pre; font-family: monospace\">┌───┐\n",
       "│Yes│\n",
       "└───┘\n",
       "</span>"
      ]
     },
     "execution_count": 76,
     "metadata": {},
     "output_type": "execute_result"
    },
    {
     "data": {
      "text/html": [
       "<span style=\"white-space:pre; font-family: monospace\">┌───┐\n",
       "│Yes│\n",
       "└───┘\n",
       "</span>"
      ]
     },
     "execution_count": 76,
     "metadata": {},
     "output_type": "execute_result"
    },
    {
     "data": {
      "text/html": [
       "<span style=\"white-space:pre; font-family: monospace\">┌───┐\n",
       "│Yes│\n",
       "└───┘\n",
       "</span>"
      ]
     },
     "execution_count": 76,
     "metadata": {},
     "output_type": "execute_result"
    },
    {
     "data": {
      "text/html": [
       "<span style=\"white-space:pre; font-family: monospace\">┌───┐\n",
       "│Yes│\n",
       "└───┘\n",
       "</span>"
      ]
     },
     "execution_count": 76,
     "metadata": {},
     "output_type": "execute_result"
    },
    {
     "data": {
      "text/html": [
       "<span style=\"white-space:pre; font-family: monospace\">┌───┐\n",
       "│Yes│\n",
       "└───┘\n",
       "</span>"
      ]
     },
     "execution_count": 76,
     "metadata": {},
     "output_type": "execute_result"
    },
    {
     "data": {
      "text/html": [
       "<span style=\"white-space:pre; font-family: monospace\">┌───┐\n",
       "│Yes│\n",
       "└───┘\n",
       "</span>"
      ]
     },
     "execution_count": 76,
     "metadata": {},
     "output_type": "execute_result"
    },
    {
     "data": {
      "text/html": [
       "<span style=\"white-space:pre; font-family: monospace\">┌───┐\n",
       "│Yes│\n",
       "└───┘\n",
       "</span>"
      ]
     },
     "execution_count": 76,
     "metadata": {},
     "output_type": "execute_result"
    }
   ],
   "source": [
    "⍝ A ray intersects a cube\n",
    "c← cube\n",
    "r← (point 5 0.5 0) ray vector ¯1 0 0\n",
    "+xs← c cube_intersect r\n",
    "4 6 yesno (2⌷⊃xs[1])(2⌷⊃xs[2])\n",
    "\n",
    "r← (point ¯5 0.5 0) ray vector 1 0 0\n",
    "xs← c cube_intersect r\n",
    "4 6 yesno (2⌷⊃xs[1])(2⌷⊃xs[2])\n",
    "\n",
    "r← (point 0.5 5 0) ray vector 0 ¯1 0\n",
    "xs← c cube_intersect r\n",
    "4 6 yesno (2⌷⊃xs[1])(2⌷⊃xs[2])\n",
    "\n",
    "r← (point 0.5 ¯5 0) ray vector 0 1 0\n",
    "xs← c cube_intersect r\n",
    "4 6 yesno (2⌷⊃xs[1])(2⌷⊃xs[2])\n",
    "\n",
    "r← (point 0.5 0 5) ray vector 0 0 ¯1\n",
    "xs← c cube_intersect r\n",
    "4 6 yesno (2⌷⊃xs[1])(2⌷⊃xs[2])\n",
    "\n",
    "r← (point 0.5 0 ¯5) ray vector 0 0 1\n",
    "xs← c cube_intersect r\n",
    "4 6 yesno (2⌷⊃xs[1])(2⌷⊃xs[2])\n",
    "\n",
    "r← (point 0 0.5 0) ray vector 0 0 1\n",
    "xs← c cube_intersect r\n",
    "¯1 1 yesno (2⌷⊃xs[1])(2⌷⊃xs[2])\n"
   ]
  },
  {
   "cell_type": "markdown",
   "metadata": {},
   "source": [
    "```\n",
    "Scenario Outline: A ray misses a cube\n",
    "  Given c ← cube()\n",
    "    And r ← ray(<origin>, <direction>)\n",
    "  When xs ← local_intersect(c, r)\n",
    "  Then xs.count = 0\n",
    "\n",
    "  Examples:\n",
    "    | origin           | direction                      |\n",
    "    | point(-2, 0, 0)  | vector(0.2673, 0.5345, 0.8018) |\n",
    "    | point(0, -2, 0)  | vector(0.8018, 0.2673, 0.5345) |\n",
    "    | point(0, 0, -2)  | vector(0.5345, 0.8018, 0.2673) |\n",
    "    | point(2, 0, 2)   | vector(0, 0, -1)               |\n",
    "    | point(0, 2, 2)   | vector(0, -1, 0)               |\n",
    "    | point(2, 2, 0)   | vector(-1, 0, 0)               |\n",
    "```"
   ]
  },
  {
   "cell_type": "code",
   "execution_count": 77,
   "metadata": {},
   "outputs": [
    {
     "data": {
      "text/html": [
       "<span style=\"white-space:pre; font-family: monospace\">\n",
       "</span>"
      ]
     },
     "execution_count": 77,
     "metadata": {},
     "output_type": "execute_result"
    },
    {
     "data": {
      "text/html": [
       "<span style=\"white-space:pre; font-family: monospace\">┌───┐\n",
       "│Yes│\n",
       "└───┘\n",
       "</span>"
      ]
     },
     "execution_count": 77,
     "metadata": {},
     "output_type": "execute_result"
    },
    {
     "data": {
      "text/html": [
       "<span style=\"white-space:pre; font-family: monospace\">┌───┐\n",
       "│Yes│\n",
       "└───┘\n",
       "</span>"
      ]
     },
     "execution_count": 77,
     "metadata": {},
     "output_type": "execute_result"
    },
    {
     "data": {
      "text/html": [
       "<span style=\"white-space:pre; font-family: monospace\">┌───┐\n",
       "│Yes│\n",
       "└───┘\n",
       "</span>"
      ]
     },
     "execution_count": 77,
     "metadata": {},
     "output_type": "execute_result"
    },
    {
     "data": {
      "text/html": [
       "<span style=\"white-space:pre; font-family: monospace\">┌───┐\n",
       "│Yes│\n",
       "└───┘\n",
       "</span>"
      ]
     },
     "execution_count": 77,
     "metadata": {},
     "output_type": "execute_result"
    },
    {
     "data": {
      "text/html": [
       "<span style=\"white-space:pre; font-family: monospace\">┌───┐\n",
       "│Yes│\n",
       "└───┘\n",
       "</span>"
      ]
     },
     "execution_count": 77,
     "metadata": {},
     "output_type": "execute_result"
    },
    {
     "data": {
      "text/html": [
       "<span style=\"white-space:pre; font-family: monospace\">┌───┐\n",
       "│Yes│\n",
       "└───┘\n",
       "</span>"
      ]
     },
     "execution_count": 77,
     "metadata": {},
     "output_type": "execute_result"
    }
   ],
   "source": [
    "⍝ A ray misses a cube\n",
    "c← cube\n",
    "r← (point ¯2 0 0) ray vector 0.2673 0.5345 0.8018\n",
    "+xs← c cube_intersect r\n",
    "0 yesno ≢xs\n",
    "\n",
    "r← (point 0 ¯2 0) ray vector 0.8018 0.2673 0.5345\n",
    "xs← c cube_intersect r\n",
    "0 yesno ≢xs\n",
    "\n",
    "r← (point 0 0 ¯2) ray vector 0.5345 0.8018 0.2673\n",
    "xs← c cube_intersect r\n",
    "0 yesno ≢xs\n",
    "\n",
    "r← (point 2 0 2) ray vector 0 0 ¯1\n",
    "xs← c cube_intersect r\n",
    "0 yesno ≢xs\n",
    "\n",
    "r← (point 0 2 2) ray vector 0 ¯1 0\n",
    "xs← c cube_intersect r\n",
    "0 yesno ≢xs\n",
    "\n",
    "r← (point 2 2 0) ray vector ¯1 0 0\n",
    "xs← c cube_intersect r\n",
    "0 yesno ≢xs\n"
   ]
  },
  {
   "cell_type": "markdown",
   "metadata": {},
   "source": [
    "```\n",
    "Scenario Outline: The normal on the surface of a cube\n",
    "  Given c ← cube()\n",
    "    And p ← <point>\n",
    "  When normal ← local_normal_at(c, p)\n",
    "  Then normal = <normal>\n",
    "\n",
    "  Examples:\n",
    "    | point                | normal           |\n",
    "    | point(1, 0.5, -0.8)  | vector(1, 0, 0)  |\n",
    "    | point(-1, -0.2, 0.9) | vector(-1, 0, 0) |\n",
    "    | point(-0.4, 1, -0.1) | vector(0, 1, 0)  |\n",
    "    | point(0.3, -1, -0.7) | vector(0, -1, 0) |\n",
    "    | point(-0.6, 0.3, 1)  | vector(0, 0, 1)  |\n",
    "    | point(0.4, 0.4, -1)  | vector(0, 0, -1) |\n",
    "    | point(1, 1, 1)       | vector(1, 0, 0)  |\n",
    "    | point(-1, -1, -1)    | vector(-1, 0, 0) |\n",
    "```"
   ]
  },
  {
   "cell_type": "code",
   "execution_count": 78,
   "metadata": {},
   "outputs": [
    {
     "data": {
      "text/html": [
       "<span style=\"white-space:pre; font-family: monospace\">1 0 0 0\n",
       "</span>"
      ]
     },
     "execution_count": 78,
     "metadata": {},
     "output_type": "execute_result"
    },
    {
     "data": {
      "text/html": [
       "<span style=\"white-space:pre; font-family: monospace\">┌───┐\n",
       "│Yes│\n",
       "└───┘\n",
       "</span>"
      ]
     },
     "execution_count": 78,
     "metadata": {},
     "output_type": "execute_result"
    },
    {
     "data": {
      "text/html": [
       "<span style=\"white-space:pre; font-family: monospace\">┌───┐\n",
       "│Yes│\n",
       "└───┘\n",
       "</span>"
      ]
     },
     "execution_count": 78,
     "metadata": {},
     "output_type": "execute_result"
    },
    {
     "data": {
      "text/html": [
       "<span style=\"white-space:pre; font-family: monospace\">┌───┐\n",
       "│Yes│\n",
       "└───┘\n",
       "</span>"
      ]
     },
     "execution_count": 78,
     "metadata": {},
     "output_type": "execute_result"
    },
    {
     "data": {
      "text/html": [
       "<span style=\"white-space:pre; font-family: monospace\">┌───┐\n",
       "│Yes│\n",
       "└───┘\n",
       "</span>"
      ]
     },
     "execution_count": 78,
     "metadata": {},
     "output_type": "execute_result"
    },
    {
     "data": {
      "text/html": [
       "<span style=\"white-space:pre; font-family: monospace\">┌───┐\n",
       "│Yes│\n",
       "└───┘\n",
       "</span>"
      ]
     },
     "execution_count": 78,
     "metadata": {},
     "output_type": "execute_result"
    },
    {
     "data": {
      "text/html": [
       "<span style=\"white-space:pre; font-family: monospace\">┌───┐\n",
       "│Yes│\n",
       "└───┘\n",
       "</span>"
      ]
     },
     "execution_count": 78,
     "metadata": {},
     "output_type": "execute_result"
    },
    {
     "data": {
      "text/html": [
       "<span style=\"white-space:pre; font-family: monospace\">┌───┐\n",
       "│Yes│\n",
       "└───┘\n",
       "</span>"
      ]
     },
     "execution_count": 78,
     "metadata": {},
     "output_type": "execute_result"
    },
    {
     "data": {
      "text/html": [
       "<span style=\"white-space:pre; font-family: monospace\">┌───┐\n",
       "│Yes│\n",
       "└───┘\n",
       "</span>"
      ]
     },
     "execution_count": 78,
     "metadata": {},
     "output_type": "execute_result"
    }
   ],
   "source": [
    "⍝ The normal on the surface of a cube\n",
    "c← cube\n",
    "p← point 1 0.5 ¯0.8\n",
    "+n← c cube_normal_at p\n",
    "n yesno vector 1 0 0\n",
    "\n",
    "p← point ¯1 ¯0.2 0.9\n",
    "n← c cube_normal_at p\n",
    "n yesno vector ¯1 0 0\n",
    "\n",
    "p← point ¯0.4 1 ¯0.1\n",
    "n← c cube_normal_at p\n",
    "n yesno vector 0 1 0\n",
    "\n",
    "p← point 0.3 ¯1 ¯0.7\n",
    "n← c cube_normal_at p\n",
    "n yesno vector 0 ¯1 0\n",
    "\n",
    "p← point ¯0.6 0.3 1\n",
    "n← c cube_normal_at p\n",
    "n yesno vector 0 0 1\n",
    "\n",
    "p← point 0.4 0.4 ¯1\n",
    "n← c cube_normal_at p\n",
    "n yesno vector 0 0 ¯1\n",
    "\n",
    "p← point 1 1 1\n",
    "n← c cube_normal_at p\n",
    "n yesno vector 1 0 0\n",
    "\n",
    "p← point ¯1 ¯1 ¯1\n",
    "n← c cube_normal_at p\n",
    "n yesno vector ¯1 0 0\n"
   ]
  },
  {
   "cell_type": "markdown",
   "metadata": {},
   "source": [
    "# Chapter 13. Cylinders\n",
    "This chapter on Cylinders is very similar to the previous one on cubes. It will also need an intersection and normal_at local function. What differs though is that cylinders are considered to extend to plus and minus infinity along the y axis (similar to planes). However, a cylinder can be truncated at either or both ends. A cylinder is assume to be hollow unless a cap is specified. Because they are similar, Cones will also be defined in this chapter."
   ]
  },
  {
   "cell_type": "markdown",
   "metadata": {},
   "source": [
    "## Chapter 13 Functions\n",
    "New functions and old modified functions include\n",
    "\n",
    "- Macro *cylinder* is a standard cylinder object with default material and transform matric\n",
    "- Macro *cone* is a standard cone object with default material and transform matric\n",
    "- Function **cylinder_intersection(cylinder,ray)** → returns null or multiple intersections\n",
    "- Function **cylinder_normal_at(cylinder,point)** returns a vector that is normal to the cylinder at a point\n",
    "- Function **cone_intersection(cone,ray)** → returns null or multiple intersections\n",
    "- Function **cone_normal_at(cone,point)** returns a vector that is normal to the cone at a point\n"
   ]
  },
  {
   "cell_type": "markdown",
   "metadata": {},
   "source": [
    "## Chapter 13 APL Code Implementation\n",
    "The form of the functions and arguments are\n",
    "\n",
    "- Macro *cylinder* returns a default cylinder\n",
    "- Macro *cone* returns a default cone\n",
    "- *ray* **check_cap** distance → Boolean\n",
    "- *cylinder* **cylinder_intersection** *ray* → ⍬ or multiple intersections\n",
    "- *cylinder* **cylinder_normal_at** *point* → vector\n",
    "- *ray* **check_cap2** distance radius → Boolean\n",
    "- *cylinder* **cone_intersection** *ray* → ⍬ or multiple intersections\n",
    "- *cylinder* **cone_normal_at** *point* → vector\n"
   ]
  },
  {
   "cell_type": "markdown",
   "metadata": {},
   "source": [
    "For a basic infinite cylinder, the intersect code looks like\n",
    "\n",
    "```\n",
    "function local_intersect(cylinder, ray)\n",
    "  a ← ray.direction.x² + ray.direction.z²\n",
    "\n",
    "  # ray is parallel to the y axis\n",
    "  return () if a is approximately zero\n",
    "\n",
    "  b ← 2 * ray.origin.x * ray.direction.x +\n",
    "       2 * ray.origin.z * ray.direction.z\n",
    "  c ← ray.origin.x² + ray.origin.z² - 1\n",
    "\n",
    "  disc ← b² - 4 * a * c\n",
    "\n",
    "  # ray does not intersect the cylinder\n",
    "  return () if disc < 0\n",
    "\n",
    "  # this is just a placeholder, to ensure the tests\n",
    "  # pass that expect the ray to miss.\n",
    "  return ( intersection(1, cylinder) )\n",
    "end function\n",
    "```\n",
    "\n",
    "Once truncated cylinders are introduced, additional code is added at the end.\n",
    "\n",
    "```\n",
    "t0 ← (-b - √(disc)) / (2 * a)\n",
    "t1 ← (-b + √(disc)) / (2 * a)\n",
    "if t0 > t1 then swap(t0, t1)\n",
    "\n",
    "xs = ()\n",
    "\n",
    "y0 ← ray.origin.y + t0 * ray.direction.y\n",
    "if cylinder.minimum < y0 and y0 < cylinder.maximum\n",
    "  add intersection(t0, cylinder) to xs\n",
    "end if\n",
    "\n",
    "y1 ← ray.origin.y + t1 * ray.direction.y\n",
    "if cylinder.minimum < y1 and y1 < cylinder.maximum\n",
    "  add intersection(t1, cylinder) to xs\n",
    "end if\n",
    "\n",
    "return xs\n",
    "```"
   ]
  },
  {
   "cell_type": "markdown",
   "metadata": {},
   "source": [
    "Helper functions are introduced to support caps on cylinder ends.\n",
    "\n",
    "```\n",
    "# a helper function to reduce duplication.\n",
    "# checks to see if the intersection at `t` is within a radius\n",
    "# of 1 (the radius of your cylinders) from the y axis.\n",
    "function check_cap(ray, t)\n",
    "  x ← ray.origin.x + t * ray.direction.x\n",
    "  z ← ray.origin.z + t * ray.direction.z\n",
    "\n",
    "  return (x² + z²) <= 1\n",
    "end\n",
    "```"
   ]
  },
  {
   "cell_type": "markdown",
   "metadata": {},
   "source": [
    "This function is added to the end of the **cylinder_intersect** function. The code could also just be inserted into the function itself.\n",
    "```\n",
    "function intersect_caps(cyl, ray, xs)\n",
    "  # caps only matter if the cylinder is closed, and might possibly be\n",
    "  # intersected by the ray.\n",
    "  if cyl is not closed or ray.direction.y is close to zero\n",
    "    return\n",
    "  end if\n",
    "\n",
    "  # check for an intersection with the lower end-cap by intersecting\n",
    "  # the ray with the plane at y=cyl.minimum\n",
    "  t ← (cyl.minimum - ray.origin.y) / ray.direction.y\n",
    "  if check_cap(ray, t)\n",
    "    add intersection(t, cyl) to xs\n",
    "  end if\n",
    "\n",
    "  # check for an intersection with the upper end-cap by intersecting\n",
    "  # the ray with the plane at y=cyl.maximum\n",
    "  t ← (cyl.maximum - ray.origin.y) / ray.direction.y\n",
    "  if check_cap(ray, t)\n",
    "    add intersection(t, cyl) to xs\n",
    "  end if\n",
    "end function\n",
    "```"
   ]
  },
  {
   "cell_type": "markdown",
   "metadata": {},
   "source": [
    "```\n",
    "function local_normal_at(cylinder, point)\n",
    "  # compute the square of the distance from the y axis\n",
    "  dist ← point.x² + point.z²\n",
    "\n",
    "  if dist < 1 and point.y >= cylinder.maximum - EPSILON\n",
    "    return vector(0, 1, 0)\n",
    "\n",
    "  else if dist < 1 and point.y <= cylinder.minimum + EPSILON\n",
    "    return vector(0, -1, 0)\n",
    "\n",
    "  else\n",
    "    return vector(point.x, 0, point.z)\n",
    "  end if\n",
    "end function\n",
    "```"
   ]
  },
  {
   "cell_type": "markdown",
   "metadata": {},
   "source": [
    "# Chapter 13 Test Cases"
   ]
  },
  {
   "cell_type": "markdown",
   "metadata": {},
   "source": [
    "```\n",
    "Scenario Outline: A ray misses a cylinder\n",
    "  Given cyl ← cylinder()\n",
    "    And direction ← normalize(<direction>)\n",
    "    And r ← ray(<origin>, direction)\n",
    "  When xs ← local_intersect(cyl, r)\n",
    "  Then xs.count = 0\n",
    "\n",
    "  Examples:\n",
    "    | origin          | direction       |\n",
    "    | point(1, 0, 0)  | vector(0, 1, 0) |\n",
    "    | point(0, 0, 0)  | vector(0, 1, 0) |\n",
    "    | point(0, 0, -5) | vector(1, 1, 1) |\n",
    "```"
   ]
  },
  {
   "cell_type": "code",
   "execution_count": 79,
   "metadata": {},
   "outputs": [
    {
     "data": {
      "text/html": [
       "<span style=\"white-space:pre; font-family: monospace\">\n",
       "</span>"
      ]
     },
     "execution_count": 79,
     "metadata": {},
     "output_type": "execute_result"
    },
    {
     "data": {
      "text/html": [
       "<span style=\"white-space:pre; font-family: monospace\">┌───┐\n",
       "│Yes│\n",
       "└───┘\n",
       "</span>"
      ]
     },
     "execution_count": 79,
     "metadata": {},
     "output_type": "execute_result"
    },
    {
     "data": {
      "text/html": [
       "<span style=\"white-space:pre; font-family: monospace\">\n",
       "</span>"
      ]
     },
     "execution_count": 79,
     "metadata": {},
     "output_type": "execute_result"
    },
    {
     "data": {
      "text/html": [
       "<span style=\"white-space:pre; font-family: monospace\">┌───┐\n",
       "│Yes│\n",
       "└───┘\n",
       "</span>"
      ]
     },
     "execution_count": 79,
     "metadata": {},
     "output_type": "execute_result"
    },
    {
     "data": {
      "text/html": [
       "<span style=\"white-space:pre; font-family: monospace\">\n",
       "</span>"
      ]
     },
     "execution_count": 79,
     "metadata": {},
     "output_type": "execute_result"
    },
    {
     "data": {
      "text/html": [
       "<span style=\"white-space:pre; font-family: monospace\">┌───┐\n",
       "│Yes│\n",
       "└───┘\n",
       "</span>"
      ]
     },
     "execution_count": 79,
     "metadata": {},
     "output_type": "execute_result"
    }
   ],
   "source": [
    "cyl← cylinder\n",
    "\n",
    "dir← normalize vector 0 1 0\n",
    "r← (point 1 0 0) ray dir\n",
    "+xs← cyl cylinder_intersect r\n",
    "0 yesno ≢xs\n",
    "\n",
    "dir← normalize vector 0 1 0\n",
    "r← (point 0 0 0) ray dir\n",
    "+xs← cyl cylinder_intersect r\n",
    "0 yesno ≢xs\n",
    "\n",
    "dir← normalize vector 1 1 1\n",
    "r← (point 0 0 ¯5) ray dir\n",
    "+xs← cyl cylinder_intersect r\n",
    "0 yesno ≢xs\n"
   ]
  },
  {
   "cell_type": "markdown",
   "metadata": {},
   "source": [
    "```\n",
    "Scenario Outline: A ray strikes a cylinder\n",
    "  Given cyl ← cylinder()\n",
    "    And direction ← normalize(<direction>)\n",
    "    And r ← ray(<origin>, direction)\n",
    "  When xs ← local_intersect(cyl, r)\n",
    "  Then xs.count = 2\n",
    "    And xs[0].t = <t0>\n",
    "    And xs[1].t = <t1>\n",
    "\n",
    "  Examples:\n",
    "    | origin            | direction         | t0      | t1      |\n",
    "    | point(1, 0, -5)   | vector(0, 0, 1)   | 5       | 5       |\n",
    "    | point(0, 0, -5)   | vector(0, 0, 1)   | 4       | 6       |\n",
    "    | point(0.5, 0, -5) | vector(0.1, 1, 1) | 6.80798 | 7.08872 |\n",
    "```"
   ]
  },
  {
   "cell_type": "code",
   "execution_count": 80,
   "metadata": {},
   "outputs": [
    {
     "data": {
      "text/html": [
       "<span style=\"white-space:pre; font-family: monospace\">┌───┐\n",
       "│Yes│\n",
       "└───┘\n",
       "</span>"
      ]
     },
     "execution_count": 80,
     "metadata": {},
     "output_type": "execute_result"
    },
    {
     "data": {
      "text/html": [
       "<span style=\"white-space:pre; font-family: monospace\">┌───┐\n",
       "│Yes│\n",
       "└───┘\n",
       "</span>"
      ]
     },
     "execution_count": 80,
     "metadata": {},
     "output_type": "execute_result"
    },
    {
     "data": {
      "text/html": [
       "<span style=\"white-space:pre; font-family: monospace\">┌───┐\n",
       "│Yes│\n",
       "└───┘\n",
       "</span>"
      ]
     },
     "execution_count": 80,
     "metadata": {},
     "output_type": "execute_result"
    }
   ],
   "source": [
    "cyl← cylinder\n",
    "\n",
    "r← (point 1 0 ¯5) ray normalize vector 0 0 1\n",
    "xs← cyl cylinder_intersect r\n",
    "5 5 yesno (2⌷⊃xs[1]), 2⌷⊃xs[2]\n",
    "\n",
    "r← (point 0 0 ¯5) ray normalize vector 0 0 1\n",
    "xs← cyl cylinder_intersect r\n",
    "4 6 yesno (2⌷⊃xs[1]), 2⌷⊃xs[2]\n",
    "\n",
    "r← (point 0.5 0 ¯5) ray normalize vector 0.1 1 1\n",
    "xs← cyl cylinder_intersect r\n",
    "6.80798 7.08872 yesno 9 5 roundMN (2⌷⊃xs[1]), 2⌷⊃xs[2]\n"
   ]
  },
  {
   "cell_type": "markdown",
   "metadata": {},
   "source": [
    "```\n",
    "Scenario Outline: Normal vector on a cylinder\n",
    "  Given cyl ← cylinder()\n",
    "  When n ← local_normal_at(cyl, <point>)\n",
    "  Then n = <normal>\n",
    "\n",
    "  Examples:\n",
    "    | point           | normal           |\n",
    "    | point(1, 0, 0)  | vector(1, 0, 0)  |\n",
    "    | point(0, 5, -1) | vector(0, 0, -1) |\n",
    "    | point(0, -2, 1) | vector(0, 0, 1)  |\n",
    "    | point(-1, 1, 0) | vector(-1, 0, 0) |\n",
    "```"
   ]
  },
  {
   "cell_type": "code",
   "execution_count": 81,
   "metadata": {},
   "outputs": [
    {
     "data": {
      "text/html": [
       "<span style=\"white-space:pre; font-family: monospace\">1 0 0 0\n",
       "</span>"
      ]
     },
     "execution_count": 81,
     "metadata": {},
     "output_type": "execute_result"
    },
    {
     "data": {
      "text/html": [
       "<span style=\"white-space:pre; font-family: monospace\">┌───┐\n",
       "│Yes│\n",
       "└───┘\n",
       "</span>"
      ]
     },
     "execution_count": 81,
     "metadata": {},
     "output_type": "execute_result"
    },
    {
     "data": {
      "text/html": [
       "<span style=\"white-space:pre; font-family: monospace\">0 0 ¯1 0\n",
       "</span>"
      ]
     },
     "execution_count": 81,
     "metadata": {},
     "output_type": "execute_result"
    },
    {
     "data": {
      "text/html": [
       "<span style=\"white-space:pre; font-family: monospace\">┌───┐\n",
       "│Yes│\n",
       "└───┘\n",
       "</span>"
      ]
     },
     "execution_count": 81,
     "metadata": {},
     "output_type": "execute_result"
    },
    {
     "data": {
      "text/html": [
       "<span style=\"white-space:pre; font-family: monospace\">0 0 1 0\n",
       "</span>"
      ]
     },
     "execution_count": 81,
     "metadata": {},
     "output_type": "execute_result"
    },
    {
     "data": {
      "text/html": [
       "<span style=\"white-space:pre; font-family: monospace\">┌───┐\n",
       "│Yes│\n",
       "└───┘\n",
       "</span>"
      ]
     },
     "execution_count": 81,
     "metadata": {},
     "output_type": "execute_result"
    },
    {
     "data": {
      "text/html": [
       "<span style=\"white-space:pre; font-family: monospace\">¯1 0 0 0\n",
       "</span>"
      ]
     },
     "execution_count": 81,
     "metadata": {},
     "output_type": "execute_result"
    },
    {
     "data": {
      "text/html": [
       "<span style=\"white-space:pre; font-family: monospace\">┌───┐\n",
       "│Yes│\n",
       "└───┘\n",
       "</span>"
      ]
     },
     "execution_count": 81,
     "metadata": {},
     "output_type": "execute_result"
    }
   ],
   "source": [
    "cyl← cylinder\n",
    "+n← cyl cylinder_normal_at point 1 0 0\n",
    "n yesno vector 1 0 0\n",
    "\n",
    "+n← cyl cylinder_normal_at point 0 5 ¯1\n",
    "n yesno vector 0 0 ¯1\n",
    "\n",
    "+n← cyl cylinder_normal_at point 0 ¯2 1\n",
    "n yesno vector 0 0 1\n",
    "\n",
    "+n← cyl cylinder_normal_at point ¯1 1 0\n",
    "n yesno vector ¯1 0 0\n"
   ]
  },
  {
   "cell_type": "markdown",
   "metadata": {},
   "source": [
    "```\n",
    "Scenario: The default minimum and maximum for a cylinder\n",
    "  Given cyl ← cylinder()\n",
    "  Then cyl.minimum = -infinity\n",
    "    And cyl.maximum = infinity\n",
    "\n",
    "Scenario Outline: Intersecting a constrained cylinder\n",
    "  Given cyl ← cylinder()\n",
    "    And cyl.minimum ← 1\n",
    "    And cyl.maximum ← 2\n",
    "    And direction ← normalize(<direction>)\n",
    "    And r ← ray(<point>, direction)\n",
    "  When xs ← local_intersect(cyl, r)\n",
    "  Then xs.count = <count>\n",
    "\n",
    "  Examples:\n",
    "    |   | point             | direction         | count |\n",
    "    | 1 | point(0, 1.5, 0)  | vector(0.1, 1, 0) | 0     |\n",
    "    | 2 | point(0, 3, -5)   | vector(0, 0, 1)   | 0     |\n",
    "    | 3 | point(0, 0, -5)   | vector(0, 0, 1)   | 0     |\n",
    "    | 4 | point(0, 2, -5)   | vector(0, 0, 1)   | 0     |\n",
    "    | 5 | point(0, 1, -5)   | vector(0, 0, 1)   | 0     |\n",
    "    | 6 | point(0, 1.5, -2) | vector(0, 0, 1)   | 2     |\n",
    "```"
   ]
  },
  {
   "cell_type": "code",
   "execution_count": 82,
   "metadata": {},
   "outputs": [
    {
     "data": {
      "text/html": [
       "<span style=\"white-space:pre; font-family: monospace\">┌─┬───────┬─────────────────────────────┬───────┬──────┬─┐\n",
       "│4│1 0 0 0│┌─────┬───┬───┬───┬───┬─┬─┬─┐│¯9.9E99│9.9E99│0│\n",
       "│ │0 1 0 0││1 1 1│0.1│0.9│0.9│200│0│1│0││       │      │ │\n",
       "│ │0 0 1 0│└─────┴───┴───┴───┴───┴─┴─┴─┘│       │      │ │\n",
       "│ │0 0 0 1│                             │       │      │ │\n",
       "└─┴───────┴─────────────────────────────┴───────┴──────┴─┘\n",
       "</span>"
      ]
     },
     "execution_count": 82,
     "metadata": {},
     "output_type": "execute_result"
    },
    {
     "data": {
      "text/html": [
       "<span style=\"white-space:pre; font-family: monospace\">┌───┐\n",
       "│Yes│\n",
       "└───┘\n",
       "</span>"
      ]
     },
     "execution_count": 82,
     "metadata": {},
     "output_type": "execute_result"
    },
    {
     "data": {
      "text/html": [
       "<span style=\"white-space:pre; font-family: monospace\">┌───┐\n",
       "│Yes│\n",
       "└───┘\n",
       "</span>"
      ]
     },
     "execution_count": 82,
     "metadata": {},
     "output_type": "execute_result"
    },
    {
     "data": {
      "text/html": [
       "<span style=\"white-space:pre; font-family: monospace\">\n",
       "</span>"
      ]
     },
     "execution_count": 82,
     "metadata": {},
     "output_type": "execute_result"
    },
    {
     "data": {
      "text/html": [
       "<span style=\"white-space:pre; font-family: monospace\">┌───┐\n",
       "│Yes│\n",
       "└───┘\n",
       "</span>"
      ]
     },
     "execution_count": 82,
     "metadata": {},
     "output_type": "execute_result"
    },
    {
     "data": {
      "text/html": [
       "<span style=\"white-space:pre; font-family: monospace\">\n",
       "</span>"
      ]
     },
     "execution_count": 82,
     "metadata": {},
     "output_type": "execute_result"
    },
    {
     "data": {
      "text/html": [
       "<span style=\"white-space:pre; font-family: monospace\">┌───┐\n",
       "│Yes│\n",
       "└───┘\n",
       "</span>"
      ]
     },
     "execution_count": 82,
     "metadata": {},
     "output_type": "execute_result"
    },
    {
     "data": {
      "text/html": [
       "<span style=\"white-space:pre; font-family: monospace\">\n",
       "</span>"
      ]
     },
     "execution_count": 82,
     "metadata": {},
     "output_type": "execute_result"
    },
    {
     "data": {
      "text/html": [
       "<span style=\"white-space:pre; font-family: monospace\">┌───┐\n",
       "│Yes│\n",
       "└───┘\n",
       "</span>"
      ]
     },
     "execution_count": 82,
     "metadata": {},
     "output_type": "execute_result"
    },
    {
     "data": {
      "text/html": [
       "<span style=\"white-space:pre; font-family: monospace\">\n",
       "</span>"
      ]
     },
     "execution_count": 82,
     "metadata": {},
     "output_type": "execute_result"
    },
    {
     "data": {
      "text/html": [
       "<span style=\"white-space:pre; font-family: monospace\">┌───┐\n",
       "│Yes│\n",
       "└───┘\n",
       "</span>"
      ]
     },
     "execution_count": 82,
     "metadata": {},
     "output_type": "execute_result"
    },
    {
     "data": {
      "text/html": [
       "<span style=\"white-space:pre; font-family: monospace\">\n",
       "</span>"
      ]
     },
     "execution_count": 82,
     "metadata": {},
     "output_type": "execute_result"
    },
    {
     "data": {
      "text/html": [
       "<span style=\"white-space:pre; font-family: monospace\">┌───┐\n",
       "│Yes│\n",
       "└───┘\n",
       "</span>"
      ]
     },
     "execution_count": 82,
     "metadata": {},
     "output_type": "execute_result"
    },
    {
     "data": {
      "text/html": [
       "<span style=\"white-space:pre; font-family: monospace\">┌───────────────────────────────────────────────────┬───────────────────────────────────────────────────┐\n",
       "│┌───────────────────────────────────────────────┬─┐│┌───────────────────────────────────────────────┬─┐│\n",
       "││┌─┬───────┬─────────────────────────────┬─┬─┬─┐│1│││┌─┬───────┬─────────────────────────────┬─┬─┬─┐│3││\n",
       "│││4│1 0 0 0│┌─────┬───┬───┬───┬───┬─┬─┬─┐│1│2│0││ ││││4│1 0 0 0│┌─────┬───┬───┬───┬───┬─┬─┬─┐│1│2│0││ ││\n",
       "│││ │0 1 0 0││1 1 1│0.1│0.9│0.9│200│0│1│0││ │ │ ││ ││││ │0 1 0 0││1 1 1│0.1│0.9│0.9│200│0│1│0││ │ │ ││ ││\n",
       "│││ │0 0 1 0│└─────┴───┴───┴───┴───┴─┴─┴─┘│ │ │ ││ ││││ │0 0 1 0│└─────┴───┴───┴───┴───┴─┴─┴─┘│ │ │ ││ ││\n",
       "│││ │0 0 0 1│                             │ │ │ ││ ││││ │0 0 0 1│                             │ │ │ ││ ││\n",
       "││└─┴───────┴─────────────────────────────┴─┴─┴─┘│ │││└─┴───────┴─────────────────────────────┴─┴─┴─┘│ ││\n",
       "│└───────────────────────────────────────────────┴─┘│└───────────────────────────────────────────────┴─┘│\n",
       "└───────────────────────────────────────────────────┴───────────────────────────────────────────────────┘\n",
       "</span>"
      ]
     },
     "execution_count": 82,
     "metadata": {},
     "output_type": "execute_result"
    },
    {
     "data": {
      "text/html": [
       "<span style=\"white-space:pre; font-family: monospace\">┌───┐\n",
       "│Yes│\n",
       "└───┘\n",
       "</span>"
      ]
     },
     "execution_count": 82,
     "metadata": {},
     "output_type": "execute_result"
    }
   ],
   "source": [
    "⍝ The default minimum and maximum for a cylinder\n",
    "+cyl← cylinder\n",
    "cyl[cylinder_minimum] yesno ¯1×INFINITY\n",
    "cyl[cylinder_maximum] yesno INFINITY\n",
    "\n",
    "⍝ Intersecting a constrained cylinder\n",
    "cyl← cylinder\n",
    "cyl[cylinder_minimum]← 1\n",
    "cyl[cylinder_maximum]← 2\n",
    "\n",
    "r← (point 0 1.5 0) ray normalize vector 0.1 1 0\n",
    "+xs← cyl cylinder_intersect r\n",
    "0 yesno ≢xs\n",
    "\n",
    "r← (point 0 3 ¯5) ray normalize vector 0 0 1\n",
    "+xs← cyl cylinder_intersect r\n",
    "0 yesno ≢xs\n",
    "\n",
    "r← (point 0 0 ¯5) ray normalize vector 0 0 1\n",
    "+xs← cyl cylinder_intersect r\n",
    "0 yesno ≢xs\n",
    "\n",
    "r← (point 0 2 ¯5) ray normalize vector 0 0 1\n",
    "+xs← cyl cylinder_intersect r\n",
    "0 yesno ≢xs\n",
    "\n",
    "r← (point 0 1 ¯5) ray normalize vector 0 0 1\n",
    "+xs← cyl cylinder_intersect r\n",
    "0 yesno ≢xs\n",
    "\n",
    "r← (point 0 1.5 ¯2) ray normalize vector 0 0 1\n",
    "+xs← cyl cylinder_intersect r\n",
    "2 yesno ≢xs"
   ]
  },
  {
   "cell_type": "markdown",
   "metadata": {},
   "source": [
    "```\n",
    "Scenario: The default closed value for a cylinder\n",
    "  Given cyl ← cylinder()\n",
    "  Then cyl.closed = false\n",
    "\n",
    "Scenario Outline: Intersecting the caps of a closed cylinder\n",
    "  Given cyl ← cylinder()\n",
    "    And cyl.minimum ← 1\n",
    "    And cyl.maximum ← 2\n",
    "    And cyl.closed ← true\n",
    "    And direction ← normalize(<direction>)\n",
    "    And r ← ray(<point>, direction)\n",
    "  When xs ← local_intersect(cyl, r)\n",
    "  Then xs.count = <count>\n",
    "\n",
    "  Examples:\n",
    "    |   | point            | direction        | count |\n",
    "    | 1 | point(0, 3, 0)   | vector(0, -1, 0) | 2     |\n",
    "    | 2 | point(0, 3, -2)  | vector(0, -1, 2) | 2     |\n",
    "    | 3 | point(0, 4, -2)  | vector(0, -1, 1) | 2     | # corner case\n",
    "    | 4 | point(0, 0, -2)  | vector(0, 1, 2)  | 2     |\n",
    "    | 5 | point(0, -1, -2) | vector(0, 1, 1)  | 2     | # corner case\n",
    "```"
   ]
  },
  {
   "cell_type": "code",
   "execution_count": 83,
   "metadata": {},
   "outputs": [
    {
     "data": {
      "text/html": [
       "<span style=\"white-space:pre; font-family: monospace\">┌─────┐\n",
       "│False│\n",
       "└─────┘\n",
       "</span>"
      ]
     },
     "execution_count": 83,
     "metadata": {},
     "output_type": "execute_result"
    },
    {
     "data": {
      "text/html": [
       "<span style=\"white-space:pre; font-family: monospace\">┌───────────────────────────────────────────────────┬───────────────────────────────────────────────────┐\n",
       "│┌───────────────────────────────────────────────┬─┐│┌───────────────────────────────────────────────┬─┐│\n",
       "││┌─┬───────┬─────────────────────────────┬─┬─┬─┐│1│││┌─┬───────┬─────────────────────────────┬─┬─┬─┐│2││\n",
       "│││4│1 0 0 0│┌─────┬───┬───┬───┬───┬─┬─┬─┐│1│2│1││ ││││4│1 0 0 0│┌─────┬───┬───┬───┬───┬─┬─┬─┐│1│2│1││ ││\n",
       "│││ │0 1 0 0││1 1 1│0.1│0.9│0.9│200│0│1│0││ │ │ ││ ││││ │0 1 0 0││1 1 1│0.1│0.9│0.9│200│0│1│0││ │ │ ││ ││\n",
       "│││ │0 0 1 0│└─────┴───┴───┴───┴───┴─┴─┴─┘│ │ │ ││ ││││ │0 0 1 0│└─────┴───┴───┴───┴───┴─┴─┴─┘│ │ │ ││ ││\n",
       "│││ │0 0 0 1│                             │ │ │ ││ ││││ │0 0 0 1│                             │ │ │ ││ ││\n",
       "││└─┴───────┴─────────────────────────────┴─┴─┴─┘│ │││└─┴───────┴─────────────────────────────┴─┴─┴─┘│ ││\n",
       "│└───────────────────────────────────────────────┴─┘│└───────────────────────────────────────────────┴─┘│\n",
       "└───────────────────────────────────────────────────┴───────────────────────────────────────────────────┘\n",
       "</span>"
      ]
     },
     "execution_count": 83,
     "metadata": {},
     "output_type": "execute_result"
    },
    {
     "data": {
      "text/html": [
       "<span style=\"white-space:pre; font-family: monospace\">┌───┐\n",
       "│Yes│\n",
       "└───┘\n",
       "</span>"
      ]
     },
     "execution_count": 83,
     "metadata": {},
     "output_type": "execute_result"
    },
    {
     "data": {
      "text/html": [
       "<span style=\"white-space:pre; font-family: monospace\">┌─────────────────────────────────────────────────────────┬────────────────────────────────────────────────────────┐\n",
       "│┌───────────────────────────────────────────────┬───────┐│┌───────────────────────────────────────────────┬──────┐│\n",
       "││┌─┬───────┬─────────────────────────────┬─┬─┬─┐│2.23607│││┌─┬───────┬─────────────────────────────┬─┬─┬─┐│3.3541││\n",
       "│││4│1 0 0 0│┌─────┬───┬───┬───┬───┬─┬─┬─┐│1│2│1││       ││││4│1 0 0 0│┌─────┬───┬───┬───┬───┬─┬─┬─┐│1│2│1││      ││\n",
       "│││ │0 1 0 0││1 1 1│0.1│0.9│0.9│200│0│1│0││ │ │ ││       ││││ │0 1 0 0││1 1 1│0.1│0.9│0.9│200│0│1│0││ │ │ ││      ││\n",
       "│││ │0 0 1 0│└─────┴───┴───┴───┴───┴─┴─┴─┘│ │ │ ││       ││││ │0 0 1 0│└─────┴───┴───┴───┴───┴─┴─┴─┘│ │ │ ││      ││\n",
       "│││ │0 0 0 1│                             │ │ │ ││       ││││ │0 0 0 1│                             │ │ │ ││      ││\n",
       "││└─┴───────┴─────────────────────────────┴─┴─┴─┘│       │││└─┴───────┴─────────────────────────────┴─┴─┴─┘│      ││\n",
       "│└───────────────────────────────────────────────┴───────┘│└───────────────────────────────────────────────┴──────┘│\n",
       "└─────────────────────────────────────────────────────────┴────────────────────────────────────────────────────────┘\n",
       "</span>"
      ]
     },
     "execution_count": 83,
     "metadata": {},
     "output_type": "execute_result"
    },
    {
     "data": {
      "text/html": [
       "<span style=\"white-space:pre; font-family: monospace\">┌───┐\n",
       "│Yes│\n",
       "└───┘\n",
       "</span>"
      ]
     },
     "execution_count": 83,
     "metadata": {},
     "output_type": "execute_result"
    },
    {
     "data": {
      "text/html": [
       "<span style=\"white-space:pre; font-family: monospace\">┌─────────────────────────────────────────────────────────┬─────────────────────────────────────────────────────────┐\n",
       "│┌───────────────────────────────────────────────┬───────┐│┌───────────────────────────────────────────────┬───────┐│\n",
       "││┌─┬───────┬─────────────────────────────┬─┬─┬─┐│2.82843│││┌─┬───────┬─────────────────────────────┬─┬─┬─┐│4.24264││\n",
       "│││4│1 0 0 0│┌─────┬───┬───┬───┬───┬─┬─┬─┐│1│2│1││       ││││4│1 0 0 0│┌─────┬───┬───┬───┬───┬─┬─┬─┐│1│2│1││       ││\n",
       "│││ │0 1 0 0││1 1 1│0.1│0.9│0.9│200│0│1│0││ │ │ ││       ││││ │0 1 0 0││1 1 1│0.1│0.9│0.9│200│0│1│0││ │ │ ││       ││\n",
       "│││ │0 0 1 0│└─────┴───┴───┴───┴───┴─┴─┴─┘│ │ │ ││       ││││ │0 0 1 0│└─────┴───┴───┴───┴───┴─┴─┴─┘│ │ │ ││       ││\n",
       "│││ │0 0 0 1│                             │ │ │ ││       ││││ │0 0 0 1│                             │ │ │ ││       ││\n",
       "││└─┴───────┴─────────────────────────────┴─┴─┴─┘│       │││└─┴───────┴─────────────────────────────┴─┴─┴─┘│       ││\n",
       "│└───────────────────────────────────────────────┴───────┘│└───────────────────────────────────────────────┴───────┘│\n",
       "└─────────────────────────────────────────────────────────┴─────────────────────────────────────────────────────────┘\n",
       "</span>"
      ]
     },
     "execution_count": 83,
     "metadata": {},
     "output_type": "execute_result"
    },
    {
     "data": {
      "text/html": [
       "<span style=\"white-space:pre; font-family: monospace\">┌───┐\n",
       "│Yes│\n",
       "└───┘\n",
       "</span>"
      ]
     },
     "execution_count": 83,
     "metadata": {},
     "output_type": "execute_result"
    },
    {
     "data": {
      "text/html": [
       "<span style=\"white-space:pre; font-family: monospace\">┌─────────────────────────────────────────────────────────┬────────────────────────────────────────────────────────┐\n",
       "│┌───────────────────────────────────────────────┬───────┐│┌───────────────────────────────────────────────┬──────┐│\n",
       "││┌─┬───────┬─────────────────────────────┬─┬─┬─┐│2.23607│││┌─┬───────┬─────────────────────────────┬─┬─┬─┐│3.3541││\n",
       "│││4│1 0 0 0│┌─────┬───┬───┬───┬───┬─┬─┬─┐│1│2│1││       ││││4│1 0 0 0│┌─────┬───┬───┬───┬───┬─┬─┬─┐│1│2│1││      ││\n",
       "│││ │0 1 0 0││1 1 1│0.1│0.9│0.9│200│0│1│0││ │ │ ││       ││││ │0 1 0 0││1 1 1│0.1│0.9│0.9│200│0│1│0││ │ │ ││      ││\n",
       "│││ │0 0 1 0│└─────┴───┴───┴───┴───┴─┴─┴─┘│ │ │ ││       ││││ │0 0 1 0│└─────┴───┴───┴───┴───┴─┴─┴─┘│ │ │ ││      ││\n",
       "│││ │0 0 0 1│                             │ │ │ ││       ││││ │0 0 0 1│                             │ │ │ ││      ││\n",
       "││└─┴───────┴─────────────────────────────┴─┴─┴─┘│       │││└─┴───────┴─────────────────────────────┴─┴─┴─┘│      ││\n",
       "│└───────────────────────────────────────────────┴───────┘│└───────────────────────────────────────────────┴──────┘│\n",
       "└─────────────────────────────────────────────────────────┴────────────────────────────────────────────────────────┘\n",
       "</span>"
      ]
     },
     "execution_count": 83,
     "metadata": {},
     "output_type": "execute_result"
    },
    {
     "data": {
      "text/html": [
       "<span style=\"white-space:pre; font-family: monospace\">┌───┐\n",
       "│Yes│\n",
       "└───┘\n",
       "</span>"
      ]
     },
     "execution_count": 83,
     "metadata": {},
     "output_type": "execute_result"
    },
    {
     "data": {
      "text/html": [
       "<span style=\"white-space:pre; font-family: monospace\">┌─────────────────────────────────────────────────────────┬─────────────────────────────────────────────────────────┐\n",
       "│┌───────────────────────────────────────────────┬───────┐│┌───────────────────────────────────────────────┬───────┐│\n",
       "││┌─┬───────┬─────────────────────────────┬─┬─┬─┐│2.82843│││┌─┬───────┬─────────────────────────────┬─┬─┬─┐│4.24264││\n",
       "│││4│1 0 0 0│┌─────┬───┬───┬───┬───┬─┬─┬─┐│1│2│1││       ││││4│1 0 0 0│┌─────┬───┬───┬───┬───┬─┬─┬─┐│1│2│1││       ││\n",
       "│││ │0 1 0 0││1 1 1│0.1│0.9│0.9│200│0│1│0││ │ │ ││       ││││ │0 1 0 0││1 1 1│0.1│0.9│0.9│200│0│1│0││ │ │ ││       ││\n",
       "│││ │0 0 1 0│└─────┴───┴───┴───┴───┴─┴─┴─┘│ │ │ ││       ││││ │0 0 1 0│└─────┴───┴───┴───┴───┴─┴─┴─┘│ │ │ ││       ││\n",
       "│││ │0 0 0 1│                             │ │ │ ││       ││││ │0 0 0 1│                             │ │ │ ││       ││\n",
       "││└─┴───────┴─────────────────────────────┴─┴─┴─┘│       │││└─┴───────┴─────────────────────────────┴─┴─┴─┘│       ││\n",
       "│└───────────────────────────────────────────────┴───────┘│└───────────────────────────────────────────────┴───────┘│\n",
       "└─────────────────────────────────────────────────────────┴─────────────────────────────────────────────────────────┘\n",
       "</span>"
      ]
     },
     "execution_count": 83,
     "metadata": {},
     "output_type": "execute_result"
    },
    {
     "data": {
      "text/html": [
       "<span style=\"white-space:pre; font-family: monospace\">┌───┐\n",
       "│Yes│\n",
       "└───┘\n",
       "</span>"
      ]
     },
     "execution_count": 83,
     "metadata": {},
     "output_type": "execute_result"
    }
   ],
   "source": [
    "⍝ The default closed value for a cylinder\n",
    "cyl← cylinder\n",
    "truefalse cyl[cylinder_closed]\n",
    "\n",
    "⍝ Intersecting the caps of a closed cylinder\n",
    "cyl← cylinder\n",
    "cyl[cylinder_minimum]← 1\n",
    "cyl[cylinder_maximum]← 2\n",
    "cyl[cylinder_closed]←  TRUE\n",
    "\n",
    "r← (point 0 3 0) ray normalize vector 0 ¯1 0\n",
    "+xs← cyl cylinder_intersect r\n",
    "2 yesno ≢xs\n",
    "\n",
    "r← (point 0 3 ¯2) ray normalize vector 0 ¯1 2\n",
    "+xs← cyl cylinder_intersect r\n",
    "2 yesno ≢xs\n",
    "\n",
    "r← (point 0 4 ¯2) ray normalize vector 0 ¯1 1\n",
    "+xs← cyl cylinder_intersect r\n",
    "2 yesno ≢xs\n",
    "\n",
    "r← (point 0 0 ¯2) ray normalize vector 0 1 2\n",
    "+xs← cyl cylinder_intersect r\n",
    "2 yesno ≢xs\n",
    "\n",
    "r← (point 0 ¯1 ¯2) ray normalize vector 0 1 1\n",
    "+xs← cyl cylinder_intersect r\n",
    "2 yesno ≢xs\n"
   ]
  },
  {
   "cell_type": "markdown",
   "metadata": {},
   "source": [
    "```\n",
    "Scenario Outline: The normal vector on a cylinder's end caps\n",
    "  Given cyl ← cylinder()\n",
    "    And cyl.minimum ← 1\n",
    "    And cyl.maximum ← 2\n",
    "    And cyl.closed ← true\n",
    "  When n ← local_normal_at(cyl, <point>)\n",
    "  Then n = <normal>\n",
    "\n",
    "  Examples:\n",
    "    | point            | normal           |\n",
    "    | point(0, 1, 0)   | vector(0, -1, 0) |\n",
    "    | point(0.5, 1, 0) | vector(0, -1, 0) |\n",
    "    | point(0, 1, 0.5) | vector(0, -1, 0) |\n",
    "    | point(0, 2, 0)   | vector(0, 1, 0)  |\n",
    "    | point(0.5, 2, 0) | vector(0, 1, 0)  |\n",
    "    | point(0, 2, 0.5) | vector(0, 1, 0)  |\n",
    "```"
   ]
  },
  {
   "cell_type": "code",
   "execution_count": 84,
   "metadata": {},
   "outputs": [
    {
     "data": {
      "text/html": [
       "<span style=\"white-space:pre; font-family: monospace\">0 ¯1 0 0\n",
       "</span>"
      ]
     },
     "execution_count": 84,
     "metadata": {},
     "output_type": "execute_result"
    },
    {
     "data": {
      "text/html": [
       "<span style=\"white-space:pre; font-family: monospace\">┌───┐\n",
       "│Yes│\n",
       "└───┘\n",
       "</span>"
      ]
     },
     "execution_count": 84,
     "metadata": {},
     "output_type": "execute_result"
    },
    {
     "data": {
      "text/html": [
       "<span style=\"white-space:pre; font-family: monospace\">0 ¯1 0 0\n",
       "</span>"
      ]
     },
     "execution_count": 84,
     "metadata": {},
     "output_type": "execute_result"
    },
    {
     "data": {
      "text/html": [
       "<span style=\"white-space:pre; font-family: monospace\">┌───┐\n",
       "│Yes│\n",
       "└───┘\n",
       "</span>"
      ]
     },
     "execution_count": 84,
     "metadata": {},
     "output_type": "execute_result"
    },
    {
     "data": {
      "text/html": [
       "<span style=\"white-space:pre; font-family: monospace\">0 ¯1 0 0\n",
       "</span>"
      ]
     },
     "execution_count": 84,
     "metadata": {},
     "output_type": "execute_result"
    },
    {
     "data": {
      "text/html": [
       "<span style=\"white-space:pre; font-family: monospace\">┌───┐\n",
       "│Yes│\n",
       "└───┘\n",
       "</span>"
      ]
     },
     "execution_count": 84,
     "metadata": {},
     "output_type": "execute_result"
    },
    {
     "data": {
      "text/html": [
       "<span style=\"white-space:pre; font-family: monospace\">0 1 0 0\n",
       "</span>"
      ]
     },
     "execution_count": 84,
     "metadata": {},
     "output_type": "execute_result"
    },
    {
     "data": {
      "text/html": [
       "<span style=\"white-space:pre; font-family: monospace\">┌───┐\n",
       "│Yes│\n",
       "└───┘\n",
       "</span>"
      ]
     },
     "execution_count": 84,
     "metadata": {},
     "output_type": "execute_result"
    },
    {
     "data": {
      "text/html": [
       "<span style=\"white-space:pre; font-family: monospace\">0 1 0 0\n",
       "</span>"
      ]
     },
     "execution_count": 84,
     "metadata": {},
     "output_type": "execute_result"
    },
    {
     "data": {
      "text/html": [
       "<span style=\"white-space:pre; font-family: monospace\">┌───┐\n",
       "│Yes│\n",
       "└───┘\n",
       "</span>"
      ]
     },
     "execution_count": 84,
     "metadata": {},
     "output_type": "execute_result"
    },
    {
     "data": {
      "text/html": [
       "<span style=\"white-space:pre; font-family: monospace\">0 1 0 0\n",
       "</span>"
      ]
     },
     "execution_count": 84,
     "metadata": {},
     "output_type": "execute_result"
    },
    {
     "data": {
      "text/html": [
       "<span style=\"white-space:pre; font-family: monospace\">┌───┐\n",
       "│Yes│\n",
       "└───┘\n",
       "</span>"
      ]
     },
     "execution_count": 84,
     "metadata": {},
     "output_type": "execute_result"
    }
   ],
   "source": [
    "cyl← cylinder\n",
    "cyl[cylinder_minimum]← 1\n",
    "cyl[cylinder_maximum]← 2\n",
    "cyl[cylinder_closed]← TRUE\n",
    "\n",
    "+n← cyl cylinder_normal_at point 0 1 0\n",
    "n yesno vector 0 ¯1 0\n",
    "\n",
    "+n← cyl cylinder_normal_at point 0.5 1 0\n",
    "n yesno vector 0 ¯1 0\n",
    "\n",
    "+n← cyl cylinder_normal_at point 0 1 0.5\n",
    "n yesno vector 0 ¯1 0\n",
    "\n",
    "+n← cyl cylinder_normal_at point 0 2 0\n",
    "n yesno vector 0 1 0\n",
    "\n",
    "+n← cyl cylinder_normal_at point 0.5 2 0\n",
    "n yesno vector 0 1 0\n",
    "\n",
    "+n← cyl cylinder_normal_at point 0 2 0.5\n",
    "n yesno vector 0 1 0\n"
   ]
  },
  {
   "cell_type": "markdown",
   "metadata": {},
   "source": [
    "```\n",
    "Scenario Outline: Intersecting a cone with a ray\n",
    "  Given shape ← cone()\n",
    "    And direction ← normalize(<direction>)\n",
    "    And r ← ray(<origin>, direction)\n",
    "  When xs ← local_intersect(shape, r)\n",
    "  Then xs.count = 2\n",
    "    And xs[0].t = <t0>\n",
    "    And xs[1].t = <t1>\n",
    "\n",
    "  Examples:\n",
    "    | origin          | direction           | t0      | t1       |\n",
    "    | point(0, 0, -5) | vector(0, 0, 1)     | 5       |  5       |\n",
    "    | point(0, 0, -5) | vector(1, 1, 1)     | 8.66025 |  8.66025 |\n",
    "    | point(1, 1, -5) | vector(-0.5, -1, 1) | 4.55006 | 49.44994 |\n",
    "```"
   ]
  },
  {
   "cell_type": "code",
   "execution_count": 85,
   "metadata": {},
   "outputs": [
    {
     "data": {
      "text/html": [
       "<span style=\"white-space:pre; font-family: monospace\">┌──────────────────────────────────────────────────────────────┬──────────────────────────────────────────────────────────\n",
       "│┌──────────────────────────────────────────────────────────┬─┐│┌─────────────────────────────────────────────────────────\n",
       "││┌─┬───────┬─────────────────────────────┬───────┬──────┬─┐│5│││┌─┬───────┬─────────────────────────────┬───────┬──────┬─\n",
       "│││5│1 0 0 0│┌─────┬───┬───┬───┬───┬─┬─┬─┐│¯9.9E99│9.9E99│0││ ││││5│1 0 0 0│┌─────┬───┬───┬───┬───┬─┬─┬─┐│¯9.9E99│9.9E99│0\n",
       "│││ │0 1 0 0││1 1 1│0.1│0.9│0.9│200│0│1│0││       │      │ ││ ││││ │0 1 0 0││1 1 1│0.1│0.9│0.9│200│0│1│0││       │      │ \n",
       "│││ │0 0 1 0│└─────┴───┴───┴───┴───┴─┴─┴─┘│       │      │ ││ ││││ │0 0 1 0│└─────┴───┴───┴───┴───┴─┴─┴─┘│       │      │ \n",
       "│││ │0 0 0 1│                             │       │      │ ││ ││││ │0 0 0 1│                             │       │      │ \n",
       "││└─┴───────┴─────────────────────────────┴───────┴──────┴─┘│ │││└─┴───────┴─────────────────────────────┴───────┴──────┴─\n",
       "│└──────────────────────────────────────────────────────────┴─┘│└─────────────────────────────────────────────────────────\n",
       "└──────────────────────────────────────────────────────────────┴──────────────────────────────────────────────────────────\n",
       "\n",
       "      ────┐\n",
       "      ─┬─┐│\n",
       "      ┐│5││\n",
       "      ││ ││\n",
       "      ││ ││\n",
       "      ││ ││\n",
       "      ││ ││\n",
       "      ┘│ ││\n",
       "      ─┴─┘│\n",
       "      ────┘\n",
       "</span>"
      ]
     },
     "execution_count": 85,
     "metadata": {},
     "output_type": "execute_result"
    },
    {
     "data": {
      "text/html": [
       "<span style=\"white-space:pre; font-family: monospace\">┌───┐\n",
       "│Yes│\n",
       "└───┘\n",
       "</span>"
      ]
     },
     "execution_count": 85,
     "metadata": {},
     "output_type": "execute_result"
    },
    {
     "data": {
      "text/html": [
       "<span style=\"white-space:pre; font-family: monospace\">┌────────────────────────────────────────────────────────────────────┬────────────────────────────────────────────────────\n",
       "│┌──────────────────────────────────────────────────────────┬───────┐│┌───────────────────────────────────────────────────\n",
       "││┌─┬───────┬─────────────────────────────┬───────┬──────┬─┐│8.66025│││┌─┬───────┬─────────────────────────────┬───────┬──\n",
       "│││5│1 0 0 0│┌─────┬───┬───┬───┬───┬─┬─┬─┐│¯9.9E99│9.9E99│0││       ││││5│1 0 0 0│┌─────┬───┬───┬───┬───┬─┬─┬─┐│¯9.9E99│9.\n",
       "│││ │0 1 0 0││1 1 1│0.1│0.9│0.9│200│0│1│0││       │      │ ││       ││││ │0 1 0 0││1 1 1│0.1│0.9│0.9│200│0│1│0││       │  \n",
       "│││ │0 0 1 0│└─────┴───┴───┴───┴───┴─┴─┴─┘│       │      │ ││       ││││ │0 0 1 0│└─────┴───┴───┴───┴───┴─┴─┴─┘│       │  \n",
       "│││ │0 0 0 1│                             │       │      │ ││       ││││ │0 0 0 1│                             │       │  \n",
       "││└─┴───────┴─────────────────────────────┴───────┴──────┴─┘│       │││└─┴───────┴─────────────────────────────┴───────┴──\n",
       "│└──────────────────────────────────────────────────────────┴───────┘│└───────────────────────────────────────────────────\n",
       "└────────────────────────────────────────────────────────────────────┴────────────────────────────────────────────────────\n",
       "\n",
       "      ────────────────┐\n",
       "      ───────┬───────┐│\n",
       "      ────┬─┐│8.66025││\n",
       "      9E99│0││       ││\n",
       "          │ ││       ││\n",
       "          │ ││       ││\n",
       "          │ ││       ││\n",
       "      ────┴─┘│       ││\n",
       "      ───────┴───────┘│\n",
       "      ────────────────┘\n",
       "</span>"
      ]
     },
     "execution_count": 85,
     "metadata": {},
     "output_type": "execute_result"
    },
    {
     "data": {
      "text/html": [
       "<span style=\"white-space:pre; font-family: monospace\">┌───┐\n",
       "│Yes│\n",
       "└───┘\n",
       "</span>"
      ]
     },
     "execution_count": 85,
     "metadata": {},
     "output_type": "execute_result"
    },
    {
     "data": {
      "text/html": [
       "<span style=\"white-space:pre; font-family: monospace\">┌────────────────────────────────────────────────────────────────────┬────────────────────────────────────────────────────\n",
       "│┌──────────────────────────────────────────────────────────┬───────┐│┌───────────────────────────────────────────────────\n",
       "││┌─┬───────┬─────────────────────────────┬───────┬──────┬─┐│4.55006│││┌─┬───────┬─────────────────────────────┬───────┬──\n",
       "│││5│1 0 0 0│┌─────┬───┬───┬───┬───┬─┬─┬─┐│¯9.9E99│9.9E99│0││       ││││5│1 0 0 0│┌─────┬───┬───┬───┬───┬─┬─┬─┐│¯9.9E99│9.\n",
       "│││ │0 1 0 0││1 1 1│0.1│0.9│0.9│200│0│1│0││       │      │ ││       ││││ │0 1 0 0││1 1 1│0.1│0.9│0.9│200│0│1│0││       │  \n",
       "│││ │0 0 1 0│└─────┴───┴───┴───┴───┴─┴─┴─┘│       │      │ ││       ││││ │0 0 1 0│└─────┴───┴───┴───┴───┴─┴─┴─┘│       │  \n",
       "│││ │0 0 0 1│                             │       │      │ ││       ││││ │0 0 0 1│                             │       │  \n",
       "││└─┴───────┴─────────────────────────────┴───────┴──────┴─┘│       │││└─┴───────┴─────────────────────────────┴───────┴──\n",
       "│└──────────────────────────────────────────────────────────┴───────┘│└───────────────────────────────────────────────────\n",
       "└────────────────────────────────────────────────────────────────────┴────────────────────────────────────────────────────\n",
       "\n",
       "      ────────────────┐\n",
       "      ───────┬───────┐│\n",
       "      ────┬─┐│49.4499││\n",
       "      9E99│0││       ││\n",
       "          │ ││       ││\n",
       "          │ ││       ││\n",
       "          │ ││       ││\n",
       "      ────┴─┘│       ││\n",
       "      ───────┴───────┘│\n",
       "      ────────────────┘\n",
       "</span>"
      ]
     },
     "execution_count": 85,
     "metadata": {},
     "output_type": "execute_result"
    },
    {
     "data": {
      "text/html": [
       "<span style=\"white-space:pre; font-family: monospace\">┌───┐\n",
       "│Yes│\n",
       "└───┘\n",
       "</span>"
      ]
     },
     "execution_count": 85,
     "metadata": {},
     "output_type": "execute_result"
    }
   ],
   "source": [
    "s← cone\n",
    "r← (point 0 0 ¯5) ray normalize vector 0 0 1\n",
    "+xs← s cone_intersect r\n",
    "5 5 yesno (2⌷⊃xs[1]), 2⌷⊃xs[2]\n",
    "\n",
    "r← (point 0 0 ¯5) ray normalize vector 1 1 1\n",
    "+xs← s cone_intersect r\n",
    "8.66025 8.66025 yesno 9 5 roundMN (2⌷⊃xs[1]), 2⌷⊃xs[2]\n",
    "\n",
    "r← (point 1 1 ¯5) ray normalize vector ¯0.5 ¯1 1\n",
    "+xs← s cone_intersect r\n",
    "4.55006 49.44994 yesno 9 5 roundMN (2⌷⊃xs[1]), 2⌷⊃xs[2]\n"
   ]
  },
  {
   "cell_type": "markdown",
   "metadata": {},
   "source": [
    "```\n",
    "Scenario: Intersecting a cone with a ray parallel to one of its halves\n",
    "  Given shape ← cone()\n",
    "    And direction ← normalize(vector(0, 1, 1))\n",
    "    And r ← ray(point(0, 0, -1), direction)\n",
    "  When xs ← local_intersect(shape, r)\n",
    "  Then xs.count = 1\n",
    "    And xs[0].t = 0.35355\n",
    "\n",
    "Scenario Outline: Intersecting a cone's end caps\n",
    "  Given shape ← cone()\n",
    "    And shape.minimum ← -0.5\n",
    "    And shape.maximum ← 0.5\n",
    "    And shape.closed ← true\n",
    "    And direction ← normalize(<direction>)\n",
    "    And r ← ray(<origin>, direction)\n",
    "  When xs ← local_intersect(shape, r)\n",
    "  Then xs.count = <count>\n",
    "\n",
    "  Examples:\n",
    "    | origin             | direction       | count |\n",
    "    | point(0, 0, -5)    | vector(0, 1, 0) | 0     |\n",
    "    | point(0, 0, -0.25) | vector(0, 1, 1) | 2     |\n",
    "    | point(0, 0, -0.25) | vector(0, 1, 0) | 4     |\n",
    "```"
   ]
  },
  {
   "cell_type": "code",
   "execution_count": 86,
   "metadata": {},
   "outputs": [
    {
     "data": {
      "text/html": [
       "<span style=\"white-space:pre; font-family: monospace\">┌─────────────────────────────────────────────────────────────────────┬───────────────────────────────────────────────────\n",
       "│┌──────────────────────────────────────────────────────────┬────────┐│┌──────────────────────────────────────────────────\n",
       "││┌─┬───────┬─────────────────────────────┬───────┬──────┬─┐│0.353553│││┌─┬───────┬─────────────────────────────┬───────┬─\n",
       "│││5│1 0 0 0│┌─────┬───┬───┬───┬───┬─┬─┬─┐│¯9.9E99│9.9E99│0││        ││││5│1 0 0 0│┌─────┬───┬───┬───┬───┬─┬─┬─┐│¯9.9E99│9\n",
       "│││ │0 1 0 0││1 1 1│0.1│0.9│0.9│200│0│1│0││       │      │ ││        ││││ │0 1 0 0││1 1 1│0.1│0.9│0.9│200│0│1│0││       │ \n",
       "│││ │0 0 1 0│└─────┴───┴───┴───┴───┴─┴─┴─┘│       │      │ ││        ││││ │0 0 1 0│└─────┴───┴───┴───┴───┴─┴─┴─┘│       │ \n",
       "│││ │0 0 0 1│                             │       │      │ ││        ││││ │0 0 0 1│                             │       │ \n",
       "││└─┴───────┴─────────────────────────────┴───────┴──────┴─┘│        │││└─┴───────┴─────────────────────────────┴───────┴─\n",
       "│└──────────────────────────────────────────────────────────┴────────┘│└──────────────────────────────────────────────────\n",
       "└─────────────────────────────────────────────────────────────────────┴───────────────────────────────────────────────────\n",
       "\n",
       "      ──────────────────┐\n",
       "      ────────┬────────┐│\n",
       "      ─────┬─┐│0.353553││\n",
       "      .9E99│0││        ││\n",
       "           │ ││        ││\n",
       "           │ ││        ││\n",
       "           │ ││        ││\n",
       "      ─────┴─┘│        ││\n",
       "      ────────┴────────┘│\n",
       "      ──────────────────┘\n",
       "</span>"
      ]
     },
     "execution_count": 86,
     "metadata": {},
     "output_type": "execute_result"
    },
    {
     "data": {
      "text/html": [
       "<span style=\"white-space:pre; font-family: monospace\">┌───┐\n",
       "│Yes│\n",
       "└───┘\n",
       "</span>"
      ]
     },
     "execution_count": 86,
     "metadata": {},
     "output_type": "execute_result"
    },
    {
     "data": {
      "text/html": [
       "<span style=\"white-space:pre; font-family: monospace\">\n",
       "</span>"
      ]
     },
     "execution_count": 86,
     "metadata": {},
     "output_type": "execute_result"
    },
    {
     "data": {
      "text/html": [
       "<span style=\"white-space:pre; font-family: monospace\">┌───┐\n",
       "│Yes│\n",
       "└───┘\n",
       "</span>"
      ]
     },
     "execution_count": 86,
     "metadata": {},
     "output_type": "execute_result"
    },
    {
     "data": {
      "text/html": [
       "<span style=\"white-space:pre; font-family: monospace\">┌────────────────────────────────────────────────────────────────┬────────────────────────────────────────────────────────\n",
       "│┌────────────────────────────────────────────────────┬─────────┐│┌────────────────────────────────────────────────────┬──\n",
       "││┌─┬───────┬─────────────────────────────┬────┬───┬─┐│0.0883883│││┌─┬───────┬─────────────────────────────┬────┬───┬─┐│0.\n",
       "│││5│1 0 0 0│┌─────┬───┬───┬───┬───┬─┬─┬─┐│¯0.5│0.5│1││         ││││5│1 0 0 0│┌─────┬───┬───┬───┬───┬─┬─┬─┐│¯0.5│0.5│1││  \n",
       "│││ │0 1 0 0││1 1 1│0.1│0.9│0.9│200│0│1│0││    │   │ ││         ││││ │0 1 0 0││1 1 1│0.1│0.9│0.9│200│0│1│0││    │   │ ││  \n",
       "│││ │0 0 1 0│└─────┴───┴───┴───┴───┴─┴─┴─┘│    │   │ ││         ││││ │0 0 1 0│└─────┴───┴───┴───┴───┴─┴─┴─┘│    │   │ ││  \n",
       "│││ │0 0 0 1│                             │    │   │ ││         ││││ │0 0 0 1│                             │    │   │ ││  \n",
       "││└─┴───────┴─────────────────────────────┴────┴───┴─┘│         │││└─┴───────┴─────────────────────────────┴────┴───┴─┘│  \n",
       "│└────────────────────────────────────────────────────┴─────────┘│└────────────────────────────────────────────────────┴──\n",
       "└────────────────────────────────────────────────────────────────┴────────────────────────────────────────────────────────\n",
       "\n",
       "      ───────┐\n",
       "      ──────┐│\n",
       "      707107││\n",
       "            ││\n",
       "            ││\n",
       "            ││\n",
       "            ││\n",
       "            ││\n",
       "      ──────┘│\n",
       "      ───────┘\n",
       "</span>"
      ]
     },
     "execution_count": 86,
     "metadata": {},
     "output_type": "execute_result"
    },
    {
     "data": {
      "text/html": [
       "<span style=\"white-space:pre; font-family: monospace\">┌───┐\n",
       "│Yes│\n",
       "└───┘\n",
       "</span>"
      ]
     },
     "execution_count": 86,
     "metadata": {},
     "output_type": "execute_result"
    },
    {
     "data": {
      "text/html": [
       "<span style=\"white-space:pre; font-family: monospace\">┌───────────────────────────────────────────────────────────┬────────────────────────────────────────────────────────────┬\n",
       "│┌────────────────────────────────────────────────────┬────┐│┌────────────────────────────────────────────────────┬─────┐│\n",
       "││┌─┬───────┬─────────────────────────────┬────┬───┬─┐│¯0.5│││┌─┬───────┬─────────────────────────────┬────┬───┬─┐│¯0.25││\n",
       "│││5│1 0 0 0│┌─────┬───┬───┬───┬───┬─┬─┬─┐│¯0.5│0.5│1││    ││││5│1 0 0 0│┌─────┬───┬───┬───┬───┬─┬─┬─┐│¯0.5│0.5│1││     ││\n",
       "│││ │0 1 0 0││1 1 1│0.1│0.9│0.9│200│0│1│0││    │   │ ││    ││││ │0 1 0 0││1 1 1│0.1│0.9│0.9│200│0│1│0││    │   │ ││     ││\n",
       "│││ │0 0 1 0│└─────┴───┴───┴───┴───┴─┴─┴─┘│    │   │ ││    ││││ │0 0 1 0│└─────┴───┴───┴───┴───┴─┴─┴─┘│    │   │ ││     ││\n",
       "│││ │0 0 0 1│                             │    │   │ ││    ││││ │0 0 0 1│                             │    │   │ ││     ││\n",
       "││└─┴───────┴─────────────────────────────┴────┴───┴─┘│    │││└─┴───────┴─────────────────────────────┴────┴───┴─┘│     ││\n",
       "│└────────────────────────────────────────────────────┴────┘│└────────────────────────────────────────────────────┴─────┘│\n",
       "└───────────────────────────────────────────────────────────┴────────────────────────────────────────────────────────────┴\n",
       "\n",
       "      ───────────────────────────────────────────────────────────┬────────────────────────────────────────────────────────\n",
       "      ┌────────────────────────────────────────────────────┬────┐│┌────────────────────────────────────────────────────┬──\n",
       "      │┌─┬───────┬─────────────────────────────┬────┬───┬─┐│0.25│││┌─┬───────┬─────────────────────────────┬────┬───┬─┐│0.\n",
       "      ││5│1 0 0 0│┌─────┬───┬───┬───┬───┬─┬─┬─┐│¯0.5│0.5│1││    ││││5│1 0 0 0│┌─────┬───┬───┬───┬───┬─┬─┬─┐│¯0.5│0.5│1││  \n",
       "      ││ │0 1 0 0││1 1 1│0.1│0.9│0.9│200│0│1│0││    │   │ ││    ││││ │0 1 0 0││1 1 1│0.1│0.9│0.9│200│0│1│0││    │   │ ││  \n",
       "      ││ │0 0 1 0│└─────┴───┴───┴───┴───┴─┴─┴─┘│    │   │ ││    ││││ │0 0 1 0│└─────┴───┴───┴───┴───┴─┴─┴─┘│    │   │ ││  \n",
       "      ││ │0 0 0 1│                             │    │   │ ││    ││││ │0 0 0 1│                             │    │   │ ││  \n",
       "      │└─┴───────┴─────────────────────────────┴────┴───┴─┘│    │││└─┴───────┴─────────────────────────────┴────┴───┴─┘│  \n",
       "      └────────────────────────────────────────────────────┴────┘│└────────────────────────────────────────────────────┴──\n",
       "      ───────────────────────────────────────────────────────────┴────────────────────────────────────────────────────────\n",
       "\n",
       "      ──┐\n",
       "      ─┐│\n",
       "      5││\n",
       "       ││\n",
       "       ││\n",
       "       ││\n",
       "       ││\n",
       "       ││\n",
       "      ─┘│\n",
       "      ──┘\n",
       "</span>"
      ]
     },
     "execution_count": 86,
     "metadata": {},
     "output_type": "execute_result"
    },
    {
     "data": {
      "text/html": [
       "<span style=\"white-space:pre; font-family: monospace\">┌───┐\n",
       "│Yes│\n",
       "└───┘\n",
       "</span>"
      ]
     },
     "execution_count": 86,
     "metadata": {},
     "output_type": "execute_result"
    }
   ],
   "source": [
    "⍝ Intersecting a cone with a ray parallel to one of its halves\n",
    "s← cone\n",
    "r← (point 0 0 ¯1) ray normalize vector 0 1 1\n",
    "+xs← s cone_intersect r\n",
    "0.35355 0.35355 yesno 9 5 roundMN (2⌷⊃xs[1]), 2⌷⊃xs[2]\n",
    "\n",
    "⍝ Intersecting a cone's end caps\n",
    "s← cone\n",
    "s[cone_minimum cone_maximum cone_closed]← ¯0.5 0.5 TRUE\n",
    "\n",
    "r← (point 0 0 ¯5) ray normalize vector 0 1 0\n",
    "+xs← s cone_intersect r\n",
    "0 yesno ≢xs\n",
    "\n",
    "r← (point 0 0 ¯0.25) ray normalize vector 0 1 1\n",
    "+xs← s cone_intersect r\n",
    "2 yesno ≢xs\n",
    "\n",
    "r← (point 0 0 ¯0.25) ray normalize vector 0 1 0\n",
    "+xs← s cone_intersect r\n",
    "4 yesno ≢xs\n"
   ]
  },
  {
   "cell_type": "markdown",
   "metadata": {},
   "source": [
    "```\n",
    "Scenario Outline: Computing the normal vector on a cone\n",
    "  Given shape ← cone()\n",
    "  When n ← local_normal_at(shape, <point>)\n",
    "  Then n = <normal>\n",
    "\n",
    "  Examples:\n",
    "    | point             | normal                 |\n",
    "    | point(0, 0, 0)    | vector(0, 0, 0)        |\n",
    "    | point(1, 1, 1)    | vector(1, -√2, 1)      |\n",
    "    | point(-1, -1, 0)  | vector(-1, 1, 0)       |\n",
    "```"
   ]
  },
  {
   "cell_type": "code",
   "execution_count": 87,
   "metadata": {},
   "outputs": [
    {
     "data": {
      "text/html": [
       "<span style=\"white-space:pre; font-family: monospace\">0 0 0 0\n",
       "</span>"
      ]
     },
     "execution_count": 87,
     "metadata": {},
     "output_type": "execute_result"
    },
    {
     "data": {
      "text/html": [
       "<span style=\"white-space:pre; font-family: monospace\">┌───┐\n",
       "│Yes│\n",
       "└───┘\n",
       "</span>"
      ]
     },
     "execution_count": 87,
     "metadata": {},
     "output_type": "execute_result"
    },
    {
     "data": {
      "text/html": [
       "<span style=\"white-space:pre; font-family: monospace\">1 ¯1.41421 1 0\n",
       "</span>"
      ]
     },
     "execution_count": 87,
     "metadata": {},
     "output_type": "execute_result"
    },
    {
     "data": {
      "text/html": [
       "<span style=\"white-space:pre; font-family: monospace\">┌───┐\n",
       "│Yes│\n",
       "└───┘\n",
       "</span>"
      ]
     },
     "execution_count": 87,
     "metadata": {},
     "output_type": "execute_result"
    },
    {
     "data": {
      "text/html": [
       "<span style=\"white-space:pre; font-family: monospace\">¯1 1 0 0\n",
       "</span>"
      ]
     },
     "execution_count": 87,
     "metadata": {},
     "output_type": "execute_result"
    },
    {
     "data": {
      "text/html": [
       "<span style=\"white-space:pre; font-family: monospace\">┌───┐\n",
       "│Yes│\n",
       "└───┘\n",
       "</span>"
      ]
     },
     "execution_count": 87,
     "metadata": {},
     "output_type": "execute_result"
    }
   ],
   "source": [
    "s← cone\n",
    "+n← s cone_normal_at point 0 0 0\n",
    "n yesno vector 0 0 0\n",
    "\n",
    "+n← s cone_normal_at point 1 1 1\n",
    "n yesno vector 1 (¯1×2*0.5) 1\n",
    "\n",
    "+n← s cone_normal_at point ¯1 ¯1 0\n",
    "n yesno vector ¯1 1 0"
   ]
  },
  {
   "cell_type": "markdown",
   "metadata": {},
   "source": [
    "# Chapter 14. Groups\n",
    "The author introduces groups that can contain multiple primitive objects like cubes and planes. Groups, like individual objects, can be transformed by scaling, translating or rotating. Naturally, in creating a group the author requires yet another change to primitive objects. In addition to a group pointing to its members, each member must point to its enclosing group.\n",
    "\n",
    "Again the author makes assumptions about the language used, but compounds that by designing tests around the expected means of implementing groups. The author assumes all objects, including groups, are part of a flat collection of objects. Hence an object must point to its enclosing group to access the group transform matrix.\n",
    "\n",
    "For APL, the simplest way to create a group is to extend the general Shape vector with a new shape type that has an nested list of objects belonging to the group. How might one then represent nested groups and access the nexted transform matrices? Again, a group can contain another group, and recursion can be used to process a group. The initial call would pass a null transform matrix that can be ignored, then when a group is processed recursively it would pass its own transform matrix.\n",
    "\n",
    "The **group_intersect** function iterates over all the group objects calling intersect for each object and aggregating the resulting intersections. No mention is made though of how the group transform is applied. With the modified **normal_at** function though, helper function **world_to_object** applies the group transform. Guess I'll just have to see!\n",
    "\n",
    "At the end of the chapter the author introduces a time optimization technique called bounding box. The idea is to reduce the number of objects in the group that need to be tested for intersection by a ray by only examing the objects that the ray is \"near.\" This idea can obviously be extended to all objects in a World."
   ]
  },
  {
   "cell_type": "markdown",
   "metadata": {},
   "source": [
    "### Update\n",
    "Iit no longer makes sense to implement groups the way the author describes. A function can apply a group transform to a group of enclosed objects transforms rather than applying the group transform repeatedly during rendering. I'll create a function **flatten_group** that applies the group transform (recursively) and returns a list of objects that can be added to a world. Then I shouldn't need to implement intersect and normal_at functions for groups or modify the existing normal_at function as the author describes."
   ]
  },
  {
   "cell_type": "markdown",
   "metadata": {},
   "source": [
    "## Chapter 14 Functions\n",
    "The following new functions are added. The **normal_at** function is also modified to use some of the new functions. There is also a **group_intersection** function that looks just like what is done at the world level. The objects in a world could thus be treated as a single group object!\n",
    "\n",
    "- Function **world_to_object(shape,point)** returns a transformed point using group transform\n",
    "- Function **normal_to_world(shape,vector)** returns a normal vector using group transform\n",
    "- Function **normal_at(shape,world_point)** is modified to use above functions\n",
    "- Function **group_intersect(group,ray)** returns ⍬ or a list of intersections\n",
    "\n",
    "The above functions will be replaced with the function\n",
    "\n",
    "- Function **flatten_group(transform,group)** returns a list of objects"
   ]
  },
  {
   "cell_type": "markdown",
   "metadata": {},
   "source": [
    "## Chapter 14 APL Code Implementation"
   ]
  },
  {
   "cell_type": "markdown",
   "metadata": {},
   "source": [
    "- *group* **flatten_group** *transform* → List_of_shapes"
   ]
  },
  {
   "cell_type": "markdown",
   "metadata": {},
   "source": [
    "Start by defining the Group shape and its default values. I'll put a null in the material slot in case code somewhere tries to use material in a group object."
   ]
  },
  {
   "cell_type": "markdown",
   "metadata": {},
   "source": [
    "```\n",
    "function world_to_object(shape, point)\n",
    "  if shape has parent\n",
    "    point ← world_to_object(shape.parent, point)\n",
    "  end if\n",
    "\n",
    "  return inverse(shape.transform) * point\n",
    "end function\n",
    "```"
   ]
  },
  {
   "cell_type": "code",
   "execution_count": null,
   "metadata": {},
   "outputs": [],
   "source": []
  },
  {
   "cell_type": "markdown",
   "metadata": {},
   "source": [
    "```\n",
    "function normal_to_world(shape, normal)\n",
    "  normal ← transpose(inverse(shape.transform)) * normal\n",
    "  normal.w ← 0\n",
    "  normal ← normalize(normal)\n",
    "\n",
    "  if shape has parent\n",
    "    normal ← normal_to_world(shape.parent, normal)\n",
    "  end if\n",
    "\n",
    "  return normal\n",
    "end function\n",
    "```"
   ]
  },
  {
   "cell_type": "code",
   "execution_count": null,
   "metadata": {},
   "outputs": [],
   "source": []
  },
  {
   "cell_type": "markdown",
   "metadata": {},
   "source": [
    "```\n",
    "function normal_at(shape, world_point)\n",
    "  local_point ← world_to_object(shape, world_point)\n",
    "  local_normal ← local_normal_at(shape, local_point)\n",
    "  return normal_to_world(shape, local_normal)\n",
    "end function\n",
    "```"
   ]
  },
  {
   "cell_type": "code",
   "execution_count": null,
   "metadata": {},
   "outputs": [],
   "source": []
  },
  {
   "cell_type": "markdown",
   "metadata": {},
   "source": [
    "A **group_intersect** function should just iterate through the members of the group collecting their own intersect results."
   ]
  },
  {
   "cell_type": "markdown",
   "metadata": {},
   "source": [
    "Here's the setup for processing a group by flattening it into the list of enclosed objects and applying the group transform to each object. Note that the function must be recursive to handle groups within groups. A group within a group will return a list of transformed objects that will in turn have the enclosing group's transform applied to every object in the expanded list. The pseudo-code for **flatten_group** is\n",
    "\n",
    "```\n",
    "function flatten_group(transform,group)\n",
    "  object_list ← empty\n",
    "  for object in group.objects do\n",
    "    if object.type == group then\n",
    "      objects ← flatten_group(object.transform*transform,object)\n",
    "      append(object_list,objects)\n",
    "    else\n",
    "      set_transform(object, transform*object.transform)\n",
    "      append(object_list,object)\n",
    "    end\n",
    "  end\n",
    "  return object_list\n",
    "  ```"
   ]
  },
  {
   "cell_type": "markdown",
   "metadata": {},
   "source": [
    "```\n",
    "]dinput\n",
    "flatten_group←{\n",
    "  ⍝ group  flatten_group  transform → shape shape ... shape\n",
    "  t← ⍵\n",
    "  tmult←{\n",
    "    ⍵[obj_transform]← ⍺ +.× ⊃⍵[obj_transform]\n",
    "    }\n",
    "  glist← ⊃⍺[group_members]\n",
    "  ⍵ tmult¨glist\n",
    "  }\n",
    "  ```"
   ]
  },
  {
   "cell_type": "markdown",
   "metadata": {},
   "source": [
    "## Chapter 14 Test Cases"
   ]
  },
  {
   "cell_type": "markdown",
   "metadata": {},
   "source": [
    "```\n",
    "Scenario: Creating a new group\n",
    "  Given g ← group()\n",
    "  Then g.transform = identity_matrix\n",
    "    And g is empty\n",
    "\n",
    "Scenario: Adding a child to a group\n",
    "  Given g ← group()\n",
    "    And s ← test_shape()\n",
    "  When add_child(g, s)\n",
    "  Then g is not empty\n",
    "    And g includes s\n",
    "    And s.parent = g\n",
    "```\n",
    "This scenario can be ignored.\n",
    "```\n",
    "Scenario: A shape has a parent attribute\n",
    "  Given s ← test_shape()\n",
    "  Then s.parent is nothing\n",
    "```"
   ]
  },
  {
   "cell_type": "code",
   "execution_count": 88,
   "metadata": {},
   "outputs": [
    {
     "data": {
      "text/html": [
       "<span style=\"white-space:pre; font-family: monospace\">┌─┬───────┬┬┐\n",
       "│6│1 0 0 0│││\n",
       "│ │0 1 0 0│││\n",
       "│ │0 0 1 0│││\n",
       "│ │0 0 0 1│││\n",
       "└─┴───────┴┴┘\n",
       "</span>"
      ]
     },
     "execution_count": 88,
     "metadata": {},
     "output_type": "execute_result"
    },
    {
     "data": {
      "text/html": [
       "<span style=\"white-space:pre; font-family: monospace\">┌───┐\n",
       "│Yes│\n",
       "└───┘\n",
       "</span>"
      ]
     },
     "execution_count": 88,
     "metadata": {},
     "output_type": "execute_result"
    },
    {
     "data": {
      "text/html": [
       "<span style=\"white-space:pre; font-family: monospace\">┌───┐\n",
       "│Yes│\n",
       "└───┘\n",
       "</span>"
      ]
     },
     "execution_count": 88,
     "metadata": {},
     "output_type": "execute_result"
    },
    {
     "data": {
      "text/html": [
       "<span style=\"white-space:pre; font-family: monospace\">┌─┬───────┬┬─────────────────────────────────────────────────────────────────────────────────────┐\n",
       "│6│1 0 0 0││┌─────────────────────────────────────────┬─────────────────────────────────────────┐│\n",
       "│ │0 1 0 0│││┌─┬───────┬─────────────────────────────┐│┌─┬───────┬─────────────────────────────┐││\n",
       "│ │0 0 1 0││││0│1 0 0 0│┌─────┬───┬───┬───┬───┬─┬─┬─┐│││0│1 0 0 0│┌─────┬───┬───┬───┬───┬─┬─┬─┐│││\n",
       "│ │0 0 0 1││││ │0 1 0 0││1 1 1│0.1│0.9│0.9│200│0│1│0││││ │0 1 0 0││1 1 1│0.1│0.9│0.9│200│0│1│0││││\n",
       "│ │       ││││ │0 0 1 0│└─────┴───┴───┴───┴───┴─┴─┴─┘│││ │0 0 1 0│└─────┴───┴───┴───┴───┴─┴─┴─┘│││\n",
       "│ │       ││││ │0 0 0 1│                             │││ │0 0 0 1│                             │││\n",
       "│ │       │││└─┴───────┴─────────────────────────────┘│└─┴───────┴─────────────────────────────┘││\n",
       "│ │       ││└─────────────────────────────────────────┴─────────────────────────────────────────┘│\n",
       "└─┴───────┴┴─────────────────────────────────────────────────────────────────────────────────────┘\n",
       "</span>"
      ]
     },
     "execution_count": 88,
     "metadata": {},
     "output_type": "execute_result"
    },
    {
     "data": {
      "text/html": [
       "<span style=\"white-space:pre; font-family: monospace\">┌────┐\n",
       "│True│\n",
       "└────┘\n",
       "</span>"
      ]
     },
     "execution_count": 88,
     "metadata": {},
     "output_type": "execute_result"
    }
   ],
   "source": [
    "⍝ Creating a new group\n",
    "+g← group\n",
    "identity4 yesno ⊃g[obj_transform]\n",
    "0 yesno ≢⊃g[group_members]\n",
    "\n",
    "⍝ Adding a child to a group\n",
    "s← test_shape\n",
    "g[group_members],← ⊂⊂s\n",
    "g[group_members],← ⊂⊂s\n",
    "g\n",
    "truefalse 0≠≢⊃g[group_members]"
   ]
  },
  {
   "cell_type": "markdown",
   "metadata": {},
   "source": [
    "I'm adding this test for the **flatten_group** function.\n",
    "\n",
    "```\n",
    "Scenario: Flattening a one level group with no transform\n",
    "  Given g ← group()\n",
    "    And s1 ← sphere()\n",
    "    And s2 ← sphere()\n",
    "    And set_transform(s2, translation(0, 0, -3))\n",
    "    And s3 ← sphere()\n",
    "    And set_transform(s3, translation(5, 0, 0))\n",
    "    And add_child(g, s1)\n",
    "    And add_child(g, s2)\n",
    "    And add_child(g, s3)\n",
    "    And t ← identity_matrix\n",
    "  When objlist ← flatten_group(t,g)\n",
    "  Then objlist.count = 3\n",
    "    And objlist[1] = s1\n",
    "    And objlist[2] = s2\n",
    "    And objlist[3] = s3\n",
    "\n",
    "Scenario: Flattening a one level group with a transform\n",
    "  Given g ← group()\n",
    "    And set_transform(g, translation(1, 1, 1))\n",
    "    And s1 ← sphere()\n",
    "    And s2 ← sphere()\n",
    "    And set_transform(s2, translation(0, 0, -3))\n",
    "    And s3 ← sphere()\n",
    "    And set_transform(s3, translation(5, 0, 0))\n",
    "    And add_child(g, s1)\n",
    "    And add_child(g, s2)\n",
    "    And add_child(g, s3)\n",
    "    And t ← identity_matrix\n",
    "  When objlist ← flatten_group(t,g)\n",
    "  Then objlist.count = 3\n",
    "    And objlist[1].transform = g.transform * s1.transform\n",
    "    And objlist[2].transform = g.transform * s2.transform\n",
    "    And objlist[3].transform = g.transform * s3.transform\n",
    "```"
   ]
  },
  {
   "cell_type": "code",
   "execution_count": 89,
   "metadata": {},
   "outputs": [
    {
     "data": {
      "text/html": [
       "<span style=\"white-space:pre; font-family: monospace\">┌───┐\n",
       "│Yes│\n",
       "└───┘\n",
       "</span>"
      ]
     },
     "execution_count": 89,
     "metadata": {},
     "output_type": "execute_result"
    },
    {
     "data": {
      "text/html": [
       "<span style=\"white-space:pre; font-family: monospace\">┌───┐\n",
       "│Yes│\n",
       "└───┘\n",
       "</span>"
      ]
     },
     "execution_count": 89,
     "metadata": {},
     "output_type": "execute_result"
    },
    {
     "data": {
      "text/html": [
       "<span style=\"white-space:pre; font-family: monospace\">┌───┐\n",
       "│Yes│\n",
       "└───┘\n",
       "</span>"
      ]
     },
     "execution_count": 89,
     "metadata": {},
     "output_type": "execute_result"
    },
    {
     "data": {
      "text/html": [
       "<span style=\"white-space:pre; font-family: monospace\">┌───┐\n",
       "│Yes│\n",
       "└───┘\n",
       "</span>"
      ]
     },
     "execution_count": 89,
     "metadata": {},
     "output_type": "execute_result"
    },
    {
     "data": {
      "text/html": [
       "<span style=\"white-space:pre; font-family: monospace\">┌───┐\n",
       "│Yes│\n",
       "└───┘\n",
       "</span>"
      ]
     },
     "execution_count": 89,
     "metadata": {},
     "output_type": "execute_result"
    },
    {
     "data": {
      "text/html": [
       "<span style=\"white-space:pre; font-family: monospace\">┌───┐\n",
       "│Yes│\n",
       "└───┘\n",
       "</span>"
      ]
     },
     "execution_count": 89,
     "metadata": {},
     "output_type": "execute_result"
    },
    {
     "data": {
      "text/html": [
       "<span style=\"white-space:pre; font-family: monospace\">┌───┐\n",
       "│Yes│\n",
       "└───┘\n",
       "</span>"
      ]
     },
     "execution_count": 89,
     "metadata": {},
     "output_type": "execute_result"
    }
   ],
   "source": [
    "⍝ Flattening a one level group with no transform\n",
    "g← group\n",
    "s1← sphere\n",
    "s2← sphere\n",
    "s2[obj_transform]← ⊂translation 0 0 ¯3\n",
    "s3← sphere\n",
    "s3[obj_transform]← ⊂translation 5 0 0\n",
    "g[group_members],← ⊂⊂s1\n",
    "g[group_members],← ⊂⊂s2\n",
    "g[group_members],← ⊂⊂s3\n",
    "o← g flatten_group identity4\n",
    "3 yesno ≢o\n",
    "s1 yesno ⊃o[1]\n",
    "s2 yesno ⊃o[2]\n",
    "s3 yesno ⊃o[3]\n",
    "\n",
    "⍝ Flattening a one level group with a transform\n",
    "g[obj_transform]← ⊂translation 1 1 1\n",
    "o← g flatten_group identity4\n",
    "(⊃obj_transform⌷⊃o[1]) yesno (translation 1 1 1) +.× ⊃s1[obj_transform]\n",
    "(⊃obj_transform⌷⊃o[2]) yesno (translation 1 1 1) +.× ⊃s2[obj_transform]\n",
    "(⊃obj_transform⌷⊃o[3]) yesno (translation 1 1 1) +.× ⊃s3[obj_transform]"
   ]
  },
  {
   "cell_type": "markdown",
   "metadata": {},
   "source": [
    "I'm adding this test for the **flatten_group** function.\n",
    "\n",
    "```\n",
    "Scenario: Flattening a two level group with a transform\n",
    "  Given g1 ← group()\n",
    "    And set_transform(g1, translation(1, 1, 1))\n",
    "    And s1 ← sphere()\n",
    "    And add_child(g, s1)\n",
    "    And s2 ← sphere()\n",
    "    And set_transform(s2, translation(0, 0, -3))\n",
    "    And s3 ← sphere()\n",
    "    And set_transform(s3, translation(5, 0, 0))\n",
    "    And g2 ← group()\n",
    "    And set_transform(g2, translation(2, 2, 2))\n",
    "    And add_child(g2, s2)\n",
    "    And add_child(g2, s3)\n",
    "    And add_child(g1, g2)\n",
    "    And t ← identity_matrix\n",
    "  When objlist ← flatten_group(t,g1)\n",
    "  Then objlist.count = 3\n",
    "    And objlist[1].transform = g1.transform * s1.transform\n",
    "    And objlist[2].transform = g1.transform * g2.transform * s2.transform\n",
    "    And objlist[3].transform = g1.transform * g2.transform * s3.transform\n",
    "```"
   ]
  },
  {
   "cell_type": "code",
   "execution_count": 90,
   "metadata": {},
   "outputs": [
    {
     "data": {
      "text/html": [
       "<span style=\"white-space:pre; font-family: monospace\">┌───┐\n",
       "│Yes│\n",
       "└───┘\n",
       "</span>"
      ]
     },
     "execution_count": 90,
     "metadata": {},
     "output_type": "execute_result"
    },
    {
     "data": {
      "text/html": [
       "<span style=\"white-space:pre; font-family: monospace\">┌───┐\n",
       "│Yes│\n",
       "└───┘\n",
       "</span>"
      ]
     },
     "execution_count": 90,
     "metadata": {},
     "output_type": "execute_result"
    },
    {
     "data": {
      "text/html": [
       "<span style=\"white-space:pre; font-family: monospace\">┌───┐\n",
       "│Yes│\n",
       "└───┘\n",
       "</span>"
      ]
     },
     "execution_count": 90,
     "metadata": {},
     "output_type": "execute_result"
    },
    {
     "data": {
      "text/html": [
       "<span style=\"white-space:pre; font-family: monospace\">┌───┐\n",
       "│Yes│\n",
       "└───┘\n",
       "</span>"
      ]
     },
     "execution_count": 90,
     "metadata": {},
     "output_type": "execute_result"
    }
   ],
   "source": [
    "g1← group\n",
    "g1[obj_transform]← ⊂translation 1 1 1\n",
    "s1← sphere\n",
    "s2← sphere\n",
    "s2[obj_transform]← ⊂translation 0 0 ¯3\n",
    "s3← sphere\n",
    "s3[obj_transform]← ⊂translation 5 0 0\n",
    "g2← group\n",
    "g2[obj_transform]← ⊂translation 2 2 2\n",
    "g1[group_members],← ⊂⊂s1\n",
    "g2[group_members],← ⊂⊂s2\n",
    "g2[group_members],← ⊂⊂s3\n",
    "g1[group_members],← ⊂⊂g2\n",
    "o← g1 flatten_group identity4\n",
    "3 yesno ≢o\n",
    "(⊃obj_transform⌷⊃o[1]) yesno (translation 1 1 1) +.× ⊃s1[obj_transform]\n",
    "(⊃obj_transform⌷⊃o[2]) yesno (translation 1 1 1) +.× (translation 2 2 2) +.× ⊃s2[obj_transform]\n",
    "(⊃obj_transform⌷⊃o[3]) yesno (translation 1 1 1) +.× (translation 2 2 2) +.× ⊃s3[obj_transform]"
   ]
  },
  {
   "cell_type": "markdown",
   "metadata": {},
   "source": [
    "```\n",
    "Scenario: Intersecting a ray with an empty group\n",
    "  Given g ← group()\n",
    "    And r ← ray(point(0, 0, 0), vector(0, 0, 1))\n",
    "  When xs ← local_intersect(g, r)\n",
    "  Then xs is empty\n",
    "\n",
    "Scenario: Intersecting a ray with a non-empty group\n",
    "  Given g ← group()\n",
    "    And s1 ← sphere()\n",
    "    And s2 ← sphere()\n",
    "    And set_transform(s2, translation(0, 0, -3))\n",
    "    And s3 ← sphere()\n",
    "    And set_transform(s3, translation(5, 0, 0))\n",
    "    And add_child(g, s1)\n",
    "    And add_child(g, s2)\n",
    "    And add_child(g, s3)\n",
    "  When r ← ray(point(0, 0, -5), vector(0, 0, 1))\n",
    "    And xs ← local_intersect(g, r)\n",
    "  Then xs.count = 4\n",
    "    And xs[0].object = s2\n",
    "    And xs[1].object = s2\n",
    "    And xs[2].object = s1\n",
    "    And xs[3].object = s1\n",
    "```"
   ]
  },
  {
   "cell_type": "code",
   "execution_count": 91,
   "metadata": {},
   "outputs": [
    {
     "data": {
      "text/html": [
       "<span style=\"white-space:pre; font-family: monospace\">\n",
       "</span>"
      ]
     },
     "execution_count": 91,
     "metadata": {},
     "output_type": "execute_result"
    },
    {
     "data": {
      "text/html": [
       "<span style=\"white-space:pre; font-family: monospace\">┌───┐\n",
       "│Yes│\n",
       "└───┘\n",
       "</span>"
      ]
     },
     "execution_count": 91,
     "metadata": {},
     "output_type": "execute_result"
    },
    {
     "data": {
      "text/html": [
       "<span style=\"white-space:pre; font-family: monospace\">┌─┬───────┬┬──────────────────────────────────────────────────────────────────────────────────────────────────────────────\n",
       "│6│1 0 0 0││┌─────────────────────────────────────────┬──────────────────────────────────────────┬────────────────────────\n",
       "│ │0 1 0 0│││┌─┬───────┬─────────────────────────────┐│┌─┬────────┬─────────────────────────────┐│┌─┬───────┬─────────────\n",
       "│ │0 0 1 0││││1│1 0 0 0│┌─────┬───┬───┬───┬───┬─┬─┬─┐│││1│1 0 0  0│┌─────┬───┬───┬───┬───┬─┬─┬─┐│││1│1 0 0 5│┌─────┬───┬──\n",
       "│ │0 0 0 1││││ │0 1 0 0││1 1 1│0.1│0.9│0.9│200│0│1│0││││ │0 1 0  0││1 1 1│0.1│0.9│0.9│200│0│1│0││││ │0 1 0 0││1 1 1│0.1│0.\n",
       "│ │       ││││ │0 0 1 0│└─────┴───┴───┴───┴───┴─┴─┴─┘│││ │0 0 1 ¯3│└─────┴───┴───┴───┴───┴─┴─┴─┘│││ │0 0 1 0│└─────┴───┴──\n",
       "│ │       ││││ │0 0 0 1│                             │││ │0 0 0  1│                             │││ │0 0 0 1│             \n",
       "│ │       │││└─┴───────┴─────────────────────────────┘│└─┴────────┴─────────────────────────────┘│└─┴───────┴─────────────\n",
       "│ │       ││└─────────────────────────────────────────┴──────────────────────────────────────────┴────────────────────────\n",
       "└─┴───────┴┴──────────────────────────────────────────────────────────────────────────────────────────────────────────────\n",
       "\n",
       "      ──────────────────┐\n",
       "      ─────────────────┐│\n",
       "      ────────────────┐││\n",
       "      ─┬───┬───┬─┬─┬─┐│││\n",
       "      9│0.9│200│0│1│0││││\n",
       "      ─┴───┴───┴─┴─┴─┘│││\n",
       "                      │││\n",
       "      ────────────────┘││\n",
       "      ─────────────────┘│\n",
       "      ──────────────────┘\n",
       "</span>"
      ]
     },
     "execution_count": 91,
     "metadata": {},
     "output_type": "execute_result"
    },
    {
     "data": {
      "text/html": [
       "<span style=\"white-space:pre; font-family: monospace\">┌──────────────────────────────────────────────┬──────────────────────────────────────────────┬───────────────────────────\n",
       "│┌──────────────────────────────────────────┬─┐│┌──────────────────────────────────────────┬─┐│┌──────────────────────────\n",
       "││┌─┬────────┬─────────────────────────────┐│1│││┌─┬────────┬─────────────────────────────┐│3│││┌─┬───────┬───────────────\n",
       "│││1│1 0 0  0│┌─────┬───┬───┬───┬───┬─┬─┬─┐││ ││││1│1 0 0  0│┌─────┬───┬───┬───┬───┬─┬─┬─┐││ ││││1│1 0 0 0│┌─────┬───┬───┬\n",
       "│││ │0 1 0  0││1 1 1│0.1│0.9│0.9│200│0│1│0│││ ││││ │0 1 0  0││1 1 1│0.1│0.9│0.9│200│0│1│0│││ ││││ │0 1 0 0││1 1 1│0.1│0.9│\n",
       "│││ │0 0 1 ¯3│└─────┴───┴───┴───┴───┴─┴─┴─┘││ ││││ │0 0 1 ¯3│└─────┴───┴───┴───┴───┴─┴─┴─┘││ ││││ │0 0 1 0│└─────┴───┴───┴\n",
       "│││ │0 0 0  1│                             ││ ││││ │0 0 0  1│                             ││ ││││ │0 0 0 1│               \n",
       "││└─┴────────┴─────────────────────────────┘│ │││└─┴────────┴─────────────────────────────┘│ │││└─┴───────┴───────────────\n",
       "│└──────────────────────────────────────────┴─┘│└──────────────────────────────────────────┴─┘│└──────────────────────────\n",
       "└──────────────────────────────────────────────┴──────────────────────────────────────────────┴───────────────────────────\n",
       "\n",
       "      ──────────────────┬─────────────────────────────────────────────┐\n",
       "      ───────────────┬─┐│┌─────────────────────────────────────────┬─┐│\n",
       "      ──────────────┐│4│││┌─┬───────┬─────────────────────────────┐│6││\n",
       "      ───┬───┬─┬─┬─┐││ ││││1│1 0 0 0│┌─────┬───┬───┬───┬───┬─┬─┬─┐││ ││\n",
       "      0.9│200│0│1│0│││ ││││ │0 1 0 0││1 1 1│0.1│0.9│0.9│200│0│1│0│││ ││\n",
       "      ───┴───┴─┴─┴─┘││ ││││ │0 0 1 0│└─────┴───┴───┴───┴───┴─┴─┴─┘││ ││\n",
       "                    ││ ││││ │0 0 0 1│                             ││ ││\n",
       "      ──────────────┘│ │││└─┴───────┴─────────────────────────────┘│ ││\n",
       "      ───────────────┴─┘│└─────────────────────────────────────────┴─┘│\n",
       "      ──────────────────┴─────────────────────────────────────────────┘\n",
       "</span>"
      ]
     },
     "execution_count": 91,
     "metadata": {},
     "output_type": "execute_result"
    },
    {
     "data": {
      "text/html": [
       "<span style=\"white-space:pre; font-family: monospace\">┌───┐\n",
       "│Yes│\n",
       "└───┘\n",
       "</span>"
      ]
     },
     "execution_count": 91,
     "metadata": {},
     "output_type": "execute_result"
    },
    {
     "data": {
      "text/html": [
       "<span style=\"white-space:pre; font-family: monospace\">┌───┐\n",
       "│Yes│\n",
       "└───┘\n",
       "</span>"
      ]
     },
     "execution_count": 91,
     "metadata": {},
     "output_type": "execute_result"
    },
    {
     "data": {
      "text/html": [
       "<span style=\"white-space:pre; font-family: monospace\">┌───┐\n",
       "│Yes│\n",
       "└───┘\n",
       "</span>"
      ]
     },
     "execution_count": 91,
     "metadata": {},
     "output_type": "execute_result"
    },
    {
     "data": {
      "text/html": [
       "<span style=\"white-space:pre; font-family: monospace\">┌───┐\n",
       "│Yes│\n",
       "└───┘\n",
       "</span>"
      ]
     },
     "execution_count": 91,
     "metadata": {},
     "output_type": "execute_result"
    },
    {
     "data": {
      "text/html": [
       "<span style=\"white-space:pre; font-family: monospace\">┌───┐\n",
       "│Yes│\n",
       "└───┘\n",
       "</span>"
      ]
     },
     "execution_count": 91,
     "metadata": {},
     "output_type": "execute_result"
    }
   ],
   "source": [
    "⍝ Intersecting a ray with an empty group\n",
    "g← group\n",
    "r← (point 0 0 0) ray vector 0 0 1\n",
    "+xs← g group_intersect r\n",
    "0 yesno ≢xs\n",
    "\n",
    "⍝ Intersecting a ray with a non-empty group\n",
    "s1← sphere\n",
    "s2← sphere\n",
    "s2[obj_transform]← ⊂translation 0 0 ¯3\n",
    "s3← sphere\n",
    "s3[obj_transform]← ⊂translation 5 0 0\n",
    "g[group_members],← ⊂⊂s1\n",
    "g[group_members],← ⊂⊂s2\n",
    "g[group_members],← ⊂⊂s3\n",
    "g\n",
    "r← (point 0 0 ¯5) ray vector 0 0 1\n",
    "+xs← g group_intersect r\n",
    "4 yesno ≢xs\n",
    "s2 yesno ⊃1⌷⊃xs[1]\n",
    "s2 yesno ⊃1⌷⊃xs[2]\n",
    "s1 yesno ⊃1⌷⊃xs[3]\n",
    "s1 yesno ⊃1⌷⊃xs[4]"
   ]
  },
  {
   "cell_type": "markdown",
   "metadata": {},
   "source": [
    "```\n",
    "Scenario: Intersecting a transformed group\n",
    "  Given g ← group()\n",
    "    And set_transform(g, scaling(2, 2, 2))\n",
    "    And s ← sphere()\n",
    "    And set_transform(s, translation(5, 0, 0))\n",
    "    And add_child(g, s)\n",
    "  When r ← ray(point(10, 0, -10), vector(0, 0, 1))\n",
    "    And xs ← intersect(g, r)\n",
    "  Then xs.count = 2\n",
    "```\n",
    "This test indicates the group_intersect function should use the group transform matrix, but how?"
   ]
  },
  {
   "cell_type": "code",
   "execution_count": null,
   "metadata": {},
   "outputs": [],
   "source": []
  },
  {
   "cell_type": "markdown",
   "metadata": {},
   "source": [
    "```\n",
    "Scenario: Converting a point from world to object space\n",
    "  Given g1 ← group()\n",
    "    And set_transform(g1, rotation_y(π/2))\n",
    "    And g2 ← group()\n",
    "    And set_transform(g2, scaling(2, 2, 2))\n",
    "    And add_child(g1, g2)\n",
    "    And s ← sphere()\n",
    "    And set_transform(s, translation(5, 0, 0))\n",
    "    And add_child(g2, s)\n",
    "  When p ← world_to_object(s, point(-2, 0, -10))\n",
    "  Then p = point(0, 0, -1)\n",
    "```"
   ]
  },
  {
   "cell_type": "code",
   "execution_count": null,
   "metadata": {},
   "outputs": [],
   "source": []
  },
  {
   "cell_type": "markdown",
   "metadata": {},
   "source": [
    "```\n",
    "Scenario: Converting a normal from object to world space\n",
    "  Given g1 ← group()\n",
    "    And set_transform(g1, rotation_y(π/2))\n",
    "    And g2 ← group()\n",
    "    And set_transform(g2, scaling(1, 2, 3))\n",
    "    And add_child(g1, g2)\n",
    "    And s ← sphere()\n",
    "    And set_transform(s, translation(5, 0, 0))\n",
    "    And add_child(g2, s)\n",
    "  When n ← normal_to_world(s, vector(√3/3, √3/3, √3/3))\n",
    "  Then n = vector(0.2857, 0.4286, -0.8571)\n",
    "\n",
    "Scenario: Finding the normal on a child object\n",
    "  Given g1 ← group()\n",
    "    And set_transform(g1, rotation_y(π/2))\n",
    "    And g2 ← group()\n",
    "    And set_transform(g2, scaling(1, 2, 3))\n",
    "    And add_child(g1, g2)\n",
    "    And s ← sphere()\n",
    "    And set_transform(s, translation(5, 0, 0))\n",
    "    And add_child(g2, s)\n",
    "  When n ← normal_at(s, point(1.7321, 1.1547, -5.5774))\n",
    "  Then n = vector(0.2857, 0.4286, -0.8571)\n",
    "```"
   ]
  },
  {
   "cell_type": "code",
   "execution_count": null,
   "metadata": {},
   "outputs": [],
   "source": []
  },
  {
   "cell_type": "markdown",
   "metadata": {},
   "source": [
    "## Chapter 14 Demo"
   ]
  },
  {
   "cell_type": "markdown",
   "metadata": {},
   "source": [
    "```\n",
    "function hexagon_corner()\n",
    "  corner ← sphere()\n",
    "  set_transform(corner, translation(0, 0, -1) *\n",
    "                        scaling(0.25, 0.25, 0.25))\n",
    "  return corner\n",
    "end function\n",
    "\n",
    "function hexagon_edge()\n",
    "  edge ← cylinder()\n",
    "  edge.minimum ← 0\n",
    "  edge.maximum ← 1\n",
    "  set_transform(edge, translation(0, 0, -1) *\n",
    "                      rotation_y(-π/6) *\n",
    "                      rotation_z(-π/2) *\n",
    "                      scaling(0.25, 1, 0.25))\n",
    "  return edge\n",
    "end function\n",
    "\n",
    "function hexagon_side()\n",
    "  side ← group()\n",
    "\n",
    "  add_child(side, hexagon_corner())\n",
    "  add_child(side, hexagon_edge())\n",
    "\n",
    "  return side\n",
    "end function\n",
    "\n",
    "function hexagon()\n",
    "  hex ← group()\n",
    "\n",
    "  for n ← 0 to 5\n",
    "    side ← hexagon_side()\n",
    "    set_transform(side, rotation_y(n*π/3))\n",
    "    add_child(hex, side)\n",
    "  end for\n",
    "\n",
    "  return hex\n",
    "end function\n",
    "```"
   ]
  },
  {
   "cell_type": "markdown",
   "metadata": {},
   "source": [
    "Instead of the demo suggested by the author, I'll do the cube demo with the three cubes in a group that rotates them 45 degrees."
   ]
  },
  {
   "cell_type": "markdown",
   "metadata": {},
   "source": [
    "# Chapter 15. Triangles\n",
    "Triangles are introduced so that complex shapes can be defined as a mesh of triangles. The triangle itself is defined by three points and three precomputed vectors used during rendering. Like the other primitive objects, specific intersection and normal functions will need to be written. Naturally the author once again must alter the *hit* data structure and the **prepare_computations** function in order to support smooth triangles.\n",
    "\n",
    "The author also defines how to parse a 3D Wavefront OBJ file so that complex shapes can be imported to the ray tracer. This does rely on the Group feature introduced in the previous chapter though! To avoid that, I'll work out the means of applying the group transform to objects declared in the Wavefront file."
   ]
  },
  {
   "cell_type": "markdown",
   "metadata": {},
   "source": [
    "## Chapter 15 Functions\n",
    "New functions and old modified functions include\n",
    "\n",
    "- Function **triangle(p1,p2,p3)** returns a standard triangle object given three points\n",
    "- Function **smooth_triangle(p1,p2,p3,n1,n2,n3)** returns a smooth triangle object\n",
    "- Function **triangle_intersection(triangle,ray)** → returns null or a pair of intersections\n",
    "- Function **triangle_normal_at(triangle,point)** returns a vector that is normal to the triangle at a point\n",
    "- Function **smtriangle_normal_at(triangle,point,hit)** returns a vector that is normal to the triangle at a point\n",
    "- Function **parse_obj_file(file)** Parses a Wavefront file and creates resulting triangle objects\n",
    "\n",
    "Note that the **parse_obj_file** function parses text read in from a file by a separate function. This allows testing to be done with text snippets rather than small files."
   ]
  },
  {
   "cell_type": "markdown",
   "metadata": {},
   "source": [
    "## Chapter 15 APL Code Implementation\n",
    "The form of the functions and arguments are\n",
    "\n",
    "- **triangle** point1 point2 point3 → *triangle*\n",
    "- **smooth_triangle** point1 point2 point3 n1 n2 n3 → *smtriangle*\n",
    "- *triangle* **triangle_intersect** *ray* → ⍬ or *intersection* *intersection*\n",
    "- *triangle* **intersect_with_uv** *ray* → ⍬ or *intersection* *intersection*\n",
    "- *triangle* **triangle_normal_at** *point* → *vector*\n",
    "- *smtriangle* **smtriangle_normal_at** *point* → *vector*\n",
    "- **parse_obj_file** filecontent → object_list"
   ]
  },
  {
   "cell_type": "code",
   "execution_count": 92,
   "metadata": {},
   "outputs": [],
   "source": [
    "shape_smtriangle← 8"
   ]
  },
  {
   "cell_type": "markdown",
   "metadata": {},
   "source": [
    "The **triangle** will store the three points as a vector, the two precomputed edge vectors as a vector, and the precomputed normal vector separately for quick access."
   ]
  },
  {
   "cell_type": "markdown",
   "metadata": {},
   "source": [
    "```\n",
    "]dinput\n",
    "triangle←{\n",
    "  ⍝ triangle  p1 p2 p3 → shape_triangle identity4 material points edges normalv\n",
    "  edges← (⍵[2]-⍵[1]), (⍵[3]-⍵[1])\n",
    "  normv← normalize (⊃edges[2]) cross ⊃edges[1]\n",
    "  shape_triangle identity4 material (⍵) edges normv\n",
    "  }\n",
    "  ```"
   ]
  },
  {
   "cell_type": "markdown",
   "metadata": {},
   "source": [
    "Quoting the book, *The triangle’s precomputed normal is used for every point on the triangle*"
   ]
  },
  {
   "cell_type": "code",
   "execution_count": 93,
   "metadata": {},
   "outputs": [],
   "source": [
    "triangle_normal_at←{⊃⍺[triangle_normal]}"
   ]
  },
  {
   "cell_type": "markdown",
   "metadata": {},
   "source": [
    "The **triangle_intersect** function will only compute a single intersection but must return a list of intersections. In keeping with earlier code, I'll return a list of two identical intersections.\n",
    "```\n",
    "function local_intersect(triangle, ray)\n",
    "  dir_cross_e2 ← cross(ray.direction, triangle.e2)\n",
    "  det ← dot(triangle.e1, dir_cross_e2)\n",
    "  return () if abs(det) < EPSILON\n",
    "\n",
    "  f ← 1.0 / det\n",
    "\n",
    "  p1_to_origin ← ray.origin - triangle.p1\n",
    "  u ← f * dot(p1_to_origin, dir_cross_e2)\n",
    "  return () if u < 0 or u > 1\n",
    "\n",
    "  origin_cross_e1 ← cross(p1_to_origin, triangle.e1)\n",
    "  v ← f * dot(ray.direction, origin_cross_e1)\n",
    "  return () if v < 0 or (u + v) > 1\n",
    "\n",
    "  t = f * dot(triangle.e2, origin_cross_e1)\n",
    "  return ( intersection(t, triangle) )\n",
    "\n",
    "  # a bogus intersection to ensure the result isn't a false positive\n",
    "  return ( intersection(1, triangle) )\n",
    "end function\n",
    "```"
   ]
  },
  {
   "cell_type": "code",
   "execution_count": 94,
   "metadata": {},
   "outputs": [],
   "source": [
    "]dinput\n",
    "triangle_intersect←{\n",
    "  ⍝ triangle  triangle_intersect  ray → ⍬ or intersection intersection\n",
    "  edges←  ⊃⍺[triangle_edges]\n",
    "  points← ⊃⍺[triangle_points]\n",
    "  dce2← (⊃⍵[ray_direction]) cross ⊃edges[2]\n",
    "  det← (⊃edges[1]) dot dce2\n",
    "  EPSILON>|det: ⍬\n",
    "  ⍝\n",
    "  f← ÷det\n",
    "  p1to← ⊃(⍵[ray_origin])-points[1]\n",
    "  u← f× p1to dot dce2\n",
    "  (u<0)∨(u>1): ⍬\n",
    "  ⍝\n",
    "  oce1← p1to cross ⊃edges[1]\n",
    "  v← f× (⊃⍵[ray_direction]) dot oce1\n",
    "  (v<0)∨1<u+v: ⍬\n",
    "  ⍝\n",
    "  t← f× (⊃edges[2]) dot oce1\n",
    "  (⍺ intersection t) (⍺ intersection t)\n",
    "  }"
   ]
  },
  {
   "cell_type": "markdown",
   "metadata": {},
   "source": [
    "No pseudo-code is provided for the **parse_obj_file** function but tests are given so that it can be developed iteratively. It seems to return a record with two fields, vertices and faces. The faces field is the list of triangle objects. It looks like I should be returning a group of faces rather than a list of triangles. I guess I'll need to do that once I implement the 'g' command."
   ]
  },
  {
   "cell_type": "code",
   "execution_count": 95,
   "metadata": {},
   "outputs": [],
   "source": [
    "∇ Z← parse_obj_file WAVE;verts;faces;groups;g;line;cmd;dat;d;d1\n",
    "  ⍝ parse_obj_file  filename → nested vector of triangle objects\n",
    "  verts← faces← groups← ⍬\n",
    "  g← group\n",
    "  ⍝ First letter of a line identifies the command type\n",
    "  :For line :In WAVE\n",
    "    cmd← 2↑line\n",
    "    dat← 2↓line\n",
    "    :Select cmd\n",
    "    :Case 'v '\n",
    "      ⍝ Vertex record\n",
    "      dat[(dat∊'-')/⍳⍴dat]← '¯'\n",
    "      verts,← ⊂point ⍎dat\n",
    "    :Case 'vn'\n",
    "      ⍝ Vertex normal record\n",
    "    :Case 'f '\n",
    "      ⍝ Face record\n",
    "      d← ⍎dat\n",
    "      d1← d[1]\n",
    "      d← 1↓d\n",
    "      :While 2<⍴d\n",
    "        faces,← ⊂triangle verts[d1,2↑d]\n",
    "        d← 1↓d\n",
    "      :EndWhile\n",
    "      faces,← ⊂triangle verts[d1,d]\n",
    "    :Case 'g '\n",
    "      ⍝ Group record. Add existing group, start new one\n",
    "      :If faces≢⍬\n",
    "        g[group_members]← ⊂faces\n",
    "        groups,← ⊂g\n",
    "        g← group\n",
    "        faces← ⍬\n",
    "      :EndIf\n",
    "    :EndSelect\n",
    "  :EndFor\n",
    "  g[group_members]← ⊂faces\n",
    "  groups,← ⊂g\n",
    "  Z← verts groups\n",
    "  ∇"
   ]
  },
  {
   "cell_type": "markdown",
   "metadata": {},
   "source": [
    "And here is a text input function taken from the files workspace. It returns a character vector with embedded newlines. The test cases expect the file to be broken into lines in order to process each line as a command. The ReadAllLines function within the files workspace should be able to do that."
   ]
  },
  {
   "cell_type": "code",
   "execution_count": 96,
   "metadata": {},
   "outputs": [],
   "source": [
    "    ∇ r←ReadAllText name;tn\n",
    "     ⍝ Read a text file as single byte text\n",
    "     \n",
    "      tn←name ⎕NTIE 0\n",
    "      r←⎕NREAD tn(⎕DR' ')(⎕NSIZE tn)\n",
    "      ⎕NUNTIE tn\n",
    "    ∇\n"
   ]
  },
  {
   "cell_type": "code",
   "execution_count": 97,
   "metadata": {},
   "outputs": [],
   "source": [
    "    ∇ lines←{method}ReadAllLines name;txt;LF;CR;EOL;sample\n",
    "     ⍝ Read all lines of a text file as single byte text\n",
    "      method←'APL'{×⎕NC ⍵:⍎⍵ ⋄ ⍺}'method'\n",
    "      txt←ReadAllText name\n",
    "     \n",
    "     ⍝ identify EOL sequence\n",
    "      LF CR←⎕TC[2 3]\n",
    "      sample←txt↑⍨1+⌊/txt⍳LF CR\n",
    "      EOL←(LF CR)(CR LF)(LF)(CR){⊃⍺[⍋1⍳⍨¨⍺⍷¨⊂⍵]}sample\n",
    "     \n",
    "      :Select method\n",
    "     \n",
    "      :Case 'APL'\n",
    "          lines←(⍴,EOL)↓¨EOL{(⍺⍷⍵)⊂⍵}EOL,txt\n",
    "     \n",
    "     ⍝ Using the XUTILS external functions can halve the time\n",
    "     ⍝ required to lineate a longer file (eg 10,000 lines)\n",
    "     ⍝ To use this method, you need to have run\n",
    "     ⍝       'XUTILS' ⎕CMD ''\n",
    "     ⍝ to define the external function ltov\n",
    "      :Case 'XUTILS'\n",
    "          lines←(⊃⍴1↓EOL){(⊃⍵),⍺↓¨(1↓⍵)}(⊃EOL)ltov txt\n",
    "     \n",
    "      :EndSelect\n",
    "    ∇"
   ]
  },
  {
   "cell_type": "markdown",
   "metadata": {},
   "source": [
    "The book adds smooth triangles after introducing OBJ file parsing. A smooth triangle attributes are the same as a regular triangle but with three normal vectors added. I'm also going to put in the u and v intersection values. I've positioned the new attributes at the end so that a smooth triangle can be treated as if it were a normal triangle."
   ]
  },
  {
   "cell_type": "code",
   "execution_count": 98,
   "metadata": {},
   "outputs": [],
   "source": [
    "smtriangle_points← triangle_points\n",
    "smtriangle_edges←  triangle_edges\n",
    "smtriangle_normv←  triangle_normal\n",
    "smtriangle_norms←  7\n",
    "smtriangle_u←      8\n",
    "smtriangle_v←      9"
   ]
  },
  {
   "cell_type": "code",
   "execution_count": 99,
   "metadata": {},
   "outputs": [],
   "source": [
    "]dinput\n",
    "smtriangle←{\n",
    "  ⍝ triangle  p1 p2 p3 n1 n2 n3 → shape_triangle identity4 material points norms edges normalv\n",
    "  points← 3↑⍵\n",
    "  norms←  3↓⍵\n",
    "  edges←  (⍵[2]-⍵[1]), (⍵[3]-⍵[1])\n",
    "  normv←  normalize (⊃edges[2]) cross ⊃edges[1]\n",
    "  shape_smtriangle identity4 material points edges normv norms 0 0\n",
    "  }"
   ]
  },
  {
   "cell_type": "markdown",
   "metadata": {},
   "source": [
    "The **smtriangle_intersect** function is identical to its **triangle_intersect** counterpart except that it also stores the computed u and v values into the appropriate *smtriangle* attributes."
   ]
  },
  {
   "cell_type": "code",
   "execution_count": 100,
   "metadata": {},
   "outputs": [],
   "source": [
    "]dinput\n",
    "smtriangle_intersect←{\n",
    "  ⍝ smtriangle  triangle_intersect  ray → ⍬ or intersection intersection\n",
    "  edges←  ⊃⍺[triangle_edges]\n",
    "  points← ⊃⍺[triangle_points]\n",
    "  dce2← (⊃⍵[ray_direction]) cross ⊃edges[2]\n",
    "  det← (⊃edges[1]) dot dce2\n",
    "  EPSILON>|det: ⍬\n",
    "  ⍝\n",
    "  f← ÷det\n",
    "  p1to← ⊃(⍵[ray_origin])-points[1]\n",
    "  u← f× p1to dot dce2\n",
    "  (u<0)∨(u>1): ⍬\n",
    "  ⍝\n",
    "  oce1← p1to cross ⊃edges[1]\n",
    "  v← f× (⊃⍵[ray_direction]) dot oce1\n",
    "  (v<0)∨1<u+v: ⍬\n",
    "  ⍝\n",
    "  tri← ⍺\n",
    "  tri[smtriangle_u]← u\n",
    "  tri[smtriangle_v]← v\n",
    "  ⍝\n",
    "  t← f× (⊃edges[2]) dot oce1\n",
    "  (tri intersection t) (tri intersection t)\n",
    "  }"
   ]
  },
  {
   "cell_type": "markdown",
   "metadata": {},
   "source": [
    "The **normal_at** function for a smooth triangle uses two new values added to a *hit* data structure.\n",
    "\n",
    "```\n",
    "function local_normal_at(tri, point, hit)\n",
    "  return tri.n2 * hit.u +\n",
    "         tri.n3 * hit.v +\n",
    "         tri.n1 * (1 - hit.u - hit.v)\n",
    "end function\n",
    "```\n",
    "\n",
    "I don't see where *point* is used in the code, but it is always passed to normal_at. Since I'm putting the u and v values into the triangle itself instead of in a hit, I won't need to pass the hit along to the **smtriangle_normal_at** function. I will need to pull the modified triangle object from the intersection in my tests.\n",
    "\n",
    "I reported an errata for this function to the author. The above computed vector should be normalized."
   ]
  },
  {
   "cell_type": "code",
   "execution_count": 101,
   "metadata": {},
   "outputs": [],
   "source": [
    "]dinput\n",
    "smtriangle_normal_at←{\n",
    "  ⍝ triangle  smtriangle_normal_at  ray → vector\n",
    "  t← (smtriangle_norms 2 ⊃⍺) × ⊃⍺[smtriangle_u]\n",
    "  t+← (smtriangle_norms 3 ⊃⍺) × ⊃⍺[smtriangle_v]\n",
    "  normalize t + (smtriangle_norms 1 ⊃⍺) × 1-(⊃⍺[smtriangle_u])+⊃⍺[smtriangle_v]\n",
    "  }"
   ]
  },
  {
   "cell_type": "markdown",
   "metadata": {},
   "source": [
    "## Chapter 15 Test Cases"
   ]
  },
  {
   "cell_type": "markdown",
   "metadata": {},
   "source": [
    "```\n",
    "Scenario: Constructing a triangle\n",
    "  Given p1 ← point(0, 1, 0)\n",
    "    And p2 ← point(-1, 0, 0)\n",
    "    And p3 ← point(1, 0, 0)\n",
    "    And t ← triangle(p1, p2, p3)\n",
    "  Then t.p1 = p1\n",
    "    And t.p2 = p2\n",
    "    And t.p3 = p3\n",
    "    And t.e1 = vector(-1, -1, 0)\n",
    "    And t.e2 = vector(1, -1, 0)\n",
    "    And t.normal = vector(0, 0, -1)\n",
    "\n",
    "Scenario: Finding the normal on a triangle\n",
    "  Given t ← triangle(point(0, 1, 0), point(-1, 0, 0), point(1, 0, 0))\n",
    "  When n1 ← local_normal_at(t, point(0, 0.5, 0))\n",
    "    And n2 ← local_normal_at(t, point(-0.5, 0.75, 0))\n",
    "    And n3 ← local_normal_at(t, point(0.5, 0.25, 0))\n",
    "  Then n1 = t.normal\n",
    "    And n2 = t.normal\n",
    "    And n3 = t.normal\n",
    "```"
   ]
  },
  {
   "cell_type": "code",
   "execution_count": 102,
   "metadata": {},
   "outputs": [
    {
     "data": {
      "text/html": [
       "<span style=\"white-space:pre; font-family: monospace\">┌─┬───────┬─────────────────────────────┬──────────────────────────┬────────────────────┬────────┐\n",
       "│7│1 0 0 0│┌─────┬───┬───┬───┬───┬─┬─┬─┐│┌───────┬────────┬───────┐│┌─────────┬────────┐│0 0 ¯1 0│\n",
       "│ │0 1 0 0││1 1 1│0.1│0.9│0.9│200│0│1│0│││0 1 0 1│¯1 0 0 1│1 0 0 1│││¯1 ¯1 0 0│1 ¯1 0 0││        │\n",
       "│ │0 0 1 0│└─────┴───┴───┴───┴───┴─┴─┴─┘│└───────┴────────┴───────┘│└─────────┴────────┘│        │\n",
       "│ │0 0 0 1│                             │                          │                    │        │\n",
       "└─┴───────┴─────────────────────────────┴──────────────────────────┴────────────────────┴────────┘\n",
       "</span>"
      ]
     },
     "execution_count": 102,
     "metadata": {},
     "output_type": "execute_result"
    },
    {
     "data": {
      "text/html": [
       "<span style=\"white-space:pre; font-family: monospace\">┌───────┬────────┬───────┐\n",
       "│0 1 0 1│¯1 0 0 1│1 0 0 1│\n",
       "└───────┴────────┴───────┘\n",
       "</span>"
      ]
     },
     "execution_count": 102,
     "metadata": {},
     "output_type": "execute_result"
    },
    {
     "data": {
      "text/html": [
       "<span style=\"white-space:pre; font-family: monospace\">┌───┐\n",
       "│Yes│\n",
       "└───┘\n",
       "</span>"
      ]
     },
     "execution_count": 102,
     "metadata": {},
     "output_type": "execute_result"
    },
    {
     "data": {
      "text/html": [
       "<span style=\"white-space:pre; font-family: monospace\">┌─────────┬────────┐\n",
       "│¯1 ¯1 0 0│1 ¯1 0 0│\n",
       "└─────────┴────────┘\n",
       "</span>"
      ]
     },
     "execution_count": 102,
     "metadata": {},
     "output_type": "execute_result"
    },
    {
     "data": {
      "text/html": [
       "<span style=\"white-space:pre; font-family: monospace\">┌───┐\n",
       "│Yes│\n",
       "└───┘\n",
       "</span>"
      ]
     },
     "execution_count": 102,
     "metadata": {},
     "output_type": "execute_result"
    },
    {
     "data": {
      "text/html": [
       "<span style=\"white-space:pre; font-family: monospace\">┌────────┐\n",
       "│0 0 ¯1 0│\n",
       "└────────┘\n",
       "</span>"
      ]
     },
     "execution_count": 102,
     "metadata": {},
     "output_type": "execute_result"
    },
    {
     "data": {
      "text/html": [
       "<span style=\"white-space:pre; font-family: monospace\">┌───┐\n",
       "│Yes│\n",
       "└───┘\n",
       "</span>"
      ]
     },
     "execution_count": 102,
     "metadata": {},
     "output_type": "execute_result"
    },
    {
     "data": {
      "text/html": [
       "<span style=\"white-space:pre; font-family: monospace\">0 0 ¯1 0\n",
       "</span>"
      ]
     },
     "execution_count": 102,
     "metadata": {},
     "output_type": "execute_result"
    },
    {
     "data": {
      "text/html": [
       "<span style=\"white-space:pre; font-family: monospace\">┌───┐\n",
       "│Yes│\n",
       "└───┘\n",
       "</span>"
      ]
     },
     "execution_count": 102,
     "metadata": {},
     "output_type": "execute_result"
    },
    {
     "data": {
      "text/html": [
       "<span style=\"white-space:pre; font-family: monospace\">0 0 ¯1 0\n",
       "</span>"
      ]
     },
     "execution_count": 102,
     "metadata": {},
     "output_type": "execute_result"
    },
    {
     "data": {
      "text/html": [
       "<span style=\"white-space:pre; font-family: monospace\">┌───┐\n",
       "│Yes│\n",
       "└───┘\n",
       "</span>"
      ]
     },
     "execution_count": 102,
     "metadata": {},
     "output_type": "execute_result"
    },
    {
     "data": {
      "text/html": [
       "<span style=\"white-space:pre; font-family: monospace\">0 0 ¯1 0\n",
       "</span>"
      ]
     },
     "execution_count": 102,
     "metadata": {},
     "output_type": "execute_result"
    },
    {
     "data": {
      "text/html": [
       "<span style=\"white-space:pre; font-family: monospace\">┌───┐\n",
       "│Yes│\n",
       "└───┘\n",
       "</span>"
      ]
     },
     "execution_count": 102,
     "metadata": {},
     "output_type": "execute_result"
    }
   ],
   "source": [
    "⍝ Constructing a triangle\n",
    "p1← point 0 1 0\n",
    "p2← point ¯1 0 0\n",
    "p3← point 1 0 0\n",
    "+t← triangle p1 p2 p3\n",
    "⊃t[triangle_points]\n",
    "p1 p2 p3 yesno ⊃t[triangle_points]\n",
    "⊃t[triangle_edges]\n",
    "(⊃t[triangle_edges]) yesno (vector ¯1 ¯1 0) (vector 1 ¯1 0)\n",
    "t[triangle_normal]\n",
    "(⊃t[triangle_normal]) yesno vector 0 0 ¯1\n",
    "\n",
    "⍝ Finding the normal on a triangle\n",
    "+n1← t triangle_normal_at point 0 0.5 0\n",
    "⍝n1 yesno ⊃t[triangle_normal]\n",
    "n1 yesno triangle_normal⊃t\n",
    "+n2← t triangle_normal_at point ¯0.5 0.75 0\n",
    "n2 yesno triangle_normal⊃t\n",
    "+n3← t triangle_normal_at point 0.5 0.25 0\n",
    "n3 yesno triangle_normal⊃t"
   ]
  },
  {
   "cell_type": "markdown",
   "metadata": {},
   "source": [
    "```\n",
    "Scenario: Intersecting a ray parallel to the triangle\n",
    "  Given t ← triangle(point(0, 1, 0), point(-1, 0, 0), point(1, 0, 0))\n",
    "    And r ← ray(point(0, -1, -2), vector(0, 1, 0))\n",
    "  When xs ← local_intersect(t, r)\n",
    "  Then xs is empty\n",
    "\n",
    "Scenario: A ray misses the p1-p3 edge\n",
    "  Given t ← triangle(point(0, 1, 0), point(-1, 0, 0), point(1, 0, 0))\n",
    "    And r ← ray(point(1, 1, -2), vector(0, 0, 1))\n",
    "  When xs ← local_intersect(t, r)\n",
    "  Then xs is empty\n",
    "\n",
    "Scenario: A ray misses the p1-p2 edge\n",
    "  Given t ← triangle(point(0, 1, 0), point(-1, 0, 0), point(1, 0, 0))\n",
    "    And r ← ray(point(-1, 1, -2), vector(0, 0, 1))\n",
    "  When xs ← local_intersect(t, r)\n",
    "  Then xs is empty\n",
    "\n",
    "Scenario: A ray misses the p2-p3 edge\n",
    "  Given t ← triangle(point(0, 1, 0), point(-1, 0, 0), point(1, 0, 0))\n",
    "    And r ← ray(point(0, -1, -2), vector(0, 0, 1))\n",
    "  When xs ← local_intersect(t, r)\n",
    "  Then xs is empty\n",
    "\n",
    "Scenario: A ray strikes a triangle\n",
    "  Given t ← triangle(point(0, 1, 0), point(-1, 0, 0), point(1, 0, 0))\n",
    "    And r ← ray(point(0, 0.5, -2), vector(0, 0, 1))\n",
    "  When xs ← local_intersect(t, r)\n",
    "  Then xs.count = 1\n",
    "    And xs[0].t = 2\n",
    "```"
   ]
  },
  {
   "cell_type": "code",
   "execution_count": 103,
   "metadata": {},
   "outputs": [
    {
     "data": {
      "text/html": [
       "<span style=\"white-space:pre; font-family: monospace\">\n",
       "</span>"
      ]
     },
     "execution_count": 103,
     "metadata": {},
     "output_type": "execute_result"
    },
    {
     "data": {
      "text/html": [
       "<span style=\"white-space:pre; font-family: monospace\">┌───┐\n",
       "│Yes│\n",
       "└───┘\n",
       "</span>"
      ]
     },
     "execution_count": 103,
     "metadata": {},
     "output_type": "execute_result"
    },
    {
     "data": {
      "text/html": [
       "<span style=\"white-space:pre; font-family: monospace\">\n",
       "</span>"
      ]
     },
     "execution_count": 103,
     "metadata": {},
     "output_type": "execute_result"
    },
    {
     "data": {
      "text/html": [
       "<span style=\"white-space:pre; font-family: monospace\">┌───┐\n",
       "│Yes│\n",
       "└───┘\n",
       "</span>"
      ]
     },
     "execution_count": 103,
     "metadata": {},
     "output_type": "execute_result"
    },
    {
     "data": {
      "text/html": [
       "<span style=\"white-space:pre; font-family: monospace\">\n",
       "</span>"
      ]
     },
     "execution_count": 103,
     "metadata": {},
     "output_type": "execute_result"
    },
    {
     "data": {
      "text/html": [
       "<span style=\"white-space:pre; font-family: monospace\">┌───┐\n",
       "│Yes│\n",
       "└───┘\n",
       "</span>"
      ]
     },
     "execution_count": 103,
     "metadata": {},
     "output_type": "execute_result"
    },
    {
     "data": {
      "text/html": [
       "<span style=\"white-space:pre; font-family: monospace\">\n",
       "</span>"
      ]
     },
     "execution_count": 103,
     "metadata": {},
     "output_type": "execute_result"
    },
    {
     "data": {
      "text/html": [
       "<span style=\"white-space:pre; font-family: monospace\">┌───┐\n",
       "│Yes│\n",
       "└───┘\n",
       "</span>"
      ]
     },
     "execution_count": 103,
     "metadata": {},
     "output_type": "execute_result"
    },
    {
     "data": {
      "text/html": [
       "<span style=\"white-space:pre; font-family: monospace\">┌──────────────────────────────────────────────────────────────────────────────────────────────────────┬──────────────────\n",
       "│┌──────────────────────────────────────────────────────────────────────────────────────────────────┬─┐│┌─────────────────\n",
       "││┌─┬───────┬─────────────────────────────┬──────────────────────────┬────────────────────┬────────┐│2│││┌─┬───────┬──────\n",
       "│││7│1 0 0 0│┌─────┬───┬───┬───┬───┬─┬─┬─┐│┌───────┬────────┬───────┐│┌─────────┬────────┐│0 0 ¯1 0││ ││││7│1 0 0 0│┌─────\n",
       "│││ │0 1 0 0││1 1 1│0.1│0.9│0.9│200│0│1│0│││0 1 0 1│¯1 0 0 1│1 0 0 1│││¯1 ¯1 0 0│1 ¯1 0 0││        ││ ││││ │0 1 0 0││1 1 1\n",
       "│││ │0 0 1 0│└─────┴───┴───┴───┴───┴─┴─┴─┘│└───────┴────────┴───────┘│└─────────┴────────┘│        ││ ││││ │0 0 1 0│└─────\n",
       "│││ │0 0 0 1│                             │                          │                    │        ││ ││││ │0 0 0 1│      \n",
       "││└─┴───────┴─────────────────────────────┴──────────────────────────┴────────────────────┴────────┘│ │││└─┴───────┴──────\n",
       "│└──────────────────────────────────────────────────────────────────────────────────────────────────┴─┘│└─────────────────\n",
       "└──────────────────────────────────────────────────────────────────────────────────────────────────────┴──────────────────\n",
       "\n",
       "      ────────────────────────────────────────────────────────────────────────────────────┐\n",
       "      ─────────────────────────────────────────────────────────────────────────────────┬─┐│\n",
       "      ───────────────────────┬──────────────────────────┬────────────────────┬────────┐│2││\n",
       "      ┬───┬───┬───┬───┬─┬─┬─┐│┌───────┬────────┬───────┐│┌─────────┬────────┐│0 0 ¯1 0││ ││\n",
       "      │0.1│0.9│0.9│200│0│1│0│││0 1 0 1│¯1 0 0 1│1 0 0 1│││¯1 ¯1 0 0│1 ¯1 0 0││        ││ ││\n",
       "      ┴───┴───┴───┴───┴─┴─┴─┘│└───────┴────────┴───────┘│└─────────┴────────┘│        ││ ││\n",
       "                             │                          │                    │        ││ ││\n",
       "      ───────────────────────┴──────────────────────────┴────────────────────┴────────┘│ ││\n",
       "      ─────────────────────────────────────────────────────────────────────────────────┴─┘│\n",
       "      ────────────────────────────────────────────────────────────────────────────────────┘\n",
       "</span>"
      ]
     },
     "execution_count": 103,
     "metadata": {},
     "output_type": "execute_result"
    },
    {
     "data": {
      "text/html": [
       "<span style=\"white-space:pre; font-family: monospace\">┌───┐\n",
       "│Yes│\n",
       "└───┘\n",
       "</span>"
      ]
     },
     "execution_count": 103,
     "metadata": {},
     "output_type": "execute_result"
    },
    {
     "data": {
      "text/html": [
       "<span style=\"white-space:pre; font-family: monospace\">┌───┐\n",
       "│Yes│\n",
       "└───┘\n",
       "</span>"
      ]
     },
     "execution_count": 103,
     "metadata": {},
     "output_type": "execute_result"
    }
   ],
   "source": [
    "t← triangle (point 0 1 0) (point ¯1 0 0) (point 1 0 0)\n",
    "\n",
    "⍝ Intersecting a ray parallel to the triangle\n",
    "r← (point 0 ¯1 ¯2) ray vector 0 1 0\n",
    "+xs← t triangle_intersect r\n",
    "0 yesno ≢xs\n",
    "\n",
    "⍝ A ray misses the p1-p3 edge\n",
    "r← (point 1 1 ¯2) ray vector 0 0 1\n",
    "+xs← t triangle_intersect r\n",
    "0 yesno ≢xs\n",
    "\n",
    "⍝ A ray misses the p1-p2 edge\n",
    "r← (point ¯1 1 ¯2) ray vector 0 0 1\n",
    "+xs← t triangle_intersect r\n",
    "0 yesno ≢xs\n",
    "\n",
    "⍝ A ray misses the p2-p3 edge\n",
    "r← (point 0 ¯1 ¯2) ray vector 0 0 1\n",
    "+xs← t triangle_intersect r\n",
    "0 yesno ≢xs\n",
    "\n",
    "⍝ A ray strikes a triangle\n",
    "r← (point 0 0.5 ¯2) ray vector 0 0 1\n",
    "+xs← t triangle_intersect r\n",
    "2 yesno ≢xs\n",
    "2 yesno 2⌷⊃xs[1]"
   ]
  },
  {
   "cell_type": "markdown",
   "metadata": {},
   "source": [
    "```\n",
    "Scenario: Ignoring unrecognized lines\n",
    "  Given gibberish ← a file containing:\n",
    "    \"\"\"\n",
    "    There was a young lady named Bright\n",
    "    who traveled much faster than light.\n",
    "    She set out one day\n",
    "    in a relative way,\n",
    "    and came back the previous night.\n",
    "    \"\"\"\n",
    "  When parser ← parse_obj_file(gibberish)\n",
    "  Then parser should have ignored 5 lines\n",
    "\n",
    "Scenario: Vertex records\n",
    "  Given file ← a file containing:\n",
    "    \"\"\"\n",
    "    v -1 1 0\n",
    "    v -1.0000 0.5000 0.0000\n",
    "    v 1 0 0\n",
    "    v 1 1 0\n",
    "    \"\"\"\n",
    "  When parser ← parse_obj_file(file)\n",
    "  Then parser.vertices[1] = point(-1, 1, 0)\n",
    "    And parser.vertices[2] = point(-1, 0.5, 0)\n",
    "    And parser.vertices[3] = point(1, 0, 0)\n",
    "    And parser.vertices[4] = point(1, 1, 0)\n",
    "```"
   ]
  },
  {
   "cell_type": "code",
   "execution_count": 104,
   "metadata": {},
   "outputs": [
    {
     "data": {
      "text/html": [
       "<span style=\"white-space:pre; font-family: monospace\">┌┬───────────────┐\n",
       "││┌─────────────┐│\n",
       "│││┌─┬───────┬┬┐││\n",
       "││││6│1 0 0 0│││││\n",
       "││││ │0 1 0 0│││││\n",
       "││││ │0 0 1 0│││││\n",
       "││││ │0 0 0 1│││││\n",
       "│││└─┴───────┴┴┘││\n",
       "││└─────────────┘│\n",
       "└┴───────────────┘\n",
       "</span>"
      ]
     },
     "execution_count": 104,
     "metadata": {},
     "output_type": "execute_result"
    },
    {
     "data": {
      "text/html": [
       "<span style=\"white-space:pre; font-family: monospace\">┌───┐\n",
       "│Yes│\n",
       "└───┘\n",
       "</span>"
      ]
     },
     "execution_count": 104,
     "metadata": {},
     "output_type": "execute_result"
    },
    {
     "data": {
      "text/html": [
       "<span style=\"white-space:pre; font-family: monospace\">┌───┐\n",
       "│Yes│\n",
       "└───┘\n",
       "</span>"
      ]
     },
     "execution_count": 104,
     "metadata": {},
     "output_type": "execute_result"
    },
    {
     "data": {
      "text/html": [
       "<span style=\"white-space:pre; font-family: monospace\">┌─────────────────────────────────────┬───────────────┐\n",
       "│┌────────┬──────────┬───────┬───────┐│┌─────────────┐│\n",
       "││¯1 1 0 1│¯1 0.5 0 1│1 0 0 1│1 1 0 1│││┌─┬───────┬┬┐││\n",
       "│└────────┴──────────┴───────┴───────┘│││6│1 0 0 0│││││\n",
       "│                                     │││ │0 1 0 0│││││\n",
       "│                                     │││ │0 0 1 0│││││\n",
       "│                                     │││ │0 0 0 1│││││\n",
       "│                                     ││└─┴───────┴┴┘││\n",
       "│                                     │└─────────────┘│\n",
       "└─────────────────────────────────────┴───────────────┘\n",
       "</span>"
      ]
     },
     "execution_count": 104,
     "metadata": {},
     "output_type": "execute_result"
    },
    {
     "data": {
      "text/html": [
       "<span style=\"white-space:pre; font-family: monospace\">┌───┐\n",
       "│Yes│\n",
       "└───┘\n",
       "</span>"
      ]
     },
     "execution_count": 104,
     "metadata": {},
     "output_type": "execute_result"
    },
    {
     "data": {
      "text/html": [
       "<span style=\"white-space:pre; font-family: monospace\">┌───┐\n",
       "│Yes│\n",
       "└───┘\n",
       "</span>"
      ]
     },
     "execution_count": 104,
     "metadata": {},
     "output_type": "execute_result"
    },
    {
     "data": {
      "text/html": [
       "<span style=\"white-space:pre; font-family: monospace\">┌───┐\n",
       "│Yes│\n",
       "└───┘\n",
       "</span>"
      ]
     },
     "execution_count": 104,
     "metadata": {},
     "output_type": "execute_result"
    },
    {
     "data": {
      "text/html": [
       "<span style=\"white-space:pre; font-family: monospace\">┌───┐\n",
       "│Yes│\n",
       "└───┘\n",
       "</span>"
      ]
     },
     "execution_count": 104,
     "metadata": {},
     "output_type": "execute_result"
    }
   ],
   "source": [
    "⍝ Ignoring unrecognized lines\n",
    "⍝content← 0 0 0 0 0\n",
    "⍝content[1]← ⊂'There was a young lady named Bright'\n",
    "⍝content[2]← ⊂'who traveled much faster than light.'\n",
    "⍝content[3]← ⊂'She set out one day'\n",
    "⍝content[4]← ⊂'in a relative way,'\n",
    "⍝content[5]← ⊂'and came back the previous night.'\n",
    "content←  ⊂'There was a young lady named Bright'\n",
    "content,← ⊂'who traveled much faster than light.'\n",
    "content,← ⊂'She set out one day'\n",
    "content,← ⊂'in a relative way,'\n",
    "content,← ⊂'and came back the previous night.'\n",
    "content← 5 1⍴content\n",
    "+objs← parse_obj_file content\n",
    "0 yesno ≢⊃objs[1]\n",
    "0 yesno ≢2 1 group_members⊃objs\n",
    "\n",
    "⍝ Vertex records\n",
    "content← 0 0 0 0\n",
    "content[1]← ⊂'v -1 1 0'\n",
    "content[2]← ⊂'v -1.0000 0.5000 0.0000'\n",
    "content[3]← ⊂'v 1 0 0'\n",
    "content[4]← ⊂'v 1 1 0'\n",
    "+objs← parse_obj_file content\n",
    "(point ¯1 1 0) yesno ⊃1⌷⊃objs[1]\n",
    "(point ¯1 0.5 0) yesno ⊃2⌷⊃objs[1]\n",
    "(point 1 0 0) yesno ⊃3⌷⊃objs[1]\n",
    "(point 1 1 0) yesno ⊃4⌷⊃objs[1]"
   ]
  },
  {
   "cell_type": "markdown",
   "metadata": {},
   "source": [
    "```\n",
    "Scenario: Parsing triangle faces\n",
    "  Given file ← a file containing:\n",
    "    \"\"\"\n",
    "    v -1 1 0\n",
    "    v -1 0 0\n",
    "    v 1 0 0\n",
    "    v 1 1 0\n",
    "\n",
    "    f 1 2 3\n",
    "    f 1 3 4\n",
    "    \"\"\"\n",
    "  When parser ← parse_obj_file(file)\n",
    "    And g ← parser.default_group\n",
    "    And t1 ← first child of g\n",
    "    And t2 ← second child of g\n",
    "  Then t1.p1 = parser.vertices[1]\n",
    "    And t1.p2 = parser.vertices[2]\n",
    "    And t1.p3 = parser.vertices[3]\n",
    "    And t2.p1 = parser.vertices[1]\n",
    "    And t2.p2 = parser.vertices[3]\n",
    "    And t2.p3 = parser.vertices[4]\n",
    "\n",
    "Scenario: Triangulating polygons\n",
    "  Given file ← a file containing:\n",
    "    \"\"\"\n",
    "    v -1 1 0\n",
    "    v -1 0 0\n",
    "    v 1 0 0\n",
    "    v 1 1 0\n",
    "    v 0 2 0\n",
    "\n",
    "    f 1 2 3 4 5\n",
    "    \"\"\"\n",
    "  When parser ← parse_obj_file(file)\n",
    "    And g ← parser.default_group\n",
    "    And t1 ← first child of g\n",
    "    And t2 ← second child of g\n",
    "    And t3 ← third child of g\n",
    "  Then t1.p1 = parser.vertices[1]\n",
    "    And t1.p2 = parser.vertices[2]\n",
    "    And t1.p3 = parser.vertices[3]\n",
    "    And t2.p1 = parser.vertices[1]\n",
    "    And t2.p2 = parser.vertices[3]\n",
    "    And t2.p3 = parser.vertices[4]\n",
    "    And t3.p1 = parser.vertices[1]\n",
    "    And t3.p2 = parser.vertices[4]\n",
    "    And t3.p3 = parser.vertices[5]\n",
    "```"
   ]
  },
  {
   "cell_type": "code",
   "execution_count": 105,
   "metadata": {},
   "outputs": [
    {
     "data": {
      "text/html": [
       "<span style=\"white-space:pre; font-family: monospace\">4\n",
       "</span>"
      ]
     },
     "execution_count": 105,
     "metadata": {},
     "output_type": "execute_result"
    },
    {
     "data": {
      "text/html": [
       "<span style=\"white-space:pre; font-family: monospace\">1\n",
       "</span>"
      ]
     },
     "execution_count": 105,
     "metadata": {},
     "output_type": "execute_result"
    },
    {
     "data": {
      "text/html": [
       "<span style=\"white-space:pre; font-family: monospace\">┌────────┬────────┬───────┬───────┐\n",
       "│¯1 1 0 1│¯1 0 0 1│1 0 0 1│1 1 0 1│\n",
       "└────────┴────────┴───────┴───────┘\n",
       "</span>"
      ]
     },
     "execution_count": 105,
     "metadata": {},
     "output_type": "execute_result"
    },
    {
     "data": {
      "text/html": [
       "<span style=\"white-space:pre; font-family: monospace\">┌─┬───────┬─────────────────────────────┬───────────────────────────┬───────────────────┬────────┐\n",
       "│7│1 0 0 0│┌─────┬───┬───┬───┬───┬─┬─┬─┐│┌────────┬────────┬───────┐│┌────────┬────────┐│0 0 ¯1 0│\n",
       "│ │0 1 0 0││1 1 1│0.1│0.9│0.9│200│0│1│0│││¯1 1 0 1│¯1 0 0 1│1 0 0 1│││0 ¯1 0 0│2 ¯1 0 0││        │\n",
       "│ │0 0 1 0│└─────┴───┴───┴───┴───┴─┴─┴─┘│└────────┴────────┴───────┘│└────────┴────────┘│        │\n",
       "│ │0 0 0 1│                             │                           │                   │        │\n",
       "└─┴───────┴─────────────────────────────┴───────────────────────────┴───────────────────┴────────┘\n",
       "</span>"
      ]
     },
     "execution_count": 105,
     "metadata": {},
     "output_type": "execute_result"
    },
    {
     "data": {
      "text/html": [
       "<span style=\"white-space:pre; font-family: monospace\">┌─┬───────┬─────────────────────────────┬──────────────────────────┬──────────────────┬────────┐\n",
       "│7│1 0 0 0│┌─────┬───┬───┬───┬───┬─┬─┬─┐│┌────────┬───────┬───────┐│┌────────┬───────┐│0 0 ¯1 0│\n",
       "│ │0 1 0 0││1 1 1│0.1│0.9│0.9│200│0│1│0│││¯1 1 0 1│1 0 0 1│1 1 0 1│││2 ¯1 0 0│2 0 0 0││        │\n",
       "│ │0 0 1 0│└─────┴───┴───┴───┴───┴─┴─┴─┘│└────────┴───────┴───────┘│└────────┴───────┘│        │\n",
       "│ │0 0 0 1│                             │                          │                  │        │\n",
       "└─┴───────┴─────────────────────────────┴──────────────────────────┴──────────────────┴────────┘\n",
       "</span>"
      ]
     },
     "execution_count": 105,
     "metadata": {},
     "output_type": "execute_result"
    },
    {
     "data": {
      "text/html": [
       "<span style=\"white-space:pre; font-family: monospace\">┌───┐\n",
       "│Yes│\n",
       "└───┘\n",
       "</span>"
      ]
     },
     "execution_count": 105,
     "metadata": {},
     "output_type": "execute_result"
    },
    {
     "data": {
      "text/html": [
       "<span style=\"white-space:pre; font-family: monospace\">┌───┐\n",
       "│Yes│\n",
       "└───┘\n",
       "</span>"
      ]
     },
     "execution_count": 105,
     "metadata": {},
     "output_type": "execute_result"
    },
    {
     "data": {
      "text/html": [
       "<span style=\"white-space:pre; font-family: monospace\">┌───┐\n",
       "│Yes│\n",
       "└───┘\n",
       "</span>"
      ]
     },
     "execution_count": 105,
     "metadata": {},
     "output_type": "execute_result"
    },
    {
     "data": {
      "text/html": [
       "<span style=\"white-space:pre; font-family: monospace\">┌───┐\n",
       "│Yes│\n",
       "└───┘\n",
       "</span>"
      ]
     },
     "execution_count": 105,
     "metadata": {},
     "output_type": "execute_result"
    },
    {
     "data": {
      "text/html": [
       "<span style=\"white-space:pre; font-family: monospace\">┌───┐\n",
       "│Yes│\n",
       "└───┘\n",
       "</span>"
      ]
     },
     "execution_count": 105,
     "metadata": {},
     "output_type": "execute_result"
    },
    {
     "data": {
      "text/html": [
       "<span style=\"white-space:pre; font-family: monospace\">┌───┐\n",
       "│Yes│\n",
       "└───┘\n",
       "</span>"
      ]
     },
     "execution_count": 105,
     "metadata": {},
     "output_type": "execute_result"
    },
    {
     "data": {
      "text/html": [
       "<span style=\"white-space:pre; font-family: monospace\">5\n",
       "</span>"
      ]
     },
     "execution_count": 105,
     "metadata": {},
     "output_type": "execute_result"
    },
    {
     "data": {
      "text/html": [
       "<span style=\"white-space:pre; font-family: monospace\">1\n",
       "</span>"
      ]
     },
     "execution_count": 105,
     "metadata": {},
     "output_type": "execute_result"
    },
    {
     "data": {
      "text/html": [
       "<span style=\"white-space:pre; font-family: monospace\">┌────────┬────────┬───────┬───────┬───────┐\n",
       "│¯1 1 0 1│¯1 0 0 1│1 0 0 1│1 1 0 1│0 2 0 1│\n",
       "└────────┴────────┴───────┴───────┴───────┘\n",
       "</span>"
      ]
     },
     "execution_count": 105,
     "metadata": {},
     "output_type": "execute_result"
    },
    {
     "data": {
      "text/html": [
       "<span style=\"white-space:pre; font-family: monospace\">┌─┬───────┬─────────────────────────────┬───────────────────────────┬───────────────────┬────────┐\n",
       "│7│1 0 0 0│┌─────┬───┬───┬───┬───┬─┬─┬─┐│┌────────┬────────┬───────┐│┌────────┬────────┐│0 0 ¯1 0│\n",
       "│ │0 1 0 0││1 1 1│0.1│0.9│0.9│200│0│1│0│││¯1 1 0 1│¯1 0 0 1│1 0 0 1│││0 ¯1 0 0│2 ¯1 0 0││        │\n",
       "│ │0 0 1 0│└─────┴───┴───┴───┴───┴─┴─┴─┘│└────────┴────────┴───────┘│└────────┴────────┘│        │\n",
       "│ │0 0 0 1│                             │                           │                   │        │\n",
       "└─┴───────┴─────────────────────────────┴───────────────────────────┴───────────────────┴────────┘\n",
       "</span>"
      ]
     },
     "execution_count": 105,
     "metadata": {},
     "output_type": "execute_result"
    },
    {
     "data": {
      "text/html": [
       "<span style=\"white-space:pre; font-family: monospace\">┌─┬───────┬─────────────────────────────┬──────────────────────────┬──────────────────┬────────┐\n",
       "│7│1 0 0 0│┌─────┬───┬───┬───┬───┬─┬─┬─┐│┌────────┬───────┬───────┐│┌────────┬───────┐│0 0 ¯1 0│\n",
       "│ │0 1 0 0││1 1 1│0.1│0.9│0.9│200│0│1│0│││¯1 1 0 1│1 0 0 1│1 1 0 1│││2 ¯1 0 0│2 0 0 0││        │\n",
       "│ │0 0 1 0│└─────┴───┴───┴───┴───┴─┴─┴─┘│└────────┴───────┴───────┘│└────────┴───────┘│        │\n",
       "│ │0 0 0 1│                             │                          │                  │        │\n",
       "└─┴───────┴─────────────────────────────┴──────────────────────────┴──────────────────┴────────┘\n",
       "</span>"
      ]
     },
     "execution_count": 105,
     "metadata": {},
     "output_type": "execute_result"
    },
    {
     "data": {
      "text/html": [
       "<span style=\"white-space:pre; font-family: monospace\">┌─┬───────┬─────────────────────────────┬──────────────────────────┬─────────────────┬────────┐\n",
       "│7│1 0 0 0│┌─────┬───┬───┬───┬───┬─┬─┬─┐│┌────────┬───────┬───────┐│┌───────┬───────┐│0 0 ¯1 0│\n",
       "│ │0 1 0 0││1 1 1│0.1│0.9│0.9│200│0│1│0│││¯1 1 0 1│1 1 0 1│0 2 0 1│││2 0 0 0│1 1 0 0││        │\n",
       "│ │0 0 1 0│└─────┴───┴───┴───┴───┴─┴─┴─┘│└────────┴───────┴───────┘│└───────┴───────┘│        │\n",
       "│ │0 0 0 1│                             │                          │                 │        │\n",
       "└─┴───────┴─────────────────────────────┴──────────────────────────┴─────────────────┴────────┘\n",
       "</span>"
      ]
     },
     "execution_count": 105,
     "metadata": {},
     "output_type": "execute_result"
    },
    {
     "data": {
      "text/html": [
       "<span style=\"white-space:pre; font-family: monospace\">┌───┐\n",
       "│Yes│\n",
       "└───┘\n",
       "</span>"
      ]
     },
     "execution_count": 105,
     "metadata": {},
     "output_type": "execute_result"
    },
    {
     "data": {
      "text/html": [
       "<span style=\"white-space:pre; font-family: monospace\">┌───┐\n",
       "│Yes│\n",
       "└───┘\n",
       "</span>"
      ]
     },
     "execution_count": 105,
     "metadata": {},
     "output_type": "execute_result"
    },
    {
     "data": {
      "text/html": [
       "<span style=\"white-space:pre; font-family: monospace\">┌───┐\n",
       "│Yes│\n",
       "└───┘\n",
       "</span>"
      ]
     },
     "execution_count": 105,
     "metadata": {},
     "output_type": "execute_result"
    },
    {
     "data": {
      "text/html": [
       "<span style=\"white-space:pre; font-family: monospace\">┌───┐\n",
       "│Yes│\n",
       "└───┘\n",
       "</span>"
      ]
     },
     "execution_count": 105,
     "metadata": {},
     "output_type": "execute_result"
    },
    {
     "data": {
      "text/html": [
       "<span style=\"white-space:pre; font-family: monospace\">┌───┐\n",
       "│Yes│\n",
       "└───┘\n",
       "</span>"
      ]
     },
     "execution_count": 105,
     "metadata": {},
     "output_type": "execute_result"
    },
    {
     "data": {
      "text/html": [
       "<span style=\"white-space:pre; font-family: monospace\">┌───┐\n",
       "│Yes│\n",
       "└───┘\n",
       "</span>"
      ]
     },
     "execution_count": 105,
     "metadata": {},
     "output_type": "execute_result"
    },
    {
     "data": {
      "text/html": [
       "<span style=\"white-space:pre; font-family: monospace\">┌───┐\n",
       "│Yes│\n",
       "└───┘\n",
       "</span>"
      ]
     },
     "execution_count": 105,
     "metadata": {},
     "output_type": "execute_result"
    },
    {
     "data": {
      "text/html": [
       "<span style=\"white-space:pre; font-family: monospace\">┌───┐\n",
       "│Yes│\n",
       "└───┘\n",
       "</span>"
      ]
     },
     "execution_count": 105,
     "metadata": {},
     "output_type": "execute_result"
    },
    {
     "data": {
      "text/html": [
       "<span style=\"white-space:pre; font-family: monospace\">┌───┐\n",
       "│Yes│\n",
       "└───┘\n",
       "</span>"
      ]
     },
     "execution_count": 105,
     "metadata": {},
     "output_type": "execute_result"
    }
   ],
   "source": [
    "⍝ Parsing triangle faces\n",
    "f←  ⊂'v -1 1 0'\n",
    "f,← ⊂'v ¯1 0 0'\n",
    "f,← ⊂'v 1 0 0'\n",
    "f,← ⊂'v 1 1 0'\n",
    "f,← ⊂'f 1 2 3'\n",
    "f,← ⊂'f 1 3 4'\n",
    "f← 6 1⍴f\n",
    "p← parse_obj_file f\n",
    "⍴⊃p[1]\n",
    "⍴⊃p[2]\n",
    "⍝⊃p[2]\n",
    "g← ⊃p[2]\n",
    "+v← ⊃p[1]\n",
    "+t1← 1 group_members 1⊃g\n",
    "+t2← 1 group_members 2⊃g\n",
    "(⊃v[1]) yesno triangle_points 1 ⊃t1\n",
    "(⊃v[2]) yesno triangle_points 2 ⊃t1\n",
    "(⊃v[3]) yesno triangle_points 3 ⊃t1\n",
    "(⊃v[1]) yesno triangle_points 1 ⊃t2\n",
    "(⊃v[3]) yesno triangle_points 2 ⊃t2\n",
    "(⊃v[4]) yesno triangle_points 3 ⊃t2\n",
    "\n",
    "⍝ Triangulating polygons\n",
    "f←  ⊂'v -1 1 0'\n",
    "f,← ⊂'v ¯1 0 0'\n",
    "f,← ⊂'v 1 0 0'\n",
    "f,← ⊂'v 1 1 0'\n",
    "f,← ⊂'v 0 2 0'\n",
    "f,← ⊂'f 1 2 3 4 5'\n",
    "f← 6 1⍴f\n",
    "p← parse_obj_file f\n",
    "⍴⊃p[1]\n",
    "⍴⊃p[2]\n",
    "⍝⊃p[2]\n",
    "g← ⊃p[2]\n",
    "+v← ⊃p[1]\n",
    "+t1← 1 group_members 1⊃g\n",
    "+t2← 1 group_members 2⊃g\n",
    "+t3← 1 group_members 3⊃g\n",
    "(⊃v[1]) yesno triangle_points 1 ⊃t1\n",
    "(⊃v[2]) yesno triangle_points 2 ⊃t1\n",
    "(⊃v[3]) yesno triangle_points 3 ⊃t1\n",
    "(⊃v[1]) yesno triangle_points 1 ⊃t2\n",
    "(⊃v[3]) yesno triangle_points 2 ⊃t2\n",
    "(⊃v[4]) yesno triangle_points 3 ⊃t2\n",
    "(⊃v[1]) yesno triangle_points 1 ⊃t3\n",
    "(⊃v[4]) yesno triangle_points 2 ⊃t3\n",
    "(⊃v[5]) yesno triangle_points 3 ⊃t3\n"
   ]
  },
  {
   "cell_type": "markdown",
   "metadata": {},
   "source": [
    "```\n",
    "Scenario: Triangles in groups\n",
    "  Given file ← the file \"triangles.obj\"\n",
    "  When parser ← parse_obj_file(file)\n",
    "    And g1 ← \"FirstGroup\" from parser\n",
    "    And g2 ← \"SecondGroup\" from parser\n",
    "    And t1 ← first child of g1\n",
    "    And t2 ← first child of g2\n",
    "  Then t1.p1 = parser.vertices[1]\n",
    "    And t1.p2 = parser.vertices[2]\n",
    "    And t1.p3 = parser.vertices[3]\n",
    "    And t2.p1 = parser.vertices[1]\n",
    "    And t2.p2 = parser.vertices[3]\n",
    "    And t2.p3 = parser.vertices[4]\n",
    "\n",
    "Scenario: Converting an OBJ file to a group\n",
    "  Given file ← the file \"triangles.obj\"\n",
    "    And parser ← parse_obj_file(file)\n",
    "  When g ← obj_to_group(parser)\n",
    "  Then g includes \"FirstGroup\" from parser\n",
    "    And g includes \"SecondGroup\" from parser\n",
    "```"
   ]
  },
  {
   "cell_type": "code",
   "execution_count": 106,
   "metadata": {},
   "outputs": [
    {
     "data": {
      "text/html": [
       "<span style=\"white-space:pre; font-family: monospace\">┌────────┬────────┬───────┬───────┬┬────────────┬───────┬─────────────┬───────┬┐\n",
       "│v -1 1 0│v -1 0 0│v 1 0 0│v 1 1 0││g FirstGroup│f 1 2 3│g SecondGroup│f 1 3 4││\n",
       "└────────┴────────┴───────┴───────┴┴────────────┴───────┴─────────────┴───────┴┘\n",
       "</span>"
      ]
     },
     "execution_count": 106,
     "metadata": {},
     "output_type": "execute_result"
    },
    {
     "data": {
      "text/html": [
       "<span style=\"white-space:pre; font-family: monospace\">4\n",
       "</span>"
      ]
     },
     "execution_count": 106,
     "metadata": {},
     "output_type": "execute_result"
    },
    {
     "data": {
      "text/html": [
       "<span style=\"white-space:pre; font-family: monospace\">2\n",
       "</span>"
      ]
     },
     "execution_count": 106,
     "metadata": {},
     "output_type": "execute_result"
    },
    {
     "data": {
      "text/html": [
       "<span style=\"white-space:pre; font-family: monospace\">┌────────┬────────┬───────┬───────┐\n",
       "│¯1 1 0 1│¯1 0 0 1│1 0 0 1│1 1 0 1│\n",
       "└────────┴────────┴───────┴───────┘\n",
       "</span>"
      ]
     },
     "execution_count": 106,
     "metadata": {},
     "output_type": "execute_result"
    },
    {
     "data": {
      "text/html": [
       "<span style=\"white-space:pre; font-family: monospace\">┌─┬───────┬─────────────────────────────┬───────────────────────────┬───────────────────┬────────┐\n",
       "│7│1 0 0 0│┌─────┬───┬───┬───┬───┬─┬─┬─┐│┌────────┬────────┬───────┐│┌────────┬────────┐│0 0 ¯1 0│\n",
       "│ │0 1 0 0││1 1 1│0.1│0.9│0.9│200│0│1│0│││¯1 1 0 1│¯1 0 0 1│1 0 0 1│││0 ¯1 0 0│2 ¯1 0 0││        │\n",
       "│ │0 0 1 0│└─────┴───┴───┴───┴───┴─┴─┴─┘│└────────┴────────┴───────┘│└────────┴────────┘│        │\n",
       "│ │0 0 0 1│                             │                           │                   │        │\n",
       "└─┴───────┴─────────────────────────────┴───────────────────────────┴───────────────────┴────────┘\n",
       "</span>"
      ]
     },
     "execution_count": 106,
     "metadata": {},
     "output_type": "execute_result"
    },
    {
     "data": {
      "text/html": [
       "<span style=\"white-space:pre; font-family: monospace\">┌─┬───────┬─────────────────────────────┬──────────────────────────┬──────────────────┬────────┐\n",
       "│7│1 0 0 0│┌─────┬───┬───┬───┬───┬─┬─┬─┐│┌────────┬───────┬───────┐│┌────────┬───────┐│0 0 ¯1 0│\n",
       "│ │0 1 0 0││1 1 1│0.1│0.9│0.9│200│0│1│0│││¯1 1 0 1│1 0 0 1│1 1 0 1│││2 ¯1 0 0│2 0 0 0││        │\n",
       "│ │0 0 1 0│└─────┴───┴───┴───┴───┴─┴─┴─┘│└────────┴───────┴───────┘│└────────┴───────┘│        │\n",
       "│ │0 0 0 1│                             │                          │                  │        │\n",
       "└─┴───────┴─────────────────────────────┴──────────────────────────┴──────────────────┴────────┘\n",
       "</span>"
      ]
     },
     "execution_count": 106,
     "metadata": {},
     "output_type": "execute_result"
    },
    {
     "data": {
      "text/html": [
       "<span style=\"white-space:pre; font-family: monospace\">┌───┐\n",
       "│Yes│\n",
       "└───┘\n",
       "</span>"
      ]
     },
     "execution_count": 106,
     "metadata": {},
     "output_type": "execute_result"
    },
    {
     "data": {
      "text/html": [
       "<span style=\"white-space:pre; font-family: monospace\">┌───┐\n",
       "│Yes│\n",
       "└───┘\n",
       "</span>"
      ]
     },
     "execution_count": 106,
     "metadata": {},
     "output_type": "execute_result"
    },
    {
     "data": {
      "text/html": [
       "<span style=\"white-space:pre; font-family: monospace\">┌───┐\n",
       "│Yes│\n",
       "└───┘\n",
       "</span>"
      ]
     },
     "execution_count": 106,
     "metadata": {},
     "output_type": "execute_result"
    },
    {
     "data": {
      "text/html": [
       "<span style=\"white-space:pre; font-family: monospace\">┌───┐\n",
       "│Yes│\n",
       "└───┘\n",
       "</span>"
      ]
     },
     "execution_count": 106,
     "metadata": {},
     "output_type": "execute_result"
    },
    {
     "data": {
      "text/html": [
       "<span style=\"white-space:pre; font-family: monospace\">┌───┐\n",
       "│Yes│\n",
       "└───┘\n",
       "</span>"
      ]
     },
     "execution_count": 106,
     "metadata": {},
     "output_type": "execute_result"
    },
    {
     "data": {
      "text/html": [
       "<span style=\"white-space:pre; font-family: monospace\">┌───┐\n",
       "│Yes│\n",
       "└───┘\n",
       "</span>"
      ]
     },
     "execution_count": 106,
     "metadata": {},
     "output_type": "execute_result"
    }
   ],
   "source": [
    "+f← ReadAllLines 'triangles.obj'\n",
    "p← parse_obj_file f\n",
    "⍴⊃p[1]\n",
    "⍴⊃p[2]\n",
    "+v← ⊃p[1]\n",
    "g1← 2 1⊃p\n",
    "g2← 2 2⊃p\n",
    "+t1← group_members 1⊃g1\n",
    "+t2← group_members 1⊃g2\n",
    "(⊃v[1]) yesno triangle_points 1 ⊃t1\n",
    "(⊃v[2]) yesno triangle_points 2 ⊃t1\n",
    "(⊃v[3]) yesno triangle_points 3 ⊃t1\n",
    "(⊃v[1]) yesno triangle_points 1 ⊃t2\n",
    "(⊃v[3]) yesno triangle_points 2 ⊃t2\n",
    "(⊃v[4]) yesno triangle_points 3 ⊃t2\n"
   ]
  },
  {
   "cell_type": "markdown",
   "metadata": {},
   "source": [
    "```\n",
    "Feature: Smooth Triangles\n",
    "\n",
    "Background:\n",
    "  Given p1 ← point(0, 1, 0)\n",
    "    And p2 ← point(-1, 0, 0)\n",
    "    And p3 ← point(1, 0, 0)\n",
    "    And n1 ← vector(0, 1, 0)\n",
    "    And n2 ← vector(-1, 0, 0)\n",
    "    And n3 ← vector(1, 0, 0)\n",
    "  When tri ← smooth_triangle(p1, p2, p3, n1, n2, n3)\n",
    "\n",
    "Scenario: Constructing a smooth triangle\n",
    "  Then tri.p1 = p1\n",
    "    And tri.p2 = p2\n",
    "    And tri.p3 = p3\n",
    "    And tri.n1 = n1\n",
    "    And tri.n2 = n2\n",
    "    And tri.n3 = n3\n",
    "\n",
    "Scenario: An intersection with a smooth triangle stores u/v\n",
    "  When r ← ray(point(-0.2, 0.3, -2), vector(0, 0, 1))\n",
    "    And xs ← local_intersect(tri, r)\n",
    "  Then xs[0].u = 0.45\n",
    "    And xs[0].v = 0.25\n",
    "\n",
    "Scenario: A smooth triangle uses u/v to interpolate the normal\n",
    "  When i ← intersection_with_uv(1, tri, 0.45, 0.25)\n",
    "    And n ← normal_at(tri, point(0, 0, 0), i)\n",
    "  Then n = vector(-0.5547, 0.83205, 0)\n",
    "\n",
    "Scenario: Preparing the normal on a smooth triangle\n",
    "  When i ← intersection_with_uv(1, tri, 0.45, 0.25)\n",
    "    And r ← ray(point(-0.2, 0.3, -2), vector(0, 0, 1))\n",
    "    And xs ← intersections(i)\n",
    "    And comps ← prepare_computations(i, r, xs)\n",
    "  Then comps.normalv = vector(-0.5547, 0.83205, 0)\n",
    "```\n",
    "The second test was **failing** because the computed vector wasn't normalized. That vector is being negated by **prepare_computations** because it occurs ***inside*** the triangle! Need to figure out why, since a triangle (like a plane) doesn't have an \"inside\" to it."
   ]
  },
  {
   "cell_type": "code",
   "execution_count": 107,
   "metadata": {},
   "outputs": [
    {
     "data": {
      "text/html": [
       "<span style=\"white-space:pre; font-family: monospace\">0.45\n",
       "</span>"
      ]
     },
     "execution_count": 107,
     "metadata": {},
     "output_type": "execute_result"
    },
    {
     "data": {
      "text/html": [
       "<span style=\"white-space:pre; font-family: monospace\">0.25\n",
       "</span>"
      ]
     },
     "execution_count": 107,
     "metadata": {},
     "output_type": "execute_result"
    },
    {
     "data": {
      "text/html": [
       "<span style=\"white-space:pre; font-family: monospace\">┌───┐\n",
       "│Yes│\n",
       "└───┘\n",
       "</span>"
      ]
     },
     "execution_count": 107,
     "metadata": {},
     "output_type": "execute_result"
    },
    {
     "data": {
      "text/html": [
       "<span style=\"white-space:pre; font-family: monospace\">┌───┐\n",
       "│Yes│\n",
       "└───┘\n",
       "</span>"
      ]
     },
     "execution_count": 107,
     "metadata": {},
     "output_type": "execute_result"
    },
    {
     "data": {
      "text/html": [
       "<span style=\"white-space:pre; font-family: monospace\">¯0.5547 0.83205 0 0\n",
       "</span>"
      ]
     },
     "execution_count": 107,
     "metadata": {},
     "output_type": "execute_result"
    },
    {
     "data": {
      "text/html": [
       "<span style=\"white-space:pre; font-family: monospace\">┌───┐\n",
       "│Yes│\n",
       "└───┘\n",
       "</span>"
      ]
     },
     "execution_count": 107,
     "metadata": {},
     "output_type": "execute_result"
    },
    {
     "data": {
      "text/html": [
       "<span style=\"white-space:pre; font-family: monospace\">0.5547 ¯0.83205 0 0\n",
       "</span>"
      ]
     },
     "execution_count": 107,
     "metadata": {},
     "output_type": "execute_result"
    },
    {
     "data": {
      "text/html": [
       "<span style=\"white-space:pre; font-family: monospace\">┌──┐\n",
       "│No│\n",
       "└──┘\n",
       "</span>"
      ]
     },
     "execution_count": 107,
     "metadata": {},
     "output_type": "execute_result"
    }
   ],
   "source": [
    "p1← point 0 1 0\n",
    "p2← point ¯1 0 0\n",
    "p3← point 1 0 0\n",
    "n1← vector 0 1 0\n",
    "n2← vector ¯1 0 0\n",
    "n3← vector 1 0 0\n",
    "tri← smtriangle p1 p2 p3 n1 n2 n3\n",
    "\n",
    "⍝ An intersection with a smooth triangle stores u/v\n",
    "⍝ Because of my implementation, u/v are stored in the smooth triangle of intersection\n",
    "r← (point ¯0.2 0.3 ¯2) ray vector 0 0 1\n",
    "xs← tri smtriangle_intersect r\n",
    "1 hit_object smtriangle_u ⊃xs\n",
    "1 hit_object smtriangle_v ⊃xs\n",
    ".45 yesno 1 hit_object smtriangle_u ⊃xs\n",
    ".25 yesno 1 hit_object smtriangle_v ⊃xs\n",
    "\n",
    "⍝ A smooth triangle uses u/v to interpolate the normal\n",
    "i← tri smtriangle_intersect r\n",
    "+n← (1 hit_object ⊃i) smtriangle_normal_at r\n",
    "(vector ¯0.5547 0.83205 0) yesno  9 5 roundMN n\n",
    "\n",
    "⍝ Preparing the normal on a smooth triangle\n",
    "comps← (⊃xs[1]) prepare_computations r\n",
    "+nv← ⊃comps[hit_normalv]\n",
    "(vector ¯0.5547 0.83205 0) yesno 9 5 roundMN nv"
   ]
  },
  {
   "cell_type": "markdown",
   "metadata": {},
   "source": [
    "```\n",
    "Scenario: Vertex normal records\n",
    "  Given file ← a file containing:\n",
    "    \"\"\"\n",
    "    vn 0 0 1\n",
    "    vn 0.707 0 -0.707\n",
    "    vn 1 2 3\n",
    "    \"\"\"\n",
    "  When parser ← parse_obj_file(file)\n",
    "  Then parser.normals[1] = vector(0, 0, 1)\n",
    "    And parser.normals[2] = vector(0.707, 0, -0.707)\n",
    "    And parser.normals[3] = vector(1, 2, 3)\n",
    "\n",
    "Scenario: Faces with normals\n",
    "  Given file ← a file containing:\n",
    "    \"\"\"\n",
    "    v 0 1 0\n",
    "    v -1 0 0\n",
    "    v 1 0 0\n",
    "\n",
    "    vn -1 0 0\n",
    "    vn 1 0 0\n",
    "    vn 0 1 0\n",
    "\n",
    "    f 1//3 2//1 3//2\n",
    "    f 1/0/3 2/102/1 3/14/2\n",
    "    \"\"\"\n",
    "  When parser ← parse_obj_file(file)\n",
    "    And g ← parser.default_group\n",
    "    And t1 ← first child of g\n",
    "    And t2 ← second child of g\n",
    "  Then t1.p1 = parser.vertices[1]\n",
    "    And t1.p2 = parser.vertices[2]\n",
    "    And t1.p3 = parser.vertices[3]\n",
    "    And t1.n1 = parser.normals[3]\n",
    "    And t1.n2 = parser.normals[1]\n",
    "    And t1.n3 = parser.normals[2]\n",
    "    And t2 = t1\n",
    "```"
   ]
  },
  {
   "cell_type": "code",
   "execution_count": null,
   "metadata": {},
   "outputs": [],
   "source": []
  }
 ],
 "metadata": {
  "kernelspec": {
   "display_name": "Dyalog APL",
   "language": "apl",
   "name": "dyalog-kernel"
  },
  "language_info": {
   "file_extension": ".apl",
   "mimetype": "text/apl",
   "name": "APL"
  }
 },
 "nbformat": 4,
 "nbformat_minor": 2
}
