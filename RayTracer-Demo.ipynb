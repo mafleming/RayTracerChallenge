{
 "cells": [
  {
   "cell_type": "markdown",
   "metadata": {},
   "source": [
    "# The Ray Tracer Challenge\n",
    "## A Test-Driven Guide to Your First 3D Renderer\n",
    "### by James Buck\n",
    "\n",
    ">Brace yourself for a fun challenge: build a photorealistic 3D renderer from scratch! It’s easier than you think. In just a couple of weeks, build a ray tracer that renders beautiful scenes with shadows, reflections, brilliant refraction effects, and subjects composed of various graphics primitives: spheres, cubes, cylinders, triangles, and more. With each chapter, implement another piece of the puzzle and move the renderer that much further forward. Do all of this in whichever language and environment you prefer, and do it entirely test-first, so you know it’s correct. Recharge yourself with this project’s immense potential for personal exploration, experimentation, and discovery.\n",
    "\n",
    "Opening quote from the beta ebook copy, September 2018. Publication due November 2018 (now February 2019). For details, see\n",
    "\n",
    "https://pragprog.com/book/jbtracer/the-ray-tracer-challenge\n",
    "\n",
    "This Jupyter notebook will showcase the demos at the end of each book chapter. The PPM graphic files can be viewed by the GIMP graphic program. GIMP was used to export each ray tracer generated file as a GIF file for display in this notebook."
   ]
  },
  {
   "cell_type": "markdown",
   "metadata": {},
   "source": [
    "# Workspace Management\n",
    "I can load and save a workspace, which is the means by which I can separate notebooks containing test cases from a code development notebook. One thing seems notable; reducing the number of cells in a notebook reduces the time it takes to load the notebook. I've been combining multiple related test cases into a single markdown cell and their implementation in another code cell. Well worth continuing to do so."
   ]
  },
  {
   "cell_type": "code",
   "execution_count": 1,
   "metadata": {},
   "outputs": [
    {
     "data": {
      "text/html": [
       "<span style=\"white-space:pre; font-family: monospace\">C:/Users/Mark/Jupyter/\n",
       "</span>"
      ]
     },
     "execution_count": 1,
     "metadata": {},
     "output_type": "execute_result"
    },
    {
     "data": {
      "text/html": [
       "<span style=\"white-space:pre; font-family: monospace\">was \n",
       "</span>"
      ]
     },
     "execution_count": 1,
     "metadata": {},
     "output_type": "execute_result"
    },
    {
     "data": {
      "text/html": [
       "<span style=\"white-space:pre; font-family: monospace\">.\\rtcode_ws.dws saved Fri Mar 22 17:53:06 2019\n",
       "</span>"
      ]
     },
     "execution_count": 1,
     "metadata": {},
     "output_type": "execute_result"
    },
    {
     "data": {
      "text/html": [
       "<span style=\"white-space:pre; font-family: monospace\">#\n",
       "</span>"
      ]
     },
     "execution_count": 1,
     "metadata": {},
     "output_type": "execute_result"
    },
    {
     "data": {
      "text/html": [
       "<span style=\"white-space:pre; font-family: monospace\">RayTracer       \n",
       "</span>"
      ]
     },
     "execution_count": 1,
     "metadata": {},
     "output_type": "execute_result"
    }
   ],
   "source": [
    "⊃1 ⎕NPARTS ''\n",
    ")WSID rtcode_ws\n",
    ")load rtcode_ws\n",
    ")CS\n",
    ")objects\n",
    ")fns\n",
    ")vars\n",
    "⎕PATH←'#.RayTracer'"
   ]
  },
  {
   "cell_type": "markdown",
   "metadata": {},
   "source": [
    "Some possible utility functions."
   ]
  },
  {
   "cell_type": "code",
   "execution_count": 2,
   "metadata": {},
   "outputs": [
    {
     "data": {
      "text/html": [
       "<span style=\"white-space:pre; font-family: monospace\">E:\\Mark\\APL\\Dyalog\\APL_Files\\dfns.dws saved Sat May  5 02:58:11 2018\n",
       "</span>"
      ]
     },
     "execution_count": 2,
     "metadata": {},
     "output_type": "execute_result"
    }
   ],
   "source": [
    " )copy dfns time"
   ]
  },
  {
   "cell_type": "markdown",
   "metadata": {},
   "source": [
    "# Changes and Updates\n",
    "I'm using Reach Indexing now to alter material settings for objects. Previously I would create a custom material and assign it to an object. What's more, I would index attributes one at a time in some of the earlier demos and test cases. Not too efficient!"
   ]
  },
  {
   "cell_type": "markdown",
   "metadata": {},
   "source": [
    "# Chapter 3 Demo\n",
    "This demo is a simple projectile simulation plotted on a canvas."
   ]
  },
  {
   "cell_type": "code",
   "execution_count": 3,
   "metadata": {},
   "outputs": [
    {
     "data": {
      "text/html": [
       "<span style=\"white-space:pre; font-family: monospace\">#\n",
       "</span>"
      ]
     },
     "execution_count": 3,
     "metadata": {},
     "output_type": "execute_result"
    }
   ],
   "source": [
    ")CS #\n",
    "⎕PATH←'RayTracer'\n",
    "projectile←{(⊂⍺),⊂⍵}\n",
    "wrld←{(⊂⍺),⊂⍵}"
   ]
  },
  {
   "cell_type": "code",
   "execution_count": 4,
   "metadata": {},
   "outputs": [],
   "source": [
    "∇ Z← W Tick P;position;velocity\n",
    "position←(⊃P[1])+⊃P[2]\n",
    "velocity←(⊃P[2])+(⊃W[1])+⊃W[2]\n",
    "Z← position projectile velocity\n",
    "∇"
   ]
  },
  {
   "cell_type": "code",
   "execution_count": 5,
   "metadata": {},
   "outputs": [
    {
     "data": {
      "text/html": [
       "<span style=\"white-space:pre; font-family: monospace\">┌───────┬───────────────────────────┐\n",
       "│0 1 0 1│5.463482976 9.834269356 0 0│\n",
       "└───────┴───────────────────────────┘\n",
       "</span>"
      ]
     },
     "execution_count": 5,
     "metadata": {},
     "output_type": "execute_result"
    },
    {
     "data": {
      "text/html": [
       "<span style=\"white-space:pre; font-family: monospace\">┌──────────┬───────────┐\n",
       "│0 ¯0.1 0 0│¯0.01 0 0 0│\n",
       "└──────────┴───────────┘\n",
       "</span>"
      ]
     },
     "execution_count": 5,
     "metadata": {},
     "output_type": "execute_result"
    }
   ],
   "source": [
    "start← point 0 1 0\n",
    "velocity← 11.25×normalize vector 1 1.8 0\n",
    "+p← start projectile velocity\n",
    "gravity← vector 0 ¯0.1 0\n",
    "wind← vector ¯0.01 0 0\n",
    "+w← gravity wrld wind"
   ]
  },
  {
   "cell_type": "code",
   "execution_count": 6,
   "metadata": {},
   "outputs": [],
   "source": [
    "∇Z← trajectory Params ;W;P;X;Y;c;limit;x;y\n",
    "  (W P X Y)← Params\n",
    "  c← canvas X Y\n",
    "  limit← 1\n",
    "  height← Y\n",
    "  :While (limit<300)^0<0 1 0 0/⊃1↑P\n",
    "    P← W Tick P\n",
    "    (x y)← ⌊0.5+1 1 0 0/⊃1↑P\n",
    "    x← 1⌈X⌊x ⋄ y← 1⌈Y⌊height-y\n",
    "    ⍝ c[y;x]← ⊂1 0 0\n",
    "    ((y x)⊃c)← 1 0 0\n",
    "    limit +← 1\n",
    "  :Endwhile\n",
    "  Z← canvas_to_ppm c\n",
    "∇"
   ]
  },
  {
   "cell_type": "code",
   "execution_count": 7,
   "metadata": {},
   "outputs": [
    {
     "data": {
      "text/html": [
       "<span style=\"white-space:pre; font-family: monospace\">┌───────┐\n",
       "│P3     │\n",
       "├───────┤\n",
       "│900 550│\n",
       "├───────┤\n",
       "│255    │\n",
       "└───────┘\n",
       "</span>"
      ]
     },
     "execution_count": 7,
     "metadata": {},
     "output_type": "execute_result"
    },
    {
     "data": {
      "text/html": [
       "<span style=\"white-space:pre; font-family: monospace\">6237189\n",
       "</span>"
      ]
     },
     "execution_count": 7,
     "metadata": {},
     "output_type": "execute_result"
    }
   ],
   "source": [
    "ppm← trajectory w p 900 550\n",
    "ppm[1 2 3;]\n",
    "'trajectory.ppm' savePPM ppm"
   ]
  },
  {
   "cell_type": "markdown",
   "metadata": {},
   "source": [
    "And the resulting image is, after conversion from ppm to gif by GIMP:\n",
    "<img src=\"trajectory.gif\">"
   ]
  },
  {
   "cell_type": "markdown",
   "metadata": {},
   "source": [
    "# Chapter 4 Demo\n",
    "This demo uses rotation to compute the positions of the hours on a clock face."
   ]
  },
  {
   "cell_type": "code",
   "execution_count": 8,
   "metadata": {},
   "outputs": [],
   "source": [
    "∇ Z←clock C;r;c;cl;cx;cy;p2;p;idx;x;y;t\n",
    "   (r c)← ⍴C\n",
    "   cl← ¯10+⌊0.5×r⌈c\n",
    "   (cx cy)← ⌊0.5×⍴C\n",
    "   p2←p← point 0 cl 0\n",
    "   :For idx :In ⍳12\n",
    "      x← ⌊0.5+p2[1] ⋄ y← ⌊0.5+p2[2]\n",
    "      ⍝ C[cx+x+¯2+⍳3;cy+y+¯2+⍳3]← ⊂1 1 1\n",
    "      :For xx :In cx+x+¯2+⍳3\n",
    "         :For yy :In cy+y+¯2+⍳3\n",
    "            ((yy xx)⊃C)← 1 1 1\n",
    "         :EndFor\n",
    "      :EndFor\n",
    "      t← rotation_z idx×○÷6\n",
    "      p2← t +.× p\n",
    "      :EndFor\n",
    "   Z← canvas_to_ppm C\n",
    "∇"
   ]
  },
  {
   "cell_type": "code",
   "execution_count": 9,
   "metadata": {},
   "outputs": [
    {
     "data": {
      "text/html": [
       "<span style=\"white-space:pre; font-family: monospace\">#\n",
       "</span>"
      ]
     },
     "execution_count": 9,
     "metadata": {},
     "output_type": "execute_result"
    },
    {
     "data": {
      "text/html": [
       "<span style=\"white-space:pre; font-family: monospace\">504189\n",
       "</span>"
      ]
     },
     "execution_count": 9,
     "metadata": {},
     "output_type": "execute_result"
    }
   ],
   "source": [
    ")CS #\n",
    "⎕PATH←'RayTracer'\n",
    "c← canvas 200 200\n",
    "ppm← clock c\n",
    "'clock.ppm' savePPM ppm"
   ]
  },
  {
   "cell_type": "markdown",
   "metadata": {},
   "source": [
    "And here is the resulting image, converted to a GIF by GIMP\n",
    "<img src=\"clock.gif\">"
   ]
  },
  {
   "cell_type": "markdown",
   "metadata": {},
   "source": [
    "# Chapter 5 Demo\n",
    "Here's our first real ray tracing! This will not work as written because the structure of a canvas has changed. Update this later."
   ]
  },
  {
   "cell_type": "code",
   "execution_count": 10,
   "metadata": {},
   "outputs": [
    {
     "data": {
      "text/html": [
       "<span style=\"white-space:pre; font-family: monospace\">#\n",
       "</span>"
      ]
     },
     "execution_count": 10,
     "metadata": {},
     "output_type": "execute_result"
    }
   ],
   "source": [
    ")CS #\n",
    "⎕PATH←'RayTracer'\n",
    "rayorigin← point 0 0 ¯5\n",
    "wall_z← 10\n",
    "wall_size← 7.0\n",
    "canvas_pixels← 100\n",
    "pixel_size← wall_size÷canvas_pixels\n",
    "half← wall_size÷2\n",
    "color← 1 0 0\n",
    "ball← sphere"
   ]
  },
  {
   "cell_type": "code",
   "execution_count": 11,
   "metadata": {},
   "outputs": [],
   "source": [
    "∇ Z← raycast C;row;col;pos;xs\n",
    "  :For row :In ⍳canvas_pixels\n",
    "    wy← half-pixel_size×row\n",
    "    :For col :In ⍳canvas_pixels\n",
    "      wx← (-half)+pixel_size×col\n",
    "      pos← point wx wy wall_z\n",
    "      r← rayorigin RayTracer.ray normalize pos-rayorigin\n",
    "      xs← ball intersect r\n",
    "      :If ⍬≢ hit xs\n",
    "        ⍝ C[row;col]← color\n",
    "        ((row col)⊃C)← color\n",
    "        :EndIf\n",
    "      :EndFor\n",
    "    :EndFor\n",
    "  Z← canvas_to_ppm C\n",
    "∇"
   ]
  },
  {
   "cell_type": "code",
   "execution_count": 12,
   "metadata": {},
   "outputs": [
    {
     "data": {
      "text/html": [
       "<span style=\"white-space:pre; font-family: monospace\">126189\n",
       "</span>"
      ]
     },
     "execution_count": 12,
     "metadata": {},
     "output_type": "execute_result"
    }
   ],
   "source": [
    "c← canvas canvas_pixels canvas_pixels\n",
    "ppm← raycast c\n",
    "'raytest.ppm' savePPM ppm"
   ]
  },
  {
   "cell_type": "markdown",
   "metadata": {},
   "source": [
    "And the results are (in gif format thanks to GIMP):\n",
    "<img src=\"raytest.gif\">"
   ]
  },
  {
   "cell_type": "markdown",
   "metadata": {},
   "source": [
    "# Chapter 6 Demo\n",
    "Take the code from the previous chapter that produced a silhouette of a sphere and show the actual sphere.\n",
    "\n",
    "This demo will also not work as written until the code is altered to match the new canvas structure."
   ]
  },
  {
   "cell_type": "code",
   "execution_count": 13,
   "metadata": {},
   "outputs": [
    {
     "data": {
      "text/html": [
       "<span style=\"white-space:pre; font-family: monospace\">#\n",
       "</span>"
      ]
     },
     "execution_count": 13,
     "metadata": {},
     "output_type": "execute_result"
    },
    {
     "data": {
      "text/html": [
       "<span style=\"white-space:pre; font-family: monospace\">┌─┬───────┬───────┬───────────────────────────────┐\n",
       "│1│1 0 0 0│1 0 0 0│┌───────┬───┬───┬───┬───┬─┬─┬─┐│\n",
       "│ │0 1 0 0│0 1 0 0││1 0.2 1│0.1│0.9│0.9│200│0│1│0││\n",
       "│ │0 0 1 0│0 0 1 0│└───────┴───┴───┴───┴───┴─┴─┴─┘│\n",
       "│ │0 0 0 1│0 0 0 1│                               │\n",
       "└─┴───────┴───────┴───────────────────────────────┘\n",
       "</span>"
      ]
     },
     "execution_count": 13,
     "metadata": {},
     "output_type": "execute_result"
    },
    {
     "data": {
      "text/html": [
       "<span style=\"white-space:pre; font-family: monospace\">┌────────────┬─────┐\n",
       "│¯10 10 ¯10 1│1 1 1│\n",
       "└────────────┴─────┘\n",
       "</span>"
      ]
     },
     "execution_count": 13,
     "metadata": {},
     "output_type": "execute_result"
    }
   ],
   "source": [
    ")CS #\n",
    "⎕PATH←'RayTracer'\n",
    "rayorigin← point 0 0 ¯5\n",
    "wall_z← 10\n",
    "wall_size← 7.0\n",
    "canvas_pixels← 100\n",
    "pixel_size← wall_size÷canvas_pixels\n",
    "half← wall_size÷2\n",
    "color← ⊂1 0 0\n",
    "ball← sphere\n",
    "⍝ Newly added settings\n",
    "m← material\n",
    "m[RayTracer.material_color]← ⊂1 0.2 1\n",
    "ball[RayTracer.obj_material]← ⊂m\n",
    "ball\n",
    "+light← (point ¯10 10 ¯10) RayTracer.point_light 1 1 1"
   ]
  },
  {
   "cell_type": "code",
   "execution_count": 14,
   "metadata": {},
   "outputs": [],
   "source": [
    "∇ Z← lightraycast C;row;col;world_y;world_x;pos;r;xs;rhit;s;t;pt;norm;mt\n",
    "  :For row :In ⍳canvas_pixels\n",
    "    world_y← half-pixel_size×row\n",
    "    :For col :In ⍳canvas_pixels\n",
    "      world_x← (-half)+pixel_size×col\n",
    "      pos← point world_x world_y wall_z\n",
    "      r← rayorigin RayTracer.ray normalize pos-rayorigin\n",
    "      xs← ball intersect r\n",
    "      :If 1<⍴ hit xs\n",
    "        rhit← hit xs\n",
    "        s←⊃rhit[RayTracer.hit_object]   ⍝ This mixed vector (sphere object) needs to be disclosed\n",
    "        t← rhit[RayTracer.hit_distance]    ⍝ This scalar (distance) does not\n",
    "        pt← r position t\n",
    "        norm← s normal_at pt\n",
    "        eye← -⊃r[RayTracer.ray_direction]  ⍝ This mixed array (vector) needs to be disclosed\n",
    "        mt←⊃s[RayTracer.obj_material]     ⍝ This mixed array (material) needs to be disclosed\n",
    "        color← lighting mt light pt eye norm 0 ball\n",
    "        ⍝ C[row;col]← ⊂color\n",
    "        ((row col)⊃C)← color\n",
    "        :EndIf\n",
    "      :EndFor\n",
    "    :EndFor\n",
    "  Z← canvas_to_ppm C\n",
    "∇"
   ]
  },
  {
   "cell_type": "code",
   "execution_count": 15,
   "metadata": {},
   "outputs": [
    {
     "data": {
      "text/html": [
       "<span style=\"white-space:pre; font-family: monospace\">126189\n",
       "</span>"
      ]
     },
     "execution_count": 15,
     "metadata": {},
     "output_type": "execute_result"
    }
   ],
   "source": [
    "c← canvas canvas_pixels canvas_pixels\n",
    "ppm← lightraycast c\n",
    "'lighttest.ppm' savePPM ppm"
   ]
  },
  {
   "cell_type": "markdown",
   "metadata": {},
   "source": [
    "And, the ray trace result looks like this\n",
    "\n",
    "<img src=\"lighttest.gif\">"
   ]
  },
  {
   "cell_type": "markdown",
   "metadata": {},
   "source": [
    "# Chapter 7 Demo\n",
    "This is a scene constructed entirely from Sphere objects. The walls are really just flattened spheres caused by the **scaling** function.\n",
    "\n",
    "**Note:** I had to break the transform matrix assignment down into two steps to reduce the length of the line. A long line was causing a failure of the Jupyter APL kernel. There must be a line length limitation in the bridge between a notebook and the background APL interpreter."
   ]
  },
  {
   "cell_type": "code",
   "execution_count": 16,
   "metadata": {},
   "outputs": [
    {
     "data": {
      "text/html": [
       "<span style=\"white-space:pre; font-family: monospace\">#\n",
       "</span>"
      ]
     },
     "execution_count": 16,
     "metadata": {},
     "output_type": "execute_result"
    }
   ],
   "source": [
    ")CS #\n",
    "⎕PATH←'RayTracer'\n",
    "floor← sphere\n",
    "⍝ floor[obj_transform]← ⊂ scaling 10 0.01 10\n",
    "floor← floor add_shape_transform scaling 10 0.01 10\n",
    "m← material\n",
    "m[RayTracer.material_color]← ⊂1 0.9 0.9\n",
    "m[RayTracer.material_specular]← 0\n",
    "floor[RayTracer.obj_material]← ⊂m\n",
    "\n",
    "left_wall← sphere\n",
    "⍝ left_wall[obj_transform]← ⊂(translation 0 0 5) +.× (rotation_y ○ ¯0.25) +.× (rotation_x ○ 0.5) +.× scaling 10 0.01 10\n",
    "t← (translation 0 0 5) +.× (rotation_y ○ ¯0.25) +.× (rotation_x ○ 0.5) +.× scaling 10 0.01 10\n",
    "left_wall← left_wall add_shape_transform t\n",
    "left_wall[RayTracer.obj_material]← floor[RayTracer.obj_material]\n",
    "\n",
    "right_wall← sphere\n",
    "⍝ right_wall[obj_transform]← ⊂(translation 0 0 5) +.× (rotation_y ○ 0.25) +.× (rotation_x ○ 0.5) +.× scaling 10 0.01 10\n",
    "t← (translation 0 0 5) +.× (rotation_y ○ 0.25) +.× (rotation_x ○ 0.5) +.× scaling 10 0.01 10\n",
    "right_wall← right_wall add_shape_transform t\n",
    "right_wall[RayTracer.obj_material]← floor[RayTracer.obj_material]\n",
    "\n",
    "middle← sphere\n",
    "⍝ middle[obj_transform]← ⊂translation ¯0.5 1 0.5\n",
    "middle← middle add_shape_transform translation ¯0.5 1 0.5\n",
    "m← material\n",
    "m[RayTracer.material_color]← ⊂0.1 1 0.5\n",
    "m[RayTracer.material_diffuse]← 0.7\n",
    "m[RayTracer.material_specular]← 0.3\n",
    "middle[RayTracer.obj_material]← ⊂m\n",
    "\n",
    "right← sphere\n",
    "⍝ right[obj_transform]← ⊂ (translation 1.5 0.5 ¯0.5) +.× scaling 0.5 0.5 0.5\n",
    "right← right add_shape_transform (translation 1.5 0.5 ¯0.5) +.× scaling 0.5 0.5 0.5\n",
    "m← material\n",
    "m[RayTracer.material_color]← ⊂0.5 1 0.1\n",
    "m[RayTracer.material_diffuse]← 0.7\n",
    "m[RayTracer.material_specular]← 0.3\n",
    "right[RayTracer.obj_material]← ⊂m\n",
    "\n",
    "left← sphere\n",
    "⍝ left[obj_transform]← ⊂ (translation ¯1.5 0.33 ¯0.75) +.× scaling 0.33 0.33 0.33\n",
    "left← left add_shape_transform (translation ¯1.5 0.33 ¯0.75) +.× scaling 0.33 0.33 0.33\n",
    "m← material\n",
    "m[RayTracer.material_color]← ⊂1 0.8 0.1\n",
    "m[RayTracer.material_diffuse]← 0.7\n",
    "m[RayTracer.material_specular]← 0.3\n",
    "left[RayTracer.obj_material]← ⊂m\n",
    "\n",
    "w← world\n",
    "w[1]← ⊂⊂ (point ¯10 10 ¯10) RayTracer.point_light 1 1 1\n",
    "w[2]← ⊂ floor left_wall right_wall middle left right\n",
    "\n"
   ]
  },
  {
   "cell_type": "code",
   "execution_count": 17,
   "metadata": {},
   "outputs": [],
   "source": [
    "\n",
    "c← camera 400 200 (○ ÷3)\n",
    "c[RayTracer.camera_transform]← ⊂ view_transform (point 0 1.5 ¯5) (point 0 1 0) (vector 0 1 0)\n",
    "c[RayTracer.camera_inverse]← ⊂ ⌹view_transform (point 0 1.5 ¯5) (point 0 1 0) (vector 0 1 0)\n"
   ]
  },
  {
   "cell_type": "code",
   "execution_count": 18,
   "metadata": {},
   "outputs": [
    {
     "data": {
      "text/html": [
       "<span style=\"white-space:pre; font-family: monospace\">17.82\n",
       "</span>"
      ]
     },
     "execution_count": 18,
     "metadata": {},
     "output_type": "execute_result"
    }
   ],
   "source": [
    "im← w render #.time c"
   ]
  },
  {
   "cell_type": "code",
   "execution_count": 19,
   "metadata": {},
   "outputs": [
    {
     "data": {
      "text/html": [
       "<span style=\"white-space:pre; font-family: monospace\">1008189\n",
       "</span>"
      ]
     },
     "execution_count": 19,
     "metadata": {},
     "output_type": "execute_result"
    }
   ],
   "source": [
    "ppm← canvas_to_ppm im\n",
    "'Chap7.ppm' savePPM ppm"
   ]
  },
  {
   "cell_type": "markdown",
   "metadata": {},
   "source": [
    "Hurrah! Here's a rendered image, converted to GIF by GIMP.\n",
    "\n",
    "<img src=\"Chap7.gif\">"
   ]
  },
  {
   "cell_type": "markdown",
   "metadata": {},
   "source": [
    "# Chapter 8 Demo\n",
    "The demo is shown but not described. Here is a description from the official web site:<br>\n",
    "http://forum.raytracerchallenge.com/thread/2/shadow-puppets-scene-description\n",
    "\n",
    "```\n",
    "# ======================================================\n",
    "# puppets.yml\n",
    "#\n",
    "# This file describes the scene illustrated at the end\n",
    "# of chapter 8, \"Shadows\", in \"The Ray Tracer Challenge\"\n",
    "#\n",
    "# by Jamis Buck <jamis@jamisbuck.org>\n",
    "# ======================================================\n",
    "\n",
    "# ======================================================\n",
    "# the camera\n",
    "# ======================================================\n",
    "\n",
    "- add: camera\n",
    "  width: 400\n",
    "  height: 200\n",
    "  field-of-view: 0.524\n",
    "  from: [ 40, 0, -70 ]\n",
    "  to: [ 0, 0, -5 ]\n",
    "  up: [ 0, 1, 0 ]\n",
    "\n",
    "# ======================================================\n",
    "# light sources\n",
    "# ======================================================\n",
    "\n",
    "- add: light\n",
    "  at: [ 0, 0, -100 ]\n",
    "  intensity: [ 1, 1, 1 ]\n",
    "\n",
    "# ======================================================\n",
    "# define some constants to avoid duplication\n",
    "# ======================================================\n",
    "\n",
    "- define: sphere-material\n",
    "  value:\n",
    "    ambient: 0.2\n",
    "    diffuse: 0.8\n",
    "    specular: 0.3\n",
    "    shininess: 200\n",
    "\n",
    "- define: wrist-material\n",
    "  extend: sphere-material\n",
    "  value:\n",
    "    color: [ 0.1, 1, 1 ]\n",
    "\n",
    "- define: palm-material\n",
    "  extend: sphere-material\n",
    "  value:\n",
    "    color: [ 0.1, 0.1, 1 ]\n",
    "\n",
    "- define: thumb-material\n",
    "  extend: sphere-material\n",
    "  value:\n",
    "    color: [ 0.1, 0.1, 1 ]\n",
    "\n",
    "- define: index-material\n",
    "  extend: sphere-material\n",
    "  value:\n",
    "    color: [ 1, 1, 0.1 ]\n",
    "\n",
    "- define: middle-material\n",
    "  extend: sphere-material\n",
    "  value:\n",
    "    color: [ 0.1, 1, 0.5 ]\n",
    "\n",
    "- define: ring-material\n",
    "  extend: sphere-material\n",
    "  value:\n",
    "    color: [ 0.1, 1, 0.1 ]\n",
    "\n",
    "- define: pinky-material\n",
    "  extend: sphere-material\n",
    "  value:\n",
    "    color: [ 0.1, 0.5, 1 ]\n",
    "\n",
    "# ======================================================\n",
    "# a backdrop onto which to cast the shadow\n",
    "# ======================================================\n",
    "\n",
    "- add: sphere\n",
    "  material:\n",
    "    color: [ 1, 1, 1 ]\n",
    "    ambient: 0\n",
    "    diffuse: 0.5\n",
    "    specular: 0\n",
    "  transform:\n",
    "    - [ scale, 200, 200, 0.01 ]\n",
    "    - [ translate, 0, 0, 20 ]\n",
    "\n",
    "# ======================================================\n",
    "# describe the elements of the scene\n",
    "# ======================================================\n",
    "\n",
    "# the wrist\n",
    "- add: sphere\n",
    "  material: wrist-material\n",
    "  transform:\n",
    "    - [ scale, 3, 3, 3 ]\n",
    "    - [ translate, -4, 0, -21 ]\n",
    "    - [ rotate-z, 0.785398163397448 ] # pi/4\n",
    "\n",
    "# the palm\n",
    "- add: sphere\n",
    "  material: palm-material\n",
    "  transform:\n",
    "    - [ scale, 4, 3, 3 ]\n",
    "    - [ translate, 0, 0, -15 ]\n",
    "\n",
    "# the thumb\n",
    "- add: sphere\n",
    "  material: thumb-material\n",
    "  transform:\n",
    "    - [ scale, 1, 3, 1 ]\n",
    "    - [ translate, -2, 2, -16 ]\n",
    "\n",
    "# the index finger\n",
    "- add: sphere\n",
    "  material: index-material\n",
    "  transform:\n",
    "    - [ scale, 3, 0.75, 0.75 ]\n",
    "    - [ translate, 3, 2, -22 ]\n",
    "\n",
    "# the middle finger\n",
    "- add: sphere\n",
    "  material: middle-material\n",
    "  transform:\n",
    "    - [ scale, 3, 0.75, 0.75 ]\n",
    "    - [ translate, 4, 1, -19 ]\n",
    "\n",
    "# the ring finger\n",
    "- add: sphere\n",
    "  material: ring-material\n",
    "  transform:\n",
    "    - [ scale, 3, 0.75, 0.75 ]\n",
    "    - [ translate, 4, 0, -18 ]\n",
    "\n",
    "# the pinky finger\n",
    "- add: sphere\n",
    "  material: pinky-material\n",
    "  transform:\n",
    "    - [ scale, 2.5, 0.6, 0.6 ]\n",
    "    - [ translate, 1, 0, 0 ]\n",
    "    - [ rotate-z, -0.314159265358979 ] # pi/10\n",
    "    - [ translate, 3, -1.5, -20]\n",
    "```"
   ]
  },
  {
   "cell_type": "code",
   "execution_count": 20,
   "metadata": {},
   "outputs": [
    {
     "data": {
      "text/html": [
       "<span style=\"white-space:pre; font-family: monospace\">#\n",
       "</span>"
      ]
     },
     "execution_count": 20,
     "metadata": {},
     "output_type": "execute_result"
    }
   ],
   "source": [
    ")CS #\n",
    "⎕PATH←'RayTracer'\n",
    "\n",
    "sphere_material← material\n",
    "sphere_material[RayTracer.material_ambient RayTracer.material_diffuse]← 0.2 0.8\n",
    "sphere_material[RayTracer.material_specular RayTracer.material_shininess]← 0.3 200\n",
    "wrist_material← sphere_material\n",
    "wrist_material[RayTracer.material_color]←  ⊂0.1 1 1\n",
    "palm_material← sphere_material\n",
    "palm_material[RayTracer.material_color]←   ⊂0.1 0.1 1\n",
    "thumb_material← sphere_material\n",
    "thumb_material[RayTracer.material_color]←  ⊂0.1 0.1 1\n",
    "index_material← sphere_material\n",
    "index_material[RayTracer.material_color]←  ⊂1 1 0.1\n",
    "middle_material← sphere_material\n",
    "middle_material[RayTracer.material_color]← ⊂0.1 1 0.5\n",
    "ring_material← sphere_material\n",
    "ring_material[RayTracer.material_color]←   ⊂0.1 1 0.1\n",
    "pinky_material← sphere_material\n",
    "pinky_material[RayTracer.material_color]←  ⊂0.1 0.5 1\n",
    "\n",
    "⍝ Backdrop\n",
    "s1← sphere\n",
    "m← material\n",
    "m[RayTracer.material_color RayTracer.material_ambient]← (1 1 1) 0\n",
    "m[RayTracer.material_diffuse RayTracer.material_specular]← 0.5 0\n",
    "s1[RayTracer.obj_material]← ⊂m\n",
    "⍝ s1[obj_transform]← ⊂(translation 0 0 20) +.× scaling 200 200 0.01\n",
    "s1← s1 add_shape_transform (translation 0 0 20) +.× scaling 200 200 0.01\n",
    "⍝ Wrist\n",
    "s2← sphere\n",
    "s2[RayTracer.obj_material]←  ⊂wrist_material\n",
    "⍝ s2[obj_transform]← ⊂(rotation_z ○ 0.25) +.× (translation ¯4 0 ¯21) +.× scaling 3 3 3\n",
    "s2← s2 add_shape_transform (rotation_z ○ 0.25) +.× (translation ¯4 0 ¯21) +.× scaling 3 3 3\n",
    "⍝ Palm\n",
    "s3← sphere\n",
    "s3[RayTracer.obj_material]←  ⊂palm_material\n",
    "⍝ s3[obj_transform]← ⊂(translation 0 0 ¯15) +.× scaling 4 3 3\n",
    "s3← s3 add_shape_transform (translation 0 0 ¯15) +.× scaling 4 3 3\n",
    "⍝ Thumb\n",
    "s4← sphere\n",
    "s4[RayTracer.obj_material]←  ⊂thumb_material\n",
    "⍝ s4[obj_transform]← ⊂(translation ¯2 2 ¯16) +.× scaling 1 3 1\n",
    "s4← s4 add_shape_transform (translation ¯2 2 ¯16) +.× scaling 1 3 1\n",
    "⍝ Index finger\n",
    "s5← sphere\n",
    "s5[RayTracer.obj_material]←  ⊂index_material\n",
    "⍝ s5[obj_transform]← ⊂(translation 3 2 ¯22) +.× scaling 3 0.75 0.75\n",
    "s5← s5 add_shape_transform (translation 3 2 ¯22) +.× scaling 3 0.75 0.75\n",
    "⍝ Middle finger\n",
    "s6← sphere\n",
    "s6[RayTracer.obj_material]←  ⊂middle_material\n",
    "⍝ s6[obj_transform]← ⊂(translation 4 1 ¯19) +.× scaling 3 0.75 0.75\n",
    "s6← s6 add_shape_transform (translation 4 1 ¯19) +.× scaling 3 0.75 0.75\n",
    "⍝ Ring finger\n",
    "s7← sphere\n",
    "s7[RayTracer.obj_material]←  ⊂ring_material\n",
    "⍝ s7[obj_transform]← ⊂(translation 4 0 ¯18) +.× scaling 3 0.75 0.75\n",
    "s7← s7 add_shape_transform (translation 4 0 ¯18) +.× scaling 3 0.75 0.75\n",
    "⍝ Pinky\n",
    "s8← sphere\n",
    "s8[RayTracer.obj_material]←  ⊂pinky_material\n",
    "⍝ s8[obj_transform]← ⊂(translation 3 ¯1.5 ¯20) +.× (rotation_z ○ 0.1) +.× (translation 1 0 0) +.× scaling 2.5 0.6 0.6\n",
    "s8← s8 add_shape_transform (translation 3 ¯1.5 ¯20) +.× (rotation_z ○ 0.1) +.× (translation 1 0 0) +.× scaling 2.5 0.6 0.6\n",
    "\n",
    "w← world\n",
    "w[1]← ⊂⊂ (point 0 0 ¯100) RayTracer.point_light 1 1 1\n",
    "w[2]← ⊂ s1 s2 s3 s4 s5 s6 s7 s8\n",
    "\n",
    "c← camera 400 200 0.524\n",
    "c[RayTracer.camera_transform]← ⊂ view_transform (point 40 0 ¯70) (point 0 0 ¯5) (vector 0 1 0)\n",
    "c[RayTracer.camera_inverse]← ⊂ ⌹view_transform (point 40 0 ¯70) (point 0 0 ¯5) (vector 0 1 0)"
   ]
  },
  {
   "cell_type": "code",
   "execution_count": 21,
   "metadata": {},
   "outputs": [
    {
     "data": {
      "text/html": [
       "<span style=\"white-space:pre; font-family: monospace\">19.86\n",
       "</span>"
      ]
     },
     "execution_count": 21,
     "metadata": {},
     "output_type": "execute_result"
    }
   ],
   "source": [
    "im← w render #.time c"
   ]
  },
  {
   "cell_type": "code",
   "execution_count": 22,
   "metadata": {},
   "outputs": [
    {
     "data": {
      "text/html": [
       "<span style=\"white-space:pre; font-family: monospace\">1008189\n",
       "</span>"
      ]
     },
     "execution_count": 22,
     "metadata": {},
     "output_type": "execute_result"
    }
   ],
   "source": [
    "ppm← canvas_to_ppm im\n",
    "'puppets.ppm' savePPM ppm"
   ]
  },
  {
   "cell_type": "markdown",
   "metadata": {},
   "source": [
    "Something's not quite right with the pinky (or is it?).\n",
    "\n",
    "<img src=\"puppets.gif\">"
   ]
  },
  {
   "cell_type": "markdown",
   "metadata": {},
   "source": [
    "# Chapter 9 Demo\n",
    "Use the three spheres from the chapter 7 demo and place them on a plane. For variation, add walls as well. For example, a plane rotated pi/2 about the x axis and translated a few units in the positive z direction."
   ]
  },
  {
   "cell_type": "code",
   "execution_count": 23,
   "metadata": {},
   "outputs": [
    {
     "data": {
      "text/html": [
       "<span style=\"white-space:pre; font-family: monospace\">#\n",
       "</span>"
      ]
     },
     "execution_count": 23,
     "metadata": {},
     "output_type": "execute_result"
    }
   ],
   "source": [
    ")CS #\n",
    "⎕PATH←'RayTracer'\n",
    "\n",
    "floor← plane\n",
    "⍝ m← material\n",
    "⍝ m[material_color]← ⊂1 0.9 0.9\n",
    "⍝ m[material_specular]← 0\n",
    "⍝ floor[obj_material]← ⊂m\n",
    "floor[(RayTracer.obj_material RayTracer.material_color)(RayTracer.obj_material RayTracer.material_specular)]← (1 0.9 0.9) 0\n",
    "\n",
    "middle← sphere\n",
    "⍝ middle[obj_transform]← ⊂translation ¯0.5 1 0.5\n",
    "middle← middle add_shape_transform translation ¯0.5 1 0.5\n",
    "⍝ m← material\n",
    "⍝ m[material_color]← ⊂0.1 1 0.5\n",
    "⍝ m[material_diffuse]← 0.7\n",
    "⍝ m[material_specular]← 0.3\n",
    "⍝ middle[obj_material]← ⊂m\n",
    "idx←  ⊂(RayTracer.obj_material RayTracer.material_color)\n",
    "idx,← ⊂(RayTracer.obj_material RayTracer.material_diffuse)\n",
    "idx,← ⊂(RayTracer.obj_material RayTracer.material_specular)\n",
    "middle[idx]← (0.1 1 0.5) 0.7 0.3\n",
    "\n",
    "right← sphere\n",
    "⍝ right[obj_transform]← ⊂ (translation 1.5 0.5 ¯0.5) +.× scaling 0.5 0.5 0.5\n",
    "right← right add_shape_transform (translation 1.5 0.5 ¯0.5) +.× scaling 0.5 0.5 0.5\n",
    "⍝ m← material\n",
    "⍝ m[material_color]← ⊂0.5 1 0.1\n",
    "⍝ m[material_diffuse]← 0.7\n",
    "⍝ m[material_specular]← 0.3\n",
    "⍝ right[obj_material]← ⊂m\n",
    "right[idx]← (0.5 1 0.1) 0.7 0.3\n",
    "\n",
    "left← sphere\n",
    "⍝ left[obj_transform]← ⊂ (translation ¯1.5 0.33 ¯0.75) +.× scaling 0.33 0.33 0.33\n",
    "left← left add_shape_transform (translation ¯1.5 0.33 ¯0.75) +.× scaling 0.33 0.33 0.33\n",
    "⍝ m← material\n",
    "⍝ m[material_color]← ⊂1 0.8 0.1\n",
    "⍝ m[material_diffuse]← 0.7\n",
    "⍝ m[material_specular]← 0.3\n",
    "⍝ left[obj_material]← ⊂m\n",
    "left[idx]← (1 0.8 0.1) 0.7 0.3\n",
    "\n",
    "w← world\n",
    "w[1]← ⊂⊂ (point ¯10 10 ¯10) RayTracer.point_light 1 1 1\n",
    "w[2]← ⊂  floor middle left right\n",
    "\n",
    "c← camera 400 200 (○ ÷3)\n",
    "c[RayTracer.camera_transform]← ⊂ view_transform (point 0 1.5 ¯5) (point 0 1 0) (vector 0 1 0)\n",
    "c[RayTracer.camera_inverse]← ⊂ ⌹view_transform (point 0 1.5 ¯5) (point 0 1 0) (vector 0 1 0)\n"
   ]
  },
  {
   "cell_type": "code",
   "execution_count": 24,
   "metadata": {},
   "outputs": [
    {
     "data": {
      "text/html": [
       "<span style=\"white-space:pre; font-family: monospace\">10.77\n",
       "</span>"
      ]
     },
     "execution_count": 24,
     "metadata": {},
     "output_type": "execute_result"
    }
   ],
   "source": [
    "im← w render #.time c"
   ]
  },
  {
   "cell_type": "code",
   "execution_count": 25,
   "metadata": {},
   "outputs": [
    {
     "data": {
      "text/html": [
       "<span style=\"white-space:pre; font-family: monospace\">1008189\n",
       "</span>"
      ]
     },
     "execution_count": 25,
     "metadata": {},
     "output_type": "execute_result"
    }
   ],
   "source": [
    "ppm← canvas_to_ppm im\n",
    "'Chap9.ppm' savePPM ppm"
   ]
  },
  {
   "cell_type": "markdown",
   "metadata": {},
   "source": [
    "And here is the gif version of the Chapter 9 demo using a plane. All is now fixed with the **intersect** and **normal_at** functions.\n",
    "\n",
    "<img src=\"Chap9.gif\">"
   ]
  },
  {
   "cell_type": "markdown",
   "metadata": {},
   "source": [
    "# Chapter 10 Demo\n",
    "Here's the previous scene but with patterns applied to the objects in the scene."
   ]
  },
  {
   "cell_type": "code",
   "execution_count": 26,
   "metadata": {},
   "outputs": [
    {
     "data": {
      "text/html": [
       "<span style=\"white-space:pre; font-family: monospace\">#\n",
       "</span>"
      ]
     },
     "execution_count": 26,
     "metadata": {},
     "output_type": "execute_result"
    }
   ],
   "source": [
    ")CS #\n",
    "⎕PATH←'RayTracer'\n",
    "\n",
    "floor← plane\n",
    "m← material\n",
    "⍝ m[material_color]←  ⊂1 0.9 0.9\n",
    "m[RayTracer.material_color]←  ⊂0 0 0 gradient_pattern 1 1 1 ⍝ ⊂1 0.9 0.9\n",
    "m[RayTracer.material_specular]← 0\n",
    "floor[RayTracer.obj_material]← ⊂m\n",
    "\n",
    "middle← sphere\n",
    "⍝ middle[obj_transform]← ⊂translation ¯0.5 1 0.5\n",
    "middle← middle add_shape_transform translation ¯0.5 1 0.5\n",
    "m← material\n",
    "⍝ m[material_color]← ⊂0.1 1 0.5\n",
    "p← 1 0 1 checker_pattern 0 1 0\n",
    "p← p add_pattern_transform scaling 0.1 0.1 0.1\n",
    "⍝ m[material_color]← ⊂p\n",
    "⍝ m[material_diffuse]← 0.7\n",
    "⍝ m[material_specular]← 0.3\n",
    "⍝ middle[obj_material]← ⊂m\n",
    "idx←  ⊂(RayTracer.obj_material RayTracer.material_color)\n",
    "idx,← ⊂(RayTracer.obj_material RayTracer.material_diffuse)\n",
    "idx,← ⊂(RayTracer.obj_material RayTracer.material_specular)\n",
    "middle[idx]← (p) 0.7 0.3\n",
    "\n",
    "right← sphere\n",
    "right← right add_shape_transform (translation 1.5 0.5 ¯0.5) +.× scaling 0.5 0.5 0.5\n",
    "⍝ m← material\n",
    "⍝ m[material_color]← ⊂0.5 1 0.1\n",
    "p← 0 1 0 ring_pattern 0 0 0\n",
    "p← p add_pattern_transform (rotation_x ○ 0.5) +.× scaling 0.1 0.1 0.1\n",
    "⍝ m[material_color]← ⊂p\n",
    "⍝ m[material_diffuse]← 0.7\n",
    "⍝ m[material_specular]← 0.3\n",
    "⍝ right[obj_material]← ⊂m\n",
    "right[idx]← (p) 0.7 0.3\n",
    "\n",
    "left← sphere\n",
    "left← left add_shape_transform (translation ¯1.5 0.33 ¯0.75) +.× scaling 0.33 0.33 0.33\n",
    "⍝ m← material\n",
    "⍝ m[material_color]← ⊂1 0.8 0.1\n",
    "⍝ m[material_diffuse]← 0.7\n",
    "⍝ m[material_specular]← 0.3\n",
    "⍝ left[obj_material]← ⊂m\n",
    "left[idx]← (1 0.8 0.1) 0.7 0.3\n",
    "\n",
    "w← world\n",
    "w[1]← ⊂⊂ (point ¯10 10 ¯10) RayTracer.point_light 1 1 1\n",
    "w[2]← ⊂  floor middle left right\n",
    "\n",
    "c← camera 400 200 (○ ÷3)\n",
    "c[RayTracer.camera_transform]← ⊂ view_transform (point 0 1.5 ¯5) (point 0 1 0) (vector 0 1 0)\n",
    "c[RayTracer.camera_inverse]← ⊂ ⌹view_transform (point 0 1.5 ¯5) (point 0 1 0) (vector 0 1 0)\n"
   ]
  },
  {
   "cell_type": "code",
   "execution_count": 27,
   "metadata": {},
   "outputs": [
    {
     "data": {
      "text/html": [
       "<span style=\"white-space:pre; font-family: monospace\">11.85\n",
       "</span>"
      ]
     },
     "execution_count": 27,
     "metadata": {},
     "output_type": "execute_result"
    }
   ],
   "source": [
    "im← w render #.time c"
   ]
  },
  {
   "cell_type": "code",
   "execution_count": 28,
   "metadata": {},
   "outputs": [
    {
     "data": {
      "text/html": [
       "<span style=\"white-space:pre; font-family: monospace\">1008189\n",
       "</span>"
      ]
     },
     "execution_count": 28,
     "metadata": {},
     "output_type": "execute_result"
    }
   ],
   "source": [
    "ppm← canvas_to_ppm im\n",
    "'Chap10.ppm' savePPM ppm"
   ]
  },
  {
   "cell_type": "markdown",
   "metadata": {},
   "source": [
    "The previous scene with patterns applied:\n",
    "\n",
    "<img src=\"Chap10.gif\">"
   ]
  },
  {
   "cell_type": "markdown",
   "metadata": {},
   "source": [
    "# Chapter 11 Demo\n",
    "Here's the scene from the book of two spheres above a checkered floor."
   ]
  },
  {
   "cell_type": "code",
   "execution_count": 29,
   "metadata": {},
   "outputs": [
    {
     "data": {
      "text/html": [
       "<span style=\"white-space:pre; font-family: monospace\">#\n",
       "</span>"
      ]
     },
     "execution_count": 29,
     "metadata": {},
     "output_type": "execute_result"
    }
   ],
   "source": [
    "⍝ This version assumes ray tracer code is in the RayTracer namespace\n",
    ")CS #\n",
    "⎕PATH←'RayTracer'\n",
    "floor← plane\n",
    "p← 0 0 0 checker_pattern 1 1 1\n",
    "⍝ p[RayTracer.pattern_transform]← ⊂translation 0 0.1 0\n",
    "⍝ p[RayTracer.pattern_inverse]← ⊂⌹translation 0 0.1 0\n",
    "p← p add_pattern_transform translation 0 0.1 0\n",
    "m← material\n",
    "m[RayTracer.material_pattern]← ⊂p\n",
    "floor[RayTracer.obj_material]← ⊂m\n",
    "⍝ floor[RayTracer.obj_transform]← ⊂translation 0 ¯4.1 0\n",
    "⍝ floor[RayTracer.obj_inverse]← ⊂⌹translation 0 ¯4.1 0\n",
    "floor← floor add_shape_transform translation 0 ¯4.1 0\n",
    "\n",
    "s1← sphere\n",
    "m← material\n",
    "m[RayTracer.material_diffuse RayTracer.material_shininess RayTracer.material_reflective]← 0.1 300 1.0\n",
    "m[RayTracer.material_transparency RayTracer.material_refractive]← 1 1.52\n",
    "s1[RayTracer.obj_material]← ⊂m\n",
    "\n",
    "s2← sphere\n",
    "⍝ s2[RayTracer.obj_transform]← ⊂scaling 0.5 0.5 0.5\n",
    "⍝ s2[RayTracer.obj_inverse]← ⊂⌹scaling 0.5 0.5 0.5\n",
    "s2← s2 add_shape_transform scaling 0.5 0.5 0.5\n",
    "m← material\n",
    "m[RayTracer.material_diffuse RayTracer.material_shininess RayTracer.material_reflective]← 0.1 300 1.0\n",
    "m[RayTracer.material_transparency RayTracer.material_refractive]← 1 1\n",
    "s2[RayTracer.obj_material]← ⊂m\n",
    "\n",
    "w← world\n",
    "w[1]← ⊂⊂ (point ¯10 10 ¯10) RayTracer.point_light 1 1 1\n",
    "w[2]← ⊂floor s1 s2\n",
    "\n",
    "c← camera 400 300 (○÷3)\n",
    "⍝ c[camera_transform]← ⊂view_transform (point 0.1 0 ¯10) (point 0 0 0) (vector 0 1 0)\n",
    "⍝c[camera_transform]← ⊂view_transform (point 0 1.5 ¯5) (point 0 1 0) (vector 0 1 0)\n",
    "⍝c[camera_transform]← ⊂view_transform (point 0.1 1.5 0.25) (point 0 1 0) (vector 0 1 0)\n",
    "c[RayTracer.camera_transform]← ⊂view_transform (point 0.1 1.5 ¯0.25) (point 0 1 0) (vector 0 1 0)\n",
    "c[RayTracer.camera_inverse]← ⊂⌹view_transform (point 0.1 1.5 ¯0.25) (point 0 1 0) (vector 0 1 0)"
   ]
  },
  {
   "cell_type": "code",
   "execution_count": 30,
   "metadata": {},
   "outputs": [
    {
     "data": {
      "text/html": [
       "<span style=\"white-space:pre; font-family: monospace\">01:38.50\n",
       "</span>"
      ]
     },
     "execution_count": 30,
     "metadata": {},
     "output_type": "execute_result"
    }
   ],
   "source": [
    "im← w render #.time c"
   ]
  },
  {
   "cell_type": "code",
   "execution_count": 31,
   "metadata": {},
   "outputs": [
    {
     "data": {
      "text/html": [
       "<span style=\"white-space:pre; font-family: monospace\">1512189\n",
       "</span>"
      ]
     },
     "execution_count": 31,
     "metadata": {},
     "output_type": "execute_result"
    }
   ],
   "source": [
    "ppm← canvas_to_ppm im\n",
    "'spheres.ppm' savePPM ppm"
   ]
  },
  {
   "cell_type": "markdown",
   "metadata": {},
   "source": [
    "Here's the resulting scene!\n",
    "<img src=\"spheres.jpg\">"
   ]
  },
  {
   "cell_type": "markdown",
   "metadata": {},
   "source": [
    "Here's the scene from the book, taken from the web site\n",
    "\n",
    "http://forum.raytracerchallenge.com/thread/4/reflection-refraction-scene-description"
   ]
  },
  {
   "cell_type": "markdown",
   "metadata": {},
   "source": [
    "```\n",
    "# ======================================================\n",
    "# reflect-refract.yml\n",
    "#\n",
    "# This file describes the scene illustrated at the start\n",
    "# of chapter 11, \"Reflection and Refraction\", in \"The\n",
    "# Ray Tracer Challenge\"\n",
    "#\n",
    "# by Jamis Buck <jamis@jamisbuck.org>\n",
    "# ======================================================\n",
    "\n",
    "# ======================================================\n",
    "# the camera\n",
    "# ======================================================\n",
    "\n",
    "- add: camera\n",
    "  width: 400\n",
    "  height: 200\n",
    "  field-of-view: 1.152\n",
    "  from: [-2.6, 1.5, -3.9]\n",
    "  to: [-0.6, 1, -0.8]\n",
    "  up: [0, 1, 0]\n",
    "\n",
    "# ======================================================\n",
    "# light sources\n",
    "# ======================================================\n",
    "\n",
    "- add: light\n",
    "  at: [-4.9, 4.9, -1]\n",
    "  intensity: [1, 1, 1]\n",
    "\n",
    "# ======================================================\n",
    "# define constants to avoid duplication\n",
    "# ======================================================\n",
    "\n",
    "- define: wall-material\n",
    "  value:\n",
    "    pattern:\n",
    "      type: stripes\n",
    "      colors:\n",
    "        - [0.45, 0.45, 0.45]\n",
    "        - [0.55, 0.55, 0.55]\n",
    "      transform:\n",
    "        - [ scale, 0.25, 0.25, 0.25 ]\n",
    "        - [ rotate-y, 1.5708 ]\n",
    "    ambient: 0\n",
    "    diffuse: 0.4\n",
    "    specular: 0\n",
    "    reflective: 0.3\n",
    "\n",
    "# ======================================================\n",
    "# describe the elements of the scene\n",
    "# ======================================================\n",
    "\n",
    "# the checkered floor\n",
    "- add: plane\n",
    "  transform:\n",
    "    - [ rotate-y, 0.31415 ]\n",
    "  material:\n",
    "    pattern:\n",
    "      type: checkers\n",
    "      colors:\n",
    "        - [0.35, 0.35, 0.35]\n",
    "        - [0.65, 0.65, 0.65]\n",
    "    specular: 0\n",
    "    reflective: 0.4\n",
    "\n",
    "# the ceiling\n",
    "- add: plane\n",
    "  transform:\n",
    "    - [ translate, 0, 5, 0 ]\n",
    "  material:\n",
    "    color: [0.8, 0.8, 0.8]\n",
    "    ambient: 0.3\n",
    "    specular: 0\n",
    "\n",
    "# west wall\n",
    "- add: plane\n",
    "  transform:\n",
    "    - [ rotate-y, 1.5708 ] # orient texture\n",
    "    - [ rotate-z, 1.5708 ] # rotate to vertical\n",
    "    - [ translate, -5, 0, 0 ]\n",
    "  material: wall-material\n",
    "\n",
    "# east wall\n",
    "- add: plane\n",
    "  transform:\n",
    "    - [ rotate-y, 1.5708 ] # orient texture\n",
    "    - [ rotate-z, 1.5708 ] # rotate to vertical\n",
    "    - [ translate, 5, 0, 0 ]\n",
    "  material: wall-material\n",
    "\n",
    "# north wall\n",
    "- add: plane\n",
    "  transform:\n",
    "    - [ rotate-x, 1.5708 ] # rotate to vertical\n",
    "    - [ translate, 0, 0, 5 ]\n",
    "  material: wall-material\n",
    "\n",
    "# south wall\n",
    "- add: plane\n",
    "  transform:\n",
    "    - [ rotate-x, 1.5708 ] # rotate to vertical\n",
    "    - [ translate, 0, 0, -5 ]\n",
    "  material: wall-material\n",
    "\n",
    "# ----------------------\n",
    "# background balls\n",
    "# ----------------------\n",
    "\n",
    "- add: sphere\n",
    "  transform:\n",
    "    - [ scale, 0.4, 0.4, 0.4 ]\n",
    "    - [ translate, 4.6, 0.4, 1 ]\n",
    "  material:\n",
    "    color: [0.8, 0.5, 0.3]\n",
    "    shininess: 50\n",
    "\n",
    "- add: sphere\n",
    "  transform:\n",
    "    - [ scale, 0.3, 0.3, 0.3 ]\n",
    "    - [ translate, 4.7, 0.3, 0.4 ]\n",
    "  material:\n",
    "    color: [0.9, 0.4, 0.5]\n",
    "    shininess: 50\n",
    "\n",
    "- add: sphere\n",
    "  transform:\n",
    "    - [ scale, 0.5, 0.5, 0.5 ]\n",
    "    - [ translate, -1, 0.5, 4.5 ]\n",
    "  material:\n",
    "    color: [0.4, 0.9, 0.6]\n",
    "    shininess: 50\n",
    "\n",
    "- add: sphere\n",
    "  transform:\n",
    "    - [ scale, 0.3, 0.3, 0.3 ]\n",
    "    - [ translate, -1.7, 0.3, 4.7 ]\n",
    "  material:\n",
    "    color: [0.4, 0.6, 0.9]\n",
    "    shininess: 50\n",
    "\n",
    "# ----------------------\n",
    "# foreground balls\n",
    "# ----------------------\n",
    "\n",
    "# red sphere\n",
    "- add: sphere\n",
    "  transform:\n",
    "    - [ translate, -0.6, 1, 0.6 ]\n",
    "  material:\n",
    "    color: [1, 0.3, 0.2]\n",
    "    specular: 0.4\n",
    "    shininess: 5\n",
    "\n",
    "# blue glass sphere\n",
    "- add: sphere\n",
    "  transform:\n",
    "    - [ scale, 0.7, 0.7, 0.7 ]\n",
    "    - [ translate, 0.6, 0.7, -0.6 ]\n",
    "  material:\n",
    "    color: [0, 0, 0.2]\n",
    "    ambient: 0\n",
    "    diffuse: 0.4\n",
    "    specular: 0.9\n",
    "    shininess: 300\n",
    "    reflective: 0.9\n",
    "    transparency: 0.9\n",
    "    refractive-index: 1.5\n",
    "\n",
    "# green glass sphere\n",
    "- add: sphere\n",
    "  transform:\n",
    "    - [ scale, 0.5, 0.5, 0.5 ]\n",
    "    - [ translate, -0.7, 0.5, -0.8 ]\n",
    "  material:\n",
    "    color: [0, 0.2, 0]\n",
    "    ambient: 0\n",
    "    diffuse: 0.4\n",
    "    specular: 0.9\n",
    "    shininess: 300\n",
    "    reflective: 0.9\n",
    "    transparency: 0.9\n",
    "    refractive-index: 1.5\n",
    "    ```"
   ]
  },
  {
   "cell_type": "code",
   "execution_count": 32,
   "metadata": {},
   "outputs": [
    {
     "data": {
      "text/html": [
       "<span style=\"white-space:pre; font-family: monospace\">#\n",
       "</span>"
      ]
     },
     "execution_count": 32,
     "metadata": {},
     "output_type": "execute_result"
    }
   ],
   "source": [
    ")CS #\n",
    "⎕PATH←'RayTracer'\n",
    "\n",
    "⍝ Wall material\n",
    "wm← material\n",
    "wm[RayTracer.material_ambient RayTracer.material_diffuse]← 0 0.4\n",
    "wm[RayTracer.material_specular RayTracer.material_reflective]← 0 0.3\n",
    "p← 0.45 0.45 0.45 stripe_pattern 0.55 0.55 0.55\n",
    "p← p add_pattern_transform (scaling 0.25 0.25 0.25) +.× rotation_y 1.5708\n",
    "wm[RayTracer.material_pattern]← ⊂p\n",
    "\n",
    "⍝ Checkered floor\n",
    "floor← plane\n",
    "floor← floor add_shape_transform rotation_y 0.31415\n",
    "(RayTracer.obj_material RayTracer.material_pattern⊃floor)← 0.35 0.35 0.35 checker_pattern 0.65 0.65 0.65\n",
    "(RayTracer.obj_material RayTracer.material_specular⊃floor)← 0\n",
    "(RayTracer.obj_material RayTracer.material_reflective⊃floor)← 0.4\n",
    "⍝ Ceiling\n",
    "ceiling← plane\n",
    "ceiling← ceiling add_shape_transform translation 0 5 0\n",
    "(RayTracer.obj_material RayTracer.material_color⊃ceiling)← 0.8 0.8 0.8\n",
    "(RayTracer.obj_material RayTracer.material_ambient⊃ceiling)← 0.3\n",
    "(RayTracer.obj_material RayTracer.material_specular⊃ceiling)← 0\n",
    "idx←  ⊂(RayTracer.obj_material RayTracer.material_color)\n",
    "idx,← ⊂(RayTracer.obj_material RayTracer.material_ambient)\n",
    "idx,← ⊂(RayTracer.obj_material RayTracer.material_specular)\n",
    "ceiling[idx]← (0.8 0.8 0.8) 0.3 0\n",
    "⍝ west wall\n",
    "west← plane\n",
    "west← west add_shape_transform (translation ¯5 0 0)+.×(rotation_z 1.5708)+.×rotation_y 1.5708\n",
    "west[RayTracer.obj_material]← ⊂wm\n",
    "⍝ east wall\n",
    "east← plane\n",
    "east← east add_shape_transform (translation 5 0 0)+.×(rotation_z 1.5708)+.×rotation_y 1.5708\n",
    "east[RayTracer.obj_material]← ⊂wm\n",
    "⍝ north wall\n",
    "north← plane\n",
    "north← north add_shape_transform (translation 0 0 5)+.×rotation_x 1.5708\n",
    "north[RayTracer.obj_material]← ⊂wm\n",
    "⍝ south wall\n",
    "south← plane\n",
    "south← south add_shape_transform (translation 0 0 ¯5)+.×rotation_x 1.5708\n",
    "south[RayTracer.obj_material]← ⊂wm\n",
    "\n",
    "⍝ background balls\n",
    "ball1← sphere\n",
    "ball1← ball1 add_shape_transform (translation 4.6 0.4 1) +.× scaling 0.4 0.4 0.4\n",
    "(RayTracer.obj_material RayTracer.material_color⊃ball1)←0.8 0.5 0.3\n",
    "(RayTracer.obj_material RayTracer.material_shininess⊃ball1)←50\n",
    "\n",
    "ball2← sphere\n",
    "ball2← ball2 add_shape_transform (translation 4.7 0.3 0.4) +.× scaling 0.3 0.3 0.3\n",
    "(RayTracer.obj_material RayTracer.material_color⊃ball2)←0.9 0.4 0.5\n",
    "(RayTracer.obj_material RayTracer.material_shininess⊃ball2)←50\n",
    "\n",
    "ball3← sphere\n",
    "ball3← ball3 add_shape_transform (translation ¯1 0.5 4.5) +.× scaling 0.5 0.5 0.5\n",
    "(RayTracer.obj_material RayTracer.material_color⊃ball3)←0.4 0.9 0.6\n",
    "(RayTracer.obj_material RayTracer.material_shininess⊃ball3)←50\n",
    "\n",
    "ball4← sphere\n",
    "ball4← ball4 add_shape_transform (translation ¯1.7 0.3 4.7) +.× scaling 0.3 0.3 0.3\n",
    "(RayTracer.obj_material RayTracer.material_color⊃ball4)←0.4 0.6 0.9\n",
    "(RayTracer.obj_material RayTracer.material_shininess⊃ball4)←50\n",
    "\n",
    "⍝ Foreground balls\n",
    "redb← sphere\n",
    "redb← redb add_shape_transform translation ¯0.6 1 0.6\n",
    "(RayTracer.obj_material RayTracer.material_color⊃redb)← 1 0.3 0.2\n",
    "(RayTracer.obj_material RayTracer.material_specular⊃redb)← 0.4\n",
    "(RayTracer.obj_material RayTracer.material_shininess⊃redb)← 5\n",
    "\n",
    "blueb← sphere\n",
    "blueb← blueb add_shape_transform (translation 0.6 0.7 ¯0.6) +.× scaling 0.7 0.7 0.7\n",
    "m← material\n",
    "m[RayTracer.material_color]← ⊂0 0 0.2\n",
    "m[RayTracer.material_ambient RayTracer.material_diffuse RayTracer.material_specular]← 0 0.4 0.9\n",
    "m[RayTracer.material_shininess RayTracer.material_reflective]← 300 0.9\n",
    "m[RayTracer.material_transparency RayTracer.material_refractive]← 0.9 1.5\n",
    "⍝m[material_shininess material_reflective material_transparency material_refractive]← 300 0 0.9 1.5\n",
    "blueb[RayTracer.obj_material]←⊂m\n",
    "\n",
    "greenb← sphere\n",
    "greenb← greenb add_shape_transform (translation ¯0.7 0.5 ¯0.8) +.× scaling 0.5 0.5 0.5\n",
    "m← material\n",
    "m[RayTracer.material_color]← ⊂0 0.2 0\n",
    "m[RayTracer.material_ambient RayTracer.material_diffuse RayTracer.material_specular]← 0 0.4 0.9\n",
    "m[RayTracer.material_shininess RayTracer.material_reflective]← 300 0.9\n",
    "m[RayTracer.material_transparency RayTracer.material_refractive]← 0.9 1.5\n",
    "⍝m[material_shininess material_reflective material_transparency material_refractive]← 300 0 0.9 1.5\n",
    "greenb[RayTracer.obj_material]←⊂m\n"
   ]
  },
  {
   "cell_type": "code",
   "execution_count": 33,
   "metadata": {},
   "outputs": [],
   "source": [
    "w← world\n",
    "w[1]← ⊂⊂ (point ¯4.9 4.9 ¯1) RayTracer.point_light 1 1 1\n",
    "w[2]← ⊂  floor west east north south ball1 ball2 ball3 ball4 redb blueb greenb\n",
    "\n",
    "c← camera 800 600 1.152\n",
    "c[RayTracer.camera_transform]← ⊂ view_transform (point ¯2.6 1.5 ¯3.9) (point ¯0.6 1 ¯0.8) (vector 0 1 0)\n",
    "c[RayTracer.camera_inverse]← ⊂ ⌹view_transform (point ¯2.6 1.5 ¯3.9) (point ¯0.6 1 ¯0.8) (vector 0 1 0)\n"
   ]
  },
  {
   "cell_type": "code",
   "execution_count": 34,
   "metadata": {},
   "outputs": [
    {
     "data": {
      "text/html": [
       "<span style=\"white-space:pre; font-family: monospace\">17:50.49\n",
       "</span>"
      ]
     },
     "execution_count": 34,
     "metadata": {},
     "output_type": "execute_result"
    }
   ],
   "source": [
    "im← w render #.time c"
   ]
  },
  {
   "cell_type": "code",
   "execution_count": 35,
   "metadata": {},
   "outputs": [
    {
     "data": {
      "text/html": [
       "<span style=\"white-space:pre; font-family: monospace\">6048189\n",
       "</span>"
      ]
     },
     "execution_count": 35,
     "metadata": {},
     "output_type": "execute_result"
    }
   ],
   "source": [
    "ppm← canvas_to_ppm im\n",
    "'Chap11.ppm' savePPM ppm"
   ]
  },
  {
   "cell_type": "markdown",
   "metadata": {},
   "source": [
    "Shazzam! Looks really good!\n",
    "\n",
    "<img src=\"Chap11.jpg\">"
   ]
  },
  {
   "cell_type": "markdown",
   "metadata": {},
   "source": [
    "# Chapter 12 Demo\n",
    "Here's a scene using the new shape Cube."
   ]
  },
  {
   "cell_type": "code",
   "execution_count": 36,
   "metadata": {},
   "outputs": [
    {
     "data": {
      "text/html": [
       "<span style=\"white-space:pre; font-family: monospace\">#\n",
       "</span>"
      ]
     },
     "execution_count": 36,
     "metadata": {},
     "output_type": "execute_result"
    }
   ],
   "source": [
    ")CS #\n",
    "⎕PATH← '#.RayTracer'\n",
    "floor← plane\n",
    "m← material\n",
    "⍝ m[material_color]←  ⊂1 0.9 0.9\n",
    "p← 0 1 0.7 gradient_pattern 1 0.2 0.3\n",
    "idx←  ⊂(RayTracer.obj_material RayTracer.material_color)\n",
    "idx,← ⊂(RayTracer.obj_material RayTracer.material_specular)\n",
    "idx,← ⊂(RayTracer.obj_material RayTracer.material_reflective)\n",
    "floor[idx]← (p) 0 0.9\n",
    "\n",
    "middle← cube\n",
    "⍝ middle[obj_transform]← ⊂(rotation_y ○ 0.25) +.× translation ¯0.5 1 1\n",
    "middle← middle add_shape_transform (rotation_y ○ 0.25) +.× translation ¯0.5 1 1\n",
    "m← material\n",
    "⍝ m[material_color]← ⊂0.1 1 0.5\n",
    "p← 1 0 1 checker_pattern 0 1 0\n",
    "⍝ p[pattern_transform]← ⊂scaling 0.1 0.1 0.1\n",
    "p← p add_pattern_transform scaling 0.1 0.1 0.1\n",
    "⍝ m[material_color]← ⊂p\n",
    "⍝ m[material_diffuse]← 0.7\n",
    "⍝ m[material_specular]← 0.3\n",
    "⍝ middle[obj_material]← ⊂m\n",
    "idx←  ⊂(RayTracer.obj_material RayTracer.material_color)\n",
    "idx,← ⊂(RayTracer.obj_material RayTracer.material_diffuse)\n",
    "idx,← ⊂(RayTracer.obj_material RayTracer.material_specular)\n",
    "middle[idx]← (p) 0.7 0.3\n",
    "\n",
    "right← cube\n",
    "⍝ right[obj_transform]← ⊂ (translation 1.5 0.5 ¯0.5) +.× scaling 0.5 0.5 0.5\n",
    "right← right add_shape_transform (translation 1.5 0.5 ¯0.5) +.× scaling 0.5 0.5 0.5\n",
    "m← material\n",
    "⍝ m[material_color]← ⊂0.5 1 0.1\n",
    "⍝ p← 0 1 0 ring_pattern 0 0 0\n",
    "⍝ p[pattern_transform]← ⊂(rotation_x ○ 0.5) +.× scaling 0.1 0.1 0.1\n",
    "⍝ m[material_color]← ⊂p\n",
    "m[RayTracer.material_color]← ⊂1 1 1 ⍝⊂0.3 0 0\n",
    "m[RayTracer.material_ambient RayTracer.material_diffuse RayTracer.material_specular]← 0.1 0.9 0.9\n",
    "m[RayTracer.material_shininess RayTracer.material_reflective]← 200 0.9\n",
    "m[RayTracer.material_transparency RayTracer.material_refractive]← 1 1.5\n",
    "right[RayTracer.obj_material]← ⊂m\n",
    "\n",
    "left← cube\n",
    "⍝ left[obj_transform]← ⊂ (translation ¯1.5 0.33 ¯0.75) +.× scaling 0.33 0.33 0.33\n",
    "left← left add_shape_transform (translation ¯1.5 0.33 ¯0.75) +.× scaling 0.33 0.33 0.33\n",
    "m← material\n",
    "⍝ m[material_color]← ⊂1 0.8 0.1\n",
    "p← 0 1 0 ring_pattern 0 0 0\n",
    "⍝ p[pattern_transform]← ⊂(rotation_x ○ 0.5) +.× scaling 0.1 0.1 0.1\n",
    "p← p add_pattern_transform (rotation_x ○ 0.5) +.× scaling 0.1 0.1 0.1\n",
    "m[RayTracer.material_color]← ⊂p\n",
    "m[RayTracer.material_diffuse]← 0.7\n",
    "m[RayTracer.material_specular]← 0.3\n",
    "left[RayTracer.obj_material]← ⊂m\n",
    "\n",
    "w← world\n",
    "w[1]← ⊂⊂ (point ¯10 10 ¯10) RayTracer.point_light 1 1 1\n",
    "w[2]← ⊂  floor middle left right\n",
    "\n",
    "c← camera 800 600 (○ ÷3)\n",
    "c[RayTracer.camera_transform]← ⊂ view_transform (point 0 1.5 ¯5) (point 0 1 0) (vector 0 1 0)\n",
    "c[RayTracer.camera_inverse]← ⊂ ⌹view_transform (point 0 1.5 ¯5) (point 0 1 0) (vector 0 1 0)\n"
   ]
  },
  {
   "cell_type": "code",
   "execution_count": 37,
   "metadata": {},
   "outputs": [
    {
     "data": {
      "text/html": [
       "<span style=\"white-space:pre; font-family: monospace\">03:23.54\n",
       "</span>"
      ]
     },
     "execution_count": 37,
     "metadata": {},
     "output_type": "execute_result"
    }
   ],
   "source": [
    "⍝ im← w render c\n",
    "im← w render #.time c"
   ]
  },
  {
   "cell_type": "code",
   "execution_count": 38,
   "metadata": {},
   "outputs": [
    {
     "data": {
      "text/html": [
       "<span style=\"white-space:pre; font-family: monospace\">6048189\n",
       "</span>"
      ]
     },
     "execution_count": 38,
     "metadata": {},
     "output_type": "execute_result"
    }
   ],
   "source": [
    "ppm← canvas_to_ppm im\n",
    "'Chap12.ppm' savePPM ppm"
   ]
  },
  {
   "cell_type": "markdown",
   "metadata": {},
   "source": [
    "Nifty!\n",
    "\n",
    "<img src=\"Chap12.gif\">"
   ]
  },
  {
   "cell_type": "markdown",
   "metadata": {},
   "source": [
    "# Chapter 13 Demo\n",
    "Adding cylinders and cones."
   ]
  },
  {
   "cell_type": "code",
   "execution_count": 39,
   "metadata": {},
   "outputs": [
    {
     "data": {
      "text/html": [
       "<span style=\"white-space:pre; font-family: monospace\">#\n",
       "</span>"
      ]
     },
     "execution_count": 39,
     "metadata": {},
     "output_type": "execute_result"
    }
   ],
   "source": [
    ")CS #\n",
    "⎕PATH← '#.RayTracer'\n",
    "TRUE← 1\n",
    "floor← plane\n",
    "m← material\n",
    "m[RayTracer.material_color]←  ⊂1 0.9 0.9\n",
    "⍝ m[material_color]←  ⊂0 0 0 gradient_pattern 1 1 1 ⍝ ⊂1 0.9 0.9\n",
    "m[RayTracer.material_specular]← 0\n",
    "m[RayTracer.material_reflective]← 0.9\n",
    "floor[RayTracer.obj_material]← ⊂m\n",
    "\n",
    "middle← cylinder\n",
    "middle[RayTracer.cylinder_minimum RayTracer.cylinder_maximum RayTracer.cylinder_closed]← 0 1 TRUE\n",
    "⍝ middle[obj_transform]← ⊂translation ¯0.5 1 0.5\n",
    "middle← middle add_shape_transform translation ¯0.5 1 0.5\n",
    "m← material\n",
    "⍝ m[material_color]← ⊂0.1 1 0.5\n",
    "p← 1 0 1 checker_pattern 0 1 0\n",
    "⍝ p[pattern_transform]← ⊂scaling 0.1 0.1 0.1\n",
    "p← p add_pattern_transform scaling 0.1 0.1 0.1\n",
    "m[RayTracer.material_color]← ⊂p\n",
    "m[RayTracer.material_diffuse]← 0.7\n",
    "m[RayTracer.material_specular]← 0.3\n",
    "middle[RayTracer.obj_material]← ⊂m\n",
    "\n",
    "right← cylinder\n",
    "right[RayTracer.cylinder_minimum RayTracer.cylinder_maximum RayTracer.cylinder_closed]← 1 2 TRUE\n",
    "⍝ right[obj_transform]← ⊂ (rotation_x ○ 0.5) +.× (translation 1.5 0.5 ¯0.5) +.× scaling 0.5 0.5 0.5\n",
    "right← right add_shape_transform (rotation_x ○ 0.5) +.× (translation 1.5 0.5 ¯0.5) +.× scaling 0.5 0.5 0.5\n",
    "m← material\n",
    "⍝ m[material_color]← ⊂0.5 1 0.1\n",
    "p← 0 1 0 ring_pattern 0 0 0\n",
    "⍝ p[pattern_transform]← ⊂(rotation_x ○ 0.25) +.× scaling 0.1 0.1 0.1\n",
    "p← p add_pattern_transform (rotation_x ○ 0.25) +.× scaling 0.1 0.1 0.1\n",
    "m[RayTracer.material_color]← ⊂p\n",
    "m[RayTracer.material_diffuse RayTracer.material_specular RayTracer.material_reflective]← 0.7 0.3 0.5\n",
    "right[RayTracer.obj_material]← ⊂m\n",
    "\n",
    "left← cone\n",
    "left[RayTracer.cone_minimum RayTracer.cone_maximum RayTracer.cone_closed]← ¯1 1 TRUE\n",
    "⍝ left[obj_transform]← ⊂ (translation ¯1.5 0.75 ¯0.75) +.× scaling 0.33 0.33 0.33\n",
    "left← left add_shape_transform (translation ¯1.5 0.75 ¯0.75) +.× scaling 0.33 0.33 0.33\n",
    "m← material\n",
    "m[RayTracer.material_color RayTracer.material_diffuse RayTracer.material_specular]← (1 0.8 0.1) 0.7 0.3\n",
    "left[RayTracer.obj_material]← ⊂m\n",
    "\n",
    "w← world\n",
    "w[1]← ⊂⊂ (point ¯10 10 ¯10) RayTracer.point_light 1 1 1\n",
    "w[2]← ⊂  floor middle left right\n",
    "\n",
    "c← camera 400 200 (○ ÷3)\n",
    "c[RayTracer.camera_transform]← ⊂ view_transform (point 0 1.5 ¯5) (point 0 1 0) (vector 0 1 0)\n",
    "c[RayTracer.camera_inverse]← ⊂ ⌹view_transform (point 0 1.5 ¯5) (point 0 1 0) (vector 0 1 0)\n"
   ]
  },
  {
   "cell_type": "code",
   "execution_count": 40,
   "metadata": {},
   "outputs": [
    {
     "data": {
      "text/html": [
       "<span style=\"white-space:pre; font-family: monospace\">21.39\n",
       "</span>"
      ]
     },
     "execution_count": 40,
     "metadata": {},
     "output_type": "execute_result"
    }
   ],
   "source": [
    "im← w render #.time c"
   ]
  },
  {
   "cell_type": "code",
   "execution_count": 41,
   "metadata": {},
   "outputs": [
    {
     "data": {
      "text/html": [
       "<span style=\"white-space:pre; font-family: monospace\">1008189\n",
       "</span>"
      ]
     },
     "execution_count": 41,
     "metadata": {},
     "output_type": "execute_result"
    }
   ],
   "source": [
    "ppm← canvas_to_ppm im\n",
    "'Chap13.ppm' savePPM ppm"
   ]
  },
  {
   "cell_type": "markdown",
   "metadata": {},
   "source": [
    "And the result looks like\n",
    "\n",
    "<img src=\"Chap13.gif\">"
   ]
  },
  {
   "cell_type": "markdown",
   "metadata": {},
   "source": [
    "Here's the demo code from the authors web site\n",
    "\n",
    "http://forum.raytracerchallenge.com/thread/7/cylinders-scene-description\n",
    "\n",
    "```\n",
    "# ======================================================\n",
    "# cylinders.yml\n",
    "#\n",
    "# This file describes the scene illustrated at the start\n",
    "# of chapter 13, \"Cylinders\", in \"The Ray Tracer\n",
    "# Challenge\"\n",
    "#\n",
    "# by Jamis Buck <jamis@jamisbuck.org>\n",
    "# ======================================================\n",
    "\n",
    "# ======================================================\n",
    "# the camera\n",
    "# ======================================================\n",
    "\n",
    "- add: camera\n",
    "  width: 400\n",
    "  height: 200\n",
    "  field-of-view: 0.314\n",
    "  from: [8, 3.5, -9]\n",
    "  to: [0, 0.3, 0]\n",
    "  up: [0, 1, 0]\n",
    "\n",
    "# ======================================================\n",
    "# light sources\n",
    "# ======================================================\n",
    "\n",
    "- add: light\n",
    "  at: [1, 6.9, -4.9]\n",
    "  intensity: [1, 1, 1]\n",
    "\n",
    "# ======================================================\n",
    "# describe the elements of the scene\n",
    "# ======================================================\n",
    "\n",
    "# floor\n",
    "- add: plane\n",
    "  material:\n",
    "    pattern:\n",
    "      type: checkers\n",
    "      colors:\n",
    "        - [0.5, 0.5, 0.5]\n",
    "        - [0.75, 0.75, 0.75]\n",
    "      transform:\n",
    "        - [ scale, 0.25, 0.25, 0.25 ]\n",
    "        - [ rotate-y, 0.3 ]\n",
    "    ambient: 0.2\n",
    "    diffuse: 0.9\n",
    "    specular: 0\n",
    "\n",
    "- add: cylinder\n",
    "  min: 0\n",
    "  max: 0.75\n",
    "  closed: true\n",
    "  transform:\n",
    "    - [ scale, 0.5, 1, 0.5 ]\n",
    "    - [ translate, -1, 0, 1 ]\n",
    "  material:\n",
    "    color: [0, 0, 0.6]\n",
    "    diffuse: 0.1\n",
    "    specular: 0.9\n",
    "    shininess: 300\n",
    "    reflective: 0.9\n",
    "\n",
    "# concentric cylinders\n",
    "\n",
    "- add: cylinder\n",
    "  min: 0\n",
    "  max: 0.2\n",
    "  closed: false\n",
    "  transform:\n",
    "    - [ scale, 0.8, 1, 0.8 ]\n",
    "    - [ translate, 1, 0, 0 ]\n",
    "  material:\n",
    "    color: [1, 1, 0.3]\n",
    "    ambient: 0.1\n",
    "    diffuse: 0.8\n",
    "    specular: 0.9\n",
    "    shininess: 300\n",
    "\n",
    "- add: cylinder\n",
    "  min: 0\n",
    "  max: 0.3\n",
    "  closed: false\n",
    "  transform:\n",
    "    - [ scale, 0.6, 1, 0.6 ]\n",
    "    - [ translate, 1, 0, 0 ]\n",
    "  material:\n",
    "    color: [1, 0.9, 0.4]\n",
    "    ambient: 0.1\n",
    "    diffuse: 0.8\n",
    "    specular: 0.9\n",
    "    shininess: 300\n",
    "\n",
    "- add: cylinder\n",
    "  min: 0\n",
    "  max: 0.4\n",
    "  closed: false\n",
    "  transform:\n",
    "    - [ scale, 0.4, 1, 0.4 ]\n",
    "    - [ translate, 1, 0, 0 ]\n",
    "  material:\n",
    "    color: [1, 0.8, 0.5]\n",
    "    ambient: 0.1\n",
    "    diffuse: 0.8\n",
    "    specular: 0.9\n",
    "    shininess: 300\n",
    "\n",
    "- add: cylinder\n",
    "  min: 0\n",
    "  max: 0.5\n",
    "  closed: true\n",
    "  transform:\n",
    "    - [ scale, 0.2, 1, 0.2 ]\n",
    "    - [ translate, 1, 0, 0 ]\n",
    "  material:\n",
    "    color: [1, 0.7, 0.6]\n",
    "    ambient: 0.1\n",
    "    diffuse: 0.8\n",
    "    specular: 0.9\n",
    "    shininess: 300\n",
    "\n",
    "# decorative cylinders\n",
    "- add: cylinder\n",
    "  min: 0\n",
    "  max: 0.3\n",
    "  closed: true\n",
    "  transform:\n",
    "    - [ scale, 0.05, 1, 0.05 ]\n",
    "    - [ translate, 0, 0, -0.75 ]\n",
    "  material:\n",
    "    color: [1, 0, 0]\n",
    "    ambient: 0.1\n",
    "    diffuse: 0.9\n",
    "    specular: 0.9\n",
    "    shininess: 300\n",
    "\n",
    "- add: cylinder\n",
    "  min: 0\n",
    "  max: 0.3\n",
    "  closed: true\n",
    "  transform:\n",
    "    - [ scale, 0.05, 1, 0.05 ]\n",
    "    - [ translate, 0, 0, 1.5 ]\n",
    "    - [ rotate-y, -0.15 ]\n",
    "    - [ translate, 0, 0, -2.25 ]\n",
    "  material:\n",
    "    color: [1, 1, 0]\n",
    "    ambient: 0.1\n",
    "    diffuse: 0.9\n",
    "    specular: 0.9\n",
    "    shininess: 300\n",
    "\n",
    "- add: cylinder\n",
    "  min: 0\n",
    "  max: 0.3\n",
    "  closed: true\n",
    "  transform:\n",
    "    - [ scale, 0.05, 1, 0.05 ]\n",
    "    - [ translate, 0, 0, 1.5 ]\n",
    "    - [ rotate-y, -0.3 ]\n",
    "    - [ translate, 0, 0, -2.25 ]\n",
    "  material:\n",
    "    color: [0, 1, 0]\n",
    "    ambient: 0.1\n",
    "    diffuse: 0.9\n",
    "    specular: 0.9\n",
    "    shininess: 300\n",
    "\n",
    "- add: cylinder\n",
    "  min: 0\n",
    "  max: 0.3\n",
    "  closed: true\n",
    "  transform:\n",
    "    - [ scale, 0.05, 1, 0.05 ]\n",
    "    - [ translate, 0, 0, 1.5 ]\n",
    "    - [ rotate-y, -0.45 ]\n",
    "    - [ translate, 0, 0, -2.25 ]\n",
    "  material:\n",
    "    color: [0, 1, 1]\n",
    "    ambient: 0.1\n",
    "    diffuse: 0.9\n",
    "    specular: 0.9\n",
    "    shininess: 300\n",
    "\n",
    "# glass cylinder\n",
    "- add: cylinder\n",
    "  min: 0.0001\n",
    "  max: 0.5\n",
    "  closed: true\n",
    "  transform:\n",
    "    - [ scale, 0.33, 1, 0.33 ]\n",
    "    - [ translate, 0, 0, -1.5 ]\n",
    "  material:\n",
    "    color: [0.25, 0, 0]\n",
    "    diffuse: 0.1\n",
    "    specular: 0.9\n",
    "    shininess: 300\n",
    "    reflective: 0.9\n",
    "    transparency: 0.9\n",
    "    refractive-index: 1.5\n",
    "```"
   ]
  },
  {
   "cell_type": "code",
   "execution_count": 42,
   "metadata": {},
   "outputs": [
    {
     "data": {
      "text/html": [
       "<span style=\"white-space:pre; font-family: monospace\">#\n",
       "</span>"
      ]
     },
     "execution_count": 42,
     "metadata": {},
     "output_type": "execute_result"
    }
   ],
   "source": [
    ")CS #\n",
    "⎕PATH← '#.RayTracer'\n"
   ]
  },
  {
   "cell_type": "markdown",
   "metadata": {},
   "source": [
    "# Chapter 14 Demo\n",
    "Here's a simple example of grouping shapes together and applying a group transform to all. I've implemented groups differently that what the book author proposed. The key is to apply the **flatten_group** function to groups before adding them to a world scene. This way the group transform is precomputed rather than computed with each ray being cast."
   ]
  },
  {
   "cell_type": "code",
   "execution_count": 43,
   "metadata": {},
   "outputs": [
    {
     "data": {
      "text/html": [
       "<span style=\"white-space:pre; font-family: monospace\">#\n",
       "</span>"
      ]
     },
     "execution_count": 43,
     "metadata": {},
     "output_type": "execute_result"
    }
   ],
   "source": [
    ")CS #\n",
    "⎕PATH← '#.RayTracer'\n",
    "\n",
    "floor← plane\n",
    "m← material\n",
    "m[RayTracer.material_color RayTracer.material_specular RayTracer.material_reflective]←  (1 0.9 0.9) 0 0.9\n",
    "⍝ m[material_specular]← 0\n",
    "⍝ m[material_reflective]← 0.9\n",
    "floor[RayTracer.obj_material]← ⊂m\n",
    "\n",
    "middle← cube\n",
    "⍝ middle[obj_transform]← ⊂translation ¯0.5 1 1\n",
    "middle← middle add_shape_transform translation ¯0.5 1 1\n",
    "m← material\n",
    "m[RayTracer.material_color RayTracer.material_diffuse RayTracer.material_specular]← (0.1 1 0.5) 0.7 0.3\n",
    "⍝ p← 1 0 1 checker_pattern 0 1 0\n",
    "⍝ p[pattern_transform]← ⊂scaling 0.1 0.1 0.1\n",
    "⍝ m[material_color]← ⊂p\n",
    "⍝ m[material_diffuse]← 0.7\n",
    "⍝ m[material_specular]← 0.3\n",
    "middle[RayTracer.obj_material]← ⊂m\n",
    "\n",
    "right← cube\n",
    "⍝ right[obj_transform]← ⊂ (translation 1.5 0.5 ¯0.5) +.× scaling 0.5 0.5 0.5\n",
    "right← right add_shape_transform (translation 1.5 0.5 ¯0.5) +.× scaling 0.5 0.5 0.5\n",
    "m← material\n",
    "⍝ p← 0 1 0 ring_pattern 0 0 0\n",
    "⍝ p[pattern_transform]← ⊂(rotation_x ○ 0.5) +.× scaling 0.1 0.1 0.1\n",
    "⍝ m[material_color]← ⊂p\n",
    "m[RayTracer.material_color RayTracer.material_diffuse]← (0.5 1 0.1) 0.7\n",
    "m[RayTracer.material_specular RayTracer.material_reflective]← 0.3 0.5\n",
    "⍝ m[material_diffuse]← 0.7\n",
    "⍝ m[material_specular]← 0.3\n",
    "⍝ m[material_reflective]← 0.5\n",
    "right[RayTracer.obj_material]← ⊂m\n",
    "\n",
    "left← cube\n",
    "⍝ left[obj_transform]← ⊂ (translation ¯1.5 0.33 ¯0.75) +.× scaling 0.33 0.33 0.33\n",
    "left← left add_shape_transform (translation ¯1.5 0.33 ¯0.75) +.× scaling 0.33 0.33 0.33\n",
    "m← material\n",
    "m[RayTracer.material_color RayTracer.material_diffuse RayTracer.material_specular]← (1 0.8 0.1) 0.7 0.3\n",
    "⍝ m[material_diffuse]← 0.7\n",
    "⍝ m[material_specular]← 0.3\n",
    "left[RayTracer.obj_material]← ⊂m\n",
    "\n",
    "g← group\n",
    "⍝ g[obj_transform]← ⊂rotation_y ○ 0.25\n",
    "g← g add_shape_transform rotation_y ○ 0.25\n",
    "g[RayTracer.group_members],← ⊂⊂left\n",
    "g[RayTracer.group_members],← ⊂⊂middle\n",
    "g[RayTracer.group_members],← ⊂⊂right\n",
    "\n",
    "w← world\n",
    "w[1]← ⊂⊂ (point ¯10 10 ¯10) RayTracer.point_light 1 1 1\n",
    "w[2],← ⊂⊂  floor\n",
    "w[2],← ⊂ g flatten_group identity4\n",
    "⍝w\n",
    "\n",
    "c← camera 400 200 (○ ÷3)\n",
    "c[RayTracer.camera_transform]← ⊂ view_transform (point 0 1.5 ¯5) (point 0 1 0) (vector 0 1 0)\n",
    "c[RayTracer.camera_inverse]← ⊂ ⌹view_transform (point 0 1.5 ¯5) (point 0 1 0) (vector 0 1 0)\n"
   ]
  },
  {
   "cell_type": "code",
   "execution_count": 44,
   "metadata": {},
   "outputs": [
    {
     "data": {
      "text/html": [
       "<span style=\"white-space:pre; font-family: monospace\">19.19\n",
       "</span>"
      ]
     },
     "execution_count": 44,
     "metadata": {},
     "output_type": "execute_result"
    }
   ],
   "source": [
    "im← w render #.time c"
   ]
  },
  {
   "cell_type": "code",
   "execution_count": 45,
   "metadata": {},
   "outputs": [
    {
     "data": {
      "text/html": [
       "<span style=\"white-space:pre; font-family: monospace\">1008189\n",
       "</span>"
      ]
     },
     "execution_count": 45,
     "metadata": {},
     "output_type": "execute_result"
    }
   ],
   "source": [
    "ppm← canvas_to_ppm im\n",
    "'Chap14.ppm' savePPM ppm"
   ]
  },
  {
   "cell_type": "markdown",
   "metadata": {},
   "source": [
    "Here's the result!\n",
    "<img src=\"Chap14.gif\">"
   ]
  }
 ],
 "metadata": {
  "kernelspec": {
   "display_name": "Dyalog APL",
   "language": "apl",
   "name": "dyalog-kernel"
  },
  "language_info": {
   "file_extension": ".apl",
   "mimetype": "text/apl",
   "name": "APL"
  }
 },
 "nbformat": 4,
 "nbformat_minor": 2
}
